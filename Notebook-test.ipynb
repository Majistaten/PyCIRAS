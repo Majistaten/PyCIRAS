{
 "cells": [
  {
   "cell_type": "code",
   "execution_count": 1,
   "id": "5d8d97b9-8ba6-4576-af21-8dce278d4362",
   "metadata": {},
   "outputs": [],
   "source": [
    "from github_metric_extractor import repository_downloader"
   ]
  },
  {
   "cell_type": "code",
   "execution_count": 6,
   "id": "88e11b0e-c074-4937-a1fd-2e1bbff4c4e7",
   "metadata": {},
   "outputs": [],
   "source": [
    "import logging"
   ]
  },
  {
   "cell_type": "code",
   "execution_count": 8,
   "id": "5084225a-c9a5-4277-8da3-0f7bc2053037",
   "metadata": {},
   "outputs": [],
   "source": [
    "logging.basicConfig(level=logging.INFO, format='%(asctime)s - %(levelname)s - %(message)s')"
   ]
  },
  {
   "cell_type": "code",
   "execution_count": 9,
   "id": "ef20574b-21fa-4eff-bd16-f7d07aba575a",
   "metadata": {},
   "outputs": [
    {
     "name": "stderr",
     "output_type": "stream",
     "text": [
      "WARNING:root:Path (./korvstroganoff) did not exist, creating path.\n",
      "100%|███████████████████████████████████████████████████████████| 40.0/40.0 [00:00<00:00, 64.73it/s]\n"
     ]
    },
    {
     "data": {
      "text/plain": [
       "True"
      ]
     },
     "execution_count": 9,
     "metadata": {},
     "output_type": "execute_result"
    }
   ],
   "source": [
    "repository_downloader.clone_repository('https://github.com/SoftSec-KAIST/Ankou', './korvstroganoff')"
   ]
  },
  {
   "cell_type": "code",
   "execution_count": null,
   "id": "05919aee-f1e6-4c08-8d1d-a04f55b08aec",
   "metadata": {},
   "outputs": [],
   "source": []
  }
 ],
 "metadata": {
  "kernelspec": {
   "display_name": "Python 3 (ipykernel)",
   "language": "python",
   "name": "python3"
  },
  "language_info": {
   "codemirror_mode": {
    "name": "ipython",
    "version": 3
   },
   "file_extension": ".py",
   "mimetype": "text/x-python",
   "name": "python",
   "nbconvert_exporter": "python",
   "pygments_lexer": "ipython3",
   "version": "3.11.4"
  }
 },
 "nbformat": 4,
 "nbformat_minor": 5
}
