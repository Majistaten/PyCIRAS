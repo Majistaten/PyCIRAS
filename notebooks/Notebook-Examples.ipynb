{
 "cells": [
  {
   "cell_type": "markdown",
   "id": "22d8c9de-2e12-4a45-89cb-e60c8ac5dc6a",
   "metadata": {},
   "source": [
    "# Jupyter Examples"
   ]
  },
  {
   "cell_type": "markdown",
   "id": "80678722-aaf6-4631-9e42-46f827355e6d",
   "metadata": {},
   "source": [
    "## TODO - make examples"
   ]
  }
 ],
 "metadata": {
  "kernelspec": {
   "display_name": "Python 3 (ipykernel)",
   "language": "python",
   "name": "python3"
  },
  "language_info": {
   "codemirror_mode": {
    "name": "ipython",
    "version": 3
   },
   "file_extension": ".py",
   "mimetype": "text/x-python",
   "name": "python",
   "nbconvert_exporter": "python",
   "pygments_lexer": "ipython3",
   "version": "3.11.4"
  }
 },
 "nbformat": 4,
 "nbformat_minor": 5
}
