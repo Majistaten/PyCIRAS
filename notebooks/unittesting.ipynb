{
 "cells": [
  {
   "cell_type": "code",
   "execution_count": 1,
   "id": "e2e9ea40-a6ac-4d8a-89a7-5c38bbc0357b",
   "metadata": {},
   "outputs": [],
   "source": [
    "import setup_notebook_environment"
   ]
  },
  {
   "cell_type": "code",
   "execution_count": 2,
   "id": "305771e2-191c-45ee-a290-770010b8d536",
   "metadata": {},
   "outputs": [],
   "source": [
    "import pyciras"
   ]
  },
  {
   "cell_type": "code",
   "execution_count": 3,
   "id": "dcb33698-8cf8-4868-8ee8-88fd555d5c8f",
   "metadata": {},
   "outputs": [
    {
     "data": {
      "application/vnd.jupyter.widget-view+json": {
       "model_id": "142fbc2c2c1a44398517af7c054cff2d",
       "version_major": 2,
       "version_minor": 0
      },
      "text/plain": [
       "Output()"
      ]
     },
     "metadata": {},
     "output_type": "display_data"
    },
    {
     "data": {
      "text/html": [
       "<pre style=\"white-space:pre;overflow-x:auto;line-height:normal;font-family:Menlo,'DejaVu Sans Mono',consolas,'Courier New',monospace\"></pre>\n"
      ],
      "text/plain": []
     },
     "metadata": {},
     "output_type": "display_data"
    },
    {
     "data": {
      "text/html": [
       "<pre style=\"white-space:pre;overflow-x:auto;line-height:normal;font-family:Menlo,'DejaVu Sans Mono',consolas,'Courier New',monospace\">\n",
       "</pre>\n"
      ],
      "text/plain": [
       "\n"
      ]
     },
     "metadata": {},
     "output_type": "display_data"
    },
    {
     "name": "stdout",
     "output_type": "stream",
     "text": [
      "{'https://github.com/SamuelThand/TDD-Hangman': [{'commit_hash': '6f85d829c16b3c23516b0992a693f20a0e8a3f05',\n",
      "                                                 'date': datetime.datetime(2023, 3, 2, 15, 32, tzinfo=<git.objects.util.tzoffset object at 0x7fdbf83b7290>)},\n",
      "                                                {'commit_hash': '1ad98e363d3e90815824c631e671199ae00a7816',\n",
      "                                                 'date': datetime.datetime(2023, 3, 2, 15, 38, 16, tzinfo=<git.objects.util.tzoffset object at 0x7fdbf83b7f50>)},\n",
      "                                                {'commit_hash': '2237723d4ce9493fe65f86948a48e5f28c21b66d',\n",
      "                                                 'date': datetime.datetime(2023, 3, 2, 16, 0, 58, tzinfo=<git.objects.util.tzoffset object at 0x7fdbf83b5910>)},\n",
      "                                                {'commit_hash': '86819b75ea7a61d1545427e5a073b74aa0b6ed6e',\n",
      "                                                 'date': datetime.datetime(2023, 3, 2, 15, 9, 41, tzinfo=<git.objects.util.tzoffset object at 0x7fdbf83ba510>)},\n",
      "                                                {'commit_hash': '26bc2631bbddc72f8e18edfd7138ccba304807ac',\n",
      "                                                 'date': datetime.datetime(2023, 3, 2, 16, 24, 42, tzinfo=<git.objects.util.tzoffset object at 0x7fdbf83bbc10>)},\n",
      "                                                {'commit_hash': 'eaa0596ce6766653400f8a80e1cca917f70226ad',\n",
      "                                                 'date': datetime.datetime(2023, 3, 2, 16, 38, 2, tzinfo=<git.objects.util.tzoffset object at 0x7fdbf83b4c50>)},\n",
      "                                                {'commit_hash': '1e9bd6663a187dff27cdba2f005bb26dba5eb6cc',\n",
      "                                                 'date': datetime.datetime(2023, 3, 2, 16, 40, 36, tzinfo=<git.objects.util.tzoffset object at 0x7fdbf83cd810>)},\n",
      "                                                {'commit_hash': '3b683091026acff167e2f03d6d90dad24cebd52f',\n",
      "                                                 'date': datetime.datetime(2023, 3, 2, 15, 43, 59, tzinfo=<git.objects.util.tzoffset object at 0x7fdbf83b4910>)},\n",
      "                                                {'commit_hash': 'fec52879cec54f294896037e27c4fc3656783492',\n",
      "                                                 'date': datetime.datetime(2023, 3, 2, 15, 46, 49, tzinfo=<git.objects.util.tzoffset object at 0x7fdbf83b9690>)},\n",
      "                                                {'commit_hash': '1ea41dfa976b35c82b335081c4cde250f67675fe',\n",
      "                                                 'date': datetime.datetime(2023, 3, 3, 14, 39, 52, tzinfo=<git.objects.util.tzoffset object at 0x7fdbf83ccb90>)},\n",
      "                                                {'commit_hash': '42e8927ba8060dfb293462bd6e06425ad50e1374',\n",
      "                                                 'date': datetime.datetime(2023, 3, 3, 15, 11, 55, tzinfo=<git.objects.util.tzoffset object at 0x7fdbf83b5590>)},\n",
      "                                                {'commit_hash': '7bf058a4a50f69fec30fdec0007ea435e2d10f77',\n",
      "                                                 'date': datetime.datetime(2023, 3, 3, 15, 25, 32, tzinfo=<git.objects.util.tzoffset object at 0x7fdbf83cd310>)},\n",
      "                                                {'commit_hash': '2f5b1df0c4a12a323ee797a26dd9487663d61717',\n",
      "                                                 'date': datetime.datetime(2023, 3, 3, 14, 27, 52, tzinfo=<git.objects.util.tzoffset object at 0x7fdbf83b4690>)},\n",
      "                                                {'commit_hash': '25c2336e1e7d8a373cdd7538e9b51e45c22f3073',\n",
      "                                                 'date': datetime.datetime(2023, 3, 3, 15, 40, 41, tzinfo=<git.objects.util.tzoffset object at 0x7fdbf83cc410>)},\n",
      "                                                {'commit_hash': '60e11a8c54b0b4f8540c9b87451dbbaef4a9f6bd',\n",
      "                                                 'date': datetime.datetime(2023, 3, 3, 15, 51, 36, tzinfo=<git.objects.util.tzoffset object at 0x7fdbf83b5090>)},\n",
      "                                                {'commit_hash': '39faae492a9aecf441ac430cf1d68c758e2a16a0',\n",
      "                                                 'date': datetime.datetime(2023, 3, 3, 15, 53, 49, tzinfo=<git.objects.util.tzoffset object at 0x7fdbf83d87d0>)},\n",
      "                                                {'commit_hash': '1b1e0203132788a9403cec80ff10efdc131395fb',\n",
      "                                                 'date': datetime.datetime(2023, 3, 3, 15, 56, 21, tzinfo=<git.objects.util.tzoffset object at 0x7fdbf83b94d0>)},\n",
      "                                                {'commit_hash': 'cbdd21ffd9f6d4c4b1e88518e006d471f81a83fe',\n",
      "                                                 'date': datetime.datetime(2023, 3, 3, 16, 47, 29, tzinfo=<git.objects.util.tzoffset object at 0x7fdbf83b4190>)},\n",
      "                                                {'commit_hash': '768dccde3c6ff5adfb1b6f042fb17e06011d5591',\n",
      "                                                 'date': datetime.datetime(2023, 3, 3, 18, 24, 20, tzinfo=<git.objects.util.tzoffset object at 0x7fdbf83b4e10>)},\n",
      "                                                {'commit_hash': '33d94046b0ba4d67c23dcfc3e8c6bcb7e12d71b9',\n",
      "                                                 'date': datetime.datetime(2023, 3, 3, 19, 13, 16, tzinfo=<git.objects.util.tzoffset object at 0x7fdbf83b6490>)},\n",
      "                                                {'commit_hash': '82ec71d245e28b13beb069bdb6ced33d9c48a9e9',\n",
      "                                                 'date': datetime.datetime(2023, 3, 3, 19, 18, 26, tzinfo=<git.objects.util.tzoffset object at 0x7fdbf83d9a50>)},\n",
      "                                                {'commit_hash': 'c8e6fafc9df6bdff6bc2ca80c824eed6bbfe82ba',\n",
      "                                                 'date': datetime.datetime(2023, 3, 3, 19, 20, 5, tzinfo=<git.objects.util.tzoffset object at 0x7fdbf83b5a90>)},\n",
      "                                                {'commit_hash': '59d58bb26e1f9e635581ba64310cc61b375b9871',\n",
      "                                                 'date': datetime.datetime(2023, 3, 3, 19, 32, 5, tzinfo=<git.objects.util.tzoffset object at 0x7fdbf83b4790>)},\n",
      "                                                {'commit_hash': '0bade80da9d8bd45cd8f07970eb3de4aab5007f0',\n",
      "                                                 'date': datetime.datetime(2023, 3, 3, 19, 35, 13, tzinfo=<git.objects.util.tzoffset object at 0x7fdbf83b5f90>)},\n",
      "                                                {'commit_hash': '3cbd06c741160cccc532cd0fbbf24aead1eed1df',\n",
      "                                                 'date': datetime.datetime(2023, 3, 3, 18, 42, 12, tzinfo=<git.objects.util.tzoffset object at 0x7fdbf83b5890>)},\n",
      "                                                {'commit_hash': 'a83184b59bde8c24d781d0f305809021dfcdd6eb',\n",
      "                                                 'date': datetime.datetime(2023, 3, 3, 18, 45, 13, tzinfo=<git.objects.util.tzoffset object at 0x7fdbf83b5d10>)},\n",
      "                                                {'commit_hash': '311cde6172252dca144539342372c41cc9cda83d',\n",
      "                                                 'date': datetime.datetime(2023, 3, 6, 20, 15, 40, tzinfo=<git.objects.util.tzoffset object at 0x7fdbf83b6150>)},\n",
      "                                                {'commit_hash': '04ebcbcfef702b2a3e37e4888b96d6cd99782f5b',\n",
      "                                                 'date': datetime.datetime(2023, 3, 7, 8, 39, 44, tzinfo=<git.objects.util.tzoffset object at 0x7fdbf83bb450>)},\n",
      "                                                {'commit_hash': 'd4c83bce4b106e0eee0d84cdb9cc3b53b193fd57',\n",
      "                                                 'date': datetime.datetime(2023, 3, 7, 8, 42, 19, tzinfo=<git.objects.util.tzoffset object at 0x7fdbf83b9dd0>)},\n",
      "                                                {'commit_hash': 'e98d623846f1f27a29bef312b5a497f023bac3a9',\n",
      "                                                 'date': datetime.datetime(2023, 3, 7, 9, 36, 48, tzinfo=<git.objects.util.tzoffset object at 0x7fdbf83d9550>)},\n",
      "                                                {'commit_hash': 'd8b06ffce50fcbcc031cb39d67fc9fce33d620b3',\n",
      "                                                 'date': datetime.datetime(2023, 3, 7, 9, 40, 36, tzinfo=<git.objects.util.tzoffset object at 0x7fdbf83d9e10>)},\n",
      "                                                {'commit_hash': '3453924009b95e5ce62a3c848034936fc34148c1',\n",
      "                                                 'date': datetime.datetime(2023, 3, 7, 9, 58, 28, tzinfo=<git.objects.util.tzoffset object at 0x7fdbf83baf10>)},\n",
      "                                                {'commit_hash': '197804efa83c55fa270c5197f427fe1afb64484e',\n",
      "                                                 'date': datetime.datetime(2023, 3, 7, 11, 22, 20, tzinfo=<git.objects.util.tzoffset object at 0x7fdbf83bb310>)},\n",
      "                                                {'commit_hash': '2a99f1b87dba46d38058b6065ee7f454863a96d8',\n",
      "                                                 'date': datetime.datetime(2023, 3, 7, 10, 28, 1, tzinfo=<git.objects.util.tzoffset object at 0x7fdbf83bb710>)},\n",
      "                                                {'commit_hash': 'eb3b340a8d5c152487053a095562d80eca021d18',\n",
      "                                                 'date': datetime.datetime(2023, 3, 7, 11, 40, 16, tzinfo=<git.objects.util.tzoffset object at 0x7fdbf83ba810>)},\n",
      "                                                {'commit_hash': 'a2010efc665748bd5e4aea7261bf47cc65a8b7b1',\n",
      "                                                 'date': datetime.datetime(2023, 3, 8, 12, 6, 6, tzinfo=<git.objects.util.tzoffset object at 0x7fdbf83ba310>)},\n",
      "                                                {'commit_hash': '75d21d98de107baba7081b1814fb7590e2c316f2',\n",
      "                                                 'date': datetime.datetime(2023, 3, 8, 13, 30, 37, tzinfo=<git.objects.util.tzoffset object at 0x7fdbf83bb550>)},\n",
      "                                                {'commit_hash': 'b381357bbc6b642092f6bdca291b903453f66784',\n",
      "                                                 'date': datetime.datetime(2023, 3, 8, 14, 4, 44, tzinfo=<git.objects.util.tzoffset object at 0x7fdbf83b9b10>)},\n",
      "                                                {'commit_hash': 'c773f610abf428de0dca3d0222ac81b3608cc71d',\n",
      "                                                 'date': datetime.datetime(2023, 3, 8, 13, 9, 29, tzinfo=<git.objects.util.tzoffset object at 0x7fdbf83ba890>)},\n",
      "                                                {'commit_hash': '91d4da0a525222c0f0957f05820da0de719977f0',\n",
      "                                                 'date': datetime.datetime(2023, 3, 8, 15, 2, 28, tzinfo=<git.objects.util.tzoffset object at 0x7fdbf83ba4d0>)},\n",
      "                                                {'commit_hash': '7e6d4fb8b07616efbfcf53599450e5903e1570eb',\n",
      "                                                 'date': datetime.datetime(2023, 3, 8, 15, 3, 57, tzinfo=<git.objects.util.tzoffset object at 0x7fdbf83a8f90>)},\n",
      "                                                {'commit_hash': '2bd9b38edef698a4d5e933ac33a931604b79c1f3',\n",
      "                                                 'date': datetime.datetime(2023, 3, 8, 14, 8, 29, tzinfo=<git.objects.util.tzoffset object at 0x7fdbf83b6990>)},\n",
      "                                                {'commit_hash': '888a3fb77badc535928e14aaecef2561a66264b6',\n",
      "                                                 'date': datetime.datetime(2023, 3, 8, 15, 12, 25, tzinfo=<git.objects.util.tzoffset object at 0x7fdbf83b6d50>)},\n",
      "                                                {'commit_hash': '51412591a1f321104b8cf075709384da43c65807',\n",
      "                                                 'date': datetime.datetime(2023, 3, 8, 16, 18, 7, tzinfo=<git.objects.util.tzoffset object at 0x7fdbf83b41d0>)},\n",
      "                                                {'commit_hash': '377eec5e47e991f04bb1088421804eef64a48175',\n",
      "                                                 'date': datetime.datetime(2023, 3, 8, 16, 48, 46, tzinfo=<git.objects.util.tzoffset object at 0x7fdbf83b7090>)},\n",
      "                                                {'commit_hash': '5e2cd300567559c70d8341ba467e906704df2b3e',\n",
      "                                                 'date': datetime.datetime(2023, 3, 8, 16, 50, 44, tzinfo=<git.objects.util.tzoffset object at 0x7fdbf83ba450>)},\n",
      "                                                {'commit_hash': '9062327f67f755b79643235772cc9b6067e1e694',\n",
      "                                                 'date': datetime.datetime(2023, 3, 9, 13, 49, 13, tzinfo=<git.objects.util.tzoffset object at 0x7fdbf83a8fd0>)},\n",
      "                                                {'commit_hash': '4dde35d8ccfff12df858d86e35b99ad71fb66b01',\n",
      "                                                 'date': datetime.datetime(2023, 3, 9, 14, 4, 37, tzinfo=<git.objects.util.tzoffset object at 0x7fdbf83a9fd0>)},\n",
      "                                                {'commit_hash': '8759902cec68abcd4bafc0a21f848aee4ce5f4a9',\n",
      "                                                 'date': datetime.datetime(2023, 3, 9, 13, 13, 33, tzinfo=<git.objects.util.tzoffset object at 0x7fdbf83b7450>)},\n",
      "                                                {'commit_hash': '965a57608b73b70f1a9e515581bb0ea2cf250453',\n",
      "                                                 'date': datetime.datetime(2023, 3, 9, 14, 52, 3, tzinfo=<git.objects.util.tzoffset object at 0x7fdbf83b75d0>)},\n",
      "                                                {'commit_hash': 'e34ca2b4a5b854f004d3b6edeca6b35f3d449b64',\n",
      "                                                 'date': datetime.datetime(2023, 3, 9, 15, 1, 27, tzinfo=<git.objects.util.tzoffset object at 0x7fdbf83b7a10>)},\n",
      "                                                {'commit_hash': '08664ef062cabc5b37b3554113f60efeb6dad706',\n",
      "                                                 'date': datetime.datetime(2023, 3, 9, 14, 9, 48, tzinfo=<git.objects.util.tzoffset object at 0x7fdbf83b7c10>)},\n",
      "                                                {'commit_hash': '42d45d31db3f3c93520ea65f0b12fd0aedbccab0',\n",
      "                                                 'date': datetime.datetime(2023, 3, 9, 15, 59, 34, tzinfo=<git.objects.util.tzoffset object at 0x7fdbf83b4050>)},\n",
      "                                                {'commit_hash': '031e73d203e47890025766e4d817b38807aeb1d3',\n",
      "                                                 'date': datetime.datetime(2023, 3, 9, 15, 44, 11, tzinfo=<git.objects.util.tzoffset object at 0x7fdbf83b42d0>)},\n",
      "                                                {'commit_hash': '7be1e3aa63376c208d2bd63af464106bef1764a4',\n",
      "                                                 'date': datetime.datetime(2023, 3, 9, 18, 1, 22, tzinfo=<git.objects.util.tzoffset object at 0x7fdbf83cc250>)},\n",
      "                                                {'commit_hash': '6add8ddcaa95d7e4ad783b656befbcf8583bb45e',\n",
      "                                                 'date': datetime.datetime(2023, 3, 10, 14, 8, 33, tzinfo=<git.objects.util.tzoffset object at 0x7fdbf83cc1d0>)},\n",
      "                                                {'commit_hash': '05fb3d4ad7c4c838bf9676ba15d1d6152aeabbea',\n",
      "                                                 'date': datetime.datetime(2023, 3, 10, 13, 17, 33, tzinfo=<git.objects.util.tzoffset object at 0x7fdbf83cc8d0>)},\n",
      "                                                {'commit_hash': '31746f181b1fbee10a60c433ba42ecd31eb90bc4',\n",
      "                                                 'date': datetime.datetime(2023, 3, 10, 14, 24, 57, tzinfo=<git.objects.util.tzoffset object at 0x7fdbf83ccb50>)},\n",
      "                                                {'commit_hash': '1f9a78982ebd9b5b5986d2686b6a16206cae4033',\n",
      "                                                 'date': datetime.datetime(2023, 3, 10, 14, 38, 36, tzinfo=<git.objects.util.tzoffset object at 0x7fdbf83ccdd0>)},\n",
      "                                                {'commit_hash': '6abc4d5b408998f28cd3b99206a255d0384cdb45',\n",
      "                                                 'date': datetime.datetime(2023, 3, 10, 13, 39, 55, tzinfo=<git.objects.util.tzoffset object at 0x7fdbf83ccc50>)},\n",
      "                                                {'commit_hash': '569433c23d62c3a54a241b67f11107ef3cb634ac',\n",
      "                                                 'date': datetime.datetime(2023, 3, 10, 13, 40, 44, tzinfo=<git.objects.util.tzoffset object at 0x7fdbf83cd2d0>)},\n",
      "                                                {'commit_hash': '0e80487b75dccc57f334486869381a21f3783d0e',\n",
      "                                                 'date': datetime.datetime(2023, 3, 10, 15, 34, 53, tzinfo=<git.objects.util.tzoffset object at 0x7fdbf83cd550>)},\n",
      "                                                {'commit_hash': '61079905452a07e2e70a4a8559d71be2c46087ff',\n",
      "                                                 'date': datetime.datetime(2023, 3, 10, 14, 41, 4, tzinfo=<git.objects.util.tzoffset object at 0x7fdbf83cd7d0>)},\n",
      "                                                {'commit_hash': '26a9d58a0f569eff76da77fb4232fda30cd9df3b',\n",
      "                                                 'date': datetime.datetime(2023, 3, 10, 17, 23, tzinfo=<git.objects.util.tzoffset object at 0x7fdbf83cda50>)},\n",
      "                                                {'commit_hash': '4704866b36e4a662875add351e479b9690aca123',\n",
      "                                                 'date': datetime.datetime(2023, 3, 10, 17, 34, 35, tzinfo=<git.objects.util.tzoffset object at 0x7fdbf83cdcd0>)},\n",
      "                                                {'commit_hash': '843c105b9a7d87d5c7ee51752c0e4dcc58deb3fe',\n",
      "                                                 'date': datetime.datetime(2023, 3, 11, 15, 58, 48, tzinfo=<git.objects.util.tzoffset object at 0x7fdbf83cf390>)},\n",
      "                                                {'commit_hash': '40b2c821dad601796665feb82223bfdb7e65a1d1',\n",
      "                                                 'date': datetime.datetime(2023, 3, 17, 14, 18, 1, tzinfo=<git.objects.util.tzoffset object at 0x7fdbf83ce1d0>)},\n",
      "                                                {'commit_hash': '7af417f916f6d3628b322d2d6d96a9e7b6348e6c',\n",
      "                                                 'date': datetime.datetime(2023, 3, 17, 14, 23, 47, tzinfo=<git.objects.util.tzoffset object at 0x7fdbf83ce450>)},\n",
      "                                                {'commit_hash': '760f4f130751909c91877a7b4b4578deb09f84d5',\n",
      "                                                 'date': datetime.datetime(2023, 3, 17, 14, 24, 21, tzinfo=<git.objects.util.tzoffset object at 0x7fdbf83ce6d0>)},\n",
      "                                                {'commit_hash': 'a2d73625ed44fa0732acc54525ec86e8eecbd214',\n",
      "                                                 'date': datetime.datetime(2023, 3, 17, 13, 25, 43, tzinfo=<git.objects.util.tzoffset object at 0x7fdbf83ce950>)},\n",
      "                                                {'commit_hash': 'bdff6b3d1e0c99481d904d5b5517e54817f70800',\n",
      "                                                 'date': datetime.datetime(2023, 3, 17, 13, 30, 15, tzinfo=<git.objects.util.tzoffset object at 0x7fdbf83cebd0>)},\n",
      "                                                {'commit_hash': 'eeaad1fc7b0bcb6cab428311a433144501c94ce9',\n",
      "                                                 'date': datetime.datetime(2023, 3, 17, 13, 32, 30, tzinfo=<git.objects.util.tzoffset object at 0x7fdbf83cee50>)},\n",
      "                                                {'commit_hash': '04dd31b4fb0ff9b2184807995fbae47f336e1930',\n",
      "                                                 'date': datetime.datetime(2023, 3, 17, 15, 26, 22, tzinfo=<git.objects.util.tzoffset object at 0x7fdbf83cf0d0>)},\n",
      "                                                {'commit_hash': '2737a55e5a015bcbc962bb789218d2bdb3eff0e1',\n",
      "                                                 'date': datetime.datetime(2023, 3, 17, 14, 33, 7, tzinfo=<git.objects.util.tzoffset object at 0x7fdbf83cf350>)},\n",
      "                                                {'commit_hash': '7bb2856dc5c3472bf08cce2b097631933bf2f8cc',\n",
      "                                                 'date': datetime.datetime(2023, 3, 17, 15, 44, 59, tzinfo=<git.objects.util.tzoffset object at 0x7fdbf83cf210>)},\n",
      "                                                {'commit_hash': '3e76c78d7132fc8ec40a4b305ce79909f5858d3b',\n",
      "                                                 'date': datetime.datetime(2023, 3, 17, 16, 19, 52, tzinfo=<git.objects.util.tzoffset object at 0x7fdbf83cf950>)},\n",
      "                                                {'commit_hash': 'bb6ab25d69edf6771908dd0e1bf6dd21c635af49',\n",
      "                                                 'date': datetime.datetime(2023, 3, 17, 15, 21, 36, tzinfo=<git.objects.util.tzoffset object at 0x7fdbf83cf8d0>)},\n",
      "                                                {'commit_hash': 'b2bd9fef0ab3c31cad2abb48e1a641288e8e1cbe',\n",
      "                                                 'date': datetime.datetime(2023, 3, 17, 15, 34, 31, tzinfo=<git.objects.util.tzoffset object at 0x7fdbf83cf890>)},\n",
      "                                                {'commit_hash': 'aea7f5b0e1bc20ca3ed33fda6ca5d02037d5bc7b',\n",
      "                                                 'date': datetime.datetime(2023, 3, 19, 14, 39, 41, tzinfo=<git.objects.util.tzoffset object at 0x7fdbf83cffd0>)},\n",
      "                                                {'commit_hash': 'ff76ec8dc7ba80d0ed2dc5b214a3cb5598677a35',\n",
      "                                                 'date': datetime.datetime(2023, 3, 19, 13, 46, 37, tzinfo=<git.objects.util.tzoffset object at 0x7fdbf83cf690>)},\n",
      "                                                {'commit_hash': '696e99cf012017c33ffa4aad92a5ff701bee11a1',\n",
      "                                                 'date': datetime.datetime(2023, 3, 19, 15, 1, 14, tzinfo=<git.objects.util.tzoffset object at 0x7fdbf83cf4d0>)},\n",
      "                                                {'commit_hash': '296dd4a9d56a256f88e8d5b23b2c5a500c471d97',\n",
      "                                                 'date': datetime.datetime(2023, 3, 19, 14, 2, 51, tzinfo=<git.objects.util.tzoffset object at 0x7fdbf83b7c50>)},\n",
      "                                                {'commit_hash': '0f3f675e3a82a5b5de894259c7776dadd666e0cc',\n",
      "                                                 'date': datetime.datetime(2023, 3, 19, 15, 15, 6, tzinfo=<git.objects.util.tzoffset object at 0x7fdbf83cfa50>)},\n",
      "                                                {'commit_hash': '8d05bf19f5986e99e4e58537243ba00225566b6c',\n",
      "                                                 'date': datetime.datetime(2023, 3, 19, 14, 17, 42, tzinfo=<git.objects.util.tzoffset object at 0x7fdbf83b7410>)}]}\n",
      "Mining unit testing metrics for repo:  ['https://github.com/SamuelThand/TDD-Hangman']\n"
     ]
    }
   ],
   "source": [
    "pyciras.run_unit_testing_analysis([\"https://github.com/SamuelThand/TDD-Hangman\"])"
   ]
  }
 ],
 "metadata": {
  "kernelspec": {
   "display_name": "Python 3 (ipykernel)",
   "language": "python",
   "name": "python3"
  },
  "language_info": {
   "codemirror_mode": {
    "name": "ipython",
    "version": 3
   },
   "file_extension": ".py",
   "mimetype": "text/x-python",
   "name": "python",
   "nbconvert_exporter": "python",
   "pygments_lexer": "ipython3",
   "version": "3.11.4"
  }
 },
 "nbformat": 4,
 "nbformat_minor": 5
}
