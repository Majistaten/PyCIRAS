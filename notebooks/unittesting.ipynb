{
 "cells": [
  {
   "cell_type": "code",
   "execution_count": 1,
   "id": "e2e9ea40-a6ac-4d8a-89a7-5c38bbc0357b",
   "metadata": {},
   "outputs": [],
   "source": [
    "import setup_notebook_environment"
   ]
  },
  {
   "cell_type": "code",
   "execution_count": 2,
   "id": "305771e2-191c-45ee-a290-770010b8d536",
   "metadata": {},
   "outputs": [],
   "source": [
    "import pyciras"
   ]
  },
  {
   "cell_type": "code",
   "execution_count": 4,
   "id": "dcb33698-8cf8-4868-8ee8-88fd555d5c8f",
   "metadata": {},
   "outputs": [
    {
     "data": {
      "application/vnd.jupyter.widget-view+json": {
       "model_id": "4a0d3f2a2da1413697e7e6679081f1db",
       "version_major": 2,
       "version_minor": 0
      },
      "text/plain": [
       "Output()"
      ]
     },
     "metadata": {},
     "output_type": "display_data"
    },
    {
     "data": {
      "text/html": [
       "<pre style=\"white-space:pre;overflow-x:auto;line-height:normal;font-family:Menlo,'DejaVu Sans Mono',consolas,'Courier New',monospace\"></pre>\n"
      ],
      "text/plain": []
     },
     "metadata": {},
     "output_type": "display_data"
    },
    {
     "data": {
      "text/html": [
       "<pre style=\"white-space:pre;overflow-x:auto;line-height:normal;font-family:Menlo,'DejaVu Sans Mono',consolas,'Courier New',monospace\">\n",
       "</pre>\n"
      ],
      "text/plain": [
       "\n"
      ]
     },
     "metadata": {},
     "output_type": "display_data"
    },
    {
     "data": {
      "application/vnd.jupyter.widget-view+json": {
       "model_id": "fdd1900fc36a4916bb7bb11074cb802f",
       "version_major": 2,
       "version_minor": 0
      },
      "text/plain": [
       "Output()"
      ]
     },
     "metadata": {},
     "output_type": "display_data"
    },
    {
     "data": {
      "text/html": [
       "<pre style=\"white-space:pre;overflow-x:auto;line-height:normal;font-family:Menlo,'DejaVu Sans Mono',consolas,'Courier New',monospace\">Analyzing /home/s/Skola/exjobb/github_metric_extractor/out/repositories/TDD-Hangman/main.py\n",
       "</pre>\n"
      ],
      "text/plain": [
       "Analyzing /home/s/Skola/exjobb/github_metric_extractor/out/repositories/TDD-Hangman/main.py\n"
      ]
     },
     "metadata": {},
     "output_type": "display_data"
    },
    {
     "data": {
      "text/html": [
       "<pre style=\"white-space:pre;overflow-x:auto;line-height:normal;font-family:Menlo,'DejaVu Sans Mono',consolas,'Courier New',monospace\">Analyzing /home/s/Skola/exjobb/github_metric_extractor/out/repositories/TDD-Hangman/tests/__init__.py\n",
       "</pre>\n"
      ],
      "text/plain": [
       "Analyzing /home/s/Skola/exjobb/github_metric_extractor/out/repositories/TDD-Hangman/tests/__init__.py\n"
      ]
     },
     "metadata": {},
     "output_type": "display_data"
    },
    {
     "data": {
      "text/html": [
       "<pre style=\"white-space:pre;overflow-x:auto;line-height:normal;font-family:Menlo,'DejaVu Sans Mono',consolas,'Courier New',monospace\">Analyzing /home/s/Skola/exjobb/github_metric_extractor/out/repositories/TDD-Hangman/src/views/__init__.py\n",
       "</pre>\n"
      ],
      "text/plain": [
       "Analyzing /home/s/Skola/exjobb/github_metric_extractor/out/repositories/TDD-Hangman/src/views/__init__.py\n"
      ]
     },
     "metadata": {},
     "output_type": "display_data"
    },
    {
     "data": {
      "text/html": [
       "<pre style=\"white-space:pre;overflow-x:auto;line-height:normal;font-family:Menlo,'DejaVu Sans Mono',consolas,'Courier New',monospace\">Analyzing /home/s/Skola/exjobb/github_metric_extractor/out/repositories/TDD-Hangman/src/controllers/__init__.py\n",
       "</pre>\n"
      ],
      "text/plain": [
       "Analyzing /home/s/Skola/exjobb/github_metric_extractor/out/repositories/TDD-Hangman/src/controllers/__init__.py\n"
      ]
     },
     "metadata": {},
     "output_type": "display_data"
    },
    {
     "data": {
      "text/html": [
       "<pre style=\"white-space:pre;overflow-x:auto;line-height:normal;font-family:Menlo,'DejaVu Sans Mono',consolas,'Courier New',monospace\">Analyzing /home/s/Skola/exjobb/github_metric_extractor/out/repositories/TDD-Hangman/src/models/__init__.py\n",
       "</pre>\n"
      ],
      "text/plain": [
       "Analyzing /home/s/Skola/exjobb/github_metric_extractor/out/repositories/TDD-Hangman/src/models/__init__.py\n"
      ]
     },
     "metadata": {},
     "output_type": "display_data"
    },
    {
     "data": {
      "text/html": [
       "<pre style=\"white-space:pre;overflow-x:auto;line-height:normal;font-family:Menlo,'DejaVu Sans Mono',consolas,'Courier New',monospace\">Analyzing /home/s/Skola/exjobb/github_metric_extractor/out/repositories/TDD-Hangman/src/other/__init__.py\n",
       "</pre>\n"
      ],
      "text/plain": [
       "Analyzing /home/s/Skola/exjobb/github_metric_extractor/out/repositories/TDD-Hangman/src/other/__init__.py\n"
      ]
     },
     "metadata": {},
     "output_type": "display_data"
    },
    {
     "data": {
      "text/html": [
       "<pre style=\"white-space:pre;overflow-x:auto;line-height:normal;font-family:Menlo,'DejaVu Sans Mono',consolas,'Courier New',monospace\">Analyzing /home/s/Skola/exjobb/github_metric_extractor/out/repositories/TDD-Hangman/tests/__init__.py\n",
       "</pre>\n"
      ],
      "text/plain": [
       "Analyzing /home/s/Skola/exjobb/github_metric_extractor/out/repositories/TDD-Hangman/tests/__init__.py\n"
      ]
     },
     "metadata": {},
     "output_type": "display_data"
    },
    {
     "data": {
      "text/html": [
       "<pre style=\"white-space:pre;overflow-x:auto;line-height:normal;font-family:Menlo,'DejaVu Sans Mono',consolas,'Courier New',monospace\">Analyzing /home/s/Skola/exjobb/github_metric_extractor/out/repositories/TDD-Hangman/src/views/__init__.py\n",
       "</pre>\n"
      ],
      "text/plain": [
       "Analyzing /home/s/Skola/exjobb/github_metric_extractor/out/repositories/TDD-Hangman/src/views/__init__.py\n"
      ]
     },
     "metadata": {},
     "output_type": "display_data"
    },
    {
     "data": {
      "text/html": [
       "<pre style=\"white-space:pre;overflow-x:auto;line-height:normal;font-family:Menlo,'DejaVu Sans Mono',consolas,'Courier New',monospace\">Analyzing /home/s/Skola/exjobb/github_metric_extractor/out/repositories/TDD-Hangman/src/controllers/__init__.py\n",
       "</pre>\n"
      ],
      "text/plain": [
       "Analyzing /home/s/Skola/exjobb/github_metric_extractor/out/repositories/TDD-Hangman/src/controllers/__init__.py\n"
      ]
     },
     "metadata": {},
     "output_type": "display_data"
    },
    {
     "data": {
      "text/html": [
       "<pre style=\"white-space:pre;overflow-x:auto;line-height:normal;font-family:Menlo,'DejaVu Sans Mono',consolas,'Courier New',monospace\">Analyzing /home/s/Skola/exjobb/github_metric_extractor/out/repositories/TDD-Hangman/src/models/__init__.py\n",
       "</pre>\n"
      ],
      "text/plain": [
       "Analyzing /home/s/Skola/exjobb/github_metric_extractor/out/repositories/TDD-Hangman/src/models/__init__.py\n"
      ]
     },
     "metadata": {},
     "output_type": "display_data"
    },
    {
     "data": {
      "text/html": [
       "<pre style=\"white-space:pre;overflow-x:auto;line-height:normal;font-family:Menlo,'DejaVu Sans Mono',consolas,'Courier New',monospace\">Analyzing /home/s/Skola/exjobb/github_metric_extractor/out/repositories/TDD-Hangman/src/other/__init__.py\n",
       "</pre>\n"
      ],
      "text/plain": [
       "Analyzing /home/s/Skola/exjobb/github_metric_extractor/out/repositories/TDD-Hangman/src/other/__init__.py\n"
      ]
     },
     "metadata": {},
     "output_type": "display_data"
    },
    {
     "data": {
      "text/html": [
       "<pre style=\"white-space:pre;overflow-x:auto;line-height:normal;font-family:Menlo,'DejaVu Sans Mono',consolas,'Courier New',monospace\">Analyzing /home/s/Skola/exjobb/github_metric_extractor/out/repositories/TDD-Hangman/tests/controller_test.py\n",
       "</pre>\n"
      ],
      "text/plain": [
       "Analyzing /home/s/Skola/exjobb/github_metric_extractor/out/repositories/TDD-Hangman/tests/controller_test.py\n"
      ]
     },
     "metadata": {},
     "output_type": "display_data"
    },
    {
     "data": {
      "text/html": [
       "<pre style=\"white-space:pre;overflow-x:auto;line-height:normal;font-family:Menlo,'DejaVu Sans Mono',consolas,'Courier New',monospace\">Analyzing /home/s/Skola/exjobb/github_metric_extractor/out/repositories/TDD-Hangman/tests/view_test.py\n",
       "</pre>\n"
      ],
      "text/plain": [
       "Analyzing /home/s/Skola/exjobb/github_metric_extractor/out/repositories/TDD-Hangman/tests/view_test.py\n"
      ]
     },
     "metadata": {},
     "output_type": "display_data"
    },
    {
     "data": {
      "text/html": [
       "<pre style=\"white-space:pre;overflow-x:auto;line-height:normal;font-family:Menlo,'DejaVu Sans Mono',consolas,'Courier New',monospace\">Analyzing /home/s/Skola/exjobb/github_metric_extractor/out/repositories/TDD-Hangman/tests/hangman_test.py\n",
       "</pre>\n"
      ],
      "text/plain": [
       "Analyzing /home/s/Skola/exjobb/github_metric_extractor/out/repositories/TDD-Hangman/tests/hangman_test.py\n"
      ]
     },
     "metadata": {},
     "output_type": "display_data"
    },
    {
     "data": {
      "text/html": [
       "<pre style=\"white-space:pre;overflow-x:auto;line-height:normal;font-family:Menlo,'DejaVu Sans Mono',consolas,'Courier New',monospace\">Analyzing /home/s/Skola/exjobb/github_metric_extractor/out/repositories/TDD-Hangman/tests/model_test.py\n",
       "</pre>\n"
      ],
      "text/plain": [
       "Analyzing /home/s/Skola/exjobb/github_metric_extractor/out/repositories/TDD-Hangman/tests/model_test.py\n"
      ]
     },
     "metadata": {},
     "output_type": "display_data"
    },
    {
     "data": {
      "text/html": [
       "<pre style=\"white-space:pre;overflow-x:auto;line-height:normal;font-family:Menlo,'DejaVu Sans Mono',consolas,'Courier New',monospace\">Analyzing /home/s/Skola/exjobb/github_metric_extractor/out/repositories/TDD-Hangman/tests/__init__.py\n",
       "</pre>\n"
      ],
      "text/plain": [
       "Analyzing /home/s/Skola/exjobb/github_metric_extractor/out/repositories/TDD-Hangman/tests/__init__.py\n"
      ]
     },
     "metadata": {},
     "output_type": "display_data"
    },
    {
     "data": {
      "text/html": [
       "<pre style=\"white-space:pre;overflow-x:auto;line-height:normal;font-family:Menlo,'DejaVu Sans Mono',consolas,'Courier New',monospace\">Analyzing /home/s/Skola/exjobb/github_metric_extractor/out/repositories/TDD-Hangman/src/views/__init__.py\n",
       "</pre>\n"
      ],
      "text/plain": [
       "Analyzing /home/s/Skola/exjobb/github_metric_extractor/out/repositories/TDD-Hangman/src/views/__init__.py\n"
      ]
     },
     "metadata": {},
     "output_type": "display_data"
    },
    {
     "data": {
      "text/html": [
       "<pre style=\"white-space:pre;overflow-x:auto;line-height:normal;font-family:Menlo,'DejaVu Sans Mono',consolas,'Courier New',monospace\">Analyzing /home/s/Skola/exjobb/github_metric_extractor/out/repositories/TDD-Hangman/src/controllers/__init__.py\n",
       "</pre>\n"
      ],
      "text/plain": [
       "Analyzing /home/s/Skola/exjobb/github_metric_extractor/out/repositories/TDD-Hangman/src/controllers/__init__.py\n"
      ]
     },
     "metadata": {},
     "output_type": "display_data"
    },
    {
     "data": {
      "text/html": [
       "<pre style=\"white-space:pre;overflow-x:auto;line-height:normal;font-family:Menlo,'DejaVu Sans Mono',consolas,'Courier New',monospace\">Analyzing /home/s/Skola/exjobb/github_metric_extractor/out/repositories/TDD-Hangman/src/models/__init__.py\n",
       "</pre>\n"
      ],
      "text/plain": [
       "Analyzing /home/s/Skola/exjobb/github_metric_extractor/out/repositories/TDD-Hangman/src/models/__init__.py\n"
      ]
     },
     "metadata": {},
     "output_type": "display_data"
    },
    {
     "data": {
      "text/html": [
       "<pre style=\"white-space:pre;overflow-x:auto;line-height:normal;font-family:Menlo,'DejaVu Sans Mono',consolas,'Courier New',monospace\">Analyzing /home/s/Skola/exjobb/github_metric_extractor/out/repositories/TDD-Hangman/src/other/__init__.py\n",
       "</pre>\n"
      ],
      "text/plain": [
       "Analyzing /home/s/Skola/exjobb/github_metric_extractor/out/repositories/TDD-Hangman/src/other/__init__.py\n"
      ]
     },
     "metadata": {},
     "output_type": "display_data"
    },
    {
     "data": {
      "text/html": [
       "<pre style=\"white-space:pre;overflow-x:auto;line-height:normal;font-family:Menlo,'DejaVu Sans Mono',consolas,'Courier New',monospace\">Analyzing /home/s/Skola/exjobb/github_metric_extractor/out/repositories/TDD-Hangman/tests/controller_test.py\n",
       "</pre>\n"
      ],
      "text/plain": [
       "Analyzing /home/s/Skola/exjobb/github_metric_extractor/out/repositories/TDD-Hangman/tests/controller_test.py\n"
      ]
     },
     "metadata": {},
     "output_type": "display_data"
    },
    {
     "data": {
      "text/html": [
       "<pre style=\"white-space:pre;overflow-x:auto;line-height:normal;font-family:Menlo,'DejaVu Sans Mono',consolas,'Courier New',monospace\">Analyzing /home/s/Skola/exjobb/github_metric_extractor/out/repositories/TDD-Hangman/tests/view_test.py\n",
       "</pre>\n"
      ],
      "text/plain": [
       "Analyzing /home/s/Skola/exjobb/github_metric_extractor/out/repositories/TDD-Hangman/tests/view_test.py\n"
      ]
     },
     "metadata": {},
     "output_type": "display_data"
    },
    {
     "data": {
      "text/html": [
       "<pre style=\"white-space:pre;overflow-x:auto;line-height:normal;font-family:Menlo,'DejaVu Sans Mono',consolas,'Courier New',monospace\">Analyzing /home/s/Skola/exjobb/github_metric_extractor/out/repositories/TDD-Hangman/tests/hangman_test.py\n",
       "</pre>\n"
      ],
      "text/plain": [
       "Analyzing /home/s/Skola/exjobb/github_metric_extractor/out/repositories/TDD-Hangman/tests/hangman_test.py\n"
      ]
     },
     "metadata": {},
     "output_type": "display_data"
    },
    {
     "data": {
      "text/html": [
       "<pre style=\"white-space:pre;overflow-x:auto;line-height:normal;font-family:Menlo,'DejaVu Sans Mono',consolas,'Courier New',monospace\">Analyzing /home/s/Skola/exjobb/github_metric_extractor/out/repositories/TDD-Hangman/tests/model_test.py\n",
       "</pre>\n"
      ],
      "text/plain": [
       "Analyzing /home/s/Skola/exjobb/github_metric_extractor/out/repositories/TDD-Hangman/tests/model_test.py\n"
      ]
     },
     "metadata": {},
     "output_type": "display_data"
    },
    {
     "data": {
      "text/html": [
       "<pre style=\"white-space:pre;overflow-x:auto;line-height:normal;font-family:Menlo,'DejaVu Sans Mono',consolas,'Courier New',monospace\">Analyzing /home/s/Skola/exjobb/github_metric_extractor/out/repositories/TDD-Hangman/tests/__init__.py\n",
       "</pre>\n"
      ],
      "text/plain": [
       "Analyzing /home/s/Skola/exjobb/github_metric_extractor/out/repositories/TDD-Hangman/tests/__init__.py\n"
      ]
     },
     "metadata": {},
     "output_type": "display_data"
    },
    {
     "data": {
      "text/html": [
       "<pre style=\"white-space:pre;overflow-x:auto;line-height:normal;font-family:Menlo,'DejaVu Sans Mono',consolas,'Courier New',monospace\">Analyzing /home/s/Skola/exjobb/github_metric_extractor/out/repositories/TDD-Hangman/src/views/__init__.py\n",
       "</pre>\n"
      ],
      "text/plain": [
       "Analyzing /home/s/Skola/exjobb/github_metric_extractor/out/repositories/TDD-Hangman/src/views/__init__.py\n"
      ]
     },
     "metadata": {},
     "output_type": "display_data"
    },
    {
     "data": {
      "text/html": [
       "<pre style=\"white-space:pre;overflow-x:auto;line-height:normal;font-family:Menlo,'DejaVu Sans Mono',consolas,'Courier New',monospace\">Analyzing /home/s/Skola/exjobb/github_metric_extractor/out/repositories/TDD-Hangman/src/controllers/__init__.py\n",
       "</pre>\n"
      ],
      "text/plain": [
       "Analyzing /home/s/Skola/exjobb/github_metric_extractor/out/repositories/TDD-Hangman/src/controllers/__init__.py\n"
      ]
     },
     "metadata": {},
     "output_type": "display_data"
    },
    {
     "data": {
      "text/html": [
       "<pre style=\"white-space:pre;overflow-x:auto;line-height:normal;font-family:Menlo,'DejaVu Sans Mono',consolas,'Courier New',monospace\">Analyzing /home/s/Skola/exjobb/github_metric_extractor/out/repositories/TDD-Hangman/src/models/__init__.py\n",
       "</pre>\n"
      ],
      "text/plain": [
       "Analyzing /home/s/Skola/exjobb/github_metric_extractor/out/repositories/TDD-Hangman/src/models/__init__.py\n"
      ]
     },
     "metadata": {},
     "output_type": "display_data"
    },
    {
     "data": {
      "text/html": [
       "<pre style=\"white-space:pre;overflow-x:auto;line-height:normal;font-family:Menlo,'DejaVu Sans Mono',consolas,'Courier New',monospace\">Analyzing /home/s/Skola/exjobb/github_metric_extractor/out/repositories/TDD-Hangman/src/other/__init__.py\n",
       "</pre>\n"
      ],
      "text/plain": [
       "Analyzing /home/s/Skola/exjobb/github_metric_extractor/out/repositories/TDD-Hangman/src/other/__init__.py\n"
      ]
     },
     "metadata": {},
     "output_type": "display_data"
    },
    {
     "data": {
      "text/html": [
       "<pre style=\"white-space:pre;overflow-x:auto;line-height:normal;font-family:Menlo,'DejaVu Sans Mono',consolas,'Courier New',monospace\">Analyzing /home/s/Skola/exjobb/github_metric_extractor/out/repositories/TDD-Hangman/tests/controller_test.py\n",
       "</pre>\n"
      ],
      "text/plain": [
       "Analyzing /home/s/Skola/exjobb/github_metric_extractor/out/repositories/TDD-Hangman/tests/controller_test.py\n"
      ]
     },
     "metadata": {},
     "output_type": "display_data"
    },
    {
     "data": {
      "text/html": [
       "<pre style=\"white-space:pre;overflow-x:auto;line-height:normal;font-family:Menlo,'DejaVu Sans Mono',consolas,'Courier New',monospace\">Analyzing /home/s/Skola/exjobb/github_metric_extractor/out/repositories/TDD-Hangman/tests/view_test.py\n",
       "</pre>\n"
      ],
      "text/plain": [
       "Analyzing /home/s/Skola/exjobb/github_metric_extractor/out/repositories/TDD-Hangman/tests/view_test.py\n"
      ]
     },
     "metadata": {},
     "output_type": "display_data"
    },
    {
     "data": {
      "text/html": [
       "<pre style=\"white-space:pre;overflow-x:auto;line-height:normal;font-family:Menlo,'DejaVu Sans Mono',consolas,'Courier New',monospace\">Analyzing /home/s/Skola/exjobb/github_metric_extractor/out/repositories/TDD-Hangman/tests/hangman_test.py\n",
       "</pre>\n"
      ],
      "text/plain": [
       "Analyzing /home/s/Skola/exjobb/github_metric_extractor/out/repositories/TDD-Hangman/tests/hangman_test.py\n"
      ]
     },
     "metadata": {},
     "output_type": "display_data"
    },
    {
     "data": {
      "text/html": [
       "<pre style=\"white-space:pre;overflow-x:auto;line-height:normal;font-family:Menlo,'DejaVu Sans Mono',consolas,'Courier New',monospace\">Analyzing /home/s/Skola/exjobb/github_metric_extractor/out/repositories/TDD-Hangman/tests/model_test.py\n",
       "</pre>\n"
      ],
      "text/plain": [
       "Analyzing /home/s/Skola/exjobb/github_metric_extractor/out/repositories/TDD-Hangman/tests/model_test.py\n"
      ]
     },
     "metadata": {},
     "output_type": "display_data"
    },
    {
     "data": {
      "text/html": [
       "<pre style=\"white-space:pre;overflow-x:auto;line-height:normal;font-family:Menlo,'DejaVu Sans Mono',consolas,'Courier New',monospace\">Analyzing /home/s/Skola/exjobb/github_metric_extractor/out/repositories/TDD-Hangman/tests/__init__.py\n",
       "</pre>\n"
      ],
      "text/plain": [
       "Analyzing /home/s/Skola/exjobb/github_metric_extractor/out/repositories/TDD-Hangman/tests/__init__.py\n"
      ]
     },
     "metadata": {},
     "output_type": "display_data"
    },
    {
     "data": {
      "text/html": [
       "<pre style=\"white-space:pre;overflow-x:auto;line-height:normal;font-family:Menlo,'DejaVu Sans Mono',consolas,'Courier New',monospace\">Analyzing /home/s/Skola/exjobb/github_metric_extractor/out/repositories/TDD-Hangman/src/views/__init__.py\n",
       "</pre>\n"
      ],
      "text/plain": [
       "Analyzing /home/s/Skola/exjobb/github_metric_extractor/out/repositories/TDD-Hangman/src/views/__init__.py\n"
      ]
     },
     "metadata": {},
     "output_type": "display_data"
    },
    {
     "data": {
      "text/html": [
       "<pre style=\"white-space:pre;overflow-x:auto;line-height:normal;font-family:Menlo,'DejaVu Sans Mono',consolas,'Courier New',monospace\">Analyzing /home/s/Skola/exjobb/github_metric_extractor/out/repositories/TDD-Hangman/src/controllers/__init__.py\n",
       "</pre>\n"
      ],
      "text/plain": [
       "Analyzing /home/s/Skola/exjobb/github_metric_extractor/out/repositories/TDD-Hangman/src/controllers/__init__.py\n"
      ]
     },
     "metadata": {},
     "output_type": "display_data"
    },
    {
     "data": {
      "text/html": [
       "<pre style=\"white-space:pre;overflow-x:auto;line-height:normal;font-family:Menlo,'DejaVu Sans Mono',consolas,'Courier New',monospace\">Analyzing /home/s/Skola/exjobb/github_metric_extractor/out/repositories/TDD-Hangman/src/models/__init__.py\n",
       "</pre>\n"
      ],
      "text/plain": [
       "Analyzing /home/s/Skola/exjobb/github_metric_extractor/out/repositories/TDD-Hangman/src/models/__init__.py\n"
      ]
     },
     "metadata": {},
     "output_type": "display_data"
    },
    {
     "data": {
      "text/html": [
       "<pre style=\"white-space:pre;overflow-x:auto;line-height:normal;font-family:Menlo,'DejaVu Sans Mono',consolas,'Courier New',monospace\">Analyzing /home/s/Skola/exjobb/github_metric_extractor/out/repositories/TDD-Hangman/src/other/__init__.py\n",
       "</pre>\n"
      ],
      "text/plain": [
       "Analyzing /home/s/Skola/exjobb/github_metric_extractor/out/repositories/TDD-Hangman/src/other/__init__.py\n"
      ]
     },
     "metadata": {},
     "output_type": "display_data"
    },
    {
     "data": {
      "text/html": [
       "<pre style=\"white-space:pre;overflow-x:auto;line-height:normal;font-family:Menlo,'DejaVu Sans Mono',consolas,'Courier New',monospace\">Analyzing /home/s/Skola/exjobb/github_metric_extractor/out/repositories/TDD-Hangman/tests/controller_test.py\n",
       "</pre>\n"
      ],
      "text/plain": [
       "Analyzing /home/s/Skola/exjobb/github_metric_extractor/out/repositories/TDD-Hangman/tests/controller_test.py\n"
      ]
     },
     "metadata": {},
     "output_type": "display_data"
    },
    {
     "data": {
      "text/html": [
       "<pre style=\"white-space:pre;overflow-x:auto;line-height:normal;font-family:Menlo,'DejaVu Sans Mono',consolas,'Courier New',monospace\">Analyzing /home/s/Skola/exjobb/github_metric_extractor/out/repositories/TDD-Hangman/tests/view_test.py\n",
       "</pre>\n"
      ],
      "text/plain": [
       "Analyzing /home/s/Skola/exjobb/github_metric_extractor/out/repositories/TDD-Hangman/tests/view_test.py\n"
      ]
     },
     "metadata": {},
     "output_type": "display_data"
    },
    {
     "data": {
      "text/html": [
       "<pre style=\"white-space:pre;overflow-x:auto;line-height:normal;font-family:Menlo,'DejaVu Sans Mono',consolas,'Courier New',monospace\">Analyzing /home/s/Skola/exjobb/github_metric_extractor/out/repositories/TDD-Hangman/tests/hangman_test.py\n",
       "</pre>\n"
      ],
      "text/plain": [
       "Analyzing /home/s/Skola/exjobb/github_metric_extractor/out/repositories/TDD-Hangman/tests/hangman_test.py\n"
      ]
     },
     "metadata": {},
     "output_type": "display_data"
    },
    {
     "data": {
      "text/html": [
       "<pre style=\"white-space:pre;overflow-x:auto;line-height:normal;font-family:Menlo,'DejaVu Sans Mono',consolas,'Courier New',monospace\">Analyzing /home/s/Skola/exjobb/github_metric_extractor/out/repositories/TDD-Hangman/tests/model_test.py\n",
       "</pre>\n"
      ],
      "text/plain": [
       "Analyzing /home/s/Skola/exjobb/github_metric_extractor/out/repositories/TDD-Hangman/tests/model_test.py\n"
      ]
     },
     "metadata": {},
     "output_type": "display_data"
    },
    {
     "data": {
      "text/html": [
       "<pre style=\"white-space:pre;overflow-x:auto;line-height:normal;font-family:Menlo,'DejaVu Sans Mono',consolas,'Courier New',monospace\">Analyzing /home/s/Skola/exjobb/github_metric_extractor/out/repositories/TDD-Hangman/tests/__init__.py\n",
       "</pre>\n"
      ],
      "text/plain": [
       "Analyzing /home/s/Skola/exjobb/github_metric_extractor/out/repositories/TDD-Hangman/tests/__init__.py\n"
      ]
     },
     "metadata": {},
     "output_type": "display_data"
    },
    {
     "data": {
      "text/html": [
       "<pre style=\"white-space:pre;overflow-x:auto;line-height:normal;font-family:Menlo,'DejaVu Sans Mono',consolas,'Courier New',monospace\">Analyzing /home/s/Skola/exjobb/github_metric_extractor/out/repositories/TDD-Hangman/src/views/GUI.py\n",
       "</pre>\n"
      ],
      "text/plain": [
       "Analyzing /home/s/Skola/exjobb/github_metric_extractor/out/repositories/TDD-Hangman/src/views/GUI.py\n"
      ]
     },
     "metadata": {},
     "output_type": "display_data"
    },
    {
     "data": {
      "text/html": [
       "<pre style=\"white-space:pre;overflow-x:auto;line-height:normal;font-family:Menlo,'DejaVu Sans Mono',consolas,'Courier New',monospace\">Analyzing /home/s/Skola/exjobb/github_metric_extractor/out/repositories/TDD-Hangman/src/views/__init__.py\n",
       "</pre>\n"
      ],
      "text/plain": [
       "Analyzing /home/s/Skola/exjobb/github_metric_extractor/out/repositories/TDD-Hangman/src/views/__init__.py\n"
      ]
     },
     "metadata": {},
     "output_type": "display_data"
    },
    {
     "data": {
      "text/html": [
       "<pre style=\"white-space:pre;overflow-x:auto;line-height:normal;font-family:Menlo,'DejaVu Sans Mono',consolas,'Courier New',monospace\">Analyzing /home/s/Skola/exjobb/github_metric_extractor/out/repositories/TDD-Hangman/src/controllers/Controller.py\n",
       "</pre>\n"
      ],
      "text/plain": [
       "Analyzing /home/s/Skola/exjobb/github_metric_extractor/out/repositories/TDD-Hangman/src/controllers/Controller.py\n"
      ]
     },
     "metadata": {},
     "output_type": "display_data"
    },
    {
     "data": {
      "text/html": [
       "<pre style=\"white-space:pre;overflow-x:auto;line-height:normal;font-family:Menlo,'DejaVu Sans Mono',consolas,'Courier New',monospace\">Analyzing /home/s/Skola/exjobb/github_metric_extractor/out/repositories/TDD-Hangman/src/controllers/__init__.py\n",
       "</pre>\n"
      ],
      "text/plain": [
       "Analyzing /home/s/Skola/exjobb/github_metric_extractor/out/repositories/TDD-Hangman/src/controllers/__init__.py\n"
      ]
     },
     "metadata": {},
     "output_type": "display_data"
    },
    {
     "data": {
      "text/html": [
       "<pre style=\"white-space:pre;overflow-x:auto;line-height:normal;font-family:Menlo,'DejaVu Sans Mono',consolas,'Courier New',monospace\">Analyzing /home/s/Skola/exjobb/github_metric_extractor/out/repositories/TDD-Hangman/src/models/GameEngine.py\n",
       "</pre>\n"
      ],
      "text/plain": [
       "Analyzing /home/s/Skola/exjobb/github_metric_extractor/out/repositories/TDD-Hangman/src/models/GameEngine.py\n"
      ]
     },
     "metadata": {},
     "output_type": "display_data"
    },
    {
     "data": {
      "text/html": [
       "<pre style=\"white-space:pre;overflow-x:auto;line-height:normal;font-family:Menlo,'DejaVu Sans Mono',consolas,'Courier New',monospace\">Analyzing /home/s/Skola/exjobb/github_metric_extractor/out/repositories/TDD-Hangman/src/models/__init__.py\n",
       "</pre>\n"
      ],
      "text/plain": [
       "Analyzing /home/s/Skola/exjobb/github_metric_extractor/out/repositories/TDD-Hangman/src/models/__init__.py\n"
      ]
     },
     "metadata": {},
     "output_type": "display_data"
    },
    {
     "data": {
      "text/html": [
       "<pre style=\"white-space:pre;overflow-x:auto;line-height:normal;font-family:Menlo,'DejaVu Sans Mono',consolas,'Courier New',monospace\">Analyzing /home/s/Skola/exjobb/github_metric_extractor/out/repositories/TDD-Hangman/src/other/__init__.py\n",
       "</pre>\n"
      ],
      "text/plain": [
       "Analyzing /home/s/Skola/exjobb/github_metric_extractor/out/repositories/TDD-Hangman/src/other/__init__.py\n"
      ]
     },
     "metadata": {},
     "output_type": "display_data"
    },
    {
     "data": {
      "text/html": [
       "<pre style=\"white-space:pre;overflow-x:auto;line-height:normal;font-family:Menlo,'DejaVu Sans Mono',consolas,'Courier New',monospace\">Analyzing /home/s/Skola/exjobb/github_metric_extractor/out/repositories/TDD-Hangman/tests/controller_test.py\n",
       "</pre>\n"
      ],
      "text/plain": [
       "Analyzing /home/s/Skola/exjobb/github_metric_extractor/out/repositories/TDD-Hangman/tests/controller_test.py\n"
      ]
     },
     "metadata": {},
     "output_type": "display_data"
    },
    {
     "data": {
      "text/html": [
       "<pre style=\"white-space:pre;overflow-x:auto;line-height:normal;font-family:Menlo,'DejaVu Sans Mono',consolas,'Courier New',monospace\">Analyzing /home/s/Skola/exjobb/github_metric_extractor/out/repositories/TDD-Hangman/tests/view_test.py\n",
       "</pre>\n"
      ],
      "text/plain": [
       "Analyzing /home/s/Skola/exjobb/github_metric_extractor/out/repositories/TDD-Hangman/tests/view_test.py\n"
      ]
     },
     "metadata": {},
     "output_type": "display_data"
    },
    {
     "data": {
      "text/html": [
       "<pre style=\"white-space:pre;overflow-x:auto;line-height:normal;font-family:Menlo,'DejaVu Sans Mono',consolas,'Courier New',monospace\">Analyzing /home/s/Skola/exjobb/github_metric_extractor/out/repositories/TDD-Hangman/tests/hangman_test.py\n",
       "</pre>\n"
      ],
      "text/plain": [
       "Analyzing /home/s/Skola/exjobb/github_metric_extractor/out/repositories/TDD-Hangman/tests/hangman_test.py\n"
      ]
     },
     "metadata": {},
     "output_type": "display_data"
    },
    {
     "data": {
      "text/html": [
       "<pre style=\"white-space:pre;overflow-x:auto;line-height:normal;font-family:Menlo,'DejaVu Sans Mono',consolas,'Courier New',monospace\">Analyzing /home/s/Skola/exjobb/github_metric_extractor/out/repositories/TDD-Hangman/tests/model_test.py\n",
       "</pre>\n"
      ],
      "text/plain": [
       "Analyzing /home/s/Skola/exjobb/github_metric_extractor/out/repositories/TDD-Hangman/tests/model_test.py\n"
      ]
     },
     "metadata": {},
     "output_type": "display_data"
    },
    {
     "data": {
      "text/html": [
       "<pre style=\"white-space:pre;overflow-x:auto;line-height:normal;font-family:Menlo,'DejaVu Sans Mono',consolas,'Courier New',monospace\">Analyzing /home/s/Skola/exjobb/github_metric_extractor/out/repositories/TDD-Hangman/tests/__init__.py\n",
       "</pre>\n"
      ],
      "text/plain": [
       "Analyzing /home/s/Skola/exjobb/github_metric_extractor/out/repositories/TDD-Hangman/tests/__init__.py\n"
      ]
     },
     "metadata": {},
     "output_type": "display_data"
    },
    {
     "data": {
      "text/html": [
       "<pre style=\"white-space:pre;overflow-x:auto;line-height:normal;font-family:Menlo,'DejaVu Sans Mono',consolas,'Courier New',monospace\">Analyzing /home/s/Skola/exjobb/github_metric_extractor/out/repositories/TDD-Hangman/src/views/GUI.py\n",
       "</pre>\n"
      ],
      "text/plain": [
       "Analyzing /home/s/Skola/exjobb/github_metric_extractor/out/repositories/TDD-Hangman/src/views/GUI.py\n"
      ]
     },
     "metadata": {},
     "output_type": "display_data"
    },
    {
     "data": {
      "text/html": [
       "<pre style=\"white-space:pre;overflow-x:auto;line-height:normal;font-family:Menlo,'DejaVu Sans Mono',consolas,'Courier New',monospace\">Analyzing /home/s/Skola/exjobb/github_metric_extractor/out/repositories/TDD-Hangman/src/views/__init__.py\n",
       "</pre>\n"
      ],
      "text/plain": [
       "Analyzing /home/s/Skola/exjobb/github_metric_extractor/out/repositories/TDD-Hangman/src/views/__init__.py\n"
      ]
     },
     "metadata": {},
     "output_type": "display_data"
    },
    {
     "data": {
      "text/html": [
       "<pre style=\"white-space:pre;overflow-x:auto;line-height:normal;font-family:Menlo,'DejaVu Sans Mono',consolas,'Courier New',monospace\">Analyzing /home/s/Skola/exjobb/github_metric_extractor/out/repositories/TDD-Hangman/src/controllers/Controller.py\n",
       "</pre>\n"
      ],
      "text/plain": [
       "Analyzing /home/s/Skola/exjobb/github_metric_extractor/out/repositories/TDD-Hangman/src/controllers/Controller.py\n"
      ]
     },
     "metadata": {},
     "output_type": "display_data"
    },
    {
     "data": {
      "text/html": [
       "<pre style=\"white-space:pre;overflow-x:auto;line-height:normal;font-family:Menlo,'DejaVu Sans Mono',consolas,'Courier New',monospace\">Analyzing /home/s/Skola/exjobb/github_metric_extractor/out/repositories/TDD-Hangman/src/controllers/__init__.py\n",
       "</pre>\n"
      ],
      "text/plain": [
       "Analyzing /home/s/Skola/exjobb/github_metric_extractor/out/repositories/TDD-Hangman/src/controllers/__init__.py\n"
      ]
     },
     "metadata": {},
     "output_type": "display_data"
    },
    {
     "data": {
      "text/html": [
       "<pre style=\"white-space:pre;overflow-x:auto;line-height:normal;font-family:Menlo,'DejaVu Sans Mono',consolas,'Courier New',monospace\">Analyzing /home/s/Skola/exjobb/github_metric_extractor/out/repositories/TDD-Hangman/src/models/GameEngine.py\n",
       "</pre>\n"
      ],
      "text/plain": [
       "Analyzing /home/s/Skola/exjobb/github_metric_extractor/out/repositories/TDD-Hangman/src/models/GameEngine.py\n"
      ]
     },
     "metadata": {},
     "output_type": "display_data"
    },
    {
     "data": {
      "text/html": [
       "<pre style=\"white-space:pre;overflow-x:auto;line-height:normal;font-family:Menlo,'DejaVu Sans Mono',consolas,'Courier New',monospace\">Analyzing /home/s/Skola/exjobb/github_metric_extractor/out/repositories/TDD-Hangman/src/models/__init__.py\n",
       "</pre>\n"
      ],
      "text/plain": [
       "Analyzing /home/s/Skola/exjobb/github_metric_extractor/out/repositories/TDD-Hangman/src/models/__init__.py\n"
      ]
     },
     "metadata": {},
     "output_type": "display_data"
    },
    {
     "data": {
      "text/html": [
       "<pre style=\"white-space:pre;overflow-x:auto;line-height:normal;font-family:Menlo,'DejaVu Sans Mono',consolas,'Courier New',monospace\">Analyzing /home/s/Skola/exjobb/github_metric_extractor/out/repositories/TDD-Hangman/src/other/__init__.py\n",
       "</pre>\n"
      ],
      "text/plain": [
       "Analyzing /home/s/Skola/exjobb/github_metric_extractor/out/repositories/TDD-Hangman/src/other/__init__.py\n"
      ]
     },
     "metadata": {},
     "output_type": "display_data"
    },
    {
     "data": {
      "text/html": [
       "<pre style=\"white-space:pre;overflow-x:auto;line-height:normal;font-family:Menlo,'DejaVu Sans Mono',consolas,'Courier New',monospace\">Analyzing /home/s/Skola/exjobb/github_metric_extractor/out/repositories/TDD-Hangman/tests/controller_test.py\n",
       "</pre>\n"
      ],
      "text/plain": [
       "Analyzing /home/s/Skola/exjobb/github_metric_extractor/out/repositories/TDD-Hangman/tests/controller_test.py\n"
      ]
     },
     "metadata": {},
     "output_type": "display_data"
    },
    {
     "data": {
      "text/html": [
       "<pre style=\"white-space:pre;overflow-x:auto;line-height:normal;font-family:Menlo,'DejaVu Sans Mono',consolas,'Courier New',monospace\">Analyzing /home/s/Skola/exjobb/github_metric_extractor/out/repositories/TDD-Hangman/tests/view_test.py\n",
       "</pre>\n"
      ],
      "text/plain": [
       "Analyzing /home/s/Skola/exjobb/github_metric_extractor/out/repositories/TDD-Hangman/tests/view_test.py\n"
      ]
     },
     "metadata": {},
     "output_type": "display_data"
    },
    {
     "data": {
      "text/html": [
       "<pre style=\"white-space:pre;overflow-x:auto;line-height:normal;font-family:Menlo,'DejaVu Sans Mono',consolas,'Courier New',monospace\">Analyzing /home/s/Skola/exjobb/github_metric_extractor/out/repositories/TDD-Hangman/tests/hangman_test.py\n",
       "</pre>\n"
      ],
      "text/plain": [
       "Analyzing /home/s/Skola/exjobb/github_metric_extractor/out/repositories/TDD-Hangman/tests/hangman_test.py\n"
      ]
     },
     "metadata": {},
     "output_type": "display_data"
    },
    {
     "data": {
      "text/html": [
       "<pre style=\"white-space:pre;overflow-x:auto;line-height:normal;font-family:Menlo,'DejaVu Sans Mono',consolas,'Courier New',monospace\">Analyzing /home/s/Skola/exjobb/github_metric_extractor/out/repositories/TDD-Hangman/tests/model_test.py\n",
       "</pre>\n"
      ],
      "text/plain": [
       "Analyzing /home/s/Skola/exjobb/github_metric_extractor/out/repositories/TDD-Hangman/tests/model_test.py\n"
      ]
     },
     "metadata": {},
     "output_type": "display_data"
    },
    {
     "data": {
      "text/html": [
       "<pre style=\"white-space:pre;overflow-x:auto;line-height:normal;font-family:Menlo,'DejaVu Sans Mono',consolas,'Courier New',monospace\">Analyzing /home/s/Skola/exjobb/github_metric_extractor/out/repositories/TDD-Hangman/tests/__init__.py\n",
       "</pre>\n"
      ],
      "text/plain": [
       "Analyzing /home/s/Skola/exjobb/github_metric_extractor/out/repositories/TDD-Hangman/tests/__init__.py\n"
      ]
     },
     "metadata": {},
     "output_type": "display_data"
    },
    {
     "data": {
      "text/html": [
       "<pre style=\"white-space:pre;overflow-x:auto;line-height:normal;font-family:Menlo,'DejaVu Sans Mono',consolas,'Courier New',monospace\">Analyzing /home/s/Skola/exjobb/github_metric_extractor/out/repositories/TDD-Hangman/src/views/__init__.py\n",
       "</pre>\n"
      ],
      "text/plain": [
       "Analyzing /home/s/Skola/exjobb/github_metric_extractor/out/repositories/TDD-Hangman/src/views/__init__.py\n"
      ]
     },
     "metadata": {},
     "output_type": "display_data"
    },
    {
     "data": {
      "text/html": [
       "<pre style=\"white-space:pre;overflow-x:auto;line-height:normal;font-family:Menlo,'DejaVu Sans Mono',consolas,'Courier New',monospace\">Analyzing /home/s/Skola/exjobb/github_metric_extractor/out/repositories/TDD-Hangman/src/controllers/__init__.py\n",
       "</pre>\n"
      ],
      "text/plain": [
       "Analyzing /home/s/Skola/exjobb/github_metric_extractor/out/repositories/TDD-Hangman/src/controllers/__init__.py\n"
      ]
     },
     "metadata": {},
     "output_type": "display_data"
    },
    {
     "data": {
      "text/html": [
       "<pre style=\"white-space:pre;overflow-x:auto;line-height:normal;font-family:Menlo,'DejaVu Sans Mono',consolas,'Courier New',monospace\">Analyzing /home/s/Skola/exjobb/github_metric_extractor/out/repositories/TDD-Hangman/src/models/__init__.py\n",
       "</pre>\n"
      ],
      "text/plain": [
       "Analyzing /home/s/Skola/exjobb/github_metric_extractor/out/repositories/TDD-Hangman/src/models/__init__.py\n"
      ]
     },
     "metadata": {},
     "output_type": "display_data"
    },
    {
     "data": {
      "text/html": [
       "<pre style=\"white-space:pre;overflow-x:auto;line-height:normal;font-family:Menlo,'DejaVu Sans Mono',consolas,'Courier New',monospace\">Analyzing /home/s/Skola/exjobb/github_metric_extractor/out/repositories/TDD-Hangman/src/other/__init__.py\n",
       "</pre>\n"
      ],
      "text/plain": [
       "Analyzing /home/s/Skola/exjobb/github_metric_extractor/out/repositories/TDD-Hangman/src/other/__init__.py\n"
      ]
     },
     "metadata": {},
     "output_type": "display_data"
    },
    {
     "data": {
      "text/html": [
       "<pre style=\"white-space:pre;overflow-x:auto;line-height:normal;font-family:Menlo,'DejaVu Sans Mono',consolas,'Courier New',monospace\">Analyzing /home/s/Skola/exjobb/github_metric_extractor/out/repositories/TDD-Hangman/tests/controller_test.py\n",
       "</pre>\n"
      ],
      "text/plain": [
       "Analyzing /home/s/Skola/exjobb/github_metric_extractor/out/repositories/TDD-Hangman/tests/controller_test.py\n"
      ]
     },
     "metadata": {},
     "output_type": "display_data"
    },
    {
     "data": {
      "text/html": [
       "<pre style=\"white-space:pre;overflow-x:auto;line-height:normal;font-family:Menlo,'DejaVu Sans Mono',consolas,'Courier New',monospace\">Analyzing /home/s/Skola/exjobb/github_metric_extractor/out/repositories/TDD-Hangman/tests/view_test.py\n",
       "</pre>\n"
      ],
      "text/plain": [
       "Analyzing /home/s/Skola/exjobb/github_metric_extractor/out/repositories/TDD-Hangman/tests/view_test.py\n"
      ]
     },
     "metadata": {},
     "output_type": "display_data"
    },
    {
     "data": {
      "text/html": [
       "<pre style=\"white-space:pre;overflow-x:auto;line-height:normal;font-family:Menlo,'DejaVu Sans Mono',consolas,'Courier New',monospace\">Analyzing /home/s/Skola/exjobb/github_metric_extractor/out/repositories/TDD-Hangman/tests/hangman_test.py\n",
       "</pre>\n"
      ],
      "text/plain": [
       "Analyzing /home/s/Skola/exjobb/github_metric_extractor/out/repositories/TDD-Hangman/tests/hangman_test.py\n"
      ]
     },
     "metadata": {},
     "output_type": "display_data"
    },
    {
     "data": {
      "text/html": [
       "<pre style=\"white-space:pre;overflow-x:auto;line-height:normal;font-family:Menlo,'DejaVu Sans Mono',consolas,'Courier New',monospace\">Analyzing /home/s/Skola/exjobb/github_metric_extractor/out/repositories/TDD-Hangman/tests/model_test.py\n",
       "</pre>\n"
      ],
      "text/plain": [
       "Analyzing /home/s/Skola/exjobb/github_metric_extractor/out/repositories/TDD-Hangman/tests/model_test.py\n"
      ]
     },
     "metadata": {},
     "output_type": "display_data"
    },
    {
     "data": {
      "text/html": [
       "<pre style=\"white-space:pre;overflow-x:auto;line-height:normal;font-family:Menlo,'DejaVu Sans Mono',consolas,'Courier New',monospace\">Analyzing /home/s/Skola/exjobb/github_metric_extractor/out/repositories/TDD-Hangman/tests/__init__.py\n",
       "</pre>\n"
      ],
      "text/plain": [
       "Analyzing /home/s/Skola/exjobb/github_metric_extractor/out/repositories/TDD-Hangman/tests/__init__.py\n"
      ]
     },
     "metadata": {},
     "output_type": "display_data"
    },
    {
     "data": {
      "text/html": [
       "<pre style=\"white-space:pre;overflow-x:auto;line-height:normal;font-family:Menlo,'DejaVu Sans Mono',consolas,'Courier New',monospace\">Analyzing /home/s/Skola/exjobb/github_metric_extractor/out/repositories/TDD-Hangman/src/views/GUI.py\n",
       "</pre>\n"
      ],
      "text/plain": [
       "Analyzing /home/s/Skola/exjobb/github_metric_extractor/out/repositories/TDD-Hangman/src/views/GUI.py\n"
      ]
     },
     "metadata": {},
     "output_type": "display_data"
    },
    {
     "data": {
      "text/html": [
       "<pre style=\"white-space:pre;overflow-x:auto;line-height:normal;font-family:Menlo,'DejaVu Sans Mono',consolas,'Courier New',monospace\">Analyzing /home/s/Skola/exjobb/github_metric_extractor/out/repositories/TDD-Hangman/src/views/__init__.py\n",
       "</pre>\n"
      ],
      "text/plain": [
       "Analyzing /home/s/Skola/exjobb/github_metric_extractor/out/repositories/TDD-Hangman/src/views/__init__.py\n"
      ]
     },
     "metadata": {},
     "output_type": "display_data"
    },
    {
     "data": {
      "text/html": [
       "<pre style=\"white-space:pre;overflow-x:auto;line-height:normal;font-family:Menlo,'DejaVu Sans Mono',consolas,'Courier New',monospace\">Analyzing /home/s/Skola/exjobb/github_metric_extractor/out/repositories/TDD-Hangman/src/controllers/Controller.py\n",
       "</pre>\n"
      ],
      "text/plain": [
       "Analyzing /home/s/Skola/exjobb/github_metric_extractor/out/repositories/TDD-Hangman/src/controllers/Controller.py\n"
      ]
     },
     "metadata": {},
     "output_type": "display_data"
    },
    {
     "data": {
      "text/html": [
       "<pre style=\"white-space:pre;overflow-x:auto;line-height:normal;font-family:Menlo,'DejaVu Sans Mono',consolas,'Courier New',monospace\">Analyzing /home/s/Skola/exjobb/github_metric_extractor/out/repositories/TDD-Hangman/src/controllers/__init__.py\n",
       "</pre>\n"
      ],
      "text/plain": [
       "Analyzing /home/s/Skola/exjobb/github_metric_extractor/out/repositories/TDD-Hangman/src/controllers/__init__.py\n"
      ]
     },
     "metadata": {},
     "output_type": "display_data"
    },
    {
     "data": {
      "text/html": [
       "<pre style=\"white-space:pre;overflow-x:auto;line-height:normal;font-family:Menlo,'DejaVu Sans Mono',consolas,'Courier New',monospace\">Analyzing /home/s/Skola/exjobb/github_metric_extractor/out/repositories/TDD-Hangman/src/models/GameEngine.py\n",
       "</pre>\n"
      ],
      "text/plain": [
       "Analyzing /home/s/Skola/exjobb/github_metric_extractor/out/repositories/TDD-Hangman/src/models/GameEngine.py\n"
      ]
     },
     "metadata": {},
     "output_type": "display_data"
    },
    {
     "data": {
      "text/html": [
       "<pre style=\"white-space:pre;overflow-x:auto;line-height:normal;font-family:Menlo,'DejaVu Sans Mono',consolas,'Courier New',monospace\">Analyzing /home/s/Skola/exjobb/github_metric_extractor/out/repositories/TDD-Hangman/src/models/__init__.py\n",
       "</pre>\n"
      ],
      "text/plain": [
       "Analyzing /home/s/Skola/exjobb/github_metric_extractor/out/repositories/TDD-Hangman/src/models/__init__.py\n"
      ]
     },
     "metadata": {},
     "output_type": "display_data"
    },
    {
     "data": {
      "text/html": [
       "<pre style=\"white-space:pre;overflow-x:auto;line-height:normal;font-family:Menlo,'DejaVu Sans Mono',consolas,'Courier New',monospace\">Analyzing /home/s/Skola/exjobb/github_metric_extractor/out/repositories/TDD-Hangman/src/other/__init__.py\n",
       "</pre>\n"
      ],
      "text/plain": [
       "Analyzing /home/s/Skola/exjobb/github_metric_extractor/out/repositories/TDD-Hangman/src/other/__init__.py\n"
      ]
     },
     "metadata": {},
     "output_type": "display_data"
    },
    {
     "data": {
      "text/html": [
       "<pre style=\"white-space:pre;overflow-x:auto;line-height:normal;font-family:Menlo,'DejaVu Sans Mono',consolas,'Courier New',monospace\">Analyzing /home/s/Skola/exjobb/github_metric_extractor/out/repositories/TDD-Hangman/tests/test_view.py\n",
       "</pre>\n"
      ],
      "text/plain": [
       "Analyzing /home/s/Skola/exjobb/github_metric_extractor/out/repositories/TDD-Hangman/tests/test_view.py\n"
      ]
     },
     "metadata": {},
     "output_type": "display_data"
    },
    {
     "data": {
      "text/html": [
       "<pre style=\"white-space:pre;overflow-x:auto;line-height:normal;font-family:Menlo,'DejaVu Sans Mono',consolas,'Courier New',monospace\">Analyzing /home/s/Skola/exjobb/github_metric_extractor/out/repositories/TDD-Hangman/tests/test_hangman.py\n",
       "</pre>\n"
      ],
      "text/plain": [
       "Analyzing /home/s/Skola/exjobb/github_metric_extractor/out/repositories/TDD-Hangman/tests/test_hangman.py\n"
      ]
     },
     "metadata": {},
     "output_type": "display_data"
    },
    {
     "data": {
      "text/html": [
       "<pre style=\"white-space:pre;overflow-x:auto;line-height:normal;font-family:Menlo,'DejaVu Sans Mono',consolas,'Courier New',monospace\">Analyzing /home/s/Skola/exjobb/github_metric_extractor/out/repositories/TDD-Hangman/tests/test_controller.py\n",
       "</pre>\n"
      ],
      "text/plain": [
       "Analyzing /home/s/Skola/exjobb/github_metric_extractor/out/repositories/TDD-Hangman/tests/test_controller.py\n"
      ]
     },
     "metadata": {},
     "output_type": "display_data"
    },
    {
     "data": {
      "text/html": [
       "<pre style=\"white-space:pre;overflow-x:auto;line-height:normal;font-family:Menlo,'DejaVu Sans Mono',consolas,'Courier New',monospace\">Analyzing /home/s/Skola/exjobb/github_metric_extractor/out/repositories/TDD-Hangman/tests/test_model.py\n",
       "</pre>\n"
      ],
      "text/plain": [
       "Analyzing /home/s/Skola/exjobb/github_metric_extractor/out/repositories/TDD-Hangman/tests/test_model.py\n"
      ]
     },
     "metadata": {},
     "output_type": "display_data"
    },
    {
     "data": {
      "text/html": [
       "<pre style=\"white-space:pre;overflow-x:auto;line-height:normal;font-family:Menlo,'DejaVu Sans Mono',consolas,'Courier New',monospace\">Analyzing /home/s/Skola/exjobb/github_metric_extractor/out/repositories/TDD-Hangman/tests/__init__.py\n",
       "</pre>\n"
      ],
      "text/plain": [
       "Analyzing /home/s/Skola/exjobb/github_metric_extractor/out/repositories/TDD-Hangman/tests/__init__.py\n"
      ]
     },
     "metadata": {},
     "output_type": "display_data"
    },
    {
     "data": {
      "text/html": [
       "<pre style=\"white-space:pre;overflow-x:auto;line-height:normal;font-family:Menlo,'DejaVu Sans Mono',consolas,'Courier New',monospace\">Analyzing /home/s/Skola/exjobb/github_metric_extractor/out/repositories/TDD-Hangman/src/views/GUI.py\n",
       "</pre>\n"
      ],
      "text/plain": [
       "Analyzing /home/s/Skola/exjobb/github_metric_extractor/out/repositories/TDD-Hangman/src/views/GUI.py\n"
      ]
     },
     "metadata": {},
     "output_type": "display_data"
    },
    {
     "data": {
      "text/html": [
       "<pre style=\"white-space:pre;overflow-x:auto;line-height:normal;font-family:Menlo,'DejaVu Sans Mono',consolas,'Courier New',monospace\">Analyzing /home/s/Skola/exjobb/github_metric_extractor/out/repositories/TDD-Hangman/src/views/__init__.py\n",
       "</pre>\n"
      ],
      "text/plain": [
       "Analyzing /home/s/Skola/exjobb/github_metric_extractor/out/repositories/TDD-Hangman/src/views/__init__.py\n"
      ]
     },
     "metadata": {},
     "output_type": "display_data"
    },
    {
     "data": {
      "text/html": [
       "<pre style=\"white-space:pre;overflow-x:auto;line-height:normal;font-family:Menlo,'DejaVu Sans Mono',consolas,'Courier New',monospace\">Analyzing /home/s/Skola/exjobb/github_metric_extractor/out/repositories/TDD-Hangman/src/controllers/Controller.py\n",
       "</pre>\n"
      ],
      "text/plain": [
       "Analyzing /home/s/Skola/exjobb/github_metric_extractor/out/repositories/TDD-Hangman/src/controllers/Controller.py\n"
      ]
     },
     "metadata": {},
     "output_type": "display_data"
    },
    {
     "data": {
      "text/html": [
       "<pre style=\"white-space:pre;overflow-x:auto;line-height:normal;font-family:Menlo,'DejaVu Sans Mono',consolas,'Courier New',monospace\">Analyzing /home/s/Skola/exjobb/github_metric_extractor/out/repositories/TDD-Hangman/src/controllers/__init__.py\n",
       "</pre>\n"
      ],
      "text/plain": [
       "Analyzing /home/s/Skola/exjobb/github_metric_extractor/out/repositories/TDD-Hangman/src/controllers/__init__.py\n"
      ]
     },
     "metadata": {},
     "output_type": "display_data"
    },
    {
     "data": {
      "text/html": [
       "<pre style=\"white-space:pre;overflow-x:auto;line-height:normal;font-family:Menlo,'DejaVu Sans Mono',consolas,'Courier New',monospace\">Analyzing /home/s/Skola/exjobb/github_metric_extractor/out/repositories/TDD-Hangman/src/models/GameEngine.py\n",
       "</pre>\n"
      ],
      "text/plain": [
       "Analyzing /home/s/Skola/exjobb/github_metric_extractor/out/repositories/TDD-Hangman/src/models/GameEngine.py\n"
      ]
     },
     "metadata": {},
     "output_type": "display_data"
    },
    {
     "data": {
      "text/html": [
       "<pre style=\"white-space:pre;overflow-x:auto;line-height:normal;font-family:Menlo,'DejaVu Sans Mono',consolas,'Courier New',monospace\">Analyzing /home/s/Skola/exjobb/github_metric_extractor/out/repositories/TDD-Hangman/src/models/__init__.py\n",
       "</pre>\n"
      ],
      "text/plain": [
       "Analyzing /home/s/Skola/exjobb/github_metric_extractor/out/repositories/TDD-Hangman/src/models/__init__.py\n"
      ]
     },
     "metadata": {},
     "output_type": "display_data"
    },
    {
     "data": {
      "text/html": [
       "<pre style=\"white-space:pre;overflow-x:auto;line-height:normal;font-family:Menlo,'DejaVu Sans Mono',consolas,'Courier New',monospace\">Analyzing /home/s/Skola/exjobb/github_metric_extractor/out/repositories/TDD-Hangman/src/other/__init__.py\n",
       "</pre>\n"
      ],
      "text/plain": [
       "Analyzing /home/s/Skola/exjobb/github_metric_extractor/out/repositories/TDD-Hangman/src/other/__init__.py\n"
      ]
     },
     "metadata": {},
     "output_type": "display_data"
    },
    {
     "data": {
      "text/html": [
       "<pre style=\"white-space:pre;overflow-x:auto;line-height:normal;font-family:Menlo,'DejaVu Sans Mono',consolas,'Courier New',monospace\">Analyzing /home/s/Skola/exjobb/github_metric_extractor/out/repositories/TDD-Hangman/tests/test_view.py\n",
       "</pre>\n"
      ],
      "text/plain": [
       "Analyzing /home/s/Skola/exjobb/github_metric_extractor/out/repositories/TDD-Hangman/tests/test_view.py\n"
      ]
     },
     "metadata": {},
     "output_type": "display_data"
    },
    {
     "data": {
      "text/html": [
       "<pre style=\"white-space:pre;overflow-x:auto;line-height:normal;font-family:Menlo,'DejaVu Sans Mono',consolas,'Courier New',monospace\">Analyzing /home/s/Skola/exjobb/github_metric_extractor/out/repositories/TDD-Hangman/tests/test_hangman.py\n",
       "</pre>\n"
      ],
      "text/plain": [
       "Analyzing /home/s/Skola/exjobb/github_metric_extractor/out/repositories/TDD-Hangman/tests/test_hangman.py\n"
      ]
     },
     "metadata": {},
     "output_type": "display_data"
    },
    {
     "data": {
      "text/html": [
       "<pre style=\"white-space:pre;overflow-x:auto;line-height:normal;font-family:Menlo,'DejaVu Sans Mono',consolas,'Courier New',monospace\">Analyzing /home/s/Skola/exjobb/github_metric_extractor/out/repositories/TDD-Hangman/tests/test_controller.py\n",
       "</pre>\n"
      ],
      "text/plain": [
       "Analyzing /home/s/Skola/exjobb/github_metric_extractor/out/repositories/TDD-Hangman/tests/test_controller.py\n"
      ]
     },
     "metadata": {},
     "output_type": "display_data"
    },
    {
     "data": {
      "text/html": [
       "<pre style=\"white-space:pre;overflow-x:auto;line-height:normal;font-family:Menlo,'DejaVu Sans Mono',consolas,'Courier New',monospace\">Analyzing /home/s/Skola/exjobb/github_metric_extractor/out/repositories/TDD-Hangman/tests/test_model.py\n",
       "</pre>\n"
      ],
      "text/plain": [
       "Analyzing /home/s/Skola/exjobb/github_metric_extractor/out/repositories/TDD-Hangman/tests/test_model.py\n"
      ]
     },
     "metadata": {},
     "output_type": "display_data"
    },
    {
     "data": {
      "text/html": [
       "<pre style=\"white-space:pre;overflow-x:auto;line-height:normal;font-family:Menlo,'DejaVu Sans Mono',consolas,'Courier New',monospace\">Analyzing /home/s/Skola/exjobb/github_metric_extractor/out/repositories/TDD-Hangman/tests/__init__.py\n",
       "</pre>\n"
      ],
      "text/plain": [
       "Analyzing /home/s/Skola/exjobb/github_metric_extractor/out/repositories/TDD-Hangman/tests/__init__.py\n"
      ]
     },
     "metadata": {},
     "output_type": "display_data"
    },
    {
     "data": {
      "text/html": [
       "<pre style=\"white-space:pre;overflow-x:auto;line-height:normal;font-family:Menlo,'DejaVu Sans Mono',consolas,'Courier New',monospace\">Analyzing /home/s/Skola/exjobb/github_metric_extractor/out/repositories/TDD-Hangman/src/hangman.py\n",
       "</pre>\n"
      ],
      "text/plain": [
       "Analyzing /home/s/Skola/exjobb/github_metric_extractor/out/repositories/TDD-Hangman/src/hangman.py\n"
      ]
     },
     "metadata": {},
     "output_type": "display_data"
    },
    {
     "data": {
      "text/html": [
       "<pre style=\"white-space:pre;overflow-x:auto;line-height:normal;font-family:Menlo,'DejaVu Sans Mono',consolas,'Courier New',monospace\">Analyzing /home/s/Skola/exjobb/github_metric_extractor/out/repositories/TDD-Hangman/src/views/GUI.py\n",
       "</pre>\n"
      ],
      "text/plain": [
       "Analyzing /home/s/Skola/exjobb/github_metric_extractor/out/repositories/TDD-Hangman/src/views/GUI.py\n"
      ]
     },
     "metadata": {},
     "output_type": "display_data"
    },
    {
     "data": {
      "text/html": [
       "<pre style=\"white-space:pre;overflow-x:auto;line-height:normal;font-family:Menlo,'DejaVu Sans Mono',consolas,'Courier New',monospace\">Analyzing /home/s/Skola/exjobb/github_metric_extractor/out/repositories/TDD-Hangman/src/views/__init__.py\n",
       "</pre>\n"
      ],
      "text/plain": [
       "Analyzing /home/s/Skola/exjobb/github_metric_extractor/out/repositories/TDD-Hangman/src/views/__init__.py\n"
      ]
     },
     "metadata": {},
     "output_type": "display_data"
    },
    {
     "data": {
      "text/html": [
       "<pre style=\"white-space:pre;overflow-x:auto;line-height:normal;font-family:Menlo,'DejaVu Sans Mono',consolas,'Courier New',monospace\">Analyzing /home/s/Skola/exjobb/github_metric_extractor/out/repositories/TDD-Hangman/src/controllers/Controller.py\n",
       "</pre>\n"
      ],
      "text/plain": [
       "Analyzing /home/s/Skola/exjobb/github_metric_extractor/out/repositories/TDD-Hangman/src/controllers/Controller.py\n"
      ]
     },
     "metadata": {},
     "output_type": "display_data"
    },
    {
     "data": {
      "text/html": [
       "<pre style=\"white-space:pre;overflow-x:auto;line-height:normal;font-family:Menlo,'DejaVu Sans Mono',consolas,'Courier New',monospace\">Analyzing /home/s/Skola/exjobb/github_metric_extractor/out/repositories/TDD-Hangman/src/controllers/__init__.py\n",
       "</pre>\n"
      ],
      "text/plain": [
       "Analyzing /home/s/Skola/exjobb/github_metric_extractor/out/repositories/TDD-Hangman/src/controllers/__init__.py\n"
      ]
     },
     "metadata": {},
     "output_type": "display_data"
    },
    {
     "data": {
      "text/html": [
       "<pre style=\"white-space:pre;overflow-x:auto;line-height:normal;font-family:Menlo,'DejaVu Sans Mono',consolas,'Courier New',monospace\">Analyzing /home/s/Skola/exjobb/github_metric_extractor/out/repositories/TDD-Hangman/src/models/GameEngine.py\n",
       "</pre>\n"
      ],
      "text/plain": [
       "Analyzing /home/s/Skola/exjobb/github_metric_extractor/out/repositories/TDD-Hangman/src/models/GameEngine.py\n"
      ]
     },
     "metadata": {},
     "output_type": "display_data"
    },
    {
     "data": {
      "text/html": [
       "<pre style=\"white-space:pre;overflow-x:auto;line-height:normal;font-family:Menlo,'DejaVu Sans Mono',consolas,'Courier New',monospace\">Analyzing /home/s/Skola/exjobb/github_metric_extractor/out/repositories/TDD-Hangman/src/models/__init__.py\n",
       "</pre>\n"
      ],
      "text/plain": [
       "Analyzing /home/s/Skola/exjobb/github_metric_extractor/out/repositories/TDD-Hangman/src/models/__init__.py\n"
      ]
     },
     "metadata": {},
     "output_type": "display_data"
    },
    {
     "data": {
      "text/html": [
       "<pre style=\"white-space:pre;overflow-x:auto;line-height:normal;font-family:Menlo,'DejaVu Sans Mono',consolas,'Courier New',monospace\">Analyzing /home/s/Skola/exjobb/github_metric_extractor/out/repositories/TDD-Hangman/src/other/__init__.py\n",
       "</pre>\n"
      ],
      "text/plain": [
       "Analyzing /home/s/Skola/exjobb/github_metric_extractor/out/repositories/TDD-Hangman/src/other/__init__.py\n"
      ]
     },
     "metadata": {},
     "output_type": "display_data"
    },
    {
     "data": {
      "text/html": [
       "<pre style=\"white-space:pre;overflow-x:auto;line-height:normal;font-family:Menlo,'DejaVu Sans Mono',consolas,'Courier New',monospace\">Analyzing /home/s/Skola/exjobb/github_metric_extractor/out/repositories/TDD-Hangman/tests/test_view.py\n",
       "</pre>\n"
      ],
      "text/plain": [
       "Analyzing /home/s/Skola/exjobb/github_metric_extractor/out/repositories/TDD-Hangman/tests/test_view.py\n"
      ]
     },
     "metadata": {},
     "output_type": "display_data"
    },
    {
     "data": {
      "text/html": [
       "<pre style=\"white-space:pre;overflow-x:auto;line-height:normal;font-family:Menlo,'DejaVu Sans Mono',consolas,'Courier New',monospace\">Analyzing /home/s/Skola/exjobb/github_metric_extractor/out/repositories/TDD-Hangman/tests/test_hangman.py\n",
       "</pre>\n"
      ],
      "text/plain": [
       "Analyzing /home/s/Skola/exjobb/github_metric_extractor/out/repositories/TDD-Hangman/tests/test_hangman.py\n"
      ]
     },
     "metadata": {},
     "output_type": "display_data"
    },
    {
     "data": {
      "text/html": [
       "<pre style=\"white-space:pre;overflow-x:auto;line-height:normal;font-family:Menlo,'DejaVu Sans Mono',consolas,'Courier New',monospace\">Analyzing /home/s/Skola/exjobb/github_metric_extractor/out/repositories/TDD-Hangman/tests/test_controller.py\n",
       "</pre>\n"
      ],
      "text/plain": [
       "Analyzing /home/s/Skola/exjobb/github_metric_extractor/out/repositories/TDD-Hangman/tests/test_controller.py\n"
      ]
     },
     "metadata": {},
     "output_type": "display_data"
    },
    {
     "data": {
      "text/html": [
       "<pre style=\"white-space:pre;overflow-x:auto;line-height:normal;font-family:Menlo,'DejaVu Sans Mono',consolas,'Courier New',monospace\">Analyzing /home/s/Skola/exjobb/github_metric_extractor/out/repositories/TDD-Hangman/tests/test_model.py\n",
       "</pre>\n"
      ],
      "text/plain": [
       "Analyzing /home/s/Skola/exjobb/github_metric_extractor/out/repositories/TDD-Hangman/tests/test_model.py\n"
      ]
     },
     "metadata": {},
     "output_type": "display_data"
    },
    {
     "data": {
      "text/html": [
       "<pre style=\"white-space:pre;overflow-x:auto;line-height:normal;font-family:Menlo,'DejaVu Sans Mono',consolas,'Courier New',monospace\">Analyzing /home/s/Skola/exjobb/github_metric_extractor/out/repositories/TDD-Hangman/tests/__init__.py\n",
       "</pre>\n"
      ],
      "text/plain": [
       "Analyzing /home/s/Skola/exjobb/github_metric_extractor/out/repositories/TDD-Hangman/tests/__init__.py\n"
      ]
     },
     "metadata": {},
     "output_type": "display_data"
    },
    {
     "data": {
      "text/html": [
       "<pre style=\"white-space:pre;overflow-x:auto;line-height:normal;font-family:Menlo,'DejaVu Sans Mono',consolas,'Courier New',monospace\">Analyzing /home/s/Skola/exjobb/github_metric_extractor/out/repositories/TDD-Hangman/src/hangman.py\n",
       "</pre>\n"
      ],
      "text/plain": [
       "Analyzing /home/s/Skola/exjobb/github_metric_extractor/out/repositories/TDD-Hangman/src/hangman.py\n"
      ]
     },
     "metadata": {},
     "output_type": "display_data"
    },
    {
     "data": {
      "text/html": [
       "<pre style=\"white-space:pre;overflow-x:auto;line-height:normal;font-family:Menlo,'DejaVu Sans Mono',consolas,'Courier New',monospace\">Analyzing /home/s/Skola/exjobb/github_metric_extractor/out/repositories/TDD-Hangman/src/views/GUI.py\n",
       "</pre>\n"
      ],
      "text/plain": [
       "Analyzing /home/s/Skola/exjobb/github_metric_extractor/out/repositories/TDD-Hangman/src/views/GUI.py\n"
      ]
     },
     "metadata": {},
     "output_type": "display_data"
    },
    {
     "data": {
      "text/html": [
       "<pre style=\"white-space:pre;overflow-x:auto;line-height:normal;font-family:Menlo,'DejaVu Sans Mono',consolas,'Courier New',monospace\">Analyzing /home/s/Skola/exjobb/github_metric_extractor/out/repositories/TDD-Hangman/src/views/__init__.py\n",
       "</pre>\n"
      ],
      "text/plain": [
       "Analyzing /home/s/Skola/exjobb/github_metric_extractor/out/repositories/TDD-Hangman/src/views/__init__.py\n"
      ]
     },
     "metadata": {},
     "output_type": "display_data"
    },
    {
     "data": {
      "text/html": [
       "<pre style=\"white-space:pre;overflow-x:auto;line-height:normal;font-family:Menlo,'DejaVu Sans Mono',consolas,'Courier New',monospace\">Analyzing /home/s/Skola/exjobb/github_metric_extractor/out/repositories/TDD-Hangman/src/controllers/Controller.py\n",
       "</pre>\n"
      ],
      "text/plain": [
       "Analyzing /home/s/Skola/exjobb/github_metric_extractor/out/repositories/TDD-Hangman/src/controllers/Controller.py\n"
      ]
     },
     "metadata": {},
     "output_type": "display_data"
    },
    {
     "data": {
      "text/html": [
       "<pre style=\"white-space:pre;overflow-x:auto;line-height:normal;font-family:Menlo,'DejaVu Sans Mono',consolas,'Courier New',monospace\">Analyzing /home/s/Skola/exjobb/github_metric_extractor/out/repositories/TDD-Hangman/src/controllers/__init__.py\n",
       "</pre>\n"
      ],
      "text/plain": [
       "Analyzing /home/s/Skola/exjobb/github_metric_extractor/out/repositories/TDD-Hangman/src/controllers/__init__.py\n"
      ]
     },
     "metadata": {},
     "output_type": "display_data"
    },
    {
     "data": {
      "text/html": [
       "<pre style=\"white-space:pre;overflow-x:auto;line-height:normal;font-family:Menlo,'DejaVu Sans Mono',consolas,'Courier New',monospace\">Analyzing /home/s/Skola/exjobb/github_metric_extractor/out/repositories/TDD-Hangman/src/models/GameEngine.py\n",
       "</pre>\n"
      ],
      "text/plain": [
       "Analyzing /home/s/Skola/exjobb/github_metric_extractor/out/repositories/TDD-Hangman/src/models/GameEngine.py\n"
      ]
     },
     "metadata": {},
     "output_type": "display_data"
    },
    {
     "data": {
      "text/html": [
       "<pre style=\"white-space:pre;overflow-x:auto;line-height:normal;font-family:Menlo,'DejaVu Sans Mono',consolas,'Courier New',monospace\">Analyzing /home/s/Skola/exjobb/github_metric_extractor/out/repositories/TDD-Hangman/src/models/__init__.py\n",
       "</pre>\n"
      ],
      "text/plain": [
       "Analyzing /home/s/Skola/exjobb/github_metric_extractor/out/repositories/TDD-Hangman/src/models/__init__.py\n"
      ]
     },
     "metadata": {},
     "output_type": "display_data"
    },
    {
     "data": {
      "text/html": [
       "<pre style=\"white-space:pre;overflow-x:auto;line-height:normal;font-family:Menlo,'DejaVu Sans Mono',consolas,'Courier New',monospace\">Analyzing /home/s/Skola/exjobb/github_metric_extractor/out/repositories/TDD-Hangman/src/other/__init__.py\n",
       "</pre>\n"
      ],
      "text/plain": [
       "Analyzing /home/s/Skola/exjobb/github_metric_extractor/out/repositories/TDD-Hangman/src/other/__init__.py\n"
      ]
     },
     "metadata": {},
     "output_type": "display_data"
    },
    {
     "data": {
      "text/html": [
       "<pre style=\"white-space:pre;overflow-x:auto;line-height:normal;font-family:Menlo,'DejaVu Sans Mono',consolas,'Courier New',monospace\">Analyzing /home/s/Skola/exjobb/github_metric_extractor/out/repositories/TDD-Hangman/tests/test_view.py\n",
       "</pre>\n"
      ],
      "text/plain": [
       "Analyzing /home/s/Skola/exjobb/github_metric_extractor/out/repositories/TDD-Hangman/tests/test_view.py\n"
      ]
     },
     "metadata": {},
     "output_type": "display_data"
    },
    {
     "data": {
      "text/html": [
       "<pre style=\"white-space:pre;overflow-x:auto;line-height:normal;font-family:Menlo,'DejaVu Sans Mono',consolas,'Courier New',monospace\">Analyzing /home/s/Skola/exjobb/github_metric_extractor/out/repositories/TDD-Hangman/tests/test_hangman.py\n",
       "</pre>\n"
      ],
      "text/plain": [
       "Analyzing /home/s/Skola/exjobb/github_metric_extractor/out/repositories/TDD-Hangman/tests/test_hangman.py\n"
      ]
     },
     "metadata": {},
     "output_type": "display_data"
    },
    {
     "data": {
      "text/html": [
       "<pre style=\"white-space:pre;overflow-x:auto;line-height:normal;font-family:Menlo,'DejaVu Sans Mono',consolas,'Courier New',monospace\">Analyzing /home/s/Skola/exjobb/github_metric_extractor/out/repositories/TDD-Hangman/tests/test_controller.py\n",
       "</pre>\n"
      ],
      "text/plain": [
       "Analyzing /home/s/Skola/exjobb/github_metric_extractor/out/repositories/TDD-Hangman/tests/test_controller.py\n"
      ]
     },
     "metadata": {},
     "output_type": "display_data"
    },
    {
     "data": {
      "text/html": [
       "<pre style=\"white-space:pre;overflow-x:auto;line-height:normal;font-family:Menlo,'DejaVu Sans Mono',consolas,'Courier New',monospace\">Analyzing /home/s/Skola/exjobb/github_metric_extractor/out/repositories/TDD-Hangman/tests/test_model.py\n",
       "</pre>\n"
      ],
      "text/plain": [
       "Analyzing /home/s/Skola/exjobb/github_metric_extractor/out/repositories/TDD-Hangman/tests/test_model.py\n"
      ]
     },
     "metadata": {},
     "output_type": "display_data"
    },
    {
     "data": {
      "text/html": [
       "<pre style=\"white-space:pre;overflow-x:auto;line-height:normal;font-family:Menlo,'DejaVu Sans Mono',consolas,'Courier New',monospace\">Analyzing /home/s/Skola/exjobb/github_metric_extractor/out/repositories/TDD-Hangman/tests/__init__.py\n",
       "</pre>\n"
      ],
      "text/plain": [
       "Analyzing /home/s/Skola/exjobb/github_metric_extractor/out/repositories/TDD-Hangman/tests/__init__.py\n"
      ]
     },
     "metadata": {},
     "output_type": "display_data"
    },
    {
     "data": {
      "text/html": [
       "<pre style=\"white-space:pre;overflow-x:auto;line-height:normal;font-family:Menlo,'DejaVu Sans Mono',consolas,'Courier New',monospace\">Analyzing /home/s/Skola/exjobb/github_metric_extractor/out/repositories/TDD-Hangman/src/hangman.py\n",
       "</pre>\n"
      ],
      "text/plain": [
       "Analyzing /home/s/Skola/exjobb/github_metric_extractor/out/repositories/TDD-Hangman/src/hangman.py\n"
      ]
     },
     "metadata": {},
     "output_type": "display_data"
    },
    {
     "data": {
      "text/html": [
       "<pre style=\"white-space:pre;overflow-x:auto;line-height:normal;font-family:Menlo,'DejaVu Sans Mono',consolas,'Courier New',monospace\">Analyzing /home/s/Skola/exjobb/github_metric_extractor/out/repositories/TDD-Hangman/src/views/GUI.py\n",
       "</pre>\n"
      ],
      "text/plain": [
       "Analyzing /home/s/Skola/exjobb/github_metric_extractor/out/repositories/TDD-Hangman/src/views/GUI.py\n"
      ]
     },
     "metadata": {},
     "output_type": "display_data"
    },
    {
     "data": {
      "text/html": [
       "<pre style=\"white-space:pre;overflow-x:auto;line-height:normal;font-family:Menlo,'DejaVu Sans Mono',consolas,'Courier New',monospace\">Analyzing /home/s/Skola/exjobb/github_metric_extractor/out/repositories/TDD-Hangman/src/views/__init__.py\n",
       "</pre>\n"
      ],
      "text/plain": [
       "Analyzing /home/s/Skola/exjobb/github_metric_extractor/out/repositories/TDD-Hangman/src/views/__init__.py\n"
      ]
     },
     "metadata": {},
     "output_type": "display_data"
    },
    {
     "data": {
      "text/html": [
       "<pre style=\"white-space:pre;overflow-x:auto;line-height:normal;font-family:Menlo,'DejaVu Sans Mono',consolas,'Courier New',monospace\">Analyzing /home/s/Skola/exjobb/github_metric_extractor/out/repositories/TDD-Hangman/src/controllers/Controller.py\n",
       "</pre>\n"
      ],
      "text/plain": [
       "Analyzing /home/s/Skola/exjobb/github_metric_extractor/out/repositories/TDD-Hangman/src/controllers/Controller.py\n"
      ]
     },
     "metadata": {},
     "output_type": "display_data"
    },
    {
     "data": {
      "text/html": [
       "<pre style=\"white-space:pre;overflow-x:auto;line-height:normal;font-family:Menlo,'DejaVu Sans Mono',consolas,'Courier New',monospace\">Analyzing /home/s/Skola/exjobb/github_metric_extractor/out/repositories/TDD-Hangman/src/controllers/__init__.py\n",
       "</pre>\n"
      ],
      "text/plain": [
       "Analyzing /home/s/Skola/exjobb/github_metric_extractor/out/repositories/TDD-Hangman/src/controllers/__init__.py\n"
      ]
     },
     "metadata": {},
     "output_type": "display_data"
    },
    {
     "data": {
      "text/html": [
       "<pre style=\"white-space:pre;overflow-x:auto;line-height:normal;font-family:Menlo,'DejaVu Sans Mono',consolas,'Courier New',monospace\">Analyzing /home/s/Skola/exjobb/github_metric_extractor/out/repositories/TDD-Hangman/src/models/GameEngine.py\n",
       "</pre>\n"
      ],
      "text/plain": [
       "Analyzing /home/s/Skola/exjobb/github_metric_extractor/out/repositories/TDD-Hangman/src/models/GameEngine.py\n"
      ]
     },
     "metadata": {},
     "output_type": "display_data"
    },
    {
     "data": {
      "text/html": [
       "<pre style=\"white-space:pre;overflow-x:auto;line-height:normal;font-family:Menlo,'DejaVu Sans Mono',consolas,'Courier New',monospace\">Analyzing /home/s/Skola/exjobb/github_metric_extractor/out/repositories/TDD-Hangman/src/models/__init__.py\n",
       "</pre>\n"
      ],
      "text/plain": [
       "Analyzing /home/s/Skola/exjobb/github_metric_extractor/out/repositories/TDD-Hangman/src/models/__init__.py\n"
      ]
     },
     "metadata": {},
     "output_type": "display_data"
    },
    {
     "data": {
      "text/html": [
       "<pre style=\"white-space:pre;overflow-x:auto;line-height:normal;font-family:Menlo,'DejaVu Sans Mono',consolas,'Courier New',monospace\">Analyzing /home/s/Skola/exjobb/github_metric_extractor/out/repositories/TDD-Hangman/src/other/__init__.py\n",
       "</pre>\n"
      ],
      "text/plain": [
       "Analyzing /home/s/Skola/exjobb/github_metric_extractor/out/repositories/TDD-Hangman/src/other/__init__.py\n"
      ]
     },
     "metadata": {},
     "output_type": "display_data"
    },
    {
     "data": {
      "text/html": [
       "<pre style=\"white-space:pre;overflow-x:auto;line-height:normal;font-family:Menlo,'DejaVu Sans Mono',consolas,'Courier New',monospace\">Analyzing /home/s/Skola/exjobb/github_metric_extractor/out/repositories/TDD-Hangman/tests/test_view.py\n",
       "</pre>\n"
      ],
      "text/plain": [
       "Analyzing /home/s/Skola/exjobb/github_metric_extractor/out/repositories/TDD-Hangman/tests/test_view.py\n"
      ]
     },
     "metadata": {},
     "output_type": "display_data"
    },
    {
     "data": {
      "text/html": [
       "<pre style=\"white-space:pre;overflow-x:auto;line-height:normal;font-family:Menlo,'DejaVu Sans Mono',consolas,'Courier New',monospace\">Analyzing /home/s/Skola/exjobb/github_metric_extractor/out/repositories/TDD-Hangman/tests/test_hangman.py\n",
       "</pre>\n"
      ],
      "text/plain": [
       "Analyzing /home/s/Skola/exjobb/github_metric_extractor/out/repositories/TDD-Hangman/tests/test_hangman.py\n"
      ]
     },
     "metadata": {},
     "output_type": "display_data"
    },
    {
     "data": {
      "text/html": [
       "<pre style=\"white-space:pre;overflow-x:auto;line-height:normal;font-family:Menlo,'DejaVu Sans Mono',consolas,'Courier New',monospace\">Analyzing /home/s/Skola/exjobb/github_metric_extractor/out/repositories/TDD-Hangman/tests/test_controller.py\n",
       "</pre>\n"
      ],
      "text/plain": [
       "Analyzing /home/s/Skola/exjobb/github_metric_extractor/out/repositories/TDD-Hangman/tests/test_controller.py\n"
      ]
     },
     "metadata": {},
     "output_type": "display_data"
    },
    {
     "data": {
      "text/html": [
       "<pre style=\"white-space:pre;overflow-x:auto;line-height:normal;font-family:Menlo,'DejaVu Sans Mono',consolas,'Courier New',monospace\">Analyzing /home/s/Skola/exjobb/github_metric_extractor/out/repositories/TDD-Hangman/tests/test_model.py\n",
       "</pre>\n"
      ],
      "text/plain": [
       "Analyzing /home/s/Skola/exjobb/github_metric_extractor/out/repositories/TDD-Hangman/tests/test_model.py\n"
      ]
     },
     "metadata": {},
     "output_type": "display_data"
    },
    {
     "data": {
      "text/html": [
       "<pre style=\"white-space:pre;overflow-x:auto;line-height:normal;font-family:Menlo,'DejaVu Sans Mono',consolas,'Courier New',monospace\">Analyzing /home/s/Skola/exjobb/github_metric_extractor/out/repositories/TDD-Hangman/tests/__init__.py\n",
       "</pre>\n"
      ],
      "text/plain": [
       "Analyzing /home/s/Skola/exjobb/github_metric_extractor/out/repositories/TDD-Hangman/tests/__init__.py\n"
      ]
     },
     "metadata": {},
     "output_type": "display_data"
    },
    {
     "data": {
      "text/html": [
       "<pre style=\"white-space:pre;overflow-x:auto;line-height:normal;font-family:Menlo,'DejaVu Sans Mono',consolas,'Courier New',monospace\">Analyzing /home/s/Skola/exjobb/github_metric_extractor/out/repositories/TDD-Hangman/src/hangman.py\n",
       "</pre>\n"
      ],
      "text/plain": [
       "Analyzing /home/s/Skola/exjobb/github_metric_extractor/out/repositories/TDD-Hangman/src/hangman.py\n"
      ]
     },
     "metadata": {},
     "output_type": "display_data"
    },
    {
     "data": {
      "text/html": [
       "<pre style=\"white-space:pre;overflow-x:auto;line-height:normal;font-family:Menlo,'DejaVu Sans Mono',consolas,'Courier New',monospace\">Analyzing /home/s/Skola/exjobb/github_metric_extractor/out/repositories/TDD-Hangman/src/views/GUI.py\n",
       "</pre>\n"
      ],
      "text/plain": [
       "Analyzing /home/s/Skola/exjobb/github_metric_extractor/out/repositories/TDD-Hangman/src/views/GUI.py\n"
      ]
     },
     "metadata": {},
     "output_type": "display_data"
    },
    {
     "data": {
      "text/html": [
       "<pre style=\"white-space:pre;overflow-x:auto;line-height:normal;font-family:Menlo,'DejaVu Sans Mono',consolas,'Courier New',monospace\">Analyzing /home/s/Skola/exjobb/github_metric_extractor/out/repositories/TDD-Hangman/src/views/__init__.py\n",
       "</pre>\n"
      ],
      "text/plain": [
       "Analyzing /home/s/Skola/exjobb/github_metric_extractor/out/repositories/TDD-Hangman/src/views/__init__.py\n"
      ]
     },
     "metadata": {},
     "output_type": "display_data"
    },
    {
     "data": {
      "text/html": [
       "<pre style=\"white-space:pre;overflow-x:auto;line-height:normal;font-family:Menlo,'DejaVu Sans Mono',consolas,'Courier New',monospace\">Analyzing /home/s/Skola/exjobb/github_metric_extractor/out/repositories/TDD-Hangman/src/controllers/Controller.py\n",
       "</pre>\n"
      ],
      "text/plain": [
       "Analyzing /home/s/Skola/exjobb/github_metric_extractor/out/repositories/TDD-Hangman/src/controllers/Controller.py\n"
      ]
     },
     "metadata": {},
     "output_type": "display_data"
    },
    {
     "data": {
      "text/html": [
       "<pre style=\"white-space:pre;overflow-x:auto;line-height:normal;font-family:Menlo,'DejaVu Sans Mono',consolas,'Courier New',monospace\">Analyzing /home/s/Skola/exjobb/github_metric_extractor/out/repositories/TDD-Hangman/src/controllers/__init__.py\n",
       "</pre>\n"
      ],
      "text/plain": [
       "Analyzing /home/s/Skola/exjobb/github_metric_extractor/out/repositories/TDD-Hangman/src/controllers/__init__.py\n"
      ]
     },
     "metadata": {},
     "output_type": "display_data"
    },
    {
     "data": {
      "text/html": [
       "<pre style=\"white-space:pre;overflow-x:auto;line-height:normal;font-family:Menlo,'DejaVu Sans Mono',consolas,'Courier New',monospace\">Analyzing /home/s/Skola/exjobb/github_metric_extractor/out/repositories/TDD-Hangman/src/models/GameEngine.py\n",
       "</pre>\n"
      ],
      "text/plain": [
       "Analyzing /home/s/Skola/exjobb/github_metric_extractor/out/repositories/TDD-Hangman/src/models/GameEngine.py\n"
      ]
     },
     "metadata": {},
     "output_type": "display_data"
    },
    {
     "data": {
      "text/html": [
       "<pre style=\"white-space:pre;overflow-x:auto;line-height:normal;font-family:Menlo,'DejaVu Sans Mono',consolas,'Courier New',monospace\">Analyzing /home/s/Skola/exjobb/github_metric_extractor/out/repositories/TDD-Hangman/src/models/__init__.py\n",
       "</pre>\n"
      ],
      "text/plain": [
       "Analyzing /home/s/Skola/exjobb/github_metric_extractor/out/repositories/TDD-Hangman/src/models/__init__.py\n"
      ]
     },
     "metadata": {},
     "output_type": "display_data"
    },
    {
     "data": {
      "text/html": [
       "<pre style=\"white-space:pre;overflow-x:auto;line-height:normal;font-family:Menlo,'DejaVu Sans Mono',consolas,'Courier New',monospace\">Analyzing /home/s/Skola/exjobb/github_metric_extractor/out/repositories/TDD-Hangman/src/other/__init__.py\n",
       "</pre>\n"
      ],
      "text/plain": [
       "Analyzing /home/s/Skola/exjobb/github_metric_extractor/out/repositories/TDD-Hangman/src/other/__init__.py\n"
      ]
     },
     "metadata": {},
     "output_type": "display_data"
    },
    {
     "data": {
      "text/html": [
       "<pre style=\"white-space:pre;overflow-x:auto;line-height:normal;font-family:Menlo,'DejaVu Sans Mono',consolas,'Courier New',monospace\">Analyzing /home/s/Skola/exjobb/github_metric_extractor/out/repositories/TDD-Hangman/tests/controller_test.py\n",
       "</pre>\n"
      ],
      "text/plain": [
       "Analyzing /home/s/Skola/exjobb/github_metric_extractor/out/repositories/TDD-Hangman/tests/controller_test.py\n"
      ]
     },
     "metadata": {},
     "output_type": "display_data"
    },
    {
     "data": {
      "text/html": [
       "<pre style=\"white-space:pre;overflow-x:auto;line-height:normal;font-family:Menlo,'DejaVu Sans Mono',consolas,'Courier New',monospace\">Analyzing /home/s/Skola/exjobb/github_metric_extractor/out/repositories/TDD-Hangman/tests/view_test.py\n",
       "</pre>\n"
      ],
      "text/plain": [
       "Analyzing /home/s/Skola/exjobb/github_metric_extractor/out/repositories/TDD-Hangman/tests/view_test.py\n"
      ]
     },
     "metadata": {},
     "output_type": "display_data"
    },
    {
     "data": {
      "text/html": [
       "<pre style=\"white-space:pre;overflow-x:auto;line-height:normal;font-family:Menlo,'DejaVu Sans Mono',consolas,'Courier New',monospace\">Analyzing /home/s/Skola/exjobb/github_metric_extractor/out/repositories/TDD-Hangman/tests/hangman_test.py\n",
       "</pre>\n"
      ],
      "text/plain": [
       "Analyzing /home/s/Skola/exjobb/github_metric_extractor/out/repositories/TDD-Hangman/tests/hangman_test.py\n"
      ]
     },
     "metadata": {},
     "output_type": "display_data"
    },
    {
     "data": {
      "text/html": [
       "<pre style=\"white-space:pre;overflow-x:auto;line-height:normal;font-family:Menlo,'DejaVu Sans Mono',consolas,'Courier New',monospace\">Analyzing /home/s/Skola/exjobb/github_metric_extractor/out/repositories/TDD-Hangman/tests/model_test.py\n",
       "</pre>\n"
      ],
      "text/plain": [
       "Analyzing /home/s/Skola/exjobb/github_metric_extractor/out/repositories/TDD-Hangman/tests/model_test.py\n"
      ]
     },
     "metadata": {},
     "output_type": "display_data"
    },
    {
     "data": {
      "text/html": [
       "<pre style=\"white-space:pre;overflow-x:auto;line-height:normal;font-family:Menlo,'DejaVu Sans Mono',consolas,'Courier New',monospace\">Analyzing /home/s/Skola/exjobb/github_metric_extractor/out/repositories/TDD-Hangman/tests/__init__.py\n",
       "</pre>\n"
      ],
      "text/plain": [
       "Analyzing /home/s/Skola/exjobb/github_metric_extractor/out/repositories/TDD-Hangman/tests/__init__.py\n"
      ]
     },
     "metadata": {},
     "output_type": "display_data"
    },
    {
     "data": {
      "text/html": [
       "<pre style=\"white-space:pre;overflow-x:auto;line-height:normal;font-family:Menlo,'DejaVu Sans Mono',consolas,'Courier New',monospace\">Analyzing /home/s/Skola/exjobb/github_metric_extractor/out/repositories/TDD-Hangman/src/views/GUI.py\n",
       "</pre>\n"
      ],
      "text/plain": [
       "Analyzing /home/s/Skola/exjobb/github_metric_extractor/out/repositories/TDD-Hangman/src/views/GUI.py\n"
      ]
     },
     "metadata": {},
     "output_type": "display_data"
    },
    {
     "data": {
      "text/html": [
       "<pre style=\"white-space:pre;overflow-x:auto;line-height:normal;font-family:Menlo,'DejaVu Sans Mono',consolas,'Courier New',monospace\">Analyzing /home/s/Skola/exjobb/github_metric_extractor/out/repositories/TDD-Hangman/src/views/__init__.py\n",
       "</pre>\n"
      ],
      "text/plain": [
       "Analyzing /home/s/Skola/exjobb/github_metric_extractor/out/repositories/TDD-Hangman/src/views/__init__.py\n"
      ]
     },
     "metadata": {},
     "output_type": "display_data"
    },
    {
     "data": {
      "text/html": [
       "<pre style=\"white-space:pre;overflow-x:auto;line-height:normal;font-family:Menlo,'DejaVu Sans Mono',consolas,'Courier New',monospace\">Analyzing /home/s/Skola/exjobb/github_metric_extractor/out/repositories/TDD-Hangman/src/controllers/Controller.py\n",
       "</pre>\n"
      ],
      "text/plain": [
       "Analyzing /home/s/Skola/exjobb/github_metric_extractor/out/repositories/TDD-Hangman/src/controllers/Controller.py\n"
      ]
     },
     "metadata": {},
     "output_type": "display_data"
    },
    {
     "data": {
      "text/html": [
       "<pre style=\"white-space:pre;overflow-x:auto;line-height:normal;font-family:Menlo,'DejaVu Sans Mono',consolas,'Courier New',monospace\">Analyzing /home/s/Skola/exjobb/github_metric_extractor/out/repositories/TDD-Hangman/src/controllers/__init__.py\n",
       "</pre>\n"
      ],
      "text/plain": [
       "Analyzing /home/s/Skola/exjobb/github_metric_extractor/out/repositories/TDD-Hangman/src/controllers/__init__.py\n"
      ]
     },
     "metadata": {},
     "output_type": "display_data"
    },
    {
     "data": {
      "text/html": [
       "<pre style=\"white-space:pre;overflow-x:auto;line-height:normal;font-family:Menlo,'DejaVu Sans Mono',consolas,'Courier New',monospace\">Analyzing /home/s/Skola/exjobb/github_metric_extractor/out/repositories/TDD-Hangman/src/models/GameEngine.py\n",
       "</pre>\n"
      ],
      "text/plain": [
       "Analyzing /home/s/Skola/exjobb/github_metric_extractor/out/repositories/TDD-Hangman/src/models/GameEngine.py\n"
      ]
     },
     "metadata": {},
     "output_type": "display_data"
    },
    {
     "data": {
      "text/html": [
       "<pre style=\"white-space:pre;overflow-x:auto;line-height:normal;font-family:Menlo,'DejaVu Sans Mono',consolas,'Courier New',monospace\">Analyzing /home/s/Skola/exjobb/github_metric_extractor/out/repositories/TDD-Hangman/src/models/__init__.py\n",
       "</pre>\n"
      ],
      "text/plain": [
       "Analyzing /home/s/Skola/exjobb/github_metric_extractor/out/repositories/TDD-Hangman/src/models/__init__.py\n"
      ]
     },
     "metadata": {},
     "output_type": "display_data"
    },
    {
     "data": {
      "text/html": [
       "<pre style=\"white-space:pre;overflow-x:auto;line-height:normal;font-family:Menlo,'DejaVu Sans Mono',consolas,'Courier New',monospace\">Analyzing /home/s/Skola/exjobb/github_metric_extractor/out/repositories/TDD-Hangman/src/other/__init__.py\n",
       "</pre>\n"
      ],
      "text/plain": [
       "Analyzing /home/s/Skola/exjobb/github_metric_extractor/out/repositories/TDD-Hangman/src/other/__init__.py\n"
      ]
     },
     "metadata": {},
     "output_type": "display_data"
    },
    {
     "data": {
      "text/html": [
       "<pre style=\"white-space:pre;overflow-x:auto;line-height:normal;font-family:Menlo,'DejaVu Sans Mono',consolas,'Courier New',monospace\">Analyzing /home/s/Skola/exjobb/github_metric_extractor/out/repositories/TDD-Hangman/tests/controller_test.py\n",
       "</pre>\n"
      ],
      "text/plain": [
       "Analyzing /home/s/Skola/exjobb/github_metric_extractor/out/repositories/TDD-Hangman/tests/controller_test.py\n"
      ]
     },
     "metadata": {},
     "output_type": "display_data"
    },
    {
     "data": {
      "text/html": [
       "<pre style=\"white-space:pre;overflow-x:auto;line-height:normal;font-family:Menlo,'DejaVu Sans Mono',consolas,'Courier New',monospace\">Analyzing /home/s/Skola/exjobb/github_metric_extractor/out/repositories/TDD-Hangman/tests/view_test.py\n",
       "</pre>\n"
      ],
      "text/plain": [
       "Analyzing /home/s/Skola/exjobb/github_metric_extractor/out/repositories/TDD-Hangman/tests/view_test.py\n"
      ]
     },
     "metadata": {},
     "output_type": "display_data"
    },
    {
     "data": {
      "text/html": [
       "<pre style=\"white-space:pre;overflow-x:auto;line-height:normal;font-family:Menlo,'DejaVu Sans Mono',consolas,'Courier New',monospace\">Analyzing /home/s/Skola/exjobb/github_metric_extractor/out/repositories/TDD-Hangman/tests/hangman_test.py\n",
       "</pre>\n"
      ],
      "text/plain": [
       "Analyzing /home/s/Skola/exjobb/github_metric_extractor/out/repositories/TDD-Hangman/tests/hangman_test.py\n"
      ]
     },
     "metadata": {},
     "output_type": "display_data"
    },
    {
     "data": {
      "text/html": [
       "<pre style=\"white-space:pre;overflow-x:auto;line-height:normal;font-family:Menlo,'DejaVu Sans Mono',consolas,'Courier New',monospace\">Analyzing /home/s/Skola/exjobb/github_metric_extractor/out/repositories/TDD-Hangman/tests/model_test.py\n",
       "</pre>\n"
      ],
      "text/plain": [
       "Analyzing /home/s/Skola/exjobb/github_metric_extractor/out/repositories/TDD-Hangman/tests/model_test.py\n"
      ]
     },
     "metadata": {},
     "output_type": "display_data"
    },
    {
     "data": {
      "text/html": [
       "<pre style=\"white-space:pre;overflow-x:auto;line-height:normal;font-family:Menlo,'DejaVu Sans Mono',consolas,'Courier New',monospace\">Analyzing /home/s/Skola/exjobb/github_metric_extractor/out/repositories/TDD-Hangman/tests/__init__.py\n",
       "</pre>\n"
      ],
      "text/plain": [
       "Analyzing /home/s/Skola/exjobb/github_metric_extractor/out/repositories/TDD-Hangman/tests/__init__.py\n"
      ]
     },
     "metadata": {},
     "output_type": "display_data"
    },
    {
     "data": {
      "text/html": [
       "<pre style=\"white-space:pre;overflow-x:auto;line-height:normal;font-family:Menlo,'DejaVu Sans Mono',consolas,'Courier New',monospace\">Analyzing /home/s/Skola/exjobb/github_metric_extractor/out/repositories/TDD-Hangman/src/views/GUI.py\n",
       "</pre>\n"
      ],
      "text/plain": [
       "Analyzing /home/s/Skola/exjobb/github_metric_extractor/out/repositories/TDD-Hangman/src/views/GUI.py\n"
      ]
     },
     "metadata": {},
     "output_type": "display_data"
    },
    {
     "data": {
      "text/html": [
       "<pre style=\"white-space:pre;overflow-x:auto;line-height:normal;font-family:Menlo,'DejaVu Sans Mono',consolas,'Courier New',monospace\">Analyzing /home/s/Skola/exjobb/github_metric_extractor/out/repositories/TDD-Hangman/src/views/__init__.py\n",
       "</pre>\n"
      ],
      "text/plain": [
       "Analyzing /home/s/Skola/exjobb/github_metric_extractor/out/repositories/TDD-Hangman/src/views/__init__.py\n"
      ]
     },
     "metadata": {},
     "output_type": "display_data"
    },
    {
     "data": {
      "text/html": [
       "<pre style=\"white-space:pre;overflow-x:auto;line-height:normal;font-family:Menlo,'DejaVu Sans Mono',consolas,'Courier New',monospace\">Analyzing /home/s/Skola/exjobb/github_metric_extractor/out/repositories/TDD-Hangman/src/controllers/Controller.py\n",
       "</pre>\n"
      ],
      "text/plain": [
       "Analyzing /home/s/Skola/exjobb/github_metric_extractor/out/repositories/TDD-Hangman/src/controllers/Controller.py\n"
      ]
     },
     "metadata": {},
     "output_type": "display_data"
    },
    {
     "data": {
      "text/html": [
       "<pre style=\"white-space:pre;overflow-x:auto;line-height:normal;font-family:Menlo,'DejaVu Sans Mono',consolas,'Courier New',monospace\">Analyzing /home/s/Skola/exjobb/github_metric_extractor/out/repositories/TDD-Hangman/src/controllers/__init__.py\n",
       "</pre>\n"
      ],
      "text/plain": [
       "Analyzing /home/s/Skola/exjobb/github_metric_extractor/out/repositories/TDD-Hangman/src/controllers/__init__.py\n"
      ]
     },
     "metadata": {},
     "output_type": "display_data"
    },
    {
     "data": {
      "text/html": [
       "<pre style=\"white-space:pre;overflow-x:auto;line-height:normal;font-family:Menlo,'DejaVu Sans Mono',consolas,'Courier New',monospace\">Analyzing /home/s/Skola/exjobb/github_metric_extractor/out/repositories/TDD-Hangman/src/models/GameEngine.py\n",
       "</pre>\n"
      ],
      "text/plain": [
       "Analyzing /home/s/Skola/exjobb/github_metric_extractor/out/repositories/TDD-Hangman/src/models/GameEngine.py\n"
      ]
     },
     "metadata": {},
     "output_type": "display_data"
    },
    {
     "data": {
      "text/html": [
       "<pre style=\"white-space:pre;overflow-x:auto;line-height:normal;font-family:Menlo,'DejaVu Sans Mono',consolas,'Courier New',monospace\">Analyzing /home/s/Skola/exjobb/github_metric_extractor/out/repositories/TDD-Hangman/src/models/__init__.py\n",
       "</pre>\n"
      ],
      "text/plain": [
       "Analyzing /home/s/Skola/exjobb/github_metric_extractor/out/repositories/TDD-Hangman/src/models/__init__.py\n"
      ]
     },
     "metadata": {},
     "output_type": "display_data"
    },
    {
     "data": {
      "text/html": [
       "<pre style=\"white-space:pre;overflow-x:auto;line-height:normal;font-family:Menlo,'DejaVu Sans Mono',consolas,'Courier New',monospace\">Analyzing /home/s/Skola/exjobb/github_metric_extractor/out/repositories/TDD-Hangman/src/other/__init__.py\n",
       "</pre>\n"
      ],
      "text/plain": [
       "Analyzing /home/s/Skola/exjobb/github_metric_extractor/out/repositories/TDD-Hangman/src/other/__init__.py\n"
      ]
     },
     "metadata": {},
     "output_type": "display_data"
    },
    {
     "data": {
      "text/html": [
       "<pre style=\"white-space:pre;overflow-x:auto;line-height:normal;font-family:Menlo,'DejaVu Sans Mono',consolas,'Courier New',monospace\">Analyzing /home/s/Skola/exjobb/github_metric_extractor/out/repositories/TDD-Hangman/tests/test_view.py\n",
       "</pre>\n"
      ],
      "text/plain": [
       "Analyzing /home/s/Skola/exjobb/github_metric_extractor/out/repositories/TDD-Hangman/tests/test_view.py\n"
      ]
     },
     "metadata": {},
     "output_type": "display_data"
    },
    {
     "data": {
      "text/html": [
       "<pre style=\"white-space:pre;overflow-x:auto;line-height:normal;font-family:Menlo,'DejaVu Sans Mono',consolas,'Courier New',monospace\">Analyzing /home/s/Skola/exjobb/github_metric_extractor/out/repositories/TDD-Hangman/tests/test_hangman.py\n",
       "</pre>\n"
      ],
      "text/plain": [
       "Analyzing /home/s/Skola/exjobb/github_metric_extractor/out/repositories/TDD-Hangman/tests/test_hangman.py\n"
      ]
     },
     "metadata": {},
     "output_type": "display_data"
    },
    {
     "data": {
      "text/html": [
       "<pre style=\"white-space:pre;overflow-x:auto;line-height:normal;font-family:Menlo,'DejaVu Sans Mono',consolas,'Courier New',monospace\">Analyzing /home/s/Skola/exjobb/github_metric_extractor/out/repositories/TDD-Hangman/tests/test_controller.py\n",
       "</pre>\n"
      ],
      "text/plain": [
       "Analyzing /home/s/Skola/exjobb/github_metric_extractor/out/repositories/TDD-Hangman/tests/test_controller.py\n"
      ]
     },
     "metadata": {},
     "output_type": "display_data"
    },
    {
     "data": {
      "text/html": [
       "<pre style=\"white-space:pre;overflow-x:auto;line-height:normal;font-family:Menlo,'DejaVu Sans Mono',consolas,'Courier New',monospace\">Analyzing /home/s/Skola/exjobb/github_metric_extractor/out/repositories/TDD-Hangman/tests/test_model.py\n",
       "</pre>\n"
      ],
      "text/plain": [
       "Analyzing /home/s/Skola/exjobb/github_metric_extractor/out/repositories/TDD-Hangman/tests/test_model.py\n"
      ]
     },
     "metadata": {},
     "output_type": "display_data"
    },
    {
     "data": {
      "text/html": [
       "<pre style=\"white-space:pre;overflow-x:auto;line-height:normal;font-family:Menlo,'DejaVu Sans Mono',consolas,'Courier New',monospace\">Analyzing /home/s/Skola/exjobb/github_metric_extractor/out/repositories/TDD-Hangman/tests/__init__.py\n",
       "</pre>\n"
      ],
      "text/plain": [
       "Analyzing /home/s/Skola/exjobb/github_metric_extractor/out/repositories/TDD-Hangman/tests/__init__.py\n"
      ]
     },
     "metadata": {},
     "output_type": "display_data"
    },
    {
     "data": {
      "text/html": [
       "<pre style=\"white-space:pre;overflow-x:auto;line-height:normal;font-family:Menlo,'DejaVu Sans Mono',consolas,'Courier New',monospace\">Analyzing /home/s/Skola/exjobb/github_metric_extractor/out/repositories/TDD-Hangman/src/hangman.py\n",
       "</pre>\n"
      ],
      "text/plain": [
       "Analyzing /home/s/Skola/exjobb/github_metric_extractor/out/repositories/TDD-Hangman/src/hangman.py\n"
      ]
     },
     "metadata": {},
     "output_type": "display_data"
    },
    {
     "data": {
      "text/html": [
       "<pre style=\"white-space:pre;overflow-x:auto;line-height:normal;font-family:Menlo,'DejaVu Sans Mono',consolas,'Courier New',monospace\">Analyzing /home/s/Skola/exjobb/github_metric_extractor/out/repositories/TDD-Hangman/src/views/GUI.py\n",
       "</pre>\n"
      ],
      "text/plain": [
       "Analyzing /home/s/Skola/exjobb/github_metric_extractor/out/repositories/TDD-Hangman/src/views/GUI.py\n"
      ]
     },
     "metadata": {},
     "output_type": "display_data"
    },
    {
     "data": {
      "text/html": [
       "<pre style=\"white-space:pre;overflow-x:auto;line-height:normal;font-family:Menlo,'DejaVu Sans Mono',consolas,'Courier New',monospace\">Analyzing /home/s/Skola/exjobb/github_metric_extractor/out/repositories/TDD-Hangman/src/views/__init__.py\n",
       "</pre>\n"
      ],
      "text/plain": [
       "Analyzing /home/s/Skola/exjobb/github_metric_extractor/out/repositories/TDD-Hangman/src/views/__init__.py\n"
      ]
     },
     "metadata": {},
     "output_type": "display_data"
    },
    {
     "data": {
      "text/html": [
       "<pre style=\"white-space:pre;overflow-x:auto;line-height:normal;font-family:Menlo,'DejaVu Sans Mono',consolas,'Courier New',monospace\">Analyzing /home/s/Skola/exjobb/github_metric_extractor/out/repositories/TDD-Hangman/src/controllers/Controller.py\n",
       "</pre>\n"
      ],
      "text/plain": [
       "Analyzing /home/s/Skola/exjobb/github_metric_extractor/out/repositories/TDD-Hangman/src/controllers/Controller.py\n"
      ]
     },
     "metadata": {},
     "output_type": "display_data"
    },
    {
     "data": {
      "text/html": [
       "<pre style=\"white-space:pre;overflow-x:auto;line-height:normal;font-family:Menlo,'DejaVu Sans Mono',consolas,'Courier New',monospace\">Analyzing /home/s/Skola/exjobb/github_metric_extractor/out/repositories/TDD-Hangman/src/controllers/__init__.py\n",
       "</pre>\n"
      ],
      "text/plain": [
       "Analyzing /home/s/Skola/exjobb/github_metric_extractor/out/repositories/TDD-Hangman/src/controllers/__init__.py\n"
      ]
     },
     "metadata": {},
     "output_type": "display_data"
    },
    {
     "data": {
      "text/html": [
       "<pre style=\"white-space:pre;overflow-x:auto;line-height:normal;font-family:Menlo,'DejaVu Sans Mono',consolas,'Courier New',monospace\">Analyzing /home/s/Skola/exjobb/github_metric_extractor/out/repositories/TDD-Hangman/src/models/GameEngine.py\n",
       "</pre>\n"
      ],
      "text/plain": [
       "Analyzing /home/s/Skola/exjobb/github_metric_extractor/out/repositories/TDD-Hangman/src/models/GameEngine.py\n"
      ]
     },
     "metadata": {},
     "output_type": "display_data"
    },
    {
     "data": {
      "text/html": [
       "<pre style=\"white-space:pre;overflow-x:auto;line-height:normal;font-family:Menlo,'DejaVu Sans Mono',consolas,'Courier New',monospace\">Analyzing /home/s/Skola/exjobb/github_metric_extractor/out/repositories/TDD-Hangman/src/models/__init__.py\n",
       "</pre>\n"
      ],
      "text/plain": [
       "Analyzing /home/s/Skola/exjobb/github_metric_extractor/out/repositories/TDD-Hangman/src/models/__init__.py\n"
      ]
     },
     "metadata": {},
     "output_type": "display_data"
    },
    {
     "data": {
      "text/html": [
       "<pre style=\"white-space:pre;overflow-x:auto;line-height:normal;font-family:Menlo,'DejaVu Sans Mono',consolas,'Courier New',monospace\">Analyzing /home/s/Skola/exjobb/github_metric_extractor/out/repositories/TDD-Hangman/src/other/__init__.py\n",
       "</pre>\n"
      ],
      "text/plain": [
       "Analyzing /home/s/Skola/exjobb/github_metric_extractor/out/repositories/TDD-Hangman/src/other/__init__.py\n"
      ]
     },
     "metadata": {},
     "output_type": "display_data"
    },
    {
     "data": {
      "text/html": [
       "<pre style=\"white-space:pre;overflow-x:auto;line-height:normal;font-family:Menlo,'DejaVu Sans Mono',consolas,'Courier New',monospace\">Analyzing /home/s/Skola/exjobb/github_metric_extractor/out/repositories/TDD-Hangman/tests/test_view.py\n",
       "</pre>\n"
      ],
      "text/plain": [
       "Analyzing /home/s/Skola/exjobb/github_metric_extractor/out/repositories/TDD-Hangman/tests/test_view.py\n"
      ]
     },
     "metadata": {},
     "output_type": "display_data"
    },
    {
     "data": {
      "text/html": [
       "<pre style=\"white-space:pre;overflow-x:auto;line-height:normal;font-family:Menlo,'DejaVu Sans Mono',consolas,'Courier New',monospace\">Analyzing /home/s/Skola/exjobb/github_metric_extractor/out/repositories/TDD-Hangman/tests/test_hangman.py\n",
       "</pre>\n"
      ],
      "text/plain": [
       "Analyzing /home/s/Skola/exjobb/github_metric_extractor/out/repositories/TDD-Hangman/tests/test_hangman.py\n"
      ]
     },
     "metadata": {},
     "output_type": "display_data"
    },
    {
     "data": {
      "text/html": [
       "<pre style=\"white-space:pre;overflow-x:auto;line-height:normal;font-family:Menlo,'DejaVu Sans Mono',consolas,'Courier New',monospace\">Analyzing /home/s/Skola/exjobb/github_metric_extractor/out/repositories/TDD-Hangman/tests/test_controller.py\n",
       "</pre>\n"
      ],
      "text/plain": [
       "Analyzing /home/s/Skola/exjobb/github_metric_extractor/out/repositories/TDD-Hangman/tests/test_controller.py\n"
      ]
     },
     "metadata": {},
     "output_type": "display_data"
    },
    {
     "data": {
      "text/html": [
       "<pre style=\"white-space:pre;overflow-x:auto;line-height:normal;font-family:Menlo,'DejaVu Sans Mono',consolas,'Courier New',monospace\">Analyzing /home/s/Skola/exjobb/github_metric_extractor/out/repositories/TDD-Hangman/tests/test_model.py\n",
       "</pre>\n"
      ],
      "text/plain": [
       "Analyzing /home/s/Skola/exjobb/github_metric_extractor/out/repositories/TDD-Hangman/tests/test_model.py\n"
      ]
     },
     "metadata": {},
     "output_type": "display_data"
    },
    {
     "data": {
      "text/html": [
       "<pre style=\"white-space:pre;overflow-x:auto;line-height:normal;font-family:Menlo,'DejaVu Sans Mono',consolas,'Courier New',monospace\">Analyzing /home/s/Skola/exjobb/github_metric_extractor/out/repositories/TDD-Hangman/tests/__init__.py\n",
       "</pre>\n"
      ],
      "text/plain": [
       "Analyzing /home/s/Skola/exjobb/github_metric_extractor/out/repositories/TDD-Hangman/tests/__init__.py\n"
      ]
     },
     "metadata": {},
     "output_type": "display_data"
    },
    {
     "data": {
      "text/html": [
       "<pre style=\"white-space:pre;overflow-x:auto;line-height:normal;font-family:Menlo,'DejaVu Sans Mono',consolas,'Courier New',monospace\">Analyzing /home/s/Skola/exjobb/github_metric_extractor/out/repositories/TDD-Hangman/src/hangman.py\n",
       "</pre>\n"
      ],
      "text/plain": [
       "Analyzing /home/s/Skola/exjobb/github_metric_extractor/out/repositories/TDD-Hangman/src/hangman.py\n"
      ]
     },
     "metadata": {},
     "output_type": "display_data"
    },
    {
     "data": {
      "text/html": [
       "<pre style=\"white-space:pre;overflow-x:auto;line-height:normal;font-family:Menlo,'DejaVu Sans Mono',consolas,'Courier New',monospace\">Analyzing /home/s/Skola/exjobb/github_metric_extractor/out/repositories/TDD-Hangman/src/views/GUI.py\n",
       "</pre>\n"
      ],
      "text/plain": [
       "Analyzing /home/s/Skola/exjobb/github_metric_extractor/out/repositories/TDD-Hangman/src/views/GUI.py\n"
      ]
     },
     "metadata": {},
     "output_type": "display_data"
    },
    {
     "data": {
      "text/html": [
       "<pre style=\"white-space:pre;overflow-x:auto;line-height:normal;font-family:Menlo,'DejaVu Sans Mono',consolas,'Courier New',monospace\">Analyzing /home/s/Skola/exjobb/github_metric_extractor/out/repositories/TDD-Hangman/src/views/__init__.py\n",
       "</pre>\n"
      ],
      "text/plain": [
       "Analyzing /home/s/Skola/exjobb/github_metric_extractor/out/repositories/TDD-Hangman/src/views/__init__.py\n"
      ]
     },
     "metadata": {},
     "output_type": "display_data"
    },
    {
     "data": {
      "text/html": [
       "<pre style=\"white-space:pre;overflow-x:auto;line-height:normal;font-family:Menlo,'DejaVu Sans Mono',consolas,'Courier New',monospace\">Analyzing /home/s/Skola/exjobb/github_metric_extractor/out/repositories/TDD-Hangman/src/controllers/Controller.py\n",
       "</pre>\n"
      ],
      "text/plain": [
       "Analyzing /home/s/Skola/exjobb/github_metric_extractor/out/repositories/TDD-Hangman/src/controllers/Controller.py\n"
      ]
     },
     "metadata": {},
     "output_type": "display_data"
    },
    {
     "data": {
      "text/html": [
       "<pre style=\"white-space:pre;overflow-x:auto;line-height:normal;font-family:Menlo,'DejaVu Sans Mono',consolas,'Courier New',monospace\">Analyzing /home/s/Skola/exjobb/github_metric_extractor/out/repositories/TDD-Hangman/src/controllers/__init__.py\n",
       "</pre>\n"
      ],
      "text/plain": [
       "Analyzing /home/s/Skola/exjobb/github_metric_extractor/out/repositories/TDD-Hangman/src/controllers/__init__.py\n"
      ]
     },
     "metadata": {},
     "output_type": "display_data"
    },
    {
     "data": {
      "text/html": [
       "<pre style=\"white-space:pre;overflow-x:auto;line-height:normal;font-family:Menlo,'DejaVu Sans Mono',consolas,'Courier New',monospace\">Analyzing /home/s/Skola/exjobb/github_metric_extractor/out/repositories/TDD-Hangman/src/models/GameEngine.py\n",
       "</pre>\n"
      ],
      "text/plain": [
       "Analyzing /home/s/Skola/exjobb/github_metric_extractor/out/repositories/TDD-Hangman/src/models/GameEngine.py\n"
      ]
     },
     "metadata": {},
     "output_type": "display_data"
    },
    {
     "data": {
      "text/html": [
       "<pre style=\"white-space:pre;overflow-x:auto;line-height:normal;font-family:Menlo,'DejaVu Sans Mono',consolas,'Courier New',monospace\">Analyzing /home/s/Skola/exjobb/github_metric_extractor/out/repositories/TDD-Hangman/src/models/__init__.py\n",
       "</pre>\n"
      ],
      "text/plain": [
       "Analyzing /home/s/Skola/exjobb/github_metric_extractor/out/repositories/TDD-Hangman/src/models/__init__.py\n"
      ]
     },
     "metadata": {},
     "output_type": "display_data"
    },
    {
     "data": {
      "text/html": [
       "<pre style=\"white-space:pre;overflow-x:auto;line-height:normal;font-family:Menlo,'DejaVu Sans Mono',consolas,'Courier New',monospace\">Analyzing /home/s/Skola/exjobb/github_metric_extractor/out/repositories/TDD-Hangman/src/other/__init__.py\n",
       "</pre>\n"
      ],
      "text/plain": [
       "Analyzing /home/s/Skola/exjobb/github_metric_extractor/out/repositories/TDD-Hangman/src/other/__init__.py\n"
      ]
     },
     "metadata": {},
     "output_type": "display_data"
    },
    {
     "data": {
      "text/html": [
       "<pre style=\"white-space:pre;overflow-x:auto;line-height:normal;font-family:Menlo,'DejaVu Sans Mono',consolas,'Courier New',monospace\">Analyzing /home/s/Skola/exjobb/github_metric_extractor/out/repositories/TDD-Hangman/tests/test_view.py\n",
       "</pre>\n"
      ],
      "text/plain": [
       "Analyzing /home/s/Skola/exjobb/github_metric_extractor/out/repositories/TDD-Hangman/tests/test_view.py\n"
      ]
     },
     "metadata": {},
     "output_type": "display_data"
    },
    {
     "data": {
      "text/html": [
       "<pre style=\"white-space:pre;overflow-x:auto;line-height:normal;font-family:Menlo,'DejaVu Sans Mono',consolas,'Courier New',monospace\">Analyzing /home/s/Skola/exjobb/github_metric_extractor/out/repositories/TDD-Hangman/tests/test_hangman.py\n",
       "</pre>\n"
      ],
      "text/plain": [
       "Analyzing /home/s/Skola/exjobb/github_metric_extractor/out/repositories/TDD-Hangman/tests/test_hangman.py\n"
      ]
     },
     "metadata": {},
     "output_type": "display_data"
    },
    {
     "data": {
      "text/html": [
       "<pre style=\"white-space:pre;overflow-x:auto;line-height:normal;font-family:Menlo,'DejaVu Sans Mono',consolas,'Courier New',monospace\">Analyzing /home/s/Skola/exjobb/github_metric_extractor/out/repositories/TDD-Hangman/tests/test_controller.py\n",
       "</pre>\n"
      ],
      "text/plain": [
       "Analyzing /home/s/Skola/exjobb/github_metric_extractor/out/repositories/TDD-Hangman/tests/test_controller.py\n"
      ]
     },
     "metadata": {},
     "output_type": "display_data"
    },
    {
     "data": {
      "text/html": [
       "<pre style=\"white-space:pre;overflow-x:auto;line-height:normal;font-family:Menlo,'DejaVu Sans Mono',consolas,'Courier New',monospace\">Analyzing /home/s/Skola/exjobb/github_metric_extractor/out/repositories/TDD-Hangman/tests/test_model.py\n",
       "</pre>\n"
      ],
      "text/plain": [
       "Analyzing /home/s/Skola/exjobb/github_metric_extractor/out/repositories/TDD-Hangman/tests/test_model.py\n"
      ]
     },
     "metadata": {},
     "output_type": "display_data"
    },
    {
     "data": {
      "text/html": [
       "<pre style=\"white-space:pre;overflow-x:auto;line-height:normal;font-family:Menlo,'DejaVu Sans Mono',consolas,'Courier New',monospace\">Analyzing /home/s/Skola/exjobb/github_metric_extractor/out/repositories/TDD-Hangman/tests/__init__.py\n",
       "</pre>\n"
      ],
      "text/plain": [
       "Analyzing /home/s/Skola/exjobb/github_metric_extractor/out/repositories/TDD-Hangman/tests/__init__.py\n"
      ]
     },
     "metadata": {},
     "output_type": "display_data"
    },
    {
     "data": {
      "text/html": [
       "<pre style=\"white-space:pre;overflow-x:auto;line-height:normal;font-family:Menlo,'DejaVu Sans Mono',consolas,'Courier New',monospace\">Analyzing /home/s/Skola/exjobb/github_metric_extractor/out/repositories/TDD-Hangman/src/hangman.py\n",
       "</pre>\n"
      ],
      "text/plain": [
       "Analyzing /home/s/Skola/exjobb/github_metric_extractor/out/repositories/TDD-Hangman/src/hangman.py\n"
      ]
     },
     "metadata": {},
     "output_type": "display_data"
    },
    {
     "data": {
      "text/html": [
       "<pre style=\"white-space:pre;overflow-x:auto;line-height:normal;font-family:Menlo,'DejaVu Sans Mono',consolas,'Courier New',monospace\">Analyzing /home/s/Skola/exjobb/github_metric_extractor/out/repositories/TDD-Hangman/src/views/GUI.py\n",
       "</pre>\n"
      ],
      "text/plain": [
       "Analyzing /home/s/Skola/exjobb/github_metric_extractor/out/repositories/TDD-Hangman/src/views/GUI.py\n"
      ]
     },
     "metadata": {},
     "output_type": "display_data"
    },
    {
     "data": {
      "text/html": [
       "<pre style=\"white-space:pre;overflow-x:auto;line-height:normal;font-family:Menlo,'DejaVu Sans Mono',consolas,'Courier New',monospace\">Analyzing /home/s/Skola/exjobb/github_metric_extractor/out/repositories/TDD-Hangman/src/views/__init__.py\n",
       "</pre>\n"
      ],
      "text/plain": [
       "Analyzing /home/s/Skola/exjobb/github_metric_extractor/out/repositories/TDD-Hangman/src/views/__init__.py\n"
      ]
     },
     "metadata": {},
     "output_type": "display_data"
    },
    {
     "data": {
      "text/html": [
       "<pre style=\"white-space:pre;overflow-x:auto;line-height:normal;font-family:Menlo,'DejaVu Sans Mono',consolas,'Courier New',monospace\">Analyzing /home/s/Skola/exjobb/github_metric_extractor/out/repositories/TDD-Hangman/src/controllers/Controller.py\n",
       "</pre>\n"
      ],
      "text/plain": [
       "Analyzing /home/s/Skola/exjobb/github_metric_extractor/out/repositories/TDD-Hangman/src/controllers/Controller.py\n"
      ]
     },
     "metadata": {},
     "output_type": "display_data"
    },
    {
     "data": {
      "text/html": [
       "<pre style=\"white-space:pre;overflow-x:auto;line-height:normal;font-family:Menlo,'DejaVu Sans Mono',consolas,'Courier New',monospace\">Analyzing /home/s/Skola/exjobb/github_metric_extractor/out/repositories/TDD-Hangman/src/controllers/__init__.py\n",
       "</pre>\n"
      ],
      "text/plain": [
       "Analyzing /home/s/Skola/exjobb/github_metric_extractor/out/repositories/TDD-Hangman/src/controllers/__init__.py\n"
      ]
     },
     "metadata": {},
     "output_type": "display_data"
    },
    {
     "data": {
      "text/html": [
       "<pre style=\"white-space:pre;overflow-x:auto;line-height:normal;font-family:Menlo,'DejaVu Sans Mono',consolas,'Courier New',monospace\">Analyzing /home/s/Skola/exjobb/github_metric_extractor/out/repositories/TDD-Hangman/src/models/GameEngine.py\n",
       "</pre>\n"
      ],
      "text/plain": [
       "Analyzing /home/s/Skola/exjobb/github_metric_extractor/out/repositories/TDD-Hangman/src/models/GameEngine.py\n"
      ]
     },
     "metadata": {},
     "output_type": "display_data"
    },
    {
     "data": {
      "text/html": [
       "<pre style=\"white-space:pre;overflow-x:auto;line-height:normal;font-family:Menlo,'DejaVu Sans Mono',consolas,'Courier New',monospace\">Analyzing /home/s/Skola/exjobb/github_metric_extractor/out/repositories/TDD-Hangman/src/models/__init__.py\n",
       "</pre>\n"
      ],
      "text/plain": [
       "Analyzing /home/s/Skola/exjobb/github_metric_extractor/out/repositories/TDD-Hangman/src/models/__init__.py\n"
      ]
     },
     "metadata": {},
     "output_type": "display_data"
    },
    {
     "data": {
      "text/html": [
       "<pre style=\"white-space:pre;overflow-x:auto;line-height:normal;font-family:Menlo,'DejaVu Sans Mono',consolas,'Courier New',monospace\">Analyzing /home/s/Skola/exjobb/github_metric_extractor/out/repositories/TDD-Hangman/src/other/__init__.py\n",
       "</pre>\n"
      ],
      "text/plain": [
       "Analyzing /home/s/Skola/exjobb/github_metric_extractor/out/repositories/TDD-Hangman/src/other/__init__.py\n"
      ]
     },
     "metadata": {},
     "output_type": "display_data"
    },
    {
     "data": {
      "text/html": [
       "<pre style=\"white-space:pre;overflow-x:auto;line-height:normal;font-family:Menlo,'DejaVu Sans Mono',consolas,'Courier New',monospace\">Analyzing /home/s/Skola/exjobb/github_metric_extractor/out/repositories/TDD-Hangman/tests/controller_test.py\n",
       "</pre>\n"
      ],
      "text/plain": [
       "Analyzing /home/s/Skola/exjobb/github_metric_extractor/out/repositories/TDD-Hangman/tests/controller_test.py\n"
      ]
     },
     "metadata": {},
     "output_type": "display_data"
    },
    {
     "data": {
      "text/html": [
       "<pre style=\"white-space:pre;overflow-x:auto;line-height:normal;font-family:Menlo,'DejaVu Sans Mono',consolas,'Courier New',monospace\">Analyzing /home/s/Skola/exjobb/github_metric_extractor/out/repositories/TDD-Hangman/tests/view_test.py\n",
       "</pre>\n"
      ],
      "text/plain": [
       "Analyzing /home/s/Skola/exjobb/github_metric_extractor/out/repositories/TDD-Hangman/tests/view_test.py\n"
      ]
     },
     "metadata": {},
     "output_type": "display_data"
    },
    {
     "data": {
      "text/html": [
       "<pre style=\"white-space:pre;overflow-x:auto;line-height:normal;font-family:Menlo,'DejaVu Sans Mono',consolas,'Courier New',monospace\">Analyzing /home/s/Skola/exjobb/github_metric_extractor/out/repositories/TDD-Hangman/tests/hangman_test.py\n",
       "</pre>\n"
      ],
      "text/plain": [
       "Analyzing /home/s/Skola/exjobb/github_metric_extractor/out/repositories/TDD-Hangman/tests/hangman_test.py\n"
      ]
     },
     "metadata": {},
     "output_type": "display_data"
    },
    {
     "data": {
      "text/html": [
       "<pre style=\"white-space:pre;overflow-x:auto;line-height:normal;font-family:Menlo,'DejaVu Sans Mono',consolas,'Courier New',monospace\">Analyzing /home/s/Skola/exjobb/github_metric_extractor/out/repositories/TDD-Hangman/tests/model_test.py\n",
       "</pre>\n"
      ],
      "text/plain": [
       "Analyzing /home/s/Skola/exjobb/github_metric_extractor/out/repositories/TDD-Hangman/tests/model_test.py\n"
      ]
     },
     "metadata": {},
     "output_type": "display_data"
    },
    {
     "data": {
      "text/html": [
       "<pre style=\"white-space:pre;overflow-x:auto;line-height:normal;font-family:Menlo,'DejaVu Sans Mono',consolas,'Courier New',monospace\">Analyzing /home/s/Skola/exjobb/github_metric_extractor/out/repositories/TDD-Hangman/tests/__init__.py\n",
       "</pre>\n"
      ],
      "text/plain": [
       "Analyzing /home/s/Skola/exjobb/github_metric_extractor/out/repositories/TDD-Hangman/tests/__init__.py\n"
      ]
     },
     "metadata": {},
     "output_type": "display_data"
    },
    {
     "data": {
      "text/html": [
       "<pre style=\"white-space:pre;overflow-x:auto;line-height:normal;font-family:Menlo,'DejaVu Sans Mono',consolas,'Courier New',monospace\">Analyzing /home/s/Skola/exjobb/github_metric_extractor/out/repositories/TDD-Hangman/src/views/GUI.py\n",
       "</pre>\n"
      ],
      "text/plain": [
       "Analyzing /home/s/Skola/exjobb/github_metric_extractor/out/repositories/TDD-Hangman/src/views/GUI.py\n"
      ]
     },
     "metadata": {},
     "output_type": "display_data"
    },
    {
     "data": {
      "text/html": [
       "<pre style=\"white-space:pre;overflow-x:auto;line-height:normal;font-family:Menlo,'DejaVu Sans Mono',consolas,'Courier New',monospace\">Analyzing /home/s/Skola/exjobb/github_metric_extractor/out/repositories/TDD-Hangman/src/views/__init__.py\n",
       "</pre>\n"
      ],
      "text/plain": [
       "Analyzing /home/s/Skola/exjobb/github_metric_extractor/out/repositories/TDD-Hangman/src/views/__init__.py\n"
      ]
     },
     "metadata": {},
     "output_type": "display_data"
    },
    {
     "data": {
      "text/html": [
       "<pre style=\"white-space:pre;overflow-x:auto;line-height:normal;font-family:Menlo,'DejaVu Sans Mono',consolas,'Courier New',monospace\">Analyzing /home/s/Skola/exjobb/github_metric_extractor/out/repositories/TDD-Hangman/src/controllers/Controller.py\n",
       "</pre>\n"
      ],
      "text/plain": [
       "Analyzing /home/s/Skola/exjobb/github_metric_extractor/out/repositories/TDD-Hangman/src/controllers/Controller.py\n"
      ]
     },
     "metadata": {},
     "output_type": "display_data"
    },
    {
     "data": {
      "text/html": [
       "<pre style=\"white-space:pre;overflow-x:auto;line-height:normal;font-family:Menlo,'DejaVu Sans Mono',consolas,'Courier New',monospace\">Analyzing /home/s/Skola/exjobb/github_metric_extractor/out/repositories/TDD-Hangman/src/controllers/__init__.py\n",
       "</pre>\n"
      ],
      "text/plain": [
       "Analyzing /home/s/Skola/exjobb/github_metric_extractor/out/repositories/TDD-Hangman/src/controllers/__init__.py\n"
      ]
     },
     "metadata": {},
     "output_type": "display_data"
    },
    {
     "data": {
      "text/html": [
       "<pre style=\"white-space:pre;overflow-x:auto;line-height:normal;font-family:Menlo,'DejaVu Sans Mono',consolas,'Courier New',monospace\">Analyzing /home/s/Skola/exjobb/github_metric_extractor/out/repositories/TDD-Hangman/src/models/GameEngine.py\n",
       "</pre>\n"
      ],
      "text/plain": [
       "Analyzing /home/s/Skola/exjobb/github_metric_extractor/out/repositories/TDD-Hangman/src/models/GameEngine.py\n"
      ]
     },
     "metadata": {},
     "output_type": "display_data"
    },
    {
     "data": {
      "text/html": [
       "<pre style=\"white-space:pre;overflow-x:auto;line-height:normal;font-family:Menlo,'DejaVu Sans Mono',consolas,'Courier New',monospace\">Analyzing /home/s/Skola/exjobb/github_metric_extractor/out/repositories/TDD-Hangman/src/models/__init__.py\n",
       "</pre>\n"
      ],
      "text/plain": [
       "Analyzing /home/s/Skola/exjobb/github_metric_extractor/out/repositories/TDD-Hangman/src/models/__init__.py\n"
      ]
     },
     "metadata": {},
     "output_type": "display_data"
    },
    {
     "data": {
      "text/html": [
       "<pre style=\"white-space:pre;overflow-x:auto;line-height:normal;font-family:Menlo,'DejaVu Sans Mono',consolas,'Courier New',monospace\">Analyzing /home/s/Skola/exjobb/github_metric_extractor/out/repositories/TDD-Hangman/src/other/__init__.py\n",
       "</pre>\n"
      ],
      "text/plain": [
       "Analyzing /home/s/Skola/exjobb/github_metric_extractor/out/repositories/TDD-Hangman/src/other/__init__.py\n"
      ]
     },
     "metadata": {},
     "output_type": "display_data"
    },
    {
     "data": {
      "text/html": [
       "<pre style=\"white-space:pre;overflow-x:auto;line-height:normal;font-family:Menlo,'DejaVu Sans Mono',consolas,'Courier New',monospace\">Analyzing /home/s/Skola/exjobb/github_metric_extractor/out/repositories/TDD-Hangman/tests/controller_test.py\n",
       "</pre>\n"
      ],
      "text/plain": [
       "Analyzing /home/s/Skola/exjobb/github_metric_extractor/out/repositories/TDD-Hangman/tests/controller_test.py\n"
      ]
     },
     "metadata": {},
     "output_type": "display_data"
    },
    {
     "data": {
      "text/html": [
       "<pre style=\"white-space:pre;overflow-x:auto;line-height:normal;font-family:Menlo,'DejaVu Sans Mono',consolas,'Courier New',monospace\">Analyzing /home/s/Skola/exjobb/github_metric_extractor/out/repositories/TDD-Hangman/tests/view_test.py\n",
       "</pre>\n"
      ],
      "text/plain": [
       "Analyzing /home/s/Skola/exjobb/github_metric_extractor/out/repositories/TDD-Hangman/tests/view_test.py\n"
      ]
     },
     "metadata": {},
     "output_type": "display_data"
    },
    {
     "data": {
      "text/html": [
       "<pre style=\"white-space:pre;overflow-x:auto;line-height:normal;font-family:Menlo,'DejaVu Sans Mono',consolas,'Courier New',monospace\">Analyzing /home/s/Skola/exjobb/github_metric_extractor/out/repositories/TDD-Hangman/tests/hangman_test.py\n",
       "</pre>\n"
      ],
      "text/plain": [
       "Analyzing /home/s/Skola/exjobb/github_metric_extractor/out/repositories/TDD-Hangman/tests/hangman_test.py\n"
      ]
     },
     "metadata": {},
     "output_type": "display_data"
    },
    {
     "data": {
      "text/html": [
       "<pre style=\"white-space:pre;overflow-x:auto;line-height:normal;font-family:Menlo,'DejaVu Sans Mono',consolas,'Courier New',monospace\">Analyzing /home/s/Skola/exjobb/github_metric_extractor/out/repositories/TDD-Hangman/tests/model_test.py\n",
       "</pre>\n"
      ],
      "text/plain": [
       "Analyzing /home/s/Skola/exjobb/github_metric_extractor/out/repositories/TDD-Hangman/tests/model_test.py\n"
      ]
     },
     "metadata": {},
     "output_type": "display_data"
    },
    {
     "data": {
      "text/html": [
       "<pre style=\"white-space:pre;overflow-x:auto;line-height:normal;font-family:Menlo,'DejaVu Sans Mono',consolas,'Courier New',monospace\">Analyzing /home/s/Skola/exjobb/github_metric_extractor/out/repositories/TDD-Hangman/tests/__init__.py\n",
       "</pre>\n"
      ],
      "text/plain": [
       "Analyzing /home/s/Skola/exjobb/github_metric_extractor/out/repositories/TDD-Hangman/tests/__init__.py\n"
      ]
     },
     "metadata": {},
     "output_type": "display_data"
    },
    {
     "data": {
      "text/html": [
       "<pre style=\"white-space:pre;overflow-x:auto;line-height:normal;font-family:Menlo,'DejaVu Sans Mono',consolas,'Courier New',monospace\">Analyzing /home/s/Skola/exjobb/github_metric_extractor/out/repositories/TDD-Hangman/src/views/GUI.py\n",
       "</pre>\n"
      ],
      "text/plain": [
       "Analyzing /home/s/Skola/exjobb/github_metric_extractor/out/repositories/TDD-Hangman/src/views/GUI.py\n"
      ]
     },
     "metadata": {},
     "output_type": "display_data"
    },
    {
     "data": {
      "text/html": [
       "<pre style=\"white-space:pre;overflow-x:auto;line-height:normal;font-family:Menlo,'DejaVu Sans Mono',consolas,'Courier New',monospace\">Analyzing /home/s/Skola/exjobb/github_metric_extractor/out/repositories/TDD-Hangman/src/views/__init__.py\n",
       "</pre>\n"
      ],
      "text/plain": [
       "Analyzing /home/s/Skola/exjobb/github_metric_extractor/out/repositories/TDD-Hangman/src/views/__init__.py\n"
      ]
     },
     "metadata": {},
     "output_type": "display_data"
    },
    {
     "data": {
      "text/html": [
       "<pre style=\"white-space:pre;overflow-x:auto;line-height:normal;font-family:Menlo,'DejaVu Sans Mono',consolas,'Courier New',monospace\">Analyzing /home/s/Skola/exjobb/github_metric_extractor/out/repositories/TDD-Hangman/src/controllers/Controller.py\n",
       "</pre>\n"
      ],
      "text/plain": [
       "Analyzing /home/s/Skola/exjobb/github_metric_extractor/out/repositories/TDD-Hangman/src/controllers/Controller.py\n"
      ]
     },
     "metadata": {},
     "output_type": "display_data"
    },
    {
     "data": {
      "text/html": [
       "<pre style=\"white-space:pre;overflow-x:auto;line-height:normal;font-family:Menlo,'DejaVu Sans Mono',consolas,'Courier New',monospace\">Analyzing /home/s/Skola/exjobb/github_metric_extractor/out/repositories/TDD-Hangman/src/controllers/__init__.py\n",
       "</pre>\n"
      ],
      "text/plain": [
       "Analyzing /home/s/Skola/exjobb/github_metric_extractor/out/repositories/TDD-Hangman/src/controllers/__init__.py\n"
      ]
     },
     "metadata": {},
     "output_type": "display_data"
    },
    {
     "data": {
      "text/html": [
       "<pre style=\"white-space:pre;overflow-x:auto;line-height:normal;font-family:Menlo,'DejaVu Sans Mono',consolas,'Courier New',monospace\">Analyzing /home/s/Skola/exjobb/github_metric_extractor/out/repositories/TDD-Hangman/src/models/GameEngine.py\n",
       "</pre>\n"
      ],
      "text/plain": [
       "Analyzing /home/s/Skola/exjobb/github_metric_extractor/out/repositories/TDD-Hangman/src/models/GameEngine.py\n"
      ]
     },
     "metadata": {},
     "output_type": "display_data"
    },
    {
     "data": {
      "text/html": [
       "<pre style=\"white-space:pre;overflow-x:auto;line-height:normal;font-family:Menlo,'DejaVu Sans Mono',consolas,'Courier New',monospace\">Analyzing /home/s/Skola/exjobb/github_metric_extractor/out/repositories/TDD-Hangman/src/models/__init__.py\n",
       "</pre>\n"
      ],
      "text/plain": [
       "Analyzing /home/s/Skola/exjobb/github_metric_extractor/out/repositories/TDD-Hangman/src/models/__init__.py\n"
      ]
     },
     "metadata": {},
     "output_type": "display_data"
    },
    {
     "data": {
      "text/html": [
       "<pre style=\"white-space:pre;overflow-x:auto;line-height:normal;font-family:Menlo,'DejaVu Sans Mono',consolas,'Courier New',monospace\">Analyzing /home/s/Skola/exjobb/github_metric_extractor/out/repositories/TDD-Hangman/src/other/__init__.py\n",
       "</pre>\n"
      ],
      "text/plain": [
       "Analyzing /home/s/Skola/exjobb/github_metric_extractor/out/repositories/TDD-Hangman/src/other/__init__.py\n"
      ]
     },
     "metadata": {},
     "output_type": "display_data"
    },
    {
     "data": {
      "text/html": [
       "<pre style=\"white-space:pre;overflow-x:auto;line-height:normal;font-family:Menlo,'DejaVu Sans Mono',consolas,'Courier New',monospace\">Analyzing /home/s/Skola/exjobb/github_metric_extractor/out/repositories/TDD-Hangman/tests/controller_test.py\n",
       "</pre>\n"
      ],
      "text/plain": [
       "Analyzing /home/s/Skola/exjobb/github_metric_extractor/out/repositories/TDD-Hangman/tests/controller_test.py\n"
      ]
     },
     "metadata": {},
     "output_type": "display_data"
    },
    {
     "data": {
      "text/html": [
       "<pre style=\"white-space:pre;overflow-x:auto;line-height:normal;font-family:Menlo,'DejaVu Sans Mono',consolas,'Courier New',monospace\">Analyzing /home/s/Skola/exjobb/github_metric_extractor/out/repositories/TDD-Hangman/tests/view_test.py\n",
       "</pre>\n"
      ],
      "text/plain": [
       "Analyzing /home/s/Skola/exjobb/github_metric_extractor/out/repositories/TDD-Hangman/tests/view_test.py\n"
      ]
     },
     "metadata": {},
     "output_type": "display_data"
    },
    {
     "data": {
      "text/html": [
       "<pre style=\"white-space:pre;overflow-x:auto;line-height:normal;font-family:Menlo,'DejaVu Sans Mono',consolas,'Courier New',monospace\">Analyzing /home/s/Skola/exjobb/github_metric_extractor/out/repositories/TDD-Hangman/tests/hangman_test.py\n",
       "</pre>\n"
      ],
      "text/plain": [
       "Analyzing /home/s/Skola/exjobb/github_metric_extractor/out/repositories/TDD-Hangman/tests/hangman_test.py\n"
      ]
     },
     "metadata": {},
     "output_type": "display_data"
    },
    {
     "data": {
      "text/html": [
       "<pre style=\"white-space:pre;overflow-x:auto;line-height:normal;font-family:Menlo,'DejaVu Sans Mono',consolas,'Courier New',monospace\">Analyzing /home/s/Skola/exjobb/github_metric_extractor/out/repositories/TDD-Hangman/tests/model_test.py\n",
       "</pre>\n"
      ],
      "text/plain": [
       "Analyzing /home/s/Skola/exjobb/github_metric_extractor/out/repositories/TDD-Hangman/tests/model_test.py\n"
      ]
     },
     "metadata": {},
     "output_type": "display_data"
    },
    {
     "data": {
      "text/html": [
       "<pre style=\"white-space:pre;overflow-x:auto;line-height:normal;font-family:Menlo,'DejaVu Sans Mono',consolas,'Courier New',monospace\">Analyzing /home/s/Skola/exjobb/github_metric_extractor/out/repositories/TDD-Hangman/tests/__init__.py\n",
       "</pre>\n"
      ],
      "text/plain": [
       "Analyzing /home/s/Skola/exjobb/github_metric_extractor/out/repositories/TDD-Hangman/tests/__init__.py\n"
      ]
     },
     "metadata": {},
     "output_type": "display_data"
    },
    {
     "data": {
      "text/html": [
       "<pre style=\"white-space:pre;overflow-x:auto;line-height:normal;font-family:Menlo,'DejaVu Sans Mono',consolas,'Courier New',monospace\">Analyzing /home/s/Skola/exjobb/github_metric_extractor/out/repositories/TDD-Hangman/src/views/GUI.py\n",
       "</pre>\n"
      ],
      "text/plain": [
       "Analyzing /home/s/Skola/exjobb/github_metric_extractor/out/repositories/TDD-Hangman/src/views/GUI.py\n"
      ]
     },
     "metadata": {},
     "output_type": "display_data"
    },
    {
     "data": {
      "text/html": [
       "<pre style=\"white-space:pre;overflow-x:auto;line-height:normal;font-family:Menlo,'DejaVu Sans Mono',consolas,'Courier New',monospace\">Analyzing /home/s/Skola/exjobb/github_metric_extractor/out/repositories/TDD-Hangman/src/views/__init__.py\n",
       "</pre>\n"
      ],
      "text/plain": [
       "Analyzing /home/s/Skola/exjobb/github_metric_extractor/out/repositories/TDD-Hangman/src/views/__init__.py\n"
      ]
     },
     "metadata": {},
     "output_type": "display_data"
    },
    {
     "data": {
      "text/html": [
       "<pre style=\"white-space:pre;overflow-x:auto;line-height:normal;font-family:Menlo,'DejaVu Sans Mono',consolas,'Courier New',monospace\">Analyzing /home/s/Skola/exjobb/github_metric_extractor/out/repositories/TDD-Hangman/src/controllers/Controller.py\n",
       "</pre>\n"
      ],
      "text/plain": [
       "Analyzing /home/s/Skola/exjobb/github_metric_extractor/out/repositories/TDD-Hangman/src/controllers/Controller.py\n"
      ]
     },
     "metadata": {},
     "output_type": "display_data"
    },
    {
     "data": {
      "text/html": [
       "<pre style=\"white-space:pre;overflow-x:auto;line-height:normal;font-family:Menlo,'DejaVu Sans Mono',consolas,'Courier New',monospace\">Analyzing /home/s/Skola/exjobb/github_metric_extractor/out/repositories/TDD-Hangman/src/controllers/__init__.py\n",
       "</pre>\n"
      ],
      "text/plain": [
       "Analyzing /home/s/Skola/exjobb/github_metric_extractor/out/repositories/TDD-Hangman/src/controllers/__init__.py\n"
      ]
     },
     "metadata": {},
     "output_type": "display_data"
    },
    {
     "data": {
      "text/html": [
       "<pre style=\"white-space:pre;overflow-x:auto;line-height:normal;font-family:Menlo,'DejaVu Sans Mono',consolas,'Courier New',monospace\">Analyzing /home/s/Skola/exjobb/github_metric_extractor/out/repositories/TDD-Hangman/src/models/GameEngine.py\n",
       "</pre>\n"
      ],
      "text/plain": [
       "Analyzing /home/s/Skola/exjobb/github_metric_extractor/out/repositories/TDD-Hangman/src/models/GameEngine.py\n"
      ]
     },
     "metadata": {},
     "output_type": "display_data"
    },
    {
     "data": {
      "text/html": [
       "<pre style=\"white-space:pre;overflow-x:auto;line-height:normal;font-family:Menlo,'DejaVu Sans Mono',consolas,'Courier New',monospace\">Analyzing /home/s/Skola/exjobb/github_metric_extractor/out/repositories/TDD-Hangman/src/models/__init__.py\n",
       "</pre>\n"
      ],
      "text/plain": [
       "Analyzing /home/s/Skola/exjobb/github_metric_extractor/out/repositories/TDD-Hangman/src/models/__init__.py\n"
      ]
     },
     "metadata": {},
     "output_type": "display_data"
    },
    {
     "data": {
      "text/html": [
       "<pre style=\"white-space:pre;overflow-x:auto;line-height:normal;font-family:Menlo,'DejaVu Sans Mono',consolas,'Courier New',monospace\">Analyzing /home/s/Skola/exjobb/github_metric_extractor/out/repositories/TDD-Hangman/src/other/__init__.py\n",
       "</pre>\n"
      ],
      "text/plain": [
       "Analyzing /home/s/Skola/exjobb/github_metric_extractor/out/repositories/TDD-Hangman/src/other/__init__.py\n"
      ]
     },
     "metadata": {},
     "output_type": "display_data"
    },
    {
     "data": {
      "text/html": [
       "<pre style=\"white-space:pre;overflow-x:auto;line-height:normal;font-family:Menlo,'DejaVu Sans Mono',consolas,'Courier New',monospace\">Analyzing /home/s/Skola/exjobb/github_metric_extractor/out/repositories/TDD-Hangman/tests/controller_test.py\n",
       "</pre>\n"
      ],
      "text/plain": [
       "Analyzing /home/s/Skola/exjobb/github_metric_extractor/out/repositories/TDD-Hangman/tests/controller_test.py\n"
      ]
     },
     "metadata": {},
     "output_type": "display_data"
    },
    {
     "data": {
      "text/html": [
       "<pre style=\"white-space:pre;overflow-x:auto;line-height:normal;font-family:Menlo,'DejaVu Sans Mono',consolas,'Courier New',monospace\">Analyzing /home/s/Skola/exjobb/github_metric_extractor/out/repositories/TDD-Hangman/tests/view_test.py\n",
       "</pre>\n"
      ],
      "text/plain": [
       "Analyzing /home/s/Skola/exjobb/github_metric_extractor/out/repositories/TDD-Hangman/tests/view_test.py\n"
      ]
     },
     "metadata": {},
     "output_type": "display_data"
    },
    {
     "data": {
      "text/html": [
       "<pre style=\"white-space:pre;overflow-x:auto;line-height:normal;font-family:Menlo,'DejaVu Sans Mono',consolas,'Courier New',monospace\">Analyzing /home/s/Skola/exjobb/github_metric_extractor/out/repositories/TDD-Hangman/tests/hangman_test.py\n",
       "</pre>\n"
      ],
      "text/plain": [
       "Analyzing /home/s/Skola/exjobb/github_metric_extractor/out/repositories/TDD-Hangman/tests/hangman_test.py\n"
      ]
     },
     "metadata": {},
     "output_type": "display_data"
    },
    {
     "data": {
      "text/html": [
       "<pre style=\"white-space:pre;overflow-x:auto;line-height:normal;font-family:Menlo,'DejaVu Sans Mono',consolas,'Courier New',monospace\">Analyzing /home/s/Skola/exjobb/github_metric_extractor/out/repositories/TDD-Hangman/tests/model_test.py\n",
       "</pre>\n"
      ],
      "text/plain": [
       "Analyzing /home/s/Skola/exjobb/github_metric_extractor/out/repositories/TDD-Hangman/tests/model_test.py\n"
      ]
     },
     "metadata": {},
     "output_type": "display_data"
    },
    {
     "data": {
      "text/html": [
       "<pre style=\"white-space:pre;overflow-x:auto;line-height:normal;font-family:Menlo,'DejaVu Sans Mono',consolas,'Courier New',monospace\">Analyzing /home/s/Skola/exjobb/github_metric_extractor/out/repositories/TDD-Hangman/tests/__init__.py\n",
       "</pre>\n"
      ],
      "text/plain": [
       "Analyzing /home/s/Skola/exjobb/github_metric_extractor/out/repositories/TDD-Hangman/tests/__init__.py\n"
      ]
     },
     "metadata": {},
     "output_type": "display_data"
    },
    {
     "data": {
      "text/html": [
       "<pre style=\"white-space:pre;overflow-x:auto;line-height:normal;font-family:Menlo,'DejaVu Sans Mono',consolas,'Courier New',monospace\">Analyzing /home/s/Skola/exjobb/github_metric_extractor/out/repositories/TDD-Hangman/src/views/GUI.py\n",
       "</pre>\n"
      ],
      "text/plain": [
       "Analyzing /home/s/Skola/exjobb/github_metric_extractor/out/repositories/TDD-Hangman/src/views/GUI.py\n"
      ]
     },
     "metadata": {},
     "output_type": "display_data"
    },
    {
     "data": {
      "text/html": [
       "<pre style=\"white-space:pre;overflow-x:auto;line-height:normal;font-family:Menlo,'DejaVu Sans Mono',consolas,'Courier New',monospace\">Analyzing /home/s/Skola/exjobb/github_metric_extractor/out/repositories/TDD-Hangman/src/views/__init__.py\n",
       "</pre>\n"
      ],
      "text/plain": [
       "Analyzing /home/s/Skola/exjobb/github_metric_extractor/out/repositories/TDD-Hangman/src/views/__init__.py\n"
      ]
     },
     "metadata": {},
     "output_type": "display_data"
    },
    {
     "data": {
      "text/html": [
       "<pre style=\"white-space:pre;overflow-x:auto;line-height:normal;font-family:Menlo,'DejaVu Sans Mono',consolas,'Courier New',monospace\">Analyzing /home/s/Skola/exjobb/github_metric_extractor/out/repositories/TDD-Hangman/src/controllers/Controller.py\n",
       "</pre>\n"
      ],
      "text/plain": [
       "Analyzing /home/s/Skola/exjobb/github_metric_extractor/out/repositories/TDD-Hangman/src/controllers/Controller.py\n"
      ]
     },
     "metadata": {},
     "output_type": "display_data"
    },
    {
     "data": {
      "text/html": [
       "<pre style=\"white-space:pre;overflow-x:auto;line-height:normal;font-family:Menlo,'DejaVu Sans Mono',consolas,'Courier New',monospace\">Analyzing /home/s/Skola/exjobb/github_metric_extractor/out/repositories/TDD-Hangman/src/controllers/__init__.py\n",
       "</pre>\n"
      ],
      "text/plain": [
       "Analyzing /home/s/Skola/exjobb/github_metric_extractor/out/repositories/TDD-Hangman/src/controllers/__init__.py\n"
      ]
     },
     "metadata": {},
     "output_type": "display_data"
    },
    {
     "data": {
      "text/html": [
       "<pre style=\"white-space:pre;overflow-x:auto;line-height:normal;font-family:Menlo,'DejaVu Sans Mono',consolas,'Courier New',monospace\">Analyzing /home/s/Skola/exjobb/github_metric_extractor/out/repositories/TDD-Hangman/src/models/GameEngine.py\n",
       "</pre>\n"
      ],
      "text/plain": [
       "Analyzing /home/s/Skola/exjobb/github_metric_extractor/out/repositories/TDD-Hangman/src/models/GameEngine.py\n"
      ]
     },
     "metadata": {},
     "output_type": "display_data"
    },
    {
     "data": {
      "text/html": [
       "<pre style=\"white-space:pre;overflow-x:auto;line-height:normal;font-family:Menlo,'DejaVu Sans Mono',consolas,'Courier New',monospace\">Analyzing /home/s/Skola/exjobb/github_metric_extractor/out/repositories/TDD-Hangman/src/models/__init__.py\n",
       "</pre>\n"
      ],
      "text/plain": [
       "Analyzing /home/s/Skola/exjobb/github_metric_extractor/out/repositories/TDD-Hangman/src/models/__init__.py\n"
      ]
     },
     "metadata": {},
     "output_type": "display_data"
    },
    {
     "data": {
      "text/html": [
       "<pre style=\"white-space:pre;overflow-x:auto;line-height:normal;font-family:Menlo,'DejaVu Sans Mono',consolas,'Courier New',monospace\">Analyzing /home/s/Skola/exjobb/github_metric_extractor/out/repositories/TDD-Hangman/src/other/__init__.py\n",
       "</pre>\n"
      ],
      "text/plain": [
       "Analyzing /home/s/Skola/exjobb/github_metric_extractor/out/repositories/TDD-Hangman/src/other/__init__.py\n"
      ]
     },
     "metadata": {},
     "output_type": "display_data"
    },
    {
     "data": {
      "text/html": [
       "<pre style=\"white-space:pre;overflow-x:auto;line-height:normal;font-family:Menlo,'DejaVu Sans Mono',consolas,'Courier New',monospace\">Analyzing /home/s/Skola/exjobb/github_metric_extractor/out/repositories/TDD-Hangman/tests/controller_test.py\n",
       "</pre>\n"
      ],
      "text/plain": [
       "Analyzing /home/s/Skola/exjobb/github_metric_extractor/out/repositories/TDD-Hangman/tests/controller_test.py\n"
      ]
     },
     "metadata": {},
     "output_type": "display_data"
    },
    {
     "data": {
      "text/html": [
       "<pre style=\"white-space:pre;overflow-x:auto;line-height:normal;font-family:Menlo,'DejaVu Sans Mono',consolas,'Courier New',monospace\">Analyzing /home/s/Skola/exjobb/github_metric_extractor/out/repositories/TDD-Hangman/tests/view_test.py\n",
       "</pre>\n"
      ],
      "text/plain": [
       "Analyzing /home/s/Skola/exjobb/github_metric_extractor/out/repositories/TDD-Hangman/tests/view_test.py\n"
      ]
     },
     "metadata": {},
     "output_type": "display_data"
    },
    {
     "data": {
      "text/html": [
       "<pre style=\"white-space:pre;overflow-x:auto;line-height:normal;font-family:Menlo,'DejaVu Sans Mono',consolas,'Courier New',monospace\">Analyzing /home/s/Skola/exjobb/github_metric_extractor/out/repositories/TDD-Hangman/tests/hangman_test.py\n",
       "</pre>\n"
      ],
      "text/plain": [
       "Analyzing /home/s/Skola/exjobb/github_metric_extractor/out/repositories/TDD-Hangman/tests/hangman_test.py\n"
      ]
     },
     "metadata": {},
     "output_type": "display_data"
    },
    {
     "data": {
      "text/html": [
       "<pre style=\"white-space:pre;overflow-x:auto;line-height:normal;font-family:Menlo,'DejaVu Sans Mono',consolas,'Courier New',monospace\">Analyzing /home/s/Skola/exjobb/github_metric_extractor/out/repositories/TDD-Hangman/tests/model_test.py\n",
       "</pre>\n"
      ],
      "text/plain": [
       "Analyzing /home/s/Skola/exjobb/github_metric_extractor/out/repositories/TDD-Hangman/tests/model_test.py\n"
      ]
     },
     "metadata": {},
     "output_type": "display_data"
    },
    {
     "data": {
      "text/html": [
       "<pre style=\"white-space:pre;overflow-x:auto;line-height:normal;font-family:Menlo,'DejaVu Sans Mono',consolas,'Courier New',monospace\">Analyzing /home/s/Skola/exjobb/github_metric_extractor/out/repositories/TDD-Hangman/tests/__init__.py\n",
       "</pre>\n"
      ],
      "text/plain": [
       "Analyzing /home/s/Skola/exjobb/github_metric_extractor/out/repositories/TDD-Hangman/tests/__init__.py\n"
      ]
     },
     "metadata": {},
     "output_type": "display_data"
    },
    {
     "data": {
      "text/html": [
       "<pre style=\"white-space:pre;overflow-x:auto;line-height:normal;font-family:Menlo,'DejaVu Sans Mono',consolas,'Courier New',monospace\">Analyzing /home/s/Skola/exjobb/github_metric_extractor/out/repositories/TDD-Hangman/src/views/GUI.py\n",
       "</pre>\n"
      ],
      "text/plain": [
       "Analyzing /home/s/Skola/exjobb/github_metric_extractor/out/repositories/TDD-Hangman/src/views/GUI.py\n"
      ]
     },
     "metadata": {},
     "output_type": "display_data"
    },
    {
     "data": {
      "text/html": [
       "<pre style=\"white-space:pre;overflow-x:auto;line-height:normal;font-family:Menlo,'DejaVu Sans Mono',consolas,'Courier New',monospace\">Analyzing /home/s/Skola/exjobb/github_metric_extractor/out/repositories/TDD-Hangman/src/views/__init__.py\n",
       "</pre>\n"
      ],
      "text/plain": [
       "Analyzing /home/s/Skola/exjobb/github_metric_extractor/out/repositories/TDD-Hangman/src/views/__init__.py\n"
      ]
     },
     "metadata": {},
     "output_type": "display_data"
    },
    {
     "data": {
      "text/html": [
       "<pre style=\"white-space:pre;overflow-x:auto;line-height:normal;font-family:Menlo,'DejaVu Sans Mono',consolas,'Courier New',monospace\">Analyzing /home/s/Skola/exjobb/github_metric_extractor/out/repositories/TDD-Hangman/src/controllers/Controller.py\n",
       "</pre>\n"
      ],
      "text/plain": [
       "Analyzing /home/s/Skola/exjobb/github_metric_extractor/out/repositories/TDD-Hangman/src/controllers/Controller.py\n"
      ]
     },
     "metadata": {},
     "output_type": "display_data"
    },
    {
     "data": {
      "text/html": [
       "<pre style=\"white-space:pre;overflow-x:auto;line-height:normal;font-family:Menlo,'DejaVu Sans Mono',consolas,'Courier New',monospace\">Analyzing /home/s/Skola/exjobb/github_metric_extractor/out/repositories/TDD-Hangman/src/controllers/__init__.py\n",
       "</pre>\n"
      ],
      "text/plain": [
       "Analyzing /home/s/Skola/exjobb/github_metric_extractor/out/repositories/TDD-Hangman/src/controllers/__init__.py\n"
      ]
     },
     "metadata": {},
     "output_type": "display_data"
    },
    {
     "data": {
      "text/html": [
       "<pre style=\"white-space:pre;overflow-x:auto;line-height:normal;font-family:Menlo,'DejaVu Sans Mono',consolas,'Courier New',monospace\">Analyzing /home/s/Skola/exjobb/github_metric_extractor/out/repositories/TDD-Hangman/src/models/GameEngine.py\n",
       "</pre>\n"
      ],
      "text/plain": [
       "Analyzing /home/s/Skola/exjobb/github_metric_extractor/out/repositories/TDD-Hangman/src/models/GameEngine.py\n"
      ]
     },
     "metadata": {},
     "output_type": "display_data"
    },
    {
     "data": {
      "text/html": [
       "<pre style=\"white-space:pre;overflow-x:auto;line-height:normal;font-family:Menlo,'DejaVu Sans Mono',consolas,'Courier New',monospace\">Analyzing /home/s/Skola/exjobb/github_metric_extractor/out/repositories/TDD-Hangman/src/models/__init__.py\n",
       "</pre>\n"
      ],
      "text/plain": [
       "Analyzing /home/s/Skola/exjobb/github_metric_extractor/out/repositories/TDD-Hangman/src/models/__init__.py\n"
      ]
     },
     "metadata": {},
     "output_type": "display_data"
    },
    {
     "data": {
      "text/html": [
       "<pre style=\"white-space:pre;overflow-x:auto;line-height:normal;font-family:Menlo,'DejaVu Sans Mono',consolas,'Courier New',monospace\">Analyzing /home/s/Skola/exjobb/github_metric_extractor/out/repositories/TDD-Hangman/src/other/__init__.py\n",
       "</pre>\n"
      ],
      "text/plain": [
       "Analyzing /home/s/Skola/exjobb/github_metric_extractor/out/repositories/TDD-Hangman/src/other/__init__.py\n"
      ]
     },
     "metadata": {},
     "output_type": "display_data"
    },
    {
     "data": {
      "text/html": [
       "<pre style=\"white-space:pre;overflow-x:auto;line-height:normal;font-family:Menlo,'DejaVu Sans Mono',consolas,'Courier New',monospace\">Analyzing /home/s/Skola/exjobb/github_metric_extractor/out/repositories/TDD-Hangman/tests/test_view.py\n",
       "</pre>\n"
      ],
      "text/plain": [
       "Analyzing /home/s/Skola/exjobb/github_metric_extractor/out/repositories/TDD-Hangman/tests/test_view.py\n"
      ]
     },
     "metadata": {},
     "output_type": "display_data"
    },
    {
     "data": {
      "text/html": [
       "<pre style=\"white-space:pre;overflow-x:auto;line-height:normal;font-family:Menlo,'DejaVu Sans Mono',consolas,'Courier New',monospace\">Analyzing /home/s/Skola/exjobb/github_metric_extractor/out/repositories/TDD-Hangman/tests/test_hangman.py\n",
       "</pre>\n"
      ],
      "text/plain": [
       "Analyzing /home/s/Skola/exjobb/github_metric_extractor/out/repositories/TDD-Hangman/tests/test_hangman.py\n"
      ]
     },
     "metadata": {},
     "output_type": "display_data"
    },
    {
     "data": {
      "text/html": [
       "<pre style=\"white-space:pre;overflow-x:auto;line-height:normal;font-family:Menlo,'DejaVu Sans Mono',consolas,'Courier New',monospace\">Analyzing /home/s/Skola/exjobb/github_metric_extractor/out/repositories/TDD-Hangman/tests/test_controller.py\n",
       "</pre>\n"
      ],
      "text/plain": [
       "Analyzing /home/s/Skola/exjobb/github_metric_extractor/out/repositories/TDD-Hangman/tests/test_controller.py\n"
      ]
     },
     "metadata": {},
     "output_type": "display_data"
    },
    {
     "data": {
      "text/html": [
       "<pre style=\"white-space:pre;overflow-x:auto;line-height:normal;font-family:Menlo,'DejaVu Sans Mono',consolas,'Courier New',monospace\">Analyzing /home/s/Skola/exjobb/github_metric_extractor/out/repositories/TDD-Hangman/tests/test_model.py\n",
       "</pre>\n"
      ],
      "text/plain": [
       "Analyzing /home/s/Skola/exjobb/github_metric_extractor/out/repositories/TDD-Hangman/tests/test_model.py\n"
      ]
     },
     "metadata": {},
     "output_type": "display_data"
    },
    {
     "data": {
      "text/html": [
       "<pre style=\"white-space:pre;overflow-x:auto;line-height:normal;font-family:Menlo,'DejaVu Sans Mono',consolas,'Courier New',monospace\">Analyzing /home/s/Skola/exjobb/github_metric_extractor/out/repositories/TDD-Hangman/tests/__init__.py\n",
       "</pre>\n"
      ],
      "text/plain": [
       "Analyzing /home/s/Skola/exjobb/github_metric_extractor/out/repositories/TDD-Hangman/tests/__init__.py\n"
      ]
     },
     "metadata": {},
     "output_type": "display_data"
    },
    {
     "data": {
      "text/html": [
       "<pre style=\"white-space:pre;overflow-x:auto;line-height:normal;font-family:Menlo,'DejaVu Sans Mono',consolas,'Courier New',monospace\">Analyzing /home/s/Skola/exjobb/github_metric_extractor/out/repositories/TDD-Hangman/src/hangman.py\n",
       "</pre>\n"
      ],
      "text/plain": [
       "Analyzing /home/s/Skola/exjobb/github_metric_extractor/out/repositories/TDD-Hangman/src/hangman.py\n"
      ]
     },
     "metadata": {},
     "output_type": "display_data"
    },
    {
     "data": {
      "text/html": [
       "<pre style=\"white-space:pre;overflow-x:auto;line-height:normal;font-family:Menlo,'DejaVu Sans Mono',consolas,'Courier New',monospace\">Analyzing /home/s/Skola/exjobb/github_metric_extractor/out/repositories/TDD-Hangman/src/views/GUI.py\n",
       "</pre>\n"
      ],
      "text/plain": [
       "Analyzing /home/s/Skola/exjobb/github_metric_extractor/out/repositories/TDD-Hangman/src/views/GUI.py\n"
      ]
     },
     "metadata": {},
     "output_type": "display_data"
    },
    {
     "data": {
      "text/html": [
       "<pre style=\"white-space:pre;overflow-x:auto;line-height:normal;font-family:Menlo,'DejaVu Sans Mono',consolas,'Courier New',monospace\">Analyzing /home/s/Skola/exjobb/github_metric_extractor/out/repositories/TDD-Hangman/src/views/__init__.py\n",
       "</pre>\n"
      ],
      "text/plain": [
       "Analyzing /home/s/Skola/exjobb/github_metric_extractor/out/repositories/TDD-Hangman/src/views/__init__.py\n"
      ]
     },
     "metadata": {},
     "output_type": "display_data"
    },
    {
     "data": {
      "text/html": [
       "<pre style=\"white-space:pre;overflow-x:auto;line-height:normal;font-family:Menlo,'DejaVu Sans Mono',consolas,'Courier New',monospace\">Analyzing /home/s/Skola/exjobb/github_metric_extractor/out/repositories/TDD-Hangman/src/controllers/Controller.py\n",
       "</pre>\n"
      ],
      "text/plain": [
       "Analyzing /home/s/Skola/exjobb/github_metric_extractor/out/repositories/TDD-Hangman/src/controllers/Controller.py\n"
      ]
     },
     "metadata": {},
     "output_type": "display_data"
    },
    {
     "data": {
      "text/html": [
       "<pre style=\"white-space:pre;overflow-x:auto;line-height:normal;font-family:Menlo,'DejaVu Sans Mono',consolas,'Courier New',monospace\">Analyzing /home/s/Skola/exjobb/github_metric_extractor/out/repositories/TDD-Hangman/src/controllers/__init__.py\n",
       "</pre>\n"
      ],
      "text/plain": [
       "Analyzing /home/s/Skola/exjobb/github_metric_extractor/out/repositories/TDD-Hangman/src/controllers/__init__.py\n"
      ]
     },
     "metadata": {},
     "output_type": "display_data"
    },
    {
     "data": {
      "text/html": [
       "<pre style=\"white-space:pre;overflow-x:auto;line-height:normal;font-family:Menlo,'DejaVu Sans Mono',consolas,'Courier New',monospace\">Analyzing /home/s/Skola/exjobb/github_metric_extractor/out/repositories/TDD-Hangman/src/models/GameEngine.py\n",
       "</pre>\n"
      ],
      "text/plain": [
       "Analyzing /home/s/Skola/exjobb/github_metric_extractor/out/repositories/TDD-Hangman/src/models/GameEngine.py\n"
      ]
     },
     "metadata": {},
     "output_type": "display_data"
    },
    {
     "data": {
      "text/html": [
       "<pre style=\"white-space:pre;overflow-x:auto;line-height:normal;font-family:Menlo,'DejaVu Sans Mono',consolas,'Courier New',monospace\">Analyzing /home/s/Skola/exjobb/github_metric_extractor/out/repositories/TDD-Hangman/src/models/__init__.py\n",
       "</pre>\n"
      ],
      "text/plain": [
       "Analyzing /home/s/Skola/exjobb/github_metric_extractor/out/repositories/TDD-Hangman/src/models/__init__.py\n"
      ]
     },
     "metadata": {},
     "output_type": "display_data"
    },
    {
     "data": {
      "text/html": [
       "<pre style=\"white-space:pre;overflow-x:auto;line-height:normal;font-family:Menlo,'DejaVu Sans Mono',consolas,'Courier New',monospace\">Analyzing /home/s/Skola/exjobb/github_metric_extractor/out/repositories/TDD-Hangman/src/other/__init__.py\n",
       "</pre>\n"
      ],
      "text/plain": [
       "Analyzing /home/s/Skola/exjobb/github_metric_extractor/out/repositories/TDD-Hangman/src/other/__init__.py\n"
      ]
     },
     "metadata": {},
     "output_type": "display_data"
    },
    {
     "data": {
      "text/html": [
       "<pre style=\"white-space:pre;overflow-x:auto;line-height:normal;font-family:Menlo,'DejaVu Sans Mono',consolas,'Courier New',monospace\">Analyzing /home/s/Skola/exjobb/github_metric_extractor/out/repositories/TDD-Hangman/tests/test_view.py\n",
       "</pre>\n"
      ],
      "text/plain": [
       "Analyzing /home/s/Skola/exjobb/github_metric_extractor/out/repositories/TDD-Hangman/tests/test_view.py\n"
      ]
     },
     "metadata": {},
     "output_type": "display_data"
    },
    {
     "data": {
      "text/html": [
       "<pre style=\"white-space:pre;overflow-x:auto;line-height:normal;font-family:Menlo,'DejaVu Sans Mono',consolas,'Courier New',monospace\">Analyzing /home/s/Skola/exjobb/github_metric_extractor/out/repositories/TDD-Hangman/tests/test_hangman.py\n",
       "</pre>\n"
      ],
      "text/plain": [
       "Analyzing /home/s/Skola/exjobb/github_metric_extractor/out/repositories/TDD-Hangman/tests/test_hangman.py\n"
      ]
     },
     "metadata": {},
     "output_type": "display_data"
    },
    {
     "data": {
      "text/html": [
       "<pre style=\"white-space:pre;overflow-x:auto;line-height:normal;font-family:Menlo,'DejaVu Sans Mono',consolas,'Courier New',monospace\">Analyzing /home/s/Skola/exjobb/github_metric_extractor/out/repositories/TDD-Hangman/tests/test_controller.py\n",
       "</pre>\n"
      ],
      "text/plain": [
       "Analyzing /home/s/Skola/exjobb/github_metric_extractor/out/repositories/TDD-Hangman/tests/test_controller.py\n"
      ]
     },
     "metadata": {},
     "output_type": "display_data"
    },
    {
     "data": {
      "text/html": [
       "<pre style=\"white-space:pre;overflow-x:auto;line-height:normal;font-family:Menlo,'DejaVu Sans Mono',consolas,'Courier New',monospace\">Analyzing /home/s/Skola/exjobb/github_metric_extractor/out/repositories/TDD-Hangman/tests/test_model.py\n",
       "</pre>\n"
      ],
      "text/plain": [
       "Analyzing /home/s/Skola/exjobb/github_metric_extractor/out/repositories/TDD-Hangman/tests/test_model.py\n"
      ]
     },
     "metadata": {},
     "output_type": "display_data"
    },
    {
     "data": {
      "text/html": [
       "<pre style=\"white-space:pre;overflow-x:auto;line-height:normal;font-family:Menlo,'DejaVu Sans Mono',consolas,'Courier New',monospace\">Analyzing /home/s/Skola/exjobb/github_metric_extractor/out/repositories/TDD-Hangman/tests/__init__.py\n",
       "</pre>\n"
      ],
      "text/plain": [
       "Analyzing /home/s/Skola/exjobb/github_metric_extractor/out/repositories/TDD-Hangman/tests/__init__.py\n"
      ]
     },
     "metadata": {},
     "output_type": "display_data"
    },
    {
     "data": {
      "text/html": [
       "<pre style=\"white-space:pre;overflow-x:auto;line-height:normal;font-family:Menlo,'DejaVu Sans Mono',consolas,'Courier New',monospace\">Analyzing /home/s/Skola/exjobb/github_metric_extractor/out/repositories/TDD-Hangman/src/hangman.py\n",
       "</pre>\n"
      ],
      "text/plain": [
       "Analyzing /home/s/Skola/exjobb/github_metric_extractor/out/repositories/TDD-Hangman/src/hangman.py\n"
      ]
     },
     "metadata": {},
     "output_type": "display_data"
    },
    {
     "data": {
      "text/html": [
       "<pre style=\"white-space:pre;overflow-x:auto;line-height:normal;font-family:Menlo,'DejaVu Sans Mono',consolas,'Courier New',monospace\">Analyzing /home/s/Skola/exjobb/github_metric_extractor/out/repositories/TDD-Hangman/src/views/GUI.py\n",
       "</pre>\n"
      ],
      "text/plain": [
       "Analyzing /home/s/Skola/exjobb/github_metric_extractor/out/repositories/TDD-Hangman/src/views/GUI.py\n"
      ]
     },
     "metadata": {},
     "output_type": "display_data"
    },
    {
     "data": {
      "text/html": [
       "<pre style=\"white-space:pre;overflow-x:auto;line-height:normal;font-family:Menlo,'DejaVu Sans Mono',consolas,'Courier New',monospace\">Analyzing /home/s/Skola/exjobb/github_metric_extractor/out/repositories/TDD-Hangman/src/views/__init__.py\n",
       "</pre>\n"
      ],
      "text/plain": [
       "Analyzing /home/s/Skola/exjobb/github_metric_extractor/out/repositories/TDD-Hangman/src/views/__init__.py\n"
      ]
     },
     "metadata": {},
     "output_type": "display_data"
    },
    {
     "data": {
      "text/html": [
       "<pre style=\"white-space:pre;overflow-x:auto;line-height:normal;font-family:Menlo,'DejaVu Sans Mono',consolas,'Courier New',monospace\">Analyzing /home/s/Skola/exjobb/github_metric_extractor/out/repositories/TDD-Hangman/src/controllers/Controller.py\n",
       "</pre>\n"
      ],
      "text/plain": [
       "Analyzing /home/s/Skola/exjobb/github_metric_extractor/out/repositories/TDD-Hangman/src/controllers/Controller.py\n"
      ]
     },
     "metadata": {},
     "output_type": "display_data"
    },
    {
     "data": {
      "text/html": [
       "<pre style=\"white-space:pre;overflow-x:auto;line-height:normal;font-family:Menlo,'DejaVu Sans Mono',consolas,'Courier New',monospace\">Analyzing /home/s/Skola/exjobb/github_metric_extractor/out/repositories/TDD-Hangman/src/controllers/__init__.py\n",
       "</pre>\n"
      ],
      "text/plain": [
       "Analyzing /home/s/Skola/exjobb/github_metric_extractor/out/repositories/TDD-Hangman/src/controllers/__init__.py\n"
      ]
     },
     "metadata": {},
     "output_type": "display_data"
    },
    {
     "data": {
      "text/html": [
       "<pre style=\"white-space:pre;overflow-x:auto;line-height:normal;font-family:Menlo,'DejaVu Sans Mono',consolas,'Courier New',monospace\">Analyzing /home/s/Skola/exjobb/github_metric_extractor/out/repositories/TDD-Hangman/src/models/GameEngine.py\n",
       "</pre>\n"
      ],
      "text/plain": [
       "Analyzing /home/s/Skola/exjobb/github_metric_extractor/out/repositories/TDD-Hangman/src/models/GameEngine.py\n"
      ]
     },
     "metadata": {},
     "output_type": "display_data"
    },
    {
     "data": {
      "text/html": [
       "<pre style=\"white-space:pre;overflow-x:auto;line-height:normal;font-family:Menlo,'DejaVu Sans Mono',consolas,'Courier New',monospace\">Analyzing /home/s/Skola/exjobb/github_metric_extractor/out/repositories/TDD-Hangman/src/models/__init__.py\n",
       "</pre>\n"
      ],
      "text/plain": [
       "Analyzing /home/s/Skola/exjobb/github_metric_extractor/out/repositories/TDD-Hangman/src/models/__init__.py\n"
      ]
     },
     "metadata": {},
     "output_type": "display_data"
    },
    {
     "data": {
      "text/html": [
       "<pre style=\"white-space:pre;overflow-x:auto;line-height:normal;font-family:Menlo,'DejaVu Sans Mono',consolas,'Courier New',monospace\">Analyzing /home/s/Skola/exjobb/github_metric_extractor/out/repositories/TDD-Hangman/src/other/__init__.py\n",
       "</pre>\n"
      ],
      "text/plain": [
       "Analyzing /home/s/Skola/exjobb/github_metric_extractor/out/repositories/TDD-Hangman/src/other/__init__.py\n"
      ]
     },
     "metadata": {},
     "output_type": "display_data"
    },
    {
     "data": {
      "text/html": [
       "<pre style=\"white-space:pre;overflow-x:auto;line-height:normal;font-family:Menlo,'DejaVu Sans Mono',consolas,'Courier New',monospace\">Analyzing /home/s/Skola/exjobb/github_metric_extractor/out/repositories/TDD-Hangman/tests/test_view.py\n",
       "</pre>\n"
      ],
      "text/plain": [
       "Analyzing /home/s/Skola/exjobb/github_metric_extractor/out/repositories/TDD-Hangman/tests/test_view.py\n"
      ]
     },
     "metadata": {},
     "output_type": "display_data"
    },
    {
     "data": {
      "text/html": [
       "<pre style=\"white-space:pre;overflow-x:auto;line-height:normal;font-family:Menlo,'DejaVu Sans Mono',consolas,'Courier New',monospace\">Analyzing /home/s/Skola/exjobb/github_metric_extractor/out/repositories/TDD-Hangman/tests/test_hangman.py\n",
       "</pre>\n"
      ],
      "text/plain": [
       "Analyzing /home/s/Skola/exjobb/github_metric_extractor/out/repositories/TDD-Hangman/tests/test_hangman.py\n"
      ]
     },
     "metadata": {},
     "output_type": "display_data"
    },
    {
     "data": {
      "text/html": [
       "<pre style=\"white-space:pre;overflow-x:auto;line-height:normal;font-family:Menlo,'DejaVu Sans Mono',consolas,'Courier New',monospace\">Analyzing /home/s/Skola/exjobb/github_metric_extractor/out/repositories/TDD-Hangman/tests/test_controller.py\n",
       "</pre>\n"
      ],
      "text/plain": [
       "Analyzing /home/s/Skola/exjobb/github_metric_extractor/out/repositories/TDD-Hangman/tests/test_controller.py\n"
      ]
     },
     "metadata": {},
     "output_type": "display_data"
    },
    {
     "data": {
      "text/html": [
       "<pre style=\"white-space:pre;overflow-x:auto;line-height:normal;font-family:Menlo,'DejaVu Sans Mono',consolas,'Courier New',monospace\">Analyzing /home/s/Skola/exjobb/github_metric_extractor/out/repositories/TDD-Hangman/tests/model_test.py\n",
       "</pre>\n"
      ],
      "text/plain": [
       "Analyzing /home/s/Skola/exjobb/github_metric_extractor/out/repositories/TDD-Hangman/tests/model_test.py\n"
      ]
     },
     "metadata": {},
     "output_type": "display_data"
    },
    {
     "data": {
      "text/html": [
       "<pre style=\"white-space:pre;overflow-x:auto;line-height:normal;font-family:Menlo,'DejaVu Sans Mono',consolas,'Courier New',monospace\">Analyzing /home/s/Skola/exjobb/github_metric_extractor/out/repositories/TDD-Hangman/tests/test_model.py\n",
       "</pre>\n"
      ],
      "text/plain": [
       "Analyzing /home/s/Skola/exjobb/github_metric_extractor/out/repositories/TDD-Hangman/tests/test_model.py\n"
      ]
     },
     "metadata": {},
     "output_type": "display_data"
    },
    {
     "data": {
      "text/html": [
       "<pre style=\"white-space:pre;overflow-x:auto;line-height:normal;font-family:Menlo,'DejaVu Sans Mono',consolas,'Courier New',monospace\">Analyzing /home/s/Skola/exjobb/github_metric_extractor/out/repositories/TDD-Hangman/tests/__init__.py\n",
       "</pre>\n"
      ],
      "text/plain": [
       "Analyzing /home/s/Skola/exjobb/github_metric_extractor/out/repositories/TDD-Hangman/tests/__init__.py\n"
      ]
     },
     "metadata": {},
     "output_type": "display_data"
    },
    {
     "data": {
      "text/html": [
       "<pre style=\"white-space:pre;overflow-x:auto;line-height:normal;font-family:Menlo,'DejaVu Sans Mono',consolas,'Courier New',monospace\">Analyzing /home/s/Skola/exjobb/github_metric_extractor/out/repositories/TDD-Hangman/src/hangman.py\n",
       "</pre>\n"
      ],
      "text/plain": [
       "Analyzing /home/s/Skola/exjobb/github_metric_extractor/out/repositories/TDD-Hangman/src/hangman.py\n"
      ]
     },
     "metadata": {},
     "output_type": "display_data"
    },
    {
     "data": {
      "text/html": [
       "<pre style=\"white-space:pre;overflow-x:auto;line-height:normal;font-family:Menlo,'DejaVu Sans Mono',consolas,'Courier New',monospace\">Analyzing /home/s/Skola/exjobb/github_metric_extractor/out/repositories/TDD-Hangman/src/views/GUI.py\n",
       "</pre>\n"
      ],
      "text/plain": [
       "Analyzing /home/s/Skola/exjobb/github_metric_extractor/out/repositories/TDD-Hangman/src/views/GUI.py\n"
      ]
     },
     "metadata": {},
     "output_type": "display_data"
    },
    {
     "data": {
      "text/html": [
       "<pre style=\"white-space:pre;overflow-x:auto;line-height:normal;font-family:Menlo,'DejaVu Sans Mono',consolas,'Courier New',monospace\">Analyzing /home/s/Skola/exjobb/github_metric_extractor/out/repositories/TDD-Hangman/src/views/__init__.py\n",
       "</pre>\n"
      ],
      "text/plain": [
       "Analyzing /home/s/Skola/exjobb/github_metric_extractor/out/repositories/TDD-Hangman/src/views/__init__.py\n"
      ]
     },
     "metadata": {},
     "output_type": "display_data"
    },
    {
     "data": {
      "text/html": [
       "<pre style=\"white-space:pre;overflow-x:auto;line-height:normal;font-family:Menlo,'DejaVu Sans Mono',consolas,'Courier New',monospace\">Analyzing /home/s/Skola/exjobb/github_metric_extractor/out/repositories/TDD-Hangman/src/controllers/Controller.py\n",
       "</pre>\n"
      ],
      "text/plain": [
       "Analyzing /home/s/Skola/exjobb/github_metric_extractor/out/repositories/TDD-Hangman/src/controllers/Controller.py\n"
      ]
     },
     "metadata": {},
     "output_type": "display_data"
    },
    {
     "data": {
      "text/html": [
       "<pre style=\"white-space:pre;overflow-x:auto;line-height:normal;font-family:Menlo,'DejaVu Sans Mono',consolas,'Courier New',monospace\">Analyzing /home/s/Skola/exjobb/github_metric_extractor/out/repositories/TDD-Hangman/src/controllers/__init__.py\n",
       "</pre>\n"
      ],
      "text/plain": [
       "Analyzing /home/s/Skola/exjobb/github_metric_extractor/out/repositories/TDD-Hangman/src/controllers/__init__.py\n"
      ]
     },
     "metadata": {},
     "output_type": "display_data"
    },
    {
     "data": {
      "text/html": [
       "<pre style=\"white-space:pre;overflow-x:auto;line-height:normal;font-family:Menlo,'DejaVu Sans Mono',consolas,'Courier New',monospace\">Analyzing /home/s/Skola/exjobb/github_metric_extractor/out/repositories/TDD-Hangman/src/models/GameEngine.py\n",
       "</pre>\n"
      ],
      "text/plain": [
       "Analyzing /home/s/Skola/exjobb/github_metric_extractor/out/repositories/TDD-Hangman/src/models/GameEngine.py\n"
      ]
     },
     "metadata": {},
     "output_type": "display_data"
    },
    {
     "data": {
      "text/html": [
       "<pre style=\"white-space:pre;overflow-x:auto;line-height:normal;font-family:Menlo,'DejaVu Sans Mono',consolas,'Courier New',monospace\">Analyzing /home/s/Skola/exjobb/github_metric_extractor/out/repositories/TDD-Hangman/src/models/__init__.py\n",
       "</pre>\n"
      ],
      "text/plain": [
       "Analyzing /home/s/Skola/exjobb/github_metric_extractor/out/repositories/TDD-Hangman/src/models/__init__.py\n"
      ]
     },
     "metadata": {},
     "output_type": "display_data"
    },
    {
     "data": {
      "text/html": [
       "<pre style=\"white-space:pre;overflow-x:auto;line-height:normal;font-family:Menlo,'DejaVu Sans Mono',consolas,'Courier New',monospace\">Analyzing /home/s/Skola/exjobb/github_metric_extractor/out/repositories/TDD-Hangman/src/other/__init__.py\n",
       "</pre>\n"
      ],
      "text/plain": [
       "Analyzing /home/s/Skola/exjobb/github_metric_extractor/out/repositories/TDD-Hangman/src/other/__init__.py\n"
      ]
     },
     "metadata": {},
     "output_type": "display_data"
    },
    {
     "data": {
      "text/html": [
       "<pre style=\"white-space:pre;overflow-x:auto;line-height:normal;font-family:Menlo,'DejaVu Sans Mono',consolas,'Courier New',monospace\">Analyzing /home/s/Skola/exjobb/github_metric_extractor/out/repositories/TDD-Hangman/tests/test_view.py\n",
       "</pre>\n"
      ],
      "text/plain": [
       "Analyzing /home/s/Skola/exjobb/github_metric_extractor/out/repositories/TDD-Hangman/tests/test_view.py\n"
      ]
     },
     "metadata": {},
     "output_type": "display_data"
    },
    {
     "data": {
      "text/html": [
       "<pre style=\"white-space:pre;overflow-x:auto;line-height:normal;font-family:Menlo,'DejaVu Sans Mono',consolas,'Courier New',monospace\">Analyzing /home/s/Skola/exjobb/github_metric_extractor/out/repositories/TDD-Hangman/tests/test_hangman.py\n",
       "</pre>\n"
      ],
      "text/plain": [
       "Analyzing /home/s/Skola/exjobb/github_metric_extractor/out/repositories/TDD-Hangman/tests/test_hangman.py\n"
      ]
     },
     "metadata": {},
     "output_type": "display_data"
    },
    {
     "data": {
      "text/html": [
       "<pre style=\"white-space:pre;overflow-x:auto;line-height:normal;font-family:Menlo,'DejaVu Sans Mono',consolas,'Courier New',monospace\">Analyzing /home/s/Skola/exjobb/github_metric_extractor/out/repositories/TDD-Hangman/tests/test_controller.py\n",
       "</pre>\n"
      ],
      "text/plain": [
       "Analyzing /home/s/Skola/exjobb/github_metric_extractor/out/repositories/TDD-Hangman/tests/test_controller.py\n"
      ]
     },
     "metadata": {},
     "output_type": "display_data"
    },
    {
     "data": {
      "text/html": [
       "<pre style=\"white-space:pre;overflow-x:auto;line-height:normal;font-family:Menlo,'DejaVu Sans Mono',consolas,'Courier New',monospace\">Analyzing /home/s/Skola/exjobb/github_metric_extractor/out/repositories/TDD-Hangman/tests/test_model.py\n",
       "</pre>\n"
      ],
      "text/plain": [
       "Analyzing /home/s/Skola/exjobb/github_metric_extractor/out/repositories/TDD-Hangman/tests/test_model.py\n"
      ]
     },
     "metadata": {},
     "output_type": "display_data"
    },
    {
     "data": {
      "text/html": [
       "<pre style=\"white-space:pre;overflow-x:auto;line-height:normal;font-family:Menlo,'DejaVu Sans Mono',consolas,'Courier New',monospace\">Analyzing /home/s/Skola/exjobb/github_metric_extractor/out/repositories/TDD-Hangman/tests/__init__.py\n",
       "</pre>\n"
      ],
      "text/plain": [
       "Analyzing /home/s/Skola/exjobb/github_metric_extractor/out/repositories/TDD-Hangman/tests/__init__.py\n"
      ]
     },
     "metadata": {},
     "output_type": "display_data"
    },
    {
     "data": {
      "text/html": [
       "<pre style=\"white-space:pre;overflow-x:auto;line-height:normal;font-family:Menlo,'DejaVu Sans Mono',consolas,'Courier New',monospace\">Analyzing /home/s/Skola/exjobb/github_metric_extractor/out/repositories/TDD-Hangman/src/hangman.py\n",
       "</pre>\n"
      ],
      "text/plain": [
       "Analyzing /home/s/Skola/exjobb/github_metric_extractor/out/repositories/TDD-Hangman/src/hangman.py\n"
      ]
     },
     "metadata": {},
     "output_type": "display_data"
    },
    {
     "data": {
      "text/html": [
       "<pre style=\"white-space:pre;overflow-x:auto;line-height:normal;font-family:Menlo,'DejaVu Sans Mono',consolas,'Courier New',monospace\">Analyzing /home/s/Skola/exjobb/github_metric_extractor/out/repositories/TDD-Hangman/src/views/GUI.py\n",
       "</pre>\n"
      ],
      "text/plain": [
       "Analyzing /home/s/Skola/exjobb/github_metric_extractor/out/repositories/TDD-Hangman/src/views/GUI.py\n"
      ]
     },
     "metadata": {},
     "output_type": "display_data"
    },
    {
     "data": {
      "text/html": [
       "<pre style=\"white-space:pre;overflow-x:auto;line-height:normal;font-family:Menlo,'DejaVu Sans Mono',consolas,'Courier New',monospace\">Analyzing /home/s/Skola/exjobb/github_metric_extractor/out/repositories/TDD-Hangman/src/views/__init__.py\n",
       "</pre>\n"
      ],
      "text/plain": [
       "Analyzing /home/s/Skola/exjobb/github_metric_extractor/out/repositories/TDD-Hangman/src/views/__init__.py\n"
      ]
     },
     "metadata": {},
     "output_type": "display_data"
    },
    {
     "data": {
      "text/html": [
       "<pre style=\"white-space:pre;overflow-x:auto;line-height:normal;font-family:Menlo,'DejaVu Sans Mono',consolas,'Courier New',monospace\">Analyzing /home/s/Skola/exjobb/github_metric_extractor/out/repositories/TDD-Hangman/src/controllers/Controller.py\n",
       "</pre>\n"
      ],
      "text/plain": [
       "Analyzing /home/s/Skola/exjobb/github_metric_extractor/out/repositories/TDD-Hangman/src/controllers/Controller.py\n"
      ]
     },
     "metadata": {},
     "output_type": "display_data"
    },
    {
     "data": {
      "text/html": [
       "<pre style=\"white-space:pre;overflow-x:auto;line-height:normal;font-family:Menlo,'DejaVu Sans Mono',consolas,'Courier New',monospace\">Analyzing /home/s/Skola/exjobb/github_metric_extractor/out/repositories/TDD-Hangman/src/controllers/__init__.py\n",
       "</pre>\n"
      ],
      "text/plain": [
       "Analyzing /home/s/Skola/exjobb/github_metric_extractor/out/repositories/TDD-Hangman/src/controllers/__init__.py\n"
      ]
     },
     "metadata": {},
     "output_type": "display_data"
    },
    {
     "data": {
      "text/html": [
       "<pre style=\"white-space:pre;overflow-x:auto;line-height:normal;font-family:Menlo,'DejaVu Sans Mono',consolas,'Courier New',monospace\">Analyzing /home/s/Skola/exjobb/github_metric_extractor/out/repositories/TDD-Hangman/src/models/GameEngine.py\n",
       "</pre>\n"
      ],
      "text/plain": [
       "Analyzing /home/s/Skola/exjobb/github_metric_extractor/out/repositories/TDD-Hangman/src/models/GameEngine.py\n"
      ]
     },
     "metadata": {},
     "output_type": "display_data"
    },
    {
     "data": {
      "text/html": [
       "<pre style=\"white-space:pre;overflow-x:auto;line-height:normal;font-family:Menlo,'DejaVu Sans Mono',consolas,'Courier New',monospace\">Analyzing /home/s/Skola/exjobb/github_metric_extractor/out/repositories/TDD-Hangman/src/models/__init__.py\n",
       "</pre>\n"
      ],
      "text/plain": [
       "Analyzing /home/s/Skola/exjobb/github_metric_extractor/out/repositories/TDD-Hangman/src/models/__init__.py\n"
      ]
     },
     "metadata": {},
     "output_type": "display_data"
    },
    {
     "data": {
      "text/html": [
       "<pre style=\"white-space:pre;overflow-x:auto;line-height:normal;font-family:Menlo,'DejaVu Sans Mono',consolas,'Courier New',monospace\">Analyzing /home/s/Skola/exjobb/github_metric_extractor/out/repositories/TDD-Hangman/src/other/__init__.py\n",
       "</pre>\n"
      ],
      "text/plain": [
       "Analyzing /home/s/Skola/exjobb/github_metric_extractor/out/repositories/TDD-Hangman/src/other/__init__.py\n"
      ]
     },
     "metadata": {},
     "output_type": "display_data"
    },
    {
     "data": {
      "text/html": [
       "<pre style=\"white-space:pre;overflow-x:auto;line-height:normal;font-family:Menlo,'DejaVu Sans Mono',consolas,'Courier New',monospace\">Analyzing /home/s/Skola/exjobb/github_metric_extractor/out/repositories/TDD-Hangman/tests/test_view.py\n",
       "</pre>\n"
      ],
      "text/plain": [
       "Analyzing /home/s/Skola/exjobb/github_metric_extractor/out/repositories/TDD-Hangman/tests/test_view.py\n"
      ]
     },
     "metadata": {},
     "output_type": "display_data"
    },
    {
     "data": {
      "text/html": [
       "<pre style=\"white-space:pre;overflow-x:auto;line-height:normal;font-family:Menlo,'DejaVu Sans Mono',consolas,'Courier New',monospace\">Analyzing /home/s/Skola/exjobb/github_metric_extractor/out/repositories/TDD-Hangman/tests/test_hangman.py\n",
       "</pre>\n"
      ],
      "text/plain": [
       "Analyzing /home/s/Skola/exjobb/github_metric_extractor/out/repositories/TDD-Hangman/tests/test_hangman.py\n"
      ]
     },
     "metadata": {},
     "output_type": "display_data"
    },
    {
     "data": {
      "text/html": [
       "<pre style=\"white-space:pre;overflow-x:auto;line-height:normal;font-family:Menlo,'DejaVu Sans Mono',consolas,'Courier New',monospace\">Analyzing /home/s/Skola/exjobb/github_metric_extractor/out/repositories/TDD-Hangman/tests/test_controller.py\n",
       "</pre>\n"
      ],
      "text/plain": [
       "Analyzing /home/s/Skola/exjobb/github_metric_extractor/out/repositories/TDD-Hangman/tests/test_controller.py\n"
      ]
     },
     "metadata": {},
     "output_type": "display_data"
    },
    {
     "data": {
      "text/html": [
       "<pre style=\"white-space:pre;overflow-x:auto;line-height:normal;font-family:Menlo,'DejaVu Sans Mono',consolas,'Courier New',monospace\">Analyzing /home/s/Skola/exjobb/github_metric_extractor/out/repositories/TDD-Hangman/tests/test_model.py\n",
       "</pre>\n"
      ],
      "text/plain": [
       "Analyzing /home/s/Skola/exjobb/github_metric_extractor/out/repositories/TDD-Hangman/tests/test_model.py\n"
      ]
     },
     "metadata": {},
     "output_type": "display_data"
    },
    {
     "data": {
      "text/html": [
       "<pre style=\"white-space:pre;overflow-x:auto;line-height:normal;font-family:Menlo,'DejaVu Sans Mono',consolas,'Courier New',monospace\">Analyzing /home/s/Skola/exjobb/github_metric_extractor/out/repositories/TDD-Hangman/tests/__init__.py\n",
       "</pre>\n"
      ],
      "text/plain": [
       "Analyzing /home/s/Skola/exjobb/github_metric_extractor/out/repositories/TDD-Hangman/tests/__init__.py\n"
      ]
     },
     "metadata": {},
     "output_type": "display_data"
    },
    {
     "data": {
      "text/html": [
       "<pre style=\"white-space:pre;overflow-x:auto;line-height:normal;font-family:Menlo,'DejaVu Sans Mono',consolas,'Courier New',monospace\">Analyzing /home/s/Skola/exjobb/github_metric_extractor/out/repositories/TDD-Hangman/src/hangman.py\n",
       "</pre>\n"
      ],
      "text/plain": [
       "Analyzing /home/s/Skola/exjobb/github_metric_extractor/out/repositories/TDD-Hangman/src/hangman.py\n"
      ]
     },
     "metadata": {},
     "output_type": "display_data"
    },
    {
     "data": {
      "text/html": [
       "<pre style=\"white-space:pre;overflow-x:auto;line-height:normal;font-family:Menlo,'DejaVu Sans Mono',consolas,'Courier New',monospace\">Analyzing /home/s/Skola/exjobb/github_metric_extractor/out/repositories/TDD-Hangman/src/views/GUI.py\n",
       "</pre>\n"
      ],
      "text/plain": [
       "Analyzing /home/s/Skola/exjobb/github_metric_extractor/out/repositories/TDD-Hangman/src/views/GUI.py\n"
      ]
     },
     "metadata": {},
     "output_type": "display_data"
    },
    {
     "data": {
      "text/html": [
       "<pre style=\"white-space:pre;overflow-x:auto;line-height:normal;font-family:Menlo,'DejaVu Sans Mono',consolas,'Courier New',monospace\">Analyzing /home/s/Skola/exjobb/github_metric_extractor/out/repositories/TDD-Hangman/src/views/__init__.py\n",
       "</pre>\n"
      ],
      "text/plain": [
       "Analyzing /home/s/Skola/exjobb/github_metric_extractor/out/repositories/TDD-Hangman/src/views/__init__.py\n"
      ]
     },
     "metadata": {},
     "output_type": "display_data"
    },
    {
     "data": {
      "text/html": [
       "<pre style=\"white-space:pre;overflow-x:auto;line-height:normal;font-family:Menlo,'DejaVu Sans Mono',consolas,'Courier New',monospace\">Analyzing /home/s/Skola/exjobb/github_metric_extractor/out/repositories/TDD-Hangman/src/controllers/Controller.py\n",
       "</pre>\n"
      ],
      "text/plain": [
       "Analyzing /home/s/Skola/exjobb/github_metric_extractor/out/repositories/TDD-Hangman/src/controllers/Controller.py\n"
      ]
     },
     "metadata": {},
     "output_type": "display_data"
    },
    {
     "data": {
      "text/html": [
       "<pre style=\"white-space:pre;overflow-x:auto;line-height:normal;font-family:Menlo,'DejaVu Sans Mono',consolas,'Courier New',monospace\">Analyzing /home/s/Skola/exjobb/github_metric_extractor/out/repositories/TDD-Hangman/src/controllers/__init__.py\n",
       "</pre>\n"
      ],
      "text/plain": [
       "Analyzing /home/s/Skola/exjobb/github_metric_extractor/out/repositories/TDD-Hangman/src/controllers/__init__.py\n"
      ]
     },
     "metadata": {},
     "output_type": "display_data"
    },
    {
     "data": {
      "text/html": [
       "<pre style=\"white-space:pre;overflow-x:auto;line-height:normal;font-family:Menlo,'DejaVu Sans Mono',consolas,'Courier New',monospace\">Analyzing /home/s/Skola/exjobb/github_metric_extractor/out/repositories/TDD-Hangman/src/models/GameEngine.py\n",
       "</pre>\n"
      ],
      "text/plain": [
       "Analyzing /home/s/Skola/exjobb/github_metric_extractor/out/repositories/TDD-Hangman/src/models/GameEngine.py\n"
      ]
     },
     "metadata": {},
     "output_type": "display_data"
    },
    {
     "data": {
      "text/html": [
       "<pre style=\"white-space:pre;overflow-x:auto;line-height:normal;font-family:Menlo,'DejaVu Sans Mono',consolas,'Courier New',monospace\">Analyzing /home/s/Skola/exjobb/github_metric_extractor/out/repositories/TDD-Hangman/src/models/__init__.py\n",
       "</pre>\n"
      ],
      "text/plain": [
       "Analyzing /home/s/Skola/exjobb/github_metric_extractor/out/repositories/TDD-Hangman/src/models/__init__.py\n"
      ]
     },
     "metadata": {},
     "output_type": "display_data"
    },
    {
     "data": {
      "text/html": [
       "<pre style=\"white-space:pre;overflow-x:auto;line-height:normal;font-family:Menlo,'DejaVu Sans Mono',consolas,'Courier New',monospace\">Analyzing /home/s/Skola/exjobb/github_metric_extractor/out/repositories/TDD-Hangman/src/other/__init__.py\n",
       "</pre>\n"
      ],
      "text/plain": [
       "Analyzing /home/s/Skola/exjobb/github_metric_extractor/out/repositories/TDD-Hangman/src/other/__init__.py\n"
      ]
     },
     "metadata": {},
     "output_type": "display_data"
    },
    {
     "data": {
      "text/html": [
       "<pre style=\"white-space:pre;overflow-x:auto;line-height:normal;font-family:Menlo,'DejaVu Sans Mono',consolas,'Courier New',monospace\">Analyzing /home/s/Skola/exjobb/github_metric_extractor/out/repositories/TDD-Hangman/tests/test_view.py\n",
       "</pre>\n"
      ],
      "text/plain": [
       "Analyzing /home/s/Skola/exjobb/github_metric_extractor/out/repositories/TDD-Hangman/tests/test_view.py\n"
      ]
     },
     "metadata": {},
     "output_type": "display_data"
    },
    {
     "data": {
      "text/html": [
       "<pre style=\"white-space:pre;overflow-x:auto;line-height:normal;font-family:Menlo,'DejaVu Sans Mono',consolas,'Courier New',monospace\">Analyzing /home/s/Skola/exjobb/github_metric_extractor/out/repositories/TDD-Hangman/tests/test_hangman.py\n",
       "</pre>\n"
      ],
      "text/plain": [
       "Analyzing /home/s/Skola/exjobb/github_metric_extractor/out/repositories/TDD-Hangman/tests/test_hangman.py\n"
      ]
     },
     "metadata": {},
     "output_type": "display_data"
    },
    {
     "data": {
      "text/html": [
       "<pre style=\"white-space:pre;overflow-x:auto;line-height:normal;font-family:Menlo,'DejaVu Sans Mono',consolas,'Courier New',monospace\">Analyzing /home/s/Skola/exjobb/github_metric_extractor/out/repositories/TDD-Hangman/tests/test_controller.py\n",
       "</pre>\n"
      ],
      "text/plain": [
       "Analyzing /home/s/Skola/exjobb/github_metric_extractor/out/repositories/TDD-Hangman/tests/test_controller.py\n"
      ]
     },
     "metadata": {},
     "output_type": "display_data"
    },
    {
     "data": {
      "text/html": [
       "<pre style=\"white-space:pre;overflow-x:auto;line-height:normal;font-family:Menlo,'DejaVu Sans Mono',consolas,'Courier New',monospace\">Analyzing /home/s/Skola/exjobb/github_metric_extractor/out/repositories/TDD-Hangman/tests/test_model.py\n",
       "</pre>\n"
      ],
      "text/plain": [
       "Analyzing /home/s/Skola/exjobb/github_metric_extractor/out/repositories/TDD-Hangman/tests/test_model.py\n"
      ]
     },
     "metadata": {},
     "output_type": "display_data"
    },
    {
     "data": {
      "text/html": [
       "<pre style=\"white-space:pre;overflow-x:auto;line-height:normal;font-family:Menlo,'DejaVu Sans Mono',consolas,'Courier New',monospace\">Analyzing /home/s/Skola/exjobb/github_metric_extractor/out/repositories/TDD-Hangman/tests/__init__.py\n",
       "</pre>\n"
      ],
      "text/plain": [
       "Analyzing /home/s/Skola/exjobb/github_metric_extractor/out/repositories/TDD-Hangman/tests/__init__.py\n"
      ]
     },
     "metadata": {},
     "output_type": "display_data"
    },
    {
     "data": {
      "text/html": [
       "<pre style=\"white-space:pre;overflow-x:auto;line-height:normal;font-family:Menlo,'DejaVu Sans Mono',consolas,'Courier New',monospace\">Analyzing /home/s/Skola/exjobb/github_metric_extractor/out/repositories/TDD-Hangman/src/hangman.py\n",
       "</pre>\n"
      ],
      "text/plain": [
       "Analyzing /home/s/Skola/exjobb/github_metric_extractor/out/repositories/TDD-Hangman/src/hangman.py\n"
      ]
     },
     "metadata": {},
     "output_type": "display_data"
    },
    {
     "data": {
      "text/html": [
       "<pre style=\"white-space:pre;overflow-x:auto;line-height:normal;font-family:Menlo,'DejaVu Sans Mono',consolas,'Courier New',monospace\">Analyzing /home/s/Skola/exjobb/github_metric_extractor/out/repositories/TDD-Hangman/src/views/GUI.py\n",
       "</pre>\n"
      ],
      "text/plain": [
       "Analyzing /home/s/Skola/exjobb/github_metric_extractor/out/repositories/TDD-Hangman/src/views/GUI.py\n"
      ]
     },
     "metadata": {},
     "output_type": "display_data"
    },
    {
     "data": {
      "text/html": [
       "<pre style=\"white-space:pre;overflow-x:auto;line-height:normal;font-family:Menlo,'DejaVu Sans Mono',consolas,'Courier New',monospace\">Analyzing /home/s/Skola/exjobb/github_metric_extractor/out/repositories/TDD-Hangman/src/views/__init__.py\n",
       "</pre>\n"
      ],
      "text/plain": [
       "Analyzing /home/s/Skola/exjobb/github_metric_extractor/out/repositories/TDD-Hangman/src/views/__init__.py\n"
      ]
     },
     "metadata": {},
     "output_type": "display_data"
    },
    {
     "data": {
      "text/html": [
       "<pre style=\"white-space:pre;overflow-x:auto;line-height:normal;font-family:Menlo,'DejaVu Sans Mono',consolas,'Courier New',monospace\">Analyzing /home/s/Skola/exjobb/github_metric_extractor/out/repositories/TDD-Hangman/src/controllers/Controller.py\n",
       "</pre>\n"
      ],
      "text/plain": [
       "Analyzing /home/s/Skola/exjobb/github_metric_extractor/out/repositories/TDD-Hangman/src/controllers/Controller.py\n"
      ]
     },
     "metadata": {},
     "output_type": "display_data"
    },
    {
     "data": {
      "text/html": [
       "<pre style=\"white-space:pre;overflow-x:auto;line-height:normal;font-family:Menlo,'DejaVu Sans Mono',consolas,'Courier New',monospace\">Analyzing /home/s/Skola/exjobb/github_metric_extractor/out/repositories/TDD-Hangman/src/controllers/__init__.py\n",
       "</pre>\n"
      ],
      "text/plain": [
       "Analyzing /home/s/Skola/exjobb/github_metric_extractor/out/repositories/TDD-Hangman/src/controllers/__init__.py\n"
      ]
     },
     "metadata": {},
     "output_type": "display_data"
    },
    {
     "data": {
      "text/html": [
       "<pre style=\"white-space:pre;overflow-x:auto;line-height:normal;font-family:Menlo,'DejaVu Sans Mono',consolas,'Courier New',monospace\">Analyzing /home/s/Skola/exjobb/github_metric_extractor/out/repositories/TDD-Hangman/src/models/GameEngine.py\n",
       "</pre>\n"
      ],
      "text/plain": [
       "Analyzing /home/s/Skola/exjobb/github_metric_extractor/out/repositories/TDD-Hangman/src/models/GameEngine.py\n"
      ]
     },
     "metadata": {},
     "output_type": "display_data"
    },
    {
     "data": {
      "text/html": [
       "<pre style=\"white-space:pre;overflow-x:auto;line-height:normal;font-family:Menlo,'DejaVu Sans Mono',consolas,'Courier New',monospace\">Analyzing /home/s/Skola/exjobb/github_metric_extractor/out/repositories/TDD-Hangman/src/models/__init__.py\n",
       "</pre>\n"
      ],
      "text/plain": [
       "Analyzing /home/s/Skola/exjobb/github_metric_extractor/out/repositories/TDD-Hangman/src/models/__init__.py\n"
      ]
     },
     "metadata": {},
     "output_type": "display_data"
    },
    {
     "data": {
      "text/html": [
       "<pre style=\"white-space:pre;overflow-x:auto;line-height:normal;font-family:Menlo,'DejaVu Sans Mono',consolas,'Courier New',monospace\">Analyzing /home/s/Skola/exjobb/github_metric_extractor/out/repositories/TDD-Hangman/src/other/__init__.py\n",
       "</pre>\n"
      ],
      "text/plain": [
       "Analyzing /home/s/Skola/exjobb/github_metric_extractor/out/repositories/TDD-Hangman/src/other/__init__.py\n"
      ]
     },
     "metadata": {},
     "output_type": "display_data"
    },
    {
     "data": {
      "text/html": [
       "<pre style=\"white-space:pre;overflow-x:auto;line-height:normal;font-family:Menlo,'DejaVu Sans Mono',consolas,'Courier New',monospace\">Analyzing /home/s/Skola/exjobb/github_metric_extractor/out/repositories/TDD-Hangman/tests/test_view.py\n",
       "</pre>\n"
      ],
      "text/plain": [
       "Analyzing /home/s/Skola/exjobb/github_metric_extractor/out/repositories/TDD-Hangman/tests/test_view.py\n"
      ]
     },
     "metadata": {},
     "output_type": "display_data"
    },
    {
     "data": {
      "text/html": [
       "<pre style=\"white-space:pre;overflow-x:auto;line-height:normal;font-family:Menlo,'DejaVu Sans Mono',consolas,'Courier New',monospace\">Analyzing /home/s/Skola/exjobb/github_metric_extractor/out/repositories/TDD-Hangman/tests/test_hangman.py\n",
       "</pre>\n"
      ],
      "text/plain": [
       "Analyzing /home/s/Skola/exjobb/github_metric_extractor/out/repositories/TDD-Hangman/tests/test_hangman.py\n"
      ]
     },
     "metadata": {},
     "output_type": "display_data"
    },
    {
     "data": {
      "text/html": [
       "<pre style=\"white-space:pre;overflow-x:auto;line-height:normal;font-family:Menlo,'DejaVu Sans Mono',consolas,'Courier New',monospace\">Analyzing /home/s/Skola/exjobb/github_metric_extractor/out/repositories/TDD-Hangman/tests/test_controller.py\n",
       "</pre>\n"
      ],
      "text/plain": [
       "Analyzing /home/s/Skola/exjobb/github_metric_extractor/out/repositories/TDD-Hangman/tests/test_controller.py\n"
      ]
     },
     "metadata": {},
     "output_type": "display_data"
    },
    {
     "data": {
      "text/html": [
       "<pre style=\"white-space:pre;overflow-x:auto;line-height:normal;font-family:Menlo,'DejaVu Sans Mono',consolas,'Courier New',monospace\">Analyzing /home/s/Skola/exjobb/github_metric_extractor/out/repositories/TDD-Hangman/tests/test_model.py\n",
       "</pre>\n"
      ],
      "text/plain": [
       "Analyzing /home/s/Skola/exjobb/github_metric_extractor/out/repositories/TDD-Hangman/tests/test_model.py\n"
      ]
     },
     "metadata": {},
     "output_type": "display_data"
    },
    {
     "data": {
      "text/html": [
       "<pre style=\"white-space:pre;overflow-x:auto;line-height:normal;font-family:Menlo,'DejaVu Sans Mono',consolas,'Courier New',monospace\">Analyzing /home/s/Skola/exjobb/github_metric_extractor/out/repositories/TDD-Hangman/tests/__init__.py\n",
       "</pre>\n"
      ],
      "text/plain": [
       "Analyzing /home/s/Skola/exjobb/github_metric_extractor/out/repositories/TDD-Hangman/tests/__init__.py\n"
      ]
     },
     "metadata": {},
     "output_type": "display_data"
    },
    {
     "data": {
      "text/html": [
       "<pre style=\"white-space:pre;overflow-x:auto;line-height:normal;font-family:Menlo,'DejaVu Sans Mono',consolas,'Courier New',monospace\">Analyzing /home/s/Skola/exjobb/github_metric_extractor/out/repositories/TDD-Hangman/src/hangman.py\n",
       "</pre>\n"
      ],
      "text/plain": [
       "Analyzing /home/s/Skola/exjobb/github_metric_extractor/out/repositories/TDD-Hangman/src/hangman.py\n"
      ]
     },
     "metadata": {},
     "output_type": "display_data"
    },
    {
     "data": {
      "text/html": [
       "<pre style=\"white-space:pre;overflow-x:auto;line-height:normal;font-family:Menlo,'DejaVu Sans Mono',consolas,'Courier New',monospace\">Analyzing /home/s/Skola/exjobb/github_metric_extractor/out/repositories/TDD-Hangman/src/views/GUI.py\n",
       "</pre>\n"
      ],
      "text/plain": [
       "Analyzing /home/s/Skola/exjobb/github_metric_extractor/out/repositories/TDD-Hangman/src/views/GUI.py\n"
      ]
     },
     "metadata": {},
     "output_type": "display_data"
    },
    {
     "data": {
      "text/html": [
       "<pre style=\"white-space:pre;overflow-x:auto;line-height:normal;font-family:Menlo,'DejaVu Sans Mono',consolas,'Courier New',monospace\">Analyzing /home/s/Skola/exjobb/github_metric_extractor/out/repositories/TDD-Hangman/src/views/__init__.py\n",
       "</pre>\n"
      ],
      "text/plain": [
       "Analyzing /home/s/Skola/exjobb/github_metric_extractor/out/repositories/TDD-Hangman/src/views/__init__.py\n"
      ]
     },
     "metadata": {},
     "output_type": "display_data"
    },
    {
     "data": {
      "text/html": [
       "<pre style=\"white-space:pre;overflow-x:auto;line-height:normal;font-family:Menlo,'DejaVu Sans Mono',consolas,'Courier New',monospace\">Analyzing /home/s/Skola/exjobb/github_metric_extractor/out/repositories/TDD-Hangman/src/controllers/Controller.py\n",
       "</pre>\n"
      ],
      "text/plain": [
       "Analyzing /home/s/Skola/exjobb/github_metric_extractor/out/repositories/TDD-Hangman/src/controllers/Controller.py\n"
      ]
     },
     "metadata": {},
     "output_type": "display_data"
    },
    {
     "data": {
      "text/html": [
       "<pre style=\"white-space:pre;overflow-x:auto;line-height:normal;font-family:Menlo,'DejaVu Sans Mono',consolas,'Courier New',monospace\">Analyzing /home/s/Skola/exjobb/github_metric_extractor/out/repositories/TDD-Hangman/src/controllers/__init__.py\n",
       "</pre>\n"
      ],
      "text/plain": [
       "Analyzing /home/s/Skola/exjobb/github_metric_extractor/out/repositories/TDD-Hangman/src/controllers/__init__.py\n"
      ]
     },
     "metadata": {},
     "output_type": "display_data"
    },
    {
     "data": {
      "text/html": [
       "<pre style=\"white-space:pre;overflow-x:auto;line-height:normal;font-family:Menlo,'DejaVu Sans Mono',consolas,'Courier New',monospace\">Analyzing /home/s/Skola/exjobb/github_metric_extractor/out/repositories/TDD-Hangman/src/models/GameEngine.py\n",
       "</pre>\n"
      ],
      "text/plain": [
       "Analyzing /home/s/Skola/exjobb/github_metric_extractor/out/repositories/TDD-Hangman/src/models/GameEngine.py\n"
      ]
     },
     "metadata": {},
     "output_type": "display_data"
    },
    {
     "data": {
      "text/html": [
       "<pre style=\"white-space:pre;overflow-x:auto;line-height:normal;font-family:Menlo,'DejaVu Sans Mono',consolas,'Courier New',monospace\">Analyzing /home/s/Skola/exjobb/github_metric_extractor/out/repositories/TDD-Hangman/src/models/__init__.py\n",
       "</pre>\n"
      ],
      "text/plain": [
       "Analyzing /home/s/Skola/exjobb/github_metric_extractor/out/repositories/TDD-Hangman/src/models/__init__.py\n"
      ]
     },
     "metadata": {},
     "output_type": "display_data"
    },
    {
     "data": {
      "text/html": [
       "<pre style=\"white-space:pre;overflow-x:auto;line-height:normal;font-family:Menlo,'DejaVu Sans Mono',consolas,'Courier New',monospace\">Analyzing /home/s/Skola/exjobb/github_metric_extractor/out/repositories/TDD-Hangman/src/other/__init__.py\n",
       "</pre>\n"
      ],
      "text/plain": [
       "Analyzing /home/s/Skola/exjobb/github_metric_extractor/out/repositories/TDD-Hangman/src/other/__init__.py\n"
      ]
     },
     "metadata": {},
     "output_type": "display_data"
    },
    {
     "data": {
      "text/html": [
       "<pre style=\"white-space:pre;overflow-x:auto;line-height:normal;font-family:Menlo,'DejaVu Sans Mono',consolas,'Courier New',monospace\">Analyzing /home/s/Skola/exjobb/github_metric_extractor/out/repositories/TDD-Hangman/tests/test_view.py\n",
       "</pre>\n"
      ],
      "text/plain": [
       "Analyzing /home/s/Skola/exjobb/github_metric_extractor/out/repositories/TDD-Hangman/tests/test_view.py\n"
      ]
     },
     "metadata": {},
     "output_type": "display_data"
    },
    {
     "data": {
      "text/html": [
       "<pre style=\"white-space:pre;overflow-x:auto;line-height:normal;font-family:Menlo,'DejaVu Sans Mono',consolas,'Courier New',monospace\">Analyzing /home/s/Skola/exjobb/github_metric_extractor/out/repositories/TDD-Hangman/tests/test_hangman.py\n",
       "</pre>\n"
      ],
      "text/plain": [
       "Analyzing /home/s/Skola/exjobb/github_metric_extractor/out/repositories/TDD-Hangman/tests/test_hangman.py\n"
      ]
     },
     "metadata": {},
     "output_type": "display_data"
    },
    {
     "data": {
      "text/html": [
       "<pre style=\"white-space:pre;overflow-x:auto;line-height:normal;font-family:Menlo,'DejaVu Sans Mono',consolas,'Courier New',monospace\">Analyzing /home/s/Skola/exjobb/github_metric_extractor/out/repositories/TDD-Hangman/tests/test_controller.py\n",
       "</pre>\n"
      ],
      "text/plain": [
       "Analyzing /home/s/Skola/exjobb/github_metric_extractor/out/repositories/TDD-Hangman/tests/test_controller.py\n"
      ]
     },
     "metadata": {},
     "output_type": "display_data"
    },
    {
     "data": {
      "text/html": [
       "<pre style=\"white-space:pre;overflow-x:auto;line-height:normal;font-family:Menlo,'DejaVu Sans Mono',consolas,'Courier New',monospace\">Analyzing /home/s/Skola/exjobb/github_metric_extractor/out/repositories/TDD-Hangman/tests/model_test.py\n",
       "</pre>\n"
      ],
      "text/plain": [
       "Analyzing /home/s/Skola/exjobb/github_metric_extractor/out/repositories/TDD-Hangman/tests/model_test.py\n"
      ]
     },
     "metadata": {},
     "output_type": "display_data"
    },
    {
     "data": {
      "text/html": [
       "<pre style=\"white-space:pre;overflow-x:auto;line-height:normal;font-family:Menlo,'DejaVu Sans Mono',consolas,'Courier New',monospace\">Analyzing /home/s/Skola/exjobb/github_metric_extractor/out/repositories/TDD-Hangman/tests/test_model.py\n",
       "</pre>\n"
      ],
      "text/plain": [
       "Analyzing /home/s/Skola/exjobb/github_metric_extractor/out/repositories/TDD-Hangman/tests/test_model.py\n"
      ]
     },
     "metadata": {},
     "output_type": "display_data"
    },
    {
     "data": {
      "text/html": [
       "<pre style=\"white-space:pre;overflow-x:auto;line-height:normal;font-family:Menlo,'DejaVu Sans Mono',consolas,'Courier New',monospace\">Analyzing /home/s/Skola/exjobb/github_metric_extractor/out/repositories/TDD-Hangman/src/hangman.py\n",
       "</pre>\n"
      ],
      "text/plain": [
       "Analyzing /home/s/Skola/exjobb/github_metric_extractor/out/repositories/TDD-Hangman/src/hangman.py\n"
      ]
     },
     "metadata": {},
     "output_type": "display_data"
    },
    {
     "data": {
      "text/html": [
       "<pre style=\"white-space:pre;overflow-x:auto;line-height:normal;font-family:Menlo,'DejaVu Sans Mono',consolas,'Courier New',monospace\">Analyzing /home/s/Skola/exjobb/github_metric_extractor/out/repositories/TDD-Hangman/src/views/GUI.py\n",
       "</pre>\n"
      ],
      "text/plain": [
       "Analyzing /home/s/Skola/exjobb/github_metric_extractor/out/repositories/TDD-Hangman/src/views/GUI.py\n"
      ]
     },
     "metadata": {},
     "output_type": "display_data"
    },
    {
     "data": {
      "text/html": [
       "<pre style=\"white-space:pre;overflow-x:auto;line-height:normal;font-family:Menlo,'DejaVu Sans Mono',consolas,'Courier New',monospace\">Analyzing /home/s/Skola/exjobb/github_metric_extractor/out/repositories/TDD-Hangman/src/views/__init__.py\n",
       "</pre>\n"
      ],
      "text/plain": [
       "Analyzing /home/s/Skola/exjobb/github_metric_extractor/out/repositories/TDD-Hangman/src/views/__init__.py\n"
      ]
     },
     "metadata": {},
     "output_type": "display_data"
    },
    {
     "data": {
      "text/html": [
       "<pre style=\"white-space:pre;overflow-x:auto;line-height:normal;font-family:Menlo,'DejaVu Sans Mono',consolas,'Courier New',monospace\">Analyzing /home/s/Skola/exjobb/github_metric_extractor/out/repositories/TDD-Hangman/src/controllers/Controller.py\n",
       "</pre>\n"
      ],
      "text/plain": [
       "Analyzing /home/s/Skola/exjobb/github_metric_extractor/out/repositories/TDD-Hangman/src/controllers/Controller.py\n"
      ]
     },
     "metadata": {},
     "output_type": "display_data"
    },
    {
     "data": {
      "text/html": [
       "<pre style=\"white-space:pre;overflow-x:auto;line-height:normal;font-family:Menlo,'DejaVu Sans Mono',consolas,'Courier New',monospace\">Analyzing /home/s/Skola/exjobb/github_metric_extractor/out/repositories/TDD-Hangman/src/controllers/__init__.py\n",
       "</pre>\n"
      ],
      "text/plain": [
       "Analyzing /home/s/Skola/exjobb/github_metric_extractor/out/repositories/TDD-Hangman/src/controllers/__init__.py\n"
      ]
     },
     "metadata": {},
     "output_type": "display_data"
    },
    {
     "data": {
      "text/html": [
       "<pre style=\"white-space:pre;overflow-x:auto;line-height:normal;font-family:Menlo,'DejaVu Sans Mono',consolas,'Courier New',monospace\">Analyzing /home/s/Skola/exjobb/github_metric_extractor/out/repositories/TDD-Hangman/src/models/GameEngine.py\n",
       "</pre>\n"
      ],
      "text/plain": [
       "Analyzing /home/s/Skola/exjobb/github_metric_extractor/out/repositories/TDD-Hangman/src/models/GameEngine.py\n"
      ]
     },
     "metadata": {},
     "output_type": "display_data"
    },
    {
     "data": {
      "text/html": [
       "<pre style=\"white-space:pre;overflow-x:auto;line-height:normal;font-family:Menlo,'DejaVu Sans Mono',consolas,'Courier New',monospace\">Analyzing /home/s/Skola/exjobb/github_metric_extractor/out/repositories/TDD-Hangman/src/models/__init__.py\n",
       "</pre>\n"
      ],
      "text/plain": [
       "Analyzing /home/s/Skola/exjobb/github_metric_extractor/out/repositories/TDD-Hangman/src/models/__init__.py\n"
      ]
     },
     "metadata": {},
     "output_type": "display_data"
    },
    {
     "data": {
      "text/html": [
       "<pre style=\"white-space:pre;overflow-x:auto;line-height:normal;font-family:Menlo,'DejaVu Sans Mono',consolas,'Courier New',monospace\">Analyzing /home/s/Skola/exjobb/github_metric_extractor/out/repositories/TDD-Hangman/src/other/__init__.py\n",
       "</pre>\n"
      ],
      "text/plain": [
       "Analyzing /home/s/Skola/exjobb/github_metric_extractor/out/repositories/TDD-Hangman/src/other/__init__.py\n"
      ]
     },
     "metadata": {},
     "output_type": "display_data"
    },
    {
     "data": {
      "text/html": [
       "<pre style=\"white-space:pre;overflow-x:auto;line-height:normal;font-family:Menlo,'DejaVu Sans Mono',consolas,'Courier New',monospace\">Analyzing /home/s/Skola/exjobb/github_metric_extractor/out/repositories/TDD-Hangman/tests/test_view.py\n",
       "</pre>\n"
      ],
      "text/plain": [
       "Analyzing /home/s/Skola/exjobb/github_metric_extractor/out/repositories/TDD-Hangman/tests/test_view.py\n"
      ]
     },
     "metadata": {},
     "output_type": "display_data"
    },
    {
     "data": {
      "text/html": [
       "<pre style=\"white-space:pre;overflow-x:auto;line-height:normal;font-family:Menlo,'DejaVu Sans Mono',consolas,'Courier New',monospace\">Analyzing /home/s/Skola/exjobb/github_metric_extractor/out/repositories/TDD-Hangman/tests/test_hangman.py\n",
       "</pre>\n"
      ],
      "text/plain": [
       "Analyzing /home/s/Skola/exjobb/github_metric_extractor/out/repositories/TDD-Hangman/tests/test_hangman.py\n"
      ]
     },
     "metadata": {},
     "output_type": "display_data"
    },
    {
     "data": {
      "text/html": [
       "<pre style=\"white-space:pre;overflow-x:auto;line-height:normal;font-family:Menlo,'DejaVu Sans Mono',consolas,'Courier New',monospace\">Analyzing /home/s/Skola/exjobb/github_metric_extractor/out/repositories/TDD-Hangman/tests/test_controller.py\n",
       "</pre>\n"
      ],
      "text/plain": [
       "Analyzing /home/s/Skola/exjobb/github_metric_extractor/out/repositories/TDD-Hangman/tests/test_controller.py\n"
      ]
     },
     "metadata": {},
     "output_type": "display_data"
    },
    {
     "data": {
      "text/html": [
       "<pre style=\"white-space:pre;overflow-x:auto;line-height:normal;font-family:Menlo,'DejaVu Sans Mono',consolas,'Courier New',monospace\">Analyzing /home/s/Skola/exjobb/github_metric_extractor/out/repositories/TDD-Hangman/tests/model_test.py\n",
       "</pre>\n"
      ],
      "text/plain": [
       "Analyzing /home/s/Skola/exjobb/github_metric_extractor/out/repositories/TDD-Hangman/tests/model_test.py\n"
      ]
     },
     "metadata": {},
     "output_type": "display_data"
    },
    {
     "data": {
      "text/html": [
       "<pre style=\"white-space:pre;overflow-x:auto;line-height:normal;font-family:Menlo,'DejaVu Sans Mono',consolas,'Courier New',monospace\">Analyzing /home/s/Skola/exjobb/github_metric_extractor/out/repositories/TDD-Hangman/tests/test_model.py\n",
       "</pre>\n"
      ],
      "text/plain": [
       "Analyzing /home/s/Skola/exjobb/github_metric_extractor/out/repositories/TDD-Hangman/tests/test_model.py\n"
      ]
     },
     "metadata": {},
     "output_type": "display_data"
    },
    {
     "data": {
      "text/html": [
       "<pre style=\"white-space:pre;overflow-x:auto;line-height:normal;font-family:Menlo,'DejaVu Sans Mono',consolas,'Courier New',monospace\">Analyzing /home/s/Skola/exjobb/github_metric_extractor/out/repositories/TDD-Hangman/tests/__init__.py\n",
       "</pre>\n"
      ],
      "text/plain": [
       "Analyzing /home/s/Skola/exjobb/github_metric_extractor/out/repositories/TDD-Hangman/tests/__init__.py\n"
      ]
     },
     "metadata": {},
     "output_type": "display_data"
    },
    {
     "data": {
      "text/html": [
       "<pre style=\"white-space:pre;overflow-x:auto;line-height:normal;font-family:Menlo,'DejaVu Sans Mono',consolas,'Courier New',monospace\">Analyzing /home/s/Skola/exjobb/github_metric_extractor/out/repositories/TDD-Hangman/src/hangman.py\n",
       "</pre>\n"
      ],
      "text/plain": [
       "Analyzing /home/s/Skola/exjobb/github_metric_extractor/out/repositories/TDD-Hangman/src/hangman.py\n"
      ]
     },
     "metadata": {},
     "output_type": "display_data"
    },
    {
     "data": {
      "text/html": [
       "<pre style=\"white-space:pre;overflow-x:auto;line-height:normal;font-family:Menlo,'DejaVu Sans Mono',consolas,'Courier New',monospace\">Analyzing /home/s/Skola/exjobb/github_metric_extractor/out/repositories/TDD-Hangman/src/views/GUI.py\n",
       "</pre>\n"
      ],
      "text/plain": [
       "Analyzing /home/s/Skola/exjobb/github_metric_extractor/out/repositories/TDD-Hangman/src/views/GUI.py\n"
      ]
     },
     "metadata": {},
     "output_type": "display_data"
    },
    {
     "data": {
      "text/html": [
       "<pre style=\"white-space:pre;overflow-x:auto;line-height:normal;font-family:Menlo,'DejaVu Sans Mono',consolas,'Courier New',monospace\">Analyzing /home/s/Skola/exjobb/github_metric_extractor/out/repositories/TDD-Hangman/src/views/__init__.py\n",
       "</pre>\n"
      ],
      "text/plain": [
       "Analyzing /home/s/Skola/exjobb/github_metric_extractor/out/repositories/TDD-Hangman/src/views/__init__.py\n"
      ]
     },
     "metadata": {},
     "output_type": "display_data"
    },
    {
     "data": {
      "text/html": [
       "<pre style=\"white-space:pre;overflow-x:auto;line-height:normal;font-family:Menlo,'DejaVu Sans Mono',consolas,'Courier New',monospace\">Analyzing /home/s/Skola/exjobb/github_metric_extractor/out/repositories/TDD-Hangman/src/controllers/Controller.py\n",
       "</pre>\n"
      ],
      "text/plain": [
       "Analyzing /home/s/Skola/exjobb/github_metric_extractor/out/repositories/TDD-Hangman/src/controllers/Controller.py\n"
      ]
     },
     "metadata": {},
     "output_type": "display_data"
    },
    {
     "data": {
      "text/html": [
       "<pre style=\"white-space:pre;overflow-x:auto;line-height:normal;font-family:Menlo,'DejaVu Sans Mono',consolas,'Courier New',monospace\">Analyzing /home/s/Skola/exjobb/github_metric_extractor/out/repositories/TDD-Hangman/src/controllers/__init__.py\n",
       "</pre>\n"
      ],
      "text/plain": [
       "Analyzing /home/s/Skola/exjobb/github_metric_extractor/out/repositories/TDD-Hangman/src/controllers/__init__.py\n"
      ]
     },
     "metadata": {},
     "output_type": "display_data"
    },
    {
     "data": {
      "text/html": [
       "<pre style=\"white-space:pre;overflow-x:auto;line-height:normal;font-family:Menlo,'DejaVu Sans Mono',consolas,'Courier New',monospace\">Analyzing /home/s/Skola/exjobb/github_metric_extractor/out/repositories/TDD-Hangman/src/models/GameEngine.py\n",
       "</pre>\n"
      ],
      "text/plain": [
       "Analyzing /home/s/Skola/exjobb/github_metric_extractor/out/repositories/TDD-Hangman/src/models/GameEngine.py\n"
      ]
     },
     "metadata": {},
     "output_type": "display_data"
    },
    {
     "data": {
      "text/html": [
       "<pre style=\"white-space:pre;overflow-x:auto;line-height:normal;font-family:Menlo,'DejaVu Sans Mono',consolas,'Courier New',monospace\">Analyzing /home/s/Skola/exjobb/github_metric_extractor/out/repositories/TDD-Hangman/src/models/__init__.py\n",
       "</pre>\n"
      ],
      "text/plain": [
       "Analyzing /home/s/Skola/exjobb/github_metric_extractor/out/repositories/TDD-Hangman/src/models/__init__.py\n"
      ]
     },
     "metadata": {},
     "output_type": "display_data"
    },
    {
     "data": {
      "text/html": [
       "<pre style=\"white-space:pre;overflow-x:auto;line-height:normal;font-family:Menlo,'DejaVu Sans Mono',consolas,'Courier New',monospace\">Analyzing /home/s/Skola/exjobb/github_metric_extractor/out/repositories/TDD-Hangman/src/other/__init__.py\n",
       "</pre>\n"
      ],
      "text/plain": [
       "Analyzing /home/s/Skola/exjobb/github_metric_extractor/out/repositories/TDD-Hangman/src/other/__init__.py\n"
      ]
     },
     "metadata": {},
     "output_type": "display_data"
    },
    {
     "data": {
      "text/html": [
       "<pre style=\"white-space:pre;overflow-x:auto;line-height:normal;font-family:Menlo,'DejaVu Sans Mono',consolas,'Courier New',monospace\">Analyzing /home/s/Skola/exjobb/github_metric_extractor/out/repositories/TDD-Hangman/tests/test_view.py\n",
       "</pre>\n"
      ],
      "text/plain": [
       "Analyzing /home/s/Skola/exjobb/github_metric_extractor/out/repositories/TDD-Hangman/tests/test_view.py\n"
      ]
     },
     "metadata": {},
     "output_type": "display_data"
    },
    {
     "data": {
      "text/html": [
       "<pre style=\"white-space:pre;overflow-x:auto;line-height:normal;font-family:Menlo,'DejaVu Sans Mono',consolas,'Courier New',monospace\">Analyzing /home/s/Skola/exjobb/github_metric_extractor/out/repositories/TDD-Hangman/tests/test_hangman.py\n",
       "</pre>\n"
      ],
      "text/plain": [
       "Analyzing /home/s/Skola/exjobb/github_metric_extractor/out/repositories/TDD-Hangman/tests/test_hangman.py\n"
      ]
     },
     "metadata": {},
     "output_type": "display_data"
    },
    {
     "data": {
      "text/html": [
       "<pre style=\"white-space:pre;overflow-x:auto;line-height:normal;font-family:Menlo,'DejaVu Sans Mono',consolas,'Courier New',monospace\">Analyzing /home/s/Skola/exjobb/github_metric_extractor/out/repositories/TDD-Hangman/tests/test_controller.py\n",
       "</pre>\n"
      ],
      "text/plain": [
       "Analyzing /home/s/Skola/exjobb/github_metric_extractor/out/repositories/TDD-Hangman/tests/test_controller.py\n"
      ]
     },
     "metadata": {},
     "output_type": "display_data"
    },
    {
     "data": {
      "text/html": [
       "<pre style=\"white-space:pre;overflow-x:auto;line-height:normal;font-family:Menlo,'DejaVu Sans Mono',consolas,'Courier New',monospace\">Analyzing /home/s/Skola/exjobb/github_metric_extractor/out/repositories/TDD-Hangman/tests/model_test.py\n",
       "</pre>\n"
      ],
      "text/plain": [
       "Analyzing /home/s/Skola/exjobb/github_metric_extractor/out/repositories/TDD-Hangman/tests/model_test.py\n"
      ]
     },
     "metadata": {},
     "output_type": "display_data"
    },
    {
     "data": {
      "text/html": [
       "<pre style=\"white-space:pre;overflow-x:auto;line-height:normal;font-family:Menlo,'DejaVu Sans Mono',consolas,'Courier New',monospace\">Analyzing /home/s/Skola/exjobb/github_metric_extractor/out/repositories/TDD-Hangman/tests/test_model.py\n",
       "</pre>\n"
      ],
      "text/plain": [
       "Analyzing /home/s/Skola/exjobb/github_metric_extractor/out/repositories/TDD-Hangman/tests/test_model.py\n"
      ]
     },
     "metadata": {},
     "output_type": "display_data"
    },
    {
     "data": {
      "text/html": [
       "<pre style=\"white-space:pre;overflow-x:auto;line-height:normal;font-family:Menlo,'DejaVu Sans Mono',consolas,'Courier New',monospace\">Analyzing /home/s/Skola/exjobb/github_metric_extractor/out/repositories/TDD-Hangman/tests/__init__.py\n",
       "</pre>\n"
      ],
      "text/plain": [
       "Analyzing /home/s/Skola/exjobb/github_metric_extractor/out/repositories/TDD-Hangman/tests/__init__.py\n"
      ]
     },
     "metadata": {},
     "output_type": "display_data"
    },
    {
     "data": {
      "text/html": [
       "<pre style=\"white-space:pre;overflow-x:auto;line-height:normal;font-family:Menlo,'DejaVu Sans Mono',consolas,'Courier New',monospace\">Analyzing /home/s/Skola/exjobb/github_metric_extractor/out/repositories/TDD-Hangman/src/hangman.py\n",
       "</pre>\n"
      ],
      "text/plain": [
       "Analyzing /home/s/Skola/exjobb/github_metric_extractor/out/repositories/TDD-Hangman/src/hangman.py\n"
      ]
     },
     "metadata": {},
     "output_type": "display_data"
    },
    {
     "data": {
      "text/html": [
       "<pre style=\"white-space:pre;overflow-x:auto;line-height:normal;font-family:Menlo,'DejaVu Sans Mono',consolas,'Courier New',monospace\">Analyzing /home/s/Skola/exjobb/github_metric_extractor/out/repositories/TDD-Hangman/src/views/GUI.py\n",
       "</pre>\n"
      ],
      "text/plain": [
       "Analyzing /home/s/Skola/exjobb/github_metric_extractor/out/repositories/TDD-Hangman/src/views/GUI.py\n"
      ]
     },
     "metadata": {},
     "output_type": "display_data"
    },
    {
     "data": {
      "text/html": [
       "<pre style=\"white-space:pre;overflow-x:auto;line-height:normal;font-family:Menlo,'DejaVu Sans Mono',consolas,'Courier New',monospace\">Analyzing /home/s/Skola/exjobb/github_metric_extractor/out/repositories/TDD-Hangman/src/views/__init__.py\n",
       "</pre>\n"
      ],
      "text/plain": [
       "Analyzing /home/s/Skola/exjobb/github_metric_extractor/out/repositories/TDD-Hangman/src/views/__init__.py\n"
      ]
     },
     "metadata": {},
     "output_type": "display_data"
    },
    {
     "data": {
      "text/html": [
       "<pre style=\"white-space:pre;overflow-x:auto;line-height:normal;font-family:Menlo,'DejaVu Sans Mono',consolas,'Courier New',monospace\">Analyzing /home/s/Skola/exjobb/github_metric_extractor/out/repositories/TDD-Hangman/src/controllers/Controller.py\n",
       "</pre>\n"
      ],
      "text/plain": [
       "Analyzing /home/s/Skola/exjobb/github_metric_extractor/out/repositories/TDD-Hangman/src/controllers/Controller.py\n"
      ]
     },
     "metadata": {},
     "output_type": "display_data"
    },
    {
     "data": {
      "text/html": [
       "<pre style=\"white-space:pre;overflow-x:auto;line-height:normal;font-family:Menlo,'DejaVu Sans Mono',consolas,'Courier New',monospace\">Analyzing /home/s/Skola/exjobb/github_metric_extractor/out/repositories/TDD-Hangman/src/controllers/__init__.py\n",
       "</pre>\n"
      ],
      "text/plain": [
       "Analyzing /home/s/Skola/exjobb/github_metric_extractor/out/repositories/TDD-Hangman/src/controllers/__init__.py\n"
      ]
     },
     "metadata": {},
     "output_type": "display_data"
    },
    {
     "data": {
      "text/html": [
       "<pre style=\"white-space:pre;overflow-x:auto;line-height:normal;font-family:Menlo,'DejaVu Sans Mono',consolas,'Courier New',monospace\">Analyzing /home/s/Skola/exjobb/github_metric_extractor/out/repositories/TDD-Hangman/src/models/GameEngine.py\n",
       "</pre>\n"
      ],
      "text/plain": [
       "Analyzing /home/s/Skola/exjobb/github_metric_extractor/out/repositories/TDD-Hangman/src/models/GameEngine.py\n"
      ]
     },
     "metadata": {},
     "output_type": "display_data"
    },
    {
     "data": {
      "text/html": [
       "<pre style=\"white-space:pre;overflow-x:auto;line-height:normal;font-family:Menlo,'DejaVu Sans Mono',consolas,'Courier New',monospace\">Analyzing /home/s/Skola/exjobb/github_metric_extractor/out/repositories/TDD-Hangman/src/models/__init__.py\n",
       "</pre>\n"
      ],
      "text/plain": [
       "Analyzing /home/s/Skola/exjobb/github_metric_extractor/out/repositories/TDD-Hangman/src/models/__init__.py\n"
      ]
     },
     "metadata": {},
     "output_type": "display_data"
    },
    {
     "data": {
      "text/html": [
       "<pre style=\"white-space:pre;overflow-x:auto;line-height:normal;font-family:Menlo,'DejaVu Sans Mono',consolas,'Courier New',monospace\">Analyzing /home/s/Skola/exjobb/github_metric_extractor/out/repositories/TDD-Hangman/src/other/__init__.py\n",
       "</pre>\n"
      ],
      "text/plain": [
       "Analyzing /home/s/Skola/exjobb/github_metric_extractor/out/repositories/TDD-Hangman/src/other/__init__.py\n"
      ]
     },
     "metadata": {},
     "output_type": "display_data"
    },
    {
     "data": {
      "text/html": [
       "<pre style=\"white-space:pre;overflow-x:auto;line-height:normal;font-family:Menlo,'DejaVu Sans Mono',consolas,'Courier New',monospace\">Analyzing /home/s/Skola/exjobb/github_metric_extractor/out/repositories/TDD-Hangman/tests/test_view.py\n",
       "</pre>\n"
      ],
      "text/plain": [
       "Analyzing /home/s/Skola/exjobb/github_metric_extractor/out/repositories/TDD-Hangman/tests/test_view.py\n"
      ]
     },
     "metadata": {},
     "output_type": "display_data"
    },
    {
     "data": {
      "text/html": [
       "<pre style=\"white-space:pre;overflow-x:auto;line-height:normal;font-family:Menlo,'DejaVu Sans Mono',consolas,'Courier New',monospace\">Analyzing /home/s/Skola/exjobb/github_metric_extractor/out/repositories/TDD-Hangman/tests/test_hangman.py\n",
       "</pre>\n"
      ],
      "text/plain": [
       "Analyzing /home/s/Skola/exjobb/github_metric_extractor/out/repositories/TDD-Hangman/tests/test_hangman.py\n"
      ]
     },
     "metadata": {},
     "output_type": "display_data"
    },
    {
     "data": {
      "text/html": [
       "<pre style=\"white-space:pre;overflow-x:auto;line-height:normal;font-family:Menlo,'DejaVu Sans Mono',consolas,'Courier New',monospace\">Analyzing /home/s/Skola/exjobb/github_metric_extractor/out/repositories/TDD-Hangman/tests/test_controller.py\n",
       "</pre>\n"
      ],
      "text/plain": [
       "Analyzing /home/s/Skola/exjobb/github_metric_extractor/out/repositories/TDD-Hangman/tests/test_controller.py\n"
      ]
     },
     "metadata": {},
     "output_type": "display_data"
    },
    {
     "data": {
      "text/html": [
       "<pre style=\"white-space:pre;overflow-x:auto;line-height:normal;font-family:Menlo,'DejaVu Sans Mono',consolas,'Courier New',monospace\">Analyzing /home/s/Skola/exjobb/github_metric_extractor/out/repositories/TDD-Hangman/tests/test_model.py\n",
       "</pre>\n"
      ],
      "text/plain": [
       "Analyzing /home/s/Skola/exjobb/github_metric_extractor/out/repositories/TDD-Hangman/tests/test_model.py\n"
      ]
     },
     "metadata": {},
     "output_type": "display_data"
    },
    {
     "data": {
      "text/html": [
       "<pre style=\"white-space:pre;overflow-x:auto;line-height:normal;font-family:Menlo,'DejaVu Sans Mono',consolas,'Courier New',monospace\">Analyzing /home/s/Skola/exjobb/github_metric_extractor/out/repositories/TDD-Hangman/tests/__init__.py\n",
       "</pre>\n"
      ],
      "text/plain": [
       "Analyzing /home/s/Skola/exjobb/github_metric_extractor/out/repositories/TDD-Hangman/tests/__init__.py\n"
      ]
     },
     "metadata": {},
     "output_type": "display_data"
    },
    {
     "data": {
      "text/html": [
       "<pre style=\"white-space:pre;overflow-x:auto;line-height:normal;font-family:Menlo,'DejaVu Sans Mono',consolas,'Courier New',monospace\">Analyzing /home/s/Skola/exjobb/github_metric_extractor/out/repositories/TDD-Hangman/src/hangman.py\n",
       "</pre>\n"
      ],
      "text/plain": [
       "Analyzing /home/s/Skola/exjobb/github_metric_extractor/out/repositories/TDD-Hangman/src/hangman.py\n"
      ]
     },
     "metadata": {},
     "output_type": "display_data"
    },
    {
     "data": {
      "text/html": [
       "<pre style=\"white-space:pre;overflow-x:auto;line-height:normal;font-family:Menlo,'DejaVu Sans Mono',consolas,'Courier New',monospace\">Analyzing /home/s/Skola/exjobb/github_metric_extractor/out/repositories/TDD-Hangman/src/views/GUI.py\n",
       "</pre>\n"
      ],
      "text/plain": [
       "Analyzing /home/s/Skola/exjobb/github_metric_extractor/out/repositories/TDD-Hangman/src/views/GUI.py\n"
      ]
     },
     "metadata": {},
     "output_type": "display_data"
    },
    {
     "data": {
      "text/html": [
       "<pre style=\"white-space:pre;overflow-x:auto;line-height:normal;font-family:Menlo,'DejaVu Sans Mono',consolas,'Courier New',monospace\">Analyzing /home/s/Skola/exjobb/github_metric_extractor/out/repositories/TDD-Hangman/src/views/__init__.py\n",
       "</pre>\n"
      ],
      "text/plain": [
       "Analyzing /home/s/Skola/exjobb/github_metric_extractor/out/repositories/TDD-Hangman/src/views/__init__.py\n"
      ]
     },
     "metadata": {},
     "output_type": "display_data"
    },
    {
     "data": {
      "text/html": [
       "<pre style=\"white-space:pre;overflow-x:auto;line-height:normal;font-family:Menlo,'DejaVu Sans Mono',consolas,'Courier New',monospace\">Analyzing /home/s/Skola/exjobb/github_metric_extractor/out/repositories/TDD-Hangman/src/controllers/Controller.py\n",
       "</pre>\n"
      ],
      "text/plain": [
       "Analyzing /home/s/Skola/exjobb/github_metric_extractor/out/repositories/TDD-Hangman/src/controllers/Controller.py\n"
      ]
     },
     "metadata": {},
     "output_type": "display_data"
    },
    {
     "data": {
      "text/html": [
       "<pre style=\"white-space:pre;overflow-x:auto;line-height:normal;font-family:Menlo,'DejaVu Sans Mono',consolas,'Courier New',monospace\">Analyzing /home/s/Skola/exjobb/github_metric_extractor/out/repositories/TDD-Hangman/src/controllers/__init__.py\n",
       "</pre>\n"
      ],
      "text/plain": [
       "Analyzing /home/s/Skola/exjobb/github_metric_extractor/out/repositories/TDD-Hangman/src/controllers/__init__.py\n"
      ]
     },
     "metadata": {},
     "output_type": "display_data"
    },
    {
     "data": {
      "text/html": [
       "<pre style=\"white-space:pre;overflow-x:auto;line-height:normal;font-family:Menlo,'DejaVu Sans Mono',consolas,'Courier New',monospace\">Analyzing /home/s/Skola/exjobb/github_metric_extractor/out/repositories/TDD-Hangman/src/models/GameEngine.py\n",
       "</pre>\n"
      ],
      "text/plain": [
       "Analyzing /home/s/Skola/exjobb/github_metric_extractor/out/repositories/TDD-Hangman/src/models/GameEngine.py\n"
      ]
     },
     "metadata": {},
     "output_type": "display_data"
    },
    {
     "data": {
      "text/html": [
       "<pre style=\"white-space:pre;overflow-x:auto;line-height:normal;font-family:Menlo,'DejaVu Sans Mono',consolas,'Courier New',monospace\">Analyzing /home/s/Skola/exjobb/github_metric_extractor/out/repositories/TDD-Hangman/src/models/__init__.py\n",
       "</pre>\n"
      ],
      "text/plain": [
       "Analyzing /home/s/Skola/exjobb/github_metric_extractor/out/repositories/TDD-Hangman/src/models/__init__.py\n"
      ]
     },
     "metadata": {},
     "output_type": "display_data"
    },
    {
     "data": {
      "text/html": [
       "<pre style=\"white-space:pre;overflow-x:auto;line-height:normal;font-family:Menlo,'DejaVu Sans Mono',consolas,'Courier New',monospace\">Analyzing /home/s/Skola/exjobb/github_metric_extractor/out/repositories/TDD-Hangman/src/other/__init__.py\n",
       "</pre>\n"
      ],
      "text/plain": [
       "Analyzing /home/s/Skola/exjobb/github_metric_extractor/out/repositories/TDD-Hangman/src/other/__init__.py\n"
      ]
     },
     "metadata": {},
     "output_type": "display_data"
    },
    {
     "data": {
      "text/html": [
       "<pre style=\"white-space:pre;overflow-x:auto;line-height:normal;font-family:Menlo,'DejaVu Sans Mono',consolas,'Courier New',monospace\">Analyzing /home/s/Skola/exjobb/github_metric_extractor/out/repositories/TDD-Hangman/tests/test_view.py\n",
       "</pre>\n"
      ],
      "text/plain": [
       "Analyzing /home/s/Skola/exjobb/github_metric_extractor/out/repositories/TDD-Hangman/tests/test_view.py\n"
      ]
     },
     "metadata": {},
     "output_type": "display_data"
    },
    {
     "data": {
      "text/html": [
       "<pre style=\"white-space:pre;overflow-x:auto;line-height:normal;font-family:Menlo,'DejaVu Sans Mono',consolas,'Courier New',monospace\">Analyzing /home/s/Skola/exjobb/github_metric_extractor/out/repositories/TDD-Hangman/tests/test_hangman.py\n",
       "</pre>\n"
      ],
      "text/plain": [
       "Analyzing /home/s/Skola/exjobb/github_metric_extractor/out/repositories/TDD-Hangman/tests/test_hangman.py\n"
      ]
     },
     "metadata": {},
     "output_type": "display_data"
    },
    {
     "data": {
      "text/html": [
       "<pre style=\"white-space:pre;overflow-x:auto;line-height:normal;font-family:Menlo,'DejaVu Sans Mono',consolas,'Courier New',monospace\">Analyzing /home/s/Skola/exjobb/github_metric_extractor/out/repositories/TDD-Hangman/tests/test_controller.py\n",
       "</pre>\n"
      ],
      "text/plain": [
       "Analyzing /home/s/Skola/exjobb/github_metric_extractor/out/repositories/TDD-Hangman/tests/test_controller.py\n"
      ]
     },
     "metadata": {},
     "output_type": "display_data"
    },
    {
     "data": {
      "text/html": [
       "<pre style=\"white-space:pre;overflow-x:auto;line-height:normal;font-family:Menlo,'DejaVu Sans Mono',consolas,'Courier New',monospace\">Analyzing /home/s/Skola/exjobb/github_metric_extractor/out/repositories/TDD-Hangman/tests/test_model.py\n",
       "</pre>\n"
      ],
      "text/plain": [
       "Analyzing /home/s/Skola/exjobb/github_metric_extractor/out/repositories/TDD-Hangman/tests/test_model.py\n"
      ]
     },
     "metadata": {},
     "output_type": "display_data"
    },
    {
     "data": {
      "text/html": [
       "<pre style=\"white-space:pre;overflow-x:auto;line-height:normal;font-family:Menlo,'DejaVu Sans Mono',consolas,'Courier New',monospace\">Analyzing /home/s/Skola/exjobb/github_metric_extractor/out/repositories/TDD-Hangman/tests/__init__.py\n",
       "</pre>\n"
      ],
      "text/plain": [
       "Analyzing /home/s/Skola/exjobb/github_metric_extractor/out/repositories/TDD-Hangman/tests/__init__.py\n"
      ]
     },
     "metadata": {},
     "output_type": "display_data"
    },
    {
     "data": {
      "text/html": [
       "<pre style=\"white-space:pre;overflow-x:auto;line-height:normal;font-family:Menlo,'DejaVu Sans Mono',consolas,'Courier New',monospace\">Analyzing /home/s/Skola/exjobb/github_metric_extractor/out/repositories/TDD-Hangman/src/hangman.py\n",
       "</pre>\n"
      ],
      "text/plain": [
       "Analyzing /home/s/Skola/exjobb/github_metric_extractor/out/repositories/TDD-Hangman/src/hangman.py\n"
      ]
     },
     "metadata": {},
     "output_type": "display_data"
    },
    {
     "data": {
      "text/html": [
       "<pre style=\"white-space:pre;overflow-x:auto;line-height:normal;font-family:Menlo,'DejaVu Sans Mono',consolas,'Courier New',monospace\">Analyzing /home/s/Skola/exjobb/github_metric_extractor/out/repositories/TDD-Hangman/src/views/GUI.py\n",
       "</pre>\n"
      ],
      "text/plain": [
       "Analyzing /home/s/Skola/exjobb/github_metric_extractor/out/repositories/TDD-Hangman/src/views/GUI.py\n"
      ]
     },
     "metadata": {},
     "output_type": "display_data"
    },
    {
     "data": {
      "text/html": [
       "<pre style=\"white-space:pre;overflow-x:auto;line-height:normal;font-family:Menlo,'DejaVu Sans Mono',consolas,'Courier New',monospace\">Analyzing /home/s/Skola/exjobb/github_metric_extractor/out/repositories/TDD-Hangman/src/views/__init__.py\n",
       "</pre>\n"
      ],
      "text/plain": [
       "Analyzing /home/s/Skola/exjobb/github_metric_extractor/out/repositories/TDD-Hangman/src/views/__init__.py\n"
      ]
     },
     "metadata": {},
     "output_type": "display_data"
    },
    {
     "data": {
      "text/html": [
       "<pre style=\"white-space:pre;overflow-x:auto;line-height:normal;font-family:Menlo,'DejaVu Sans Mono',consolas,'Courier New',monospace\">Analyzing /home/s/Skola/exjobb/github_metric_extractor/out/repositories/TDD-Hangman/src/controllers/Controller.py\n",
       "</pre>\n"
      ],
      "text/plain": [
       "Analyzing /home/s/Skola/exjobb/github_metric_extractor/out/repositories/TDD-Hangman/src/controllers/Controller.py\n"
      ]
     },
     "metadata": {},
     "output_type": "display_data"
    },
    {
     "data": {
      "text/html": [
       "<pre style=\"white-space:pre;overflow-x:auto;line-height:normal;font-family:Menlo,'DejaVu Sans Mono',consolas,'Courier New',monospace\">Analyzing /home/s/Skola/exjobb/github_metric_extractor/out/repositories/TDD-Hangman/src/controllers/__init__.py\n",
       "</pre>\n"
      ],
      "text/plain": [
       "Analyzing /home/s/Skola/exjobb/github_metric_extractor/out/repositories/TDD-Hangman/src/controllers/__init__.py\n"
      ]
     },
     "metadata": {},
     "output_type": "display_data"
    },
    {
     "data": {
      "text/html": [
       "<pre style=\"white-space:pre;overflow-x:auto;line-height:normal;font-family:Menlo,'DejaVu Sans Mono',consolas,'Courier New',monospace\">Analyzing /home/s/Skola/exjobb/github_metric_extractor/out/repositories/TDD-Hangman/src/models/GameEngine.py\n",
       "</pre>\n"
      ],
      "text/plain": [
       "Analyzing /home/s/Skola/exjobb/github_metric_extractor/out/repositories/TDD-Hangman/src/models/GameEngine.py\n"
      ]
     },
     "metadata": {},
     "output_type": "display_data"
    },
    {
     "data": {
      "text/html": [
       "<pre style=\"white-space:pre;overflow-x:auto;line-height:normal;font-family:Menlo,'DejaVu Sans Mono',consolas,'Courier New',monospace\">Analyzing /home/s/Skola/exjobb/github_metric_extractor/out/repositories/TDD-Hangman/src/models/__init__.py\n",
       "</pre>\n"
      ],
      "text/plain": [
       "Analyzing /home/s/Skola/exjobb/github_metric_extractor/out/repositories/TDD-Hangman/src/models/__init__.py\n"
      ]
     },
     "metadata": {},
     "output_type": "display_data"
    },
    {
     "data": {
      "text/html": [
       "<pre style=\"white-space:pre;overflow-x:auto;line-height:normal;font-family:Menlo,'DejaVu Sans Mono',consolas,'Courier New',monospace\">Analyzing /home/s/Skola/exjobb/github_metric_extractor/out/repositories/TDD-Hangman/src/other/__init__.py\n",
       "</pre>\n"
      ],
      "text/plain": [
       "Analyzing /home/s/Skola/exjobb/github_metric_extractor/out/repositories/TDD-Hangman/src/other/__init__.py\n"
      ]
     },
     "metadata": {},
     "output_type": "display_data"
    },
    {
     "data": {
      "text/html": [
       "<pre style=\"white-space:pre;overflow-x:auto;line-height:normal;font-family:Menlo,'DejaVu Sans Mono',consolas,'Courier New',monospace\">Analyzing /home/s/Skola/exjobb/github_metric_extractor/out/repositories/TDD-Hangman/tests/test_view.py\n",
       "</pre>\n"
      ],
      "text/plain": [
       "Analyzing /home/s/Skola/exjobb/github_metric_extractor/out/repositories/TDD-Hangman/tests/test_view.py\n"
      ]
     },
     "metadata": {},
     "output_type": "display_data"
    },
    {
     "data": {
      "text/html": [
       "<pre style=\"white-space:pre;overflow-x:auto;line-height:normal;font-family:Menlo,'DejaVu Sans Mono',consolas,'Courier New',monospace\">Analyzing /home/s/Skola/exjobb/github_metric_extractor/out/repositories/TDD-Hangman/tests/test_hangman.py\n",
       "</pre>\n"
      ],
      "text/plain": [
       "Analyzing /home/s/Skola/exjobb/github_metric_extractor/out/repositories/TDD-Hangman/tests/test_hangman.py\n"
      ]
     },
     "metadata": {},
     "output_type": "display_data"
    },
    {
     "data": {
      "text/html": [
       "<pre style=\"white-space:pre;overflow-x:auto;line-height:normal;font-family:Menlo,'DejaVu Sans Mono',consolas,'Courier New',monospace\">Analyzing /home/s/Skola/exjobb/github_metric_extractor/out/repositories/TDD-Hangman/tests/test_controller.py\n",
       "</pre>\n"
      ],
      "text/plain": [
       "Analyzing /home/s/Skola/exjobb/github_metric_extractor/out/repositories/TDD-Hangman/tests/test_controller.py\n"
      ]
     },
     "metadata": {},
     "output_type": "display_data"
    },
    {
     "data": {
      "text/html": [
       "<pre style=\"white-space:pre;overflow-x:auto;line-height:normal;font-family:Menlo,'DejaVu Sans Mono',consolas,'Courier New',monospace\">Analyzing /home/s/Skola/exjobb/github_metric_extractor/out/repositories/TDD-Hangman/tests/test_model.py\n",
       "</pre>\n"
      ],
      "text/plain": [
       "Analyzing /home/s/Skola/exjobb/github_metric_extractor/out/repositories/TDD-Hangman/tests/test_model.py\n"
      ]
     },
     "metadata": {},
     "output_type": "display_data"
    },
    {
     "data": {
      "text/html": [
       "<pre style=\"white-space:pre;overflow-x:auto;line-height:normal;font-family:Menlo,'DejaVu Sans Mono',consolas,'Courier New',monospace\">Analyzing /home/s/Skola/exjobb/github_metric_extractor/out/repositories/TDD-Hangman/tests/__init__.py\n",
       "</pre>\n"
      ],
      "text/plain": [
       "Analyzing /home/s/Skola/exjobb/github_metric_extractor/out/repositories/TDD-Hangman/tests/__init__.py\n"
      ]
     },
     "metadata": {},
     "output_type": "display_data"
    },
    {
     "data": {
      "text/html": [
       "<pre style=\"white-space:pre;overflow-x:auto;line-height:normal;font-family:Menlo,'DejaVu Sans Mono',consolas,'Courier New',monospace\">Analyzing /home/s/Skola/exjobb/github_metric_extractor/out/repositories/TDD-Hangman/src/hangman.py\n",
       "</pre>\n"
      ],
      "text/plain": [
       "Analyzing /home/s/Skola/exjobb/github_metric_extractor/out/repositories/TDD-Hangman/src/hangman.py\n"
      ]
     },
     "metadata": {},
     "output_type": "display_data"
    },
    {
     "data": {
      "text/html": [
       "<pre style=\"white-space:pre;overflow-x:auto;line-height:normal;font-family:Menlo,'DejaVu Sans Mono',consolas,'Courier New',monospace\">Analyzing /home/s/Skola/exjobb/github_metric_extractor/out/repositories/TDD-Hangman/src/views/GUI.py\n",
       "</pre>\n"
      ],
      "text/plain": [
       "Analyzing /home/s/Skola/exjobb/github_metric_extractor/out/repositories/TDD-Hangman/src/views/GUI.py\n"
      ]
     },
     "metadata": {},
     "output_type": "display_data"
    },
    {
     "data": {
      "text/html": [
       "<pre style=\"white-space:pre;overflow-x:auto;line-height:normal;font-family:Menlo,'DejaVu Sans Mono',consolas,'Courier New',monospace\">Analyzing /home/s/Skola/exjobb/github_metric_extractor/out/repositories/TDD-Hangman/src/views/__init__.py\n",
       "</pre>\n"
      ],
      "text/plain": [
       "Analyzing /home/s/Skola/exjobb/github_metric_extractor/out/repositories/TDD-Hangman/src/views/__init__.py\n"
      ]
     },
     "metadata": {},
     "output_type": "display_data"
    },
    {
     "data": {
      "text/html": [
       "<pre style=\"white-space:pre;overflow-x:auto;line-height:normal;font-family:Menlo,'DejaVu Sans Mono',consolas,'Courier New',monospace\">Analyzing /home/s/Skola/exjobb/github_metric_extractor/out/repositories/TDD-Hangman/src/controllers/Controller.py\n",
       "</pre>\n"
      ],
      "text/plain": [
       "Analyzing /home/s/Skola/exjobb/github_metric_extractor/out/repositories/TDD-Hangman/src/controllers/Controller.py\n"
      ]
     },
     "metadata": {},
     "output_type": "display_data"
    },
    {
     "data": {
      "text/html": [
       "<pre style=\"white-space:pre;overflow-x:auto;line-height:normal;font-family:Menlo,'DejaVu Sans Mono',consolas,'Courier New',monospace\">Analyzing /home/s/Skola/exjobb/github_metric_extractor/out/repositories/TDD-Hangman/src/controllers/__init__.py\n",
       "</pre>\n"
      ],
      "text/plain": [
       "Analyzing /home/s/Skola/exjobb/github_metric_extractor/out/repositories/TDD-Hangman/src/controllers/__init__.py\n"
      ]
     },
     "metadata": {},
     "output_type": "display_data"
    },
    {
     "data": {
      "text/html": [
       "<pre style=\"white-space:pre;overflow-x:auto;line-height:normal;font-family:Menlo,'DejaVu Sans Mono',consolas,'Courier New',monospace\">Analyzing /home/s/Skola/exjobb/github_metric_extractor/out/repositories/TDD-Hangman/src/models/GameEngine.py\n",
       "</pre>\n"
      ],
      "text/plain": [
       "Analyzing /home/s/Skola/exjobb/github_metric_extractor/out/repositories/TDD-Hangman/src/models/GameEngine.py\n"
      ]
     },
     "metadata": {},
     "output_type": "display_data"
    },
    {
     "data": {
      "text/html": [
       "<pre style=\"white-space:pre;overflow-x:auto;line-height:normal;font-family:Menlo,'DejaVu Sans Mono',consolas,'Courier New',monospace\">Analyzing /home/s/Skola/exjobb/github_metric_extractor/out/repositories/TDD-Hangman/src/models/__init__.py\n",
       "</pre>\n"
      ],
      "text/plain": [
       "Analyzing /home/s/Skola/exjobb/github_metric_extractor/out/repositories/TDD-Hangman/src/models/__init__.py\n"
      ]
     },
     "metadata": {},
     "output_type": "display_data"
    },
    {
     "data": {
      "text/html": [
       "<pre style=\"white-space:pre;overflow-x:auto;line-height:normal;font-family:Menlo,'DejaVu Sans Mono',consolas,'Courier New',monospace\">Analyzing /home/s/Skola/exjobb/github_metric_extractor/out/repositories/TDD-Hangman/src/other/__init__.py\n",
       "</pre>\n"
      ],
      "text/plain": [
       "Analyzing /home/s/Skola/exjobb/github_metric_extractor/out/repositories/TDD-Hangman/src/other/__init__.py\n"
      ]
     },
     "metadata": {},
     "output_type": "display_data"
    },
    {
     "data": {
      "text/html": [
       "<pre style=\"white-space:pre;overflow-x:auto;line-height:normal;font-family:Menlo,'DejaVu Sans Mono',consolas,'Courier New',monospace\">Analyzing /home/s/Skola/exjobb/github_metric_extractor/out/repositories/TDD-Hangman/tests/test_view.py\n",
       "</pre>\n"
      ],
      "text/plain": [
       "Analyzing /home/s/Skola/exjobb/github_metric_extractor/out/repositories/TDD-Hangman/tests/test_view.py\n"
      ]
     },
     "metadata": {},
     "output_type": "display_data"
    },
    {
     "data": {
      "text/html": [
       "<pre style=\"white-space:pre;overflow-x:auto;line-height:normal;font-family:Menlo,'DejaVu Sans Mono',consolas,'Courier New',monospace\">Analyzing /home/s/Skola/exjobb/github_metric_extractor/out/repositories/TDD-Hangman/tests/test_hangman.py\n",
       "</pre>\n"
      ],
      "text/plain": [
       "Analyzing /home/s/Skola/exjobb/github_metric_extractor/out/repositories/TDD-Hangman/tests/test_hangman.py\n"
      ]
     },
     "metadata": {},
     "output_type": "display_data"
    },
    {
     "data": {
      "text/html": [
       "<pre style=\"white-space:pre;overflow-x:auto;line-height:normal;font-family:Menlo,'DejaVu Sans Mono',consolas,'Courier New',monospace\">Analyzing /home/s/Skola/exjobb/github_metric_extractor/out/repositories/TDD-Hangman/tests/test_controller.py\n",
       "</pre>\n"
      ],
      "text/plain": [
       "Analyzing /home/s/Skola/exjobb/github_metric_extractor/out/repositories/TDD-Hangman/tests/test_controller.py\n"
      ]
     },
     "metadata": {},
     "output_type": "display_data"
    },
    {
     "data": {
      "text/html": [
       "<pre style=\"white-space:pre;overflow-x:auto;line-height:normal;font-family:Menlo,'DejaVu Sans Mono',consolas,'Courier New',monospace\">Analyzing /home/s/Skola/exjobb/github_metric_extractor/out/repositories/TDD-Hangman/tests/test_model.py\n",
       "</pre>\n"
      ],
      "text/plain": [
       "Analyzing /home/s/Skola/exjobb/github_metric_extractor/out/repositories/TDD-Hangman/tests/test_model.py\n"
      ]
     },
     "metadata": {},
     "output_type": "display_data"
    },
    {
     "data": {
      "text/html": [
       "<pre style=\"white-space:pre;overflow-x:auto;line-height:normal;font-family:Menlo,'DejaVu Sans Mono',consolas,'Courier New',monospace\">Analyzing /home/s/Skola/exjobb/github_metric_extractor/out/repositories/TDD-Hangman/tests/__init__.py\n",
       "</pre>\n"
      ],
      "text/plain": [
       "Analyzing /home/s/Skola/exjobb/github_metric_extractor/out/repositories/TDD-Hangman/tests/__init__.py\n"
      ]
     },
     "metadata": {},
     "output_type": "display_data"
    },
    {
     "data": {
      "text/html": [
       "<pre style=\"white-space:pre;overflow-x:auto;line-height:normal;font-family:Menlo,'DejaVu Sans Mono',consolas,'Courier New',monospace\">Analyzing /home/s/Skola/exjobb/github_metric_extractor/out/repositories/TDD-Hangman/src/hangman.py\n",
       "</pre>\n"
      ],
      "text/plain": [
       "Analyzing /home/s/Skola/exjobb/github_metric_extractor/out/repositories/TDD-Hangman/src/hangman.py\n"
      ]
     },
     "metadata": {},
     "output_type": "display_data"
    },
    {
     "data": {
      "text/html": [
       "<pre style=\"white-space:pre;overflow-x:auto;line-height:normal;font-family:Menlo,'DejaVu Sans Mono',consolas,'Courier New',monospace\">Analyzing /home/s/Skola/exjobb/github_metric_extractor/out/repositories/TDD-Hangman/src/views/GUI.py\n",
       "</pre>\n"
      ],
      "text/plain": [
       "Analyzing /home/s/Skola/exjobb/github_metric_extractor/out/repositories/TDD-Hangman/src/views/GUI.py\n"
      ]
     },
     "metadata": {},
     "output_type": "display_data"
    },
    {
     "data": {
      "text/html": [
       "<pre style=\"white-space:pre;overflow-x:auto;line-height:normal;font-family:Menlo,'DejaVu Sans Mono',consolas,'Courier New',monospace\">Analyzing /home/s/Skola/exjobb/github_metric_extractor/out/repositories/TDD-Hangman/src/views/__init__.py\n",
       "</pre>\n"
      ],
      "text/plain": [
       "Analyzing /home/s/Skola/exjobb/github_metric_extractor/out/repositories/TDD-Hangman/src/views/__init__.py\n"
      ]
     },
     "metadata": {},
     "output_type": "display_data"
    },
    {
     "data": {
      "text/html": [
       "<pre style=\"white-space:pre;overflow-x:auto;line-height:normal;font-family:Menlo,'DejaVu Sans Mono',consolas,'Courier New',monospace\">Analyzing /home/s/Skola/exjobb/github_metric_extractor/out/repositories/TDD-Hangman/src/controllers/Controller.py\n",
       "</pre>\n"
      ],
      "text/plain": [
       "Analyzing /home/s/Skola/exjobb/github_metric_extractor/out/repositories/TDD-Hangman/src/controllers/Controller.py\n"
      ]
     },
     "metadata": {},
     "output_type": "display_data"
    },
    {
     "data": {
      "text/html": [
       "<pre style=\"white-space:pre;overflow-x:auto;line-height:normal;font-family:Menlo,'DejaVu Sans Mono',consolas,'Courier New',monospace\">Analyzing /home/s/Skola/exjobb/github_metric_extractor/out/repositories/TDD-Hangman/src/controllers/__init__.py\n",
       "</pre>\n"
      ],
      "text/plain": [
       "Analyzing /home/s/Skola/exjobb/github_metric_extractor/out/repositories/TDD-Hangman/src/controllers/__init__.py\n"
      ]
     },
     "metadata": {},
     "output_type": "display_data"
    },
    {
     "data": {
      "text/html": [
       "<pre style=\"white-space:pre;overflow-x:auto;line-height:normal;font-family:Menlo,'DejaVu Sans Mono',consolas,'Courier New',monospace\">Analyzing /home/s/Skola/exjobb/github_metric_extractor/out/repositories/TDD-Hangman/src/models/GameEngine.py\n",
       "</pre>\n"
      ],
      "text/plain": [
       "Analyzing /home/s/Skola/exjobb/github_metric_extractor/out/repositories/TDD-Hangman/src/models/GameEngine.py\n"
      ]
     },
     "metadata": {},
     "output_type": "display_data"
    },
    {
     "data": {
      "text/html": [
       "<pre style=\"white-space:pre;overflow-x:auto;line-height:normal;font-family:Menlo,'DejaVu Sans Mono',consolas,'Courier New',monospace\">Analyzing /home/s/Skola/exjobb/github_metric_extractor/out/repositories/TDD-Hangman/src/models/__init__.py\n",
       "</pre>\n"
      ],
      "text/plain": [
       "Analyzing /home/s/Skola/exjobb/github_metric_extractor/out/repositories/TDD-Hangman/src/models/__init__.py\n"
      ]
     },
     "metadata": {},
     "output_type": "display_data"
    },
    {
     "data": {
      "text/html": [
       "<pre style=\"white-space:pre;overflow-x:auto;line-height:normal;font-family:Menlo,'DejaVu Sans Mono',consolas,'Courier New',monospace\">Analyzing /home/s/Skola/exjobb/github_metric_extractor/out/repositories/TDD-Hangman/src/other/__init__.py\n",
       "</pre>\n"
      ],
      "text/plain": [
       "Analyzing /home/s/Skola/exjobb/github_metric_extractor/out/repositories/TDD-Hangman/src/other/__init__.py\n"
      ]
     },
     "metadata": {},
     "output_type": "display_data"
    },
    {
     "data": {
      "text/html": [
       "<pre style=\"white-space:pre;overflow-x:auto;line-height:normal;font-family:Menlo,'DejaVu Sans Mono',consolas,'Courier New',monospace\">Analyzing /home/s/Skola/exjobb/github_metric_extractor/out/repositories/TDD-Hangman/tests/test_view.py\n",
       "</pre>\n"
      ],
      "text/plain": [
       "Analyzing /home/s/Skola/exjobb/github_metric_extractor/out/repositories/TDD-Hangman/tests/test_view.py\n"
      ]
     },
     "metadata": {},
     "output_type": "display_data"
    },
    {
     "data": {
      "text/html": [
       "<pre style=\"white-space:pre;overflow-x:auto;line-height:normal;font-family:Menlo,'DejaVu Sans Mono',consolas,'Courier New',monospace\">Analyzing /home/s/Skola/exjobb/github_metric_extractor/out/repositories/TDD-Hangman/tests/test_hangman.py\n",
       "</pre>\n"
      ],
      "text/plain": [
       "Analyzing /home/s/Skola/exjobb/github_metric_extractor/out/repositories/TDD-Hangman/tests/test_hangman.py\n"
      ]
     },
     "metadata": {},
     "output_type": "display_data"
    },
    {
     "data": {
      "text/html": [
       "<pre style=\"white-space:pre;overflow-x:auto;line-height:normal;font-family:Menlo,'DejaVu Sans Mono',consolas,'Courier New',monospace\">Analyzing /home/s/Skola/exjobb/github_metric_extractor/out/repositories/TDD-Hangman/tests/test_controller.py\n",
       "</pre>\n"
      ],
      "text/plain": [
       "Analyzing /home/s/Skola/exjobb/github_metric_extractor/out/repositories/TDD-Hangman/tests/test_controller.py\n"
      ]
     },
     "metadata": {},
     "output_type": "display_data"
    },
    {
     "data": {
      "text/html": [
       "<pre style=\"white-space:pre;overflow-x:auto;line-height:normal;font-family:Menlo,'DejaVu Sans Mono',consolas,'Courier New',monospace\">Analyzing /home/s/Skola/exjobb/github_metric_extractor/out/repositories/TDD-Hangman/tests/test_model.py\n",
       "</pre>\n"
      ],
      "text/plain": [
       "Analyzing /home/s/Skola/exjobb/github_metric_extractor/out/repositories/TDD-Hangman/tests/test_model.py\n"
      ]
     },
     "metadata": {},
     "output_type": "display_data"
    },
    {
     "data": {
      "text/html": [
       "<pre style=\"white-space:pre;overflow-x:auto;line-height:normal;font-family:Menlo,'DejaVu Sans Mono',consolas,'Courier New',monospace\">Analyzing /home/s/Skola/exjobb/github_metric_extractor/out/repositories/TDD-Hangman/tests/__init__.py\n",
       "</pre>\n"
      ],
      "text/plain": [
       "Analyzing /home/s/Skola/exjobb/github_metric_extractor/out/repositories/TDD-Hangman/tests/__init__.py\n"
      ]
     },
     "metadata": {},
     "output_type": "display_data"
    },
    {
     "data": {
      "text/html": [
       "<pre style=\"white-space:pre;overflow-x:auto;line-height:normal;font-family:Menlo,'DejaVu Sans Mono',consolas,'Courier New',monospace\">Analyzing /home/s/Skola/exjobb/github_metric_extractor/out/repositories/TDD-Hangman/src/hangman.py\n",
       "</pre>\n"
      ],
      "text/plain": [
       "Analyzing /home/s/Skola/exjobb/github_metric_extractor/out/repositories/TDD-Hangman/src/hangman.py\n"
      ]
     },
     "metadata": {},
     "output_type": "display_data"
    },
    {
     "data": {
      "text/html": [
       "<pre style=\"white-space:pre;overflow-x:auto;line-height:normal;font-family:Menlo,'DejaVu Sans Mono',consolas,'Courier New',monospace\">Analyzing /home/s/Skola/exjobb/github_metric_extractor/out/repositories/TDD-Hangman/src/views/GUI.py\n",
       "</pre>\n"
      ],
      "text/plain": [
       "Analyzing /home/s/Skola/exjobb/github_metric_extractor/out/repositories/TDD-Hangman/src/views/GUI.py\n"
      ]
     },
     "metadata": {},
     "output_type": "display_data"
    },
    {
     "data": {
      "text/html": [
       "<pre style=\"white-space:pre;overflow-x:auto;line-height:normal;font-family:Menlo,'DejaVu Sans Mono',consolas,'Courier New',monospace\">Analyzing /home/s/Skola/exjobb/github_metric_extractor/out/repositories/TDD-Hangman/src/views/__init__.py\n",
       "</pre>\n"
      ],
      "text/plain": [
       "Analyzing /home/s/Skola/exjobb/github_metric_extractor/out/repositories/TDD-Hangman/src/views/__init__.py\n"
      ]
     },
     "metadata": {},
     "output_type": "display_data"
    },
    {
     "data": {
      "text/html": [
       "<pre style=\"white-space:pre;overflow-x:auto;line-height:normal;font-family:Menlo,'DejaVu Sans Mono',consolas,'Courier New',monospace\">Analyzing /home/s/Skola/exjobb/github_metric_extractor/out/repositories/TDD-Hangman/src/controllers/Controller.py\n",
       "</pre>\n"
      ],
      "text/plain": [
       "Analyzing /home/s/Skola/exjobb/github_metric_extractor/out/repositories/TDD-Hangman/src/controllers/Controller.py\n"
      ]
     },
     "metadata": {},
     "output_type": "display_data"
    },
    {
     "data": {
      "text/html": [
       "<pre style=\"white-space:pre;overflow-x:auto;line-height:normal;font-family:Menlo,'DejaVu Sans Mono',consolas,'Courier New',monospace\">Analyzing /home/s/Skola/exjobb/github_metric_extractor/out/repositories/TDD-Hangman/src/controllers/__init__.py\n",
       "</pre>\n"
      ],
      "text/plain": [
       "Analyzing /home/s/Skola/exjobb/github_metric_extractor/out/repositories/TDD-Hangman/src/controllers/__init__.py\n"
      ]
     },
     "metadata": {},
     "output_type": "display_data"
    },
    {
     "data": {
      "text/html": [
       "<pre style=\"white-space:pre;overflow-x:auto;line-height:normal;font-family:Menlo,'DejaVu Sans Mono',consolas,'Courier New',monospace\">Analyzing /home/s/Skola/exjobb/github_metric_extractor/out/repositories/TDD-Hangman/src/models/GameEngine.py\n",
       "</pre>\n"
      ],
      "text/plain": [
       "Analyzing /home/s/Skola/exjobb/github_metric_extractor/out/repositories/TDD-Hangman/src/models/GameEngine.py\n"
      ]
     },
     "metadata": {},
     "output_type": "display_data"
    },
    {
     "data": {
      "text/html": [
       "<pre style=\"white-space:pre;overflow-x:auto;line-height:normal;font-family:Menlo,'DejaVu Sans Mono',consolas,'Courier New',monospace\">Analyzing /home/s/Skola/exjobb/github_metric_extractor/out/repositories/TDD-Hangman/src/models/__init__.py\n",
       "</pre>\n"
      ],
      "text/plain": [
       "Analyzing /home/s/Skola/exjobb/github_metric_extractor/out/repositories/TDD-Hangman/src/models/__init__.py\n"
      ]
     },
     "metadata": {},
     "output_type": "display_data"
    },
    {
     "data": {
      "text/html": [
       "<pre style=\"white-space:pre;overflow-x:auto;line-height:normal;font-family:Menlo,'DejaVu Sans Mono',consolas,'Courier New',monospace\">Analyzing /home/s/Skola/exjobb/github_metric_extractor/out/repositories/TDD-Hangman/src/other/__init__.py\n",
       "</pre>\n"
      ],
      "text/plain": [
       "Analyzing /home/s/Skola/exjobb/github_metric_extractor/out/repositories/TDD-Hangman/src/other/__init__.py\n"
      ]
     },
     "metadata": {},
     "output_type": "display_data"
    },
    {
     "data": {
      "text/html": [
       "<pre style=\"white-space:pre;overflow-x:auto;line-height:normal;font-family:Menlo,'DejaVu Sans Mono',consolas,'Courier New',monospace\">Analyzing /home/s/Skola/exjobb/github_metric_extractor/out/repositories/TDD-Hangman/tests/test_view.py\n",
       "</pre>\n"
      ],
      "text/plain": [
       "Analyzing /home/s/Skola/exjobb/github_metric_extractor/out/repositories/TDD-Hangman/tests/test_view.py\n"
      ]
     },
     "metadata": {},
     "output_type": "display_data"
    },
    {
     "data": {
      "text/html": [
       "<pre style=\"white-space:pre;overflow-x:auto;line-height:normal;font-family:Menlo,'DejaVu Sans Mono',consolas,'Courier New',monospace\">Analyzing /home/s/Skola/exjobb/github_metric_extractor/out/repositories/TDD-Hangman/tests/test_hangman.py\n",
       "</pre>\n"
      ],
      "text/plain": [
       "Analyzing /home/s/Skola/exjobb/github_metric_extractor/out/repositories/TDD-Hangman/tests/test_hangman.py\n"
      ]
     },
     "metadata": {},
     "output_type": "display_data"
    },
    {
     "data": {
      "text/html": [
       "<pre style=\"white-space:pre;overflow-x:auto;line-height:normal;font-family:Menlo,'DejaVu Sans Mono',consolas,'Courier New',monospace\">Analyzing /home/s/Skola/exjobb/github_metric_extractor/out/repositories/TDD-Hangman/tests/test_controller.py\n",
       "</pre>\n"
      ],
      "text/plain": [
       "Analyzing /home/s/Skola/exjobb/github_metric_extractor/out/repositories/TDD-Hangman/tests/test_controller.py\n"
      ]
     },
     "metadata": {},
     "output_type": "display_data"
    },
    {
     "data": {
      "text/html": [
       "<pre style=\"white-space:pre;overflow-x:auto;line-height:normal;font-family:Menlo,'DejaVu Sans Mono',consolas,'Courier New',monospace\">Analyzing /home/s/Skola/exjobb/github_metric_extractor/out/repositories/TDD-Hangman/tests/test_model.py\n",
       "</pre>\n"
      ],
      "text/plain": [
       "Analyzing /home/s/Skola/exjobb/github_metric_extractor/out/repositories/TDD-Hangman/tests/test_model.py\n"
      ]
     },
     "metadata": {},
     "output_type": "display_data"
    },
    {
     "data": {
      "text/html": [
       "<pre style=\"white-space:pre;overflow-x:auto;line-height:normal;font-family:Menlo,'DejaVu Sans Mono',consolas,'Courier New',monospace\">Analyzing /home/s/Skola/exjobb/github_metric_extractor/out/repositories/TDD-Hangman/tests/__init__.py\n",
       "</pre>\n"
      ],
      "text/plain": [
       "Analyzing /home/s/Skola/exjobb/github_metric_extractor/out/repositories/TDD-Hangman/tests/__init__.py\n"
      ]
     },
     "metadata": {},
     "output_type": "display_data"
    },
    {
     "data": {
      "text/html": [
       "<pre style=\"white-space:pre;overflow-x:auto;line-height:normal;font-family:Menlo,'DejaVu Sans Mono',consolas,'Courier New',monospace\">Analyzing /home/s/Skola/exjobb/github_metric_extractor/out/repositories/TDD-Hangman/src/hangman.py\n",
       "</pre>\n"
      ],
      "text/plain": [
       "Analyzing /home/s/Skola/exjobb/github_metric_extractor/out/repositories/TDD-Hangman/src/hangman.py\n"
      ]
     },
     "metadata": {},
     "output_type": "display_data"
    },
    {
     "data": {
      "text/html": [
       "<pre style=\"white-space:pre;overflow-x:auto;line-height:normal;font-family:Menlo,'DejaVu Sans Mono',consolas,'Courier New',monospace\">Analyzing /home/s/Skola/exjobb/github_metric_extractor/out/repositories/TDD-Hangman/src/views/GUI.py\n",
       "</pre>\n"
      ],
      "text/plain": [
       "Analyzing /home/s/Skola/exjobb/github_metric_extractor/out/repositories/TDD-Hangman/src/views/GUI.py\n"
      ]
     },
     "metadata": {},
     "output_type": "display_data"
    },
    {
     "data": {
      "text/html": [
       "<pre style=\"white-space:pre;overflow-x:auto;line-height:normal;font-family:Menlo,'DejaVu Sans Mono',consolas,'Courier New',monospace\">Analyzing /home/s/Skola/exjobb/github_metric_extractor/out/repositories/TDD-Hangman/src/views/__init__.py\n",
       "</pre>\n"
      ],
      "text/plain": [
       "Analyzing /home/s/Skola/exjobb/github_metric_extractor/out/repositories/TDD-Hangman/src/views/__init__.py\n"
      ]
     },
     "metadata": {},
     "output_type": "display_data"
    },
    {
     "data": {
      "text/html": [
       "<pre style=\"white-space:pre;overflow-x:auto;line-height:normal;font-family:Menlo,'DejaVu Sans Mono',consolas,'Courier New',monospace\">Analyzing /home/s/Skola/exjobb/github_metric_extractor/out/repositories/TDD-Hangman/src/controllers/Controller.py\n",
       "</pre>\n"
      ],
      "text/plain": [
       "Analyzing /home/s/Skola/exjobb/github_metric_extractor/out/repositories/TDD-Hangman/src/controllers/Controller.py\n"
      ]
     },
     "metadata": {},
     "output_type": "display_data"
    },
    {
     "data": {
      "text/html": [
       "<pre style=\"white-space:pre;overflow-x:auto;line-height:normal;font-family:Menlo,'DejaVu Sans Mono',consolas,'Courier New',monospace\">Analyzing /home/s/Skola/exjobb/github_metric_extractor/out/repositories/TDD-Hangman/src/controllers/__init__.py\n",
       "</pre>\n"
      ],
      "text/plain": [
       "Analyzing /home/s/Skola/exjobb/github_metric_extractor/out/repositories/TDD-Hangman/src/controllers/__init__.py\n"
      ]
     },
     "metadata": {},
     "output_type": "display_data"
    },
    {
     "data": {
      "text/html": [
       "<pre style=\"white-space:pre;overflow-x:auto;line-height:normal;font-family:Menlo,'DejaVu Sans Mono',consolas,'Courier New',monospace\">Analyzing /home/s/Skola/exjobb/github_metric_extractor/out/repositories/TDD-Hangman/src/models/GameEngine.py\n",
       "</pre>\n"
      ],
      "text/plain": [
       "Analyzing /home/s/Skola/exjobb/github_metric_extractor/out/repositories/TDD-Hangman/src/models/GameEngine.py\n"
      ]
     },
     "metadata": {},
     "output_type": "display_data"
    },
    {
     "data": {
      "text/html": [
       "<pre style=\"white-space:pre;overflow-x:auto;line-height:normal;font-family:Menlo,'DejaVu Sans Mono',consolas,'Courier New',monospace\">Analyzing /home/s/Skola/exjobb/github_metric_extractor/out/repositories/TDD-Hangman/src/models/__init__.py\n",
       "</pre>\n"
      ],
      "text/plain": [
       "Analyzing /home/s/Skola/exjobb/github_metric_extractor/out/repositories/TDD-Hangman/src/models/__init__.py\n"
      ]
     },
     "metadata": {},
     "output_type": "display_data"
    },
    {
     "data": {
      "text/html": [
       "<pre style=\"white-space:pre;overflow-x:auto;line-height:normal;font-family:Menlo,'DejaVu Sans Mono',consolas,'Courier New',monospace\">Analyzing /home/s/Skola/exjobb/github_metric_extractor/out/repositories/TDD-Hangman/src/other/__init__.py\n",
       "</pre>\n"
      ],
      "text/plain": [
       "Analyzing /home/s/Skola/exjobb/github_metric_extractor/out/repositories/TDD-Hangman/src/other/__init__.py\n"
      ]
     },
     "metadata": {},
     "output_type": "display_data"
    },
    {
     "data": {
      "text/html": [
       "<pre style=\"white-space:pre;overflow-x:auto;line-height:normal;font-family:Menlo,'DejaVu Sans Mono',consolas,'Courier New',monospace\">Analyzing /home/s/Skola/exjobb/github_metric_extractor/out/repositories/TDD-Hangman/tests/test_view.py\n",
       "</pre>\n"
      ],
      "text/plain": [
       "Analyzing /home/s/Skola/exjobb/github_metric_extractor/out/repositories/TDD-Hangman/tests/test_view.py\n"
      ]
     },
     "metadata": {},
     "output_type": "display_data"
    },
    {
     "data": {
      "text/html": [
       "<pre style=\"white-space:pre;overflow-x:auto;line-height:normal;font-family:Menlo,'DejaVu Sans Mono',consolas,'Courier New',monospace\">Analyzing /home/s/Skola/exjobb/github_metric_extractor/out/repositories/TDD-Hangman/tests/test_hangman.py\n",
       "</pre>\n"
      ],
      "text/plain": [
       "Analyzing /home/s/Skola/exjobb/github_metric_extractor/out/repositories/TDD-Hangman/tests/test_hangman.py\n"
      ]
     },
     "metadata": {},
     "output_type": "display_data"
    },
    {
     "data": {
      "text/html": [
       "<pre style=\"white-space:pre;overflow-x:auto;line-height:normal;font-family:Menlo,'DejaVu Sans Mono',consolas,'Courier New',monospace\">Analyzing /home/s/Skola/exjobb/github_metric_extractor/out/repositories/TDD-Hangman/tests/test_controller.py\n",
       "</pre>\n"
      ],
      "text/plain": [
       "Analyzing /home/s/Skola/exjobb/github_metric_extractor/out/repositories/TDD-Hangman/tests/test_controller.py\n"
      ]
     },
     "metadata": {},
     "output_type": "display_data"
    },
    {
     "data": {
      "text/html": [
       "<pre style=\"white-space:pre;overflow-x:auto;line-height:normal;font-family:Menlo,'DejaVu Sans Mono',consolas,'Courier New',monospace\">Analyzing /home/s/Skola/exjobb/github_metric_extractor/out/repositories/TDD-Hangman/tests/test_model.py\n",
       "</pre>\n"
      ],
      "text/plain": [
       "Analyzing /home/s/Skola/exjobb/github_metric_extractor/out/repositories/TDD-Hangman/tests/test_model.py\n"
      ]
     },
     "metadata": {},
     "output_type": "display_data"
    },
    {
     "data": {
      "text/html": [
       "<pre style=\"white-space:pre;overflow-x:auto;line-height:normal;font-family:Menlo,'DejaVu Sans Mono',consolas,'Courier New',monospace\">Analyzing /home/s/Skola/exjobb/github_metric_extractor/out/repositories/TDD-Hangman/tests/__init__.py\n",
       "</pre>\n"
      ],
      "text/plain": [
       "Analyzing /home/s/Skola/exjobb/github_metric_extractor/out/repositories/TDD-Hangman/tests/__init__.py\n"
      ]
     },
     "metadata": {},
     "output_type": "display_data"
    },
    {
     "data": {
      "text/html": [
       "<pre style=\"white-space:pre;overflow-x:auto;line-height:normal;font-family:Menlo,'DejaVu Sans Mono',consolas,'Courier New',monospace\">Analyzing /home/s/Skola/exjobb/github_metric_extractor/out/repositories/TDD-Hangman/src/hangman.py\n",
       "</pre>\n"
      ],
      "text/plain": [
       "Analyzing /home/s/Skola/exjobb/github_metric_extractor/out/repositories/TDD-Hangman/src/hangman.py\n"
      ]
     },
     "metadata": {},
     "output_type": "display_data"
    },
    {
     "data": {
      "text/html": [
       "<pre style=\"white-space:pre;overflow-x:auto;line-height:normal;font-family:Menlo,'DejaVu Sans Mono',consolas,'Courier New',monospace\">Analyzing /home/s/Skola/exjobb/github_metric_extractor/out/repositories/TDD-Hangman/src/views/GUI.py\n",
       "</pre>\n"
      ],
      "text/plain": [
       "Analyzing /home/s/Skola/exjobb/github_metric_extractor/out/repositories/TDD-Hangman/src/views/GUI.py\n"
      ]
     },
     "metadata": {},
     "output_type": "display_data"
    },
    {
     "data": {
      "text/html": [
       "<pre style=\"white-space:pre;overflow-x:auto;line-height:normal;font-family:Menlo,'DejaVu Sans Mono',consolas,'Courier New',monospace\">Analyzing /home/s/Skola/exjobb/github_metric_extractor/out/repositories/TDD-Hangman/src/views/__init__.py\n",
       "</pre>\n"
      ],
      "text/plain": [
       "Analyzing /home/s/Skola/exjobb/github_metric_extractor/out/repositories/TDD-Hangman/src/views/__init__.py\n"
      ]
     },
     "metadata": {},
     "output_type": "display_data"
    },
    {
     "data": {
      "text/html": [
       "<pre style=\"white-space:pre;overflow-x:auto;line-height:normal;font-family:Menlo,'DejaVu Sans Mono',consolas,'Courier New',monospace\">Analyzing /home/s/Skola/exjobb/github_metric_extractor/out/repositories/TDD-Hangman/src/controllers/Controller.py\n",
       "</pre>\n"
      ],
      "text/plain": [
       "Analyzing /home/s/Skola/exjobb/github_metric_extractor/out/repositories/TDD-Hangman/src/controllers/Controller.py\n"
      ]
     },
     "metadata": {},
     "output_type": "display_data"
    },
    {
     "data": {
      "text/html": [
       "<pre style=\"white-space:pre;overflow-x:auto;line-height:normal;font-family:Menlo,'DejaVu Sans Mono',consolas,'Courier New',monospace\">Analyzing /home/s/Skola/exjobb/github_metric_extractor/out/repositories/TDD-Hangman/src/controllers/__init__.py\n",
       "</pre>\n"
      ],
      "text/plain": [
       "Analyzing /home/s/Skola/exjobb/github_metric_extractor/out/repositories/TDD-Hangman/src/controllers/__init__.py\n"
      ]
     },
     "metadata": {},
     "output_type": "display_data"
    },
    {
     "data": {
      "text/html": [
       "<pre style=\"white-space:pre;overflow-x:auto;line-height:normal;font-family:Menlo,'DejaVu Sans Mono',consolas,'Courier New',monospace\">Analyzing /home/s/Skola/exjobb/github_metric_extractor/out/repositories/TDD-Hangman/src/models/GameEngine.py\n",
       "</pre>\n"
      ],
      "text/plain": [
       "Analyzing /home/s/Skola/exjobb/github_metric_extractor/out/repositories/TDD-Hangman/src/models/GameEngine.py\n"
      ]
     },
     "metadata": {},
     "output_type": "display_data"
    },
    {
     "data": {
      "text/html": [
       "<pre style=\"white-space:pre;overflow-x:auto;line-height:normal;font-family:Menlo,'DejaVu Sans Mono',consolas,'Courier New',monospace\">Analyzing /home/s/Skola/exjobb/github_metric_extractor/out/repositories/TDD-Hangman/src/models/__init__.py\n",
       "</pre>\n"
      ],
      "text/plain": [
       "Analyzing /home/s/Skola/exjobb/github_metric_extractor/out/repositories/TDD-Hangman/src/models/__init__.py\n"
      ]
     },
     "metadata": {},
     "output_type": "display_data"
    },
    {
     "data": {
      "text/html": [
       "<pre style=\"white-space:pre;overflow-x:auto;line-height:normal;font-family:Menlo,'DejaVu Sans Mono',consolas,'Courier New',monospace\">Analyzing /home/s/Skola/exjobb/github_metric_extractor/out/repositories/TDD-Hangman/src/other/__init__.py\n",
       "</pre>\n"
      ],
      "text/plain": [
       "Analyzing /home/s/Skola/exjobb/github_metric_extractor/out/repositories/TDD-Hangman/src/other/__init__.py\n"
      ]
     },
     "metadata": {},
     "output_type": "display_data"
    },
    {
     "data": {
      "text/html": [
       "<pre style=\"white-space:pre;overflow-x:auto;line-height:normal;font-family:Menlo,'DejaVu Sans Mono',consolas,'Courier New',monospace\">Analyzing /home/s/Skola/exjobb/github_metric_extractor/out/repositories/TDD-Hangman/tests/test_view.py\n",
       "</pre>\n"
      ],
      "text/plain": [
       "Analyzing /home/s/Skola/exjobb/github_metric_extractor/out/repositories/TDD-Hangman/tests/test_view.py\n"
      ]
     },
     "metadata": {},
     "output_type": "display_data"
    },
    {
     "data": {
      "text/html": [
       "<pre style=\"white-space:pre;overflow-x:auto;line-height:normal;font-family:Menlo,'DejaVu Sans Mono',consolas,'Courier New',monospace\">Analyzing /home/s/Skola/exjobb/github_metric_extractor/out/repositories/TDD-Hangman/tests/test_hangman.py\n",
       "</pre>\n"
      ],
      "text/plain": [
       "Analyzing /home/s/Skola/exjobb/github_metric_extractor/out/repositories/TDD-Hangman/tests/test_hangman.py\n"
      ]
     },
     "metadata": {},
     "output_type": "display_data"
    },
    {
     "data": {
      "text/html": [
       "<pre style=\"white-space:pre;overflow-x:auto;line-height:normal;font-family:Menlo,'DejaVu Sans Mono',consolas,'Courier New',monospace\">Analyzing /home/s/Skola/exjobb/github_metric_extractor/out/repositories/TDD-Hangman/tests/test_controller.py\n",
       "</pre>\n"
      ],
      "text/plain": [
       "Analyzing /home/s/Skola/exjobb/github_metric_extractor/out/repositories/TDD-Hangman/tests/test_controller.py\n"
      ]
     },
     "metadata": {},
     "output_type": "display_data"
    },
    {
     "data": {
      "text/html": [
       "<pre style=\"white-space:pre;overflow-x:auto;line-height:normal;font-family:Menlo,'DejaVu Sans Mono',consolas,'Courier New',monospace\">Analyzing /home/s/Skola/exjobb/github_metric_extractor/out/repositories/TDD-Hangman/tests/test_model.py\n",
       "</pre>\n"
      ],
      "text/plain": [
       "Analyzing /home/s/Skola/exjobb/github_metric_extractor/out/repositories/TDD-Hangman/tests/test_model.py\n"
      ]
     },
     "metadata": {},
     "output_type": "display_data"
    },
    {
     "data": {
      "text/html": [
       "<pre style=\"white-space:pre;overflow-x:auto;line-height:normal;font-family:Menlo,'DejaVu Sans Mono',consolas,'Courier New',monospace\">Analyzing /home/s/Skola/exjobb/github_metric_extractor/out/repositories/TDD-Hangman/tests/__init__.py\n",
       "</pre>\n"
      ],
      "text/plain": [
       "Analyzing /home/s/Skola/exjobb/github_metric_extractor/out/repositories/TDD-Hangman/tests/__init__.py\n"
      ]
     },
     "metadata": {},
     "output_type": "display_data"
    },
    {
     "data": {
      "text/html": [
       "<pre style=\"white-space:pre;overflow-x:auto;line-height:normal;font-family:Menlo,'DejaVu Sans Mono',consolas,'Courier New',monospace\">Analyzing /home/s/Skola/exjobb/github_metric_extractor/out/repositories/TDD-Hangman/src/hangman.py\n",
       "</pre>\n"
      ],
      "text/plain": [
       "Analyzing /home/s/Skola/exjobb/github_metric_extractor/out/repositories/TDD-Hangman/src/hangman.py\n"
      ]
     },
     "metadata": {},
     "output_type": "display_data"
    },
    {
     "data": {
      "text/html": [
       "<pre style=\"white-space:pre;overflow-x:auto;line-height:normal;font-family:Menlo,'DejaVu Sans Mono',consolas,'Courier New',monospace\">Analyzing /home/s/Skola/exjobb/github_metric_extractor/out/repositories/TDD-Hangman/src/views/GUI.py\n",
       "</pre>\n"
      ],
      "text/plain": [
       "Analyzing /home/s/Skola/exjobb/github_metric_extractor/out/repositories/TDD-Hangman/src/views/GUI.py\n"
      ]
     },
     "metadata": {},
     "output_type": "display_data"
    },
    {
     "data": {
      "text/html": [
       "<pre style=\"white-space:pre;overflow-x:auto;line-height:normal;font-family:Menlo,'DejaVu Sans Mono',consolas,'Courier New',monospace\">Analyzing /home/s/Skola/exjobb/github_metric_extractor/out/repositories/TDD-Hangman/src/views/__init__.py\n",
       "</pre>\n"
      ],
      "text/plain": [
       "Analyzing /home/s/Skola/exjobb/github_metric_extractor/out/repositories/TDD-Hangman/src/views/__init__.py\n"
      ]
     },
     "metadata": {},
     "output_type": "display_data"
    },
    {
     "data": {
      "text/html": [
       "<pre style=\"white-space:pre;overflow-x:auto;line-height:normal;font-family:Menlo,'DejaVu Sans Mono',consolas,'Courier New',monospace\">Analyzing /home/s/Skola/exjobb/github_metric_extractor/out/repositories/TDD-Hangman/src/controllers/Controller.py\n",
       "</pre>\n"
      ],
      "text/plain": [
       "Analyzing /home/s/Skola/exjobb/github_metric_extractor/out/repositories/TDD-Hangman/src/controllers/Controller.py\n"
      ]
     },
     "metadata": {},
     "output_type": "display_data"
    },
    {
     "data": {
      "text/html": [
       "<pre style=\"white-space:pre;overflow-x:auto;line-height:normal;font-family:Menlo,'DejaVu Sans Mono',consolas,'Courier New',monospace\">Analyzing /home/s/Skola/exjobb/github_metric_extractor/out/repositories/TDD-Hangman/src/controllers/__init__.py\n",
       "</pre>\n"
      ],
      "text/plain": [
       "Analyzing /home/s/Skola/exjobb/github_metric_extractor/out/repositories/TDD-Hangman/src/controllers/__init__.py\n"
      ]
     },
     "metadata": {},
     "output_type": "display_data"
    },
    {
     "data": {
      "text/html": [
       "<pre style=\"white-space:pre;overflow-x:auto;line-height:normal;font-family:Menlo,'DejaVu Sans Mono',consolas,'Courier New',monospace\">Analyzing /home/s/Skola/exjobb/github_metric_extractor/out/repositories/TDD-Hangman/src/models/GameEngine.py\n",
       "</pre>\n"
      ],
      "text/plain": [
       "Analyzing /home/s/Skola/exjobb/github_metric_extractor/out/repositories/TDD-Hangman/src/models/GameEngine.py\n"
      ]
     },
     "metadata": {},
     "output_type": "display_data"
    },
    {
     "data": {
      "text/html": [
       "<pre style=\"white-space:pre;overflow-x:auto;line-height:normal;font-family:Menlo,'DejaVu Sans Mono',consolas,'Courier New',monospace\">Analyzing /home/s/Skola/exjobb/github_metric_extractor/out/repositories/TDD-Hangman/src/models/__init__.py\n",
       "</pre>\n"
      ],
      "text/plain": [
       "Analyzing /home/s/Skola/exjobb/github_metric_extractor/out/repositories/TDD-Hangman/src/models/__init__.py\n"
      ]
     },
     "metadata": {},
     "output_type": "display_data"
    },
    {
     "data": {
      "text/html": [
       "<pre style=\"white-space:pre;overflow-x:auto;line-height:normal;font-family:Menlo,'DejaVu Sans Mono',consolas,'Courier New',monospace\">Analyzing /home/s/Skola/exjobb/github_metric_extractor/out/repositories/TDD-Hangman/src/other/__init__.py\n",
       "</pre>\n"
      ],
      "text/plain": [
       "Analyzing /home/s/Skola/exjobb/github_metric_extractor/out/repositories/TDD-Hangman/src/other/__init__.py\n"
      ]
     },
     "metadata": {},
     "output_type": "display_data"
    },
    {
     "data": {
      "text/html": [
       "<pre style=\"white-space:pre;overflow-x:auto;line-height:normal;font-family:Menlo,'DejaVu Sans Mono',consolas,'Courier New',monospace\">Analyzing /home/s/Skola/exjobb/github_metric_extractor/out/repositories/TDD-Hangman/tests/test_view.py\n",
       "</pre>\n"
      ],
      "text/plain": [
       "Analyzing /home/s/Skola/exjobb/github_metric_extractor/out/repositories/TDD-Hangman/tests/test_view.py\n"
      ]
     },
     "metadata": {},
     "output_type": "display_data"
    },
    {
     "data": {
      "text/html": [
       "<pre style=\"white-space:pre;overflow-x:auto;line-height:normal;font-family:Menlo,'DejaVu Sans Mono',consolas,'Courier New',monospace\">Analyzing /home/s/Skola/exjobb/github_metric_extractor/out/repositories/TDD-Hangman/tests/test_hangman.py\n",
       "</pre>\n"
      ],
      "text/plain": [
       "Analyzing /home/s/Skola/exjobb/github_metric_extractor/out/repositories/TDD-Hangman/tests/test_hangman.py\n"
      ]
     },
     "metadata": {},
     "output_type": "display_data"
    },
    {
     "data": {
      "text/html": [
       "<pre style=\"white-space:pre;overflow-x:auto;line-height:normal;font-family:Menlo,'DejaVu Sans Mono',consolas,'Courier New',monospace\">Analyzing /home/s/Skola/exjobb/github_metric_extractor/out/repositories/TDD-Hangman/tests/test_controller.py\n",
       "</pre>\n"
      ],
      "text/plain": [
       "Analyzing /home/s/Skola/exjobb/github_metric_extractor/out/repositories/TDD-Hangman/tests/test_controller.py\n"
      ]
     },
     "metadata": {},
     "output_type": "display_data"
    },
    {
     "data": {
      "text/html": [
       "<pre style=\"white-space:pre;overflow-x:auto;line-height:normal;font-family:Menlo,'DejaVu Sans Mono',consolas,'Courier New',monospace\">Analyzing /home/s/Skola/exjobb/github_metric_extractor/out/repositories/TDD-Hangman/tests/test_model.py\n",
       "</pre>\n"
      ],
      "text/plain": [
       "Analyzing /home/s/Skola/exjobb/github_metric_extractor/out/repositories/TDD-Hangman/tests/test_model.py\n"
      ]
     },
     "metadata": {},
     "output_type": "display_data"
    },
    {
     "data": {
      "text/html": [
       "<pre style=\"white-space:pre;overflow-x:auto;line-height:normal;font-family:Menlo,'DejaVu Sans Mono',consolas,'Courier New',monospace\">Analyzing /home/s/Skola/exjobb/github_metric_extractor/out/repositories/TDD-Hangman/tests/__init__.py\n",
       "</pre>\n"
      ],
      "text/plain": [
       "Analyzing /home/s/Skola/exjobb/github_metric_extractor/out/repositories/TDD-Hangman/tests/__init__.py\n"
      ]
     },
     "metadata": {},
     "output_type": "display_data"
    },
    {
     "data": {
      "text/html": [
       "<pre style=\"white-space:pre;overflow-x:auto;line-height:normal;font-family:Menlo,'DejaVu Sans Mono',consolas,'Courier New',monospace\">Analyzing /home/s/Skola/exjobb/github_metric_extractor/out/repositories/TDD-Hangman/src/hangman.py\n",
       "</pre>\n"
      ],
      "text/plain": [
       "Analyzing /home/s/Skola/exjobb/github_metric_extractor/out/repositories/TDD-Hangman/src/hangman.py\n"
      ]
     },
     "metadata": {},
     "output_type": "display_data"
    },
    {
     "data": {
      "text/html": [
       "<pre style=\"white-space:pre;overflow-x:auto;line-height:normal;font-family:Menlo,'DejaVu Sans Mono',consolas,'Courier New',monospace\">Analyzing /home/s/Skola/exjobb/github_metric_extractor/out/repositories/TDD-Hangman/src/views/GUI.py\n",
       "</pre>\n"
      ],
      "text/plain": [
       "Analyzing /home/s/Skola/exjobb/github_metric_extractor/out/repositories/TDD-Hangman/src/views/GUI.py\n"
      ]
     },
     "metadata": {},
     "output_type": "display_data"
    },
    {
     "data": {
      "text/html": [
       "<pre style=\"white-space:pre;overflow-x:auto;line-height:normal;font-family:Menlo,'DejaVu Sans Mono',consolas,'Courier New',monospace\">Analyzing /home/s/Skola/exjobb/github_metric_extractor/out/repositories/TDD-Hangman/src/views/__init__.py\n",
       "</pre>\n"
      ],
      "text/plain": [
       "Analyzing /home/s/Skola/exjobb/github_metric_extractor/out/repositories/TDD-Hangman/src/views/__init__.py\n"
      ]
     },
     "metadata": {},
     "output_type": "display_data"
    },
    {
     "data": {
      "text/html": [
       "<pre style=\"white-space:pre;overflow-x:auto;line-height:normal;font-family:Menlo,'DejaVu Sans Mono',consolas,'Courier New',monospace\">Analyzing /home/s/Skola/exjobb/github_metric_extractor/out/repositories/TDD-Hangman/src/controllers/Controller.py\n",
       "</pre>\n"
      ],
      "text/plain": [
       "Analyzing /home/s/Skola/exjobb/github_metric_extractor/out/repositories/TDD-Hangman/src/controllers/Controller.py\n"
      ]
     },
     "metadata": {},
     "output_type": "display_data"
    },
    {
     "data": {
      "text/html": [
       "<pre style=\"white-space:pre;overflow-x:auto;line-height:normal;font-family:Menlo,'DejaVu Sans Mono',consolas,'Courier New',monospace\">Analyzing /home/s/Skola/exjobb/github_metric_extractor/out/repositories/TDD-Hangman/src/controllers/__init__.py\n",
       "</pre>\n"
      ],
      "text/plain": [
       "Analyzing /home/s/Skola/exjobb/github_metric_extractor/out/repositories/TDD-Hangman/src/controllers/__init__.py\n"
      ]
     },
     "metadata": {},
     "output_type": "display_data"
    },
    {
     "data": {
      "text/html": [
       "<pre style=\"white-space:pre;overflow-x:auto;line-height:normal;font-family:Menlo,'DejaVu Sans Mono',consolas,'Courier New',monospace\">Analyzing /home/s/Skola/exjobb/github_metric_extractor/out/repositories/TDD-Hangman/src/models/GameEngine.py\n",
       "</pre>\n"
      ],
      "text/plain": [
       "Analyzing /home/s/Skola/exjobb/github_metric_extractor/out/repositories/TDD-Hangman/src/models/GameEngine.py\n"
      ]
     },
     "metadata": {},
     "output_type": "display_data"
    },
    {
     "data": {
      "text/html": [
       "<pre style=\"white-space:pre;overflow-x:auto;line-height:normal;font-family:Menlo,'DejaVu Sans Mono',consolas,'Courier New',monospace\">Analyzing /home/s/Skola/exjobb/github_metric_extractor/out/repositories/TDD-Hangman/src/models/__init__.py\n",
       "</pre>\n"
      ],
      "text/plain": [
       "Analyzing /home/s/Skola/exjobb/github_metric_extractor/out/repositories/TDD-Hangman/src/models/__init__.py\n"
      ]
     },
     "metadata": {},
     "output_type": "display_data"
    },
    {
     "data": {
      "text/html": [
       "<pre style=\"white-space:pre;overflow-x:auto;line-height:normal;font-family:Menlo,'DejaVu Sans Mono',consolas,'Courier New',monospace\">Analyzing /home/s/Skola/exjobb/github_metric_extractor/out/repositories/TDD-Hangman/src/other/__init__.py\n",
       "</pre>\n"
      ],
      "text/plain": [
       "Analyzing /home/s/Skola/exjobb/github_metric_extractor/out/repositories/TDD-Hangman/src/other/__init__.py\n"
      ]
     },
     "metadata": {},
     "output_type": "display_data"
    },
    {
     "data": {
      "text/html": [
       "<pre style=\"white-space:pre;overflow-x:auto;line-height:normal;font-family:Menlo,'DejaVu Sans Mono',consolas,'Courier New',monospace\">Analyzing /home/s/Skola/exjobb/github_metric_extractor/out/repositories/TDD-Hangman/tests/test_view.py\n",
       "</pre>\n"
      ],
      "text/plain": [
       "Analyzing /home/s/Skola/exjobb/github_metric_extractor/out/repositories/TDD-Hangman/tests/test_view.py\n"
      ]
     },
     "metadata": {},
     "output_type": "display_data"
    },
    {
     "data": {
      "text/html": [
       "<pre style=\"white-space:pre;overflow-x:auto;line-height:normal;font-family:Menlo,'DejaVu Sans Mono',consolas,'Courier New',monospace\">Analyzing /home/s/Skola/exjobb/github_metric_extractor/out/repositories/TDD-Hangman/tests/test_hangman.py\n",
       "</pre>\n"
      ],
      "text/plain": [
       "Analyzing /home/s/Skola/exjobb/github_metric_extractor/out/repositories/TDD-Hangman/tests/test_hangman.py\n"
      ]
     },
     "metadata": {},
     "output_type": "display_data"
    },
    {
     "data": {
      "text/html": [
       "<pre style=\"white-space:pre;overflow-x:auto;line-height:normal;font-family:Menlo,'DejaVu Sans Mono',consolas,'Courier New',monospace\">Analyzing /home/s/Skola/exjobb/github_metric_extractor/out/repositories/TDD-Hangman/tests/test_controller.py\n",
       "</pre>\n"
      ],
      "text/plain": [
       "Analyzing /home/s/Skola/exjobb/github_metric_extractor/out/repositories/TDD-Hangman/tests/test_controller.py\n"
      ]
     },
     "metadata": {},
     "output_type": "display_data"
    },
    {
     "data": {
      "text/html": [
       "<pre style=\"white-space:pre;overflow-x:auto;line-height:normal;font-family:Menlo,'DejaVu Sans Mono',consolas,'Courier New',monospace\">Analyzing /home/s/Skola/exjobb/github_metric_extractor/out/repositories/TDD-Hangman/tests/test_model.py\n",
       "</pre>\n"
      ],
      "text/plain": [
       "Analyzing /home/s/Skola/exjobb/github_metric_extractor/out/repositories/TDD-Hangman/tests/test_model.py\n"
      ]
     },
     "metadata": {},
     "output_type": "display_data"
    },
    {
     "data": {
      "text/html": [
       "<pre style=\"white-space:pre;overflow-x:auto;line-height:normal;font-family:Menlo,'DejaVu Sans Mono',consolas,'Courier New',monospace\">Analyzing /home/s/Skola/exjobb/github_metric_extractor/out/repositories/TDD-Hangman/tests/__init__.py\n",
       "</pre>\n"
      ],
      "text/plain": [
       "Analyzing /home/s/Skola/exjobb/github_metric_extractor/out/repositories/TDD-Hangman/tests/__init__.py\n"
      ]
     },
     "metadata": {},
     "output_type": "display_data"
    },
    {
     "data": {
      "text/html": [
       "<pre style=\"white-space:pre;overflow-x:auto;line-height:normal;font-family:Menlo,'DejaVu Sans Mono',consolas,'Courier New',monospace\">Analyzing /home/s/Skola/exjobb/github_metric_extractor/out/repositories/TDD-Hangman/src/hangman.py\n",
       "</pre>\n"
      ],
      "text/plain": [
       "Analyzing /home/s/Skola/exjobb/github_metric_extractor/out/repositories/TDD-Hangman/src/hangman.py\n"
      ]
     },
     "metadata": {},
     "output_type": "display_data"
    },
    {
     "data": {
      "text/html": [
       "<pre style=\"white-space:pre;overflow-x:auto;line-height:normal;font-family:Menlo,'DejaVu Sans Mono',consolas,'Courier New',monospace\">Analyzing /home/s/Skola/exjobb/github_metric_extractor/out/repositories/TDD-Hangman/src/views/GUI.py\n",
       "</pre>\n"
      ],
      "text/plain": [
       "Analyzing /home/s/Skola/exjobb/github_metric_extractor/out/repositories/TDD-Hangman/src/views/GUI.py\n"
      ]
     },
     "metadata": {},
     "output_type": "display_data"
    },
    {
     "data": {
      "text/html": [
       "<pre style=\"white-space:pre;overflow-x:auto;line-height:normal;font-family:Menlo,'DejaVu Sans Mono',consolas,'Courier New',monospace\">Analyzing /home/s/Skola/exjobb/github_metric_extractor/out/repositories/TDD-Hangman/src/views/__init__.py\n",
       "</pre>\n"
      ],
      "text/plain": [
       "Analyzing /home/s/Skola/exjobb/github_metric_extractor/out/repositories/TDD-Hangman/src/views/__init__.py\n"
      ]
     },
     "metadata": {},
     "output_type": "display_data"
    },
    {
     "data": {
      "text/html": [
       "<pre style=\"white-space:pre;overflow-x:auto;line-height:normal;font-family:Menlo,'DejaVu Sans Mono',consolas,'Courier New',monospace\">Analyzing /home/s/Skola/exjobb/github_metric_extractor/out/repositories/TDD-Hangman/src/controllers/Controller.py\n",
       "</pre>\n"
      ],
      "text/plain": [
       "Analyzing /home/s/Skola/exjobb/github_metric_extractor/out/repositories/TDD-Hangman/src/controllers/Controller.py\n"
      ]
     },
     "metadata": {},
     "output_type": "display_data"
    },
    {
     "data": {
      "text/html": [
       "<pre style=\"white-space:pre;overflow-x:auto;line-height:normal;font-family:Menlo,'DejaVu Sans Mono',consolas,'Courier New',monospace\">Analyzing /home/s/Skola/exjobb/github_metric_extractor/out/repositories/TDD-Hangman/src/controllers/__init__.py\n",
       "</pre>\n"
      ],
      "text/plain": [
       "Analyzing /home/s/Skola/exjobb/github_metric_extractor/out/repositories/TDD-Hangman/src/controllers/__init__.py\n"
      ]
     },
     "metadata": {},
     "output_type": "display_data"
    },
    {
     "data": {
      "text/html": [
       "<pre style=\"white-space:pre;overflow-x:auto;line-height:normal;font-family:Menlo,'DejaVu Sans Mono',consolas,'Courier New',monospace\">Analyzing /home/s/Skola/exjobb/github_metric_extractor/out/repositories/TDD-Hangman/src/models/GameEngine.py\n",
       "</pre>\n"
      ],
      "text/plain": [
       "Analyzing /home/s/Skola/exjobb/github_metric_extractor/out/repositories/TDD-Hangman/src/models/GameEngine.py\n"
      ]
     },
     "metadata": {},
     "output_type": "display_data"
    },
    {
     "data": {
      "text/html": [
       "<pre style=\"white-space:pre;overflow-x:auto;line-height:normal;font-family:Menlo,'DejaVu Sans Mono',consolas,'Courier New',monospace\">Analyzing /home/s/Skola/exjobb/github_metric_extractor/out/repositories/TDD-Hangman/src/models/__init__.py\n",
       "</pre>\n"
      ],
      "text/plain": [
       "Analyzing /home/s/Skola/exjobb/github_metric_extractor/out/repositories/TDD-Hangman/src/models/__init__.py\n"
      ]
     },
     "metadata": {},
     "output_type": "display_data"
    },
    {
     "data": {
      "text/html": [
       "<pre style=\"white-space:pre;overflow-x:auto;line-height:normal;font-family:Menlo,'DejaVu Sans Mono',consolas,'Courier New',monospace\">Analyzing /home/s/Skola/exjobb/github_metric_extractor/out/repositories/TDD-Hangman/src/other/__init__.py\n",
       "</pre>\n"
      ],
      "text/plain": [
       "Analyzing /home/s/Skola/exjobb/github_metric_extractor/out/repositories/TDD-Hangman/src/other/__init__.py\n"
      ]
     },
     "metadata": {},
     "output_type": "display_data"
    },
    {
     "data": {
      "text/html": [
       "<pre style=\"white-space:pre;overflow-x:auto;line-height:normal;font-family:Menlo,'DejaVu Sans Mono',consolas,'Courier New',monospace\">Analyzing /home/s/Skola/exjobb/github_metric_extractor/out/repositories/TDD-Hangman/tests/test_view.py\n",
       "</pre>\n"
      ],
      "text/plain": [
       "Analyzing /home/s/Skola/exjobb/github_metric_extractor/out/repositories/TDD-Hangman/tests/test_view.py\n"
      ]
     },
     "metadata": {},
     "output_type": "display_data"
    },
    {
     "data": {
      "text/html": [
       "<pre style=\"white-space:pre;overflow-x:auto;line-height:normal;font-family:Menlo,'DejaVu Sans Mono',consolas,'Courier New',monospace\">Analyzing /home/s/Skola/exjobb/github_metric_extractor/out/repositories/TDD-Hangman/tests/test_hangman.py\n",
       "</pre>\n"
      ],
      "text/plain": [
       "Analyzing /home/s/Skola/exjobb/github_metric_extractor/out/repositories/TDD-Hangman/tests/test_hangman.py\n"
      ]
     },
     "metadata": {},
     "output_type": "display_data"
    },
    {
     "data": {
      "text/html": [
       "<pre style=\"white-space:pre;overflow-x:auto;line-height:normal;font-family:Menlo,'DejaVu Sans Mono',consolas,'Courier New',monospace\">Analyzing /home/s/Skola/exjobb/github_metric_extractor/out/repositories/TDD-Hangman/tests/test_controller.py\n",
       "</pre>\n"
      ],
      "text/plain": [
       "Analyzing /home/s/Skola/exjobb/github_metric_extractor/out/repositories/TDD-Hangman/tests/test_controller.py\n"
      ]
     },
     "metadata": {},
     "output_type": "display_data"
    },
    {
     "data": {
      "text/html": [
       "<pre style=\"white-space:pre;overflow-x:auto;line-height:normal;font-family:Menlo,'DejaVu Sans Mono',consolas,'Courier New',monospace\">Analyzing /home/s/Skola/exjobb/github_metric_extractor/out/repositories/TDD-Hangman/tests/test_model.py\n",
       "</pre>\n"
      ],
      "text/plain": [
       "Analyzing /home/s/Skola/exjobb/github_metric_extractor/out/repositories/TDD-Hangman/tests/test_model.py\n"
      ]
     },
     "metadata": {},
     "output_type": "display_data"
    },
    {
     "data": {
      "text/html": [
       "<pre style=\"white-space:pre;overflow-x:auto;line-height:normal;font-family:Menlo,'DejaVu Sans Mono',consolas,'Courier New',monospace\">Analyzing /home/s/Skola/exjobb/github_metric_extractor/out/repositories/TDD-Hangman/tests/__init__.py\n",
       "</pre>\n"
      ],
      "text/plain": [
       "Analyzing /home/s/Skola/exjobb/github_metric_extractor/out/repositories/TDD-Hangman/tests/__init__.py\n"
      ]
     },
     "metadata": {},
     "output_type": "display_data"
    },
    {
     "data": {
      "text/html": [
       "<pre style=\"white-space:pre;overflow-x:auto;line-height:normal;font-family:Menlo,'DejaVu Sans Mono',consolas,'Courier New',monospace\">Analyzing /home/s/Skola/exjobb/github_metric_extractor/out/repositories/TDD-Hangman/src/hangman.py\n",
       "</pre>\n"
      ],
      "text/plain": [
       "Analyzing /home/s/Skola/exjobb/github_metric_extractor/out/repositories/TDD-Hangman/src/hangman.py\n"
      ]
     },
     "metadata": {},
     "output_type": "display_data"
    },
    {
     "data": {
      "text/html": [
       "<pre style=\"white-space:pre;overflow-x:auto;line-height:normal;font-family:Menlo,'DejaVu Sans Mono',consolas,'Courier New',monospace\">Analyzing /home/s/Skola/exjobb/github_metric_extractor/out/repositories/TDD-Hangman/src/views/GUI.py\n",
       "</pre>\n"
      ],
      "text/plain": [
       "Analyzing /home/s/Skola/exjobb/github_metric_extractor/out/repositories/TDD-Hangman/src/views/GUI.py\n"
      ]
     },
     "metadata": {},
     "output_type": "display_data"
    },
    {
     "data": {
      "text/html": [
       "<pre style=\"white-space:pre;overflow-x:auto;line-height:normal;font-family:Menlo,'DejaVu Sans Mono',consolas,'Courier New',monospace\">Analyzing /home/s/Skola/exjobb/github_metric_extractor/out/repositories/TDD-Hangman/src/views/__init__.py\n",
       "</pre>\n"
      ],
      "text/plain": [
       "Analyzing /home/s/Skola/exjobb/github_metric_extractor/out/repositories/TDD-Hangman/src/views/__init__.py\n"
      ]
     },
     "metadata": {},
     "output_type": "display_data"
    },
    {
     "data": {
      "text/html": [
       "<pre style=\"white-space:pre;overflow-x:auto;line-height:normal;font-family:Menlo,'DejaVu Sans Mono',consolas,'Courier New',monospace\">Analyzing /home/s/Skola/exjobb/github_metric_extractor/out/repositories/TDD-Hangman/src/controllers/Controller.py\n",
       "</pre>\n"
      ],
      "text/plain": [
       "Analyzing /home/s/Skola/exjobb/github_metric_extractor/out/repositories/TDD-Hangman/src/controllers/Controller.py\n"
      ]
     },
     "metadata": {},
     "output_type": "display_data"
    },
    {
     "data": {
      "text/html": [
       "<pre style=\"white-space:pre;overflow-x:auto;line-height:normal;font-family:Menlo,'DejaVu Sans Mono',consolas,'Courier New',monospace\">Analyzing /home/s/Skola/exjobb/github_metric_extractor/out/repositories/TDD-Hangman/src/controllers/__init__.py\n",
       "</pre>\n"
      ],
      "text/plain": [
       "Analyzing /home/s/Skola/exjobb/github_metric_extractor/out/repositories/TDD-Hangman/src/controllers/__init__.py\n"
      ]
     },
     "metadata": {},
     "output_type": "display_data"
    },
    {
     "data": {
      "text/html": [
       "<pre style=\"white-space:pre;overflow-x:auto;line-height:normal;font-family:Menlo,'DejaVu Sans Mono',consolas,'Courier New',monospace\">Analyzing /home/s/Skola/exjobb/github_metric_extractor/out/repositories/TDD-Hangman/src/models/GameEngine.py\n",
       "</pre>\n"
      ],
      "text/plain": [
       "Analyzing /home/s/Skola/exjobb/github_metric_extractor/out/repositories/TDD-Hangman/src/models/GameEngine.py\n"
      ]
     },
     "metadata": {},
     "output_type": "display_data"
    },
    {
     "data": {
      "text/html": [
       "<pre style=\"white-space:pre;overflow-x:auto;line-height:normal;font-family:Menlo,'DejaVu Sans Mono',consolas,'Courier New',monospace\">Analyzing /home/s/Skola/exjobb/github_metric_extractor/out/repositories/TDD-Hangman/src/models/__init__.py\n",
       "</pre>\n"
      ],
      "text/plain": [
       "Analyzing /home/s/Skola/exjobb/github_metric_extractor/out/repositories/TDD-Hangman/src/models/__init__.py\n"
      ]
     },
     "metadata": {},
     "output_type": "display_data"
    },
    {
     "data": {
      "text/html": [
       "<pre style=\"white-space:pre;overflow-x:auto;line-height:normal;font-family:Menlo,'DejaVu Sans Mono',consolas,'Courier New',monospace\">Analyzing /home/s/Skola/exjobb/github_metric_extractor/out/repositories/TDD-Hangman/src/other/__init__.py\n",
       "</pre>\n"
      ],
      "text/plain": [
       "Analyzing /home/s/Skola/exjobb/github_metric_extractor/out/repositories/TDD-Hangman/src/other/__init__.py\n"
      ]
     },
     "metadata": {},
     "output_type": "display_data"
    },
    {
     "data": {
      "text/html": [
       "<pre style=\"white-space:pre;overflow-x:auto;line-height:normal;font-family:Menlo,'DejaVu Sans Mono',consolas,'Courier New',monospace\">Analyzing /home/s/Skola/exjobb/github_metric_extractor/out/repositories/TDD-Hangman/tests/test_view.py\n",
       "</pre>\n"
      ],
      "text/plain": [
       "Analyzing /home/s/Skola/exjobb/github_metric_extractor/out/repositories/TDD-Hangman/tests/test_view.py\n"
      ]
     },
     "metadata": {},
     "output_type": "display_data"
    },
    {
     "data": {
      "text/html": [
       "<pre style=\"white-space:pre;overflow-x:auto;line-height:normal;font-family:Menlo,'DejaVu Sans Mono',consolas,'Courier New',monospace\">Analyzing /home/s/Skola/exjobb/github_metric_extractor/out/repositories/TDD-Hangman/tests/test_hangman.py\n",
       "</pre>\n"
      ],
      "text/plain": [
       "Analyzing /home/s/Skola/exjobb/github_metric_extractor/out/repositories/TDD-Hangman/tests/test_hangman.py\n"
      ]
     },
     "metadata": {},
     "output_type": "display_data"
    },
    {
     "data": {
      "text/html": [
       "<pre style=\"white-space:pre;overflow-x:auto;line-height:normal;font-family:Menlo,'DejaVu Sans Mono',consolas,'Courier New',monospace\">Analyzing /home/s/Skola/exjobb/github_metric_extractor/out/repositories/TDD-Hangman/tests/test_controller.py\n",
       "</pre>\n"
      ],
      "text/plain": [
       "Analyzing /home/s/Skola/exjobb/github_metric_extractor/out/repositories/TDD-Hangman/tests/test_controller.py\n"
      ]
     },
     "metadata": {},
     "output_type": "display_data"
    },
    {
     "data": {
      "text/html": [
       "<pre style=\"white-space:pre;overflow-x:auto;line-height:normal;font-family:Menlo,'DejaVu Sans Mono',consolas,'Courier New',monospace\">Analyzing /home/s/Skola/exjobb/github_metric_extractor/out/repositories/TDD-Hangman/tests/test_model.py\n",
       "</pre>\n"
      ],
      "text/plain": [
       "Analyzing /home/s/Skola/exjobb/github_metric_extractor/out/repositories/TDD-Hangman/tests/test_model.py\n"
      ]
     },
     "metadata": {},
     "output_type": "display_data"
    },
    {
     "data": {
      "text/html": [
       "<pre style=\"white-space:pre;overflow-x:auto;line-height:normal;font-family:Menlo,'DejaVu Sans Mono',consolas,'Courier New',monospace\">Analyzing /home/s/Skola/exjobb/github_metric_extractor/out/repositories/TDD-Hangman/tests/__init__.py\n",
       "</pre>\n"
      ],
      "text/plain": [
       "Analyzing /home/s/Skola/exjobb/github_metric_extractor/out/repositories/TDD-Hangman/tests/__init__.py\n"
      ]
     },
     "metadata": {},
     "output_type": "display_data"
    },
    {
     "data": {
      "text/html": [
       "<pre style=\"white-space:pre;overflow-x:auto;line-height:normal;font-family:Menlo,'DejaVu Sans Mono',consolas,'Courier New',monospace\">Analyzing /home/s/Skola/exjobb/github_metric_extractor/out/repositories/TDD-Hangman/src/hangman.py\n",
       "</pre>\n"
      ],
      "text/plain": [
       "Analyzing /home/s/Skola/exjobb/github_metric_extractor/out/repositories/TDD-Hangman/src/hangman.py\n"
      ]
     },
     "metadata": {},
     "output_type": "display_data"
    },
    {
     "data": {
      "text/html": [
       "<pre style=\"white-space:pre;overflow-x:auto;line-height:normal;font-family:Menlo,'DejaVu Sans Mono',consolas,'Courier New',monospace\">Analyzing /home/s/Skola/exjobb/github_metric_extractor/out/repositories/TDD-Hangman/src/views/GUI.py\n",
       "</pre>\n"
      ],
      "text/plain": [
       "Analyzing /home/s/Skola/exjobb/github_metric_extractor/out/repositories/TDD-Hangman/src/views/GUI.py\n"
      ]
     },
     "metadata": {},
     "output_type": "display_data"
    },
    {
     "data": {
      "text/html": [
       "<pre style=\"white-space:pre;overflow-x:auto;line-height:normal;font-family:Menlo,'DejaVu Sans Mono',consolas,'Courier New',monospace\">Analyzing /home/s/Skola/exjobb/github_metric_extractor/out/repositories/TDD-Hangman/src/views/__init__.py\n",
       "</pre>\n"
      ],
      "text/plain": [
       "Analyzing /home/s/Skola/exjobb/github_metric_extractor/out/repositories/TDD-Hangman/src/views/__init__.py\n"
      ]
     },
     "metadata": {},
     "output_type": "display_data"
    },
    {
     "data": {
      "text/html": [
       "<pre style=\"white-space:pre;overflow-x:auto;line-height:normal;font-family:Menlo,'DejaVu Sans Mono',consolas,'Courier New',monospace\">Analyzing /home/s/Skola/exjobb/github_metric_extractor/out/repositories/TDD-Hangman/src/controllers/Controller.py\n",
       "</pre>\n"
      ],
      "text/plain": [
       "Analyzing /home/s/Skola/exjobb/github_metric_extractor/out/repositories/TDD-Hangman/src/controllers/Controller.py\n"
      ]
     },
     "metadata": {},
     "output_type": "display_data"
    },
    {
     "data": {
      "text/html": [
       "<pre style=\"white-space:pre;overflow-x:auto;line-height:normal;font-family:Menlo,'DejaVu Sans Mono',consolas,'Courier New',monospace\">Analyzing /home/s/Skola/exjobb/github_metric_extractor/out/repositories/TDD-Hangman/src/controllers/__init__.py\n",
       "</pre>\n"
      ],
      "text/plain": [
       "Analyzing /home/s/Skola/exjobb/github_metric_extractor/out/repositories/TDD-Hangman/src/controllers/__init__.py\n"
      ]
     },
     "metadata": {},
     "output_type": "display_data"
    },
    {
     "data": {
      "text/html": [
       "<pre style=\"white-space:pre;overflow-x:auto;line-height:normal;font-family:Menlo,'DejaVu Sans Mono',consolas,'Courier New',monospace\">Analyzing /home/s/Skola/exjobb/github_metric_extractor/out/repositories/TDD-Hangman/src/models/GameEngine.py\n",
       "</pre>\n"
      ],
      "text/plain": [
       "Analyzing /home/s/Skola/exjobb/github_metric_extractor/out/repositories/TDD-Hangman/src/models/GameEngine.py\n"
      ]
     },
     "metadata": {},
     "output_type": "display_data"
    },
    {
     "data": {
      "text/html": [
       "<pre style=\"white-space:pre;overflow-x:auto;line-height:normal;font-family:Menlo,'DejaVu Sans Mono',consolas,'Courier New',monospace\">Analyzing /home/s/Skola/exjobb/github_metric_extractor/out/repositories/TDD-Hangman/src/models/__init__.py\n",
       "</pre>\n"
      ],
      "text/plain": [
       "Analyzing /home/s/Skola/exjobb/github_metric_extractor/out/repositories/TDD-Hangman/src/models/__init__.py\n"
      ]
     },
     "metadata": {},
     "output_type": "display_data"
    },
    {
     "data": {
      "text/html": [
       "<pre style=\"white-space:pre;overflow-x:auto;line-height:normal;font-family:Menlo,'DejaVu Sans Mono',consolas,'Courier New',monospace\">Analyzing /home/s/Skola/exjobb/github_metric_extractor/out/repositories/TDD-Hangman/src/other/__init__.py\n",
       "</pre>\n"
      ],
      "text/plain": [
       "Analyzing /home/s/Skola/exjobb/github_metric_extractor/out/repositories/TDD-Hangman/src/other/__init__.py\n"
      ]
     },
     "metadata": {},
     "output_type": "display_data"
    },
    {
     "data": {
      "text/html": [
       "<pre style=\"white-space:pre;overflow-x:auto;line-height:normal;font-family:Menlo,'DejaVu Sans Mono',consolas,'Courier New',monospace\">Analyzing /home/s/Skola/exjobb/github_metric_extractor/out/repositories/TDD-Hangman/tests/test_view.py\n",
       "</pre>\n"
      ],
      "text/plain": [
       "Analyzing /home/s/Skola/exjobb/github_metric_extractor/out/repositories/TDD-Hangman/tests/test_view.py\n"
      ]
     },
     "metadata": {},
     "output_type": "display_data"
    },
    {
     "data": {
      "text/html": [
       "<pre style=\"white-space:pre;overflow-x:auto;line-height:normal;font-family:Menlo,'DejaVu Sans Mono',consolas,'Courier New',monospace\">Analyzing /home/s/Skola/exjobb/github_metric_extractor/out/repositories/TDD-Hangman/tests/test_hangman.py\n",
       "</pre>\n"
      ],
      "text/plain": [
       "Analyzing /home/s/Skola/exjobb/github_metric_extractor/out/repositories/TDD-Hangman/tests/test_hangman.py\n"
      ]
     },
     "metadata": {},
     "output_type": "display_data"
    },
    {
     "data": {
      "text/html": [
       "<pre style=\"white-space:pre;overflow-x:auto;line-height:normal;font-family:Menlo,'DejaVu Sans Mono',consolas,'Courier New',monospace\">Analyzing /home/s/Skola/exjobb/github_metric_extractor/out/repositories/TDD-Hangman/tests/test_controller.py\n",
       "</pre>\n"
      ],
      "text/plain": [
       "Analyzing /home/s/Skola/exjobb/github_metric_extractor/out/repositories/TDD-Hangman/tests/test_controller.py\n"
      ]
     },
     "metadata": {},
     "output_type": "display_data"
    },
    {
     "data": {
      "text/html": [
       "<pre style=\"white-space:pre;overflow-x:auto;line-height:normal;font-family:Menlo,'DejaVu Sans Mono',consolas,'Courier New',monospace\">Analyzing /home/s/Skola/exjobb/github_metric_extractor/out/repositories/TDD-Hangman/tests/test_model.py\n",
       "</pre>\n"
      ],
      "text/plain": [
       "Analyzing /home/s/Skola/exjobb/github_metric_extractor/out/repositories/TDD-Hangman/tests/test_model.py\n"
      ]
     },
     "metadata": {},
     "output_type": "display_data"
    },
    {
     "data": {
      "text/html": [
       "<pre style=\"white-space:pre;overflow-x:auto;line-height:normal;font-family:Menlo,'DejaVu Sans Mono',consolas,'Courier New',monospace\">Analyzing /home/s/Skola/exjobb/github_metric_extractor/out/repositories/TDD-Hangman/tests/__init__.py\n",
       "</pre>\n"
      ],
      "text/plain": [
       "Analyzing /home/s/Skola/exjobb/github_metric_extractor/out/repositories/TDD-Hangman/tests/__init__.py\n"
      ]
     },
     "metadata": {},
     "output_type": "display_data"
    },
    {
     "data": {
      "text/html": [
       "<pre style=\"white-space:pre;overflow-x:auto;line-height:normal;font-family:Menlo,'DejaVu Sans Mono',consolas,'Courier New',monospace\">Analyzing /home/s/Skola/exjobb/github_metric_extractor/out/repositories/TDD-Hangman/src/hangman.py\n",
       "</pre>\n"
      ],
      "text/plain": [
       "Analyzing /home/s/Skola/exjobb/github_metric_extractor/out/repositories/TDD-Hangman/src/hangman.py\n"
      ]
     },
     "metadata": {},
     "output_type": "display_data"
    },
    {
     "data": {
      "text/html": [
       "<pre style=\"white-space:pre;overflow-x:auto;line-height:normal;font-family:Menlo,'DejaVu Sans Mono',consolas,'Courier New',monospace\">Analyzing /home/s/Skola/exjobb/github_metric_extractor/out/repositories/TDD-Hangman/src/views/GUI.py\n",
       "</pre>\n"
      ],
      "text/plain": [
       "Analyzing /home/s/Skola/exjobb/github_metric_extractor/out/repositories/TDD-Hangman/src/views/GUI.py\n"
      ]
     },
     "metadata": {},
     "output_type": "display_data"
    },
    {
     "data": {
      "text/html": [
       "<pre style=\"white-space:pre;overflow-x:auto;line-height:normal;font-family:Menlo,'DejaVu Sans Mono',consolas,'Courier New',monospace\">Analyzing /home/s/Skola/exjobb/github_metric_extractor/out/repositories/TDD-Hangman/src/views/__init__.py\n",
       "</pre>\n"
      ],
      "text/plain": [
       "Analyzing /home/s/Skola/exjobb/github_metric_extractor/out/repositories/TDD-Hangman/src/views/__init__.py\n"
      ]
     },
     "metadata": {},
     "output_type": "display_data"
    },
    {
     "data": {
      "text/html": [
       "<pre style=\"white-space:pre;overflow-x:auto;line-height:normal;font-family:Menlo,'DejaVu Sans Mono',consolas,'Courier New',monospace\">Analyzing /home/s/Skola/exjobb/github_metric_extractor/out/repositories/TDD-Hangman/src/controllers/Controller.py\n",
       "</pre>\n"
      ],
      "text/plain": [
       "Analyzing /home/s/Skola/exjobb/github_metric_extractor/out/repositories/TDD-Hangman/src/controllers/Controller.py\n"
      ]
     },
     "metadata": {},
     "output_type": "display_data"
    },
    {
     "data": {
      "text/html": [
       "<pre style=\"white-space:pre;overflow-x:auto;line-height:normal;font-family:Menlo,'DejaVu Sans Mono',consolas,'Courier New',monospace\">Analyzing /home/s/Skola/exjobb/github_metric_extractor/out/repositories/TDD-Hangman/src/controllers/__init__.py\n",
       "</pre>\n"
      ],
      "text/plain": [
       "Analyzing /home/s/Skola/exjobb/github_metric_extractor/out/repositories/TDD-Hangman/src/controllers/__init__.py\n"
      ]
     },
     "metadata": {},
     "output_type": "display_data"
    },
    {
     "data": {
      "text/html": [
       "<pre style=\"white-space:pre;overflow-x:auto;line-height:normal;font-family:Menlo,'DejaVu Sans Mono',consolas,'Courier New',monospace\">Analyzing /home/s/Skola/exjobb/github_metric_extractor/out/repositories/TDD-Hangman/src/models/GameEngine.py\n",
       "</pre>\n"
      ],
      "text/plain": [
       "Analyzing /home/s/Skola/exjobb/github_metric_extractor/out/repositories/TDD-Hangman/src/models/GameEngine.py\n"
      ]
     },
     "metadata": {},
     "output_type": "display_data"
    },
    {
     "data": {
      "text/html": [
       "<pre style=\"white-space:pre;overflow-x:auto;line-height:normal;font-family:Menlo,'DejaVu Sans Mono',consolas,'Courier New',monospace\">Analyzing /home/s/Skola/exjobb/github_metric_extractor/out/repositories/TDD-Hangman/src/models/__init__.py\n",
       "</pre>\n"
      ],
      "text/plain": [
       "Analyzing /home/s/Skola/exjobb/github_metric_extractor/out/repositories/TDD-Hangman/src/models/__init__.py\n"
      ]
     },
     "metadata": {},
     "output_type": "display_data"
    },
    {
     "data": {
      "text/html": [
       "<pre style=\"white-space:pre;overflow-x:auto;line-height:normal;font-family:Menlo,'DejaVu Sans Mono',consolas,'Courier New',monospace\">Analyzing /home/s/Skola/exjobb/github_metric_extractor/out/repositories/TDD-Hangman/src/other/__init__.py\n",
       "</pre>\n"
      ],
      "text/plain": [
       "Analyzing /home/s/Skola/exjobb/github_metric_extractor/out/repositories/TDD-Hangman/src/other/__init__.py\n"
      ]
     },
     "metadata": {},
     "output_type": "display_data"
    },
    {
     "data": {
      "text/html": [
       "<pre style=\"white-space:pre;overflow-x:auto;line-height:normal;font-family:Menlo,'DejaVu Sans Mono',consolas,'Courier New',monospace\">Analyzing /home/s/Skola/exjobb/github_metric_extractor/out/repositories/TDD-Hangman/tests/test_view.py\n",
       "</pre>\n"
      ],
      "text/plain": [
       "Analyzing /home/s/Skola/exjobb/github_metric_extractor/out/repositories/TDD-Hangman/tests/test_view.py\n"
      ]
     },
     "metadata": {},
     "output_type": "display_data"
    },
    {
     "data": {
      "text/html": [
       "<pre style=\"white-space:pre;overflow-x:auto;line-height:normal;font-family:Menlo,'DejaVu Sans Mono',consolas,'Courier New',monospace\">Analyzing /home/s/Skola/exjobb/github_metric_extractor/out/repositories/TDD-Hangman/tests/test_hangman.py\n",
       "</pre>\n"
      ],
      "text/plain": [
       "Analyzing /home/s/Skola/exjobb/github_metric_extractor/out/repositories/TDD-Hangman/tests/test_hangman.py\n"
      ]
     },
     "metadata": {},
     "output_type": "display_data"
    },
    {
     "data": {
      "text/html": [
       "<pre style=\"white-space:pre;overflow-x:auto;line-height:normal;font-family:Menlo,'DejaVu Sans Mono',consolas,'Courier New',monospace\">Analyzing /home/s/Skola/exjobb/github_metric_extractor/out/repositories/TDD-Hangman/tests/test_controller.py\n",
       "</pre>\n"
      ],
      "text/plain": [
       "Analyzing /home/s/Skola/exjobb/github_metric_extractor/out/repositories/TDD-Hangman/tests/test_controller.py\n"
      ]
     },
     "metadata": {},
     "output_type": "display_data"
    },
    {
     "data": {
      "text/html": [
       "<pre style=\"white-space:pre;overflow-x:auto;line-height:normal;font-family:Menlo,'DejaVu Sans Mono',consolas,'Courier New',monospace\">Analyzing /home/s/Skola/exjobb/github_metric_extractor/out/repositories/TDD-Hangman/tests/test_model.py\n",
       "</pre>\n"
      ],
      "text/plain": [
       "Analyzing /home/s/Skola/exjobb/github_metric_extractor/out/repositories/TDD-Hangman/tests/test_model.py\n"
      ]
     },
     "metadata": {},
     "output_type": "display_data"
    },
    {
     "data": {
      "text/html": [
       "<pre style=\"white-space:pre;overflow-x:auto;line-height:normal;font-family:Menlo,'DejaVu Sans Mono',consolas,'Courier New',monospace\">Analyzing /home/s/Skola/exjobb/github_metric_extractor/out/repositories/TDD-Hangman/tests/__init__.py\n",
       "</pre>\n"
      ],
      "text/plain": [
       "Analyzing /home/s/Skola/exjobb/github_metric_extractor/out/repositories/TDD-Hangman/tests/__init__.py\n"
      ]
     },
     "metadata": {},
     "output_type": "display_data"
    },
    {
     "data": {
      "text/html": [
       "<pre style=\"white-space:pre;overflow-x:auto;line-height:normal;font-family:Menlo,'DejaVu Sans Mono',consolas,'Courier New',monospace\">Analyzing /home/s/Skola/exjobb/github_metric_extractor/out/repositories/TDD-Hangman/src/hangman.py\n",
       "</pre>\n"
      ],
      "text/plain": [
       "Analyzing /home/s/Skola/exjobb/github_metric_extractor/out/repositories/TDD-Hangman/src/hangman.py\n"
      ]
     },
     "metadata": {},
     "output_type": "display_data"
    },
    {
     "data": {
      "text/html": [
       "<pre style=\"white-space:pre;overflow-x:auto;line-height:normal;font-family:Menlo,'DejaVu Sans Mono',consolas,'Courier New',monospace\">Analyzing /home/s/Skola/exjobb/github_metric_extractor/out/repositories/TDD-Hangman/src/views/GUI.py\n",
       "</pre>\n"
      ],
      "text/plain": [
       "Analyzing /home/s/Skola/exjobb/github_metric_extractor/out/repositories/TDD-Hangman/src/views/GUI.py\n"
      ]
     },
     "metadata": {},
     "output_type": "display_data"
    },
    {
     "data": {
      "text/html": [
       "<pre style=\"white-space:pre;overflow-x:auto;line-height:normal;font-family:Menlo,'DejaVu Sans Mono',consolas,'Courier New',monospace\">Analyzing /home/s/Skola/exjobb/github_metric_extractor/out/repositories/TDD-Hangman/src/views/__init__.py\n",
       "</pre>\n"
      ],
      "text/plain": [
       "Analyzing /home/s/Skola/exjobb/github_metric_extractor/out/repositories/TDD-Hangman/src/views/__init__.py\n"
      ]
     },
     "metadata": {},
     "output_type": "display_data"
    },
    {
     "data": {
      "text/html": [
       "<pre style=\"white-space:pre;overflow-x:auto;line-height:normal;font-family:Menlo,'DejaVu Sans Mono',consolas,'Courier New',monospace\">Analyzing /home/s/Skola/exjobb/github_metric_extractor/out/repositories/TDD-Hangman/src/controllers/Controller.py\n",
       "</pre>\n"
      ],
      "text/plain": [
       "Analyzing /home/s/Skola/exjobb/github_metric_extractor/out/repositories/TDD-Hangman/src/controllers/Controller.py\n"
      ]
     },
     "metadata": {},
     "output_type": "display_data"
    },
    {
     "data": {
      "text/html": [
       "<pre style=\"white-space:pre;overflow-x:auto;line-height:normal;font-family:Menlo,'DejaVu Sans Mono',consolas,'Courier New',monospace\">Analyzing /home/s/Skola/exjobb/github_metric_extractor/out/repositories/TDD-Hangman/src/controllers/__init__.py\n",
       "</pre>\n"
      ],
      "text/plain": [
       "Analyzing /home/s/Skola/exjobb/github_metric_extractor/out/repositories/TDD-Hangman/src/controllers/__init__.py\n"
      ]
     },
     "metadata": {},
     "output_type": "display_data"
    },
    {
     "data": {
      "text/html": [
       "<pre style=\"white-space:pre;overflow-x:auto;line-height:normal;font-family:Menlo,'DejaVu Sans Mono',consolas,'Courier New',monospace\">Analyzing /home/s/Skola/exjobb/github_metric_extractor/out/repositories/TDD-Hangman/src/models/GameEngine.py\n",
       "</pre>\n"
      ],
      "text/plain": [
       "Analyzing /home/s/Skola/exjobb/github_metric_extractor/out/repositories/TDD-Hangman/src/models/GameEngine.py\n"
      ]
     },
     "metadata": {},
     "output_type": "display_data"
    },
    {
     "data": {
      "text/html": [
       "<pre style=\"white-space:pre;overflow-x:auto;line-height:normal;font-family:Menlo,'DejaVu Sans Mono',consolas,'Courier New',monospace\">Analyzing /home/s/Skola/exjobb/github_metric_extractor/out/repositories/TDD-Hangman/src/models/__init__.py\n",
       "</pre>\n"
      ],
      "text/plain": [
       "Analyzing /home/s/Skola/exjobb/github_metric_extractor/out/repositories/TDD-Hangman/src/models/__init__.py\n"
      ]
     },
     "metadata": {},
     "output_type": "display_data"
    },
    {
     "data": {
      "text/html": [
       "<pre style=\"white-space:pre;overflow-x:auto;line-height:normal;font-family:Menlo,'DejaVu Sans Mono',consolas,'Courier New',monospace\">Analyzing /home/s/Skola/exjobb/github_metric_extractor/out/repositories/TDD-Hangman/src/other/__init__.py\n",
       "</pre>\n"
      ],
      "text/plain": [
       "Analyzing /home/s/Skola/exjobb/github_metric_extractor/out/repositories/TDD-Hangman/src/other/__init__.py\n"
      ]
     },
     "metadata": {},
     "output_type": "display_data"
    },
    {
     "data": {
      "text/html": [
       "<pre style=\"white-space:pre;overflow-x:auto;line-height:normal;font-family:Menlo,'DejaVu Sans Mono',consolas,'Courier New',monospace\">Analyzing /home/s/Skola/exjobb/github_metric_extractor/out/repositories/TDD-Hangman/tests/test_view.py\n",
       "</pre>\n"
      ],
      "text/plain": [
       "Analyzing /home/s/Skola/exjobb/github_metric_extractor/out/repositories/TDD-Hangman/tests/test_view.py\n"
      ]
     },
     "metadata": {},
     "output_type": "display_data"
    },
    {
     "data": {
      "text/html": [
       "<pre style=\"white-space:pre;overflow-x:auto;line-height:normal;font-family:Menlo,'DejaVu Sans Mono',consolas,'Courier New',monospace\">Analyzing /home/s/Skola/exjobb/github_metric_extractor/out/repositories/TDD-Hangman/tests/test_hangman.py\n",
       "</pre>\n"
      ],
      "text/plain": [
       "Analyzing /home/s/Skola/exjobb/github_metric_extractor/out/repositories/TDD-Hangman/tests/test_hangman.py\n"
      ]
     },
     "metadata": {},
     "output_type": "display_data"
    },
    {
     "data": {
      "text/html": [
       "<pre style=\"white-space:pre;overflow-x:auto;line-height:normal;font-family:Menlo,'DejaVu Sans Mono',consolas,'Courier New',monospace\">Analyzing /home/s/Skola/exjobb/github_metric_extractor/out/repositories/TDD-Hangman/tests/test_controller.py\n",
       "</pre>\n"
      ],
      "text/plain": [
       "Analyzing /home/s/Skola/exjobb/github_metric_extractor/out/repositories/TDD-Hangman/tests/test_controller.py\n"
      ]
     },
     "metadata": {},
     "output_type": "display_data"
    },
    {
     "data": {
      "text/html": [
       "<pre style=\"white-space:pre;overflow-x:auto;line-height:normal;font-family:Menlo,'DejaVu Sans Mono',consolas,'Courier New',monospace\">Analyzing /home/s/Skola/exjobb/github_metric_extractor/out/repositories/TDD-Hangman/tests/test_model.py\n",
       "</pre>\n"
      ],
      "text/plain": [
       "Analyzing /home/s/Skola/exjobb/github_metric_extractor/out/repositories/TDD-Hangman/tests/test_model.py\n"
      ]
     },
     "metadata": {},
     "output_type": "display_data"
    },
    {
     "data": {
      "text/html": [
       "<pre style=\"white-space:pre;overflow-x:auto;line-height:normal;font-family:Menlo,'DejaVu Sans Mono',consolas,'Courier New',monospace\">Analyzing /home/s/Skola/exjobb/github_metric_extractor/out/repositories/TDD-Hangman/tests/__init__.py\n",
       "</pre>\n"
      ],
      "text/plain": [
       "Analyzing /home/s/Skola/exjobb/github_metric_extractor/out/repositories/TDD-Hangman/tests/__init__.py\n"
      ]
     },
     "metadata": {},
     "output_type": "display_data"
    },
    {
     "data": {
      "text/html": [
       "<pre style=\"white-space:pre;overflow-x:auto;line-height:normal;font-family:Menlo,'DejaVu Sans Mono',consolas,'Courier New',monospace\">Analyzing /home/s/Skola/exjobb/github_metric_extractor/out/repositories/TDD-Hangman/src/hangman.py\n",
       "</pre>\n"
      ],
      "text/plain": [
       "Analyzing /home/s/Skola/exjobb/github_metric_extractor/out/repositories/TDD-Hangman/src/hangman.py\n"
      ]
     },
     "metadata": {},
     "output_type": "display_data"
    },
    {
     "data": {
      "text/html": [
       "<pre style=\"white-space:pre;overflow-x:auto;line-height:normal;font-family:Menlo,'DejaVu Sans Mono',consolas,'Courier New',monospace\">Analyzing /home/s/Skola/exjobb/github_metric_extractor/out/repositories/TDD-Hangman/src/views/GUI.py\n",
       "</pre>\n"
      ],
      "text/plain": [
       "Analyzing /home/s/Skola/exjobb/github_metric_extractor/out/repositories/TDD-Hangman/src/views/GUI.py\n"
      ]
     },
     "metadata": {},
     "output_type": "display_data"
    },
    {
     "data": {
      "text/html": [
       "<pre style=\"white-space:pre;overflow-x:auto;line-height:normal;font-family:Menlo,'DejaVu Sans Mono',consolas,'Courier New',monospace\">Analyzing /home/s/Skola/exjobb/github_metric_extractor/out/repositories/TDD-Hangman/src/views/__init__.py\n",
       "</pre>\n"
      ],
      "text/plain": [
       "Analyzing /home/s/Skola/exjobb/github_metric_extractor/out/repositories/TDD-Hangman/src/views/__init__.py\n"
      ]
     },
     "metadata": {},
     "output_type": "display_data"
    },
    {
     "data": {
      "text/html": [
       "<pre style=\"white-space:pre;overflow-x:auto;line-height:normal;font-family:Menlo,'DejaVu Sans Mono',consolas,'Courier New',monospace\">Analyzing /home/s/Skola/exjobb/github_metric_extractor/out/repositories/TDD-Hangman/src/controllers/Controller.py\n",
       "</pre>\n"
      ],
      "text/plain": [
       "Analyzing /home/s/Skola/exjobb/github_metric_extractor/out/repositories/TDD-Hangman/src/controllers/Controller.py\n"
      ]
     },
     "metadata": {},
     "output_type": "display_data"
    },
    {
     "data": {
      "text/html": [
       "<pre style=\"white-space:pre;overflow-x:auto;line-height:normal;font-family:Menlo,'DejaVu Sans Mono',consolas,'Courier New',monospace\">Analyzing /home/s/Skola/exjobb/github_metric_extractor/out/repositories/TDD-Hangman/src/controllers/__init__.py\n",
       "</pre>\n"
      ],
      "text/plain": [
       "Analyzing /home/s/Skola/exjobb/github_metric_extractor/out/repositories/TDD-Hangman/src/controllers/__init__.py\n"
      ]
     },
     "metadata": {},
     "output_type": "display_data"
    },
    {
     "data": {
      "text/html": [
       "<pre style=\"white-space:pre;overflow-x:auto;line-height:normal;font-family:Menlo,'DejaVu Sans Mono',consolas,'Courier New',monospace\">Analyzing /home/s/Skola/exjobb/github_metric_extractor/out/repositories/TDD-Hangman/src/models/GameEngine.py\n",
       "</pre>\n"
      ],
      "text/plain": [
       "Analyzing /home/s/Skola/exjobb/github_metric_extractor/out/repositories/TDD-Hangman/src/models/GameEngine.py\n"
      ]
     },
     "metadata": {},
     "output_type": "display_data"
    },
    {
     "data": {
      "text/html": [
       "<pre style=\"white-space:pre;overflow-x:auto;line-height:normal;font-family:Menlo,'DejaVu Sans Mono',consolas,'Courier New',monospace\">Analyzing /home/s/Skola/exjobb/github_metric_extractor/out/repositories/TDD-Hangman/src/models/__init__.py\n",
       "</pre>\n"
      ],
      "text/plain": [
       "Analyzing /home/s/Skola/exjobb/github_metric_extractor/out/repositories/TDD-Hangman/src/models/__init__.py\n"
      ]
     },
     "metadata": {},
     "output_type": "display_data"
    },
    {
     "data": {
      "text/html": [
       "<pre style=\"white-space:pre;overflow-x:auto;line-height:normal;font-family:Menlo,'DejaVu Sans Mono',consolas,'Courier New',monospace\">Analyzing /home/s/Skola/exjobb/github_metric_extractor/out/repositories/TDD-Hangman/src/other/__init__.py\n",
       "</pre>\n"
      ],
      "text/plain": [
       "Analyzing /home/s/Skola/exjobb/github_metric_extractor/out/repositories/TDD-Hangman/src/other/__init__.py\n"
      ]
     },
     "metadata": {},
     "output_type": "display_data"
    },
    {
     "data": {
      "text/html": [
       "<pre style=\"white-space:pre;overflow-x:auto;line-height:normal;font-family:Menlo,'DejaVu Sans Mono',consolas,'Courier New',monospace\">Analyzing /home/s/Skola/exjobb/github_metric_extractor/out/repositories/TDD-Hangman/tests/test_view.py\n",
       "</pre>\n"
      ],
      "text/plain": [
       "Analyzing /home/s/Skola/exjobb/github_metric_extractor/out/repositories/TDD-Hangman/tests/test_view.py\n"
      ]
     },
     "metadata": {},
     "output_type": "display_data"
    },
    {
     "data": {
      "text/html": [
       "<pre style=\"white-space:pre;overflow-x:auto;line-height:normal;font-family:Menlo,'DejaVu Sans Mono',consolas,'Courier New',monospace\">Analyzing /home/s/Skola/exjobb/github_metric_extractor/out/repositories/TDD-Hangman/tests/test_hangman.py\n",
       "</pre>\n"
      ],
      "text/plain": [
       "Analyzing /home/s/Skola/exjobb/github_metric_extractor/out/repositories/TDD-Hangman/tests/test_hangman.py\n"
      ]
     },
     "metadata": {},
     "output_type": "display_data"
    },
    {
     "data": {
      "text/html": [
       "<pre style=\"white-space:pre;overflow-x:auto;line-height:normal;font-family:Menlo,'DejaVu Sans Mono',consolas,'Courier New',monospace\">Analyzing /home/s/Skola/exjobb/github_metric_extractor/out/repositories/TDD-Hangman/tests/test_controller.py\n",
       "</pre>\n"
      ],
      "text/plain": [
       "Analyzing /home/s/Skola/exjobb/github_metric_extractor/out/repositories/TDD-Hangman/tests/test_controller.py\n"
      ]
     },
     "metadata": {},
     "output_type": "display_data"
    },
    {
     "data": {
      "text/html": [
       "<pre style=\"white-space:pre;overflow-x:auto;line-height:normal;font-family:Menlo,'DejaVu Sans Mono',consolas,'Courier New',monospace\">Analyzing /home/s/Skola/exjobb/github_metric_extractor/out/repositories/TDD-Hangman/tests/test_model.py\n",
       "</pre>\n"
      ],
      "text/plain": [
       "Analyzing /home/s/Skola/exjobb/github_metric_extractor/out/repositories/TDD-Hangman/tests/test_model.py\n"
      ]
     },
     "metadata": {},
     "output_type": "display_data"
    },
    {
     "data": {
      "text/html": [
       "<pre style=\"white-space:pre;overflow-x:auto;line-height:normal;font-family:Menlo,'DejaVu Sans Mono',consolas,'Courier New',monospace\">Analyzing /home/s/Skola/exjobb/github_metric_extractor/out/repositories/TDD-Hangman/tests/__init__.py\n",
       "</pre>\n"
      ],
      "text/plain": [
       "Analyzing /home/s/Skola/exjobb/github_metric_extractor/out/repositories/TDD-Hangman/tests/__init__.py\n"
      ]
     },
     "metadata": {},
     "output_type": "display_data"
    },
    {
     "data": {
      "text/html": [
       "<pre style=\"white-space:pre;overflow-x:auto;line-height:normal;font-family:Menlo,'DejaVu Sans Mono',consolas,'Courier New',monospace\">Analyzing /home/s/Skola/exjobb/github_metric_extractor/out/repositories/TDD-Hangman/src/hangman.py\n",
       "</pre>\n"
      ],
      "text/plain": [
       "Analyzing /home/s/Skola/exjobb/github_metric_extractor/out/repositories/TDD-Hangman/src/hangman.py\n"
      ]
     },
     "metadata": {},
     "output_type": "display_data"
    },
    {
     "data": {
      "text/html": [
       "<pre style=\"white-space:pre;overflow-x:auto;line-height:normal;font-family:Menlo,'DejaVu Sans Mono',consolas,'Courier New',monospace\">Analyzing /home/s/Skola/exjobb/github_metric_extractor/out/repositories/TDD-Hangman/src/views/GUI.py\n",
       "</pre>\n"
      ],
      "text/plain": [
       "Analyzing /home/s/Skola/exjobb/github_metric_extractor/out/repositories/TDD-Hangman/src/views/GUI.py\n"
      ]
     },
     "metadata": {},
     "output_type": "display_data"
    },
    {
     "data": {
      "text/html": [
       "<pre style=\"white-space:pre;overflow-x:auto;line-height:normal;font-family:Menlo,'DejaVu Sans Mono',consolas,'Courier New',monospace\">Analyzing /home/s/Skola/exjobb/github_metric_extractor/out/repositories/TDD-Hangman/src/views/__init__.py\n",
       "</pre>\n"
      ],
      "text/plain": [
       "Analyzing /home/s/Skola/exjobb/github_metric_extractor/out/repositories/TDD-Hangman/src/views/__init__.py\n"
      ]
     },
     "metadata": {},
     "output_type": "display_data"
    },
    {
     "data": {
      "text/html": [
       "<pre style=\"white-space:pre;overflow-x:auto;line-height:normal;font-family:Menlo,'DejaVu Sans Mono',consolas,'Courier New',monospace\">Analyzing /home/s/Skola/exjobb/github_metric_extractor/out/repositories/TDD-Hangman/src/controllers/Controller.py\n",
       "</pre>\n"
      ],
      "text/plain": [
       "Analyzing /home/s/Skola/exjobb/github_metric_extractor/out/repositories/TDD-Hangman/src/controllers/Controller.py\n"
      ]
     },
     "metadata": {},
     "output_type": "display_data"
    },
    {
     "data": {
      "text/html": [
       "<pre style=\"white-space:pre;overflow-x:auto;line-height:normal;font-family:Menlo,'DejaVu Sans Mono',consolas,'Courier New',monospace\">Analyzing /home/s/Skola/exjobb/github_metric_extractor/out/repositories/TDD-Hangman/src/controllers/__init__.py\n",
       "</pre>\n"
      ],
      "text/plain": [
       "Analyzing /home/s/Skola/exjobb/github_metric_extractor/out/repositories/TDD-Hangman/src/controllers/__init__.py\n"
      ]
     },
     "metadata": {},
     "output_type": "display_data"
    },
    {
     "data": {
      "text/html": [
       "<pre style=\"white-space:pre;overflow-x:auto;line-height:normal;font-family:Menlo,'DejaVu Sans Mono',consolas,'Courier New',monospace\">Analyzing /home/s/Skola/exjobb/github_metric_extractor/out/repositories/TDD-Hangman/src/models/GameEngine.py\n",
       "</pre>\n"
      ],
      "text/plain": [
       "Analyzing /home/s/Skola/exjobb/github_metric_extractor/out/repositories/TDD-Hangman/src/models/GameEngine.py\n"
      ]
     },
     "metadata": {},
     "output_type": "display_data"
    },
    {
     "data": {
      "text/html": [
       "<pre style=\"white-space:pre;overflow-x:auto;line-height:normal;font-family:Menlo,'DejaVu Sans Mono',consolas,'Courier New',monospace\">Analyzing /home/s/Skola/exjobb/github_metric_extractor/out/repositories/TDD-Hangman/src/models/__init__.py\n",
       "</pre>\n"
      ],
      "text/plain": [
       "Analyzing /home/s/Skola/exjobb/github_metric_extractor/out/repositories/TDD-Hangman/src/models/__init__.py\n"
      ]
     },
     "metadata": {},
     "output_type": "display_data"
    },
    {
     "data": {
      "text/html": [
       "<pre style=\"white-space:pre;overflow-x:auto;line-height:normal;font-family:Menlo,'DejaVu Sans Mono',consolas,'Courier New',monospace\">Analyzing /home/s/Skola/exjobb/github_metric_extractor/out/repositories/TDD-Hangman/src/other/__init__.py\n",
       "</pre>\n"
      ],
      "text/plain": [
       "Analyzing /home/s/Skola/exjobb/github_metric_extractor/out/repositories/TDD-Hangman/src/other/__init__.py\n"
      ]
     },
     "metadata": {},
     "output_type": "display_data"
    },
    {
     "data": {
      "text/html": [
       "<pre style=\"white-space:pre;overflow-x:auto;line-height:normal;font-family:Menlo,'DejaVu Sans Mono',consolas,'Courier New',monospace\">Analyzing /home/s/Skola/exjobb/github_metric_extractor/out/repositories/TDD-Hangman/tests/test_view.py\n",
       "</pre>\n"
      ],
      "text/plain": [
       "Analyzing /home/s/Skola/exjobb/github_metric_extractor/out/repositories/TDD-Hangman/tests/test_view.py\n"
      ]
     },
     "metadata": {},
     "output_type": "display_data"
    },
    {
     "data": {
      "text/html": [
       "<pre style=\"white-space:pre;overflow-x:auto;line-height:normal;font-family:Menlo,'DejaVu Sans Mono',consolas,'Courier New',monospace\">Analyzing /home/s/Skola/exjobb/github_metric_extractor/out/repositories/TDD-Hangman/tests/test_hangman.py\n",
       "</pre>\n"
      ],
      "text/plain": [
       "Analyzing /home/s/Skola/exjobb/github_metric_extractor/out/repositories/TDD-Hangman/tests/test_hangman.py\n"
      ]
     },
     "metadata": {},
     "output_type": "display_data"
    },
    {
     "data": {
      "text/html": [
       "<pre style=\"white-space:pre;overflow-x:auto;line-height:normal;font-family:Menlo,'DejaVu Sans Mono',consolas,'Courier New',monospace\">Analyzing /home/s/Skola/exjobb/github_metric_extractor/out/repositories/TDD-Hangman/tests/test_controller.py\n",
       "</pre>\n"
      ],
      "text/plain": [
       "Analyzing /home/s/Skola/exjobb/github_metric_extractor/out/repositories/TDD-Hangman/tests/test_controller.py\n"
      ]
     },
     "metadata": {},
     "output_type": "display_data"
    },
    {
     "data": {
      "text/html": [
       "<pre style=\"white-space:pre;overflow-x:auto;line-height:normal;font-family:Menlo,'DejaVu Sans Mono',consolas,'Courier New',monospace\">Analyzing /home/s/Skola/exjobb/github_metric_extractor/out/repositories/TDD-Hangman/tests/test_model.py\n",
       "</pre>\n"
      ],
      "text/plain": [
       "Analyzing /home/s/Skola/exjobb/github_metric_extractor/out/repositories/TDD-Hangman/tests/test_model.py\n"
      ]
     },
     "metadata": {},
     "output_type": "display_data"
    },
    {
     "data": {
      "text/html": [
       "<pre style=\"white-space:pre;overflow-x:auto;line-height:normal;font-family:Menlo,'DejaVu Sans Mono',consolas,'Courier New',monospace\">Analyzing /home/s/Skola/exjobb/github_metric_extractor/out/repositories/TDD-Hangman/tests/__init__.py\n",
       "</pre>\n"
      ],
      "text/plain": [
       "Analyzing /home/s/Skola/exjobb/github_metric_extractor/out/repositories/TDD-Hangman/tests/__init__.py\n"
      ]
     },
     "metadata": {},
     "output_type": "display_data"
    },
    {
     "data": {
      "text/html": [
       "<pre style=\"white-space:pre;overflow-x:auto;line-height:normal;font-family:Menlo,'DejaVu Sans Mono',consolas,'Courier New',monospace\">Analyzing /home/s/Skola/exjobb/github_metric_extractor/out/repositories/TDD-Hangman/src/hangman.py\n",
       "</pre>\n"
      ],
      "text/plain": [
       "Analyzing /home/s/Skola/exjobb/github_metric_extractor/out/repositories/TDD-Hangman/src/hangman.py\n"
      ]
     },
     "metadata": {},
     "output_type": "display_data"
    },
    {
     "data": {
      "text/html": [
       "<pre style=\"white-space:pre;overflow-x:auto;line-height:normal;font-family:Menlo,'DejaVu Sans Mono',consolas,'Courier New',monospace\">Analyzing /home/s/Skola/exjobb/github_metric_extractor/out/repositories/TDD-Hangman/src/views/GUI.py\n",
       "</pre>\n"
      ],
      "text/plain": [
       "Analyzing /home/s/Skola/exjobb/github_metric_extractor/out/repositories/TDD-Hangman/src/views/GUI.py\n"
      ]
     },
     "metadata": {},
     "output_type": "display_data"
    },
    {
     "data": {
      "text/html": [
       "<pre style=\"white-space:pre;overflow-x:auto;line-height:normal;font-family:Menlo,'DejaVu Sans Mono',consolas,'Courier New',monospace\">Analyzing /home/s/Skola/exjobb/github_metric_extractor/out/repositories/TDD-Hangman/src/views/__init__.py\n",
       "</pre>\n"
      ],
      "text/plain": [
       "Analyzing /home/s/Skola/exjobb/github_metric_extractor/out/repositories/TDD-Hangman/src/views/__init__.py\n"
      ]
     },
     "metadata": {},
     "output_type": "display_data"
    },
    {
     "data": {
      "text/html": [
       "<pre style=\"white-space:pre;overflow-x:auto;line-height:normal;font-family:Menlo,'DejaVu Sans Mono',consolas,'Courier New',monospace\">Analyzing /home/s/Skola/exjobb/github_metric_extractor/out/repositories/TDD-Hangman/src/controllers/Controller.py\n",
       "</pre>\n"
      ],
      "text/plain": [
       "Analyzing /home/s/Skola/exjobb/github_metric_extractor/out/repositories/TDD-Hangman/src/controllers/Controller.py\n"
      ]
     },
     "metadata": {},
     "output_type": "display_data"
    },
    {
     "data": {
      "text/html": [
       "<pre style=\"white-space:pre;overflow-x:auto;line-height:normal;font-family:Menlo,'DejaVu Sans Mono',consolas,'Courier New',monospace\">Analyzing /home/s/Skola/exjobb/github_metric_extractor/out/repositories/TDD-Hangman/src/controllers/__init__.py\n",
       "</pre>\n"
      ],
      "text/plain": [
       "Analyzing /home/s/Skola/exjobb/github_metric_extractor/out/repositories/TDD-Hangman/src/controllers/__init__.py\n"
      ]
     },
     "metadata": {},
     "output_type": "display_data"
    },
    {
     "data": {
      "text/html": [
       "<pre style=\"white-space:pre;overflow-x:auto;line-height:normal;font-family:Menlo,'DejaVu Sans Mono',consolas,'Courier New',monospace\">Analyzing /home/s/Skola/exjobb/github_metric_extractor/out/repositories/TDD-Hangman/src/models/GameEngine.py\n",
       "</pre>\n"
      ],
      "text/plain": [
       "Analyzing /home/s/Skola/exjobb/github_metric_extractor/out/repositories/TDD-Hangman/src/models/GameEngine.py\n"
      ]
     },
     "metadata": {},
     "output_type": "display_data"
    },
    {
     "data": {
      "text/html": [
       "<pre style=\"white-space:pre;overflow-x:auto;line-height:normal;font-family:Menlo,'DejaVu Sans Mono',consolas,'Courier New',monospace\">Analyzing /home/s/Skola/exjobb/github_metric_extractor/out/repositories/TDD-Hangman/src/models/__init__.py\n",
       "</pre>\n"
      ],
      "text/plain": [
       "Analyzing /home/s/Skola/exjobb/github_metric_extractor/out/repositories/TDD-Hangman/src/models/__init__.py\n"
      ]
     },
     "metadata": {},
     "output_type": "display_data"
    },
    {
     "data": {
      "text/html": [
       "<pre style=\"white-space:pre;overflow-x:auto;line-height:normal;font-family:Menlo,'DejaVu Sans Mono',consolas,'Courier New',monospace\">Analyzing /home/s/Skola/exjobb/github_metric_extractor/out/repositories/TDD-Hangman/src/other/__init__.py\n",
       "</pre>\n"
      ],
      "text/plain": [
       "Analyzing /home/s/Skola/exjobb/github_metric_extractor/out/repositories/TDD-Hangman/src/other/__init__.py\n"
      ]
     },
     "metadata": {},
     "output_type": "display_data"
    },
    {
     "data": {
      "text/html": [
       "<pre style=\"white-space:pre;overflow-x:auto;line-height:normal;font-family:Menlo,'DejaVu Sans Mono',consolas,'Courier New',monospace\">Analyzing /home/s/Skola/exjobb/github_metric_extractor/out/repositories/TDD-Hangman/tests/test_view.py\n",
       "</pre>\n"
      ],
      "text/plain": [
       "Analyzing /home/s/Skola/exjobb/github_metric_extractor/out/repositories/TDD-Hangman/tests/test_view.py\n"
      ]
     },
     "metadata": {},
     "output_type": "display_data"
    },
    {
     "data": {
      "text/html": [
       "<pre style=\"white-space:pre;overflow-x:auto;line-height:normal;font-family:Menlo,'DejaVu Sans Mono',consolas,'Courier New',monospace\">Analyzing /home/s/Skola/exjobb/github_metric_extractor/out/repositories/TDD-Hangman/tests/test_hangman.py\n",
       "</pre>\n"
      ],
      "text/plain": [
       "Analyzing /home/s/Skola/exjobb/github_metric_extractor/out/repositories/TDD-Hangman/tests/test_hangman.py\n"
      ]
     },
     "metadata": {},
     "output_type": "display_data"
    },
    {
     "data": {
      "text/html": [
       "<pre style=\"white-space:pre;overflow-x:auto;line-height:normal;font-family:Menlo,'DejaVu Sans Mono',consolas,'Courier New',monospace\">Analyzing /home/s/Skola/exjobb/github_metric_extractor/out/repositories/TDD-Hangman/tests/test_controller.py\n",
       "</pre>\n"
      ],
      "text/plain": [
       "Analyzing /home/s/Skola/exjobb/github_metric_extractor/out/repositories/TDD-Hangman/tests/test_controller.py\n"
      ]
     },
     "metadata": {},
     "output_type": "display_data"
    },
    {
     "data": {
      "text/html": [
       "<pre style=\"white-space:pre;overflow-x:auto;line-height:normal;font-family:Menlo,'DejaVu Sans Mono',consolas,'Courier New',monospace\">Analyzing /home/s/Skola/exjobb/github_metric_extractor/out/repositories/TDD-Hangman/tests/test_model.py\n",
       "</pre>\n"
      ],
      "text/plain": [
       "Analyzing /home/s/Skola/exjobb/github_metric_extractor/out/repositories/TDD-Hangman/tests/test_model.py\n"
      ]
     },
     "metadata": {},
     "output_type": "display_data"
    },
    {
     "data": {
      "text/html": [
       "<pre style=\"white-space:pre;overflow-x:auto;line-height:normal;font-family:Menlo,'DejaVu Sans Mono',consolas,'Courier New',monospace\">Analyzing /home/s/Skola/exjobb/github_metric_extractor/out/repositories/TDD-Hangman/tests/__init__.py\n",
       "</pre>\n"
      ],
      "text/plain": [
       "Analyzing /home/s/Skola/exjobb/github_metric_extractor/out/repositories/TDD-Hangman/tests/__init__.py\n"
      ]
     },
     "metadata": {},
     "output_type": "display_data"
    },
    {
     "data": {
      "text/html": [
       "<pre style=\"white-space:pre;overflow-x:auto;line-height:normal;font-family:Menlo,'DejaVu Sans Mono',consolas,'Courier New',monospace\">Analyzing /home/s/Skola/exjobb/github_metric_extractor/out/repositories/TDD-Hangman/src/hangman.py\n",
       "</pre>\n"
      ],
      "text/plain": [
       "Analyzing /home/s/Skola/exjobb/github_metric_extractor/out/repositories/TDD-Hangman/src/hangman.py\n"
      ]
     },
     "metadata": {},
     "output_type": "display_data"
    },
    {
     "data": {
      "text/html": [
       "<pre style=\"white-space:pre;overflow-x:auto;line-height:normal;font-family:Menlo,'DejaVu Sans Mono',consolas,'Courier New',monospace\">Analyzing /home/s/Skola/exjobb/github_metric_extractor/out/repositories/TDD-Hangman/src/views/GUI.py\n",
       "</pre>\n"
      ],
      "text/plain": [
       "Analyzing /home/s/Skola/exjobb/github_metric_extractor/out/repositories/TDD-Hangman/src/views/GUI.py\n"
      ]
     },
     "metadata": {},
     "output_type": "display_data"
    },
    {
     "data": {
      "text/html": [
       "<pre style=\"white-space:pre;overflow-x:auto;line-height:normal;font-family:Menlo,'DejaVu Sans Mono',consolas,'Courier New',monospace\">Analyzing /home/s/Skola/exjobb/github_metric_extractor/out/repositories/TDD-Hangman/src/views/__init__.py\n",
       "</pre>\n"
      ],
      "text/plain": [
       "Analyzing /home/s/Skola/exjobb/github_metric_extractor/out/repositories/TDD-Hangman/src/views/__init__.py\n"
      ]
     },
     "metadata": {},
     "output_type": "display_data"
    },
    {
     "data": {
      "text/html": [
       "<pre style=\"white-space:pre;overflow-x:auto;line-height:normal;font-family:Menlo,'DejaVu Sans Mono',consolas,'Courier New',monospace\">Analyzing /home/s/Skola/exjobb/github_metric_extractor/out/repositories/TDD-Hangman/src/controllers/Controller.py\n",
       "</pre>\n"
      ],
      "text/plain": [
       "Analyzing /home/s/Skola/exjobb/github_metric_extractor/out/repositories/TDD-Hangman/src/controllers/Controller.py\n"
      ]
     },
     "metadata": {},
     "output_type": "display_data"
    },
    {
     "data": {
      "text/html": [
       "<pre style=\"white-space:pre;overflow-x:auto;line-height:normal;font-family:Menlo,'DejaVu Sans Mono',consolas,'Courier New',monospace\">Analyzing /home/s/Skola/exjobb/github_metric_extractor/out/repositories/TDD-Hangman/src/controllers/__init__.py\n",
       "</pre>\n"
      ],
      "text/plain": [
       "Analyzing /home/s/Skola/exjobb/github_metric_extractor/out/repositories/TDD-Hangman/src/controllers/__init__.py\n"
      ]
     },
     "metadata": {},
     "output_type": "display_data"
    },
    {
     "data": {
      "text/html": [
       "<pre style=\"white-space:pre;overflow-x:auto;line-height:normal;font-family:Menlo,'DejaVu Sans Mono',consolas,'Courier New',monospace\">Analyzing /home/s/Skola/exjobb/github_metric_extractor/out/repositories/TDD-Hangman/src/models/GameEngine.py\n",
       "</pre>\n"
      ],
      "text/plain": [
       "Analyzing /home/s/Skola/exjobb/github_metric_extractor/out/repositories/TDD-Hangman/src/models/GameEngine.py\n"
      ]
     },
     "metadata": {},
     "output_type": "display_data"
    },
    {
     "data": {
      "text/html": [
       "<pre style=\"white-space:pre;overflow-x:auto;line-height:normal;font-family:Menlo,'DejaVu Sans Mono',consolas,'Courier New',monospace\">Analyzing /home/s/Skola/exjobb/github_metric_extractor/out/repositories/TDD-Hangman/src/models/__init__.py\n",
       "</pre>\n"
      ],
      "text/plain": [
       "Analyzing /home/s/Skola/exjobb/github_metric_extractor/out/repositories/TDD-Hangman/src/models/__init__.py\n"
      ]
     },
     "metadata": {},
     "output_type": "display_data"
    },
    {
     "data": {
      "text/html": [
       "<pre style=\"white-space:pre;overflow-x:auto;line-height:normal;font-family:Menlo,'DejaVu Sans Mono',consolas,'Courier New',monospace\">Analyzing /home/s/Skola/exjobb/github_metric_extractor/out/repositories/TDD-Hangman/src/other/__init__.py\n",
       "</pre>\n"
      ],
      "text/plain": [
       "Analyzing /home/s/Skola/exjobb/github_metric_extractor/out/repositories/TDD-Hangman/src/other/__init__.py\n"
      ]
     },
     "metadata": {},
     "output_type": "display_data"
    },
    {
     "data": {
      "text/html": [
       "<pre style=\"white-space:pre;overflow-x:auto;line-height:normal;font-family:Menlo,'DejaVu Sans Mono',consolas,'Courier New',monospace\">Analyzing /home/s/Skola/exjobb/github_metric_extractor/out/repositories/TDD-Hangman/tests/test_view.py\n",
       "</pre>\n"
      ],
      "text/plain": [
       "Analyzing /home/s/Skola/exjobb/github_metric_extractor/out/repositories/TDD-Hangman/tests/test_view.py\n"
      ]
     },
     "metadata": {},
     "output_type": "display_data"
    },
    {
     "data": {
      "text/html": [
       "<pre style=\"white-space:pre;overflow-x:auto;line-height:normal;font-family:Menlo,'DejaVu Sans Mono',consolas,'Courier New',monospace\">Analyzing /home/s/Skola/exjobb/github_metric_extractor/out/repositories/TDD-Hangman/tests/test_hangman.py\n",
       "</pre>\n"
      ],
      "text/plain": [
       "Analyzing /home/s/Skola/exjobb/github_metric_extractor/out/repositories/TDD-Hangman/tests/test_hangman.py\n"
      ]
     },
     "metadata": {},
     "output_type": "display_data"
    },
    {
     "data": {
      "text/html": [
       "<pre style=\"white-space:pre;overflow-x:auto;line-height:normal;font-family:Menlo,'DejaVu Sans Mono',consolas,'Courier New',monospace\">Analyzing /home/s/Skola/exjobb/github_metric_extractor/out/repositories/TDD-Hangman/tests/test_controller.py\n",
       "</pre>\n"
      ],
      "text/plain": [
       "Analyzing /home/s/Skola/exjobb/github_metric_extractor/out/repositories/TDD-Hangman/tests/test_controller.py\n"
      ]
     },
     "metadata": {},
     "output_type": "display_data"
    },
    {
     "data": {
      "text/html": [
       "<pre style=\"white-space:pre;overflow-x:auto;line-height:normal;font-family:Menlo,'DejaVu Sans Mono',consolas,'Courier New',monospace\">Analyzing /home/s/Skola/exjobb/github_metric_extractor/out/repositories/TDD-Hangman/tests/test_model.py\n",
       "</pre>\n"
      ],
      "text/plain": [
       "Analyzing /home/s/Skola/exjobb/github_metric_extractor/out/repositories/TDD-Hangman/tests/test_model.py\n"
      ]
     },
     "metadata": {},
     "output_type": "display_data"
    },
    {
     "data": {
      "text/html": [
       "<pre style=\"white-space:pre;overflow-x:auto;line-height:normal;font-family:Menlo,'DejaVu Sans Mono',consolas,'Courier New',monospace\">Analyzing /home/s/Skola/exjobb/github_metric_extractor/out/repositories/TDD-Hangman/tests/__init__.py\n",
       "</pre>\n"
      ],
      "text/plain": [
       "Analyzing /home/s/Skola/exjobb/github_metric_extractor/out/repositories/TDD-Hangman/tests/__init__.py\n"
      ]
     },
     "metadata": {},
     "output_type": "display_data"
    },
    {
     "data": {
      "text/html": [
       "<pre style=\"white-space:pre;overflow-x:auto;line-height:normal;font-family:Menlo,'DejaVu Sans Mono',consolas,'Courier New',monospace\">Analyzing /home/s/Skola/exjobb/github_metric_extractor/out/repositories/TDD-Hangman/src/hangman.py\n",
       "</pre>\n"
      ],
      "text/plain": [
       "Analyzing /home/s/Skola/exjobb/github_metric_extractor/out/repositories/TDD-Hangman/src/hangman.py\n"
      ]
     },
     "metadata": {},
     "output_type": "display_data"
    },
    {
     "data": {
      "text/html": [
       "<pre style=\"white-space:pre;overflow-x:auto;line-height:normal;font-family:Menlo,'DejaVu Sans Mono',consolas,'Courier New',monospace\">Analyzing /home/s/Skola/exjobb/github_metric_extractor/out/repositories/TDD-Hangman/src/views/GUI.py\n",
       "</pre>\n"
      ],
      "text/plain": [
       "Analyzing /home/s/Skola/exjobb/github_metric_extractor/out/repositories/TDD-Hangman/src/views/GUI.py\n"
      ]
     },
     "metadata": {},
     "output_type": "display_data"
    },
    {
     "data": {
      "text/html": [
       "<pre style=\"white-space:pre;overflow-x:auto;line-height:normal;font-family:Menlo,'DejaVu Sans Mono',consolas,'Courier New',monospace\">Analyzing /home/s/Skola/exjobb/github_metric_extractor/out/repositories/TDD-Hangman/src/views/__init__.py\n",
       "</pre>\n"
      ],
      "text/plain": [
       "Analyzing /home/s/Skola/exjobb/github_metric_extractor/out/repositories/TDD-Hangman/src/views/__init__.py\n"
      ]
     },
     "metadata": {},
     "output_type": "display_data"
    },
    {
     "data": {
      "text/html": [
       "<pre style=\"white-space:pre;overflow-x:auto;line-height:normal;font-family:Menlo,'DejaVu Sans Mono',consolas,'Courier New',monospace\">Analyzing /home/s/Skola/exjobb/github_metric_extractor/out/repositories/TDD-Hangman/src/controllers/Controller.py\n",
       "</pre>\n"
      ],
      "text/plain": [
       "Analyzing /home/s/Skola/exjobb/github_metric_extractor/out/repositories/TDD-Hangman/src/controllers/Controller.py\n"
      ]
     },
     "metadata": {},
     "output_type": "display_data"
    },
    {
     "data": {
      "text/html": [
       "<pre style=\"white-space:pre;overflow-x:auto;line-height:normal;font-family:Menlo,'DejaVu Sans Mono',consolas,'Courier New',monospace\">Analyzing /home/s/Skola/exjobb/github_metric_extractor/out/repositories/TDD-Hangman/src/controllers/__init__.py\n",
       "</pre>\n"
      ],
      "text/plain": [
       "Analyzing /home/s/Skola/exjobb/github_metric_extractor/out/repositories/TDD-Hangman/src/controllers/__init__.py\n"
      ]
     },
     "metadata": {},
     "output_type": "display_data"
    },
    {
     "data": {
      "text/html": [
       "<pre style=\"white-space:pre;overflow-x:auto;line-height:normal;font-family:Menlo,'DejaVu Sans Mono',consolas,'Courier New',monospace\">Analyzing /home/s/Skola/exjobb/github_metric_extractor/out/repositories/TDD-Hangman/src/models/GameEngine.py\n",
       "</pre>\n"
      ],
      "text/plain": [
       "Analyzing /home/s/Skola/exjobb/github_metric_extractor/out/repositories/TDD-Hangman/src/models/GameEngine.py\n"
      ]
     },
     "metadata": {},
     "output_type": "display_data"
    },
    {
     "data": {
      "text/html": [
       "<pre style=\"white-space:pre;overflow-x:auto;line-height:normal;font-family:Menlo,'DejaVu Sans Mono',consolas,'Courier New',monospace\">Analyzing /home/s/Skola/exjobb/github_metric_extractor/out/repositories/TDD-Hangman/src/models/__init__.py\n",
       "</pre>\n"
      ],
      "text/plain": [
       "Analyzing /home/s/Skola/exjobb/github_metric_extractor/out/repositories/TDD-Hangman/src/models/__init__.py\n"
      ]
     },
     "metadata": {},
     "output_type": "display_data"
    },
    {
     "data": {
      "text/html": [
       "<pre style=\"white-space:pre;overflow-x:auto;line-height:normal;font-family:Menlo,'DejaVu Sans Mono',consolas,'Courier New',monospace\">Analyzing /home/s/Skola/exjobb/github_metric_extractor/out/repositories/TDD-Hangman/src/other/__init__.py\n",
       "</pre>\n"
      ],
      "text/plain": [
       "Analyzing /home/s/Skola/exjobb/github_metric_extractor/out/repositories/TDD-Hangman/src/other/__init__.py\n"
      ]
     },
     "metadata": {},
     "output_type": "display_data"
    },
    {
     "data": {
      "text/html": [
       "<pre style=\"white-space:pre;overflow-x:auto;line-height:normal;font-family:Menlo,'DejaVu Sans Mono',consolas,'Courier New',monospace\">Analyzing /home/s/Skola/exjobb/github_metric_extractor/out/repositories/TDD-Hangman/tests/test_view.py\n",
       "</pre>\n"
      ],
      "text/plain": [
       "Analyzing /home/s/Skola/exjobb/github_metric_extractor/out/repositories/TDD-Hangman/tests/test_view.py\n"
      ]
     },
     "metadata": {},
     "output_type": "display_data"
    },
    {
     "data": {
      "text/html": [
       "<pre style=\"white-space:pre;overflow-x:auto;line-height:normal;font-family:Menlo,'DejaVu Sans Mono',consolas,'Courier New',monospace\">Analyzing /home/s/Skola/exjobb/github_metric_extractor/out/repositories/TDD-Hangman/tests/test_hangman.py\n",
       "</pre>\n"
      ],
      "text/plain": [
       "Analyzing /home/s/Skola/exjobb/github_metric_extractor/out/repositories/TDD-Hangman/tests/test_hangman.py\n"
      ]
     },
     "metadata": {},
     "output_type": "display_data"
    },
    {
     "data": {
      "text/html": [
       "<pre style=\"white-space:pre;overflow-x:auto;line-height:normal;font-family:Menlo,'DejaVu Sans Mono',consolas,'Courier New',monospace\">Analyzing /home/s/Skola/exjobb/github_metric_extractor/out/repositories/TDD-Hangman/tests/test_controller.py\n",
       "</pre>\n"
      ],
      "text/plain": [
       "Analyzing /home/s/Skola/exjobb/github_metric_extractor/out/repositories/TDD-Hangman/tests/test_controller.py\n"
      ]
     },
     "metadata": {},
     "output_type": "display_data"
    },
    {
     "data": {
      "text/html": [
       "<pre style=\"white-space:pre;overflow-x:auto;line-height:normal;font-family:Menlo,'DejaVu Sans Mono',consolas,'Courier New',monospace\">Analyzing /home/s/Skola/exjobb/github_metric_extractor/out/repositories/TDD-Hangman/tests/test_model.py\n",
       "</pre>\n"
      ],
      "text/plain": [
       "Analyzing /home/s/Skola/exjobb/github_metric_extractor/out/repositories/TDD-Hangman/tests/test_model.py\n"
      ]
     },
     "metadata": {},
     "output_type": "display_data"
    },
    {
     "data": {
      "text/html": [
       "<pre style=\"white-space:pre;overflow-x:auto;line-height:normal;font-family:Menlo,'DejaVu Sans Mono',consolas,'Courier New',monospace\">Analyzing /home/s/Skola/exjobb/github_metric_extractor/out/repositories/TDD-Hangman/tests/__init__.py\n",
       "</pre>\n"
      ],
      "text/plain": [
       "Analyzing /home/s/Skola/exjobb/github_metric_extractor/out/repositories/TDD-Hangman/tests/__init__.py\n"
      ]
     },
     "metadata": {},
     "output_type": "display_data"
    },
    {
     "data": {
      "text/html": [
       "<pre style=\"white-space:pre;overflow-x:auto;line-height:normal;font-family:Menlo,'DejaVu Sans Mono',consolas,'Courier New',monospace\">Analyzing /home/s/Skola/exjobb/github_metric_extractor/out/repositories/TDD-Hangman/src/hangman.py\n",
       "</pre>\n"
      ],
      "text/plain": [
       "Analyzing /home/s/Skola/exjobb/github_metric_extractor/out/repositories/TDD-Hangman/src/hangman.py\n"
      ]
     },
     "metadata": {},
     "output_type": "display_data"
    },
    {
     "data": {
      "text/html": [
       "<pre style=\"white-space:pre;overflow-x:auto;line-height:normal;font-family:Menlo,'DejaVu Sans Mono',consolas,'Courier New',monospace\">Analyzing /home/s/Skola/exjobb/github_metric_extractor/out/repositories/TDD-Hangman/src/views/GUI.py\n",
       "</pre>\n"
      ],
      "text/plain": [
       "Analyzing /home/s/Skola/exjobb/github_metric_extractor/out/repositories/TDD-Hangman/src/views/GUI.py\n"
      ]
     },
     "metadata": {},
     "output_type": "display_data"
    },
    {
     "data": {
      "text/html": [
       "<pre style=\"white-space:pre;overflow-x:auto;line-height:normal;font-family:Menlo,'DejaVu Sans Mono',consolas,'Courier New',monospace\">Analyzing /home/s/Skola/exjobb/github_metric_extractor/out/repositories/TDD-Hangman/src/views/__init__.py\n",
       "</pre>\n"
      ],
      "text/plain": [
       "Analyzing /home/s/Skola/exjobb/github_metric_extractor/out/repositories/TDD-Hangman/src/views/__init__.py\n"
      ]
     },
     "metadata": {},
     "output_type": "display_data"
    },
    {
     "data": {
      "text/html": [
       "<pre style=\"white-space:pre;overflow-x:auto;line-height:normal;font-family:Menlo,'DejaVu Sans Mono',consolas,'Courier New',monospace\">Analyzing /home/s/Skola/exjobb/github_metric_extractor/out/repositories/TDD-Hangman/src/controllers/Controller.py\n",
       "</pre>\n"
      ],
      "text/plain": [
       "Analyzing /home/s/Skola/exjobb/github_metric_extractor/out/repositories/TDD-Hangman/src/controllers/Controller.py\n"
      ]
     },
     "metadata": {},
     "output_type": "display_data"
    },
    {
     "data": {
      "text/html": [
       "<pre style=\"white-space:pre;overflow-x:auto;line-height:normal;font-family:Menlo,'DejaVu Sans Mono',consolas,'Courier New',monospace\">Analyzing /home/s/Skola/exjobb/github_metric_extractor/out/repositories/TDD-Hangman/src/controllers/__init__.py\n",
       "</pre>\n"
      ],
      "text/plain": [
       "Analyzing /home/s/Skola/exjobb/github_metric_extractor/out/repositories/TDD-Hangman/src/controllers/__init__.py\n"
      ]
     },
     "metadata": {},
     "output_type": "display_data"
    },
    {
     "data": {
      "text/html": [
       "<pre style=\"white-space:pre;overflow-x:auto;line-height:normal;font-family:Menlo,'DejaVu Sans Mono',consolas,'Courier New',monospace\">Analyzing /home/s/Skola/exjobb/github_metric_extractor/out/repositories/TDD-Hangman/src/models/GameEngine.py\n",
       "</pre>\n"
      ],
      "text/plain": [
       "Analyzing /home/s/Skola/exjobb/github_metric_extractor/out/repositories/TDD-Hangman/src/models/GameEngine.py\n"
      ]
     },
     "metadata": {},
     "output_type": "display_data"
    },
    {
     "data": {
      "text/html": [
       "<pre style=\"white-space:pre;overflow-x:auto;line-height:normal;font-family:Menlo,'DejaVu Sans Mono',consolas,'Courier New',monospace\">Analyzing /home/s/Skola/exjobb/github_metric_extractor/out/repositories/TDD-Hangman/src/models/__init__.py\n",
       "</pre>\n"
      ],
      "text/plain": [
       "Analyzing /home/s/Skola/exjobb/github_metric_extractor/out/repositories/TDD-Hangman/src/models/__init__.py\n"
      ]
     },
     "metadata": {},
     "output_type": "display_data"
    },
    {
     "data": {
      "text/html": [
       "<pre style=\"white-space:pre;overflow-x:auto;line-height:normal;font-family:Menlo,'DejaVu Sans Mono',consolas,'Courier New',monospace\">Analyzing /home/s/Skola/exjobb/github_metric_extractor/out/repositories/TDD-Hangman/src/other/__init__.py\n",
       "</pre>\n"
      ],
      "text/plain": [
       "Analyzing /home/s/Skola/exjobb/github_metric_extractor/out/repositories/TDD-Hangman/src/other/__init__.py\n"
      ]
     },
     "metadata": {},
     "output_type": "display_data"
    },
    {
     "data": {
      "text/html": [
       "<pre style=\"white-space:pre;overflow-x:auto;line-height:normal;font-family:Menlo,'DejaVu Sans Mono',consolas,'Courier New',monospace\">Analyzing /home/s/Skola/exjobb/github_metric_extractor/out/repositories/TDD-Hangman/tests/test_view.py\n",
       "</pre>\n"
      ],
      "text/plain": [
       "Analyzing /home/s/Skola/exjobb/github_metric_extractor/out/repositories/TDD-Hangman/tests/test_view.py\n"
      ]
     },
     "metadata": {},
     "output_type": "display_data"
    },
    {
     "data": {
      "text/html": [
       "<pre style=\"white-space:pre;overflow-x:auto;line-height:normal;font-family:Menlo,'DejaVu Sans Mono',consolas,'Courier New',monospace\">Analyzing /home/s/Skola/exjobb/github_metric_extractor/out/repositories/TDD-Hangman/tests/test_hangman.py\n",
       "</pre>\n"
      ],
      "text/plain": [
       "Analyzing /home/s/Skola/exjobb/github_metric_extractor/out/repositories/TDD-Hangman/tests/test_hangman.py\n"
      ]
     },
     "metadata": {},
     "output_type": "display_data"
    },
    {
     "data": {
      "text/html": [
       "<pre style=\"white-space:pre;overflow-x:auto;line-height:normal;font-family:Menlo,'DejaVu Sans Mono',consolas,'Courier New',monospace\">Analyzing /home/s/Skola/exjobb/github_metric_extractor/out/repositories/TDD-Hangman/tests/test_controller.py\n",
       "</pre>\n"
      ],
      "text/plain": [
       "Analyzing /home/s/Skola/exjobb/github_metric_extractor/out/repositories/TDD-Hangman/tests/test_controller.py\n"
      ]
     },
     "metadata": {},
     "output_type": "display_data"
    },
    {
     "data": {
      "text/html": [
       "<pre style=\"white-space:pre;overflow-x:auto;line-height:normal;font-family:Menlo,'DejaVu Sans Mono',consolas,'Courier New',monospace\">Syntax error in file TDD-Hangman/tests/test_hangman.py: expected '(' (&lt;unknown&gt;, line 71)\n",
       "</pre>\n"
      ],
      "text/plain": [
       "Syntax error in file TDD-Hangman/tests/test_hangman.py: expected '(' (<unknown>, line 71)\n"
      ]
     },
     "metadata": {},
     "output_type": "display_data"
    },
    {
     "data": {
      "text/html": [
       "<pre style=\"white-space:pre;overflow-x:auto;line-height:normal;font-family:Menlo,'DejaVu Sans Mono',consolas,'Courier New',monospace\">Analyzing /home/s/Skola/exjobb/github_metric_extractor/out/repositories/TDD-Hangman/tests/test_model.py\n",
       "</pre>\n"
      ],
      "text/plain": [
       "Analyzing /home/s/Skola/exjobb/github_metric_extractor/out/repositories/TDD-Hangman/tests/test_model.py\n"
      ]
     },
     "metadata": {},
     "output_type": "display_data"
    },
    {
     "data": {
      "text/html": [
       "<pre style=\"white-space:pre;overflow-x:auto;line-height:normal;font-family:Menlo,'DejaVu Sans Mono',consolas,'Courier New',monospace\">Analyzing /home/s/Skola/exjobb/github_metric_extractor/out/repositories/TDD-Hangman/tests/__init__.py\n",
       "</pre>\n"
      ],
      "text/plain": [
       "Analyzing /home/s/Skola/exjobb/github_metric_extractor/out/repositories/TDD-Hangman/tests/__init__.py\n"
      ]
     },
     "metadata": {},
     "output_type": "display_data"
    },
    {
     "data": {
      "text/html": [
       "<pre style=\"white-space:pre;overflow-x:auto;line-height:normal;font-family:Menlo,'DejaVu Sans Mono',consolas,'Courier New',monospace\">Analyzing /home/s/Skola/exjobb/github_metric_extractor/out/repositories/TDD-Hangman/src/hangman.py\n",
       "</pre>\n"
      ],
      "text/plain": [
       "Analyzing /home/s/Skola/exjobb/github_metric_extractor/out/repositories/TDD-Hangman/src/hangman.py\n"
      ]
     },
     "metadata": {},
     "output_type": "display_data"
    },
    {
     "data": {
      "text/html": [
       "<pre style=\"white-space:pre;overflow-x:auto;line-height:normal;font-family:Menlo,'DejaVu Sans Mono',consolas,'Courier New',monospace\">Analyzing /home/s/Skola/exjobb/github_metric_extractor/out/repositories/TDD-Hangman/src/views/GUI.py\n",
       "</pre>\n"
      ],
      "text/plain": [
       "Analyzing /home/s/Skola/exjobb/github_metric_extractor/out/repositories/TDD-Hangman/src/views/GUI.py\n"
      ]
     },
     "metadata": {},
     "output_type": "display_data"
    },
    {
     "data": {
      "text/html": [
       "<pre style=\"white-space:pre;overflow-x:auto;line-height:normal;font-family:Menlo,'DejaVu Sans Mono',consolas,'Courier New',monospace\">Analyzing /home/s/Skola/exjobb/github_metric_extractor/out/repositories/TDD-Hangman/src/views/__init__.py\n",
       "</pre>\n"
      ],
      "text/plain": [
       "Analyzing /home/s/Skola/exjobb/github_metric_extractor/out/repositories/TDD-Hangman/src/views/__init__.py\n"
      ]
     },
     "metadata": {},
     "output_type": "display_data"
    },
    {
     "data": {
      "text/html": [
       "<pre style=\"white-space:pre;overflow-x:auto;line-height:normal;font-family:Menlo,'DejaVu Sans Mono',consolas,'Courier New',monospace\">Analyzing /home/s/Skola/exjobb/github_metric_extractor/out/repositories/TDD-Hangman/src/controllers/Controller.py\n",
       "</pre>\n"
      ],
      "text/plain": [
       "Analyzing /home/s/Skola/exjobb/github_metric_extractor/out/repositories/TDD-Hangman/src/controllers/Controller.py\n"
      ]
     },
     "metadata": {},
     "output_type": "display_data"
    },
    {
     "data": {
      "text/html": [
       "<pre style=\"white-space:pre;overflow-x:auto;line-height:normal;font-family:Menlo,'DejaVu Sans Mono',consolas,'Courier New',monospace\">Analyzing /home/s/Skola/exjobb/github_metric_extractor/out/repositories/TDD-Hangman/src/controllers/__init__.py\n",
       "</pre>\n"
      ],
      "text/plain": [
       "Analyzing /home/s/Skola/exjobb/github_metric_extractor/out/repositories/TDD-Hangman/src/controllers/__init__.py\n"
      ]
     },
     "metadata": {},
     "output_type": "display_data"
    },
    {
     "data": {
      "text/html": [
       "<pre style=\"white-space:pre;overflow-x:auto;line-height:normal;font-family:Menlo,'DejaVu Sans Mono',consolas,'Courier New',monospace\">Analyzing /home/s/Skola/exjobb/github_metric_extractor/out/repositories/TDD-Hangman/src/models/GameEngine.py\n",
       "</pre>\n"
      ],
      "text/plain": [
       "Analyzing /home/s/Skola/exjobb/github_metric_extractor/out/repositories/TDD-Hangman/src/models/GameEngine.py\n"
      ]
     },
     "metadata": {},
     "output_type": "display_data"
    },
    {
     "data": {
      "text/html": [
       "<pre style=\"white-space:pre;overflow-x:auto;line-height:normal;font-family:Menlo,'DejaVu Sans Mono',consolas,'Courier New',monospace\">Analyzing /home/s/Skola/exjobb/github_metric_extractor/out/repositories/TDD-Hangman/src/models/__init__.py\n",
       "</pre>\n"
      ],
      "text/plain": [
       "Analyzing /home/s/Skola/exjobb/github_metric_extractor/out/repositories/TDD-Hangman/src/models/__init__.py\n"
      ]
     },
     "metadata": {},
     "output_type": "display_data"
    },
    {
     "data": {
      "text/html": [
       "<pre style=\"white-space:pre;overflow-x:auto;line-height:normal;font-family:Menlo,'DejaVu Sans Mono',consolas,'Courier New',monospace\">Analyzing /home/s/Skola/exjobb/github_metric_extractor/out/repositories/TDD-Hangman/src/other/__init__.py\n",
       "</pre>\n"
      ],
      "text/plain": [
       "Analyzing /home/s/Skola/exjobb/github_metric_extractor/out/repositories/TDD-Hangman/src/other/__init__.py\n"
      ]
     },
     "metadata": {},
     "output_type": "display_data"
    },
    {
     "data": {
      "text/html": [
       "<pre style=\"white-space:pre;overflow-x:auto;line-height:normal;font-family:Menlo,'DejaVu Sans Mono',consolas,'Courier New',monospace\">Analyzing /home/s/Skola/exjobb/github_metric_extractor/out/repositories/TDD-Hangman/tests/test_view.py\n",
       "</pre>\n"
      ],
      "text/plain": [
       "Analyzing /home/s/Skola/exjobb/github_metric_extractor/out/repositories/TDD-Hangman/tests/test_view.py\n"
      ]
     },
     "metadata": {},
     "output_type": "display_data"
    },
    {
     "data": {
      "text/html": [
       "<pre style=\"white-space:pre;overflow-x:auto;line-height:normal;font-family:Menlo,'DejaVu Sans Mono',consolas,'Courier New',monospace\">Analyzing /home/s/Skola/exjobb/github_metric_extractor/out/repositories/TDD-Hangman/tests/test_hangman.py\n",
       "</pre>\n"
      ],
      "text/plain": [
       "Analyzing /home/s/Skola/exjobb/github_metric_extractor/out/repositories/TDD-Hangman/tests/test_hangman.py\n"
      ]
     },
     "metadata": {},
     "output_type": "display_data"
    },
    {
     "data": {
      "text/html": [
       "<pre style=\"white-space:pre;overflow-x:auto;line-height:normal;font-family:Menlo,'DejaVu Sans Mono',consolas,'Courier New',monospace\">Analyzing /home/s/Skola/exjobb/github_metric_extractor/out/repositories/TDD-Hangman/tests/test_controller.py\n",
       "</pre>\n"
      ],
      "text/plain": [
       "Analyzing /home/s/Skola/exjobb/github_metric_extractor/out/repositories/TDD-Hangman/tests/test_controller.py\n"
      ]
     },
     "metadata": {},
     "output_type": "display_data"
    },
    {
     "data": {
      "text/html": [
       "<pre style=\"white-space:pre;overflow-x:auto;line-height:normal;font-family:Menlo,'DejaVu Sans Mono',consolas,'Courier New',monospace\">Analyzing /home/s/Skola/exjobb/github_metric_extractor/out/repositories/TDD-Hangman/tests/test_model.py\n",
       "</pre>\n"
      ],
      "text/plain": [
       "Analyzing /home/s/Skola/exjobb/github_metric_extractor/out/repositories/TDD-Hangman/tests/test_model.py\n"
      ]
     },
     "metadata": {},
     "output_type": "display_data"
    },
    {
     "data": {
      "text/html": [
       "<pre style=\"white-space:pre;overflow-x:auto;line-height:normal;font-family:Menlo,'DejaVu Sans Mono',consolas,'Courier New',monospace\">Analyzing /home/s/Skola/exjobb/github_metric_extractor/out/repositories/TDD-Hangman/tests/__init__.py\n",
       "</pre>\n"
      ],
      "text/plain": [
       "Analyzing /home/s/Skola/exjobb/github_metric_extractor/out/repositories/TDD-Hangman/tests/__init__.py\n"
      ]
     },
     "metadata": {},
     "output_type": "display_data"
    },
    {
     "data": {
      "text/html": [
       "<pre style=\"white-space:pre;overflow-x:auto;line-height:normal;font-family:Menlo,'DejaVu Sans Mono',consolas,'Courier New',monospace\">Analyzing /home/s/Skola/exjobb/github_metric_extractor/out/repositories/TDD-Hangman/src/hangman.py\n",
       "</pre>\n"
      ],
      "text/plain": [
       "Analyzing /home/s/Skola/exjobb/github_metric_extractor/out/repositories/TDD-Hangman/src/hangman.py\n"
      ]
     },
     "metadata": {},
     "output_type": "display_data"
    },
    {
     "data": {
      "text/html": [
       "<pre style=\"white-space:pre;overflow-x:auto;line-height:normal;font-family:Menlo,'DejaVu Sans Mono',consolas,'Courier New',monospace\">Analyzing /home/s/Skola/exjobb/github_metric_extractor/out/repositories/TDD-Hangman/src/views/GUI.py\n",
       "</pre>\n"
      ],
      "text/plain": [
       "Analyzing /home/s/Skola/exjobb/github_metric_extractor/out/repositories/TDD-Hangman/src/views/GUI.py\n"
      ]
     },
     "metadata": {},
     "output_type": "display_data"
    },
    {
     "data": {
      "text/html": [
       "<pre style=\"white-space:pre;overflow-x:auto;line-height:normal;font-family:Menlo,'DejaVu Sans Mono',consolas,'Courier New',monospace\">Analyzing /home/s/Skola/exjobb/github_metric_extractor/out/repositories/TDD-Hangman/src/views/__init__.py\n",
       "</pre>\n"
      ],
      "text/plain": [
       "Analyzing /home/s/Skola/exjobb/github_metric_extractor/out/repositories/TDD-Hangman/src/views/__init__.py\n"
      ]
     },
     "metadata": {},
     "output_type": "display_data"
    },
    {
     "data": {
      "text/html": [
       "<pre style=\"white-space:pre;overflow-x:auto;line-height:normal;font-family:Menlo,'DejaVu Sans Mono',consolas,'Courier New',monospace\">Analyzing /home/s/Skola/exjobb/github_metric_extractor/out/repositories/TDD-Hangman/src/controllers/Controller.py\n",
       "</pre>\n"
      ],
      "text/plain": [
       "Analyzing /home/s/Skola/exjobb/github_metric_extractor/out/repositories/TDD-Hangman/src/controllers/Controller.py\n"
      ]
     },
     "metadata": {},
     "output_type": "display_data"
    },
    {
     "data": {
      "text/html": [
       "<pre style=\"white-space:pre;overflow-x:auto;line-height:normal;font-family:Menlo,'DejaVu Sans Mono',consolas,'Courier New',monospace\">Analyzing /home/s/Skola/exjobb/github_metric_extractor/out/repositories/TDD-Hangman/src/controllers/__init__.py\n",
       "</pre>\n"
      ],
      "text/plain": [
       "Analyzing /home/s/Skola/exjobb/github_metric_extractor/out/repositories/TDD-Hangman/src/controllers/__init__.py\n"
      ]
     },
     "metadata": {},
     "output_type": "display_data"
    },
    {
     "data": {
      "text/html": [
       "<pre style=\"white-space:pre;overflow-x:auto;line-height:normal;font-family:Menlo,'DejaVu Sans Mono',consolas,'Courier New',monospace\">Analyzing /home/s/Skola/exjobb/github_metric_extractor/out/repositories/TDD-Hangman/src/models/GameEngine.py\n",
       "</pre>\n"
      ],
      "text/plain": [
       "Analyzing /home/s/Skola/exjobb/github_metric_extractor/out/repositories/TDD-Hangman/src/models/GameEngine.py\n"
      ]
     },
     "metadata": {},
     "output_type": "display_data"
    },
    {
     "data": {
      "text/html": [
       "<pre style=\"white-space:pre;overflow-x:auto;line-height:normal;font-family:Menlo,'DejaVu Sans Mono',consolas,'Courier New',monospace\">Analyzing /home/s/Skola/exjobb/github_metric_extractor/out/repositories/TDD-Hangman/src/models/__init__.py\n",
       "</pre>\n"
      ],
      "text/plain": [
       "Analyzing /home/s/Skola/exjobb/github_metric_extractor/out/repositories/TDD-Hangman/src/models/__init__.py\n"
      ]
     },
     "metadata": {},
     "output_type": "display_data"
    },
    {
     "data": {
      "text/html": [
       "<pre style=\"white-space:pre;overflow-x:auto;line-height:normal;font-family:Menlo,'DejaVu Sans Mono',consolas,'Courier New',monospace\">Analyzing /home/s/Skola/exjobb/github_metric_extractor/out/repositories/TDD-Hangman/src/other/__init__.py\n",
       "</pre>\n"
      ],
      "text/plain": [
       "Analyzing /home/s/Skola/exjobb/github_metric_extractor/out/repositories/TDD-Hangman/src/other/__init__.py\n"
      ]
     },
     "metadata": {},
     "output_type": "display_data"
    },
    {
     "data": {
      "text/html": [
       "<pre style=\"white-space:pre;overflow-x:auto;line-height:normal;font-family:Menlo,'DejaVu Sans Mono',consolas,'Courier New',monospace\">Analyzing /home/s/Skola/exjobb/github_metric_extractor/out/repositories/TDD-Hangman/tests/test_view.py\n",
       "</pre>\n"
      ],
      "text/plain": [
       "Analyzing /home/s/Skola/exjobb/github_metric_extractor/out/repositories/TDD-Hangman/tests/test_view.py\n"
      ]
     },
     "metadata": {},
     "output_type": "display_data"
    },
    {
     "data": {
      "text/html": [
       "<pre style=\"white-space:pre;overflow-x:auto;line-height:normal;font-family:Menlo,'DejaVu Sans Mono',consolas,'Courier New',monospace\">Analyzing /home/s/Skola/exjobb/github_metric_extractor/out/repositories/TDD-Hangman/tests/test_hangman.py\n",
       "</pre>\n"
      ],
      "text/plain": [
       "Analyzing /home/s/Skola/exjobb/github_metric_extractor/out/repositories/TDD-Hangman/tests/test_hangman.py\n"
      ]
     },
     "metadata": {},
     "output_type": "display_data"
    },
    {
     "data": {
      "text/html": [
       "<pre style=\"white-space:pre;overflow-x:auto;line-height:normal;font-family:Menlo,'DejaVu Sans Mono',consolas,'Courier New',monospace\">Analyzing /home/s/Skola/exjobb/github_metric_extractor/out/repositories/TDD-Hangman/tests/test_controller.py\n",
       "</pre>\n"
      ],
      "text/plain": [
       "Analyzing /home/s/Skola/exjobb/github_metric_extractor/out/repositories/TDD-Hangman/tests/test_controller.py\n"
      ]
     },
     "metadata": {},
     "output_type": "display_data"
    },
    {
     "data": {
      "text/html": [
       "<pre style=\"white-space:pre;overflow-x:auto;line-height:normal;font-family:Menlo,'DejaVu Sans Mono',consolas,'Courier New',monospace\">Analyzing /home/s/Skola/exjobb/github_metric_extractor/out/repositories/TDD-Hangman/tests/test_model.py\n",
       "</pre>\n"
      ],
      "text/plain": [
       "Analyzing /home/s/Skola/exjobb/github_metric_extractor/out/repositories/TDD-Hangman/tests/test_model.py\n"
      ]
     },
     "metadata": {},
     "output_type": "display_data"
    },
    {
     "data": {
      "text/html": [
       "<pre style=\"white-space:pre;overflow-x:auto;line-height:normal;font-family:Menlo,'DejaVu Sans Mono',consolas,'Courier New',monospace\">Analyzing /home/s/Skola/exjobb/github_metric_extractor/out/repositories/TDD-Hangman/tests/__init__.py\n",
       "</pre>\n"
      ],
      "text/plain": [
       "Analyzing /home/s/Skola/exjobb/github_metric_extractor/out/repositories/TDD-Hangman/tests/__init__.py\n"
      ]
     },
     "metadata": {},
     "output_type": "display_data"
    },
    {
     "data": {
      "text/html": [
       "<pre style=\"white-space:pre;overflow-x:auto;line-height:normal;font-family:Menlo,'DejaVu Sans Mono',consolas,'Courier New',monospace\">Analyzing /home/s/Skola/exjobb/github_metric_extractor/out/repositories/TDD-Hangman/src/hangman.py\n",
       "</pre>\n"
      ],
      "text/plain": [
       "Analyzing /home/s/Skola/exjobb/github_metric_extractor/out/repositories/TDD-Hangman/src/hangman.py\n"
      ]
     },
     "metadata": {},
     "output_type": "display_data"
    },
    {
     "data": {
      "text/html": [
       "<pre style=\"white-space:pre;overflow-x:auto;line-height:normal;font-family:Menlo,'DejaVu Sans Mono',consolas,'Courier New',monospace\">Analyzing /home/s/Skola/exjobb/github_metric_extractor/out/repositories/TDD-Hangman/src/views/GUI.py\n",
       "</pre>\n"
      ],
      "text/plain": [
       "Analyzing /home/s/Skola/exjobb/github_metric_extractor/out/repositories/TDD-Hangman/src/views/GUI.py\n"
      ]
     },
     "metadata": {},
     "output_type": "display_data"
    },
    {
     "data": {
      "text/html": [
       "<pre style=\"white-space:pre;overflow-x:auto;line-height:normal;font-family:Menlo,'DejaVu Sans Mono',consolas,'Courier New',monospace\">Analyzing /home/s/Skola/exjobb/github_metric_extractor/out/repositories/TDD-Hangman/src/views/__init__.py\n",
       "</pre>\n"
      ],
      "text/plain": [
       "Analyzing /home/s/Skola/exjobb/github_metric_extractor/out/repositories/TDD-Hangman/src/views/__init__.py\n"
      ]
     },
     "metadata": {},
     "output_type": "display_data"
    },
    {
     "data": {
      "text/html": [
       "<pre style=\"white-space:pre;overflow-x:auto;line-height:normal;font-family:Menlo,'DejaVu Sans Mono',consolas,'Courier New',monospace\">Analyzing /home/s/Skola/exjobb/github_metric_extractor/out/repositories/TDD-Hangman/src/controllers/Controller.py\n",
       "</pre>\n"
      ],
      "text/plain": [
       "Analyzing /home/s/Skola/exjobb/github_metric_extractor/out/repositories/TDD-Hangman/src/controllers/Controller.py\n"
      ]
     },
     "metadata": {},
     "output_type": "display_data"
    },
    {
     "data": {
      "text/html": [
       "<pre style=\"white-space:pre;overflow-x:auto;line-height:normal;font-family:Menlo,'DejaVu Sans Mono',consolas,'Courier New',monospace\">Analyzing /home/s/Skola/exjobb/github_metric_extractor/out/repositories/TDD-Hangman/src/controllers/__init__.py\n",
       "</pre>\n"
      ],
      "text/plain": [
       "Analyzing /home/s/Skola/exjobb/github_metric_extractor/out/repositories/TDD-Hangman/src/controllers/__init__.py\n"
      ]
     },
     "metadata": {},
     "output_type": "display_data"
    },
    {
     "data": {
      "text/html": [
       "<pre style=\"white-space:pre;overflow-x:auto;line-height:normal;font-family:Menlo,'DejaVu Sans Mono',consolas,'Courier New',monospace\">Analyzing /home/s/Skola/exjobb/github_metric_extractor/out/repositories/TDD-Hangman/src/models/GameEngine.py\n",
       "</pre>\n"
      ],
      "text/plain": [
       "Analyzing /home/s/Skola/exjobb/github_metric_extractor/out/repositories/TDD-Hangman/src/models/GameEngine.py\n"
      ]
     },
     "metadata": {},
     "output_type": "display_data"
    },
    {
     "data": {
      "text/html": [
       "<pre style=\"white-space:pre;overflow-x:auto;line-height:normal;font-family:Menlo,'DejaVu Sans Mono',consolas,'Courier New',monospace\">Analyzing /home/s/Skola/exjobb/github_metric_extractor/out/repositories/TDD-Hangman/src/models/__init__.py\n",
       "</pre>\n"
      ],
      "text/plain": [
       "Analyzing /home/s/Skola/exjobb/github_metric_extractor/out/repositories/TDD-Hangman/src/models/__init__.py\n"
      ]
     },
     "metadata": {},
     "output_type": "display_data"
    },
    {
     "data": {
      "text/html": [
       "<pre style=\"white-space:pre;overflow-x:auto;line-height:normal;font-family:Menlo,'DejaVu Sans Mono',consolas,'Courier New',monospace\">Analyzing /home/s/Skola/exjobb/github_metric_extractor/out/repositories/TDD-Hangman/src/other/__init__.py\n",
       "</pre>\n"
      ],
      "text/plain": [
       "Analyzing /home/s/Skola/exjobb/github_metric_extractor/out/repositories/TDD-Hangman/src/other/__init__.py\n"
      ]
     },
     "metadata": {},
     "output_type": "display_data"
    },
    {
     "data": {
      "text/html": [
       "<pre style=\"white-space:pre;overflow-x:auto;line-height:normal;font-family:Menlo,'DejaVu Sans Mono',consolas,'Courier New',monospace\">Analyzing /home/s/Skola/exjobb/github_metric_extractor/out/repositories/TDD-Hangman/tests/test_view.py\n",
       "</pre>\n"
      ],
      "text/plain": [
       "Analyzing /home/s/Skola/exjobb/github_metric_extractor/out/repositories/TDD-Hangman/tests/test_view.py\n"
      ]
     },
     "metadata": {},
     "output_type": "display_data"
    },
    {
     "data": {
      "text/html": [
       "<pre style=\"white-space:pre;overflow-x:auto;line-height:normal;font-family:Menlo,'DejaVu Sans Mono',consolas,'Courier New',monospace\">Analyzing /home/s/Skola/exjobb/github_metric_extractor/out/repositories/TDD-Hangman/tests/test_hangman.py\n",
       "</pre>\n"
      ],
      "text/plain": [
       "Analyzing /home/s/Skola/exjobb/github_metric_extractor/out/repositories/TDD-Hangman/tests/test_hangman.py\n"
      ]
     },
     "metadata": {},
     "output_type": "display_data"
    },
    {
     "data": {
      "text/html": [
       "<pre style=\"white-space:pre;overflow-x:auto;line-height:normal;font-family:Menlo,'DejaVu Sans Mono',consolas,'Courier New',monospace\">Analyzing /home/s/Skola/exjobb/github_metric_extractor/out/repositories/TDD-Hangman/tests/test_controller.py\n",
       "</pre>\n"
      ],
      "text/plain": [
       "Analyzing /home/s/Skola/exjobb/github_metric_extractor/out/repositories/TDD-Hangman/tests/test_controller.py\n"
      ]
     },
     "metadata": {},
     "output_type": "display_data"
    },
    {
     "data": {
      "text/html": [
       "<pre style=\"white-space:pre;overflow-x:auto;line-height:normal;font-family:Menlo,'DejaVu Sans Mono',consolas,'Courier New',monospace\">Analyzing /home/s/Skola/exjobb/github_metric_extractor/out/repositories/TDD-Hangman/tests/test_model.py\n",
       "</pre>\n"
      ],
      "text/plain": [
       "Analyzing /home/s/Skola/exjobb/github_metric_extractor/out/repositories/TDD-Hangman/tests/test_model.py\n"
      ]
     },
     "metadata": {},
     "output_type": "display_data"
    },
    {
     "data": {
      "text/html": [
       "<pre style=\"white-space:pre;overflow-x:auto;line-height:normal;font-family:Menlo,'DejaVu Sans Mono',consolas,'Courier New',monospace\">Analyzing /home/s/Skola/exjobb/github_metric_extractor/out/repositories/TDD-Hangman/tests/__init__.py\n",
       "</pre>\n"
      ],
      "text/plain": [
       "Analyzing /home/s/Skola/exjobb/github_metric_extractor/out/repositories/TDD-Hangman/tests/__init__.py\n"
      ]
     },
     "metadata": {},
     "output_type": "display_data"
    },
    {
     "data": {
      "text/html": [
       "<pre style=\"white-space:pre;overflow-x:auto;line-height:normal;font-family:Menlo,'DejaVu Sans Mono',consolas,'Courier New',monospace\">Analyzing /home/s/Skola/exjobb/github_metric_extractor/out/repositories/TDD-Hangman/src/hangman.py\n",
       "</pre>\n"
      ],
      "text/plain": [
       "Analyzing /home/s/Skola/exjobb/github_metric_extractor/out/repositories/TDD-Hangman/src/hangman.py\n"
      ]
     },
     "metadata": {},
     "output_type": "display_data"
    },
    {
     "data": {
      "text/html": [
       "<pre style=\"white-space:pre;overflow-x:auto;line-height:normal;font-family:Menlo,'DejaVu Sans Mono',consolas,'Courier New',monospace\">Analyzing /home/s/Skola/exjobb/github_metric_extractor/out/repositories/TDD-Hangman/src/views/GUI.py\n",
       "</pre>\n"
      ],
      "text/plain": [
       "Analyzing /home/s/Skola/exjobb/github_metric_extractor/out/repositories/TDD-Hangman/src/views/GUI.py\n"
      ]
     },
     "metadata": {},
     "output_type": "display_data"
    },
    {
     "data": {
      "text/html": [
       "<pre style=\"white-space:pre;overflow-x:auto;line-height:normal;font-family:Menlo,'DejaVu Sans Mono',consolas,'Courier New',monospace\">Analyzing /home/s/Skola/exjobb/github_metric_extractor/out/repositories/TDD-Hangman/src/views/__init__.py\n",
       "</pre>\n"
      ],
      "text/plain": [
       "Analyzing /home/s/Skola/exjobb/github_metric_extractor/out/repositories/TDD-Hangman/src/views/__init__.py\n"
      ]
     },
     "metadata": {},
     "output_type": "display_data"
    },
    {
     "data": {
      "text/html": [
       "<pre style=\"white-space:pre;overflow-x:auto;line-height:normal;font-family:Menlo,'DejaVu Sans Mono',consolas,'Courier New',monospace\">Analyzing /home/s/Skola/exjobb/github_metric_extractor/out/repositories/TDD-Hangman/src/controllers/Controller.py\n",
       "</pre>\n"
      ],
      "text/plain": [
       "Analyzing /home/s/Skola/exjobb/github_metric_extractor/out/repositories/TDD-Hangman/src/controllers/Controller.py\n"
      ]
     },
     "metadata": {},
     "output_type": "display_data"
    },
    {
     "data": {
      "text/html": [
       "<pre style=\"white-space:pre;overflow-x:auto;line-height:normal;font-family:Menlo,'DejaVu Sans Mono',consolas,'Courier New',monospace\">Analyzing /home/s/Skola/exjobb/github_metric_extractor/out/repositories/TDD-Hangman/src/controllers/__init__.py\n",
       "</pre>\n"
      ],
      "text/plain": [
       "Analyzing /home/s/Skola/exjobb/github_metric_extractor/out/repositories/TDD-Hangman/src/controllers/__init__.py\n"
      ]
     },
     "metadata": {},
     "output_type": "display_data"
    },
    {
     "data": {
      "text/html": [
       "<pre style=\"white-space:pre;overflow-x:auto;line-height:normal;font-family:Menlo,'DejaVu Sans Mono',consolas,'Courier New',monospace\">Analyzing /home/s/Skola/exjobb/github_metric_extractor/out/repositories/TDD-Hangman/src/models/GameEngine.py\n",
       "</pre>\n"
      ],
      "text/plain": [
       "Analyzing /home/s/Skola/exjobb/github_metric_extractor/out/repositories/TDD-Hangman/src/models/GameEngine.py\n"
      ]
     },
     "metadata": {},
     "output_type": "display_data"
    },
    {
     "data": {
      "text/html": [
       "<pre style=\"white-space:pre;overflow-x:auto;line-height:normal;font-family:Menlo,'DejaVu Sans Mono',consolas,'Courier New',monospace\">Analyzing /home/s/Skola/exjobb/github_metric_extractor/out/repositories/TDD-Hangman/src/models/__init__.py\n",
       "</pre>\n"
      ],
      "text/plain": [
       "Analyzing /home/s/Skola/exjobb/github_metric_extractor/out/repositories/TDD-Hangman/src/models/__init__.py\n"
      ]
     },
     "metadata": {},
     "output_type": "display_data"
    },
    {
     "data": {
      "text/html": [
       "<pre style=\"white-space:pre;overflow-x:auto;line-height:normal;font-family:Menlo,'DejaVu Sans Mono',consolas,'Courier New',monospace\">Analyzing /home/s/Skola/exjobb/github_metric_extractor/out/repositories/TDD-Hangman/src/other/__init__.py\n",
       "</pre>\n"
      ],
      "text/plain": [
       "Analyzing /home/s/Skola/exjobb/github_metric_extractor/out/repositories/TDD-Hangman/src/other/__init__.py\n"
      ]
     },
     "metadata": {},
     "output_type": "display_data"
    },
    {
     "data": {
      "text/html": [
       "<pre style=\"white-space:pre;overflow-x:auto;line-height:normal;font-family:Menlo,'DejaVu Sans Mono',consolas,'Courier New',monospace\">Analyzing /home/s/Skola/exjobb/github_metric_extractor/out/repositories/TDD-Hangman/tests/test_view.py\n",
       "</pre>\n"
      ],
      "text/plain": [
       "Analyzing /home/s/Skola/exjobb/github_metric_extractor/out/repositories/TDD-Hangman/tests/test_view.py\n"
      ]
     },
     "metadata": {},
     "output_type": "display_data"
    },
    {
     "data": {
      "text/html": [
       "<pre style=\"white-space:pre;overflow-x:auto;line-height:normal;font-family:Menlo,'DejaVu Sans Mono',consolas,'Courier New',monospace\">Analyzing /home/s/Skola/exjobb/github_metric_extractor/out/repositories/TDD-Hangman/tests/test_hangman.py\n",
       "</pre>\n"
      ],
      "text/plain": [
       "Analyzing /home/s/Skola/exjobb/github_metric_extractor/out/repositories/TDD-Hangman/tests/test_hangman.py\n"
      ]
     },
     "metadata": {},
     "output_type": "display_data"
    },
    {
     "data": {
      "text/html": [
       "<pre style=\"white-space:pre;overflow-x:auto;line-height:normal;font-family:Menlo,'DejaVu Sans Mono',consolas,'Courier New',monospace\">Analyzing /home/s/Skola/exjobb/github_metric_extractor/out/repositories/TDD-Hangman/tests/test_controller.py\n",
       "</pre>\n"
      ],
      "text/plain": [
       "Analyzing /home/s/Skola/exjobb/github_metric_extractor/out/repositories/TDD-Hangman/tests/test_controller.py\n"
      ]
     },
     "metadata": {},
     "output_type": "display_data"
    },
    {
     "data": {
      "text/html": [
       "<pre style=\"white-space:pre;overflow-x:auto;line-height:normal;font-family:Menlo,'DejaVu Sans Mono',consolas,'Courier New',monospace\">Analyzing /home/s/Skola/exjobb/github_metric_extractor/out/repositories/TDD-Hangman/tests/test_model.py\n",
       "</pre>\n"
      ],
      "text/plain": [
       "Analyzing /home/s/Skola/exjobb/github_metric_extractor/out/repositories/TDD-Hangman/tests/test_model.py\n"
      ]
     },
     "metadata": {},
     "output_type": "display_data"
    },
    {
     "data": {
      "text/html": [
       "<pre style=\"white-space:pre;overflow-x:auto;line-height:normal;font-family:Menlo,'DejaVu Sans Mono',consolas,'Courier New',monospace\">Analyzing /home/s/Skola/exjobb/github_metric_extractor/out/repositories/TDD-Hangman/tests/__init__.py\n",
       "</pre>\n"
      ],
      "text/plain": [
       "Analyzing /home/s/Skola/exjobb/github_metric_extractor/out/repositories/TDD-Hangman/tests/__init__.py\n"
      ]
     },
     "metadata": {},
     "output_type": "display_data"
    },
    {
     "data": {
      "text/html": [
       "<pre style=\"white-space:pre;overflow-x:auto;line-height:normal;font-family:Menlo,'DejaVu Sans Mono',consolas,'Courier New',monospace\">Analyzing /home/s/Skola/exjobb/github_metric_extractor/out/repositories/TDD-Hangman/src/hangman.py\n",
       "</pre>\n"
      ],
      "text/plain": [
       "Analyzing /home/s/Skola/exjobb/github_metric_extractor/out/repositories/TDD-Hangman/src/hangman.py\n"
      ]
     },
     "metadata": {},
     "output_type": "display_data"
    },
    {
     "data": {
      "text/html": [
       "<pre style=\"white-space:pre;overflow-x:auto;line-height:normal;font-family:Menlo,'DejaVu Sans Mono',consolas,'Courier New',monospace\">Analyzing /home/s/Skola/exjobb/github_metric_extractor/out/repositories/TDD-Hangman/src/views/GUI.py\n",
       "</pre>\n"
      ],
      "text/plain": [
       "Analyzing /home/s/Skola/exjobb/github_metric_extractor/out/repositories/TDD-Hangman/src/views/GUI.py\n"
      ]
     },
     "metadata": {},
     "output_type": "display_data"
    },
    {
     "data": {
      "text/html": [
       "<pre style=\"white-space:pre;overflow-x:auto;line-height:normal;font-family:Menlo,'DejaVu Sans Mono',consolas,'Courier New',monospace\">Analyzing /home/s/Skola/exjobb/github_metric_extractor/out/repositories/TDD-Hangman/src/views/__init__.py\n",
       "</pre>\n"
      ],
      "text/plain": [
       "Analyzing /home/s/Skola/exjobb/github_metric_extractor/out/repositories/TDD-Hangman/src/views/__init__.py\n"
      ]
     },
     "metadata": {},
     "output_type": "display_data"
    },
    {
     "data": {
      "text/html": [
       "<pre style=\"white-space:pre;overflow-x:auto;line-height:normal;font-family:Menlo,'DejaVu Sans Mono',consolas,'Courier New',monospace\">Analyzing /home/s/Skola/exjobb/github_metric_extractor/out/repositories/TDD-Hangman/src/controllers/Controller.py\n",
       "</pre>\n"
      ],
      "text/plain": [
       "Analyzing /home/s/Skola/exjobb/github_metric_extractor/out/repositories/TDD-Hangman/src/controllers/Controller.py\n"
      ]
     },
     "metadata": {},
     "output_type": "display_data"
    },
    {
     "data": {
      "text/html": [
       "<pre style=\"white-space:pre;overflow-x:auto;line-height:normal;font-family:Menlo,'DejaVu Sans Mono',consolas,'Courier New',monospace\">Analyzing /home/s/Skola/exjobb/github_metric_extractor/out/repositories/TDD-Hangman/src/controllers/__init__.py\n",
       "</pre>\n"
      ],
      "text/plain": [
       "Analyzing /home/s/Skola/exjobb/github_metric_extractor/out/repositories/TDD-Hangman/src/controllers/__init__.py\n"
      ]
     },
     "metadata": {},
     "output_type": "display_data"
    },
    {
     "data": {
      "text/html": [
       "<pre style=\"white-space:pre;overflow-x:auto;line-height:normal;font-family:Menlo,'DejaVu Sans Mono',consolas,'Courier New',monospace\">Analyzing /home/s/Skola/exjobb/github_metric_extractor/out/repositories/TDD-Hangman/src/models/GameEngine.py\n",
       "</pre>\n"
      ],
      "text/plain": [
       "Analyzing /home/s/Skola/exjobb/github_metric_extractor/out/repositories/TDD-Hangman/src/models/GameEngine.py\n"
      ]
     },
     "metadata": {},
     "output_type": "display_data"
    },
    {
     "data": {
      "text/html": [
       "<pre style=\"white-space:pre;overflow-x:auto;line-height:normal;font-family:Menlo,'DejaVu Sans Mono',consolas,'Courier New',monospace\">Analyzing /home/s/Skola/exjobb/github_metric_extractor/out/repositories/TDD-Hangman/src/models/__init__.py\n",
       "</pre>\n"
      ],
      "text/plain": [
       "Analyzing /home/s/Skola/exjobb/github_metric_extractor/out/repositories/TDD-Hangman/src/models/__init__.py\n"
      ]
     },
     "metadata": {},
     "output_type": "display_data"
    },
    {
     "data": {
      "text/html": [
       "<pre style=\"white-space:pre;overflow-x:auto;line-height:normal;font-family:Menlo,'DejaVu Sans Mono',consolas,'Courier New',monospace\">Analyzing /home/s/Skola/exjobb/github_metric_extractor/out/repositories/TDD-Hangman/src/other/__init__.py\n",
       "</pre>\n"
      ],
      "text/plain": [
       "Analyzing /home/s/Skola/exjobb/github_metric_extractor/out/repositories/TDD-Hangman/src/other/__init__.py\n"
      ]
     },
     "metadata": {},
     "output_type": "display_data"
    },
    {
     "data": {
      "text/html": [
       "<pre style=\"white-space:pre;overflow-x:auto;line-height:normal;font-family:Menlo,'DejaVu Sans Mono',consolas,'Courier New',monospace\">Analyzing /home/s/Skola/exjobb/github_metric_extractor/out/repositories/TDD-Hangman/tests/test_view.py\n",
       "</pre>\n"
      ],
      "text/plain": [
       "Analyzing /home/s/Skola/exjobb/github_metric_extractor/out/repositories/TDD-Hangman/tests/test_view.py\n"
      ]
     },
     "metadata": {},
     "output_type": "display_data"
    },
    {
     "data": {
      "text/html": [
       "<pre style=\"white-space:pre;overflow-x:auto;line-height:normal;font-family:Menlo,'DejaVu Sans Mono',consolas,'Courier New',monospace\">Analyzing /home/s/Skola/exjobb/github_metric_extractor/out/repositories/TDD-Hangman/tests/test_hangman.py\n",
       "</pre>\n"
      ],
      "text/plain": [
       "Analyzing /home/s/Skola/exjobb/github_metric_extractor/out/repositories/TDD-Hangman/tests/test_hangman.py\n"
      ]
     },
     "metadata": {},
     "output_type": "display_data"
    },
    {
     "data": {
      "text/html": [
       "<pre style=\"white-space:pre;overflow-x:auto;line-height:normal;font-family:Menlo,'DejaVu Sans Mono',consolas,'Courier New',monospace\">Analyzing /home/s/Skola/exjobb/github_metric_extractor/out/repositories/TDD-Hangman/tests/test_controller.py\n",
       "</pre>\n"
      ],
      "text/plain": [
       "Analyzing /home/s/Skola/exjobb/github_metric_extractor/out/repositories/TDD-Hangman/tests/test_controller.py\n"
      ]
     },
     "metadata": {},
     "output_type": "display_data"
    },
    {
     "data": {
      "text/html": [
       "<pre style=\"white-space:pre;overflow-x:auto;line-height:normal;font-family:Menlo,'DejaVu Sans Mono',consolas,'Courier New',monospace\">Analyzing /home/s/Skola/exjobb/github_metric_extractor/out/repositories/TDD-Hangman/tests/test_model.py\n",
       "</pre>\n"
      ],
      "text/plain": [
       "Analyzing /home/s/Skola/exjobb/github_metric_extractor/out/repositories/TDD-Hangman/tests/test_model.py\n"
      ]
     },
     "metadata": {},
     "output_type": "display_data"
    },
    {
     "data": {
      "text/html": [
       "<pre style=\"white-space:pre;overflow-x:auto;line-height:normal;font-family:Menlo,'DejaVu Sans Mono',consolas,'Courier New',monospace\">Analyzing /home/s/Skola/exjobb/github_metric_extractor/out/repositories/TDD-Hangman/tests/__init__.py\n",
       "</pre>\n"
      ],
      "text/plain": [
       "Analyzing /home/s/Skola/exjobb/github_metric_extractor/out/repositories/TDD-Hangman/tests/__init__.py\n"
      ]
     },
     "metadata": {},
     "output_type": "display_data"
    },
    {
     "data": {
      "text/html": [
       "<pre style=\"white-space:pre;overflow-x:auto;line-height:normal;font-family:Menlo,'DejaVu Sans Mono',consolas,'Courier New',monospace\">Analyzing /home/s/Skola/exjobb/github_metric_extractor/out/repositories/TDD-Hangman/src/hangman.py\n",
       "</pre>\n"
      ],
      "text/plain": [
       "Analyzing /home/s/Skola/exjobb/github_metric_extractor/out/repositories/TDD-Hangman/src/hangman.py\n"
      ]
     },
     "metadata": {},
     "output_type": "display_data"
    },
    {
     "data": {
      "text/html": [
       "<pre style=\"white-space:pre;overflow-x:auto;line-height:normal;font-family:Menlo,'DejaVu Sans Mono',consolas,'Courier New',monospace\">Analyzing /home/s/Skola/exjobb/github_metric_extractor/out/repositories/TDD-Hangman/src/views/GUI.py\n",
       "</pre>\n"
      ],
      "text/plain": [
       "Analyzing /home/s/Skola/exjobb/github_metric_extractor/out/repositories/TDD-Hangman/src/views/GUI.py\n"
      ]
     },
     "metadata": {},
     "output_type": "display_data"
    },
    {
     "data": {
      "text/html": [
       "<pre style=\"white-space:pre;overflow-x:auto;line-height:normal;font-family:Menlo,'DejaVu Sans Mono',consolas,'Courier New',monospace\">Analyzing /home/s/Skola/exjobb/github_metric_extractor/out/repositories/TDD-Hangman/src/views/__init__.py\n",
       "</pre>\n"
      ],
      "text/plain": [
       "Analyzing /home/s/Skola/exjobb/github_metric_extractor/out/repositories/TDD-Hangman/src/views/__init__.py\n"
      ]
     },
     "metadata": {},
     "output_type": "display_data"
    },
    {
     "data": {
      "text/html": [
       "<pre style=\"white-space:pre;overflow-x:auto;line-height:normal;font-family:Menlo,'DejaVu Sans Mono',consolas,'Courier New',monospace\">Analyzing /home/s/Skola/exjobb/github_metric_extractor/out/repositories/TDD-Hangman/src/controllers/Controller.py\n",
       "</pre>\n"
      ],
      "text/plain": [
       "Analyzing /home/s/Skola/exjobb/github_metric_extractor/out/repositories/TDD-Hangman/src/controllers/Controller.py\n"
      ]
     },
     "metadata": {},
     "output_type": "display_data"
    },
    {
     "data": {
      "text/html": [
       "<pre style=\"white-space:pre;overflow-x:auto;line-height:normal;font-family:Menlo,'DejaVu Sans Mono',consolas,'Courier New',monospace\">Analyzing /home/s/Skola/exjobb/github_metric_extractor/out/repositories/TDD-Hangman/src/controllers/__init__.py\n",
       "</pre>\n"
      ],
      "text/plain": [
       "Analyzing /home/s/Skola/exjobb/github_metric_extractor/out/repositories/TDD-Hangman/src/controllers/__init__.py\n"
      ]
     },
     "metadata": {},
     "output_type": "display_data"
    },
    {
     "data": {
      "text/html": [
       "<pre style=\"white-space:pre;overflow-x:auto;line-height:normal;font-family:Menlo,'DejaVu Sans Mono',consolas,'Courier New',monospace\">Analyzing /home/s/Skola/exjobb/github_metric_extractor/out/repositories/TDD-Hangman/src/models/GameEngine.py\n",
       "</pre>\n"
      ],
      "text/plain": [
       "Analyzing /home/s/Skola/exjobb/github_metric_extractor/out/repositories/TDD-Hangman/src/models/GameEngine.py\n"
      ]
     },
     "metadata": {},
     "output_type": "display_data"
    },
    {
     "data": {
      "text/html": [
       "<pre style=\"white-space:pre;overflow-x:auto;line-height:normal;font-family:Menlo,'DejaVu Sans Mono',consolas,'Courier New',monospace\">Analyzing /home/s/Skola/exjobb/github_metric_extractor/out/repositories/TDD-Hangman/src/models/__init__.py\n",
       "</pre>\n"
      ],
      "text/plain": [
       "Analyzing /home/s/Skola/exjobb/github_metric_extractor/out/repositories/TDD-Hangman/src/models/__init__.py\n"
      ]
     },
     "metadata": {},
     "output_type": "display_data"
    },
    {
     "data": {
      "text/html": [
       "<pre style=\"white-space:pre;overflow-x:auto;line-height:normal;font-family:Menlo,'DejaVu Sans Mono',consolas,'Courier New',monospace\">Analyzing /home/s/Skola/exjobb/github_metric_extractor/out/repositories/TDD-Hangman/src/other/__init__.py\n",
       "</pre>\n"
      ],
      "text/plain": [
       "Analyzing /home/s/Skola/exjobb/github_metric_extractor/out/repositories/TDD-Hangman/src/other/__init__.py\n"
      ]
     },
     "metadata": {},
     "output_type": "display_data"
    },
    {
     "data": {
      "text/html": [
       "<pre style=\"white-space:pre;overflow-x:auto;line-height:normal;font-family:Menlo,'DejaVu Sans Mono',consolas,'Courier New',monospace\">Analyzing /home/s/Skola/exjobb/github_metric_extractor/out/repositories/TDD-Hangman/tests/test_view.py\n",
       "</pre>\n"
      ],
      "text/plain": [
       "Analyzing /home/s/Skola/exjobb/github_metric_extractor/out/repositories/TDD-Hangman/tests/test_view.py\n"
      ]
     },
     "metadata": {},
     "output_type": "display_data"
    },
    {
     "data": {
      "text/html": [
       "<pre style=\"white-space:pre;overflow-x:auto;line-height:normal;font-family:Menlo,'DejaVu Sans Mono',consolas,'Courier New',monospace\">Analyzing /home/s/Skola/exjobb/github_metric_extractor/out/repositories/TDD-Hangman/tests/test_hangman.py\n",
       "</pre>\n"
      ],
      "text/plain": [
       "Analyzing /home/s/Skola/exjobb/github_metric_extractor/out/repositories/TDD-Hangman/tests/test_hangman.py\n"
      ]
     },
     "metadata": {},
     "output_type": "display_data"
    },
    {
     "data": {
      "text/html": [
       "<pre style=\"white-space:pre;overflow-x:auto;line-height:normal;font-family:Menlo,'DejaVu Sans Mono',consolas,'Courier New',monospace\">Analyzing /home/s/Skola/exjobb/github_metric_extractor/out/repositories/TDD-Hangman/tests/test_controller.py\n",
       "</pre>\n"
      ],
      "text/plain": [
       "Analyzing /home/s/Skola/exjobb/github_metric_extractor/out/repositories/TDD-Hangman/tests/test_controller.py\n"
      ]
     },
     "metadata": {},
     "output_type": "display_data"
    },
    {
     "data": {
      "text/html": [
       "<pre style=\"white-space:pre;overflow-x:auto;line-height:normal;font-family:Menlo,'DejaVu Sans Mono',consolas,'Courier New',monospace\">Analyzing /home/s/Skola/exjobb/github_metric_extractor/out/repositories/TDD-Hangman/tests/test_model.py\n",
       "</pre>\n"
      ],
      "text/plain": [
       "Analyzing /home/s/Skola/exjobb/github_metric_extractor/out/repositories/TDD-Hangman/tests/test_model.py\n"
      ]
     },
     "metadata": {},
     "output_type": "display_data"
    },
    {
     "data": {
      "text/html": [
       "<pre style=\"white-space:pre;overflow-x:auto;line-height:normal;font-family:Menlo,'DejaVu Sans Mono',consolas,'Courier New',monospace\">Analyzing /home/s/Skola/exjobb/github_metric_extractor/out/repositories/TDD-Hangman/tests/__init__.py\n",
       "</pre>\n"
      ],
      "text/plain": [
       "Analyzing /home/s/Skola/exjobb/github_metric_extractor/out/repositories/TDD-Hangman/tests/__init__.py\n"
      ]
     },
     "metadata": {},
     "output_type": "display_data"
    },
    {
     "data": {
      "text/html": [
       "<pre style=\"white-space:pre;overflow-x:auto;line-height:normal;font-family:Menlo,'DejaVu Sans Mono',consolas,'Courier New',monospace\">Analyzing /home/s/Skola/exjobb/github_metric_extractor/out/repositories/TDD-Hangman/src/hangman.py\n",
       "</pre>\n"
      ],
      "text/plain": [
       "Analyzing /home/s/Skola/exjobb/github_metric_extractor/out/repositories/TDD-Hangman/src/hangman.py\n"
      ]
     },
     "metadata": {},
     "output_type": "display_data"
    },
    {
     "data": {
      "text/html": [
       "<pre style=\"white-space:pre;overflow-x:auto;line-height:normal;font-family:Menlo,'DejaVu Sans Mono',consolas,'Courier New',monospace\">Analyzing /home/s/Skola/exjobb/github_metric_extractor/out/repositories/TDD-Hangman/src/views/GUI.py\n",
       "</pre>\n"
      ],
      "text/plain": [
       "Analyzing /home/s/Skola/exjobb/github_metric_extractor/out/repositories/TDD-Hangman/src/views/GUI.py\n"
      ]
     },
     "metadata": {},
     "output_type": "display_data"
    },
    {
     "data": {
      "text/html": [
       "<pre style=\"white-space:pre;overflow-x:auto;line-height:normal;font-family:Menlo,'DejaVu Sans Mono',consolas,'Courier New',monospace\">Analyzing /home/s/Skola/exjobb/github_metric_extractor/out/repositories/TDD-Hangman/src/views/__init__.py\n",
       "</pre>\n"
      ],
      "text/plain": [
       "Analyzing /home/s/Skola/exjobb/github_metric_extractor/out/repositories/TDD-Hangman/src/views/__init__.py\n"
      ]
     },
     "metadata": {},
     "output_type": "display_data"
    },
    {
     "data": {
      "text/html": [
       "<pre style=\"white-space:pre;overflow-x:auto;line-height:normal;font-family:Menlo,'DejaVu Sans Mono',consolas,'Courier New',monospace\">Analyzing /home/s/Skola/exjobb/github_metric_extractor/out/repositories/TDD-Hangman/src/controllers/Controller.py\n",
       "</pre>\n"
      ],
      "text/plain": [
       "Analyzing /home/s/Skola/exjobb/github_metric_extractor/out/repositories/TDD-Hangman/src/controllers/Controller.py\n"
      ]
     },
     "metadata": {},
     "output_type": "display_data"
    },
    {
     "data": {
      "text/html": [
       "<pre style=\"white-space:pre;overflow-x:auto;line-height:normal;font-family:Menlo,'DejaVu Sans Mono',consolas,'Courier New',monospace\">Analyzing /home/s/Skola/exjobb/github_metric_extractor/out/repositories/TDD-Hangman/src/controllers/__init__.py\n",
       "</pre>\n"
      ],
      "text/plain": [
       "Analyzing /home/s/Skola/exjobb/github_metric_extractor/out/repositories/TDD-Hangman/src/controllers/__init__.py\n"
      ]
     },
     "metadata": {},
     "output_type": "display_data"
    },
    {
     "data": {
      "text/html": [
       "<pre style=\"white-space:pre;overflow-x:auto;line-height:normal;font-family:Menlo,'DejaVu Sans Mono',consolas,'Courier New',monospace\">Analyzing /home/s/Skola/exjobb/github_metric_extractor/out/repositories/TDD-Hangman/src/models/GameEngine.py\n",
       "</pre>\n"
      ],
      "text/plain": [
       "Analyzing /home/s/Skola/exjobb/github_metric_extractor/out/repositories/TDD-Hangman/src/models/GameEngine.py\n"
      ]
     },
     "metadata": {},
     "output_type": "display_data"
    },
    {
     "data": {
      "text/html": [
       "<pre style=\"white-space:pre;overflow-x:auto;line-height:normal;font-family:Menlo,'DejaVu Sans Mono',consolas,'Courier New',monospace\">Analyzing /home/s/Skola/exjobb/github_metric_extractor/out/repositories/TDD-Hangman/src/models/__init__.py\n",
       "</pre>\n"
      ],
      "text/plain": [
       "Analyzing /home/s/Skola/exjobb/github_metric_extractor/out/repositories/TDD-Hangman/src/models/__init__.py\n"
      ]
     },
     "metadata": {},
     "output_type": "display_data"
    },
    {
     "data": {
      "text/html": [
       "<pre style=\"white-space:pre;overflow-x:auto;line-height:normal;font-family:Menlo,'DejaVu Sans Mono',consolas,'Courier New',monospace\">Analyzing /home/s/Skola/exjobb/github_metric_extractor/out/repositories/TDD-Hangman/src/other/__init__.py\n",
       "</pre>\n"
      ],
      "text/plain": [
       "Analyzing /home/s/Skola/exjobb/github_metric_extractor/out/repositories/TDD-Hangman/src/other/__init__.py\n"
      ]
     },
     "metadata": {},
     "output_type": "display_data"
    },
    {
     "data": {
      "text/html": [
       "<pre style=\"white-space:pre;overflow-x:auto;line-height:normal;font-family:Menlo,'DejaVu Sans Mono',consolas,'Courier New',monospace\">Analyzing /home/s/Skola/exjobb/github_metric_extractor/out/repositories/TDD-Hangman/tests/test_view.py\n",
       "</pre>\n"
      ],
      "text/plain": [
       "Analyzing /home/s/Skola/exjobb/github_metric_extractor/out/repositories/TDD-Hangman/tests/test_view.py\n"
      ]
     },
     "metadata": {},
     "output_type": "display_data"
    },
    {
     "data": {
      "text/html": [
       "<pre style=\"white-space:pre;overflow-x:auto;line-height:normal;font-family:Menlo,'DejaVu Sans Mono',consolas,'Courier New',monospace\">Analyzing /home/s/Skola/exjobb/github_metric_extractor/out/repositories/TDD-Hangman/tests/test_hangman.py\n",
       "</pre>\n"
      ],
      "text/plain": [
       "Analyzing /home/s/Skola/exjobb/github_metric_extractor/out/repositories/TDD-Hangman/tests/test_hangman.py\n"
      ]
     },
     "metadata": {},
     "output_type": "display_data"
    },
    {
     "data": {
      "text/html": [
       "<pre style=\"white-space:pre;overflow-x:auto;line-height:normal;font-family:Menlo,'DejaVu Sans Mono',consolas,'Courier New',monospace\">Analyzing /home/s/Skola/exjobb/github_metric_extractor/out/repositories/TDD-Hangman/tests/test_controller.py\n",
       "</pre>\n"
      ],
      "text/plain": [
       "Analyzing /home/s/Skola/exjobb/github_metric_extractor/out/repositories/TDD-Hangman/tests/test_controller.py\n"
      ]
     },
     "metadata": {},
     "output_type": "display_data"
    },
    {
     "data": {
      "text/html": [
       "<pre style=\"white-space:pre;overflow-x:auto;line-height:normal;font-family:Menlo,'DejaVu Sans Mono',consolas,'Courier New',monospace\">Analyzing /home/s/Skola/exjobb/github_metric_extractor/out/repositories/TDD-Hangman/tests/test_model.py\n",
       "</pre>\n"
      ],
      "text/plain": [
       "Analyzing /home/s/Skola/exjobb/github_metric_extractor/out/repositories/TDD-Hangman/tests/test_model.py\n"
      ]
     },
     "metadata": {},
     "output_type": "display_data"
    },
    {
     "data": {
      "text/html": [
       "<pre style=\"white-space:pre;overflow-x:auto;line-height:normal;font-family:Menlo,'DejaVu Sans Mono',consolas,'Courier New',monospace\">Analyzing /home/s/Skola/exjobb/github_metric_extractor/out/repositories/TDD-Hangman/tests/__init__.py\n",
       "</pre>\n"
      ],
      "text/plain": [
       "Analyzing /home/s/Skola/exjobb/github_metric_extractor/out/repositories/TDD-Hangman/tests/__init__.py\n"
      ]
     },
     "metadata": {},
     "output_type": "display_data"
    },
    {
     "data": {
      "text/html": [
       "<pre style=\"white-space:pre;overflow-x:auto;line-height:normal;font-family:Menlo,'DejaVu Sans Mono',consolas,'Courier New',monospace\">Analyzing /home/s/Skola/exjobb/github_metric_extractor/out/repositories/TDD-Hangman/src/hangman.py\n",
       "</pre>\n"
      ],
      "text/plain": [
       "Analyzing /home/s/Skola/exjobb/github_metric_extractor/out/repositories/TDD-Hangman/src/hangman.py\n"
      ]
     },
     "metadata": {},
     "output_type": "display_data"
    },
    {
     "data": {
      "text/html": [
       "<pre style=\"white-space:pre;overflow-x:auto;line-height:normal;font-family:Menlo,'DejaVu Sans Mono',consolas,'Courier New',monospace\">Analyzing /home/s/Skola/exjobb/github_metric_extractor/out/repositories/TDD-Hangman/src/views/GUI.py\n",
       "</pre>\n"
      ],
      "text/plain": [
       "Analyzing /home/s/Skola/exjobb/github_metric_extractor/out/repositories/TDD-Hangman/src/views/GUI.py\n"
      ]
     },
     "metadata": {},
     "output_type": "display_data"
    },
    {
     "data": {
      "text/html": [
       "<pre style=\"white-space:pre;overflow-x:auto;line-height:normal;font-family:Menlo,'DejaVu Sans Mono',consolas,'Courier New',monospace\">Analyzing /home/s/Skola/exjobb/github_metric_extractor/out/repositories/TDD-Hangman/src/views/__init__.py\n",
       "</pre>\n"
      ],
      "text/plain": [
       "Analyzing /home/s/Skola/exjobb/github_metric_extractor/out/repositories/TDD-Hangman/src/views/__init__.py\n"
      ]
     },
     "metadata": {},
     "output_type": "display_data"
    },
    {
     "data": {
      "text/html": [
       "<pre style=\"white-space:pre;overflow-x:auto;line-height:normal;font-family:Menlo,'DejaVu Sans Mono',consolas,'Courier New',monospace\">Analyzing /home/s/Skola/exjobb/github_metric_extractor/out/repositories/TDD-Hangman/src/controllers/Controller.py\n",
       "</pre>\n"
      ],
      "text/plain": [
       "Analyzing /home/s/Skola/exjobb/github_metric_extractor/out/repositories/TDD-Hangman/src/controllers/Controller.py\n"
      ]
     },
     "metadata": {},
     "output_type": "display_data"
    },
    {
     "data": {
      "text/html": [
       "<pre style=\"white-space:pre;overflow-x:auto;line-height:normal;font-family:Menlo,'DejaVu Sans Mono',consolas,'Courier New',monospace\">Analyzing /home/s/Skola/exjobb/github_metric_extractor/out/repositories/TDD-Hangman/src/controllers/__init__.py\n",
       "</pre>\n"
      ],
      "text/plain": [
       "Analyzing /home/s/Skola/exjobb/github_metric_extractor/out/repositories/TDD-Hangman/src/controllers/__init__.py\n"
      ]
     },
     "metadata": {},
     "output_type": "display_data"
    },
    {
     "data": {
      "text/html": [
       "<pre style=\"white-space:pre;overflow-x:auto;line-height:normal;font-family:Menlo,'DejaVu Sans Mono',consolas,'Courier New',monospace\">Analyzing /home/s/Skola/exjobb/github_metric_extractor/out/repositories/TDD-Hangman/src/models/GameEngine.py\n",
       "</pre>\n"
      ],
      "text/plain": [
       "Analyzing /home/s/Skola/exjobb/github_metric_extractor/out/repositories/TDD-Hangman/src/models/GameEngine.py\n"
      ]
     },
     "metadata": {},
     "output_type": "display_data"
    },
    {
     "data": {
      "text/html": [
       "<pre style=\"white-space:pre;overflow-x:auto;line-height:normal;font-family:Menlo,'DejaVu Sans Mono',consolas,'Courier New',monospace\">Analyzing /home/s/Skola/exjobb/github_metric_extractor/out/repositories/TDD-Hangman/src/models/__init__.py\n",
       "</pre>\n"
      ],
      "text/plain": [
       "Analyzing /home/s/Skola/exjobb/github_metric_extractor/out/repositories/TDD-Hangman/src/models/__init__.py\n"
      ]
     },
     "metadata": {},
     "output_type": "display_data"
    },
    {
     "data": {
      "text/html": [
       "<pre style=\"white-space:pre;overflow-x:auto;line-height:normal;font-family:Menlo,'DejaVu Sans Mono',consolas,'Courier New',monospace\">Analyzing /home/s/Skola/exjobb/github_metric_extractor/out/repositories/TDD-Hangman/src/other/__init__.py\n",
       "</pre>\n"
      ],
      "text/plain": [
       "Analyzing /home/s/Skola/exjobb/github_metric_extractor/out/repositories/TDD-Hangman/src/other/__init__.py\n"
      ]
     },
     "metadata": {},
     "output_type": "display_data"
    },
    {
     "data": {
      "text/html": [
       "<pre style=\"white-space:pre;overflow-x:auto;line-height:normal;font-family:Menlo,'DejaVu Sans Mono',consolas,'Courier New',monospace\">Analyzing /home/s/Skola/exjobb/github_metric_extractor/out/repositories/TDD-Hangman/tests/test_view.py\n",
       "</pre>\n"
      ],
      "text/plain": [
       "Analyzing /home/s/Skola/exjobb/github_metric_extractor/out/repositories/TDD-Hangman/tests/test_view.py\n"
      ]
     },
     "metadata": {},
     "output_type": "display_data"
    },
    {
     "data": {
      "text/html": [
       "<pre style=\"white-space:pre;overflow-x:auto;line-height:normal;font-family:Menlo,'DejaVu Sans Mono',consolas,'Courier New',monospace\">Analyzing /home/s/Skola/exjobb/github_metric_extractor/out/repositories/TDD-Hangman/tests/test_hangman.py\n",
       "</pre>\n"
      ],
      "text/plain": [
       "Analyzing /home/s/Skola/exjobb/github_metric_extractor/out/repositories/TDD-Hangman/tests/test_hangman.py\n"
      ]
     },
     "metadata": {},
     "output_type": "display_data"
    },
    {
     "data": {
      "text/html": [
       "<pre style=\"white-space:pre;overflow-x:auto;line-height:normal;font-family:Menlo,'DejaVu Sans Mono',consolas,'Courier New',monospace\">Analyzing /home/s/Skola/exjobb/github_metric_extractor/out/repositories/TDD-Hangman/tests/test_controller.py\n",
       "</pre>\n"
      ],
      "text/plain": [
       "Analyzing /home/s/Skola/exjobb/github_metric_extractor/out/repositories/TDD-Hangman/tests/test_controller.py\n"
      ]
     },
     "metadata": {},
     "output_type": "display_data"
    },
    {
     "data": {
      "text/html": [
       "<pre style=\"white-space:pre;overflow-x:auto;line-height:normal;font-family:Menlo,'DejaVu Sans Mono',consolas,'Courier New',monospace\">Analyzing /home/s/Skola/exjobb/github_metric_extractor/out/repositories/TDD-Hangman/tests/test_model.py\n",
       "</pre>\n"
      ],
      "text/plain": [
       "Analyzing /home/s/Skola/exjobb/github_metric_extractor/out/repositories/TDD-Hangman/tests/test_model.py\n"
      ]
     },
     "metadata": {},
     "output_type": "display_data"
    },
    {
     "data": {
      "text/html": [
       "<pre style=\"white-space:pre;overflow-x:auto;line-height:normal;font-family:Menlo,'DejaVu Sans Mono',consolas,'Courier New',monospace\">Analyzing /home/s/Skola/exjobb/github_metric_extractor/out/repositories/TDD-Hangman/tests/__init__.py\n",
       "</pre>\n"
      ],
      "text/plain": [
       "Analyzing /home/s/Skola/exjobb/github_metric_extractor/out/repositories/TDD-Hangman/tests/__init__.py\n"
      ]
     },
     "metadata": {},
     "output_type": "display_data"
    },
    {
     "data": {
      "text/html": [
       "<pre style=\"white-space:pre;overflow-x:auto;line-height:normal;font-family:Menlo,'DejaVu Sans Mono',consolas,'Courier New',monospace\">Analyzing /home/s/Skola/exjobb/github_metric_extractor/out/repositories/TDD-Hangman/src/hangman.py\n",
       "</pre>\n"
      ],
      "text/plain": [
       "Analyzing /home/s/Skola/exjobb/github_metric_extractor/out/repositories/TDD-Hangman/src/hangman.py\n"
      ]
     },
     "metadata": {},
     "output_type": "display_data"
    },
    {
     "data": {
      "text/html": [
       "<pre style=\"white-space:pre;overflow-x:auto;line-height:normal;font-family:Menlo,'DejaVu Sans Mono',consolas,'Courier New',monospace\">Analyzing /home/s/Skola/exjobb/github_metric_extractor/out/repositories/TDD-Hangman/src/views/GUI.py\n",
       "</pre>\n"
      ],
      "text/plain": [
       "Analyzing /home/s/Skola/exjobb/github_metric_extractor/out/repositories/TDD-Hangman/src/views/GUI.py\n"
      ]
     },
     "metadata": {},
     "output_type": "display_data"
    },
    {
     "data": {
      "text/html": [
       "<pre style=\"white-space:pre;overflow-x:auto;line-height:normal;font-family:Menlo,'DejaVu Sans Mono',consolas,'Courier New',monospace\">Analyzing /home/s/Skola/exjobb/github_metric_extractor/out/repositories/TDD-Hangman/src/views/__init__.py\n",
       "</pre>\n"
      ],
      "text/plain": [
       "Analyzing /home/s/Skola/exjobb/github_metric_extractor/out/repositories/TDD-Hangman/src/views/__init__.py\n"
      ]
     },
     "metadata": {},
     "output_type": "display_data"
    },
    {
     "data": {
      "text/html": [
       "<pre style=\"white-space:pre;overflow-x:auto;line-height:normal;font-family:Menlo,'DejaVu Sans Mono',consolas,'Courier New',monospace\">Analyzing /home/s/Skola/exjobb/github_metric_extractor/out/repositories/TDD-Hangman/src/controllers/Controller.py\n",
       "</pre>\n"
      ],
      "text/plain": [
       "Analyzing /home/s/Skola/exjobb/github_metric_extractor/out/repositories/TDD-Hangman/src/controllers/Controller.py\n"
      ]
     },
     "metadata": {},
     "output_type": "display_data"
    },
    {
     "data": {
      "text/html": [
       "<pre style=\"white-space:pre;overflow-x:auto;line-height:normal;font-family:Menlo,'DejaVu Sans Mono',consolas,'Courier New',monospace\">Analyzing /home/s/Skola/exjobb/github_metric_extractor/out/repositories/TDD-Hangman/src/controllers/__init__.py\n",
       "</pre>\n"
      ],
      "text/plain": [
       "Analyzing /home/s/Skola/exjobb/github_metric_extractor/out/repositories/TDD-Hangman/src/controllers/__init__.py\n"
      ]
     },
     "metadata": {},
     "output_type": "display_data"
    },
    {
     "data": {
      "text/html": [
       "<pre style=\"white-space:pre;overflow-x:auto;line-height:normal;font-family:Menlo,'DejaVu Sans Mono',consolas,'Courier New',monospace\">Analyzing /home/s/Skola/exjobb/github_metric_extractor/out/repositories/TDD-Hangman/src/models/GameEngine.py\n",
       "</pre>\n"
      ],
      "text/plain": [
       "Analyzing /home/s/Skola/exjobb/github_metric_extractor/out/repositories/TDD-Hangman/src/models/GameEngine.py\n"
      ]
     },
     "metadata": {},
     "output_type": "display_data"
    },
    {
     "data": {
      "text/html": [
       "<pre style=\"white-space:pre;overflow-x:auto;line-height:normal;font-family:Menlo,'DejaVu Sans Mono',consolas,'Courier New',monospace\">Analyzing /home/s/Skola/exjobb/github_metric_extractor/out/repositories/TDD-Hangman/src/models/__init__.py\n",
       "</pre>\n"
      ],
      "text/plain": [
       "Analyzing /home/s/Skola/exjobb/github_metric_extractor/out/repositories/TDD-Hangman/src/models/__init__.py\n"
      ]
     },
     "metadata": {},
     "output_type": "display_data"
    },
    {
     "data": {
      "text/html": [
       "<pre style=\"white-space:pre;overflow-x:auto;line-height:normal;font-family:Menlo,'DejaVu Sans Mono',consolas,'Courier New',monospace\">Analyzing /home/s/Skola/exjobb/github_metric_extractor/out/repositories/TDD-Hangman/src/other/__init__.py\n",
       "</pre>\n"
      ],
      "text/plain": [
       "Analyzing /home/s/Skola/exjobb/github_metric_extractor/out/repositories/TDD-Hangman/src/other/__init__.py\n"
      ]
     },
     "metadata": {},
     "output_type": "display_data"
    },
    {
     "data": {
      "text/html": [
       "<pre style=\"white-space:pre;overflow-x:auto;line-height:normal;font-family:Menlo,'DejaVu Sans Mono',consolas,'Courier New',monospace\">Analyzing /home/s/Skola/exjobb/github_metric_extractor/out/repositories/TDD-Hangman/tests/test_view.py\n",
       "</pre>\n"
      ],
      "text/plain": [
       "Analyzing /home/s/Skola/exjobb/github_metric_extractor/out/repositories/TDD-Hangman/tests/test_view.py\n"
      ]
     },
     "metadata": {},
     "output_type": "display_data"
    },
    {
     "data": {
      "text/html": [
       "<pre style=\"white-space:pre;overflow-x:auto;line-height:normal;font-family:Menlo,'DejaVu Sans Mono',consolas,'Courier New',monospace\">Analyzing /home/s/Skola/exjobb/github_metric_extractor/out/repositories/TDD-Hangman/tests/test_hangman.py\n",
       "</pre>\n"
      ],
      "text/plain": [
       "Analyzing /home/s/Skola/exjobb/github_metric_extractor/out/repositories/TDD-Hangman/tests/test_hangman.py\n"
      ]
     },
     "metadata": {},
     "output_type": "display_data"
    },
    {
     "data": {
      "text/html": [
       "<pre style=\"white-space:pre;overflow-x:auto;line-height:normal;font-family:Menlo,'DejaVu Sans Mono',consolas,'Courier New',monospace\">Analyzing /home/s/Skola/exjobb/github_metric_extractor/out/repositories/TDD-Hangman/tests/test_controller.py\n",
       "</pre>\n"
      ],
      "text/plain": [
       "Analyzing /home/s/Skola/exjobb/github_metric_extractor/out/repositories/TDD-Hangman/tests/test_controller.py\n"
      ]
     },
     "metadata": {},
     "output_type": "display_data"
    },
    {
     "data": {
      "text/html": [
       "<pre style=\"white-space:pre;overflow-x:auto;line-height:normal;font-family:Menlo,'DejaVu Sans Mono',consolas,'Courier New',monospace\">Analyzing /home/s/Skola/exjobb/github_metric_extractor/out/repositories/TDD-Hangman/tests/test_model.py\n",
       "</pre>\n"
      ],
      "text/plain": [
       "Analyzing /home/s/Skola/exjobb/github_metric_extractor/out/repositories/TDD-Hangman/tests/test_model.py\n"
      ]
     },
     "metadata": {},
     "output_type": "display_data"
    },
    {
     "data": {
      "text/html": [
       "<pre style=\"white-space:pre;overflow-x:auto;line-height:normal;font-family:Menlo,'DejaVu Sans Mono',consolas,'Courier New',monospace\">Analyzing /home/s/Skola/exjobb/github_metric_extractor/out/repositories/TDD-Hangman/tests/__init__.py\n",
       "</pre>\n"
      ],
      "text/plain": [
       "Analyzing /home/s/Skola/exjobb/github_metric_extractor/out/repositories/TDD-Hangman/tests/__init__.py\n"
      ]
     },
     "metadata": {},
     "output_type": "display_data"
    },
    {
     "data": {
      "text/html": [
       "<pre style=\"white-space:pre;overflow-x:auto;line-height:normal;font-family:Menlo,'DejaVu Sans Mono',consolas,'Courier New',monospace\">Analyzing /home/s/Skola/exjobb/github_metric_extractor/out/repositories/TDD-Hangman/src/hangman.py\n",
       "</pre>\n"
      ],
      "text/plain": [
       "Analyzing /home/s/Skola/exjobb/github_metric_extractor/out/repositories/TDD-Hangman/src/hangman.py\n"
      ]
     },
     "metadata": {},
     "output_type": "display_data"
    },
    {
     "data": {
      "text/html": [
       "<pre style=\"white-space:pre;overflow-x:auto;line-height:normal;font-family:Menlo,'DejaVu Sans Mono',consolas,'Courier New',monospace\">Analyzing /home/s/Skola/exjobb/github_metric_extractor/out/repositories/TDD-Hangman/src/views/GUI.py\n",
       "</pre>\n"
      ],
      "text/plain": [
       "Analyzing /home/s/Skola/exjobb/github_metric_extractor/out/repositories/TDD-Hangman/src/views/GUI.py\n"
      ]
     },
     "metadata": {},
     "output_type": "display_data"
    },
    {
     "data": {
      "text/html": [
       "<pre style=\"white-space:pre;overflow-x:auto;line-height:normal;font-family:Menlo,'DejaVu Sans Mono',consolas,'Courier New',monospace\">Analyzing /home/s/Skola/exjobb/github_metric_extractor/out/repositories/TDD-Hangman/src/views/__init__.py\n",
       "</pre>\n"
      ],
      "text/plain": [
       "Analyzing /home/s/Skola/exjobb/github_metric_extractor/out/repositories/TDD-Hangman/src/views/__init__.py\n"
      ]
     },
     "metadata": {},
     "output_type": "display_data"
    },
    {
     "data": {
      "text/html": [
       "<pre style=\"white-space:pre;overflow-x:auto;line-height:normal;font-family:Menlo,'DejaVu Sans Mono',consolas,'Courier New',monospace\">Analyzing /home/s/Skola/exjobb/github_metric_extractor/out/repositories/TDD-Hangman/src/controllers/Controller.py\n",
       "</pre>\n"
      ],
      "text/plain": [
       "Analyzing /home/s/Skola/exjobb/github_metric_extractor/out/repositories/TDD-Hangman/src/controllers/Controller.py\n"
      ]
     },
     "metadata": {},
     "output_type": "display_data"
    },
    {
     "data": {
      "text/html": [
       "<pre style=\"white-space:pre;overflow-x:auto;line-height:normal;font-family:Menlo,'DejaVu Sans Mono',consolas,'Courier New',monospace\">Analyzing /home/s/Skola/exjobb/github_metric_extractor/out/repositories/TDD-Hangman/src/controllers/__init__.py\n",
       "</pre>\n"
      ],
      "text/plain": [
       "Analyzing /home/s/Skola/exjobb/github_metric_extractor/out/repositories/TDD-Hangman/src/controllers/__init__.py\n"
      ]
     },
     "metadata": {},
     "output_type": "display_data"
    },
    {
     "data": {
      "text/html": [
       "<pre style=\"white-space:pre;overflow-x:auto;line-height:normal;font-family:Menlo,'DejaVu Sans Mono',consolas,'Courier New',monospace\">Analyzing /home/s/Skola/exjobb/github_metric_extractor/out/repositories/TDD-Hangman/src/models/GameEngine.py\n",
       "</pre>\n"
      ],
      "text/plain": [
       "Analyzing /home/s/Skola/exjobb/github_metric_extractor/out/repositories/TDD-Hangman/src/models/GameEngine.py\n"
      ]
     },
     "metadata": {},
     "output_type": "display_data"
    },
    {
     "data": {
      "text/html": [
       "<pre style=\"white-space:pre;overflow-x:auto;line-height:normal;font-family:Menlo,'DejaVu Sans Mono',consolas,'Courier New',monospace\">Analyzing /home/s/Skola/exjobb/github_metric_extractor/out/repositories/TDD-Hangman/src/models/__init__.py\n",
       "</pre>\n"
      ],
      "text/plain": [
       "Analyzing /home/s/Skola/exjobb/github_metric_extractor/out/repositories/TDD-Hangman/src/models/__init__.py\n"
      ]
     },
     "metadata": {},
     "output_type": "display_data"
    },
    {
     "data": {
      "text/html": [
       "<pre style=\"white-space:pre;overflow-x:auto;line-height:normal;font-family:Menlo,'DejaVu Sans Mono',consolas,'Courier New',monospace\">Analyzing /home/s/Skola/exjobb/github_metric_extractor/out/repositories/TDD-Hangman/src/other/__init__.py\n",
       "</pre>\n"
      ],
      "text/plain": [
       "Analyzing /home/s/Skola/exjobb/github_metric_extractor/out/repositories/TDD-Hangman/src/other/__init__.py\n"
      ]
     },
     "metadata": {},
     "output_type": "display_data"
    },
    {
     "data": {
      "text/html": [
       "<pre style=\"white-space:pre;overflow-x:auto;line-height:normal;font-family:Menlo,'DejaVu Sans Mono',consolas,'Courier New',monospace\">Analyzing /home/s/Skola/exjobb/github_metric_extractor/out/repositories/TDD-Hangman/tests/test_view.py\n",
       "</pre>\n"
      ],
      "text/plain": [
       "Analyzing /home/s/Skola/exjobb/github_metric_extractor/out/repositories/TDD-Hangman/tests/test_view.py\n"
      ]
     },
     "metadata": {},
     "output_type": "display_data"
    },
    {
     "data": {
      "text/html": [
       "<pre style=\"white-space:pre;overflow-x:auto;line-height:normal;font-family:Menlo,'DejaVu Sans Mono',consolas,'Courier New',monospace\">Analyzing /home/s/Skola/exjobb/github_metric_extractor/out/repositories/TDD-Hangman/tests/test_hangman.py\n",
       "</pre>\n"
      ],
      "text/plain": [
       "Analyzing /home/s/Skola/exjobb/github_metric_extractor/out/repositories/TDD-Hangman/tests/test_hangman.py\n"
      ]
     },
     "metadata": {},
     "output_type": "display_data"
    },
    {
     "data": {
      "text/html": [
       "<pre style=\"white-space:pre;overflow-x:auto;line-height:normal;font-family:Menlo,'DejaVu Sans Mono',consolas,'Courier New',monospace\">Analyzing /home/s/Skola/exjobb/github_metric_extractor/out/repositories/TDD-Hangman/tests/test_controller.py\n",
       "</pre>\n"
      ],
      "text/plain": [
       "Analyzing /home/s/Skola/exjobb/github_metric_extractor/out/repositories/TDD-Hangman/tests/test_controller.py\n"
      ]
     },
     "metadata": {},
     "output_type": "display_data"
    },
    {
     "data": {
      "text/html": [
       "<pre style=\"white-space:pre;overflow-x:auto;line-height:normal;font-family:Menlo,'DejaVu Sans Mono',consolas,'Courier New',monospace\">Analyzing /home/s/Skola/exjobb/github_metric_extractor/out/repositories/TDD-Hangman/tests/test_model.py\n",
       "</pre>\n"
      ],
      "text/plain": [
       "Analyzing /home/s/Skola/exjobb/github_metric_extractor/out/repositories/TDD-Hangman/tests/test_model.py\n"
      ]
     },
     "metadata": {},
     "output_type": "display_data"
    },
    {
     "data": {
      "text/html": [
       "<pre style=\"white-space:pre;overflow-x:auto;line-height:normal;font-family:Menlo,'DejaVu Sans Mono',consolas,'Courier New',monospace\">Analyzing /home/s/Skola/exjobb/github_metric_extractor/out/repositories/TDD-Hangman/tests/__init__.py\n",
       "</pre>\n"
      ],
      "text/plain": [
       "Analyzing /home/s/Skola/exjobb/github_metric_extractor/out/repositories/TDD-Hangman/tests/__init__.py\n"
      ]
     },
     "metadata": {},
     "output_type": "display_data"
    },
    {
     "data": {
      "text/html": [
       "<pre style=\"white-space:pre;overflow-x:auto;line-height:normal;font-family:Menlo,'DejaVu Sans Mono',consolas,'Courier New',monospace\">Analyzing /home/s/Skola/exjobb/github_metric_extractor/out/repositories/TDD-Hangman/src/hangman.py\n",
       "</pre>\n"
      ],
      "text/plain": [
       "Analyzing /home/s/Skola/exjobb/github_metric_extractor/out/repositories/TDD-Hangman/src/hangman.py\n"
      ]
     },
     "metadata": {},
     "output_type": "display_data"
    },
    {
     "data": {
      "text/html": [
       "<pre style=\"white-space:pre;overflow-x:auto;line-height:normal;font-family:Menlo,'DejaVu Sans Mono',consolas,'Courier New',monospace\">Analyzing /home/s/Skola/exjobb/github_metric_extractor/out/repositories/TDD-Hangman/src/views/GUI.py\n",
       "</pre>\n"
      ],
      "text/plain": [
       "Analyzing /home/s/Skola/exjobb/github_metric_extractor/out/repositories/TDD-Hangman/src/views/GUI.py\n"
      ]
     },
     "metadata": {},
     "output_type": "display_data"
    },
    {
     "data": {
      "text/html": [
       "<pre style=\"white-space:pre;overflow-x:auto;line-height:normal;font-family:Menlo,'DejaVu Sans Mono',consolas,'Courier New',monospace\">Analyzing /home/s/Skola/exjobb/github_metric_extractor/out/repositories/TDD-Hangman/src/views/__init__.py\n",
       "</pre>\n"
      ],
      "text/plain": [
       "Analyzing /home/s/Skola/exjobb/github_metric_extractor/out/repositories/TDD-Hangman/src/views/__init__.py\n"
      ]
     },
     "metadata": {},
     "output_type": "display_data"
    },
    {
     "data": {
      "text/html": [
       "<pre style=\"white-space:pre;overflow-x:auto;line-height:normal;font-family:Menlo,'DejaVu Sans Mono',consolas,'Courier New',monospace\">Analyzing /home/s/Skola/exjobb/github_metric_extractor/out/repositories/TDD-Hangman/src/controllers/Controller.py\n",
       "</pre>\n"
      ],
      "text/plain": [
       "Analyzing /home/s/Skola/exjobb/github_metric_extractor/out/repositories/TDD-Hangman/src/controllers/Controller.py\n"
      ]
     },
     "metadata": {},
     "output_type": "display_data"
    },
    {
     "data": {
      "text/html": [
       "<pre style=\"white-space:pre;overflow-x:auto;line-height:normal;font-family:Menlo,'DejaVu Sans Mono',consolas,'Courier New',monospace\">Analyzing /home/s/Skola/exjobb/github_metric_extractor/out/repositories/TDD-Hangman/src/controllers/__init__.py\n",
       "</pre>\n"
      ],
      "text/plain": [
       "Analyzing /home/s/Skola/exjobb/github_metric_extractor/out/repositories/TDD-Hangman/src/controllers/__init__.py\n"
      ]
     },
     "metadata": {},
     "output_type": "display_data"
    },
    {
     "data": {
      "text/html": [
       "<pre style=\"white-space:pre;overflow-x:auto;line-height:normal;font-family:Menlo,'DejaVu Sans Mono',consolas,'Courier New',monospace\">Analyzing /home/s/Skola/exjobb/github_metric_extractor/out/repositories/TDD-Hangman/src/models/GameEngine.py\n",
       "</pre>\n"
      ],
      "text/plain": [
       "Analyzing /home/s/Skola/exjobb/github_metric_extractor/out/repositories/TDD-Hangman/src/models/GameEngine.py\n"
      ]
     },
     "metadata": {},
     "output_type": "display_data"
    },
    {
     "data": {
      "text/html": [
       "<pre style=\"white-space:pre;overflow-x:auto;line-height:normal;font-family:Menlo,'DejaVu Sans Mono',consolas,'Courier New',monospace\">Analyzing /home/s/Skola/exjobb/github_metric_extractor/out/repositories/TDD-Hangman/src/models/__init__.py\n",
       "</pre>\n"
      ],
      "text/plain": [
       "Analyzing /home/s/Skola/exjobb/github_metric_extractor/out/repositories/TDD-Hangman/src/models/__init__.py\n"
      ]
     },
     "metadata": {},
     "output_type": "display_data"
    },
    {
     "data": {
      "text/html": [
       "<pre style=\"white-space:pre;overflow-x:auto;line-height:normal;font-family:Menlo,'DejaVu Sans Mono',consolas,'Courier New',monospace\">Analyzing /home/s/Skola/exjobb/github_metric_extractor/out/repositories/TDD-Hangman/src/other/__init__.py\n",
       "</pre>\n"
      ],
      "text/plain": [
       "Analyzing /home/s/Skola/exjobb/github_metric_extractor/out/repositories/TDD-Hangman/src/other/__init__.py\n"
      ]
     },
     "metadata": {},
     "output_type": "display_data"
    },
    {
     "data": {
      "text/html": [
       "<pre style=\"white-space:pre;overflow-x:auto;line-height:normal;font-family:Menlo,'DejaVu Sans Mono',consolas,'Courier New',monospace\">Analyzing /home/s/Skola/exjobb/github_metric_extractor/out/repositories/TDD-Hangman/tests/test_view.py\n",
       "</pre>\n"
      ],
      "text/plain": [
       "Analyzing /home/s/Skola/exjobb/github_metric_extractor/out/repositories/TDD-Hangman/tests/test_view.py\n"
      ]
     },
     "metadata": {},
     "output_type": "display_data"
    },
    {
     "data": {
      "text/html": [
       "<pre style=\"white-space:pre;overflow-x:auto;line-height:normal;font-family:Menlo,'DejaVu Sans Mono',consolas,'Courier New',monospace\">Analyzing /home/s/Skola/exjobb/github_metric_extractor/out/repositories/TDD-Hangman/tests/test_hangman.py\n",
       "</pre>\n"
      ],
      "text/plain": [
       "Analyzing /home/s/Skola/exjobb/github_metric_extractor/out/repositories/TDD-Hangman/tests/test_hangman.py\n"
      ]
     },
     "metadata": {},
     "output_type": "display_data"
    },
    {
     "data": {
      "text/html": [
       "<pre style=\"white-space:pre;overflow-x:auto;line-height:normal;font-family:Menlo,'DejaVu Sans Mono',consolas,'Courier New',monospace\">Analyzing /home/s/Skola/exjobb/github_metric_extractor/out/repositories/TDD-Hangman/tests/test_controller.py\n",
       "</pre>\n"
      ],
      "text/plain": [
       "Analyzing /home/s/Skola/exjobb/github_metric_extractor/out/repositories/TDD-Hangman/tests/test_controller.py\n"
      ]
     },
     "metadata": {},
     "output_type": "display_data"
    },
    {
     "data": {
      "text/html": [
       "<pre style=\"white-space:pre;overflow-x:auto;line-height:normal;font-family:Menlo,'DejaVu Sans Mono',consolas,'Courier New',monospace\">Analyzing /home/s/Skola/exjobb/github_metric_extractor/out/repositories/TDD-Hangman/tests/test_model.py\n",
       "</pre>\n"
      ],
      "text/plain": [
       "Analyzing /home/s/Skola/exjobb/github_metric_extractor/out/repositories/TDD-Hangman/tests/test_model.py\n"
      ]
     },
     "metadata": {},
     "output_type": "display_data"
    },
    {
     "data": {
      "text/html": [
       "<pre style=\"white-space:pre;overflow-x:auto;line-height:normal;font-family:Menlo,'DejaVu Sans Mono',consolas,'Courier New',monospace\">Analyzing /home/s/Skola/exjobb/github_metric_extractor/out/repositories/TDD-Hangman/tests/__init__.py\n",
       "</pre>\n"
      ],
      "text/plain": [
       "Analyzing /home/s/Skola/exjobb/github_metric_extractor/out/repositories/TDD-Hangman/tests/__init__.py\n"
      ]
     },
     "metadata": {},
     "output_type": "display_data"
    },
    {
     "data": {
      "text/html": [
       "<pre style=\"white-space:pre;overflow-x:auto;line-height:normal;font-family:Menlo,'DejaVu Sans Mono',consolas,'Courier New',monospace\">Analyzing /home/s/Skola/exjobb/github_metric_extractor/out/repositories/TDD-Hangman/src/hangman.py\n",
       "</pre>\n"
      ],
      "text/plain": [
       "Analyzing /home/s/Skola/exjobb/github_metric_extractor/out/repositories/TDD-Hangman/src/hangman.py\n"
      ]
     },
     "metadata": {},
     "output_type": "display_data"
    },
    {
     "data": {
      "text/html": [
       "<pre style=\"white-space:pre;overflow-x:auto;line-height:normal;font-family:Menlo,'DejaVu Sans Mono',consolas,'Courier New',monospace\">Analyzing /home/s/Skola/exjobb/github_metric_extractor/out/repositories/TDD-Hangman/src/views/GUI.py\n",
       "</pre>\n"
      ],
      "text/plain": [
       "Analyzing /home/s/Skola/exjobb/github_metric_extractor/out/repositories/TDD-Hangman/src/views/GUI.py\n"
      ]
     },
     "metadata": {},
     "output_type": "display_data"
    },
    {
     "data": {
      "text/html": [
       "<pre style=\"white-space:pre;overflow-x:auto;line-height:normal;font-family:Menlo,'DejaVu Sans Mono',consolas,'Courier New',monospace\">Analyzing /home/s/Skola/exjobb/github_metric_extractor/out/repositories/TDD-Hangman/src/controllers/Controller.py\n",
       "</pre>\n"
      ],
      "text/plain": [
       "Analyzing /home/s/Skola/exjobb/github_metric_extractor/out/repositories/TDD-Hangman/src/controllers/Controller.py\n"
      ]
     },
     "metadata": {},
     "output_type": "display_data"
    },
    {
     "data": {
      "text/html": [
       "<pre style=\"white-space:pre;overflow-x:auto;line-height:normal;font-family:Menlo,'DejaVu Sans Mono',consolas,'Courier New',monospace\">Analyzing /home/s/Skola/exjobb/github_metric_extractor/out/repositories/TDD-Hangman/src/controllers/__init__.py\n",
       "</pre>\n"
      ],
      "text/plain": [
       "Analyzing /home/s/Skola/exjobb/github_metric_extractor/out/repositories/TDD-Hangman/src/controllers/__init__.py\n"
      ]
     },
     "metadata": {},
     "output_type": "display_data"
    },
    {
     "data": {
      "text/html": [
       "<pre style=\"white-space:pre;overflow-x:auto;line-height:normal;font-family:Menlo,'DejaVu Sans Mono',consolas,'Courier New',monospace\">Analyzing /home/s/Skola/exjobb/github_metric_extractor/out/repositories/TDD-Hangman/src/models/GameEngine.py\n",
       "</pre>\n"
      ],
      "text/plain": [
       "Analyzing /home/s/Skola/exjobb/github_metric_extractor/out/repositories/TDD-Hangman/src/models/GameEngine.py\n"
      ]
     },
     "metadata": {},
     "output_type": "display_data"
    },
    {
     "data": {
      "text/html": [
       "<pre style=\"white-space:pre;overflow-x:auto;line-height:normal;font-family:Menlo,'DejaVu Sans Mono',consolas,'Courier New',monospace\">Analyzing /home/s/Skola/exjobb/github_metric_extractor/out/repositories/TDD-Hangman/src/models/__init__.py\n",
       "</pre>\n"
      ],
      "text/plain": [
       "Analyzing /home/s/Skola/exjobb/github_metric_extractor/out/repositories/TDD-Hangman/src/models/__init__.py\n"
      ]
     },
     "metadata": {},
     "output_type": "display_data"
    },
    {
     "data": {
      "text/html": [
       "<pre style=\"white-space:pre;overflow-x:auto;line-height:normal;font-family:Menlo,'DejaVu Sans Mono',consolas,'Courier New',monospace\">Analyzing /home/s/Skola/exjobb/github_metric_extractor/out/repositories/TDD-Hangman/src/other/__init__.py\n",
       "</pre>\n"
      ],
      "text/plain": [
       "Analyzing /home/s/Skola/exjobb/github_metric_extractor/out/repositories/TDD-Hangman/src/other/__init__.py\n"
      ]
     },
     "metadata": {},
     "output_type": "display_data"
    },
    {
     "data": {
      "text/html": [
       "<pre style=\"white-space:pre;overflow-x:auto;line-height:normal;font-family:Menlo,'DejaVu Sans Mono',consolas,'Courier New',monospace\">Analyzing /home/s/Skola/exjobb/github_metric_extractor/out/repositories/TDD-Hangman/tests/test_view.py\n",
       "</pre>\n"
      ],
      "text/plain": [
       "Analyzing /home/s/Skola/exjobb/github_metric_extractor/out/repositories/TDD-Hangman/tests/test_view.py\n"
      ]
     },
     "metadata": {},
     "output_type": "display_data"
    },
    {
     "data": {
      "text/html": [
       "<pre style=\"white-space:pre;overflow-x:auto;line-height:normal;font-family:Menlo,'DejaVu Sans Mono',consolas,'Courier New',monospace\">Analyzing /home/s/Skola/exjobb/github_metric_extractor/out/repositories/TDD-Hangman/tests/test_hangman.py\n",
       "</pre>\n"
      ],
      "text/plain": [
       "Analyzing /home/s/Skola/exjobb/github_metric_extractor/out/repositories/TDD-Hangman/tests/test_hangman.py\n"
      ]
     },
     "metadata": {},
     "output_type": "display_data"
    },
    {
     "data": {
      "text/html": [
       "<pre style=\"white-space:pre;overflow-x:auto;line-height:normal;font-family:Menlo,'DejaVu Sans Mono',consolas,'Courier New',monospace\">Analyzing /home/s/Skola/exjobb/github_metric_extractor/out/repositories/TDD-Hangman/tests/test_controller.py\n",
       "</pre>\n"
      ],
      "text/plain": [
       "Analyzing /home/s/Skola/exjobb/github_metric_extractor/out/repositories/TDD-Hangman/tests/test_controller.py\n"
      ]
     },
     "metadata": {},
     "output_type": "display_data"
    },
    {
     "data": {
      "text/html": [
       "<pre style=\"white-space:pre;overflow-x:auto;line-height:normal;font-family:Menlo,'DejaVu Sans Mono',consolas,'Courier New',monospace\">Analyzing /home/s/Skola/exjobb/github_metric_extractor/out/repositories/TDD-Hangman/tests/test_model.py\n",
       "</pre>\n"
      ],
      "text/plain": [
       "Analyzing /home/s/Skola/exjobb/github_metric_extractor/out/repositories/TDD-Hangman/tests/test_model.py\n"
      ]
     },
     "metadata": {},
     "output_type": "display_data"
    },
    {
     "data": {
      "text/html": [
       "<pre style=\"white-space:pre;overflow-x:auto;line-height:normal;font-family:Menlo,'DejaVu Sans Mono',consolas,'Courier New',monospace\">Analyzing /home/s/Skola/exjobb/github_metric_extractor/out/repositories/TDD-Hangman/tests/__init__.py\n",
       "</pre>\n"
      ],
      "text/plain": [
       "Analyzing /home/s/Skola/exjobb/github_metric_extractor/out/repositories/TDD-Hangman/tests/__init__.py\n"
      ]
     },
     "metadata": {},
     "output_type": "display_data"
    },
    {
     "data": {
      "text/html": [
       "<pre style=\"white-space:pre;overflow-x:auto;line-height:normal;font-family:Menlo,'DejaVu Sans Mono',consolas,'Courier New',monospace\">Analyzing /home/s/Skola/exjobb/github_metric_extractor/out/repositories/TDD-Hangman/src/hangman.py\n",
       "</pre>\n"
      ],
      "text/plain": [
       "Analyzing /home/s/Skola/exjobb/github_metric_extractor/out/repositories/TDD-Hangman/src/hangman.py\n"
      ]
     },
     "metadata": {},
     "output_type": "display_data"
    },
    {
     "data": {
      "text/html": [
       "<pre style=\"white-space:pre;overflow-x:auto;line-height:normal;font-family:Menlo,'DejaVu Sans Mono',consolas,'Courier New',monospace\">Analyzing /home/s/Skola/exjobb/github_metric_extractor/out/repositories/TDD-Hangman/src/views/GUI.py\n",
       "</pre>\n"
      ],
      "text/plain": [
       "Analyzing /home/s/Skola/exjobb/github_metric_extractor/out/repositories/TDD-Hangman/src/views/GUI.py\n"
      ]
     },
     "metadata": {},
     "output_type": "display_data"
    },
    {
     "data": {
      "text/html": [
       "<pre style=\"white-space:pre;overflow-x:auto;line-height:normal;font-family:Menlo,'DejaVu Sans Mono',consolas,'Courier New',monospace\">Analyzing /home/s/Skola/exjobb/github_metric_extractor/out/repositories/TDD-Hangman/src/views/__init__.py\n",
       "</pre>\n"
      ],
      "text/plain": [
       "Analyzing /home/s/Skola/exjobb/github_metric_extractor/out/repositories/TDD-Hangman/src/views/__init__.py\n"
      ]
     },
     "metadata": {},
     "output_type": "display_data"
    },
    {
     "data": {
      "text/html": [
       "<pre style=\"white-space:pre;overflow-x:auto;line-height:normal;font-family:Menlo,'DejaVu Sans Mono',consolas,'Courier New',monospace\">Analyzing /home/s/Skola/exjobb/github_metric_extractor/out/repositories/TDD-Hangman/src/controllers/Controller.py\n",
       "</pre>\n"
      ],
      "text/plain": [
       "Analyzing /home/s/Skola/exjobb/github_metric_extractor/out/repositories/TDD-Hangman/src/controllers/Controller.py\n"
      ]
     },
     "metadata": {},
     "output_type": "display_data"
    },
    {
     "data": {
      "text/html": [
       "<pre style=\"white-space:pre;overflow-x:auto;line-height:normal;font-family:Menlo,'DejaVu Sans Mono',consolas,'Courier New',monospace\">Analyzing /home/s/Skola/exjobb/github_metric_extractor/out/repositories/TDD-Hangman/src/controllers/__init__.py\n",
       "</pre>\n"
      ],
      "text/plain": [
       "Analyzing /home/s/Skola/exjobb/github_metric_extractor/out/repositories/TDD-Hangman/src/controllers/__init__.py\n"
      ]
     },
     "metadata": {},
     "output_type": "display_data"
    },
    {
     "data": {
      "text/html": [
       "<pre style=\"white-space:pre;overflow-x:auto;line-height:normal;font-family:Menlo,'DejaVu Sans Mono',consolas,'Courier New',monospace\">Analyzing /home/s/Skola/exjobb/github_metric_extractor/out/repositories/TDD-Hangman/src/models/GameEngine.py\n",
       "</pre>\n"
      ],
      "text/plain": [
       "Analyzing /home/s/Skola/exjobb/github_metric_extractor/out/repositories/TDD-Hangman/src/models/GameEngine.py\n"
      ]
     },
     "metadata": {},
     "output_type": "display_data"
    },
    {
     "data": {
      "text/html": [
       "<pre style=\"white-space:pre;overflow-x:auto;line-height:normal;font-family:Menlo,'DejaVu Sans Mono',consolas,'Courier New',monospace\">Analyzing /home/s/Skola/exjobb/github_metric_extractor/out/repositories/TDD-Hangman/src/models/__init__.py\n",
       "</pre>\n"
      ],
      "text/plain": [
       "Analyzing /home/s/Skola/exjobb/github_metric_extractor/out/repositories/TDD-Hangman/src/models/__init__.py\n"
      ]
     },
     "metadata": {},
     "output_type": "display_data"
    },
    {
     "data": {
      "text/html": [
       "<pre style=\"white-space:pre;overflow-x:auto;line-height:normal;font-family:Menlo,'DejaVu Sans Mono',consolas,'Courier New',monospace\">Analyzing /home/s/Skola/exjobb/github_metric_extractor/out/repositories/TDD-Hangman/src/other/__init__.py\n",
       "</pre>\n"
      ],
      "text/plain": [
       "Analyzing /home/s/Skola/exjobb/github_metric_extractor/out/repositories/TDD-Hangman/src/other/__init__.py\n"
      ]
     },
     "metadata": {},
     "output_type": "display_data"
    },
    {
     "data": {
      "text/html": [
       "<pre style=\"white-space:pre;overflow-x:auto;line-height:normal;font-family:Menlo,'DejaVu Sans Mono',consolas,'Courier New',monospace\">Analyzing /home/s/Skola/exjobb/github_metric_extractor/out/repositories/TDD-Hangman/tests/test_view.py\n",
       "</pre>\n"
      ],
      "text/plain": [
       "Analyzing /home/s/Skola/exjobb/github_metric_extractor/out/repositories/TDD-Hangman/tests/test_view.py\n"
      ]
     },
     "metadata": {},
     "output_type": "display_data"
    },
    {
     "data": {
      "text/html": [
       "<pre style=\"white-space:pre;overflow-x:auto;line-height:normal;font-family:Menlo,'DejaVu Sans Mono',consolas,'Courier New',monospace\">Analyzing /home/s/Skola/exjobb/github_metric_extractor/out/repositories/TDD-Hangman/tests/test_hangman.py\n",
       "</pre>\n"
      ],
      "text/plain": [
       "Analyzing /home/s/Skola/exjobb/github_metric_extractor/out/repositories/TDD-Hangman/tests/test_hangman.py\n"
      ]
     },
     "metadata": {},
     "output_type": "display_data"
    },
    {
     "data": {
      "text/html": [
       "<pre style=\"white-space:pre;overflow-x:auto;line-height:normal;font-family:Menlo,'DejaVu Sans Mono',consolas,'Courier New',monospace\">Analyzing /home/s/Skola/exjobb/github_metric_extractor/out/repositories/TDD-Hangman/tests/test_controller.py\n",
       "</pre>\n"
      ],
      "text/plain": [
       "Analyzing /home/s/Skola/exjobb/github_metric_extractor/out/repositories/TDD-Hangman/tests/test_controller.py\n"
      ]
     },
     "metadata": {},
     "output_type": "display_data"
    },
    {
     "data": {
      "text/html": [
       "<pre style=\"white-space:pre;overflow-x:auto;line-height:normal;font-family:Menlo,'DejaVu Sans Mono',consolas,'Courier New',monospace\">Analyzing /home/s/Skola/exjobb/github_metric_extractor/out/repositories/TDD-Hangman/tests/test_model.py\n",
       "</pre>\n"
      ],
      "text/plain": [
       "Analyzing /home/s/Skola/exjobb/github_metric_extractor/out/repositories/TDD-Hangman/tests/test_model.py\n"
      ]
     },
     "metadata": {},
     "output_type": "display_data"
    },
    {
     "data": {
      "text/html": [
       "<pre style=\"white-space:pre;overflow-x:auto;line-height:normal;font-family:Menlo,'DejaVu Sans Mono',consolas,'Courier New',monospace\">Analyzing /home/s/Skola/exjobb/github_metric_extractor/out/repositories/TDD-Hangman/tests/__init__.py\n",
       "</pre>\n"
      ],
      "text/plain": [
       "Analyzing /home/s/Skola/exjobb/github_metric_extractor/out/repositories/TDD-Hangman/tests/__init__.py\n"
      ]
     },
     "metadata": {},
     "output_type": "display_data"
    },
    {
     "data": {
      "text/html": [
       "<pre style=\"white-space:pre;overflow-x:auto;line-height:normal;font-family:Menlo,'DejaVu Sans Mono',consolas,'Courier New',monospace\">Analyzing /home/s/Skola/exjobb/github_metric_extractor/out/repositories/TDD-Hangman/src/hangman.py\n",
       "</pre>\n"
      ],
      "text/plain": [
       "Analyzing /home/s/Skola/exjobb/github_metric_extractor/out/repositories/TDD-Hangman/src/hangman.py\n"
      ]
     },
     "metadata": {},
     "output_type": "display_data"
    },
    {
     "data": {
      "text/html": [
       "<pre style=\"white-space:pre;overflow-x:auto;line-height:normal;font-family:Menlo,'DejaVu Sans Mono',consolas,'Courier New',monospace\">Analyzing /home/s/Skola/exjobb/github_metric_extractor/out/repositories/TDD-Hangman/src/views/GUI.py\n",
       "</pre>\n"
      ],
      "text/plain": [
       "Analyzing /home/s/Skola/exjobb/github_metric_extractor/out/repositories/TDD-Hangman/src/views/GUI.py\n"
      ]
     },
     "metadata": {},
     "output_type": "display_data"
    },
    {
     "data": {
      "text/html": [
       "<pre style=\"white-space:pre;overflow-x:auto;line-height:normal;font-family:Menlo,'DejaVu Sans Mono',consolas,'Courier New',monospace\">Analyzing /home/s/Skola/exjobb/github_metric_extractor/out/repositories/TDD-Hangman/src/views/__init__.py\n",
       "</pre>\n"
      ],
      "text/plain": [
       "Analyzing /home/s/Skola/exjobb/github_metric_extractor/out/repositories/TDD-Hangman/src/views/__init__.py\n"
      ]
     },
     "metadata": {},
     "output_type": "display_data"
    },
    {
     "data": {
      "text/html": [
       "<pre style=\"white-space:pre;overflow-x:auto;line-height:normal;font-family:Menlo,'DejaVu Sans Mono',consolas,'Courier New',monospace\">Analyzing /home/s/Skola/exjobb/github_metric_extractor/out/repositories/TDD-Hangman/src/controllers/Controller.py\n",
       "</pre>\n"
      ],
      "text/plain": [
       "Analyzing /home/s/Skola/exjobb/github_metric_extractor/out/repositories/TDD-Hangman/src/controllers/Controller.py\n"
      ]
     },
     "metadata": {},
     "output_type": "display_data"
    },
    {
     "data": {
      "text/html": [
       "<pre style=\"white-space:pre;overflow-x:auto;line-height:normal;font-family:Menlo,'DejaVu Sans Mono',consolas,'Courier New',monospace\">Analyzing /home/s/Skola/exjobb/github_metric_extractor/out/repositories/TDD-Hangman/src/controllers/__init__.py\n",
       "</pre>\n"
      ],
      "text/plain": [
       "Analyzing /home/s/Skola/exjobb/github_metric_extractor/out/repositories/TDD-Hangman/src/controllers/__init__.py\n"
      ]
     },
     "metadata": {},
     "output_type": "display_data"
    },
    {
     "data": {
      "text/html": [
       "<pre style=\"white-space:pre;overflow-x:auto;line-height:normal;font-family:Menlo,'DejaVu Sans Mono',consolas,'Courier New',monospace\">Analyzing /home/s/Skola/exjobb/github_metric_extractor/out/repositories/TDD-Hangman/src/models/GameEngine.py\n",
       "</pre>\n"
      ],
      "text/plain": [
       "Analyzing /home/s/Skola/exjobb/github_metric_extractor/out/repositories/TDD-Hangman/src/models/GameEngine.py\n"
      ]
     },
     "metadata": {},
     "output_type": "display_data"
    },
    {
     "data": {
      "text/html": [
       "<pre style=\"white-space:pre;overflow-x:auto;line-height:normal;font-family:Menlo,'DejaVu Sans Mono',consolas,'Courier New',monospace\">Analyzing /home/s/Skola/exjobb/github_metric_extractor/out/repositories/TDD-Hangman/src/models/__init__.py\n",
       "</pre>\n"
      ],
      "text/plain": [
       "Analyzing /home/s/Skola/exjobb/github_metric_extractor/out/repositories/TDD-Hangman/src/models/__init__.py\n"
      ]
     },
     "metadata": {},
     "output_type": "display_data"
    },
    {
     "data": {
      "text/html": [
       "<pre style=\"white-space:pre;overflow-x:auto;line-height:normal;font-family:Menlo,'DejaVu Sans Mono',consolas,'Courier New',monospace\">Analyzing /home/s/Skola/exjobb/github_metric_extractor/out/repositories/TDD-Hangman/src/other/__init__.py\n",
       "</pre>\n"
      ],
      "text/plain": [
       "Analyzing /home/s/Skola/exjobb/github_metric_extractor/out/repositories/TDD-Hangman/src/other/__init__.py\n"
      ]
     },
     "metadata": {},
     "output_type": "display_data"
    },
    {
     "data": {
      "text/html": [
       "<pre style=\"white-space:pre;overflow-x:auto;line-height:normal;font-family:Menlo,'DejaVu Sans Mono',consolas,'Courier New',monospace\">Analyzing /home/s/Skola/exjobb/github_metric_extractor/out/repositories/TDD-Hangman/tests/test_view.py\n",
       "</pre>\n"
      ],
      "text/plain": [
       "Analyzing /home/s/Skola/exjobb/github_metric_extractor/out/repositories/TDD-Hangman/tests/test_view.py\n"
      ]
     },
     "metadata": {},
     "output_type": "display_data"
    },
    {
     "data": {
      "text/html": [
       "<pre style=\"white-space:pre;overflow-x:auto;line-height:normal;font-family:Menlo,'DejaVu Sans Mono',consolas,'Courier New',monospace\">Analyzing /home/s/Skola/exjobb/github_metric_extractor/out/repositories/TDD-Hangman/tests/test_controller.py\n",
       "</pre>\n"
      ],
      "text/plain": [
       "Analyzing /home/s/Skola/exjobb/github_metric_extractor/out/repositories/TDD-Hangman/tests/test_controller.py\n"
      ]
     },
     "metadata": {},
     "output_type": "display_data"
    },
    {
     "data": {
      "text/html": [
       "<pre style=\"white-space:pre;overflow-x:auto;line-height:normal;font-family:Menlo,'DejaVu Sans Mono',consolas,'Courier New',monospace\">Analyzing /home/s/Skola/exjobb/github_metric_extractor/out/repositories/TDD-Hangman/tests/test_model.py\n",
       "</pre>\n"
      ],
      "text/plain": [
       "Analyzing /home/s/Skola/exjobb/github_metric_extractor/out/repositories/TDD-Hangman/tests/test_model.py\n"
      ]
     },
     "metadata": {},
     "output_type": "display_data"
    },
    {
     "data": {
      "text/html": [
       "<pre style=\"white-space:pre;overflow-x:auto;line-height:normal;font-family:Menlo,'DejaVu Sans Mono',consolas,'Courier New',monospace\">Analyzing /home/s/Skola/exjobb/github_metric_extractor/out/repositories/TDD-Hangman/tests/__init__.py\n",
       "</pre>\n"
      ],
      "text/plain": [
       "Analyzing /home/s/Skola/exjobb/github_metric_extractor/out/repositories/TDD-Hangman/tests/__init__.py\n"
      ]
     },
     "metadata": {},
     "output_type": "display_data"
    },
    {
     "data": {
      "text/html": [
       "<pre style=\"white-space:pre;overflow-x:auto;line-height:normal;font-family:Menlo,'DejaVu Sans Mono',consolas,'Courier New',monospace\">Analyzing /home/s/Skola/exjobb/github_metric_extractor/out/repositories/TDD-Hangman/src/hangman.py\n",
       "</pre>\n"
      ],
      "text/plain": [
       "Analyzing /home/s/Skola/exjobb/github_metric_extractor/out/repositories/TDD-Hangman/src/hangman.py\n"
      ]
     },
     "metadata": {},
     "output_type": "display_data"
    },
    {
     "data": {
      "text/html": [
       "<pre style=\"white-space:pre;overflow-x:auto;line-height:normal;font-family:Menlo,'DejaVu Sans Mono',consolas,'Courier New',monospace\">Analyzing /home/s/Skola/exjobb/github_metric_extractor/out/repositories/TDD-Hangman/src/views/GUI.py\n",
       "</pre>\n"
      ],
      "text/plain": [
       "Analyzing /home/s/Skola/exjobb/github_metric_extractor/out/repositories/TDD-Hangman/src/views/GUI.py\n"
      ]
     },
     "metadata": {},
     "output_type": "display_data"
    },
    {
     "data": {
      "text/html": [
       "<pre style=\"white-space:pre;overflow-x:auto;line-height:normal;font-family:Menlo,'DejaVu Sans Mono',consolas,'Courier New',monospace\">Analyzing /home/s/Skola/exjobb/github_metric_extractor/out/repositories/TDD-Hangman/src/views/__init__.py\n",
       "</pre>\n"
      ],
      "text/plain": [
       "Analyzing /home/s/Skola/exjobb/github_metric_extractor/out/repositories/TDD-Hangman/src/views/__init__.py\n"
      ]
     },
     "metadata": {},
     "output_type": "display_data"
    },
    {
     "data": {
      "text/html": [
       "<pre style=\"white-space:pre;overflow-x:auto;line-height:normal;font-family:Menlo,'DejaVu Sans Mono',consolas,'Courier New',monospace\">Analyzing /home/s/Skola/exjobb/github_metric_extractor/out/repositories/TDD-Hangman/src/controllers/Controller.py\n",
       "</pre>\n"
      ],
      "text/plain": [
       "Analyzing /home/s/Skola/exjobb/github_metric_extractor/out/repositories/TDD-Hangman/src/controllers/Controller.py\n"
      ]
     },
     "metadata": {},
     "output_type": "display_data"
    },
    {
     "data": {
      "text/html": [
       "<pre style=\"white-space:pre;overflow-x:auto;line-height:normal;font-family:Menlo,'DejaVu Sans Mono',consolas,'Courier New',monospace\">Analyzing /home/s/Skola/exjobb/github_metric_extractor/out/repositories/TDD-Hangman/src/controllers/__init__.py\n",
       "</pre>\n"
      ],
      "text/plain": [
       "Analyzing /home/s/Skola/exjobb/github_metric_extractor/out/repositories/TDD-Hangman/src/controllers/__init__.py\n"
      ]
     },
     "metadata": {},
     "output_type": "display_data"
    },
    {
     "data": {
      "text/html": [
       "<pre style=\"white-space:pre;overflow-x:auto;line-height:normal;font-family:Menlo,'DejaVu Sans Mono',consolas,'Courier New',monospace\">Analyzing /home/s/Skola/exjobb/github_metric_extractor/out/repositories/TDD-Hangman/src/models/GameEngine.py\n",
       "</pre>\n"
      ],
      "text/plain": [
       "Analyzing /home/s/Skola/exjobb/github_metric_extractor/out/repositories/TDD-Hangman/src/models/GameEngine.py\n"
      ]
     },
     "metadata": {},
     "output_type": "display_data"
    },
    {
     "data": {
      "text/html": [
       "<pre style=\"white-space:pre;overflow-x:auto;line-height:normal;font-family:Menlo,'DejaVu Sans Mono',consolas,'Courier New',monospace\">Analyzing /home/s/Skola/exjobb/github_metric_extractor/out/repositories/TDD-Hangman/src/models/__init__.py\n",
       "</pre>\n"
      ],
      "text/plain": [
       "Analyzing /home/s/Skola/exjobb/github_metric_extractor/out/repositories/TDD-Hangman/src/models/__init__.py\n"
      ]
     },
     "metadata": {},
     "output_type": "display_data"
    },
    {
     "data": {
      "text/html": [
       "<pre style=\"white-space:pre;overflow-x:auto;line-height:normal;font-family:Menlo,'DejaVu Sans Mono',consolas,'Courier New',monospace\">Analyzing /home/s/Skola/exjobb/github_metric_extractor/out/repositories/TDD-Hangman/src/other/__init__.py\n",
       "</pre>\n"
      ],
      "text/plain": [
       "Analyzing /home/s/Skola/exjobb/github_metric_extractor/out/repositories/TDD-Hangman/src/other/__init__.py\n"
      ]
     },
     "metadata": {},
     "output_type": "display_data"
    },
    {
     "data": {
      "text/html": [
       "<pre style=\"white-space:pre;overflow-x:auto;line-height:normal;font-family:Menlo,'DejaVu Sans Mono',consolas,'Courier New',monospace\">Analyzing /home/s/Skola/exjobb/github_metric_extractor/out/repositories/TDD-Hangman/tests/test_view.py\n",
       "</pre>\n"
      ],
      "text/plain": [
       "Analyzing /home/s/Skola/exjobb/github_metric_extractor/out/repositories/TDD-Hangman/tests/test_view.py\n"
      ]
     },
     "metadata": {},
     "output_type": "display_data"
    },
    {
     "data": {
      "text/html": [
       "<pre style=\"white-space:pre;overflow-x:auto;line-height:normal;font-family:Menlo,'DejaVu Sans Mono',consolas,'Courier New',monospace\">Analyzing /home/s/Skola/exjobb/github_metric_extractor/out/repositories/TDD-Hangman/tests/test_hangman.py\n",
       "</pre>\n"
      ],
      "text/plain": [
       "Analyzing /home/s/Skola/exjobb/github_metric_extractor/out/repositories/TDD-Hangman/tests/test_hangman.py\n"
      ]
     },
     "metadata": {},
     "output_type": "display_data"
    },
    {
     "data": {
      "text/html": [
       "<pre style=\"white-space:pre;overflow-x:auto;line-height:normal;font-family:Menlo,'DejaVu Sans Mono',consolas,'Courier New',monospace\">Analyzing /home/s/Skola/exjobb/github_metric_extractor/out/repositories/TDD-Hangman/tests/test_controller.py\n",
       "</pre>\n"
      ],
      "text/plain": [
       "Analyzing /home/s/Skola/exjobb/github_metric_extractor/out/repositories/TDD-Hangman/tests/test_controller.py\n"
      ]
     },
     "metadata": {},
     "output_type": "display_data"
    },
    {
     "data": {
      "text/html": [
       "<pre style=\"white-space:pre;overflow-x:auto;line-height:normal;font-family:Menlo,'DejaVu Sans Mono',consolas,'Courier New',monospace\">Analyzing /home/s/Skola/exjobb/github_metric_extractor/out/repositories/TDD-Hangman/tests/test_model.py\n",
       "</pre>\n"
      ],
      "text/plain": [
       "Analyzing /home/s/Skola/exjobb/github_metric_extractor/out/repositories/TDD-Hangman/tests/test_model.py\n"
      ]
     },
     "metadata": {},
     "output_type": "display_data"
    },
    {
     "data": {
      "text/html": [
       "<pre style=\"white-space:pre;overflow-x:auto;line-height:normal;font-family:Menlo,'DejaVu Sans Mono',consolas,'Courier New',monospace\">Analyzing /home/s/Skola/exjobb/github_metric_extractor/out/repositories/TDD-Hangman/tests/__init__.py\n",
       "</pre>\n"
      ],
      "text/plain": [
       "Analyzing /home/s/Skola/exjobb/github_metric_extractor/out/repositories/TDD-Hangman/tests/__init__.py\n"
      ]
     },
     "metadata": {},
     "output_type": "display_data"
    },
    {
     "data": {
      "text/html": [
       "<pre style=\"white-space:pre;overflow-x:auto;line-height:normal;font-family:Menlo,'DejaVu Sans Mono',consolas,'Courier New',monospace\">Analyzing /home/s/Skola/exjobb/github_metric_extractor/out/repositories/TDD-Hangman/src/hangman.py\n",
       "</pre>\n"
      ],
      "text/plain": [
       "Analyzing /home/s/Skola/exjobb/github_metric_extractor/out/repositories/TDD-Hangman/src/hangman.py\n"
      ]
     },
     "metadata": {},
     "output_type": "display_data"
    },
    {
     "data": {
      "text/html": [
       "<pre style=\"white-space:pre;overflow-x:auto;line-height:normal;font-family:Menlo,'DejaVu Sans Mono',consolas,'Courier New',monospace\">Analyzing /home/s/Skola/exjobb/github_metric_extractor/out/repositories/TDD-Hangman/src/views/GUI.py\n",
       "</pre>\n"
      ],
      "text/plain": [
       "Analyzing /home/s/Skola/exjobb/github_metric_extractor/out/repositories/TDD-Hangman/src/views/GUI.py\n"
      ]
     },
     "metadata": {},
     "output_type": "display_data"
    },
    {
     "data": {
      "text/html": [
       "<pre style=\"white-space:pre;overflow-x:auto;line-height:normal;font-family:Menlo,'DejaVu Sans Mono',consolas,'Courier New',monospace\">Analyzing /home/s/Skola/exjobb/github_metric_extractor/out/repositories/TDD-Hangman/src/views/__init__.py\n",
       "</pre>\n"
      ],
      "text/plain": [
       "Analyzing /home/s/Skola/exjobb/github_metric_extractor/out/repositories/TDD-Hangman/src/views/__init__.py\n"
      ]
     },
     "metadata": {},
     "output_type": "display_data"
    },
    {
     "data": {
      "text/html": [
       "<pre style=\"white-space:pre;overflow-x:auto;line-height:normal;font-family:Menlo,'DejaVu Sans Mono',consolas,'Courier New',monospace\">Analyzing /home/s/Skola/exjobb/github_metric_extractor/out/repositories/TDD-Hangman/src/controllers/Controller.py\n",
       "</pre>\n"
      ],
      "text/plain": [
       "Analyzing /home/s/Skola/exjobb/github_metric_extractor/out/repositories/TDD-Hangman/src/controllers/Controller.py\n"
      ]
     },
     "metadata": {},
     "output_type": "display_data"
    },
    {
     "data": {
      "text/html": [
       "<pre style=\"white-space:pre;overflow-x:auto;line-height:normal;font-family:Menlo,'DejaVu Sans Mono',consolas,'Courier New',monospace\">Analyzing /home/s/Skola/exjobb/github_metric_extractor/out/repositories/TDD-Hangman/src/controllers/__init__.py\n",
       "</pre>\n"
      ],
      "text/plain": [
       "Analyzing /home/s/Skola/exjobb/github_metric_extractor/out/repositories/TDD-Hangman/src/controllers/__init__.py\n"
      ]
     },
     "metadata": {},
     "output_type": "display_data"
    },
    {
     "data": {
      "text/html": [
       "<pre style=\"white-space:pre;overflow-x:auto;line-height:normal;font-family:Menlo,'DejaVu Sans Mono',consolas,'Courier New',monospace\">Analyzing /home/s/Skola/exjobb/github_metric_extractor/out/repositories/TDD-Hangman/src/models/GameEngine.py\n",
       "</pre>\n"
      ],
      "text/plain": [
       "Analyzing /home/s/Skola/exjobb/github_metric_extractor/out/repositories/TDD-Hangman/src/models/GameEngine.py\n"
      ]
     },
     "metadata": {},
     "output_type": "display_data"
    },
    {
     "data": {
      "text/html": [
       "<pre style=\"white-space:pre;overflow-x:auto;line-height:normal;font-family:Menlo,'DejaVu Sans Mono',consolas,'Courier New',monospace\">Analyzing /home/s/Skola/exjobb/github_metric_extractor/out/repositories/TDD-Hangman/src/models/__init__.py\n",
       "</pre>\n"
      ],
      "text/plain": [
       "Analyzing /home/s/Skola/exjobb/github_metric_extractor/out/repositories/TDD-Hangman/src/models/__init__.py\n"
      ]
     },
     "metadata": {},
     "output_type": "display_data"
    },
    {
     "data": {
      "text/html": [
       "<pre style=\"white-space:pre;overflow-x:auto;line-height:normal;font-family:Menlo,'DejaVu Sans Mono',consolas,'Courier New',monospace\">Analyzing /home/s/Skola/exjobb/github_metric_extractor/out/repositories/TDD-Hangman/src/other/__init__.py\n",
       "</pre>\n"
      ],
      "text/plain": [
       "Analyzing /home/s/Skola/exjobb/github_metric_extractor/out/repositories/TDD-Hangman/src/other/__init__.py\n"
      ]
     },
     "metadata": {},
     "output_type": "display_data"
    },
    {
     "data": {
      "text/html": [
       "<pre style=\"white-space:pre;overflow-x:auto;line-height:normal;font-family:Menlo,'DejaVu Sans Mono',consolas,'Courier New',monospace\">Analyzing /home/s/Skola/exjobb/github_metric_extractor/out/repositories/TDD-Hangman/tests/test_view.py\n",
       "</pre>\n"
      ],
      "text/plain": [
       "Analyzing /home/s/Skola/exjobb/github_metric_extractor/out/repositories/TDD-Hangman/tests/test_view.py\n"
      ]
     },
     "metadata": {},
     "output_type": "display_data"
    },
    {
     "data": {
      "text/html": [
       "<pre style=\"white-space:pre;overflow-x:auto;line-height:normal;font-family:Menlo,'DejaVu Sans Mono',consolas,'Courier New',monospace\">Analyzing /home/s/Skola/exjobb/github_metric_extractor/out/repositories/TDD-Hangman/tests/test_hangman.py\n",
       "</pre>\n"
      ],
      "text/plain": [
       "Analyzing /home/s/Skola/exjobb/github_metric_extractor/out/repositories/TDD-Hangman/tests/test_hangman.py\n"
      ]
     },
     "metadata": {},
     "output_type": "display_data"
    },
    {
     "data": {
      "text/html": [
       "<pre style=\"white-space:pre;overflow-x:auto;line-height:normal;font-family:Menlo,'DejaVu Sans Mono',consolas,'Courier New',monospace\">Analyzing /home/s/Skola/exjobb/github_metric_extractor/out/repositories/TDD-Hangman/tests/test_controller.py\n",
       "</pre>\n"
      ],
      "text/plain": [
       "Analyzing /home/s/Skola/exjobb/github_metric_extractor/out/repositories/TDD-Hangman/tests/test_controller.py\n"
      ]
     },
     "metadata": {},
     "output_type": "display_data"
    },
    {
     "data": {
      "text/html": [
       "<pre style=\"white-space:pre;overflow-x:auto;line-height:normal;font-family:Menlo,'DejaVu Sans Mono',consolas,'Courier New',monospace\">Analyzing /home/s/Skola/exjobb/github_metric_extractor/out/repositories/TDD-Hangman/tests/test_model.py\n",
       "</pre>\n"
      ],
      "text/plain": [
       "Analyzing /home/s/Skola/exjobb/github_metric_extractor/out/repositories/TDD-Hangman/tests/test_model.py\n"
      ]
     },
     "metadata": {},
     "output_type": "display_data"
    },
    {
     "data": {
      "text/html": [
       "<pre style=\"white-space:pre;overflow-x:auto;line-height:normal;font-family:Menlo,'DejaVu Sans Mono',consolas,'Courier New',monospace\">Analyzing /home/s/Skola/exjobb/github_metric_extractor/out/repositories/TDD-Hangman/tests/__init__.py\n",
       "</pre>\n"
      ],
      "text/plain": [
       "Analyzing /home/s/Skola/exjobb/github_metric_extractor/out/repositories/TDD-Hangman/tests/__init__.py\n"
      ]
     },
     "metadata": {},
     "output_type": "display_data"
    },
    {
     "data": {
      "text/html": [
       "<pre style=\"white-space:pre;overflow-x:auto;line-height:normal;font-family:Menlo,'DejaVu Sans Mono',consolas,'Courier New',monospace\">Analyzing /home/s/Skola/exjobb/github_metric_extractor/out/repositories/TDD-Hangman/src/hangman.py\n",
       "</pre>\n"
      ],
      "text/plain": [
       "Analyzing /home/s/Skola/exjobb/github_metric_extractor/out/repositories/TDD-Hangman/src/hangman.py\n"
      ]
     },
     "metadata": {},
     "output_type": "display_data"
    },
    {
     "data": {
      "text/html": [
       "<pre style=\"white-space:pre;overflow-x:auto;line-height:normal;font-family:Menlo,'DejaVu Sans Mono',consolas,'Courier New',monospace\">Analyzing /home/s/Skola/exjobb/github_metric_extractor/out/repositories/TDD-Hangman/src/views/GUI.py\n",
       "</pre>\n"
      ],
      "text/plain": [
       "Analyzing /home/s/Skola/exjobb/github_metric_extractor/out/repositories/TDD-Hangman/src/views/GUI.py\n"
      ]
     },
     "metadata": {},
     "output_type": "display_data"
    },
    {
     "data": {
      "text/html": [
       "<pre style=\"white-space:pre;overflow-x:auto;line-height:normal;font-family:Menlo,'DejaVu Sans Mono',consolas,'Courier New',monospace\">Analyzing /home/s/Skola/exjobb/github_metric_extractor/out/repositories/TDD-Hangman/src/views/__init__.py\n",
       "</pre>\n"
      ],
      "text/plain": [
       "Analyzing /home/s/Skola/exjobb/github_metric_extractor/out/repositories/TDD-Hangman/src/views/__init__.py\n"
      ]
     },
     "metadata": {},
     "output_type": "display_data"
    },
    {
     "data": {
      "text/html": [
       "<pre style=\"white-space:pre;overflow-x:auto;line-height:normal;font-family:Menlo,'DejaVu Sans Mono',consolas,'Courier New',monospace\">Analyzing /home/s/Skola/exjobb/github_metric_extractor/out/repositories/TDD-Hangman/src/controllers/Controller.py\n",
       "</pre>\n"
      ],
      "text/plain": [
       "Analyzing /home/s/Skola/exjobb/github_metric_extractor/out/repositories/TDD-Hangman/src/controllers/Controller.py\n"
      ]
     },
     "metadata": {},
     "output_type": "display_data"
    },
    {
     "data": {
      "text/html": [
       "<pre style=\"white-space:pre;overflow-x:auto;line-height:normal;font-family:Menlo,'DejaVu Sans Mono',consolas,'Courier New',monospace\">Analyzing /home/s/Skola/exjobb/github_metric_extractor/out/repositories/TDD-Hangman/src/controllers/__init__.py\n",
       "</pre>\n"
      ],
      "text/plain": [
       "Analyzing /home/s/Skola/exjobb/github_metric_extractor/out/repositories/TDD-Hangman/src/controllers/__init__.py\n"
      ]
     },
     "metadata": {},
     "output_type": "display_data"
    },
    {
     "data": {
      "text/html": [
       "<pre style=\"white-space:pre;overflow-x:auto;line-height:normal;font-family:Menlo,'DejaVu Sans Mono',consolas,'Courier New',monospace\">Analyzing /home/s/Skola/exjobb/github_metric_extractor/out/repositories/TDD-Hangman/src/models/GameEngine.py\n",
       "</pre>\n"
      ],
      "text/plain": [
       "Analyzing /home/s/Skola/exjobb/github_metric_extractor/out/repositories/TDD-Hangman/src/models/GameEngine.py\n"
      ]
     },
     "metadata": {},
     "output_type": "display_data"
    },
    {
     "data": {
      "text/html": [
       "<pre style=\"white-space:pre;overflow-x:auto;line-height:normal;font-family:Menlo,'DejaVu Sans Mono',consolas,'Courier New',monospace\">Analyzing /home/s/Skola/exjobb/github_metric_extractor/out/repositories/TDD-Hangman/src/models/__init__.py\n",
       "</pre>\n"
      ],
      "text/plain": [
       "Analyzing /home/s/Skola/exjobb/github_metric_extractor/out/repositories/TDD-Hangman/src/models/__init__.py\n"
      ]
     },
     "metadata": {},
     "output_type": "display_data"
    },
    {
     "data": {
      "text/html": [
       "<pre style=\"white-space:pre;overflow-x:auto;line-height:normal;font-family:Menlo,'DejaVu Sans Mono',consolas,'Courier New',monospace\">Analyzing /home/s/Skola/exjobb/github_metric_extractor/out/repositories/TDD-Hangman/src/other/__init__.py\n",
       "</pre>\n"
      ],
      "text/plain": [
       "Analyzing /home/s/Skola/exjobb/github_metric_extractor/out/repositories/TDD-Hangman/src/other/__init__.py\n"
      ]
     },
     "metadata": {},
     "output_type": "display_data"
    },
    {
     "data": {
      "text/html": [
       "<pre style=\"white-space:pre;overflow-x:auto;line-height:normal;font-family:Menlo,'DejaVu Sans Mono',consolas,'Courier New',monospace\">Analyzing /home/s/Skola/exjobb/github_metric_extractor/out/repositories/TDD-Hangman/tests/test_view.py\n",
       "</pre>\n"
      ],
      "text/plain": [
       "Analyzing /home/s/Skola/exjobb/github_metric_extractor/out/repositories/TDD-Hangman/tests/test_view.py\n"
      ]
     },
     "metadata": {},
     "output_type": "display_data"
    },
    {
     "data": {
      "text/html": [
       "<pre style=\"white-space:pre;overflow-x:auto;line-height:normal;font-family:Menlo,'DejaVu Sans Mono',consolas,'Courier New',monospace\">Analyzing /home/s/Skola/exjobb/github_metric_extractor/out/repositories/TDD-Hangman/tests/test_controller.py\n",
       "</pre>\n"
      ],
      "text/plain": [
       "Analyzing /home/s/Skola/exjobb/github_metric_extractor/out/repositories/TDD-Hangman/tests/test_controller.py\n"
      ]
     },
     "metadata": {},
     "output_type": "display_data"
    },
    {
     "data": {
      "text/html": [
       "<pre style=\"white-space:pre;overflow-x:auto;line-height:normal;font-family:Menlo,'DejaVu Sans Mono',consolas,'Courier New',monospace\">Analyzing /home/s/Skola/exjobb/github_metric_extractor/out/repositories/TDD-Hangman/tests/test_model.py\n",
       "</pre>\n"
      ],
      "text/plain": [
       "Analyzing /home/s/Skola/exjobb/github_metric_extractor/out/repositories/TDD-Hangman/tests/test_model.py\n"
      ]
     },
     "metadata": {},
     "output_type": "display_data"
    },
    {
     "data": {
      "text/html": [
       "<pre style=\"white-space:pre;overflow-x:auto;line-height:normal;font-family:Menlo,'DejaVu Sans Mono',consolas,'Courier New',monospace\">Analyzing /home/s/Skola/exjobb/github_metric_extractor/out/repositories/TDD-Hangman/tests/__init__.py\n",
       "</pre>\n"
      ],
      "text/plain": [
       "Analyzing /home/s/Skola/exjobb/github_metric_extractor/out/repositories/TDD-Hangman/tests/__init__.py\n"
      ]
     },
     "metadata": {},
     "output_type": "display_data"
    },
    {
     "data": {
      "text/html": [
       "<pre style=\"white-space:pre;overflow-x:auto;line-height:normal;font-family:Menlo,'DejaVu Sans Mono',consolas,'Courier New',monospace\">Analyzing /home/s/Skola/exjobb/github_metric_extractor/out/repositories/TDD-Hangman/src/hangman.py\n",
       "</pre>\n"
      ],
      "text/plain": [
       "Analyzing /home/s/Skola/exjobb/github_metric_extractor/out/repositories/TDD-Hangman/src/hangman.py\n"
      ]
     },
     "metadata": {},
     "output_type": "display_data"
    },
    {
     "data": {
      "text/html": [
       "<pre style=\"white-space:pre;overflow-x:auto;line-height:normal;font-family:Menlo,'DejaVu Sans Mono',consolas,'Courier New',monospace\">Analyzing /home/s/Skola/exjobb/github_metric_extractor/out/repositories/TDD-Hangman/src/views/GUI.py\n",
       "</pre>\n"
      ],
      "text/plain": [
       "Analyzing /home/s/Skola/exjobb/github_metric_extractor/out/repositories/TDD-Hangman/src/views/GUI.py\n"
      ]
     },
     "metadata": {},
     "output_type": "display_data"
    },
    {
     "data": {
      "text/html": [
       "<pre style=\"white-space:pre;overflow-x:auto;line-height:normal;font-family:Menlo,'DejaVu Sans Mono',consolas,'Courier New',monospace\">Analyzing /home/s/Skola/exjobb/github_metric_extractor/out/repositories/TDD-Hangman/src/views/__init__.py\n",
       "</pre>\n"
      ],
      "text/plain": [
       "Analyzing /home/s/Skola/exjobb/github_metric_extractor/out/repositories/TDD-Hangman/src/views/__init__.py\n"
      ]
     },
     "metadata": {},
     "output_type": "display_data"
    },
    {
     "data": {
      "text/html": [
       "<pre style=\"white-space:pre;overflow-x:auto;line-height:normal;font-family:Menlo,'DejaVu Sans Mono',consolas,'Courier New',monospace\">Analyzing /home/s/Skola/exjobb/github_metric_extractor/out/repositories/TDD-Hangman/src/controllers/Controller.py\n",
       "</pre>\n"
      ],
      "text/plain": [
       "Analyzing /home/s/Skola/exjobb/github_metric_extractor/out/repositories/TDD-Hangman/src/controllers/Controller.py\n"
      ]
     },
     "metadata": {},
     "output_type": "display_data"
    },
    {
     "data": {
      "text/html": [
       "<pre style=\"white-space:pre;overflow-x:auto;line-height:normal;font-family:Menlo,'DejaVu Sans Mono',consolas,'Courier New',monospace\">Analyzing /home/s/Skola/exjobb/github_metric_extractor/out/repositories/TDD-Hangman/src/controllers/__init__.py\n",
       "</pre>\n"
      ],
      "text/plain": [
       "Analyzing /home/s/Skola/exjobb/github_metric_extractor/out/repositories/TDD-Hangman/src/controllers/__init__.py\n"
      ]
     },
     "metadata": {},
     "output_type": "display_data"
    },
    {
     "data": {
      "text/html": [
       "<pre style=\"white-space:pre;overflow-x:auto;line-height:normal;font-family:Menlo,'DejaVu Sans Mono',consolas,'Courier New',monospace\">Analyzing /home/s/Skola/exjobb/github_metric_extractor/out/repositories/TDD-Hangman/src/models/GameEngine.py\n",
       "</pre>\n"
      ],
      "text/plain": [
       "Analyzing /home/s/Skola/exjobb/github_metric_extractor/out/repositories/TDD-Hangman/src/models/GameEngine.py\n"
      ]
     },
     "metadata": {},
     "output_type": "display_data"
    },
    {
     "data": {
      "text/html": [
       "<pre style=\"white-space:pre;overflow-x:auto;line-height:normal;font-family:Menlo,'DejaVu Sans Mono',consolas,'Courier New',monospace\">Analyzing /home/s/Skola/exjobb/github_metric_extractor/out/repositories/TDD-Hangman/src/models/__init__.py\n",
       "</pre>\n"
      ],
      "text/plain": [
       "Analyzing /home/s/Skola/exjobb/github_metric_extractor/out/repositories/TDD-Hangman/src/models/__init__.py\n"
      ]
     },
     "metadata": {},
     "output_type": "display_data"
    },
    {
     "data": {
      "text/html": [
       "<pre style=\"white-space:pre;overflow-x:auto;line-height:normal;font-family:Menlo,'DejaVu Sans Mono',consolas,'Courier New',monospace\">Analyzing /home/s/Skola/exjobb/github_metric_extractor/out/repositories/TDD-Hangman/src/other/__init__.py\n",
       "</pre>\n"
      ],
      "text/plain": [
       "Analyzing /home/s/Skola/exjobb/github_metric_extractor/out/repositories/TDD-Hangman/src/other/__init__.py\n"
      ]
     },
     "metadata": {},
     "output_type": "display_data"
    },
    {
     "data": {
      "text/html": [
       "<pre style=\"white-space:pre;overflow-x:auto;line-height:normal;font-family:Menlo,'DejaVu Sans Mono',consolas,'Courier New',monospace\">Analyzing /home/s/Skola/exjobb/github_metric_extractor/out/repositories/TDD-Hangman/tests/test_view.py\n",
       "</pre>\n"
      ],
      "text/plain": [
       "Analyzing /home/s/Skola/exjobb/github_metric_extractor/out/repositories/TDD-Hangman/tests/test_view.py\n"
      ]
     },
     "metadata": {},
     "output_type": "display_data"
    },
    {
     "data": {
      "text/html": [
       "<pre style=\"white-space:pre;overflow-x:auto;line-height:normal;font-family:Menlo,'DejaVu Sans Mono',consolas,'Courier New',monospace\">Analyzing /home/s/Skola/exjobb/github_metric_extractor/out/repositories/TDD-Hangman/tests/test_controller.py\n",
       "</pre>\n"
      ],
      "text/plain": [
       "Analyzing /home/s/Skola/exjobb/github_metric_extractor/out/repositories/TDD-Hangman/tests/test_controller.py\n"
      ]
     },
     "metadata": {},
     "output_type": "display_data"
    },
    {
     "data": {
      "text/html": [
       "<pre style=\"white-space:pre;overflow-x:auto;line-height:normal;font-family:Menlo,'DejaVu Sans Mono',consolas,'Courier New',monospace\">Analyzing /home/s/Skola/exjobb/github_metric_extractor/out/repositories/TDD-Hangman/tests/test_model.py\n",
       "</pre>\n"
      ],
      "text/plain": [
       "Analyzing /home/s/Skola/exjobb/github_metric_extractor/out/repositories/TDD-Hangman/tests/test_model.py\n"
      ]
     },
     "metadata": {},
     "output_type": "display_data"
    },
    {
     "data": {
      "text/html": [
       "<pre style=\"white-space:pre;overflow-x:auto;line-height:normal;font-family:Menlo,'DejaVu Sans Mono',consolas,'Courier New',monospace\">Analyzing /home/s/Skola/exjobb/github_metric_extractor/out/repositories/TDD-Hangman/tests/__init__.py\n",
       "</pre>\n"
      ],
      "text/plain": [
       "Analyzing /home/s/Skola/exjobb/github_metric_extractor/out/repositories/TDD-Hangman/tests/__init__.py\n"
      ]
     },
     "metadata": {},
     "output_type": "display_data"
    },
    {
     "data": {
      "text/html": [
       "<pre style=\"white-space:pre;overflow-x:auto;line-height:normal;font-family:Menlo,'DejaVu Sans Mono',consolas,'Courier New',monospace\">Analyzing /home/s/Skola/exjobb/github_metric_extractor/out/repositories/TDD-Hangman/src/hangman.py\n",
       "</pre>\n"
      ],
      "text/plain": [
       "Analyzing /home/s/Skola/exjobb/github_metric_extractor/out/repositories/TDD-Hangman/src/hangman.py\n"
      ]
     },
     "metadata": {},
     "output_type": "display_data"
    },
    {
     "data": {
      "text/html": [
       "<pre style=\"white-space:pre;overflow-x:auto;line-height:normal;font-family:Menlo,'DejaVu Sans Mono',consolas,'Courier New',monospace\">Analyzing /home/s/Skola/exjobb/github_metric_extractor/out/repositories/TDD-Hangman/src/views/GUI.py\n",
       "</pre>\n"
      ],
      "text/plain": [
       "Analyzing /home/s/Skola/exjobb/github_metric_extractor/out/repositories/TDD-Hangman/src/views/GUI.py\n"
      ]
     },
     "metadata": {},
     "output_type": "display_data"
    },
    {
     "data": {
      "text/html": [
       "<pre style=\"white-space:pre;overflow-x:auto;line-height:normal;font-family:Menlo,'DejaVu Sans Mono',consolas,'Courier New',monospace\">Analyzing /home/s/Skola/exjobb/github_metric_extractor/out/repositories/TDD-Hangman/src/views/__init__.py\n",
       "</pre>\n"
      ],
      "text/plain": [
       "Analyzing /home/s/Skola/exjobb/github_metric_extractor/out/repositories/TDD-Hangman/src/views/__init__.py\n"
      ]
     },
     "metadata": {},
     "output_type": "display_data"
    },
    {
     "data": {
      "text/html": [
       "<pre style=\"white-space:pre;overflow-x:auto;line-height:normal;font-family:Menlo,'DejaVu Sans Mono',consolas,'Courier New',monospace\">Analyzing /home/s/Skola/exjobb/github_metric_extractor/out/repositories/TDD-Hangman/src/controllers/Controller.py\n",
       "</pre>\n"
      ],
      "text/plain": [
       "Analyzing /home/s/Skola/exjobb/github_metric_extractor/out/repositories/TDD-Hangman/src/controllers/Controller.py\n"
      ]
     },
     "metadata": {},
     "output_type": "display_data"
    },
    {
     "data": {
      "text/html": [
       "<pre style=\"white-space:pre;overflow-x:auto;line-height:normal;font-family:Menlo,'DejaVu Sans Mono',consolas,'Courier New',monospace\">Analyzing /home/s/Skola/exjobb/github_metric_extractor/out/repositories/TDD-Hangman/src/controllers/__init__.py\n",
       "</pre>\n"
      ],
      "text/plain": [
       "Analyzing /home/s/Skola/exjobb/github_metric_extractor/out/repositories/TDD-Hangman/src/controllers/__init__.py\n"
      ]
     },
     "metadata": {},
     "output_type": "display_data"
    },
    {
     "data": {
      "text/html": [
       "<pre style=\"white-space:pre;overflow-x:auto;line-height:normal;font-family:Menlo,'DejaVu Sans Mono',consolas,'Courier New',monospace\">Analyzing /home/s/Skola/exjobb/github_metric_extractor/out/repositories/TDD-Hangman/src/models/GameEngine.py\n",
       "</pre>\n"
      ],
      "text/plain": [
       "Analyzing /home/s/Skola/exjobb/github_metric_extractor/out/repositories/TDD-Hangman/src/models/GameEngine.py\n"
      ]
     },
     "metadata": {},
     "output_type": "display_data"
    },
    {
     "data": {
      "text/html": [
       "<pre style=\"white-space:pre;overflow-x:auto;line-height:normal;font-family:Menlo,'DejaVu Sans Mono',consolas,'Courier New',monospace\">Analyzing /home/s/Skola/exjobb/github_metric_extractor/out/repositories/TDD-Hangman/src/models/__init__.py\n",
       "</pre>\n"
      ],
      "text/plain": [
       "Analyzing /home/s/Skola/exjobb/github_metric_extractor/out/repositories/TDD-Hangman/src/models/__init__.py\n"
      ]
     },
     "metadata": {},
     "output_type": "display_data"
    },
    {
     "data": {
      "text/html": [
       "<pre style=\"white-space:pre;overflow-x:auto;line-height:normal;font-family:Menlo,'DejaVu Sans Mono',consolas,'Courier New',monospace\">Analyzing /home/s/Skola/exjobb/github_metric_extractor/out/repositories/TDD-Hangman/src/other/__init__.py\n",
       "</pre>\n"
      ],
      "text/plain": [
       "Analyzing /home/s/Skola/exjobb/github_metric_extractor/out/repositories/TDD-Hangman/src/other/__init__.py\n"
      ]
     },
     "metadata": {},
     "output_type": "display_data"
    },
    {
     "data": {
      "text/html": [
       "<pre style=\"white-space:pre;overflow-x:auto;line-height:normal;font-family:Menlo,'DejaVu Sans Mono',consolas,'Courier New',monospace\">Analyzing /home/s/Skola/exjobb/github_metric_extractor/out/repositories/TDD-Hangman/tests/test_view.py\n",
       "</pre>\n"
      ],
      "text/plain": [
       "Analyzing /home/s/Skola/exjobb/github_metric_extractor/out/repositories/TDD-Hangman/tests/test_view.py\n"
      ]
     },
     "metadata": {},
     "output_type": "display_data"
    },
    {
     "data": {
      "text/html": [
       "<pre style=\"white-space:pre;overflow-x:auto;line-height:normal;font-family:Menlo,'DejaVu Sans Mono',consolas,'Courier New',monospace\">Analyzing /home/s/Skola/exjobb/github_metric_extractor/out/repositories/TDD-Hangman/tests/test_controller.py\n",
       "</pre>\n"
      ],
      "text/plain": [
       "Analyzing /home/s/Skola/exjobb/github_metric_extractor/out/repositories/TDD-Hangman/tests/test_controller.py\n"
      ]
     },
     "metadata": {},
     "output_type": "display_data"
    },
    {
     "data": {
      "text/html": [
       "<pre style=\"white-space:pre;overflow-x:auto;line-height:normal;font-family:Menlo,'DejaVu Sans Mono',consolas,'Courier New',monospace\">Analyzing /home/s/Skola/exjobb/github_metric_extractor/out/repositories/TDD-Hangman/tests/test_model.py\n",
       "</pre>\n"
      ],
      "text/plain": [
       "Analyzing /home/s/Skola/exjobb/github_metric_extractor/out/repositories/TDD-Hangman/tests/test_model.py\n"
      ]
     },
     "metadata": {},
     "output_type": "display_data"
    },
    {
     "data": {
      "text/html": [
       "<pre style=\"white-space:pre;overflow-x:auto;line-height:normal;font-family:Menlo,'DejaVu Sans Mono',consolas,'Courier New',monospace\">Analyzing /home/s/Skola/exjobb/github_metric_extractor/out/repositories/TDD-Hangman/tests/__init__.py\n",
       "</pre>\n"
      ],
      "text/plain": [
       "Analyzing /home/s/Skola/exjobb/github_metric_extractor/out/repositories/TDD-Hangman/tests/__init__.py\n"
      ]
     },
     "metadata": {},
     "output_type": "display_data"
    },
    {
     "data": {
      "text/html": [
       "<pre style=\"white-space:pre;overflow-x:auto;line-height:normal;font-family:Menlo,'DejaVu Sans Mono',consolas,'Courier New',monospace\">Analyzing /home/s/Skola/exjobb/github_metric_extractor/out/repositories/TDD-Hangman/src/hangman.py\n",
       "</pre>\n"
      ],
      "text/plain": [
       "Analyzing /home/s/Skola/exjobb/github_metric_extractor/out/repositories/TDD-Hangman/src/hangman.py\n"
      ]
     },
     "metadata": {},
     "output_type": "display_data"
    },
    {
     "data": {
      "text/html": [
       "<pre style=\"white-space:pre;overflow-x:auto;line-height:normal;font-family:Menlo,'DejaVu Sans Mono',consolas,'Courier New',monospace\">Analyzing /home/s/Skola/exjobb/github_metric_extractor/out/repositories/TDD-Hangman/src/views/GUI.py\n",
       "</pre>\n"
      ],
      "text/plain": [
       "Analyzing /home/s/Skola/exjobb/github_metric_extractor/out/repositories/TDD-Hangman/src/views/GUI.py\n"
      ]
     },
     "metadata": {},
     "output_type": "display_data"
    },
    {
     "data": {
      "text/html": [
       "<pre style=\"white-space:pre;overflow-x:auto;line-height:normal;font-family:Menlo,'DejaVu Sans Mono',consolas,'Courier New',monospace\">Analyzing /home/s/Skola/exjobb/github_metric_extractor/out/repositories/TDD-Hangman/src/views/__init__.py\n",
       "</pre>\n"
      ],
      "text/plain": [
       "Analyzing /home/s/Skola/exjobb/github_metric_extractor/out/repositories/TDD-Hangman/src/views/__init__.py\n"
      ]
     },
     "metadata": {},
     "output_type": "display_data"
    },
    {
     "data": {
      "text/html": [
       "<pre style=\"white-space:pre;overflow-x:auto;line-height:normal;font-family:Menlo,'DejaVu Sans Mono',consolas,'Courier New',monospace\">Analyzing /home/s/Skola/exjobb/github_metric_extractor/out/repositories/TDD-Hangman/src/controllers/Controller.py\n",
       "</pre>\n"
      ],
      "text/plain": [
       "Analyzing /home/s/Skola/exjobb/github_metric_extractor/out/repositories/TDD-Hangman/src/controllers/Controller.py\n"
      ]
     },
     "metadata": {},
     "output_type": "display_data"
    },
    {
     "data": {
      "text/html": [
       "<pre style=\"white-space:pre;overflow-x:auto;line-height:normal;font-family:Menlo,'DejaVu Sans Mono',consolas,'Courier New',monospace\">Analyzing /home/s/Skola/exjobb/github_metric_extractor/out/repositories/TDD-Hangman/src/controllers/__init__.py\n",
       "</pre>\n"
      ],
      "text/plain": [
       "Analyzing /home/s/Skola/exjobb/github_metric_extractor/out/repositories/TDD-Hangman/src/controllers/__init__.py\n"
      ]
     },
     "metadata": {},
     "output_type": "display_data"
    },
    {
     "data": {
      "text/html": [
       "<pre style=\"white-space:pre;overflow-x:auto;line-height:normal;font-family:Menlo,'DejaVu Sans Mono',consolas,'Courier New',monospace\">Analyzing /home/s/Skola/exjobb/github_metric_extractor/out/repositories/TDD-Hangman/src/models/GameEngine.py\n",
       "</pre>\n"
      ],
      "text/plain": [
       "Analyzing /home/s/Skola/exjobb/github_metric_extractor/out/repositories/TDD-Hangman/src/models/GameEngine.py\n"
      ]
     },
     "metadata": {},
     "output_type": "display_data"
    },
    {
     "data": {
      "text/html": [
       "<pre style=\"white-space:pre;overflow-x:auto;line-height:normal;font-family:Menlo,'DejaVu Sans Mono',consolas,'Courier New',monospace\">Analyzing /home/s/Skola/exjobb/github_metric_extractor/out/repositories/TDD-Hangman/src/models/__init__.py\n",
       "</pre>\n"
      ],
      "text/plain": [
       "Analyzing /home/s/Skola/exjobb/github_metric_extractor/out/repositories/TDD-Hangman/src/models/__init__.py\n"
      ]
     },
     "metadata": {},
     "output_type": "display_data"
    },
    {
     "data": {
      "text/html": [
       "<pre style=\"white-space:pre;overflow-x:auto;line-height:normal;font-family:Menlo,'DejaVu Sans Mono',consolas,'Courier New',monospace\">Analyzing /home/s/Skola/exjobb/github_metric_extractor/out/repositories/TDD-Hangman/src/other/__init__.py\n",
       "</pre>\n"
      ],
      "text/plain": [
       "Analyzing /home/s/Skola/exjobb/github_metric_extractor/out/repositories/TDD-Hangman/src/other/__init__.py\n"
      ]
     },
     "metadata": {},
     "output_type": "display_data"
    },
    {
     "data": {
      "text/html": [
       "<pre style=\"white-space:pre;overflow-x:auto;line-height:normal;font-family:Menlo,'DejaVu Sans Mono',consolas,'Courier New',monospace\">Analyzing /home/s/Skola/exjobb/github_metric_extractor/out/repositories/TDD-Hangman/tests/test_view.py\n",
       "</pre>\n"
      ],
      "text/plain": [
       "Analyzing /home/s/Skola/exjobb/github_metric_extractor/out/repositories/TDD-Hangman/tests/test_view.py\n"
      ]
     },
     "metadata": {},
     "output_type": "display_data"
    },
    {
     "data": {
      "text/html": [
       "<pre style=\"white-space:pre;overflow-x:auto;line-height:normal;font-family:Menlo,'DejaVu Sans Mono',consolas,'Courier New',monospace\">Analyzing /home/s/Skola/exjobb/github_metric_extractor/out/repositories/TDD-Hangman/tests/test_controller.py\n",
       "</pre>\n"
      ],
      "text/plain": [
       "Analyzing /home/s/Skola/exjobb/github_metric_extractor/out/repositories/TDD-Hangman/tests/test_controller.py\n"
      ]
     },
     "metadata": {},
     "output_type": "display_data"
    },
    {
     "data": {
      "text/html": [
       "<pre style=\"white-space:pre;overflow-x:auto;line-height:normal;font-family:Menlo,'DejaVu Sans Mono',consolas,'Courier New',monospace\">Analyzing /home/s/Skola/exjobb/github_metric_extractor/out/repositories/TDD-Hangman/tests/test_model.py\n",
       "</pre>\n"
      ],
      "text/plain": [
       "Analyzing /home/s/Skola/exjobb/github_metric_extractor/out/repositories/TDD-Hangman/tests/test_model.py\n"
      ]
     },
     "metadata": {},
     "output_type": "display_data"
    },
    {
     "data": {
      "text/html": [
       "<pre style=\"white-space:pre;overflow-x:auto;line-height:normal;font-family:Menlo,'DejaVu Sans Mono',consolas,'Courier New',monospace\">Analyzing /home/s/Skola/exjobb/github_metric_extractor/out/repositories/TDD-Hangman/tests/__init__.py\n",
       "</pre>\n"
      ],
      "text/plain": [
       "Analyzing /home/s/Skola/exjobb/github_metric_extractor/out/repositories/TDD-Hangman/tests/__init__.py\n"
      ]
     },
     "metadata": {},
     "output_type": "display_data"
    },
    {
     "data": {
      "text/html": [
       "<pre style=\"white-space:pre;overflow-x:auto;line-height:normal;font-family:Menlo,'DejaVu Sans Mono',consolas,'Courier New',monospace\">Analyzing /home/s/Skola/exjobb/github_metric_extractor/out/repositories/TDD-Hangman/src/hangman.py\n",
       "</pre>\n"
      ],
      "text/plain": [
       "Analyzing /home/s/Skola/exjobb/github_metric_extractor/out/repositories/TDD-Hangman/src/hangman.py\n"
      ]
     },
     "metadata": {},
     "output_type": "display_data"
    },
    {
     "data": {
      "text/html": [
       "<pre style=\"white-space:pre;overflow-x:auto;line-height:normal;font-family:Menlo,'DejaVu Sans Mono',consolas,'Courier New',monospace\">Analyzing /home/s/Skola/exjobb/github_metric_extractor/out/repositories/TDD-Hangman/src/views/GUI.py\n",
       "</pre>\n"
      ],
      "text/plain": [
       "Analyzing /home/s/Skola/exjobb/github_metric_extractor/out/repositories/TDD-Hangman/src/views/GUI.py\n"
      ]
     },
     "metadata": {},
     "output_type": "display_data"
    },
    {
     "data": {
      "text/html": [
       "<pre style=\"white-space:pre;overflow-x:auto;line-height:normal;font-family:Menlo,'DejaVu Sans Mono',consolas,'Courier New',monospace\">Analyzing /home/s/Skola/exjobb/github_metric_extractor/out/repositories/TDD-Hangman/src/views/__init__.py\n",
       "</pre>\n"
      ],
      "text/plain": [
       "Analyzing /home/s/Skola/exjobb/github_metric_extractor/out/repositories/TDD-Hangman/src/views/__init__.py\n"
      ]
     },
     "metadata": {},
     "output_type": "display_data"
    },
    {
     "data": {
      "text/html": [
       "<pre style=\"white-space:pre;overflow-x:auto;line-height:normal;font-family:Menlo,'DejaVu Sans Mono',consolas,'Courier New',monospace\">Analyzing /home/s/Skola/exjobb/github_metric_extractor/out/repositories/TDD-Hangman/src/controllers/Controller.py\n",
       "</pre>\n"
      ],
      "text/plain": [
       "Analyzing /home/s/Skola/exjobb/github_metric_extractor/out/repositories/TDD-Hangman/src/controllers/Controller.py\n"
      ]
     },
     "metadata": {},
     "output_type": "display_data"
    },
    {
     "data": {
      "text/html": [
       "<pre style=\"white-space:pre;overflow-x:auto;line-height:normal;font-family:Menlo,'DejaVu Sans Mono',consolas,'Courier New',monospace\">Analyzing /home/s/Skola/exjobb/github_metric_extractor/out/repositories/TDD-Hangman/src/controllers/__init__.py\n",
       "</pre>\n"
      ],
      "text/plain": [
       "Analyzing /home/s/Skola/exjobb/github_metric_extractor/out/repositories/TDD-Hangman/src/controllers/__init__.py\n"
      ]
     },
     "metadata": {},
     "output_type": "display_data"
    },
    {
     "data": {
      "text/html": [
       "<pre style=\"white-space:pre;overflow-x:auto;line-height:normal;font-family:Menlo,'DejaVu Sans Mono',consolas,'Courier New',monospace\">Analyzing /home/s/Skola/exjobb/github_metric_extractor/out/repositories/TDD-Hangman/src/models/GameEngine.py\n",
       "</pre>\n"
      ],
      "text/plain": [
       "Analyzing /home/s/Skola/exjobb/github_metric_extractor/out/repositories/TDD-Hangman/src/models/GameEngine.py\n"
      ]
     },
     "metadata": {},
     "output_type": "display_data"
    },
    {
     "data": {
      "text/html": [
       "<pre style=\"white-space:pre;overflow-x:auto;line-height:normal;font-family:Menlo,'DejaVu Sans Mono',consolas,'Courier New',monospace\">Analyzing /home/s/Skola/exjobb/github_metric_extractor/out/repositories/TDD-Hangman/src/models/__init__.py\n",
       "</pre>\n"
      ],
      "text/plain": [
       "Analyzing /home/s/Skola/exjobb/github_metric_extractor/out/repositories/TDD-Hangman/src/models/__init__.py\n"
      ]
     },
     "metadata": {},
     "output_type": "display_data"
    },
    {
     "data": {
      "text/html": [
       "<pre style=\"white-space:pre;overflow-x:auto;line-height:normal;font-family:Menlo,'DejaVu Sans Mono',consolas,'Courier New',monospace\">Analyzing /home/s/Skola/exjobb/github_metric_extractor/out/repositories/TDD-Hangman/src/other/__init__.py\n",
       "</pre>\n"
      ],
      "text/plain": [
       "Analyzing /home/s/Skola/exjobb/github_metric_extractor/out/repositories/TDD-Hangman/src/other/__init__.py\n"
      ]
     },
     "metadata": {},
     "output_type": "display_data"
    },
    {
     "data": {
      "text/html": [
       "<pre style=\"white-space:pre;overflow-x:auto;line-height:normal;font-family:Menlo,'DejaVu Sans Mono',consolas,'Courier New',monospace\">Analyzing /home/s/Skola/exjobb/github_metric_extractor/out/repositories/TDD-Hangman/tests/test_view.py\n",
       "</pre>\n"
      ],
      "text/plain": [
       "Analyzing /home/s/Skola/exjobb/github_metric_extractor/out/repositories/TDD-Hangman/tests/test_view.py\n"
      ]
     },
     "metadata": {},
     "output_type": "display_data"
    },
    {
     "data": {
      "text/html": [
       "<pre style=\"white-space:pre;overflow-x:auto;line-height:normal;font-family:Menlo,'DejaVu Sans Mono',consolas,'Courier New',monospace\">Analyzing /home/s/Skola/exjobb/github_metric_extractor/out/repositories/TDD-Hangman/tests/test_controller.py\n",
       "</pre>\n"
      ],
      "text/plain": [
       "Analyzing /home/s/Skola/exjobb/github_metric_extractor/out/repositories/TDD-Hangman/tests/test_controller.py\n"
      ]
     },
     "metadata": {},
     "output_type": "display_data"
    },
    {
     "data": {
      "text/html": [
       "<pre style=\"white-space:pre;overflow-x:auto;line-height:normal;font-family:Menlo,'DejaVu Sans Mono',consolas,'Courier New',monospace\">Analyzing /home/s/Skola/exjobb/github_metric_extractor/out/repositories/TDD-Hangman/tests/test_model.py\n",
       "</pre>\n"
      ],
      "text/plain": [
       "Analyzing /home/s/Skola/exjobb/github_metric_extractor/out/repositories/TDD-Hangman/tests/test_model.py\n"
      ]
     },
     "metadata": {},
     "output_type": "display_data"
    },
    {
     "data": {
      "text/html": [
       "<pre style=\"white-space:pre;overflow-x:auto;line-height:normal;font-family:Menlo,'DejaVu Sans Mono',consolas,'Courier New',monospace\">Analyzing /home/s/Skola/exjobb/github_metric_extractor/out/repositories/TDD-Hangman/tests/__init__.py\n",
       "</pre>\n"
      ],
      "text/plain": [
       "Analyzing /home/s/Skola/exjobb/github_metric_extractor/out/repositories/TDD-Hangman/tests/__init__.py\n"
      ]
     },
     "metadata": {},
     "output_type": "display_data"
    },
    {
     "data": {
      "text/html": [
       "<pre style=\"white-space:pre;overflow-x:auto;line-height:normal;font-family:Menlo,'DejaVu Sans Mono',consolas,'Courier New',monospace\">Analyzing /home/s/Skola/exjobb/github_metric_extractor/out/repositories/TDD-Hangman/src/hangman.py\n",
       "</pre>\n"
      ],
      "text/plain": [
       "Analyzing /home/s/Skola/exjobb/github_metric_extractor/out/repositories/TDD-Hangman/src/hangman.py\n"
      ]
     },
     "metadata": {},
     "output_type": "display_data"
    },
    {
     "data": {
      "text/html": [
       "<pre style=\"white-space:pre;overflow-x:auto;line-height:normal;font-family:Menlo,'DejaVu Sans Mono',consolas,'Courier New',monospace\">Analyzing /home/s/Skola/exjobb/github_metric_extractor/out/repositories/TDD-Hangman/src/views/GUI.py\n",
       "</pre>\n"
      ],
      "text/plain": [
       "Analyzing /home/s/Skola/exjobb/github_metric_extractor/out/repositories/TDD-Hangman/src/views/GUI.py\n"
      ]
     },
     "metadata": {},
     "output_type": "display_data"
    },
    {
     "data": {
      "text/html": [
       "<pre style=\"white-space:pre;overflow-x:auto;line-height:normal;font-family:Menlo,'DejaVu Sans Mono',consolas,'Courier New',monospace\">Analyzing /home/s/Skola/exjobb/github_metric_extractor/out/repositories/TDD-Hangman/src/views/__init__.py\n",
       "</pre>\n"
      ],
      "text/plain": [
       "Analyzing /home/s/Skola/exjobb/github_metric_extractor/out/repositories/TDD-Hangman/src/views/__init__.py\n"
      ]
     },
     "metadata": {},
     "output_type": "display_data"
    },
    {
     "data": {
      "text/html": [
       "<pre style=\"white-space:pre;overflow-x:auto;line-height:normal;font-family:Menlo,'DejaVu Sans Mono',consolas,'Courier New',monospace\">Analyzing /home/s/Skola/exjobb/github_metric_extractor/out/repositories/TDD-Hangman/src/controllers/Controller.py\n",
       "</pre>\n"
      ],
      "text/plain": [
       "Analyzing /home/s/Skola/exjobb/github_metric_extractor/out/repositories/TDD-Hangman/src/controllers/Controller.py\n"
      ]
     },
     "metadata": {},
     "output_type": "display_data"
    },
    {
     "data": {
      "text/html": [
       "<pre style=\"white-space:pre;overflow-x:auto;line-height:normal;font-family:Menlo,'DejaVu Sans Mono',consolas,'Courier New',monospace\">Analyzing /home/s/Skola/exjobb/github_metric_extractor/out/repositories/TDD-Hangman/src/controllers/__init__.py\n",
       "</pre>\n"
      ],
      "text/plain": [
       "Analyzing /home/s/Skola/exjobb/github_metric_extractor/out/repositories/TDD-Hangman/src/controllers/__init__.py\n"
      ]
     },
     "metadata": {},
     "output_type": "display_data"
    },
    {
     "data": {
      "text/html": [
       "<pre style=\"white-space:pre;overflow-x:auto;line-height:normal;font-family:Menlo,'DejaVu Sans Mono',consolas,'Courier New',monospace\">Analyzing /home/s/Skola/exjobb/github_metric_extractor/out/repositories/TDD-Hangman/src/models/GameEngine.py\n",
       "</pre>\n"
      ],
      "text/plain": [
       "Analyzing /home/s/Skola/exjobb/github_metric_extractor/out/repositories/TDD-Hangman/src/models/GameEngine.py\n"
      ]
     },
     "metadata": {},
     "output_type": "display_data"
    },
    {
     "data": {
      "text/html": [
       "<pre style=\"white-space:pre;overflow-x:auto;line-height:normal;font-family:Menlo,'DejaVu Sans Mono',consolas,'Courier New',monospace\">Analyzing /home/s/Skola/exjobb/github_metric_extractor/out/repositories/TDD-Hangman/src/models/__init__.py\n",
       "</pre>\n"
      ],
      "text/plain": [
       "Analyzing /home/s/Skola/exjobb/github_metric_extractor/out/repositories/TDD-Hangman/src/models/__init__.py\n"
      ]
     },
     "metadata": {},
     "output_type": "display_data"
    },
    {
     "data": {
      "text/html": [
       "<pre style=\"white-space:pre;overflow-x:auto;line-height:normal;font-family:Menlo,'DejaVu Sans Mono',consolas,'Courier New',monospace\">Analyzing /home/s/Skola/exjobb/github_metric_extractor/out/repositories/TDD-Hangman/src/other/__init__.py\n",
       "</pre>\n"
      ],
      "text/plain": [
       "Analyzing /home/s/Skola/exjobb/github_metric_extractor/out/repositories/TDD-Hangman/src/other/__init__.py\n"
      ]
     },
     "metadata": {},
     "output_type": "display_data"
    },
    {
     "data": {
      "text/html": [
       "<pre style=\"white-space:pre;overflow-x:auto;line-height:normal;font-family:Menlo,'DejaVu Sans Mono',consolas,'Courier New',monospace\">Analyzing /home/s/Skola/exjobb/github_metric_extractor/out/repositories/TDD-Hangman/tests/test_view.py\n",
       "</pre>\n"
      ],
      "text/plain": [
       "Analyzing /home/s/Skola/exjobb/github_metric_extractor/out/repositories/TDD-Hangman/tests/test_view.py\n"
      ]
     },
     "metadata": {},
     "output_type": "display_data"
    },
    {
     "data": {
      "text/html": [
       "<pre style=\"white-space:pre;overflow-x:auto;line-height:normal;font-family:Menlo,'DejaVu Sans Mono',consolas,'Courier New',monospace\">Analyzing /home/s/Skola/exjobb/github_metric_extractor/out/repositories/TDD-Hangman/tests/test_controller.py\n",
       "</pre>\n"
      ],
      "text/plain": [
       "Analyzing /home/s/Skola/exjobb/github_metric_extractor/out/repositories/TDD-Hangman/tests/test_controller.py\n"
      ]
     },
     "metadata": {},
     "output_type": "display_data"
    },
    {
     "data": {
      "text/html": [
       "<pre style=\"white-space:pre;overflow-x:auto;line-height:normal;font-family:Menlo,'DejaVu Sans Mono',consolas,'Courier New',monospace\">Analyzing /home/s/Skola/exjobb/github_metric_extractor/out/repositories/TDD-Hangman/tests/test_model.py\n",
       "</pre>\n"
      ],
      "text/plain": [
       "Analyzing /home/s/Skola/exjobb/github_metric_extractor/out/repositories/TDD-Hangman/tests/test_model.py\n"
      ]
     },
     "metadata": {},
     "output_type": "display_data"
    },
    {
     "data": {
      "text/html": [
       "<pre style=\"white-space:pre;overflow-x:auto;line-height:normal;font-family:Menlo,'DejaVu Sans Mono',consolas,'Courier New',monospace\">Analyzing /home/s/Skola/exjobb/github_metric_extractor/out/repositories/TDD-Hangman/tests/__init__.py\n",
       "</pre>\n"
      ],
      "text/plain": [
       "Analyzing /home/s/Skola/exjobb/github_metric_extractor/out/repositories/TDD-Hangman/tests/__init__.py\n"
      ]
     },
     "metadata": {},
     "output_type": "display_data"
    },
    {
     "data": {
      "text/html": [
       "<pre style=\"white-space:pre;overflow-x:auto;line-height:normal;font-family:Menlo,'DejaVu Sans Mono',consolas,'Courier New',monospace\">Analyzing /home/s/Skola/exjobb/github_metric_extractor/out/repositories/TDD-Hangman/src/hangman.py\n",
       "</pre>\n"
      ],
      "text/plain": [
       "Analyzing /home/s/Skola/exjobb/github_metric_extractor/out/repositories/TDD-Hangman/src/hangman.py\n"
      ]
     },
     "metadata": {},
     "output_type": "display_data"
    },
    {
     "data": {
      "text/html": [
       "<pre style=\"white-space:pre;overflow-x:auto;line-height:normal;font-family:Menlo,'DejaVu Sans Mono',consolas,'Courier New',monospace\">Analyzing /home/s/Skola/exjobb/github_metric_extractor/out/repositories/TDD-Hangman/src/views/GUI.py\n",
       "</pre>\n"
      ],
      "text/plain": [
       "Analyzing /home/s/Skola/exjobb/github_metric_extractor/out/repositories/TDD-Hangman/src/views/GUI.py\n"
      ]
     },
     "metadata": {},
     "output_type": "display_data"
    },
    {
     "data": {
      "text/html": [
       "<pre style=\"white-space:pre;overflow-x:auto;line-height:normal;font-family:Menlo,'DejaVu Sans Mono',consolas,'Courier New',monospace\">Analyzing /home/s/Skola/exjobb/github_metric_extractor/out/repositories/TDD-Hangman/src/views/__init__.py\n",
       "</pre>\n"
      ],
      "text/plain": [
       "Analyzing /home/s/Skola/exjobb/github_metric_extractor/out/repositories/TDD-Hangman/src/views/__init__.py\n"
      ]
     },
     "metadata": {},
     "output_type": "display_data"
    },
    {
     "data": {
      "text/html": [
       "<pre style=\"white-space:pre;overflow-x:auto;line-height:normal;font-family:Menlo,'DejaVu Sans Mono',consolas,'Courier New',monospace\">Analyzing /home/s/Skola/exjobb/github_metric_extractor/out/repositories/TDD-Hangman/src/controllers/Controller.py\n",
       "</pre>\n"
      ],
      "text/plain": [
       "Analyzing /home/s/Skola/exjobb/github_metric_extractor/out/repositories/TDD-Hangman/src/controllers/Controller.py\n"
      ]
     },
     "metadata": {},
     "output_type": "display_data"
    },
    {
     "data": {
      "text/html": [
       "<pre style=\"white-space:pre;overflow-x:auto;line-height:normal;font-family:Menlo,'DejaVu Sans Mono',consolas,'Courier New',monospace\">Analyzing /home/s/Skola/exjobb/github_metric_extractor/out/repositories/TDD-Hangman/src/controllers/__init__.py\n",
       "</pre>\n"
      ],
      "text/plain": [
       "Analyzing /home/s/Skola/exjobb/github_metric_extractor/out/repositories/TDD-Hangman/src/controllers/__init__.py\n"
      ]
     },
     "metadata": {},
     "output_type": "display_data"
    },
    {
     "data": {
      "text/html": [
       "<pre style=\"white-space:pre;overflow-x:auto;line-height:normal;font-family:Menlo,'DejaVu Sans Mono',consolas,'Courier New',monospace\">Analyzing /home/s/Skola/exjobb/github_metric_extractor/out/repositories/TDD-Hangman/src/models/GameEngine.py\n",
       "</pre>\n"
      ],
      "text/plain": [
       "Analyzing /home/s/Skola/exjobb/github_metric_extractor/out/repositories/TDD-Hangman/src/models/GameEngine.py\n"
      ]
     },
     "metadata": {},
     "output_type": "display_data"
    },
    {
     "data": {
      "text/html": [
       "<pre style=\"white-space:pre;overflow-x:auto;line-height:normal;font-family:Menlo,'DejaVu Sans Mono',consolas,'Courier New',monospace\">Analyzing /home/s/Skola/exjobb/github_metric_extractor/out/repositories/TDD-Hangman/src/models/__init__.py\n",
       "</pre>\n"
      ],
      "text/plain": [
       "Analyzing /home/s/Skola/exjobb/github_metric_extractor/out/repositories/TDD-Hangman/src/models/__init__.py\n"
      ]
     },
     "metadata": {},
     "output_type": "display_data"
    },
    {
     "data": {
      "text/html": [
       "<pre style=\"white-space:pre;overflow-x:auto;line-height:normal;font-family:Menlo,'DejaVu Sans Mono',consolas,'Courier New',monospace\">Analyzing /home/s/Skola/exjobb/github_metric_extractor/out/repositories/TDD-Hangman/src/other/__init__.py\n",
       "</pre>\n"
      ],
      "text/plain": [
       "Analyzing /home/s/Skola/exjobb/github_metric_extractor/out/repositories/TDD-Hangman/src/other/__init__.py\n"
      ]
     },
     "metadata": {},
     "output_type": "display_data"
    },
    {
     "data": {
      "text/html": [
       "<pre style=\"white-space:pre;overflow-x:auto;line-height:normal;font-family:Menlo,'DejaVu Sans Mono',consolas,'Courier New',monospace\">Analyzing /home/s/Skola/exjobb/github_metric_extractor/out/repositories/TDD-Hangman/tests/test_view.py\n",
       "</pre>\n"
      ],
      "text/plain": [
       "Analyzing /home/s/Skola/exjobb/github_metric_extractor/out/repositories/TDD-Hangman/tests/test_view.py\n"
      ]
     },
     "metadata": {},
     "output_type": "display_data"
    },
    {
     "data": {
      "text/html": [
       "<pre style=\"white-space:pre;overflow-x:auto;line-height:normal;font-family:Menlo,'DejaVu Sans Mono',consolas,'Courier New',monospace\">Analyzing /home/s/Skola/exjobb/github_metric_extractor/out/repositories/TDD-Hangman/tests/test_controller.py\n",
       "</pre>\n"
      ],
      "text/plain": [
       "Analyzing /home/s/Skola/exjobb/github_metric_extractor/out/repositories/TDD-Hangman/tests/test_controller.py\n"
      ]
     },
     "metadata": {},
     "output_type": "display_data"
    },
    {
     "data": {
      "text/html": [
       "<pre style=\"white-space:pre;overflow-x:auto;line-height:normal;font-family:Menlo,'DejaVu Sans Mono',consolas,'Courier New',monospace\">Analyzing /home/s/Skola/exjobb/github_metric_extractor/out/repositories/TDD-Hangman/tests/test_model.py\n",
       "</pre>\n"
      ],
      "text/plain": [
       "Analyzing /home/s/Skola/exjobb/github_metric_extractor/out/repositories/TDD-Hangman/tests/test_model.py\n"
      ]
     },
     "metadata": {},
     "output_type": "display_data"
    },
    {
     "data": {
      "text/html": [
       "<pre style=\"white-space:pre;overflow-x:auto;line-height:normal;font-family:Menlo,'DejaVu Sans Mono',consolas,'Courier New',monospace\">Analyzing /home/s/Skola/exjobb/github_metric_extractor/out/repositories/TDD-Hangman/tests/__init__.py\n",
       "</pre>\n"
      ],
      "text/plain": [
       "Analyzing /home/s/Skola/exjobb/github_metric_extractor/out/repositories/TDD-Hangman/tests/__init__.py\n"
      ]
     },
     "metadata": {},
     "output_type": "display_data"
    },
    {
     "data": {
      "text/html": [
       "<pre style=\"white-space:pre;overflow-x:auto;line-height:normal;font-family:Menlo,'DejaVu Sans Mono',consolas,'Courier New',monospace\">Analyzing /home/s/Skola/exjobb/github_metric_extractor/out/repositories/TDD-Hangman/src/hangman.py\n",
       "</pre>\n"
      ],
      "text/plain": [
       "Analyzing /home/s/Skola/exjobb/github_metric_extractor/out/repositories/TDD-Hangman/src/hangman.py\n"
      ]
     },
     "metadata": {},
     "output_type": "display_data"
    },
    {
     "data": {
      "text/html": [
       "<pre style=\"white-space:pre;overflow-x:auto;line-height:normal;font-family:Menlo,'DejaVu Sans Mono',consolas,'Courier New',monospace\">Analyzing /home/s/Skola/exjobb/github_metric_extractor/out/repositories/TDD-Hangman/src/views/GUI.py\n",
       "</pre>\n"
      ],
      "text/plain": [
       "Analyzing /home/s/Skola/exjobb/github_metric_extractor/out/repositories/TDD-Hangman/src/views/GUI.py\n"
      ]
     },
     "metadata": {},
     "output_type": "display_data"
    },
    {
     "data": {
      "text/html": [
       "<pre style=\"white-space:pre;overflow-x:auto;line-height:normal;font-family:Menlo,'DejaVu Sans Mono',consolas,'Courier New',monospace\">Analyzing /home/s/Skola/exjobb/github_metric_extractor/out/repositories/TDD-Hangman/src/views/__init__.py\n",
       "</pre>\n"
      ],
      "text/plain": [
       "Analyzing /home/s/Skola/exjobb/github_metric_extractor/out/repositories/TDD-Hangman/src/views/__init__.py\n"
      ]
     },
     "metadata": {},
     "output_type": "display_data"
    },
    {
     "data": {
      "text/html": [
       "<pre style=\"white-space:pre;overflow-x:auto;line-height:normal;font-family:Menlo,'DejaVu Sans Mono',consolas,'Courier New',monospace\">Analyzing /home/s/Skola/exjobb/github_metric_extractor/out/repositories/TDD-Hangman/src/controllers/Controller.py\n",
       "</pre>\n"
      ],
      "text/plain": [
       "Analyzing /home/s/Skola/exjobb/github_metric_extractor/out/repositories/TDD-Hangman/src/controllers/Controller.py\n"
      ]
     },
     "metadata": {},
     "output_type": "display_data"
    },
    {
     "data": {
      "text/html": [
       "<pre style=\"white-space:pre;overflow-x:auto;line-height:normal;font-family:Menlo,'DejaVu Sans Mono',consolas,'Courier New',monospace\">Analyzing /home/s/Skola/exjobb/github_metric_extractor/out/repositories/TDD-Hangman/src/controllers/__init__.py\n",
       "</pre>\n"
      ],
      "text/plain": [
       "Analyzing /home/s/Skola/exjobb/github_metric_extractor/out/repositories/TDD-Hangman/src/controllers/__init__.py\n"
      ]
     },
     "metadata": {},
     "output_type": "display_data"
    },
    {
     "data": {
      "text/html": [
       "<pre style=\"white-space:pre;overflow-x:auto;line-height:normal;font-family:Menlo,'DejaVu Sans Mono',consolas,'Courier New',monospace\">Analyzing /home/s/Skola/exjobb/github_metric_extractor/out/repositories/TDD-Hangman/src/models/GameEngine.py\n",
       "</pre>\n"
      ],
      "text/plain": [
       "Analyzing /home/s/Skola/exjobb/github_metric_extractor/out/repositories/TDD-Hangman/src/models/GameEngine.py\n"
      ]
     },
     "metadata": {},
     "output_type": "display_data"
    },
    {
     "data": {
      "text/html": [
       "<pre style=\"white-space:pre;overflow-x:auto;line-height:normal;font-family:Menlo,'DejaVu Sans Mono',consolas,'Courier New',monospace\">Analyzing /home/s/Skola/exjobb/github_metric_extractor/out/repositories/TDD-Hangman/src/models/__init__.py\n",
       "</pre>\n"
      ],
      "text/plain": [
       "Analyzing /home/s/Skola/exjobb/github_metric_extractor/out/repositories/TDD-Hangman/src/models/__init__.py\n"
      ]
     },
     "metadata": {},
     "output_type": "display_data"
    },
    {
     "data": {
      "text/html": [
       "<pre style=\"white-space:pre;overflow-x:auto;line-height:normal;font-family:Menlo,'DejaVu Sans Mono',consolas,'Courier New',monospace\">Analyzing /home/s/Skola/exjobb/github_metric_extractor/out/repositories/TDD-Hangman/src/other/__init__.py\n",
       "</pre>\n"
      ],
      "text/plain": [
       "Analyzing /home/s/Skola/exjobb/github_metric_extractor/out/repositories/TDD-Hangman/src/other/__init__.py\n"
      ]
     },
     "metadata": {},
     "output_type": "display_data"
    },
    {
     "data": {
      "text/html": [
       "<pre style=\"white-space:pre;overflow-x:auto;line-height:normal;font-family:Menlo,'DejaVu Sans Mono',consolas,'Courier New',monospace\">Analyzing /home/s/Skola/exjobb/github_metric_extractor/out/repositories/TDD-Hangman/tests/test_view.py\n",
       "</pre>\n"
      ],
      "text/plain": [
       "Analyzing /home/s/Skola/exjobb/github_metric_extractor/out/repositories/TDD-Hangman/tests/test_view.py\n"
      ]
     },
     "metadata": {},
     "output_type": "display_data"
    },
    {
     "data": {
      "text/html": [
       "<pre style=\"white-space:pre;overflow-x:auto;line-height:normal;font-family:Menlo,'DejaVu Sans Mono',consolas,'Courier New',monospace\">Analyzing /home/s/Skola/exjobb/github_metric_extractor/out/repositories/TDD-Hangman/tests/test_controller.py\n",
       "</pre>\n"
      ],
      "text/plain": [
       "Analyzing /home/s/Skola/exjobb/github_metric_extractor/out/repositories/TDD-Hangman/tests/test_controller.py\n"
      ]
     },
     "metadata": {},
     "output_type": "display_data"
    },
    {
     "data": {
      "text/html": [
       "<pre style=\"white-space:pre;overflow-x:auto;line-height:normal;font-family:Menlo,'DejaVu Sans Mono',consolas,'Courier New',monospace\">Analyzing /home/s/Skola/exjobb/github_metric_extractor/out/repositories/TDD-Hangman/tests/test_model.py\n",
       "</pre>\n"
      ],
      "text/plain": [
       "Analyzing /home/s/Skola/exjobb/github_metric_extractor/out/repositories/TDD-Hangman/tests/test_model.py\n"
      ]
     },
     "metadata": {},
     "output_type": "display_data"
    },
    {
     "data": {
      "text/html": [
       "<pre style=\"white-space:pre;overflow-x:auto;line-height:normal;font-family:Menlo,'DejaVu Sans Mono',consolas,'Courier New',monospace\">Analyzing /home/s/Skola/exjobb/github_metric_extractor/out/repositories/TDD-Hangman/tests/__init__.py\n",
       "</pre>\n"
      ],
      "text/plain": [
       "Analyzing /home/s/Skola/exjobb/github_metric_extractor/out/repositories/TDD-Hangman/tests/__init__.py\n"
      ]
     },
     "metadata": {},
     "output_type": "display_data"
    },
    {
     "data": {
      "text/html": [
       "<pre style=\"white-space:pre;overflow-x:auto;line-height:normal;font-family:Menlo,'DejaVu Sans Mono',consolas,'Courier New',monospace\">Analyzing /home/s/Skola/exjobb/github_metric_extractor/out/repositories/TDD-Hangman/src/hangman.py\n",
       "</pre>\n"
      ],
      "text/plain": [
       "Analyzing /home/s/Skola/exjobb/github_metric_extractor/out/repositories/TDD-Hangman/src/hangman.py\n"
      ]
     },
     "metadata": {},
     "output_type": "display_data"
    },
    {
     "data": {
      "text/html": [
       "<pre style=\"white-space:pre;overflow-x:auto;line-height:normal;font-family:Menlo,'DejaVu Sans Mono',consolas,'Courier New',monospace\">Analyzing /home/s/Skola/exjobb/github_metric_extractor/out/repositories/TDD-Hangman/src/__init__.py\n",
       "</pre>\n"
      ],
      "text/plain": [
       "Analyzing /home/s/Skola/exjobb/github_metric_extractor/out/repositories/TDD-Hangman/src/__init__.py\n"
      ]
     },
     "metadata": {},
     "output_type": "display_data"
    },
    {
     "data": {
      "text/html": [
       "<pre style=\"white-space:pre;overflow-x:auto;line-height:normal;font-family:Menlo,'DejaVu Sans Mono',consolas,'Courier New',monospace\">Analyzing /home/s/Skola/exjobb/github_metric_extractor/out/repositories/TDD-Hangman/src/views/GUI.py\n",
       "</pre>\n"
      ],
      "text/plain": [
       "Analyzing /home/s/Skola/exjobb/github_metric_extractor/out/repositories/TDD-Hangman/src/views/GUI.py\n"
      ]
     },
     "metadata": {},
     "output_type": "display_data"
    },
    {
     "data": {
      "text/html": [
       "<pre style=\"white-space:pre;overflow-x:auto;line-height:normal;font-family:Menlo,'DejaVu Sans Mono',consolas,'Courier New',monospace\">Analyzing /home/s/Skola/exjobb/github_metric_extractor/out/repositories/TDD-Hangman/src/views/__init__.py\n",
       "</pre>\n"
      ],
      "text/plain": [
       "Analyzing /home/s/Skola/exjobb/github_metric_extractor/out/repositories/TDD-Hangman/src/views/__init__.py\n"
      ]
     },
     "metadata": {},
     "output_type": "display_data"
    },
    {
     "data": {
      "text/html": [
       "<pre style=\"white-space:pre;overflow-x:auto;line-height:normal;font-family:Menlo,'DejaVu Sans Mono',consolas,'Courier New',monospace\">Analyzing /home/s/Skola/exjobb/github_metric_extractor/out/repositories/TDD-Hangman/src/controllers/Controller.py\n",
       "</pre>\n"
      ],
      "text/plain": [
       "Analyzing /home/s/Skola/exjobb/github_metric_extractor/out/repositories/TDD-Hangman/src/controllers/Controller.py\n"
      ]
     },
     "metadata": {},
     "output_type": "display_data"
    },
    {
     "data": {
      "text/html": [
       "<pre style=\"white-space:pre;overflow-x:auto;line-height:normal;font-family:Menlo,'DejaVu Sans Mono',consolas,'Courier New',monospace\">Analyzing /home/s/Skola/exjobb/github_metric_extractor/out/repositories/TDD-Hangman/src/controllers/__init__.py\n",
       "</pre>\n"
      ],
      "text/plain": [
       "Analyzing /home/s/Skola/exjobb/github_metric_extractor/out/repositories/TDD-Hangman/src/controllers/__init__.py\n"
      ]
     },
     "metadata": {},
     "output_type": "display_data"
    },
    {
     "data": {
      "text/html": [
       "<pre style=\"white-space:pre;overflow-x:auto;line-height:normal;font-family:Menlo,'DejaVu Sans Mono',consolas,'Courier New',monospace\">Analyzing /home/s/Skola/exjobb/github_metric_extractor/out/repositories/TDD-Hangman/src/models/GameEngine.py\n",
       "</pre>\n"
      ],
      "text/plain": [
       "Analyzing /home/s/Skola/exjobb/github_metric_extractor/out/repositories/TDD-Hangman/src/models/GameEngine.py\n"
      ]
     },
     "metadata": {},
     "output_type": "display_data"
    },
    {
     "data": {
      "text/html": [
       "<pre style=\"white-space:pre;overflow-x:auto;line-height:normal;font-family:Menlo,'DejaVu Sans Mono',consolas,'Courier New',monospace\">Analyzing /home/s/Skola/exjobb/github_metric_extractor/out/repositories/TDD-Hangman/src/models/__init__.py\n",
       "</pre>\n"
      ],
      "text/plain": [
       "Analyzing /home/s/Skola/exjobb/github_metric_extractor/out/repositories/TDD-Hangman/src/models/__init__.py\n"
      ]
     },
     "metadata": {},
     "output_type": "display_data"
    },
    {
     "data": {
      "text/html": [
       "<pre style=\"white-space:pre;overflow-x:auto;line-height:normal;font-family:Menlo,'DejaVu Sans Mono',consolas,'Courier New',monospace\">Analyzing /home/s/Skola/exjobb/github_metric_extractor/out/repositories/TDD-Hangman/src/other/__init__.py\n",
       "</pre>\n"
      ],
      "text/plain": [
       "Analyzing /home/s/Skola/exjobb/github_metric_extractor/out/repositories/TDD-Hangman/src/other/__init__.py\n"
      ]
     },
     "metadata": {},
     "output_type": "display_data"
    },
    {
     "data": {
      "text/html": [
       "<pre style=\"white-space:pre;overflow-x:auto;line-height:normal;font-family:Menlo,'DejaVu Sans Mono',consolas,'Courier New',monospace\">Analyzing /home/s/Skola/exjobb/github_metric_extractor/out/repositories/TDD-Hangman/tests/test_view.py\n",
       "</pre>\n"
      ],
      "text/plain": [
       "Analyzing /home/s/Skola/exjobb/github_metric_extractor/out/repositories/TDD-Hangman/tests/test_view.py\n"
      ]
     },
     "metadata": {},
     "output_type": "display_data"
    },
    {
     "data": {
      "text/html": [
       "<pre style=\"white-space:pre;overflow-x:auto;line-height:normal;font-family:Menlo,'DejaVu Sans Mono',consolas,'Courier New',monospace\">Analyzing /home/s/Skola/exjobb/github_metric_extractor/out/repositories/TDD-Hangman/tests/test_controller.py\n",
       "</pre>\n"
      ],
      "text/plain": [
       "Analyzing /home/s/Skola/exjobb/github_metric_extractor/out/repositories/TDD-Hangman/tests/test_controller.py\n"
      ]
     },
     "metadata": {},
     "output_type": "display_data"
    },
    {
     "data": {
      "text/html": [
       "<pre style=\"white-space:pre;overflow-x:auto;line-height:normal;font-family:Menlo,'DejaVu Sans Mono',consolas,'Courier New',monospace\">Analyzing /home/s/Skola/exjobb/github_metric_extractor/out/repositories/TDD-Hangman/tests/test_model.py\n",
       "</pre>\n"
      ],
      "text/plain": [
       "Analyzing /home/s/Skola/exjobb/github_metric_extractor/out/repositories/TDD-Hangman/tests/test_model.py\n"
      ]
     },
     "metadata": {},
     "output_type": "display_data"
    },
    {
     "data": {
      "text/html": [
       "<pre style=\"white-space:pre;overflow-x:auto;line-height:normal;font-family:Menlo,'DejaVu Sans Mono',consolas,'Courier New',monospace\">Analyzing /home/s/Skola/exjobb/github_metric_extractor/out/repositories/TDD-Hangman/tests/__init__.py\n",
       "</pre>\n"
      ],
      "text/plain": [
       "Analyzing /home/s/Skola/exjobb/github_metric_extractor/out/repositories/TDD-Hangman/tests/__init__.py\n"
      ]
     },
     "metadata": {},
     "output_type": "display_data"
    },
    {
     "data": {
      "text/html": [
       "<pre style=\"white-space:pre;overflow-x:auto;line-height:normal;font-family:Menlo,'DejaVu Sans Mono',consolas,'Courier New',monospace\">Analyzing /home/s/Skola/exjobb/github_metric_extractor/out/repositories/TDD-Hangman/src/hangman.py\n",
       "</pre>\n"
      ],
      "text/plain": [
       "Analyzing /home/s/Skola/exjobb/github_metric_extractor/out/repositories/TDD-Hangman/src/hangman.py\n"
      ]
     },
     "metadata": {},
     "output_type": "display_data"
    },
    {
     "data": {
      "text/html": [
       "<pre style=\"white-space:pre;overflow-x:auto;line-height:normal;font-family:Menlo,'DejaVu Sans Mono',consolas,'Courier New',monospace\">Analyzing /home/s/Skola/exjobb/github_metric_extractor/out/repositories/TDD-Hangman/src/__init__.py\n",
       "</pre>\n"
      ],
      "text/plain": [
       "Analyzing /home/s/Skola/exjobb/github_metric_extractor/out/repositories/TDD-Hangman/src/__init__.py\n"
      ]
     },
     "metadata": {},
     "output_type": "display_data"
    },
    {
     "data": {
      "text/html": [
       "<pre style=\"white-space:pre;overflow-x:auto;line-height:normal;font-family:Menlo,'DejaVu Sans Mono',consolas,'Courier New',monospace\">Analyzing /home/s/Skola/exjobb/github_metric_extractor/out/repositories/TDD-Hangman/src/views/GUI.py\n",
       "</pre>\n"
      ],
      "text/plain": [
       "Analyzing /home/s/Skola/exjobb/github_metric_extractor/out/repositories/TDD-Hangman/src/views/GUI.py\n"
      ]
     },
     "metadata": {},
     "output_type": "display_data"
    },
    {
     "data": {
      "text/html": [
       "<pre style=\"white-space:pre;overflow-x:auto;line-height:normal;font-family:Menlo,'DejaVu Sans Mono',consolas,'Courier New',monospace\">Analyzing /home/s/Skola/exjobb/github_metric_extractor/out/repositories/TDD-Hangman/src/views/__init__.py\n",
       "</pre>\n"
      ],
      "text/plain": [
       "Analyzing /home/s/Skola/exjobb/github_metric_extractor/out/repositories/TDD-Hangman/src/views/__init__.py\n"
      ]
     },
     "metadata": {},
     "output_type": "display_data"
    },
    {
     "data": {
      "text/html": [
       "<pre style=\"white-space:pre;overflow-x:auto;line-height:normal;font-family:Menlo,'DejaVu Sans Mono',consolas,'Courier New',monospace\">Analyzing /home/s/Skola/exjobb/github_metric_extractor/out/repositories/TDD-Hangman/src/controllers/Controller.py\n",
       "</pre>\n"
      ],
      "text/plain": [
       "Analyzing /home/s/Skola/exjobb/github_metric_extractor/out/repositories/TDD-Hangman/src/controllers/Controller.py\n"
      ]
     },
     "metadata": {},
     "output_type": "display_data"
    },
    {
     "data": {
      "text/html": [
       "<pre style=\"white-space:pre;overflow-x:auto;line-height:normal;font-family:Menlo,'DejaVu Sans Mono',consolas,'Courier New',monospace\">Analyzing /home/s/Skola/exjobb/github_metric_extractor/out/repositories/TDD-Hangman/src/controllers/__init__.py\n",
       "</pre>\n"
      ],
      "text/plain": [
       "Analyzing /home/s/Skola/exjobb/github_metric_extractor/out/repositories/TDD-Hangman/src/controllers/__init__.py\n"
      ]
     },
     "metadata": {},
     "output_type": "display_data"
    },
    {
     "data": {
      "text/html": [
       "<pre style=\"white-space:pre;overflow-x:auto;line-height:normal;font-family:Menlo,'DejaVu Sans Mono',consolas,'Courier New',monospace\">Analyzing /home/s/Skola/exjobb/github_metric_extractor/out/repositories/TDD-Hangman/src/models/GameEngine.py\n",
       "</pre>\n"
      ],
      "text/plain": [
       "Analyzing /home/s/Skola/exjobb/github_metric_extractor/out/repositories/TDD-Hangman/src/models/GameEngine.py\n"
      ]
     },
     "metadata": {},
     "output_type": "display_data"
    },
    {
     "data": {
      "text/html": [
       "<pre style=\"white-space:pre;overflow-x:auto;line-height:normal;font-family:Menlo,'DejaVu Sans Mono',consolas,'Courier New',monospace\">Analyzing /home/s/Skola/exjobb/github_metric_extractor/out/repositories/TDD-Hangman/src/models/__init__.py\n",
       "</pre>\n"
      ],
      "text/plain": [
       "Analyzing /home/s/Skola/exjobb/github_metric_extractor/out/repositories/TDD-Hangman/src/models/__init__.py\n"
      ]
     },
     "metadata": {},
     "output_type": "display_data"
    },
    {
     "data": {
      "text/html": [
       "<pre style=\"white-space:pre;overflow-x:auto;line-height:normal;font-family:Menlo,'DejaVu Sans Mono',consolas,'Courier New',monospace\">Analyzing /home/s/Skola/exjobb/github_metric_extractor/out/repositories/TDD-Hangman/src/other/__init__.py\n",
       "</pre>\n"
      ],
      "text/plain": [
       "Analyzing /home/s/Skola/exjobb/github_metric_extractor/out/repositories/TDD-Hangman/src/other/__init__.py\n"
      ]
     },
     "metadata": {},
     "output_type": "display_data"
    },
    {
     "data": {
      "text/html": [
       "<pre style=\"white-space:pre;overflow-x:auto;line-height:normal;font-family:Menlo,'DejaVu Sans Mono',consolas,'Courier New',monospace\">Analyzing /home/s/Skola/exjobb/github_metric_extractor/out/repositories/TDD-Hangman/tests/test_view.py\n",
       "</pre>\n"
      ],
      "text/plain": [
       "Analyzing /home/s/Skola/exjobb/github_metric_extractor/out/repositories/TDD-Hangman/tests/test_view.py\n"
      ]
     },
     "metadata": {},
     "output_type": "display_data"
    },
    {
     "data": {
      "text/html": [
       "<pre style=\"white-space:pre;overflow-x:auto;line-height:normal;font-family:Menlo,'DejaVu Sans Mono',consolas,'Courier New',monospace\">Analyzing /home/s/Skola/exjobb/github_metric_extractor/out/repositories/TDD-Hangman/tests/test_controller.py\n",
       "</pre>\n"
      ],
      "text/plain": [
       "Analyzing /home/s/Skola/exjobb/github_metric_extractor/out/repositories/TDD-Hangman/tests/test_controller.py\n"
      ]
     },
     "metadata": {},
     "output_type": "display_data"
    },
    {
     "data": {
      "text/html": [
       "<pre style=\"white-space:pre;overflow-x:auto;line-height:normal;font-family:Menlo,'DejaVu Sans Mono',consolas,'Courier New',monospace\">Analyzing /home/s/Skola/exjobb/github_metric_extractor/out/repositories/TDD-Hangman/tests/test_model.py\n",
       "</pre>\n"
      ],
      "text/plain": [
       "Analyzing /home/s/Skola/exjobb/github_metric_extractor/out/repositories/TDD-Hangman/tests/test_model.py\n"
      ]
     },
     "metadata": {},
     "output_type": "display_data"
    },
    {
     "data": {
      "text/html": [
       "<pre style=\"white-space:pre;overflow-x:auto;line-height:normal;font-family:Menlo,'DejaVu Sans Mono',consolas,'Courier New',monospace\">Analyzing /home/s/Skola/exjobb/github_metric_extractor/out/repositories/TDD-Hangman/tests/__init__.py\n",
       "</pre>\n"
      ],
      "text/plain": [
       "Analyzing /home/s/Skola/exjobb/github_metric_extractor/out/repositories/TDD-Hangman/tests/__init__.py\n"
      ]
     },
     "metadata": {},
     "output_type": "display_data"
    },
    {
     "data": {
      "text/html": [
       "<pre style=\"white-space:pre;overflow-x:auto;line-height:normal;font-family:Menlo,'DejaVu Sans Mono',consolas,'Courier New',monospace\">Analyzing /home/s/Skola/exjobb/github_metric_extractor/out/repositories/TDD-Hangman/src/hangman.py\n",
       "</pre>\n"
      ],
      "text/plain": [
       "Analyzing /home/s/Skola/exjobb/github_metric_extractor/out/repositories/TDD-Hangman/src/hangman.py\n"
      ]
     },
     "metadata": {},
     "output_type": "display_data"
    },
    {
     "data": {
      "text/html": [
       "<pre style=\"white-space:pre;overflow-x:auto;line-height:normal;font-family:Menlo,'DejaVu Sans Mono',consolas,'Courier New',monospace\">Analyzing /home/s/Skola/exjobb/github_metric_extractor/out/repositories/TDD-Hangman/src/__init__.py\n",
       "</pre>\n"
      ],
      "text/plain": [
       "Analyzing /home/s/Skola/exjobb/github_metric_extractor/out/repositories/TDD-Hangman/src/__init__.py\n"
      ]
     },
     "metadata": {},
     "output_type": "display_data"
    },
    {
     "data": {
      "text/html": [
       "<pre style=\"white-space:pre;overflow-x:auto;line-height:normal;font-family:Menlo,'DejaVu Sans Mono',consolas,'Courier New',monospace\">Analyzing /home/s/Skola/exjobb/github_metric_extractor/out/repositories/TDD-Hangman/src/views/GUI.py\n",
       "</pre>\n"
      ],
      "text/plain": [
       "Analyzing /home/s/Skola/exjobb/github_metric_extractor/out/repositories/TDD-Hangman/src/views/GUI.py\n"
      ]
     },
     "metadata": {},
     "output_type": "display_data"
    },
    {
     "data": {
      "text/html": [
       "<pre style=\"white-space:pre;overflow-x:auto;line-height:normal;font-family:Menlo,'DejaVu Sans Mono',consolas,'Courier New',monospace\">Analyzing /home/s/Skola/exjobb/github_metric_extractor/out/repositories/TDD-Hangman/src/views/__init__.py\n",
       "</pre>\n"
      ],
      "text/plain": [
       "Analyzing /home/s/Skola/exjobb/github_metric_extractor/out/repositories/TDD-Hangman/src/views/__init__.py\n"
      ]
     },
     "metadata": {},
     "output_type": "display_data"
    },
    {
     "data": {
      "text/html": [
       "<pre style=\"white-space:pre;overflow-x:auto;line-height:normal;font-family:Menlo,'DejaVu Sans Mono',consolas,'Courier New',monospace\">Analyzing /home/s/Skola/exjobb/github_metric_extractor/out/repositories/TDD-Hangman/src/controllers/Controller.py\n",
       "</pre>\n"
      ],
      "text/plain": [
       "Analyzing /home/s/Skola/exjobb/github_metric_extractor/out/repositories/TDD-Hangman/src/controllers/Controller.py\n"
      ]
     },
     "metadata": {},
     "output_type": "display_data"
    },
    {
     "data": {
      "text/html": [
       "<pre style=\"white-space:pre;overflow-x:auto;line-height:normal;font-family:Menlo,'DejaVu Sans Mono',consolas,'Courier New',monospace\">Analyzing /home/s/Skola/exjobb/github_metric_extractor/out/repositories/TDD-Hangman/src/controllers/__init__.py\n",
       "</pre>\n"
      ],
      "text/plain": [
       "Analyzing /home/s/Skola/exjobb/github_metric_extractor/out/repositories/TDD-Hangman/src/controllers/__init__.py\n"
      ]
     },
     "metadata": {},
     "output_type": "display_data"
    },
    {
     "data": {
      "text/html": [
       "<pre style=\"white-space:pre;overflow-x:auto;line-height:normal;font-family:Menlo,'DejaVu Sans Mono',consolas,'Courier New',monospace\">Analyzing /home/s/Skola/exjobb/github_metric_extractor/out/repositories/TDD-Hangman/src/models/GameEngine.py\n",
       "</pre>\n"
      ],
      "text/plain": [
       "Analyzing /home/s/Skola/exjobb/github_metric_extractor/out/repositories/TDD-Hangman/src/models/GameEngine.py\n"
      ]
     },
     "metadata": {},
     "output_type": "display_data"
    },
    {
     "data": {
      "text/html": [
       "<pre style=\"white-space:pre;overflow-x:auto;line-height:normal;font-family:Menlo,'DejaVu Sans Mono',consolas,'Courier New',monospace\">Analyzing /home/s/Skola/exjobb/github_metric_extractor/out/repositories/TDD-Hangman/src/models/__init__.py\n",
       "</pre>\n"
      ],
      "text/plain": [
       "Analyzing /home/s/Skola/exjobb/github_metric_extractor/out/repositories/TDD-Hangman/src/models/__init__.py\n"
      ]
     },
     "metadata": {},
     "output_type": "display_data"
    },
    {
     "data": {
      "text/html": [
       "<pre style=\"white-space:pre;overflow-x:auto;line-height:normal;font-family:Menlo,'DejaVu Sans Mono',consolas,'Courier New',monospace\">Analyzing /home/s/Skola/exjobb/github_metric_extractor/out/repositories/TDD-Hangman/src/other/__init__.py\n",
       "</pre>\n"
      ],
      "text/plain": [
       "Analyzing /home/s/Skola/exjobb/github_metric_extractor/out/repositories/TDD-Hangman/src/other/__init__.py\n"
      ]
     },
     "metadata": {},
     "output_type": "display_data"
    },
    {
     "data": {
      "text/html": [
       "<pre style=\"white-space:pre;overflow-x:auto;line-height:normal;font-family:Menlo,'DejaVu Sans Mono',consolas,'Courier New',monospace\">Analyzing /home/s/Skola/exjobb/github_metric_extractor/out/repositories/TDD-Hangman/tests/test_view.py\n",
       "</pre>\n"
      ],
      "text/plain": [
       "Analyzing /home/s/Skola/exjobb/github_metric_extractor/out/repositories/TDD-Hangman/tests/test_view.py\n"
      ]
     },
     "metadata": {},
     "output_type": "display_data"
    },
    {
     "data": {
      "text/html": [
       "<pre style=\"white-space:pre;overflow-x:auto;line-height:normal;font-family:Menlo,'DejaVu Sans Mono',consolas,'Courier New',monospace\">Analyzing /home/s/Skola/exjobb/github_metric_extractor/out/repositories/TDD-Hangman/tests/test_controller.py\n",
       "</pre>\n"
      ],
      "text/plain": [
       "Analyzing /home/s/Skola/exjobb/github_metric_extractor/out/repositories/TDD-Hangman/tests/test_controller.py\n"
      ]
     },
     "metadata": {},
     "output_type": "display_data"
    },
    {
     "data": {
      "text/html": [
       "<pre style=\"white-space:pre;overflow-x:auto;line-height:normal;font-family:Menlo,'DejaVu Sans Mono',consolas,'Courier New',monospace\">Analyzing /home/s/Skola/exjobb/github_metric_extractor/out/repositories/TDD-Hangman/tests/test_model.py\n",
       "</pre>\n"
      ],
      "text/plain": [
       "Analyzing /home/s/Skola/exjobb/github_metric_extractor/out/repositories/TDD-Hangman/tests/test_model.py\n"
      ]
     },
     "metadata": {},
     "output_type": "display_data"
    },
    {
     "data": {
      "text/html": [
       "<pre style=\"white-space:pre;overflow-x:auto;line-height:normal;font-family:Menlo,'DejaVu Sans Mono',consolas,'Courier New',monospace\">Analyzing /home/s/Skola/exjobb/github_metric_extractor/out/repositories/TDD-Hangman/tests/__init__.py\n",
       "</pre>\n"
      ],
      "text/plain": [
       "Analyzing /home/s/Skola/exjobb/github_metric_extractor/out/repositories/TDD-Hangman/tests/__init__.py\n"
      ]
     },
     "metadata": {},
     "output_type": "display_data"
    },
    {
     "data": {
      "text/html": [
       "<pre style=\"white-space:pre;overflow-x:auto;line-height:normal;font-family:Menlo,'DejaVu Sans Mono',consolas,'Courier New',monospace\">Analyzing /home/s/Skola/exjobb/github_metric_extractor/out/repositories/TDD-Hangman/src/hangman.py\n",
       "</pre>\n"
      ],
      "text/plain": [
       "Analyzing /home/s/Skola/exjobb/github_metric_extractor/out/repositories/TDD-Hangman/src/hangman.py\n"
      ]
     },
     "metadata": {},
     "output_type": "display_data"
    },
    {
     "data": {
      "text/html": [
       "<pre style=\"white-space:pre;overflow-x:auto;line-height:normal;font-family:Menlo,'DejaVu Sans Mono',consolas,'Courier New',monospace\">Analyzing /home/s/Skola/exjobb/github_metric_extractor/out/repositories/TDD-Hangman/src/__init__.py\n",
       "</pre>\n"
      ],
      "text/plain": [
       "Analyzing /home/s/Skola/exjobb/github_metric_extractor/out/repositories/TDD-Hangman/src/__init__.py\n"
      ]
     },
     "metadata": {},
     "output_type": "display_data"
    },
    {
     "data": {
      "text/html": [
       "<pre style=\"white-space:pre;overflow-x:auto;line-height:normal;font-family:Menlo,'DejaVu Sans Mono',consolas,'Courier New',monospace\">Analyzing /home/s/Skola/exjobb/github_metric_extractor/out/repositories/TDD-Hangman/src/views/GUI.py\n",
       "</pre>\n"
      ],
      "text/plain": [
       "Analyzing /home/s/Skola/exjobb/github_metric_extractor/out/repositories/TDD-Hangman/src/views/GUI.py\n"
      ]
     },
     "metadata": {},
     "output_type": "display_data"
    },
    {
     "data": {
      "text/html": [
       "<pre style=\"white-space:pre;overflow-x:auto;line-height:normal;font-family:Menlo,'DejaVu Sans Mono',consolas,'Courier New',monospace\">Analyzing /home/s/Skola/exjobb/github_metric_extractor/out/repositories/TDD-Hangman/src/views/__init__.py\n",
       "</pre>\n"
      ],
      "text/plain": [
       "Analyzing /home/s/Skola/exjobb/github_metric_extractor/out/repositories/TDD-Hangman/src/views/__init__.py\n"
      ]
     },
     "metadata": {},
     "output_type": "display_data"
    },
    {
     "data": {
      "text/html": [
       "<pre style=\"white-space:pre;overflow-x:auto;line-height:normal;font-family:Menlo,'DejaVu Sans Mono',consolas,'Courier New',monospace\">Analyzing /home/s/Skola/exjobb/github_metric_extractor/out/repositories/TDD-Hangman/src/controllers/Controller.py\n",
       "</pre>\n"
      ],
      "text/plain": [
       "Analyzing /home/s/Skola/exjobb/github_metric_extractor/out/repositories/TDD-Hangman/src/controllers/Controller.py\n"
      ]
     },
     "metadata": {},
     "output_type": "display_data"
    },
    {
     "data": {
      "text/html": [
       "<pre style=\"white-space:pre;overflow-x:auto;line-height:normal;font-family:Menlo,'DejaVu Sans Mono',consolas,'Courier New',monospace\">Analyzing /home/s/Skola/exjobb/github_metric_extractor/out/repositories/TDD-Hangman/src/controllers/__init__.py\n",
       "</pre>\n"
      ],
      "text/plain": [
       "Analyzing /home/s/Skola/exjobb/github_metric_extractor/out/repositories/TDD-Hangman/src/controllers/__init__.py\n"
      ]
     },
     "metadata": {},
     "output_type": "display_data"
    },
    {
     "data": {
      "text/html": [
       "<pre style=\"white-space:pre;overflow-x:auto;line-height:normal;font-family:Menlo,'DejaVu Sans Mono',consolas,'Courier New',monospace\">Analyzing /home/s/Skola/exjobb/github_metric_extractor/out/repositories/TDD-Hangman/src/models/GameEngine.py\n",
       "</pre>\n"
      ],
      "text/plain": [
       "Analyzing /home/s/Skola/exjobb/github_metric_extractor/out/repositories/TDD-Hangman/src/models/GameEngine.py\n"
      ]
     },
     "metadata": {},
     "output_type": "display_data"
    },
    {
     "data": {
      "text/html": [
       "<pre style=\"white-space:pre;overflow-x:auto;line-height:normal;font-family:Menlo,'DejaVu Sans Mono',consolas,'Courier New',monospace\">Analyzing /home/s/Skola/exjobb/github_metric_extractor/out/repositories/TDD-Hangman/src/models/__init__.py\n",
       "</pre>\n"
      ],
      "text/plain": [
       "Analyzing /home/s/Skola/exjobb/github_metric_extractor/out/repositories/TDD-Hangman/src/models/__init__.py\n"
      ]
     },
     "metadata": {},
     "output_type": "display_data"
    },
    {
     "data": {
      "text/html": [
       "<pre style=\"white-space:pre;overflow-x:auto;line-height:normal;font-family:Menlo,'DejaVu Sans Mono',consolas,'Courier New',monospace\">Analyzing /home/s/Skola/exjobb/github_metric_extractor/out/repositories/TDD-Hangman/src/other/__init__.py\n",
       "</pre>\n"
      ],
      "text/plain": [
       "Analyzing /home/s/Skola/exjobb/github_metric_extractor/out/repositories/TDD-Hangman/src/other/__init__.py\n"
      ]
     },
     "metadata": {},
     "output_type": "display_data"
    },
    {
     "data": {
      "text/html": [
       "<pre style=\"white-space:pre;overflow-x:auto;line-height:normal;font-family:Menlo,'DejaVu Sans Mono',consolas,'Courier New',monospace\">Analyzing /home/s/Skola/exjobb/github_metric_extractor/out/repositories/TDD-Hangman/tests/test_view.py\n",
       "</pre>\n"
      ],
      "text/plain": [
       "Analyzing /home/s/Skola/exjobb/github_metric_extractor/out/repositories/TDD-Hangman/tests/test_view.py\n"
      ]
     },
     "metadata": {},
     "output_type": "display_data"
    },
    {
     "data": {
      "text/html": [
       "<pre style=\"white-space:pre;overflow-x:auto;line-height:normal;font-family:Menlo,'DejaVu Sans Mono',consolas,'Courier New',monospace\">Analyzing /home/s/Skola/exjobb/github_metric_extractor/out/repositories/TDD-Hangman/tests/test_controller.py\n",
       "</pre>\n"
      ],
      "text/plain": [
       "Analyzing /home/s/Skola/exjobb/github_metric_extractor/out/repositories/TDD-Hangman/tests/test_controller.py\n"
      ]
     },
     "metadata": {},
     "output_type": "display_data"
    },
    {
     "data": {
      "text/html": [
       "<pre style=\"white-space:pre;overflow-x:auto;line-height:normal;font-family:Menlo,'DejaVu Sans Mono',consolas,'Courier New',monospace\">Analyzing /home/s/Skola/exjobb/github_metric_extractor/out/repositories/TDD-Hangman/tests/test_model.py\n",
       "</pre>\n"
      ],
      "text/plain": [
       "Analyzing /home/s/Skola/exjobb/github_metric_extractor/out/repositories/TDD-Hangman/tests/test_model.py\n"
      ]
     },
     "metadata": {},
     "output_type": "display_data"
    },
    {
     "data": {
      "text/html": [
       "<pre style=\"white-space:pre;overflow-x:auto;line-height:normal;font-family:Menlo,'DejaVu Sans Mono',consolas,'Courier New',monospace\">Analyzing /home/s/Skola/exjobb/github_metric_extractor/out/repositories/TDD-Hangman/tests/__init__.py\n",
       "</pre>\n"
      ],
      "text/plain": [
       "Analyzing /home/s/Skola/exjobb/github_metric_extractor/out/repositories/TDD-Hangman/tests/__init__.py\n"
      ]
     },
     "metadata": {},
     "output_type": "display_data"
    },
    {
     "data": {
      "text/html": [
       "<pre style=\"white-space:pre;overflow-x:auto;line-height:normal;font-family:Menlo,'DejaVu Sans Mono',consolas,'Courier New',monospace\">Analyzing /home/s/Skola/exjobb/github_metric_extractor/out/repositories/TDD-Hangman/src/hangman.py\n",
       "</pre>\n"
      ],
      "text/plain": [
       "Analyzing /home/s/Skola/exjobb/github_metric_extractor/out/repositories/TDD-Hangman/src/hangman.py\n"
      ]
     },
     "metadata": {},
     "output_type": "display_data"
    },
    {
     "data": {
      "text/html": [
       "<pre style=\"white-space:pre;overflow-x:auto;line-height:normal;font-family:Menlo,'DejaVu Sans Mono',consolas,'Courier New',monospace\">Analyzing /home/s/Skola/exjobb/github_metric_extractor/out/repositories/TDD-Hangman/src/__init__.py\n",
       "</pre>\n"
      ],
      "text/plain": [
       "Analyzing /home/s/Skola/exjobb/github_metric_extractor/out/repositories/TDD-Hangman/src/__init__.py\n"
      ]
     },
     "metadata": {},
     "output_type": "display_data"
    },
    {
     "data": {
      "text/html": [
       "<pre style=\"white-space:pre;overflow-x:auto;line-height:normal;font-family:Menlo,'DejaVu Sans Mono',consolas,'Courier New',monospace\">Analyzing /home/s/Skola/exjobb/github_metric_extractor/out/repositories/TDD-Hangman/src/views/GUI.py\n",
       "</pre>\n"
      ],
      "text/plain": [
       "Analyzing /home/s/Skola/exjobb/github_metric_extractor/out/repositories/TDD-Hangman/src/views/GUI.py\n"
      ]
     },
     "metadata": {},
     "output_type": "display_data"
    },
    {
     "data": {
      "text/html": [
       "<pre style=\"white-space:pre;overflow-x:auto;line-height:normal;font-family:Menlo,'DejaVu Sans Mono',consolas,'Courier New',monospace\">Analyzing /home/s/Skola/exjobb/github_metric_extractor/out/repositories/TDD-Hangman/src/views/__init__.py\n",
       "</pre>\n"
      ],
      "text/plain": [
       "Analyzing /home/s/Skola/exjobb/github_metric_extractor/out/repositories/TDD-Hangman/src/views/__init__.py\n"
      ]
     },
     "metadata": {},
     "output_type": "display_data"
    },
    {
     "data": {
      "text/html": [
       "<pre style=\"white-space:pre;overflow-x:auto;line-height:normal;font-family:Menlo,'DejaVu Sans Mono',consolas,'Courier New',monospace\">Analyzing /home/s/Skola/exjobb/github_metric_extractor/out/repositories/TDD-Hangman/src/controllers/Controller.py\n",
       "</pre>\n"
      ],
      "text/plain": [
       "Analyzing /home/s/Skola/exjobb/github_metric_extractor/out/repositories/TDD-Hangman/src/controllers/Controller.py\n"
      ]
     },
     "metadata": {},
     "output_type": "display_data"
    },
    {
     "data": {
      "text/html": [
       "<pre style=\"white-space:pre;overflow-x:auto;line-height:normal;font-family:Menlo,'DejaVu Sans Mono',consolas,'Courier New',monospace\">Analyzing /home/s/Skola/exjobb/github_metric_extractor/out/repositories/TDD-Hangman/src/controllers/__init__.py\n",
       "</pre>\n"
      ],
      "text/plain": [
       "Analyzing /home/s/Skola/exjobb/github_metric_extractor/out/repositories/TDD-Hangman/src/controllers/__init__.py\n"
      ]
     },
     "metadata": {},
     "output_type": "display_data"
    },
    {
     "data": {
      "text/html": [
       "<pre style=\"white-space:pre;overflow-x:auto;line-height:normal;font-family:Menlo,'DejaVu Sans Mono',consolas,'Courier New',monospace\">Analyzing /home/s/Skola/exjobb/github_metric_extractor/out/repositories/TDD-Hangman/src/models/GameEngine.py\n",
       "</pre>\n"
      ],
      "text/plain": [
       "Analyzing /home/s/Skola/exjobb/github_metric_extractor/out/repositories/TDD-Hangman/src/models/GameEngine.py\n"
      ]
     },
     "metadata": {},
     "output_type": "display_data"
    },
    {
     "data": {
      "text/html": [
       "<pre style=\"white-space:pre;overflow-x:auto;line-height:normal;font-family:Menlo,'DejaVu Sans Mono',consolas,'Courier New',monospace\">Analyzing /home/s/Skola/exjobb/github_metric_extractor/out/repositories/TDD-Hangman/src/models/__init__.py\n",
       "</pre>\n"
      ],
      "text/plain": [
       "Analyzing /home/s/Skola/exjobb/github_metric_extractor/out/repositories/TDD-Hangman/src/models/__init__.py\n"
      ]
     },
     "metadata": {},
     "output_type": "display_data"
    },
    {
     "data": {
      "text/html": [
       "<pre style=\"white-space:pre;overflow-x:auto;line-height:normal;font-family:Menlo,'DejaVu Sans Mono',consolas,'Courier New',monospace\">Analyzing /home/s/Skola/exjobb/github_metric_extractor/out/repositories/TDD-Hangman/src/other/__init__.py\n",
       "</pre>\n"
      ],
      "text/plain": [
       "Analyzing /home/s/Skola/exjobb/github_metric_extractor/out/repositories/TDD-Hangman/src/other/__init__.py\n"
      ]
     },
     "metadata": {},
     "output_type": "display_data"
    },
    {
     "data": {
      "text/html": [
       "<pre style=\"white-space:pre;overflow-x:auto;line-height:normal;font-family:Menlo,'DejaVu Sans Mono',consolas,'Courier New',monospace\">Analyzing /home/s/Skola/exjobb/github_metric_extractor/out/repositories/TDD-Hangman/tests/test_view.py\n",
       "</pre>\n"
      ],
      "text/plain": [
       "Analyzing /home/s/Skola/exjobb/github_metric_extractor/out/repositories/TDD-Hangman/tests/test_view.py\n"
      ]
     },
     "metadata": {},
     "output_type": "display_data"
    },
    {
     "data": {
      "text/html": [
       "<pre style=\"white-space:pre;overflow-x:auto;line-height:normal;font-family:Menlo,'DejaVu Sans Mono',consolas,'Courier New',monospace\">Analyzing /home/s/Skola/exjobb/github_metric_extractor/out/repositories/TDD-Hangman/tests/test_controller.py\n",
       "</pre>\n"
      ],
      "text/plain": [
       "Analyzing /home/s/Skola/exjobb/github_metric_extractor/out/repositories/TDD-Hangman/tests/test_controller.py\n"
      ]
     },
     "metadata": {},
     "output_type": "display_data"
    },
    {
     "data": {
      "text/html": [
       "<pre style=\"white-space:pre;overflow-x:auto;line-height:normal;font-family:Menlo,'DejaVu Sans Mono',consolas,'Courier New',monospace\">Analyzing /home/s/Skola/exjobb/github_metric_extractor/out/repositories/TDD-Hangman/tests/test_model.py\n",
       "</pre>\n"
      ],
      "text/plain": [
       "Analyzing /home/s/Skola/exjobb/github_metric_extractor/out/repositories/TDD-Hangman/tests/test_model.py\n"
      ]
     },
     "metadata": {},
     "output_type": "display_data"
    },
    {
     "data": {
      "text/html": [
       "<pre style=\"white-space:pre;overflow-x:auto;line-height:normal;font-family:Menlo,'DejaVu Sans Mono',consolas,'Courier New',monospace\">Analyzing /home/s/Skola/exjobb/github_metric_extractor/out/repositories/TDD-Hangman/tests/__init__.py\n",
       "</pre>\n"
      ],
      "text/plain": [
       "Analyzing /home/s/Skola/exjobb/github_metric_extractor/out/repositories/TDD-Hangman/tests/__init__.py\n"
      ]
     },
     "metadata": {},
     "output_type": "display_data"
    },
    {
     "data": {
      "text/html": [
       "<pre style=\"white-space:pre;overflow-x:auto;line-height:normal;font-family:Menlo,'DejaVu Sans Mono',consolas,'Courier New',monospace\">Analyzing /home/s/Skola/exjobb/github_metric_extractor/out/repositories/TDD-Hangman/src/hangman.py\n",
       "</pre>\n"
      ],
      "text/plain": [
       "Analyzing /home/s/Skola/exjobb/github_metric_extractor/out/repositories/TDD-Hangman/src/hangman.py\n"
      ]
     },
     "metadata": {},
     "output_type": "display_data"
    },
    {
     "data": {
      "text/html": [
       "<pre style=\"white-space:pre;overflow-x:auto;line-height:normal;font-family:Menlo,'DejaVu Sans Mono',consolas,'Courier New',monospace\">Analyzing /home/s/Skola/exjobb/github_metric_extractor/out/repositories/TDD-Hangman/src/__init__.py\n",
       "</pre>\n"
      ],
      "text/plain": [
       "Analyzing /home/s/Skola/exjobb/github_metric_extractor/out/repositories/TDD-Hangman/src/__init__.py\n"
      ]
     },
     "metadata": {},
     "output_type": "display_data"
    },
    {
     "data": {
      "text/html": [
       "<pre style=\"white-space:pre;overflow-x:auto;line-height:normal;font-family:Menlo,'DejaVu Sans Mono',consolas,'Courier New',monospace\">Analyzing /home/s/Skola/exjobb/github_metric_extractor/out/repositories/TDD-Hangman/src/views/GUI.py\n",
       "</pre>\n"
      ],
      "text/plain": [
       "Analyzing /home/s/Skola/exjobb/github_metric_extractor/out/repositories/TDD-Hangman/src/views/GUI.py\n"
      ]
     },
     "metadata": {},
     "output_type": "display_data"
    },
    {
     "data": {
      "text/html": [
       "<pre style=\"white-space:pre;overflow-x:auto;line-height:normal;font-family:Menlo,'DejaVu Sans Mono',consolas,'Courier New',monospace\">Analyzing /home/s/Skola/exjobb/github_metric_extractor/out/repositories/TDD-Hangman/src/views/__init__.py\n",
       "</pre>\n"
      ],
      "text/plain": [
       "Analyzing /home/s/Skola/exjobb/github_metric_extractor/out/repositories/TDD-Hangman/src/views/__init__.py\n"
      ]
     },
     "metadata": {},
     "output_type": "display_data"
    },
    {
     "data": {
      "text/html": [
       "<pre style=\"white-space:pre;overflow-x:auto;line-height:normal;font-family:Menlo,'DejaVu Sans Mono',consolas,'Courier New',monospace\">Analyzing /home/s/Skola/exjobb/github_metric_extractor/out/repositories/TDD-Hangman/src/controllers/Controller.py\n",
       "</pre>\n"
      ],
      "text/plain": [
       "Analyzing /home/s/Skola/exjobb/github_metric_extractor/out/repositories/TDD-Hangman/src/controllers/Controller.py\n"
      ]
     },
     "metadata": {},
     "output_type": "display_data"
    },
    {
     "data": {
      "text/html": [
       "<pre style=\"white-space:pre;overflow-x:auto;line-height:normal;font-family:Menlo,'DejaVu Sans Mono',consolas,'Courier New',monospace\">Analyzing /home/s/Skola/exjobb/github_metric_extractor/out/repositories/TDD-Hangman/src/controllers/__init__.py\n",
       "</pre>\n"
      ],
      "text/plain": [
       "Analyzing /home/s/Skola/exjobb/github_metric_extractor/out/repositories/TDD-Hangman/src/controllers/__init__.py\n"
      ]
     },
     "metadata": {},
     "output_type": "display_data"
    },
    {
     "data": {
      "text/html": [
       "<pre style=\"white-space:pre;overflow-x:auto;line-height:normal;font-family:Menlo,'DejaVu Sans Mono',consolas,'Courier New',monospace\">Analyzing /home/s/Skola/exjobb/github_metric_extractor/out/repositories/TDD-Hangman/src/models/GameEngine.py\n",
       "</pre>\n"
      ],
      "text/plain": [
       "Analyzing /home/s/Skola/exjobb/github_metric_extractor/out/repositories/TDD-Hangman/src/models/GameEngine.py\n"
      ]
     },
     "metadata": {},
     "output_type": "display_data"
    },
    {
     "data": {
      "text/html": [
       "<pre style=\"white-space:pre;overflow-x:auto;line-height:normal;font-family:Menlo,'DejaVu Sans Mono',consolas,'Courier New',monospace\">Analyzing /home/s/Skola/exjobb/github_metric_extractor/out/repositories/TDD-Hangman/src/models/__init__.py\n",
       "</pre>\n"
      ],
      "text/plain": [
       "Analyzing /home/s/Skola/exjobb/github_metric_extractor/out/repositories/TDD-Hangman/src/models/__init__.py\n"
      ]
     },
     "metadata": {},
     "output_type": "display_data"
    },
    {
     "data": {
      "text/html": [
       "<pre style=\"white-space:pre;overflow-x:auto;line-height:normal;font-family:Menlo,'DejaVu Sans Mono',consolas,'Courier New',monospace\">Analyzing /home/s/Skola/exjobb/github_metric_extractor/out/repositories/TDD-Hangman/src/other/__init__.py\n",
       "</pre>\n"
      ],
      "text/plain": [
       "Analyzing /home/s/Skola/exjobb/github_metric_extractor/out/repositories/TDD-Hangman/src/other/__init__.py\n"
      ]
     },
     "metadata": {},
     "output_type": "display_data"
    },
    {
     "data": {
      "text/html": [
       "<pre style=\"white-space:pre;overflow-x:auto;line-height:normal;font-family:Menlo,'DejaVu Sans Mono',consolas,'Courier New',monospace\"></pre>\n"
      ],
      "text/plain": []
     },
     "metadata": {},
     "output_type": "display_data"
    },
    {
     "data": {
      "text/html": [
       "<pre style=\"white-space:pre;overflow-x:auto;line-height:normal;font-family:Menlo,'DejaVu Sans Mono',consolas,'Courier New',monospace\">\n",
       "</pre>\n"
      ],
      "text/plain": [
       "\n"
      ]
     },
     "metadata": {},
     "output_type": "display_data"
    }
   ],
   "source": [
    "pyciras.run_unit_testing_analysis([\"https://github.com/SamuelThand/TDD-Hangman\"])"
   ]
  }
 ],
 "metadata": {
  "kernelspec": {
   "display_name": "Python 3 (ipykernel)",
   "language": "python",
   "name": "python3"
  },
  "language_info": {
   "codemirror_mode": {
    "name": "ipython",
    "version": 3
   },
   "file_extension": ".py",
   "mimetype": "text/x-python",
   "name": "python",
   "nbconvert_exporter": "python",
   "pygments_lexer": "ipython3",
   "version": "3.11.4"
  }
 },
 "nbformat": 4,
 "nbformat_minor": 5
}
