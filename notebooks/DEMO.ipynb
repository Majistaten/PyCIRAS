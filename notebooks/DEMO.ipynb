{
 "cells": [
  {
   "cell_type": "markdown",
   "id": "ee5c7a04-0429-4993-84d0-daa1866cbd1b",
   "metadata": {},
   "source": [
    "# Demonstration of PyCIRAS"
   ]
  },
  {
   "cell_type": "markdown",
   "id": "841f1ff7-a6e3-4ddc-b165-c2b40d3ef0ff",
   "metadata": {},
   "source": [
    "## Usage"
   ]
  },
  {
   "cell_type": "markdown",
   "id": "9c8a0159-3cd5-484a-84bd-933b258f3918",
   "metadata": {},
   "source": [
    "The user needs to import the setup script to build the environment"
   ]
  },
  {
   "cell_type": "code",
   "execution_count": null,
   "id": "e7c76d33-fe0f-4667-ac89-5120e2b4e8ab",
   "metadata": {},
   "outputs": [],
   "source": [
    "import setup_notebook_environment"
   ]
  },
  {
   "cell_type": "markdown",
   "id": "a9980437-aeb2-4462-bcad-23ad89094e8b",
   "metadata": {},
   "source": [
    "After this - the user can access the functionality through a variety of entry points on the form **pyciras.run_**"
   ]
  },
  {
   "cell_type": "code",
   "execution_count": null,
   "id": "8880f14a-f6b4-4f0e-9e06-ba70b2c6642e",
   "metadata": {},
   "outputs": [],
   "source": [
    "import pyciras"
   ]
  },
  {
   "cell_type": "markdown",
   "id": "e4e5513c-1cea-4862-b1b9-758a6e9f7fa0",
   "metadata": {},
   "source": [
    "### Full Analysis - Code Quality, Git metrics, Unit-Testing, Stargazers data\n",
    "\n",
    "The user can specify a list of git repos they want to analyze directly in the notebook, or in the default **/repos.txt** file."
   ]
  },
  {
   "cell_type": "code",
   "execution_count": null,
   "id": "3abdca14-212e-4058-9fbc-c62f4f1fe96b",
   "metadata": {},
   "outputs": [],
   "source": [
    "repos = ['https://github.com/SamuelThand/TDD-Hangman',\n",
    "         'https://github.com/coinse/sadl',\n",
    "         'https://github.com/zhangj111/astnn']"
   ]
  },
  {
   "cell_type": "markdown",
   "id": "33fda995-1fc9-4369-8ae3-7565572175db",
   "metadata": {},
   "source": [
    "There are some options for the analysis:\n",
    "\n",
    "- Repo URLs\n",
    "- Chunk Size - How many repos the program should analyze before writing results to disk\n",
    "- Paralellism - If the program should use subprocesses equal to the chunk size, to speed up computation\n",
    "- Remove Repos - The program can remove the downloaded repositories after the analysis, to save storage space\n",
    "\n",
    "For long-running analysis, we support **ntfy** push notifications, so you can leave it running and get notified when completed."
   ]
  },
  {
   "cell_type": "code",
   "execution_count": null,
   "id": "0a3e6e14-e063-43a8-b598-f5a7d4b8d0a2",
   "metadata": {},
   "outputs": [],
   "source": [
    "pyciras.run_analysis(repo_urls=repos, chunk_size = 2, parallelism = False, remove_repos_after_completion=False)"
   ]
  },
  {
   "cell_type": "markdown",
   "id": "8536cc43-611d-4079-80a7-777549a30386",
   "metadata": {},
   "source": [
    "### Single Analysis - More targeted and efficient mining for specific data"
   ]
  },
  {
   "cell_type": "code",
   "execution_count": null,
   "id": "dbd22e03-1f0a-4837-b382-92cee240ae9a",
   "metadata": {},
   "outputs": [],
   "source": [
    "# pyciras.run_analysis(repo_urls=repos, chunk_size = 2, parallelism = False, remove_repos_after_completion=False, \n",
    "#                     analyse_stargazers=False,\n",
    "#                     analyze_code_quality=False,\n",
    "#                     analyze_repositories=True,\n",
    "#                     analyze_unit_testing=True)"
   ]
  },
  {
   "cell_type": "markdown",
   "id": "8918f180-452c-461b-b10b-ff2b25943b12",
   "metadata": {},
   "source": [
    "### Gaining insights from the data\n",
    "\n",
    "We have included tools for data analysis and visualisation, that can be used to examine the data aquired through our tool.\n",
    "\n",
    "The data produced during the experiment can always be found in the **pyciras.data_directory**, which is the timestamped data directory for the analysis\n"
   ]
  },
  {
   "cell_type": "markdown",
   "id": "87a740b3-13ac-4a80-a57a-1ad4a81e62a0",
   "metadata": {},
   "source": [
    "#### Plotting"
   ]
  },
  {
   "cell_type": "code",
   "execution_count": null,
   "id": "190571e0-b41e-4a7a-ad1a-c091210bd535",
   "metadata": {},
   "outputs": [],
   "source": [
    "from utility import config\n",
    "import pandas as pd\n",
    "import matplotlib.pyplot as plt"
   ]
  },
  {
   "cell_type": "code",
   "execution_count": null,
   "id": "a0c66caa-eb96-41e4-ac1a-57be6cc8cd7a",
   "metadata": {},
   "outputs": [],
   "source": [
    "df = pd.read_csv(\n",
    "    config.DATA_FOLDER / pyciras.data_directory / \"stargazers-over-time.csv\")"
   ]
  },
  {
   "cell_type": "code",
   "execution_count": null,
   "id": "2aca6e26-4248-49c1-8a0a-de5632c95186",
   "metadata": {},
   "outputs": [],
   "source": [
    "# Assuming df is already loaded and 'DATE' has been set as datetime and index\n",
    "df['date'] = pd.to_datetime(df['date'])\n",
    "df.set_index('date', inplace=True)\n",
    "\n",
    "# Resample to get the last entry of each month\n",
    "df_monthly = df.resample('M').last()\n",
    "\n",
    "# Drop rows where all values except 'DATE' are NaN\n",
    "df_monthly.dropna(how='all', inplace=True)\n",
    "\n",
    "# Reset index to get 'DATE' back as a column for plotting\n",
    "df_line = df_monthly.reset_index()\n",
    "\n",
    "# plotting\n",
    "plt.figure(figsize=(20, 15))\n",
    "for column in df_line.columns[1:]:  # Adjust column indexing if necessary\n",
    "    plt.plot(df_line['date'], df_line[column], marker='o', label=column)\n",
    "\n",
    "plt.title('Project Stars Over Time')\n",
    "plt.xlabel('Date')\n",
    "plt.ylabel('Stars')\n",
    "plt.legend()\n",
    "plt.grid(True)\n",
    "plt.xticks(rotation=45)\n",
    "\n",
    "# Improve the date format on the X-axis\n",
    "plt.gca().xaxis.set_major_formatter(plt.matplotlib.dates.DateFormatter('%Y-%m'))\n",
    "plt.gca().xaxis.set_major_locator(plt.matplotlib.dates.MonthLocator())\n",
    "\n",
    "plt.tight_layout()\n",
    "plt.show()"
   ]
  },
  {
   "cell_type": "markdown",
   "id": "28c85d95-bc62-447e-9f78-f087b4743596",
   "metadata": {},
   "source": [
    "## Statistical Analysis"
   ]
  },
  {
   "cell_type": "markdown",
   "id": "8c1111c3-ffa6-4a17-b141-33af7cf15f3e",
   "metadata": {},
   "source": [
    "Lets say we are interested in doing a correlation analysis between the Pylint score of a project, and the amount of stars it has."
   ]
  },
  {
   "cell_type": "markdown",
   "id": "a57f6b19-3ae8-48da-b74f-23fb1165f9d1",
   "metadata": {},
   "source": [
    "### Extracting the relevant data"
   ]
  },
  {
   "cell_type": "code",
   "execution_count": null,
   "id": "1d4ecb06-72a0-4e94-b7a2-f76912d3098a",
   "metadata": {},
   "outputs": [],
   "source": [
    "astnn_pylint = pd.read_csv(config.DATA_FOLDER / pyciras.data_directory / \"pylint-astnn.csv\")\n",
    "stargazers_over_time = pd.read_csv(config.DATA_FOLDER / pyciras.data_directory / \"stargazers-over-time.csv\")"
   ]
  },
  {
   "cell_type": "code",
   "execution_count": null,
   "id": "41fc0807-f23a-4789-a1c6-a5f8d3f35218",
   "metadata": {
    "scrolled": true
   },
   "outputs": [],
   "source": [
    "astnn_pylint"
   ]
  },
  {
   "cell_type": "code",
   "execution_count": null,
   "id": "062c7cdb-b456-4635-aaa5-8ea38c726ae1",
   "metadata": {
    "scrolled": true
   },
   "outputs": [],
   "source": [
    "stargazers_over_time"
   ]
  },
  {
   "cell_type": "code",
   "execution_count": null,
   "id": "806eae8b-7d0f-4aab-9263-7d54c3c5abd6",
   "metadata": {},
   "outputs": [],
   "source": [
    "astnn_global_note_over_time = astnn_pylint[['date', 'stats.global_note']]\n",
    "astnn_stargazers_over_time = stargazers_over_time[['date', 'astnn']]"
   ]
  },
  {
   "cell_type": "code",
   "execution_count": null,
   "id": "5e5461fa-f6b3-4f4d-ab87-7ecfbab5cb8a",
   "metadata": {
    "scrolled": true
   },
   "outputs": [],
   "source": [
    "astnn_global_note_over_time"
   ]
  },
  {
   "cell_type": "code",
   "execution_count": null,
   "id": "9391477a-a9ac-4f52-aa8a-13adc73a598f",
   "metadata": {
    "scrolled": true
   },
   "outputs": [],
   "source": [
    "astnn_stargazers_over_time"
   ]
  },
  {
   "cell_type": "markdown",
   "id": "f039de57-fea4-4b9d-a973-7cfb93445060",
   "metadata": {},
   "source": [
    "### Joining the dataframes on DATE using an As Of Join"
   ]
  },
  {
   "cell_type": "markdown",
   "id": "690e323a-2a27-465a-9cf0-17e38e9ace42",
   "metadata": {},
   "source": [
    "This type of join is useful when you want to merge observations as of certain times without having exact matches in time. For instance, if you have a value on 2024-02-13 in one set and the closest date in the other set is 2024-02-12, it will merge these two records."
   ]
  },
  {
   "cell_type": "code",
   "execution_count": null,
   "id": "1161f05b-29e0-4d87-8217-36736625a215",
   "metadata": {},
   "outputs": [],
   "source": [
    "# Convert 'date' columns to datetime format\n",
    "astnn_global_note_over_time['date'] = pd.to_datetime(astnn_pylint['date'], utc=True).dt.date\n",
    "\n",
    "# For 'DATE' column in 'stargazers_over_time', first ensure it's a datetime with the correct timezone,\n",
    "# then convert to a naive datetime by removing the timezone\n",
    "astnn_stargazers_over_time['date'] = pd.to_datetime(stargazers_over_time['date'], utc=True).dt.tz_localize(None).dt.date"
   ]
  },
  {
   "cell_type": "code",
   "execution_count": null,
   "id": "924a1a36-52cf-422a-a700-9a64c1943425",
   "metadata": {
    "scrolled": true
   },
   "outputs": [],
   "source": [
    "astnn_global_note_over_time"
   ]
  },
  {
   "cell_type": "code",
   "execution_count": null,
   "id": "b070baf4-629d-4be5-9064-f8e90d793227",
   "metadata": {
    "scrolled": true
   },
   "outputs": [],
   "source": [
    "astnn_stargazers_over_time"
   ]
  },
  {
   "cell_type": "markdown",
   "id": "f318b189-af07-41b7-9fda-603c71210457",
   "metadata": {},
   "source": [
    "#### As Of Join"
   ]
  },
  {
   "cell_type": "code",
   "execution_count": null,
   "id": "ace22aac-ac3d-4dcd-a145-58529efe9140",
   "metadata": {},
   "outputs": [],
   "source": [
    "# Convert to datetime objects\n",
    "astnn_global_note_over_time['date'] = pd.to_datetime(astnn_global_note_over_time['date'])\n",
    "astnn_stargazers_over_time['date'] = pd.to_datetime(astnn_stargazers_over_time['date'])\n",
    "\n",
    "# Sort the DataFrames by 'date' column\n",
    "astnn_global_note_over_time_sorted = astnn_global_note_over_time.sort_values('date', ascending=True)\n",
    "astnn_stargazers_over_time_sorted = astnn_stargazers_over_time.sort_values('date', ascending=True)\n",
    "\n",
    "# Perform the 'as of' merge\n",
    "global_note_stargazers_asof = pd.merge_asof(\n",
    "    left=astnn_global_note_over_time_sorted,\n",
    "    right=astnn_stargazers_over_time_sorted,\n",
    "    left_on='date',\n",
    "    right_on='date',\n",
    "    direction='nearest',\n",
    "    tolerance=pd.Timedelta('1000 days')  # TODO Adjust the tolerance as per your data's requirements, will not match correctly if too far between\n",
    ")\n",
    "\n",
    "# Now global_note_stargazers_asof will contain the merged data\n"
   ]
  },
  {
   "cell_type": "code",
   "execution_count": null,
   "id": "df169863-2a67-4e55-ae74-be52bd31e167",
   "metadata": {
    "scrolled": true
   },
   "outputs": [],
   "source": [
    "# Set the display option to show all rows\n",
    "pd.set_option('display.max_rows', None)\n",
    "\n",
    "global_note_stargazers_asof"
   ]
  },
  {
   "cell_type": "markdown",
   "id": "820d0f1d-9f7b-46ac-ba94-73b9c3482314",
   "metadata": {},
   "source": [
    "# Conclusion of demo experiment"
   ]
  },
  {
   "cell_type": "code",
   "execution_count": null,
   "id": "d9721481-c7aa-4234-a65e-8d3063224473",
   "metadata": {},
   "outputs": [],
   "source": [
    "# Now you can perform correlation analysis and descriptive statistics on 'stats.global_note' and 'astnn' in the merged_data dataframe\n",
    "\n",
    "import seaborn as sns\n",
    "\n",
    "# Create a scatterplot with a regression line\n",
    "plt.figure(figsize=(10, 6))\n",
    "sns.regplot(x='stats.global_note', y='astnn', data=global_note_stargazers_asof, fit_reg=True)\n",
    "\n",
    "plt.title('Scatterplot with Line of Best Fit')\n",
    "plt.xlabel('ASTNN Global Note from Pylint')\n",
    "plt.ylabel('ASTNN Stargazers')\n",
    "plt.show()\n",
    "\n",
    "correlation = global_note_stargazers_asof['stats.global_note'].corr(global_note_stargazers_asof['astnn'])\n",
    "\n",
    "astnn_global_note_over_time\n",
    "astnn_stargazers_over_time\n",
    "\n",
    "# Print the correlation\n",
    "print('Correlation:', correlation)\n",
    "print()\n",
    "\n",
    "# Descriptive statistics\n",
    "print('Descriptive statistics for astnn global note:')\n",
    "print(global_note_stargazers_asof['stats.global_note'].describe())\n",
    "\n",
    "print('\\nDescriptive statistics for astnn stargazers over time:')\n",
    "print(global_note_stargazers_asof['astnn'].describe())"
   ]
  },
  {
   "cell_type": "code",
   "execution_count": null,
   "id": "f492ca9c-0439-48c2-91c3-0be2d2404f4b",
   "metadata": {},
   "outputs": [],
   "source": []
  }
 ],
 "metadata": {
  "kernelspec": {
   "display_name": "Python 3 (ipykernel)",
   "language": "python",
   "name": "python3"
  },
  "language_info": {
   "codemirror_mode": {
    "name": "ipython",
    "version": 3
   },
   "file_extension": ".py",
   "mimetype": "text/x-python",
   "name": "python",
   "nbconvert_exporter": "python",
   "pygments_lexer": "ipython3",
   "version": "3.11.0"
  }
 },
 "nbformat": 4,
 "nbformat_minor": 5
}
