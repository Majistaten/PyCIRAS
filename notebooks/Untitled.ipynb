{
 "cells": [
  {
   "cell_type": "code",
   "execution_count": 1,
   "id": "b8ad4b4b-5ad9-4eab-86c8-bc9b39040da4",
   "metadata": {},
   "outputs": [],
   "source": [
    "import setup_notebook_environment\n",
    "import pyciras\n",
    "from rich.pretty import pprint"
   ]
  },
  {
   "cell_type": "code",
   "execution_count": 2,
   "id": "06e2d65c-b502-4293-98fb-acfd9701089e",
   "metadata": {
    "editable": true,
    "scrolled": true,
    "slideshow": {
     "slide_type": ""
    },
    "tags": []
   },
   "outputs": [
    {
     "data": {
      "application/vnd.jupyter.widget-view+json": {
       "model_id": "4680de7a666748959522e54c456b91c2",
       "version_major": 2,
       "version_minor": 0
      },
      "text/plain": [
       "Output()"
      ]
     },
     "metadata": {},
     "output_type": "display_data"
    },
    {
     "data": {
      "text/html": [
       "<pre style=\"white-space:pre;overflow-x:auto;line-height:normal;font-family:Menlo,'DejaVu Sans Mono',consolas,'Courier New',monospace\"><span style=\"color: #7fbfbf; text-decoration-color: #7fbfbf\">[03/12/24 19:02:27] </span><span style=\"color: #800000; text-decoration-color: #800000; font-weight: bold\">ERROR   </span> root - Argument <span style=\"color: #008000; text-decoration-color: #008000\">'after'</span> on Field <span style=\"color: #008000; text-decoration-color: #008000\">'stargazers'</span> has an invalid value     <a href=\"file://D:\\MIUN\\DT002G\\github_metric_extractor\\analysis\\git_miner.py\" target=\"_blank\"><span style=\"color: #7f7f7f; text-decoration-color: #7f7f7f\">git_miner.py</span></a><span style=\"color: #7f7f7f; text-decoration-color: #7f7f7f\">:</span><a href=\"file://D:\\MIUN\\DT002G\\github_metric_extractor\\analysis\\git_miner.py#77\" target=\"_blank\"><span style=\"color: #7f7f7f; text-decoration-color: #7f7f7f\">77</span></a>\n",
       "<span style=\"color: #7fbfbf; text-decoration-color: #7fbfbf\">                    </span>         <span style=\"font-weight: bold\">(</span><span style=\"color: #008080; text-decoration-color: #008080; font-weight: bold\">100</span><span style=\"font-weight: bold\">)</span>. Expected type <span style=\"color: #008000; text-decoration-color: #008000\">'String'</span>.                                         <span style=\"color: #7f7f7f; text-decoration-color: #7f7f7f\">               </span>\n",
       "</pre>\n"
      ],
      "text/plain": [
       "\u001b[2;36m[03/12/24 19:02:27]\u001b[0m\u001b[2;36m \u001b[0m\u001b[1;31mERROR   \u001b[0m root - Argument \u001b[32m'after'\u001b[0m on Field \u001b[32m'stargazers'\u001b[0m has an invalid value     \u001b]8;id=476649;file://D:\\MIUN\\DT002G\\github_metric_extractor\\analysis\\git_miner.py\u001b\\\u001b[2mgit_miner.py\u001b[0m\u001b]8;;\u001b\\\u001b[2m:\u001b[0m\u001b]8;id=414212;file://D:\\MIUN\\DT002G\\github_metric_extractor\\analysis\\git_miner.py#77\u001b\\\u001b[2m77\u001b[0m\u001b]8;;\u001b\\\n",
       "\u001b[2;36m                    \u001b[0m         \u001b[1m(\u001b[0m\u001b[1;36m100\u001b[0m\u001b[1m)\u001b[0m. Expected type \u001b[32m'String'\u001b[0m.                                         \u001b[2m               \u001b[0m\n"
      ]
     },
     "metadata": {},
     "output_type": "display_data"
    },
    {
     "data": {
      "text/html": [
       "<pre style=\"white-space:pre;overflow-x:auto;line-height:normal;font-family:Menlo,'DejaVu Sans Mono',consolas,'Courier New',monospace\"><span style=\"color: #7fbfbf; text-decoration-color: #7fbfbf\">                    </span><span style=\"color: #800000; text-decoration-color: #800000; font-weight: bold\">ERROR   </span> root - Argument <span style=\"color: #008000; text-decoration-color: #008000\">'after'</span> on Field <span style=\"color: #008000; text-decoration-color: #008000\">'stargazers'</span> has an invalid value     <a href=\"file://D:\\MIUN\\DT002G\\github_metric_extractor\\analysis\\git_miner.py\" target=\"_blank\"><span style=\"color: #7f7f7f; text-decoration-color: #7f7f7f\">git_miner.py</span></a><span style=\"color: #7f7f7f; text-decoration-color: #7f7f7f\">:</span><a href=\"file://D:\\MIUN\\DT002G\\github_metric_extractor\\analysis\\git_miner.py#77\" target=\"_blank\"><span style=\"color: #7f7f7f; text-decoration-color: #7f7f7f\">77</span></a>\n",
       "<span style=\"color: #7fbfbf; text-decoration-color: #7fbfbf\">                    </span>         <span style=\"font-weight: bold\">(</span><span style=\"color: #008080; text-decoration-color: #008080; font-weight: bold\">100</span><span style=\"font-weight: bold\">)</span>. Expected type <span style=\"color: #008000; text-decoration-color: #008000\">'String'</span>.                                         <span style=\"color: #7f7f7f; text-decoration-color: #7f7f7f\">               </span>\n",
       "</pre>\n"
      ],
      "text/plain": [
       "\u001b[2;36m                   \u001b[0m\u001b[2;36m \u001b[0m\u001b[1;31mERROR   \u001b[0m root - Argument \u001b[32m'after'\u001b[0m on Field \u001b[32m'stargazers'\u001b[0m has an invalid value     \u001b]8;id=220027;file://D:\\MIUN\\DT002G\\github_metric_extractor\\analysis\\git_miner.py\u001b\\\u001b[2mgit_miner.py\u001b[0m\u001b]8;;\u001b\\\u001b[2m:\u001b[0m\u001b]8;id=476289;file://D:\\MIUN\\DT002G\\github_metric_extractor\\analysis\\git_miner.py#77\u001b\\\u001b[2m77\u001b[0m\u001b]8;;\u001b\\\n",
       "\u001b[2;36m                    \u001b[0m         \u001b[1m(\u001b[0m\u001b[1;36m100\u001b[0m\u001b[1m)\u001b[0m. Expected type \u001b[32m'String'\u001b[0m.                                         \u001b[2m               \u001b[0m\n"
      ]
     },
     "metadata": {},
     "output_type": "display_data"
    },
    {
     "data": {
      "text/html": [
       "<pre style=\"white-space:pre;overflow-x:auto;line-height:normal;font-family:Menlo,'DejaVu Sans Mono',consolas,'Courier New',monospace\"><span style=\"color: #7fbfbf; text-decoration-color: #7fbfbf\">                    </span><span style=\"color: #800000; text-decoration-color: #800000; font-weight: bold\">ERROR   </span> root - Argument <span style=\"color: #008000; text-decoration-color: #008000\">'after'</span> on Field <span style=\"color: #008000; text-decoration-color: #008000\">'stargazers'</span> has an invalid value     <a href=\"file://D:\\MIUN\\DT002G\\github_metric_extractor\\analysis\\git_miner.py\" target=\"_blank\"><span style=\"color: #7f7f7f; text-decoration-color: #7f7f7f\">git_miner.py</span></a><span style=\"color: #7f7f7f; text-decoration-color: #7f7f7f\">:</span><a href=\"file://D:\\MIUN\\DT002G\\github_metric_extractor\\analysis\\git_miner.py#77\" target=\"_blank\"><span style=\"color: #7f7f7f; text-decoration-color: #7f7f7f\">77</span></a>\n",
       "<span style=\"color: #7fbfbf; text-decoration-color: #7fbfbf\">                    </span>         <span style=\"font-weight: bold\">(</span><span style=\"color: #008080; text-decoration-color: #008080; font-weight: bold\">100</span><span style=\"font-weight: bold\">)</span>. Expected type <span style=\"color: #008000; text-decoration-color: #008000\">'String'</span>.                                         <span style=\"color: #7f7f7f; text-decoration-color: #7f7f7f\">               </span>\n",
       "</pre>\n"
      ],
      "text/plain": [
       "\u001b[2;36m                   \u001b[0m\u001b[2;36m \u001b[0m\u001b[1;31mERROR   \u001b[0m root - Argument \u001b[32m'after'\u001b[0m on Field \u001b[32m'stargazers'\u001b[0m has an invalid value     \u001b]8;id=222556;file://D:\\MIUN\\DT002G\\github_metric_extractor\\analysis\\git_miner.py\u001b\\\u001b[2mgit_miner.py\u001b[0m\u001b]8;;\u001b\\\u001b[2m:\u001b[0m\u001b]8;id=362188;file://D:\\MIUN\\DT002G\\github_metric_extractor\\analysis\\git_miner.py#77\u001b\\\u001b[2m77\u001b[0m\u001b]8;;\u001b\\\n",
       "\u001b[2;36m                    \u001b[0m         \u001b[1m(\u001b[0m\u001b[1;36m100\u001b[0m\u001b[1m)\u001b[0m. Expected type \u001b[32m'String'\u001b[0m.                                         \u001b[2m               \u001b[0m\n"
      ]
     },
     "metadata": {},
     "output_type": "display_data"
    },
    {
     "data": {
      "text/html": [
       "<pre style=\"white-space:pre;overflow-x:auto;line-height:normal;font-family:Menlo,'DejaVu Sans Mono',consolas,'Courier New',monospace\"><span style=\"color: #7fbfbf; text-decoration-color: #7fbfbf\">[03/12/24 19:02:28] </span><span style=\"color: #800000; text-decoration-color: #800000; font-weight: bold\">ERROR   </span> root - Argument <span style=\"color: #008000; text-decoration-color: #008000\">'after'</span> on Field <span style=\"color: #008000; text-decoration-color: #008000\">'stargazers'</span> has an invalid value     <a href=\"file://D:\\MIUN\\DT002G\\github_metric_extractor\\analysis\\git_miner.py\" target=\"_blank\"><span style=\"color: #7f7f7f; text-decoration-color: #7f7f7f\">git_miner.py</span></a><span style=\"color: #7f7f7f; text-decoration-color: #7f7f7f\">:</span><a href=\"file://D:\\MIUN\\DT002G\\github_metric_extractor\\analysis\\git_miner.py#77\" target=\"_blank\"><span style=\"color: #7f7f7f; text-decoration-color: #7f7f7f\">77</span></a>\n",
       "<span style=\"color: #7fbfbf; text-decoration-color: #7fbfbf\">                    </span>         <span style=\"font-weight: bold\">(</span><span style=\"color: #008080; text-decoration-color: #008080; font-weight: bold\">100</span><span style=\"font-weight: bold\">)</span>. Expected type <span style=\"color: #008000; text-decoration-color: #008000\">'String'</span>.                                         <span style=\"color: #7f7f7f; text-decoration-color: #7f7f7f\">               </span>\n",
       "</pre>\n"
      ],
      "text/plain": [
       "\u001b[2;36m[03/12/24 19:02:28]\u001b[0m\u001b[2;36m \u001b[0m\u001b[1;31mERROR   \u001b[0m root - Argument \u001b[32m'after'\u001b[0m on Field \u001b[32m'stargazers'\u001b[0m has an invalid value     \u001b]8;id=84936;file://D:\\MIUN\\DT002G\\github_metric_extractor\\analysis\\git_miner.py\u001b\\\u001b[2mgit_miner.py\u001b[0m\u001b]8;;\u001b\\\u001b[2m:\u001b[0m\u001b]8;id=980095;file://D:\\MIUN\\DT002G\\github_metric_extractor\\analysis\\git_miner.py#77\u001b\\\u001b[2m77\u001b[0m\u001b]8;;\u001b\\\n",
       "\u001b[2;36m                    \u001b[0m         \u001b[1m(\u001b[0m\u001b[1;36m100\u001b[0m\u001b[1m)\u001b[0m. Expected type \u001b[32m'String'\u001b[0m.                                         \u001b[2m               \u001b[0m\n"
      ]
     },
     "metadata": {},
     "output_type": "display_data"
    },
    {
     "data": {
      "text/html": [
       "<pre style=\"white-space:pre;overflow-x:auto;line-height:normal;font-family:Menlo,'DejaVu Sans Mono',consolas,'Courier New',monospace\"><span style=\"color: #7fbfbf; text-decoration-color: #7fbfbf\">                    </span><span style=\"color: #800000; text-decoration-color: #800000; font-weight: bold\">ERROR   </span> root - Argument <span style=\"color: #008000; text-decoration-color: #008000\">'after'</span> on Field <span style=\"color: #008000; text-decoration-color: #008000\">'stargazers'</span> has an invalid value     <a href=\"file://D:\\MIUN\\DT002G\\github_metric_extractor\\analysis\\git_miner.py\" target=\"_blank\"><span style=\"color: #7f7f7f; text-decoration-color: #7f7f7f\">git_miner.py</span></a><span style=\"color: #7f7f7f; text-decoration-color: #7f7f7f\">:</span><a href=\"file://D:\\MIUN\\DT002G\\github_metric_extractor\\analysis\\git_miner.py#77\" target=\"_blank\"><span style=\"color: #7f7f7f; text-decoration-color: #7f7f7f\">77</span></a>\n",
       "<span style=\"color: #7fbfbf; text-decoration-color: #7fbfbf\">                    </span>         <span style=\"font-weight: bold\">(</span><span style=\"color: #008080; text-decoration-color: #008080; font-weight: bold\">100</span><span style=\"font-weight: bold\">)</span>. Expected type <span style=\"color: #008000; text-decoration-color: #008000\">'String'</span>.                                         <span style=\"color: #7f7f7f; text-decoration-color: #7f7f7f\">               </span>\n",
       "</pre>\n"
      ],
      "text/plain": [
       "\u001b[2;36m                   \u001b[0m\u001b[2;36m \u001b[0m\u001b[1;31mERROR   \u001b[0m root - Argument \u001b[32m'after'\u001b[0m on Field \u001b[32m'stargazers'\u001b[0m has an invalid value     \u001b]8;id=449342;file://D:\\MIUN\\DT002G\\github_metric_extractor\\analysis\\git_miner.py\u001b\\\u001b[2mgit_miner.py\u001b[0m\u001b]8;;\u001b\\\u001b[2m:\u001b[0m\u001b]8;id=687120;file://D:\\MIUN\\DT002G\\github_metric_extractor\\analysis\\git_miner.py#77\u001b\\\u001b[2m77\u001b[0m\u001b]8;;\u001b\\\n",
       "\u001b[2;36m                    \u001b[0m         \u001b[1m(\u001b[0m\u001b[1;36m100\u001b[0m\u001b[1m)\u001b[0m. Expected type \u001b[32m'String'\u001b[0m.                                         \u001b[2m               \u001b[0m\n"
      ]
     },
     "metadata": {},
     "output_type": "display_data"
    },
    {
     "data": {
      "text/html": [
       "<pre style=\"white-space:pre;overflow-x:auto;line-height:normal;font-family:Menlo,'DejaVu Sans Mono',consolas,'Courier New',monospace\"><span style=\"color: #7fbfbf; text-decoration-color: #7fbfbf\">                    </span><span style=\"color: #800000; text-decoration-color: #800000; font-weight: bold\">ERROR   </span> root - Argument <span style=\"color: #008000; text-decoration-color: #008000\">'after'</span> on Field <span style=\"color: #008000; text-decoration-color: #008000\">'stargazers'</span> has an invalid value     <a href=\"file://D:\\MIUN\\DT002G\\github_metric_extractor\\analysis\\git_miner.py\" target=\"_blank\"><span style=\"color: #7f7f7f; text-decoration-color: #7f7f7f\">git_miner.py</span></a><span style=\"color: #7f7f7f; text-decoration-color: #7f7f7f\">:</span><a href=\"file://D:\\MIUN\\DT002G\\github_metric_extractor\\analysis\\git_miner.py#77\" target=\"_blank\"><span style=\"color: #7f7f7f; text-decoration-color: #7f7f7f\">77</span></a>\n",
       "<span style=\"color: #7fbfbf; text-decoration-color: #7fbfbf\">                    </span>         <span style=\"font-weight: bold\">(</span><span style=\"color: #008080; text-decoration-color: #008080; font-weight: bold\">100</span><span style=\"font-weight: bold\">)</span>. Expected type <span style=\"color: #008000; text-decoration-color: #008000\">'String'</span>.                                         <span style=\"color: #7f7f7f; text-decoration-color: #7f7f7f\">               </span>\n",
       "</pre>\n"
      ],
      "text/plain": [
       "\u001b[2;36m                   \u001b[0m\u001b[2;36m \u001b[0m\u001b[1;31mERROR   \u001b[0m root - Argument \u001b[32m'after'\u001b[0m on Field \u001b[32m'stargazers'\u001b[0m has an invalid value     \u001b]8;id=438900;file://D:\\MIUN\\DT002G\\github_metric_extractor\\analysis\\git_miner.py\u001b\\\u001b[2mgit_miner.py\u001b[0m\u001b]8;;\u001b\\\u001b[2m:\u001b[0m\u001b]8;id=601277;file://D:\\MIUN\\DT002G\\github_metric_extractor\\analysis\\git_miner.py#77\u001b\\\u001b[2m77\u001b[0m\u001b]8;;\u001b\\\n",
       "\u001b[2;36m                    \u001b[0m         \u001b[1m(\u001b[0m\u001b[1;36m100\u001b[0m\u001b[1m)\u001b[0m. Expected type \u001b[32m'String'\u001b[0m.                                         \u001b[2m               \u001b[0m\n"
      ]
     },
     "metadata": {},
     "output_type": "display_data"
    },
    {
     "data": {
      "text/html": [
       "<pre style=\"white-space:pre;overflow-x:auto;line-height:normal;font-family:Menlo,'DejaVu Sans Mono',consolas,'Courier New',monospace\"><span style=\"color: #7fbfbf; text-decoration-color: #7fbfbf\">[03/12/24 19:02:29] </span><span style=\"color: #800000; text-decoration-color: #800000; font-weight: bold\">ERROR   </span> root - Argument <span style=\"color: #008000; text-decoration-color: #008000\">'after'</span> on Field <span style=\"color: #008000; text-decoration-color: #008000\">'stargazers'</span> has an invalid value     <a href=\"file://D:\\MIUN\\DT002G\\github_metric_extractor\\analysis\\git_miner.py\" target=\"_blank\"><span style=\"color: #7f7f7f; text-decoration-color: #7f7f7f\">git_miner.py</span></a><span style=\"color: #7f7f7f; text-decoration-color: #7f7f7f\">:</span><a href=\"file://D:\\MIUN\\DT002G\\github_metric_extractor\\analysis\\git_miner.py#77\" target=\"_blank\"><span style=\"color: #7f7f7f; text-decoration-color: #7f7f7f\">77</span></a>\n",
       "<span style=\"color: #7fbfbf; text-decoration-color: #7fbfbf\">                    </span>         <span style=\"font-weight: bold\">(</span><span style=\"color: #008080; text-decoration-color: #008080; font-weight: bold\">100</span><span style=\"font-weight: bold\">)</span>. Expected type <span style=\"color: #008000; text-decoration-color: #008000\">'String'</span>.                                         <span style=\"color: #7f7f7f; text-decoration-color: #7f7f7f\">               </span>\n",
       "</pre>\n"
      ],
      "text/plain": [
       "\u001b[2;36m[03/12/24 19:02:29]\u001b[0m\u001b[2;36m \u001b[0m\u001b[1;31mERROR   \u001b[0m root - Argument \u001b[32m'after'\u001b[0m on Field \u001b[32m'stargazers'\u001b[0m has an invalid value     \u001b]8;id=276884;file://D:\\MIUN\\DT002G\\github_metric_extractor\\analysis\\git_miner.py\u001b\\\u001b[2mgit_miner.py\u001b[0m\u001b]8;;\u001b\\\u001b[2m:\u001b[0m\u001b]8;id=887078;file://D:\\MIUN\\DT002G\\github_metric_extractor\\analysis\\git_miner.py#77\u001b\\\u001b[2m77\u001b[0m\u001b]8;;\u001b\\\n",
       "\u001b[2;36m                    \u001b[0m         \u001b[1m(\u001b[0m\u001b[1;36m100\u001b[0m\u001b[1m)\u001b[0m. Expected type \u001b[32m'String'\u001b[0m.                                         \u001b[2m               \u001b[0m\n"
      ]
     },
     "metadata": {},
     "output_type": "display_data"
    },
    {
     "data": {
      "text/html": [
       "<pre style=\"white-space:pre;overflow-x:auto;line-height:normal;font-family:Menlo,'DejaVu Sans Mono',consolas,'Courier New',monospace\"><span style=\"color: #7fbfbf; text-decoration-color: #7fbfbf\">                    </span><span style=\"color: #800000; text-decoration-color: #800000; font-weight: bold\">ERROR   </span> root - Argument <span style=\"color: #008000; text-decoration-color: #008000\">'after'</span> on Field <span style=\"color: #008000; text-decoration-color: #008000\">'stargazers'</span> has an invalid value     <a href=\"file://D:\\MIUN\\DT002G\\github_metric_extractor\\analysis\\git_miner.py\" target=\"_blank\"><span style=\"color: #7f7f7f; text-decoration-color: #7f7f7f\">git_miner.py</span></a><span style=\"color: #7f7f7f; text-decoration-color: #7f7f7f\">:</span><a href=\"file://D:\\MIUN\\DT002G\\github_metric_extractor\\analysis\\git_miner.py#77\" target=\"_blank\"><span style=\"color: #7f7f7f; text-decoration-color: #7f7f7f\">77</span></a>\n",
       "<span style=\"color: #7fbfbf; text-decoration-color: #7fbfbf\">                    </span>         <span style=\"font-weight: bold\">(</span><span style=\"color: #008080; text-decoration-color: #008080; font-weight: bold\">100</span><span style=\"font-weight: bold\">)</span>. Expected type <span style=\"color: #008000; text-decoration-color: #008000\">'String'</span>.                                         <span style=\"color: #7f7f7f; text-decoration-color: #7f7f7f\">               </span>\n",
       "</pre>\n"
      ],
      "text/plain": [
       "\u001b[2;36m                   \u001b[0m\u001b[2;36m \u001b[0m\u001b[1;31mERROR   \u001b[0m root - Argument \u001b[32m'after'\u001b[0m on Field \u001b[32m'stargazers'\u001b[0m has an invalid value     \u001b]8;id=972442;file://D:\\MIUN\\DT002G\\github_metric_extractor\\analysis\\git_miner.py\u001b\\\u001b[2mgit_miner.py\u001b[0m\u001b]8;;\u001b\\\u001b[2m:\u001b[0m\u001b]8;id=710733;file://D:\\MIUN\\DT002G\\github_metric_extractor\\analysis\\git_miner.py#77\u001b\\\u001b[2m77\u001b[0m\u001b]8;;\u001b\\\n",
       "\u001b[2;36m                    \u001b[0m         \u001b[1m(\u001b[0m\u001b[1;36m100\u001b[0m\u001b[1m)\u001b[0m. Expected type \u001b[32m'String'\u001b[0m.                                         \u001b[2m               \u001b[0m\n"
      ]
     },
     "metadata": {},
     "output_type": "display_data"
    },
    {
     "data": {
      "text/html": [
       "<pre style=\"white-space:pre;overflow-x:auto;line-height:normal;font-family:Menlo,'DejaVu Sans Mono',consolas,'Courier New',monospace\"><span style=\"color: #7fbfbf; text-decoration-color: #7fbfbf\">[03/12/24 19:02:30] </span><span style=\"color: #800000; text-decoration-color: #800000; font-weight: bold\">ERROR   </span> root - Argument <span style=\"color: #008000; text-decoration-color: #008000\">'after'</span> on Field <span style=\"color: #008000; text-decoration-color: #008000\">'stargazers'</span> has an invalid value     <a href=\"file://D:\\MIUN\\DT002G\\github_metric_extractor\\analysis\\git_miner.py\" target=\"_blank\"><span style=\"color: #7f7f7f; text-decoration-color: #7f7f7f\">git_miner.py</span></a><span style=\"color: #7f7f7f; text-decoration-color: #7f7f7f\">:</span><a href=\"file://D:\\MIUN\\DT002G\\github_metric_extractor\\analysis\\git_miner.py#77\" target=\"_blank\"><span style=\"color: #7f7f7f; text-decoration-color: #7f7f7f\">77</span></a>\n",
       "<span style=\"color: #7fbfbf; text-decoration-color: #7fbfbf\">                    </span>         <span style=\"font-weight: bold\">(</span><span style=\"color: #008080; text-decoration-color: #008080; font-weight: bold\">100</span><span style=\"font-weight: bold\">)</span>. Expected type <span style=\"color: #008000; text-decoration-color: #008000\">'String'</span>.                                         <span style=\"color: #7f7f7f; text-decoration-color: #7f7f7f\">               </span>\n",
       "</pre>\n"
      ],
      "text/plain": [
       "\u001b[2;36m[03/12/24 19:02:30]\u001b[0m\u001b[2;36m \u001b[0m\u001b[1;31mERROR   \u001b[0m root - Argument \u001b[32m'after'\u001b[0m on Field \u001b[32m'stargazers'\u001b[0m has an invalid value     \u001b]8;id=238316;file://D:\\MIUN\\DT002G\\github_metric_extractor\\analysis\\git_miner.py\u001b\\\u001b[2mgit_miner.py\u001b[0m\u001b]8;;\u001b\\\u001b[2m:\u001b[0m\u001b]8;id=267399;file://D:\\MIUN\\DT002G\\github_metric_extractor\\analysis\\git_miner.py#77\u001b\\\u001b[2m77\u001b[0m\u001b]8;;\u001b\\\n",
       "\u001b[2;36m                    \u001b[0m         \u001b[1m(\u001b[0m\u001b[1;36m100\u001b[0m\u001b[1m)\u001b[0m. Expected type \u001b[32m'String'\u001b[0m.                                         \u001b[2m               \u001b[0m\n"
      ]
     },
     "metadata": {},
     "output_type": "display_data"
    },
    {
     "data": {
      "text/html": [
       "<pre style=\"white-space:pre;overflow-x:auto;line-height:normal;font-family:Menlo,'DejaVu Sans Mono',consolas,'Courier New',monospace\"><span style=\"color: #7fbfbf; text-decoration-color: #7fbfbf\">                    </span><span style=\"color: #800000; text-decoration-color: #800000; font-weight: bold\">ERROR   </span> root - Argument <span style=\"color: #008000; text-decoration-color: #008000\">'after'</span> on Field <span style=\"color: #008000; text-decoration-color: #008000\">'stargazers'</span> has an invalid value     <a href=\"file://D:\\MIUN\\DT002G\\github_metric_extractor\\analysis\\git_miner.py\" target=\"_blank\"><span style=\"color: #7f7f7f; text-decoration-color: #7f7f7f\">git_miner.py</span></a><span style=\"color: #7f7f7f; text-decoration-color: #7f7f7f\">:</span><a href=\"file://D:\\MIUN\\DT002G\\github_metric_extractor\\analysis\\git_miner.py#77\" target=\"_blank\"><span style=\"color: #7f7f7f; text-decoration-color: #7f7f7f\">77</span></a>\n",
       "<span style=\"color: #7fbfbf; text-decoration-color: #7fbfbf\">                    </span>         <span style=\"font-weight: bold\">(</span><span style=\"color: #008080; text-decoration-color: #008080; font-weight: bold\">100</span><span style=\"font-weight: bold\">)</span>. Expected type <span style=\"color: #008000; text-decoration-color: #008000\">'String'</span>.                                         <span style=\"color: #7f7f7f; text-decoration-color: #7f7f7f\">               </span>\n",
       "</pre>\n"
      ],
      "text/plain": [
       "\u001b[2;36m                   \u001b[0m\u001b[2;36m \u001b[0m\u001b[1;31mERROR   \u001b[0m root - Argument \u001b[32m'after'\u001b[0m on Field \u001b[32m'stargazers'\u001b[0m has an invalid value     \u001b]8;id=998189;file://D:\\MIUN\\DT002G\\github_metric_extractor\\analysis\\git_miner.py\u001b\\\u001b[2mgit_miner.py\u001b[0m\u001b]8;;\u001b\\\u001b[2m:\u001b[0m\u001b]8;id=282938;file://D:\\MIUN\\DT002G\\github_metric_extractor\\analysis\\git_miner.py#77\u001b\\\u001b[2m77\u001b[0m\u001b]8;;\u001b\\\n",
       "\u001b[2;36m                    \u001b[0m         \u001b[1m(\u001b[0m\u001b[1;36m100\u001b[0m\u001b[1m)\u001b[0m. Expected type \u001b[32m'String'\u001b[0m.                                         \u001b[2m               \u001b[0m\n"
      ]
     },
     "metadata": {},
     "output_type": "display_data"
    },
    {
     "data": {
      "text/html": [
       "<pre style=\"white-space:pre;overflow-x:auto;line-height:normal;font-family:Menlo,'DejaVu Sans Mono',consolas,'Courier New',monospace\"><span style=\"color: #7fbfbf; text-decoration-color: #7fbfbf\">                    </span><span style=\"color: #800000; text-decoration-color: #800000; font-weight: bold\">ERROR   </span> root - Argument <span style=\"color: #008000; text-decoration-color: #008000\">'after'</span> on Field <span style=\"color: #008000; text-decoration-color: #008000\">'stargazers'</span> has an invalid value     <a href=\"file://D:\\MIUN\\DT002G\\github_metric_extractor\\analysis\\git_miner.py\" target=\"_blank\"><span style=\"color: #7f7f7f; text-decoration-color: #7f7f7f\">git_miner.py</span></a><span style=\"color: #7f7f7f; text-decoration-color: #7f7f7f\">:</span><a href=\"file://D:\\MIUN\\DT002G\\github_metric_extractor\\analysis\\git_miner.py#77\" target=\"_blank\"><span style=\"color: #7f7f7f; text-decoration-color: #7f7f7f\">77</span></a>\n",
       "<span style=\"color: #7fbfbf; text-decoration-color: #7fbfbf\">                    </span>         <span style=\"font-weight: bold\">(</span><span style=\"color: #008080; text-decoration-color: #008080; font-weight: bold\">100</span><span style=\"font-weight: bold\">)</span>. Expected type <span style=\"color: #008000; text-decoration-color: #008000\">'String'</span>.                                         <span style=\"color: #7f7f7f; text-decoration-color: #7f7f7f\">               </span>\n",
       "</pre>\n"
      ],
      "text/plain": [
       "\u001b[2;36m                   \u001b[0m\u001b[2;36m \u001b[0m\u001b[1;31mERROR   \u001b[0m root - Argument \u001b[32m'after'\u001b[0m on Field \u001b[32m'stargazers'\u001b[0m has an invalid value     \u001b]8;id=109980;file://D:\\MIUN\\DT002G\\github_metric_extractor\\analysis\\git_miner.py\u001b\\\u001b[2mgit_miner.py\u001b[0m\u001b]8;;\u001b\\\u001b[2m:\u001b[0m\u001b]8;id=863111;file://D:\\MIUN\\DT002G\\github_metric_extractor\\analysis\\git_miner.py#77\u001b\\\u001b[2m77\u001b[0m\u001b]8;;\u001b\\\n",
       "\u001b[2;36m                    \u001b[0m         \u001b[1m(\u001b[0m\u001b[1;36m100\u001b[0m\u001b[1m)\u001b[0m. Expected type \u001b[32m'String'\u001b[0m.                                         \u001b[2m               \u001b[0m\n"
      ]
     },
     "metadata": {},
     "output_type": "display_data"
    },
    {
     "data": {
      "text/html": [
       "<pre style=\"white-space:pre;overflow-x:auto;line-height:normal;font-family:Menlo,'DejaVu Sans Mono',consolas,'Courier New',monospace\"><span style=\"color: #7fbfbf; text-decoration-color: #7fbfbf\">                    </span><span style=\"color: #800000; text-decoration-color: #800000; font-weight: bold\">ERROR   </span> root - Argument <span style=\"color: #008000; text-decoration-color: #008000\">'after'</span> on Field <span style=\"color: #008000; text-decoration-color: #008000\">'stargazers'</span> has an invalid value     <a href=\"file://D:\\MIUN\\DT002G\\github_metric_extractor\\analysis\\git_miner.py\" target=\"_blank\"><span style=\"color: #7f7f7f; text-decoration-color: #7f7f7f\">git_miner.py</span></a><span style=\"color: #7f7f7f; text-decoration-color: #7f7f7f\">:</span><a href=\"file://D:\\MIUN\\DT002G\\github_metric_extractor\\analysis\\git_miner.py#77\" target=\"_blank\"><span style=\"color: #7f7f7f; text-decoration-color: #7f7f7f\">77</span></a>\n",
       "<span style=\"color: #7fbfbf; text-decoration-color: #7fbfbf\">                    </span>         <span style=\"font-weight: bold\">(</span><span style=\"color: #008080; text-decoration-color: #008080; font-weight: bold\">100</span><span style=\"font-weight: bold\">)</span>. Expected type <span style=\"color: #008000; text-decoration-color: #008000\">'String'</span>.                                         <span style=\"color: #7f7f7f; text-decoration-color: #7f7f7f\">               </span>\n",
       "</pre>\n"
      ],
      "text/plain": [
       "\u001b[2;36m                   \u001b[0m\u001b[2;36m \u001b[0m\u001b[1;31mERROR   \u001b[0m root - Argument \u001b[32m'after'\u001b[0m on Field \u001b[32m'stargazers'\u001b[0m has an invalid value     \u001b]8;id=677766;file://D:\\MIUN\\DT002G\\github_metric_extractor\\analysis\\git_miner.py\u001b\\\u001b[2mgit_miner.py\u001b[0m\u001b]8;;\u001b\\\u001b[2m:\u001b[0m\u001b]8;id=788351;file://D:\\MIUN\\DT002G\\github_metric_extractor\\analysis\\git_miner.py#77\u001b\\\u001b[2m77\u001b[0m\u001b]8;;\u001b\\\n",
       "\u001b[2;36m                    \u001b[0m         \u001b[1m(\u001b[0m\u001b[1;36m100\u001b[0m\u001b[1m)\u001b[0m. Expected type \u001b[32m'String'\u001b[0m.                                         \u001b[2m               \u001b[0m\n"
      ]
     },
     "metadata": {},
     "output_type": "display_data"
    },
    {
     "data": {
      "text/html": [
       "<pre style=\"white-space:pre;overflow-x:auto;line-height:normal;font-family:Menlo,'DejaVu Sans Mono',consolas,'Courier New',monospace\"><span style=\"color: #7fbfbf; text-decoration-color: #7fbfbf\">[03/12/24 19:02:31] </span><span style=\"color: #800000; text-decoration-color: #800000; font-weight: bold\">ERROR   </span> root - Argument <span style=\"color: #008000; text-decoration-color: #008000\">'after'</span> on Field <span style=\"color: #008000; text-decoration-color: #008000\">'stargazers'</span> has an invalid value     <a href=\"file://D:\\MIUN\\DT002G\\github_metric_extractor\\analysis\\git_miner.py\" target=\"_blank\"><span style=\"color: #7f7f7f; text-decoration-color: #7f7f7f\">git_miner.py</span></a><span style=\"color: #7f7f7f; text-decoration-color: #7f7f7f\">:</span><a href=\"file://D:\\MIUN\\DT002G\\github_metric_extractor\\analysis\\git_miner.py#77\" target=\"_blank\"><span style=\"color: #7f7f7f; text-decoration-color: #7f7f7f\">77</span></a>\n",
       "<span style=\"color: #7fbfbf; text-decoration-color: #7fbfbf\">                    </span>         <span style=\"font-weight: bold\">(</span><span style=\"color: #008080; text-decoration-color: #008080; font-weight: bold\">100</span><span style=\"font-weight: bold\">)</span>. Expected type <span style=\"color: #008000; text-decoration-color: #008000\">'String'</span>.                                         <span style=\"color: #7f7f7f; text-decoration-color: #7f7f7f\">               </span>\n",
       "</pre>\n"
      ],
      "text/plain": [
       "\u001b[2;36m[03/12/24 19:02:31]\u001b[0m\u001b[2;36m \u001b[0m\u001b[1;31mERROR   \u001b[0m root - Argument \u001b[32m'after'\u001b[0m on Field \u001b[32m'stargazers'\u001b[0m has an invalid value     \u001b]8;id=608086;file://D:\\MIUN\\DT002G\\github_metric_extractor\\analysis\\git_miner.py\u001b\\\u001b[2mgit_miner.py\u001b[0m\u001b]8;;\u001b\\\u001b[2m:\u001b[0m\u001b]8;id=433621;file://D:\\MIUN\\DT002G\\github_metric_extractor\\analysis\\git_miner.py#77\u001b\\\u001b[2m77\u001b[0m\u001b]8;;\u001b\\\n",
       "\u001b[2;36m                    \u001b[0m         \u001b[1m(\u001b[0m\u001b[1;36m100\u001b[0m\u001b[1m)\u001b[0m. Expected type \u001b[32m'String'\u001b[0m.                                         \u001b[2m               \u001b[0m\n"
      ]
     },
     "metadata": {},
     "output_type": "display_data"
    },
    {
     "data": {
      "text/html": [
       "<pre style=\"white-space:pre;overflow-x:auto;line-height:normal;font-family:Menlo,'DejaVu Sans Mono',consolas,'Courier New',monospace\"><span style=\"color: #7fbfbf; text-decoration-color: #7fbfbf\">                    </span><span style=\"color: #800000; text-decoration-color: #800000; font-weight: bold\">ERROR   </span> root - Argument <span style=\"color: #008000; text-decoration-color: #008000\">'after'</span> on Field <span style=\"color: #008000; text-decoration-color: #008000\">'stargazers'</span> has an invalid value     <a href=\"file://D:\\MIUN\\DT002G\\github_metric_extractor\\analysis\\git_miner.py\" target=\"_blank\"><span style=\"color: #7f7f7f; text-decoration-color: #7f7f7f\">git_miner.py</span></a><span style=\"color: #7f7f7f; text-decoration-color: #7f7f7f\">:</span><a href=\"file://D:\\MIUN\\DT002G\\github_metric_extractor\\analysis\\git_miner.py#77\" target=\"_blank\"><span style=\"color: #7f7f7f; text-decoration-color: #7f7f7f\">77</span></a>\n",
       "<span style=\"color: #7fbfbf; text-decoration-color: #7fbfbf\">                    </span>         <span style=\"font-weight: bold\">(</span><span style=\"color: #008080; text-decoration-color: #008080; font-weight: bold\">100</span><span style=\"font-weight: bold\">)</span>. Expected type <span style=\"color: #008000; text-decoration-color: #008000\">'String'</span>.                                         <span style=\"color: #7f7f7f; text-decoration-color: #7f7f7f\">               </span>\n",
       "</pre>\n"
      ],
      "text/plain": [
       "\u001b[2;36m                   \u001b[0m\u001b[2;36m \u001b[0m\u001b[1;31mERROR   \u001b[0m root - Argument \u001b[32m'after'\u001b[0m on Field \u001b[32m'stargazers'\u001b[0m has an invalid value     \u001b]8;id=284398;file://D:\\MIUN\\DT002G\\github_metric_extractor\\analysis\\git_miner.py\u001b\\\u001b[2mgit_miner.py\u001b[0m\u001b]8;;\u001b\\\u001b[2m:\u001b[0m\u001b]8;id=84885;file://D:\\MIUN\\DT002G\\github_metric_extractor\\analysis\\git_miner.py#77\u001b\\\u001b[2m77\u001b[0m\u001b]8;;\u001b\\\n",
       "\u001b[2;36m                    \u001b[0m         \u001b[1m(\u001b[0m\u001b[1;36m100\u001b[0m\u001b[1m)\u001b[0m. Expected type \u001b[32m'String'\u001b[0m.                                         \u001b[2m               \u001b[0m\n"
      ]
     },
     "metadata": {},
     "output_type": "display_data"
    },
    {
     "data": {
      "text/html": [
       "<pre style=\"white-space:pre;overflow-x:auto;line-height:normal;font-family:Menlo,'DejaVu Sans Mono',consolas,'Courier New',monospace\"><span style=\"color: #7fbfbf; text-decoration-color: #7fbfbf\">                    </span><span style=\"color: #800000; text-decoration-color: #800000; font-weight: bold\">ERROR   </span> root - Argument <span style=\"color: #008000; text-decoration-color: #008000\">'after'</span> on Field <span style=\"color: #008000; text-decoration-color: #008000\">'stargazers'</span> has an invalid value     <a href=\"file://D:\\MIUN\\DT002G\\github_metric_extractor\\analysis\\git_miner.py\" target=\"_blank\"><span style=\"color: #7f7f7f; text-decoration-color: #7f7f7f\">git_miner.py</span></a><span style=\"color: #7f7f7f; text-decoration-color: #7f7f7f\">:</span><a href=\"file://D:\\MIUN\\DT002G\\github_metric_extractor\\analysis\\git_miner.py#77\" target=\"_blank\"><span style=\"color: #7f7f7f; text-decoration-color: #7f7f7f\">77</span></a>\n",
       "<span style=\"color: #7fbfbf; text-decoration-color: #7fbfbf\">                    </span>         <span style=\"font-weight: bold\">(</span><span style=\"color: #008080; text-decoration-color: #008080; font-weight: bold\">100</span><span style=\"font-weight: bold\">)</span>. Expected type <span style=\"color: #008000; text-decoration-color: #008000\">'String'</span>.                                         <span style=\"color: #7f7f7f; text-decoration-color: #7f7f7f\">               </span>\n",
       "</pre>\n"
      ],
      "text/plain": [
       "\u001b[2;36m                   \u001b[0m\u001b[2;36m \u001b[0m\u001b[1;31mERROR   \u001b[0m root - Argument \u001b[32m'after'\u001b[0m on Field \u001b[32m'stargazers'\u001b[0m has an invalid value     \u001b]8;id=43364;file://D:\\MIUN\\DT002G\\github_metric_extractor\\analysis\\git_miner.py\u001b\\\u001b[2mgit_miner.py\u001b[0m\u001b]8;;\u001b\\\u001b[2m:\u001b[0m\u001b]8;id=338688;file://D:\\MIUN\\DT002G\\github_metric_extractor\\analysis\\git_miner.py#77\u001b\\\u001b[2m77\u001b[0m\u001b]8;;\u001b\\\n",
       "\u001b[2;36m                    \u001b[0m         \u001b[1m(\u001b[0m\u001b[1;36m100\u001b[0m\u001b[1m)\u001b[0m. Expected type \u001b[32m'String'\u001b[0m.                                         \u001b[2m               \u001b[0m\n"
      ]
     },
     "metadata": {},
     "output_type": "display_data"
    },
    {
     "data": {
      "text/html": [
       "<pre style=\"white-space:pre;overflow-x:auto;line-height:normal;font-family:Menlo,'DejaVu Sans Mono',consolas,'Courier New',monospace\"><span style=\"color: #7fbfbf; text-decoration-color: #7fbfbf\">[03/12/24 19:02:32] </span><span style=\"color: #800000; text-decoration-color: #800000; font-weight: bold\">ERROR   </span> root - Argument <span style=\"color: #008000; text-decoration-color: #008000\">'after'</span> on Field <span style=\"color: #008000; text-decoration-color: #008000\">'stargazers'</span> has an invalid value     <a href=\"file://D:\\MIUN\\DT002G\\github_metric_extractor\\analysis\\git_miner.py\" target=\"_blank\"><span style=\"color: #7f7f7f; text-decoration-color: #7f7f7f\">git_miner.py</span></a><span style=\"color: #7f7f7f; text-decoration-color: #7f7f7f\">:</span><a href=\"file://D:\\MIUN\\DT002G\\github_metric_extractor\\analysis\\git_miner.py#77\" target=\"_blank\"><span style=\"color: #7f7f7f; text-decoration-color: #7f7f7f\">77</span></a>\n",
       "<span style=\"color: #7fbfbf; text-decoration-color: #7fbfbf\">                    </span>         <span style=\"font-weight: bold\">(</span><span style=\"color: #008080; text-decoration-color: #008080; font-weight: bold\">100</span><span style=\"font-weight: bold\">)</span>. Expected type <span style=\"color: #008000; text-decoration-color: #008000\">'String'</span>.                                         <span style=\"color: #7f7f7f; text-decoration-color: #7f7f7f\">               </span>\n",
       "</pre>\n"
      ],
      "text/plain": [
       "\u001b[2;36m[03/12/24 19:02:32]\u001b[0m\u001b[2;36m \u001b[0m\u001b[1;31mERROR   \u001b[0m root - Argument \u001b[32m'after'\u001b[0m on Field \u001b[32m'stargazers'\u001b[0m has an invalid value     \u001b]8;id=536315;file://D:\\MIUN\\DT002G\\github_metric_extractor\\analysis\\git_miner.py\u001b\\\u001b[2mgit_miner.py\u001b[0m\u001b]8;;\u001b\\\u001b[2m:\u001b[0m\u001b]8;id=859075;file://D:\\MIUN\\DT002G\\github_metric_extractor\\analysis\\git_miner.py#77\u001b\\\u001b[2m77\u001b[0m\u001b]8;;\u001b\\\n",
       "\u001b[2;36m                    \u001b[0m         \u001b[1m(\u001b[0m\u001b[1;36m100\u001b[0m\u001b[1m)\u001b[0m. Expected type \u001b[32m'String'\u001b[0m.                                         \u001b[2m               \u001b[0m\n"
      ]
     },
     "metadata": {},
     "output_type": "display_data"
    },
    {
     "data": {
      "text/html": [
       "<pre style=\"white-space:pre;overflow-x:auto;line-height:normal;font-family:Menlo,'DejaVu Sans Mono',consolas,'Courier New',monospace\"><span style=\"color: #7fbfbf; text-decoration-color: #7fbfbf\">                    </span><span style=\"color: #800000; text-decoration-color: #800000; font-weight: bold\">ERROR   </span> root - Argument <span style=\"color: #008000; text-decoration-color: #008000\">'after'</span> on Field <span style=\"color: #008000; text-decoration-color: #008000\">'stargazers'</span> has an invalid value     <a href=\"file://D:\\MIUN\\DT002G\\github_metric_extractor\\analysis\\git_miner.py\" target=\"_blank\"><span style=\"color: #7f7f7f; text-decoration-color: #7f7f7f\">git_miner.py</span></a><span style=\"color: #7f7f7f; text-decoration-color: #7f7f7f\">:</span><a href=\"file://D:\\MIUN\\DT002G\\github_metric_extractor\\analysis\\git_miner.py#77\" target=\"_blank\"><span style=\"color: #7f7f7f; text-decoration-color: #7f7f7f\">77</span></a>\n",
       "<span style=\"color: #7fbfbf; text-decoration-color: #7fbfbf\">                    </span>         <span style=\"font-weight: bold\">(</span><span style=\"color: #008080; text-decoration-color: #008080; font-weight: bold\">100</span><span style=\"font-weight: bold\">)</span>. Expected type <span style=\"color: #008000; text-decoration-color: #008000\">'String'</span>.                                         <span style=\"color: #7f7f7f; text-decoration-color: #7f7f7f\">               </span>\n",
       "</pre>\n"
      ],
      "text/plain": [
       "\u001b[2;36m                   \u001b[0m\u001b[2;36m \u001b[0m\u001b[1;31mERROR   \u001b[0m root - Argument \u001b[32m'after'\u001b[0m on Field \u001b[32m'stargazers'\u001b[0m has an invalid value     \u001b]8;id=791576;file://D:\\MIUN\\DT002G\\github_metric_extractor\\analysis\\git_miner.py\u001b\\\u001b[2mgit_miner.py\u001b[0m\u001b]8;;\u001b\\\u001b[2m:\u001b[0m\u001b]8;id=209435;file://D:\\MIUN\\DT002G\\github_metric_extractor\\analysis\\git_miner.py#77\u001b\\\u001b[2m77\u001b[0m\u001b]8;;\u001b\\\n",
       "\u001b[2;36m                    \u001b[0m         \u001b[1m(\u001b[0m\u001b[1;36m100\u001b[0m\u001b[1m)\u001b[0m. Expected type \u001b[32m'String'\u001b[0m.                                         \u001b[2m               \u001b[0m\n"
      ]
     },
     "metadata": {},
     "output_type": "display_data"
    },
    {
     "data": {
      "text/html": [
       "<pre style=\"white-space:pre;overflow-x:auto;line-height:normal;font-family:Menlo,'DejaVu Sans Mono',consolas,'Courier New',monospace\"><span style=\"color: #7fbfbf; text-decoration-color: #7fbfbf\">                    </span><span style=\"color: #800000; text-decoration-color: #800000; font-weight: bold\">ERROR   </span> root - Argument <span style=\"color: #008000; text-decoration-color: #008000\">'after'</span> on Field <span style=\"color: #008000; text-decoration-color: #008000\">'stargazers'</span> has an invalid value     <a href=\"file://D:\\MIUN\\DT002G\\github_metric_extractor\\analysis\\git_miner.py\" target=\"_blank\"><span style=\"color: #7f7f7f; text-decoration-color: #7f7f7f\">git_miner.py</span></a><span style=\"color: #7f7f7f; text-decoration-color: #7f7f7f\">:</span><a href=\"file://D:\\MIUN\\DT002G\\github_metric_extractor\\analysis\\git_miner.py#77\" target=\"_blank\"><span style=\"color: #7f7f7f; text-decoration-color: #7f7f7f\">77</span></a>\n",
       "<span style=\"color: #7fbfbf; text-decoration-color: #7fbfbf\">                    </span>         <span style=\"font-weight: bold\">(</span><span style=\"color: #008080; text-decoration-color: #008080; font-weight: bold\">100</span><span style=\"font-weight: bold\">)</span>. Expected type <span style=\"color: #008000; text-decoration-color: #008000\">'String'</span>.                                         <span style=\"color: #7f7f7f; text-decoration-color: #7f7f7f\">               </span>\n",
       "</pre>\n"
      ],
      "text/plain": [
       "\u001b[2;36m                   \u001b[0m\u001b[2;36m \u001b[0m\u001b[1;31mERROR   \u001b[0m root - Argument \u001b[32m'after'\u001b[0m on Field \u001b[32m'stargazers'\u001b[0m has an invalid value     \u001b]8;id=648978;file://D:\\MIUN\\DT002G\\github_metric_extractor\\analysis\\git_miner.py\u001b\\\u001b[2mgit_miner.py\u001b[0m\u001b]8;;\u001b\\\u001b[2m:\u001b[0m\u001b]8;id=863815;file://D:\\MIUN\\DT002G\\github_metric_extractor\\analysis\\git_miner.py#77\u001b\\\u001b[2m77\u001b[0m\u001b]8;;\u001b\\\n",
       "\u001b[2;36m                    \u001b[0m         \u001b[1m(\u001b[0m\u001b[1;36m100\u001b[0m\u001b[1m)\u001b[0m. Expected type \u001b[32m'String'\u001b[0m.                                         \u001b[2m               \u001b[0m\n"
      ]
     },
     "metadata": {},
     "output_type": "display_data"
    },
    {
     "data": {
      "text/html": [
       "<pre style=\"white-space:pre;overflow-x:auto;line-height:normal;font-family:Menlo,'DejaVu Sans Mono',consolas,'Courier New',monospace\"><span style=\"color: #7fbfbf; text-decoration-color: #7fbfbf\">[03/12/24 19:02:33] </span><span style=\"color: #800000; text-decoration-color: #800000; font-weight: bold\">ERROR   </span> root - Argument <span style=\"color: #008000; text-decoration-color: #008000\">'after'</span> on Field <span style=\"color: #008000; text-decoration-color: #008000\">'stargazers'</span> has an invalid value     <a href=\"file://D:\\MIUN\\DT002G\\github_metric_extractor\\analysis\\git_miner.py\" target=\"_blank\"><span style=\"color: #7f7f7f; text-decoration-color: #7f7f7f\">git_miner.py</span></a><span style=\"color: #7f7f7f; text-decoration-color: #7f7f7f\">:</span><a href=\"file://D:\\MIUN\\DT002G\\github_metric_extractor\\analysis\\git_miner.py#77\" target=\"_blank\"><span style=\"color: #7f7f7f; text-decoration-color: #7f7f7f\">77</span></a>\n",
       "<span style=\"color: #7fbfbf; text-decoration-color: #7fbfbf\">                    </span>         <span style=\"font-weight: bold\">(</span><span style=\"color: #008080; text-decoration-color: #008080; font-weight: bold\">100</span><span style=\"font-weight: bold\">)</span>. Expected type <span style=\"color: #008000; text-decoration-color: #008000\">'String'</span>.                                         <span style=\"color: #7f7f7f; text-decoration-color: #7f7f7f\">               </span>\n",
       "</pre>\n"
      ],
      "text/plain": [
       "\u001b[2;36m[03/12/24 19:02:33]\u001b[0m\u001b[2;36m \u001b[0m\u001b[1;31mERROR   \u001b[0m root - Argument \u001b[32m'after'\u001b[0m on Field \u001b[32m'stargazers'\u001b[0m has an invalid value     \u001b]8;id=205202;file://D:\\MIUN\\DT002G\\github_metric_extractor\\analysis\\git_miner.py\u001b\\\u001b[2mgit_miner.py\u001b[0m\u001b]8;;\u001b\\\u001b[2m:\u001b[0m\u001b]8;id=851979;file://D:\\MIUN\\DT002G\\github_metric_extractor\\analysis\\git_miner.py#77\u001b\\\u001b[2m77\u001b[0m\u001b]8;;\u001b\\\n",
       "\u001b[2;36m                    \u001b[0m         \u001b[1m(\u001b[0m\u001b[1;36m100\u001b[0m\u001b[1m)\u001b[0m. Expected type \u001b[32m'String'\u001b[0m.                                         \u001b[2m               \u001b[0m\n"
      ]
     },
     "metadata": {},
     "output_type": "display_data"
    },
    {
     "data": {
      "text/html": [
       "<pre style=\"white-space:pre;overflow-x:auto;line-height:normal;font-family:Menlo,'DejaVu Sans Mono',consolas,'Courier New',monospace\"><span style=\"color: #7fbfbf; text-decoration-color: #7fbfbf\">                    </span><span style=\"color: #800000; text-decoration-color: #800000; font-weight: bold\">ERROR   </span> root - Argument <span style=\"color: #008000; text-decoration-color: #008000\">'after'</span> on Field <span style=\"color: #008000; text-decoration-color: #008000\">'stargazers'</span> has an invalid value     <a href=\"file://D:\\MIUN\\DT002G\\github_metric_extractor\\analysis\\git_miner.py\" target=\"_blank\"><span style=\"color: #7f7f7f; text-decoration-color: #7f7f7f\">git_miner.py</span></a><span style=\"color: #7f7f7f; text-decoration-color: #7f7f7f\">:</span><a href=\"file://D:\\MIUN\\DT002G\\github_metric_extractor\\analysis\\git_miner.py#77\" target=\"_blank\"><span style=\"color: #7f7f7f; text-decoration-color: #7f7f7f\">77</span></a>\n",
       "<span style=\"color: #7fbfbf; text-decoration-color: #7fbfbf\">                    </span>         <span style=\"font-weight: bold\">(</span><span style=\"color: #008080; text-decoration-color: #008080; font-weight: bold\">100</span><span style=\"font-weight: bold\">)</span>. Expected type <span style=\"color: #008000; text-decoration-color: #008000\">'String'</span>.                                         <span style=\"color: #7f7f7f; text-decoration-color: #7f7f7f\">               </span>\n",
       "</pre>\n"
      ],
      "text/plain": [
       "\u001b[2;36m                   \u001b[0m\u001b[2;36m \u001b[0m\u001b[1;31mERROR   \u001b[0m root - Argument \u001b[32m'after'\u001b[0m on Field \u001b[32m'stargazers'\u001b[0m has an invalid value     \u001b]8;id=429167;file://D:\\MIUN\\DT002G\\github_metric_extractor\\analysis\\git_miner.py\u001b\\\u001b[2mgit_miner.py\u001b[0m\u001b]8;;\u001b\\\u001b[2m:\u001b[0m\u001b]8;id=509840;file://D:\\MIUN\\DT002G\\github_metric_extractor\\analysis\\git_miner.py#77\u001b\\\u001b[2m77\u001b[0m\u001b]8;;\u001b\\\n",
       "\u001b[2;36m                    \u001b[0m         \u001b[1m(\u001b[0m\u001b[1;36m100\u001b[0m\u001b[1m)\u001b[0m. Expected type \u001b[32m'String'\u001b[0m.                                         \u001b[2m               \u001b[0m\n"
      ]
     },
     "metadata": {},
     "output_type": "display_data"
    },
    {
     "data": {
      "text/html": [
       "<pre style=\"white-space:pre;overflow-x:auto;line-height:normal;font-family:Menlo,'DejaVu Sans Mono',consolas,'Courier New',monospace\"><span style=\"color: #7fbfbf; text-decoration-color: #7fbfbf\">                    </span><span style=\"color: #800000; text-decoration-color: #800000; font-weight: bold\">ERROR   </span> root - Argument <span style=\"color: #008000; text-decoration-color: #008000\">'after'</span> on Field <span style=\"color: #008000; text-decoration-color: #008000\">'stargazers'</span> has an invalid value     <a href=\"file://D:\\MIUN\\DT002G\\github_metric_extractor\\analysis\\git_miner.py\" target=\"_blank\"><span style=\"color: #7f7f7f; text-decoration-color: #7f7f7f\">git_miner.py</span></a><span style=\"color: #7f7f7f; text-decoration-color: #7f7f7f\">:</span><a href=\"file://D:\\MIUN\\DT002G\\github_metric_extractor\\analysis\\git_miner.py#77\" target=\"_blank\"><span style=\"color: #7f7f7f; text-decoration-color: #7f7f7f\">77</span></a>\n",
       "<span style=\"color: #7fbfbf; text-decoration-color: #7fbfbf\">                    </span>         <span style=\"font-weight: bold\">(</span><span style=\"color: #008080; text-decoration-color: #008080; font-weight: bold\">100</span><span style=\"font-weight: bold\">)</span>. Expected type <span style=\"color: #008000; text-decoration-color: #008000\">'String'</span>.                                         <span style=\"color: #7f7f7f; text-decoration-color: #7f7f7f\">               </span>\n",
       "</pre>\n"
      ],
      "text/plain": [
       "\u001b[2;36m                   \u001b[0m\u001b[2;36m \u001b[0m\u001b[1;31mERROR   \u001b[0m root - Argument \u001b[32m'after'\u001b[0m on Field \u001b[32m'stargazers'\u001b[0m has an invalid value     \u001b]8;id=163342;file://D:\\MIUN\\DT002G\\github_metric_extractor\\analysis\\git_miner.py\u001b\\\u001b[2mgit_miner.py\u001b[0m\u001b]8;;\u001b\\\u001b[2m:\u001b[0m\u001b]8;id=723445;file://D:\\MIUN\\DT002G\\github_metric_extractor\\analysis\\git_miner.py#77\u001b\\\u001b[2m77\u001b[0m\u001b]8;;\u001b\\\n",
       "\u001b[2;36m                    \u001b[0m         \u001b[1m(\u001b[0m\u001b[1;36m100\u001b[0m\u001b[1m)\u001b[0m. Expected type \u001b[32m'String'\u001b[0m.                                         \u001b[2m               \u001b[0m\n"
      ]
     },
     "metadata": {},
     "output_type": "display_data"
    },
    {
     "data": {
      "text/html": [
       "<pre style=\"white-space:pre;overflow-x:auto;line-height:normal;font-family:Menlo,'DejaVu Sans Mono',consolas,'Courier New',monospace\"><span style=\"color: #7fbfbf; text-decoration-color: #7fbfbf\">[03/12/24 19:02:34] </span><span style=\"color: #800000; text-decoration-color: #800000; font-weight: bold\">ERROR   </span> root - Argument <span style=\"color: #008000; text-decoration-color: #008000\">'after'</span> on Field <span style=\"color: #008000; text-decoration-color: #008000\">'stargazers'</span> has an invalid value     <a href=\"file://D:\\MIUN\\DT002G\\github_metric_extractor\\analysis\\git_miner.py\" target=\"_blank\"><span style=\"color: #7f7f7f; text-decoration-color: #7f7f7f\">git_miner.py</span></a><span style=\"color: #7f7f7f; text-decoration-color: #7f7f7f\">:</span><a href=\"file://D:\\MIUN\\DT002G\\github_metric_extractor\\analysis\\git_miner.py#77\" target=\"_blank\"><span style=\"color: #7f7f7f; text-decoration-color: #7f7f7f\">77</span></a>\n",
       "<span style=\"color: #7fbfbf; text-decoration-color: #7fbfbf\">                    </span>         <span style=\"font-weight: bold\">(</span><span style=\"color: #008080; text-decoration-color: #008080; font-weight: bold\">100</span><span style=\"font-weight: bold\">)</span>. Expected type <span style=\"color: #008000; text-decoration-color: #008000\">'String'</span>.                                         <span style=\"color: #7f7f7f; text-decoration-color: #7f7f7f\">               </span>\n",
       "</pre>\n"
      ],
      "text/plain": [
       "\u001b[2;36m[03/12/24 19:02:34]\u001b[0m\u001b[2;36m \u001b[0m\u001b[1;31mERROR   \u001b[0m root - Argument \u001b[32m'after'\u001b[0m on Field \u001b[32m'stargazers'\u001b[0m has an invalid value     \u001b]8;id=924985;file://D:\\MIUN\\DT002G\\github_metric_extractor\\analysis\\git_miner.py\u001b\\\u001b[2mgit_miner.py\u001b[0m\u001b]8;;\u001b\\\u001b[2m:\u001b[0m\u001b]8;id=835552;file://D:\\MIUN\\DT002G\\github_metric_extractor\\analysis\\git_miner.py#77\u001b\\\u001b[2m77\u001b[0m\u001b]8;;\u001b\\\n",
       "\u001b[2;36m                    \u001b[0m         \u001b[1m(\u001b[0m\u001b[1;36m100\u001b[0m\u001b[1m)\u001b[0m. Expected type \u001b[32m'String'\u001b[0m.                                         \u001b[2m               \u001b[0m\n"
      ]
     },
     "metadata": {},
     "output_type": "display_data"
    },
    {
     "data": {
      "text/html": [
       "<pre style=\"white-space:pre;overflow-x:auto;line-height:normal;font-family:Menlo,'DejaVu Sans Mono',consolas,'Courier New',monospace\"><span style=\"color: #7fbfbf; text-decoration-color: #7fbfbf\">                    </span><span style=\"color: #800000; text-decoration-color: #800000; font-weight: bold\">ERROR   </span> root - Argument <span style=\"color: #008000; text-decoration-color: #008000\">'after'</span> on Field <span style=\"color: #008000; text-decoration-color: #008000\">'stargazers'</span> has an invalid value     <a href=\"file://D:\\MIUN\\DT002G\\github_metric_extractor\\analysis\\git_miner.py\" target=\"_blank\"><span style=\"color: #7f7f7f; text-decoration-color: #7f7f7f\">git_miner.py</span></a><span style=\"color: #7f7f7f; text-decoration-color: #7f7f7f\">:</span><a href=\"file://D:\\MIUN\\DT002G\\github_metric_extractor\\analysis\\git_miner.py#77\" target=\"_blank\"><span style=\"color: #7f7f7f; text-decoration-color: #7f7f7f\">77</span></a>\n",
       "<span style=\"color: #7fbfbf; text-decoration-color: #7fbfbf\">                    </span>         <span style=\"font-weight: bold\">(</span><span style=\"color: #008080; text-decoration-color: #008080; font-weight: bold\">100</span><span style=\"font-weight: bold\">)</span>. Expected type <span style=\"color: #008000; text-decoration-color: #008000\">'String'</span>.                                         <span style=\"color: #7f7f7f; text-decoration-color: #7f7f7f\">               </span>\n",
       "</pre>\n"
      ],
      "text/plain": [
       "\u001b[2;36m                   \u001b[0m\u001b[2;36m \u001b[0m\u001b[1;31mERROR   \u001b[0m root - Argument \u001b[32m'after'\u001b[0m on Field \u001b[32m'stargazers'\u001b[0m has an invalid value     \u001b]8;id=255442;file://D:\\MIUN\\DT002G\\github_metric_extractor\\analysis\\git_miner.py\u001b\\\u001b[2mgit_miner.py\u001b[0m\u001b]8;;\u001b\\\u001b[2m:\u001b[0m\u001b]8;id=356682;file://D:\\MIUN\\DT002G\\github_metric_extractor\\analysis\\git_miner.py#77\u001b\\\u001b[2m77\u001b[0m\u001b]8;;\u001b\\\n",
       "\u001b[2;36m                    \u001b[0m         \u001b[1m(\u001b[0m\u001b[1;36m100\u001b[0m\u001b[1m)\u001b[0m. Expected type \u001b[32m'String'\u001b[0m.                                         \u001b[2m               \u001b[0m\n"
      ]
     },
     "metadata": {},
     "output_type": "display_data"
    },
    {
     "data": {
      "text/html": [
       "<pre style=\"white-space:pre;overflow-x:auto;line-height:normal;font-family:Menlo,'DejaVu Sans Mono',consolas,'Courier New',monospace\"><span style=\"color: #7fbfbf; text-decoration-color: #7fbfbf\">                    </span><span style=\"color: #800000; text-decoration-color: #800000; font-weight: bold\">ERROR   </span> root - Argument <span style=\"color: #008000; text-decoration-color: #008000\">'after'</span> on Field <span style=\"color: #008000; text-decoration-color: #008000\">'stargazers'</span> has an invalid value     <a href=\"file://D:\\MIUN\\DT002G\\github_metric_extractor\\analysis\\git_miner.py\" target=\"_blank\"><span style=\"color: #7f7f7f; text-decoration-color: #7f7f7f\">git_miner.py</span></a><span style=\"color: #7f7f7f; text-decoration-color: #7f7f7f\">:</span><a href=\"file://D:\\MIUN\\DT002G\\github_metric_extractor\\analysis\\git_miner.py#77\" target=\"_blank\"><span style=\"color: #7f7f7f; text-decoration-color: #7f7f7f\">77</span></a>\n",
       "<span style=\"color: #7fbfbf; text-decoration-color: #7fbfbf\">                    </span>         <span style=\"font-weight: bold\">(</span><span style=\"color: #008080; text-decoration-color: #008080; font-weight: bold\">100</span><span style=\"font-weight: bold\">)</span>. Expected type <span style=\"color: #008000; text-decoration-color: #008000\">'String'</span>.                                         <span style=\"color: #7f7f7f; text-decoration-color: #7f7f7f\">               </span>\n",
       "</pre>\n"
      ],
      "text/plain": [
       "\u001b[2;36m                   \u001b[0m\u001b[2;36m \u001b[0m\u001b[1;31mERROR   \u001b[0m root - Argument \u001b[32m'after'\u001b[0m on Field \u001b[32m'stargazers'\u001b[0m has an invalid value     \u001b]8;id=521760;file://D:\\MIUN\\DT002G\\github_metric_extractor\\analysis\\git_miner.py\u001b\\\u001b[2mgit_miner.py\u001b[0m\u001b]8;;\u001b\\\u001b[2m:\u001b[0m\u001b]8;id=973138;file://D:\\MIUN\\DT002G\\github_metric_extractor\\analysis\\git_miner.py#77\u001b\\\u001b[2m77\u001b[0m\u001b]8;;\u001b\\\n",
       "\u001b[2;36m                    \u001b[0m         \u001b[1m(\u001b[0m\u001b[1;36m100\u001b[0m\u001b[1m)\u001b[0m. Expected type \u001b[32m'String'\u001b[0m.                                         \u001b[2m               \u001b[0m\n"
      ]
     },
     "metadata": {},
     "output_type": "display_data"
    },
    {
     "data": {
      "text/html": [
       "<pre style=\"white-space:pre;overflow-x:auto;line-height:normal;font-family:Menlo,'DejaVu Sans Mono',consolas,'Courier New',monospace\"><span style=\"color: #7fbfbf; text-decoration-color: #7fbfbf\">                    </span><span style=\"color: #800000; text-decoration-color: #800000; font-weight: bold\">ERROR   </span> root - Argument <span style=\"color: #008000; text-decoration-color: #008000\">'after'</span> on Field <span style=\"color: #008000; text-decoration-color: #008000\">'stargazers'</span> has an invalid value     <a href=\"file://D:\\MIUN\\DT002G\\github_metric_extractor\\analysis\\git_miner.py\" target=\"_blank\"><span style=\"color: #7f7f7f; text-decoration-color: #7f7f7f\">git_miner.py</span></a><span style=\"color: #7f7f7f; text-decoration-color: #7f7f7f\">:</span><a href=\"file://D:\\MIUN\\DT002G\\github_metric_extractor\\analysis\\git_miner.py#77\" target=\"_blank\"><span style=\"color: #7f7f7f; text-decoration-color: #7f7f7f\">77</span></a>\n",
       "<span style=\"color: #7fbfbf; text-decoration-color: #7fbfbf\">                    </span>         <span style=\"font-weight: bold\">(</span><span style=\"color: #008080; text-decoration-color: #008080; font-weight: bold\">100</span><span style=\"font-weight: bold\">)</span>. Expected type <span style=\"color: #008000; text-decoration-color: #008000\">'String'</span>.                                         <span style=\"color: #7f7f7f; text-decoration-color: #7f7f7f\">               </span>\n",
       "</pre>\n"
      ],
      "text/plain": [
       "\u001b[2;36m                   \u001b[0m\u001b[2;36m \u001b[0m\u001b[1;31mERROR   \u001b[0m root - Argument \u001b[32m'after'\u001b[0m on Field \u001b[32m'stargazers'\u001b[0m has an invalid value     \u001b]8;id=523386;file://D:\\MIUN\\DT002G\\github_metric_extractor\\analysis\\git_miner.py\u001b\\\u001b[2mgit_miner.py\u001b[0m\u001b]8;;\u001b\\\u001b[2m:\u001b[0m\u001b]8;id=924902;file://D:\\MIUN\\DT002G\\github_metric_extractor\\analysis\\git_miner.py#77\u001b\\\u001b[2m77\u001b[0m\u001b]8;;\u001b\\\n",
       "\u001b[2;36m                    \u001b[0m         \u001b[1m(\u001b[0m\u001b[1;36m100\u001b[0m\u001b[1m)\u001b[0m. Expected type \u001b[32m'String'\u001b[0m.                                         \u001b[2m               \u001b[0m\n"
      ]
     },
     "metadata": {},
     "output_type": "display_data"
    },
    {
     "data": {
      "text/html": [
       "<pre style=\"white-space:pre;overflow-x:auto;line-height:normal;font-family:Menlo,'DejaVu Sans Mono',consolas,'Courier New',monospace\"><span style=\"color: #7fbfbf; text-decoration-color: #7fbfbf\">[03/12/24 19:02:35] </span><span style=\"color: #800000; text-decoration-color: #800000; font-weight: bold\">ERROR   </span> root - Argument <span style=\"color: #008000; text-decoration-color: #008000\">'after'</span> on Field <span style=\"color: #008000; text-decoration-color: #008000\">'stargazers'</span> has an invalid value     <a href=\"file://D:\\MIUN\\DT002G\\github_metric_extractor\\analysis\\git_miner.py\" target=\"_blank\"><span style=\"color: #7f7f7f; text-decoration-color: #7f7f7f\">git_miner.py</span></a><span style=\"color: #7f7f7f; text-decoration-color: #7f7f7f\">:</span><a href=\"file://D:\\MIUN\\DT002G\\github_metric_extractor\\analysis\\git_miner.py#77\" target=\"_blank\"><span style=\"color: #7f7f7f; text-decoration-color: #7f7f7f\">77</span></a>\n",
       "<span style=\"color: #7fbfbf; text-decoration-color: #7fbfbf\">                    </span>         <span style=\"font-weight: bold\">(</span><span style=\"color: #008080; text-decoration-color: #008080; font-weight: bold\">100</span><span style=\"font-weight: bold\">)</span>. Expected type <span style=\"color: #008000; text-decoration-color: #008000\">'String'</span>.                                         <span style=\"color: #7f7f7f; text-decoration-color: #7f7f7f\">               </span>\n",
       "</pre>\n"
      ],
      "text/plain": [
       "\u001b[2;36m[03/12/24 19:02:35]\u001b[0m\u001b[2;36m \u001b[0m\u001b[1;31mERROR   \u001b[0m root - Argument \u001b[32m'after'\u001b[0m on Field \u001b[32m'stargazers'\u001b[0m has an invalid value     \u001b]8;id=826520;file://D:\\MIUN\\DT002G\\github_metric_extractor\\analysis\\git_miner.py\u001b\\\u001b[2mgit_miner.py\u001b[0m\u001b]8;;\u001b\\\u001b[2m:\u001b[0m\u001b]8;id=50527;file://D:\\MIUN\\DT002G\\github_metric_extractor\\analysis\\git_miner.py#77\u001b\\\u001b[2m77\u001b[0m\u001b]8;;\u001b\\\n",
       "\u001b[2;36m                    \u001b[0m         \u001b[1m(\u001b[0m\u001b[1;36m100\u001b[0m\u001b[1m)\u001b[0m. Expected type \u001b[32m'String'\u001b[0m.                                         \u001b[2m               \u001b[0m\n"
      ]
     },
     "metadata": {},
     "output_type": "display_data"
    },
    {
     "data": {
      "text/html": [
       "<pre style=\"white-space:pre;overflow-x:auto;line-height:normal;font-family:Menlo,'DejaVu Sans Mono',consolas,'Courier New',monospace\"><span style=\"color: #7fbfbf; text-decoration-color: #7fbfbf\">                    </span><span style=\"color: #800000; text-decoration-color: #800000; font-weight: bold\">ERROR   </span> root - Argument <span style=\"color: #008000; text-decoration-color: #008000\">'after'</span> on Field <span style=\"color: #008000; text-decoration-color: #008000\">'stargazers'</span> has an invalid value     <a href=\"file://D:\\MIUN\\DT002G\\github_metric_extractor\\analysis\\git_miner.py\" target=\"_blank\"><span style=\"color: #7f7f7f; text-decoration-color: #7f7f7f\">git_miner.py</span></a><span style=\"color: #7f7f7f; text-decoration-color: #7f7f7f\">:</span><a href=\"file://D:\\MIUN\\DT002G\\github_metric_extractor\\analysis\\git_miner.py#77\" target=\"_blank\"><span style=\"color: #7f7f7f; text-decoration-color: #7f7f7f\">77</span></a>\n",
       "<span style=\"color: #7fbfbf; text-decoration-color: #7fbfbf\">                    </span>         <span style=\"font-weight: bold\">(</span><span style=\"color: #008080; text-decoration-color: #008080; font-weight: bold\">100</span><span style=\"font-weight: bold\">)</span>. Expected type <span style=\"color: #008000; text-decoration-color: #008000\">'String'</span>.                                         <span style=\"color: #7f7f7f; text-decoration-color: #7f7f7f\">               </span>\n",
       "</pre>\n"
      ],
      "text/plain": [
       "\u001b[2;36m                   \u001b[0m\u001b[2;36m \u001b[0m\u001b[1;31mERROR   \u001b[0m root - Argument \u001b[32m'after'\u001b[0m on Field \u001b[32m'stargazers'\u001b[0m has an invalid value     \u001b]8;id=461690;file://D:\\MIUN\\DT002G\\github_metric_extractor\\analysis\\git_miner.py\u001b\\\u001b[2mgit_miner.py\u001b[0m\u001b]8;;\u001b\\\u001b[2m:\u001b[0m\u001b]8;id=414627;file://D:\\MIUN\\DT002G\\github_metric_extractor\\analysis\\git_miner.py#77\u001b\\\u001b[2m77\u001b[0m\u001b]8;;\u001b\\\n",
       "\u001b[2;36m                    \u001b[0m         \u001b[1m(\u001b[0m\u001b[1;36m100\u001b[0m\u001b[1m)\u001b[0m. Expected type \u001b[32m'String'\u001b[0m.                                         \u001b[2m               \u001b[0m\n"
      ]
     },
     "metadata": {},
     "output_type": "display_data"
    },
    {
     "data": {
      "text/html": [
       "<pre style=\"white-space:pre;overflow-x:auto;line-height:normal;font-family:Menlo,'DejaVu Sans Mono',consolas,'Courier New',monospace\"><span style=\"color: #7fbfbf; text-decoration-color: #7fbfbf\">                    </span><span style=\"color: #800000; text-decoration-color: #800000; font-weight: bold\">ERROR   </span> root - Argument <span style=\"color: #008000; text-decoration-color: #008000\">'after'</span> on Field <span style=\"color: #008000; text-decoration-color: #008000\">'stargazers'</span> has an invalid value     <a href=\"file://D:\\MIUN\\DT002G\\github_metric_extractor\\analysis\\git_miner.py\" target=\"_blank\"><span style=\"color: #7f7f7f; text-decoration-color: #7f7f7f\">git_miner.py</span></a><span style=\"color: #7f7f7f; text-decoration-color: #7f7f7f\">:</span><a href=\"file://D:\\MIUN\\DT002G\\github_metric_extractor\\analysis\\git_miner.py#77\" target=\"_blank\"><span style=\"color: #7f7f7f; text-decoration-color: #7f7f7f\">77</span></a>\n",
       "<span style=\"color: #7fbfbf; text-decoration-color: #7fbfbf\">                    </span>         <span style=\"font-weight: bold\">(</span><span style=\"color: #008080; text-decoration-color: #008080; font-weight: bold\">100</span><span style=\"font-weight: bold\">)</span>. Expected type <span style=\"color: #008000; text-decoration-color: #008000\">'String'</span>.                                         <span style=\"color: #7f7f7f; text-decoration-color: #7f7f7f\">               </span>\n",
       "</pre>\n"
      ],
      "text/plain": [
       "\u001b[2;36m                   \u001b[0m\u001b[2;36m \u001b[0m\u001b[1;31mERROR   \u001b[0m root - Argument \u001b[32m'after'\u001b[0m on Field \u001b[32m'stargazers'\u001b[0m has an invalid value     \u001b]8;id=318039;file://D:\\MIUN\\DT002G\\github_metric_extractor\\analysis\\git_miner.py\u001b\\\u001b[2mgit_miner.py\u001b[0m\u001b]8;;\u001b\\\u001b[2m:\u001b[0m\u001b]8;id=158221;file://D:\\MIUN\\DT002G\\github_metric_extractor\\analysis\\git_miner.py#77\u001b\\\u001b[2m77\u001b[0m\u001b]8;;\u001b\\\n",
       "\u001b[2;36m                    \u001b[0m         \u001b[1m(\u001b[0m\u001b[1;36m100\u001b[0m\u001b[1m)\u001b[0m. Expected type \u001b[32m'String'\u001b[0m.                                         \u001b[2m               \u001b[0m\n"
      ]
     },
     "metadata": {},
     "output_type": "display_data"
    },
    {
     "data": {
      "text/html": [
       "<pre style=\"white-space:pre;overflow-x:auto;line-height:normal;font-family:Menlo,'DejaVu Sans Mono',consolas,'Courier New',monospace\"><span style=\"color: #7fbfbf; text-decoration-color: #7fbfbf\">                    </span><span style=\"color: #800000; text-decoration-color: #800000; font-weight: bold\">ERROR   </span> root - Argument <span style=\"color: #008000; text-decoration-color: #008000\">'after'</span> on Field <span style=\"color: #008000; text-decoration-color: #008000\">'stargazers'</span> has an invalid value     <a href=\"file://D:\\MIUN\\DT002G\\github_metric_extractor\\analysis\\git_miner.py\" target=\"_blank\"><span style=\"color: #7f7f7f; text-decoration-color: #7f7f7f\">git_miner.py</span></a><span style=\"color: #7f7f7f; text-decoration-color: #7f7f7f\">:</span><a href=\"file://D:\\MIUN\\DT002G\\github_metric_extractor\\analysis\\git_miner.py#77\" target=\"_blank\"><span style=\"color: #7f7f7f; text-decoration-color: #7f7f7f\">77</span></a>\n",
       "<span style=\"color: #7fbfbf; text-decoration-color: #7fbfbf\">                    </span>         <span style=\"font-weight: bold\">(</span><span style=\"color: #008080; text-decoration-color: #008080; font-weight: bold\">100</span><span style=\"font-weight: bold\">)</span>. Expected type <span style=\"color: #008000; text-decoration-color: #008000\">'String'</span>.                                         <span style=\"color: #7f7f7f; text-decoration-color: #7f7f7f\">               </span>\n",
       "</pre>\n"
      ],
      "text/plain": [
       "\u001b[2;36m                   \u001b[0m\u001b[2;36m \u001b[0m\u001b[1;31mERROR   \u001b[0m root - Argument \u001b[32m'after'\u001b[0m on Field \u001b[32m'stargazers'\u001b[0m has an invalid value     \u001b]8;id=460080;file://D:\\MIUN\\DT002G\\github_metric_extractor\\analysis\\git_miner.py\u001b\\\u001b[2mgit_miner.py\u001b[0m\u001b]8;;\u001b\\\u001b[2m:\u001b[0m\u001b]8;id=102120;file://D:\\MIUN\\DT002G\\github_metric_extractor\\analysis\\git_miner.py#77\u001b\\\u001b[2m77\u001b[0m\u001b]8;;\u001b\\\n",
       "\u001b[2;36m                    \u001b[0m         \u001b[1m(\u001b[0m\u001b[1;36m100\u001b[0m\u001b[1m)\u001b[0m. Expected type \u001b[32m'String'\u001b[0m.                                         \u001b[2m               \u001b[0m\n"
      ]
     },
     "metadata": {},
     "output_type": "display_data"
    },
    {
     "data": {
      "text/html": [
       "<pre style=\"white-space:pre;overflow-x:auto;line-height:normal;font-family:Menlo,'DejaVu Sans Mono',consolas,'Courier New',monospace\"><span style=\"color: #7fbfbf; text-decoration-color: #7fbfbf\">[03/12/24 19:02:36] </span><span style=\"color: #800000; text-decoration-color: #800000; font-weight: bold\">ERROR   </span> root - Argument <span style=\"color: #008000; text-decoration-color: #008000\">'after'</span> on Field <span style=\"color: #008000; text-decoration-color: #008000\">'stargazers'</span> has an invalid value     <a href=\"file://D:\\MIUN\\DT002G\\github_metric_extractor\\analysis\\git_miner.py\" target=\"_blank\"><span style=\"color: #7f7f7f; text-decoration-color: #7f7f7f\">git_miner.py</span></a><span style=\"color: #7f7f7f; text-decoration-color: #7f7f7f\">:</span><a href=\"file://D:\\MIUN\\DT002G\\github_metric_extractor\\analysis\\git_miner.py#77\" target=\"_blank\"><span style=\"color: #7f7f7f; text-decoration-color: #7f7f7f\">77</span></a>\n",
       "<span style=\"color: #7fbfbf; text-decoration-color: #7fbfbf\">                    </span>         <span style=\"font-weight: bold\">(</span><span style=\"color: #008080; text-decoration-color: #008080; font-weight: bold\">100</span><span style=\"font-weight: bold\">)</span>. Expected type <span style=\"color: #008000; text-decoration-color: #008000\">'String'</span>.                                         <span style=\"color: #7f7f7f; text-decoration-color: #7f7f7f\">               </span>\n",
       "</pre>\n"
      ],
      "text/plain": [
       "\u001b[2;36m[03/12/24 19:02:36]\u001b[0m\u001b[2;36m \u001b[0m\u001b[1;31mERROR   \u001b[0m root - Argument \u001b[32m'after'\u001b[0m on Field \u001b[32m'stargazers'\u001b[0m has an invalid value     \u001b]8;id=916524;file://D:\\MIUN\\DT002G\\github_metric_extractor\\analysis\\git_miner.py\u001b\\\u001b[2mgit_miner.py\u001b[0m\u001b]8;;\u001b\\\u001b[2m:\u001b[0m\u001b]8;id=44434;file://D:\\MIUN\\DT002G\\github_metric_extractor\\analysis\\git_miner.py#77\u001b\\\u001b[2m77\u001b[0m\u001b]8;;\u001b\\\n",
       "\u001b[2;36m                    \u001b[0m         \u001b[1m(\u001b[0m\u001b[1;36m100\u001b[0m\u001b[1m)\u001b[0m. Expected type \u001b[32m'String'\u001b[0m.                                         \u001b[2m               \u001b[0m\n"
      ]
     },
     "metadata": {},
     "output_type": "display_data"
    },
    {
     "data": {
      "text/html": [
       "<pre style=\"white-space:pre;overflow-x:auto;line-height:normal;font-family:Menlo,'DejaVu Sans Mono',consolas,'Courier New',monospace\"><span style=\"color: #7fbfbf; text-decoration-color: #7fbfbf\">                    </span><span style=\"color: #800000; text-decoration-color: #800000; font-weight: bold\">ERROR   </span> root - Argument <span style=\"color: #008000; text-decoration-color: #008000\">'after'</span> on Field <span style=\"color: #008000; text-decoration-color: #008000\">'stargazers'</span> has an invalid value     <a href=\"file://D:\\MIUN\\DT002G\\github_metric_extractor\\analysis\\git_miner.py\" target=\"_blank\"><span style=\"color: #7f7f7f; text-decoration-color: #7f7f7f\">git_miner.py</span></a><span style=\"color: #7f7f7f; text-decoration-color: #7f7f7f\">:</span><a href=\"file://D:\\MIUN\\DT002G\\github_metric_extractor\\analysis\\git_miner.py#77\" target=\"_blank\"><span style=\"color: #7f7f7f; text-decoration-color: #7f7f7f\">77</span></a>\n",
       "<span style=\"color: #7fbfbf; text-decoration-color: #7fbfbf\">                    </span>         <span style=\"font-weight: bold\">(</span><span style=\"color: #008080; text-decoration-color: #008080; font-weight: bold\">100</span><span style=\"font-weight: bold\">)</span>. Expected type <span style=\"color: #008000; text-decoration-color: #008000\">'String'</span>.                                         <span style=\"color: #7f7f7f; text-decoration-color: #7f7f7f\">               </span>\n",
       "</pre>\n"
      ],
      "text/plain": [
       "\u001b[2;36m                   \u001b[0m\u001b[2;36m \u001b[0m\u001b[1;31mERROR   \u001b[0m root - Argument \u001b[32m'after'\u001b[0m on Field \u001b[32m'stargazers'\u001b[0m has an invalid value     \u001b]8;id=771347;file://D:\\MIUN\\DT002G\\github_metric_extractor\\analysis\\git_miner.py\u001b\\\u001b[2mgit_miner.py\u001b[0m\u001b]8;;\u001b\\\u001b[2m:\u001b[0m\u001b]8;id=618580;file://D:\\MIUN\\DT002G\\github_metric_extractor\\analysis\\git_miner.py#77\u001b\\\u001b[2m77\u001b[0m\u001b]8;;\u001b\\\n",
       "\u001b[2;36m                    \u001b[0m         \u001b[1m(\u001b[0m\u001b[1;36m100\u001b[0m\u001b[1m)\u001b[0m. Expected type \u001b[32m'String'\u001b[0m.                                         \u001b[2m               \u001b[0m\n"
      ]
     },
     "metadata": {},
     "output_type": "display_data"
    },
    {
     "data": {
      "text/html": [
       "<pre style=\"white-space:pre;overflow-x:auto;line-height:normal;font-family:Menlo,'DejaVu Sans Mono',consolas,'Courier New',monospace\"><span style=\"color: #7fbfbf; text-decoration-color: #7fbfbf\">                    </span><span style=\"color: #800000; text-decoration-color: #800000; font-weight: bold\">ERROR   </span> root - Argument <span style=\"color: #008000; text-decoration-color: #008000\">'after'</span> on Field <span style=\"color: #008000; text-decoration-color: #008000\">'stargazers'</span> has an invalid value     <a href=\"file://D:\\MIUN\\DT002G\\github_metric_extractor\\analysis\\git_miner.py\" target=\"_blank\"><span style=\"color: #7f7f7f; text-decoration-color: #7f7f7f\">git_miner.py</span></a><span style=\"color: #7f7f7f; text-decoration-color: #7f7f7f\">:</span><a href=\"file://D:\\MIUN\\DT002G\\github_metric_extractor\\analysis\\git_miner.py#77\" target=\"_blank\"><span style=\"color: #7f7f7f; text-decoration-color: #7f7f7f\">77</span></a>\n",
       "<span style=\"color: #7fbfbf; text-decoration-color: #7fbfbf\">                    </span>         <span style=\"font-weight: bold\">(</span><span style=\"color: #008080; text-decoration-color: #008080; font-weight: bold\">100</span><span style=\"font-weight: bold\">)</span>. Expected type <span style=\"color: #008000; text-decoration-color: #008000\">'String'</span>.                                         <span style=\"color: #7f7f7f; text-decoration-color: #7f7f7f\">               </span>\n",
       "</pre>\n"
      ],
      "text/plain": [
       "\u001b[2;36m                   \u001b[0m\u001b[2;36m \u001b[0m\u001b[1;31mERROR   \u001b[0m root - Argument \u001b[32m'after'\u001b[0m on Field \u001b[32m'stargazers'\u001b[0m has an invalid value     \u001b]8;id=750128;file://D:\\MIUN\\DT002G\\github_metric_extractor\\analysis\\git_miner.py\u001b\\\u001b[2mgit_miner.py\u001b[0m\u001b]8;;\u001b\\\u001b[2m:\u001b[0m\u001b]8;id=512501;file://D:\\MIUN\\DT002G\\github_metric_extractor\\analysis\\git_miner.py#77\u001b\\\u001b[2m77\u001b[0m\u001b]8;;\u001b\\\n",
       "\u001b[2;36m                    \u001b[0m         \u001b[1m(\u001b[0m\u001b[1;36m100\u001b[0m\u001b[1m)\u001b[0m. Expected type \u001b[32m'String'\u001b[0m.                                         \u001b[2m               \u001b[0m\n"
      ]
     },
     "metadata": {},
     "output_type": "display_data"
    },
    {
     "data": {
      "text/html": [
       "<pre style=\"white-space:pre;overflow-x:auto;line-height:normal;font-family:Menlo,'DejaVu Sans Mono',consolas,'Courier New',monospace\"><span style=\"color: #7fbfbf; text-decoration-color: #7fbfbf\">                    </span><span style=\"color: #800000; text-decoration-color: #800000; font-weight: bold\">ERROR   </span> root - Argument <span style=\"color: #008000; text-decoration-color: #008000\">'after'</span> on Field <span style=\"color: #008000; text-decoration-color: #008000\">'stargazers'</span> has an invalid value     <a href=\"file://D:\\MIUN\\DT002G\\github_metric_extractor\\analysis\\git_miner.py\" target=\"_blank\"><span style=\"color: #7f7f7f; text-decoration-color: #7f7f7f\">git_miner.py</span></a><span style=\"color: #7f7f7f; text-decoration-color: #7f7f7f\">:</span><a href=\"file://D:\\MIUN\\DT002G\\github_metric_extractor\\analysis\\git_miner.py#77\" target=\"_blank\"><span style=\"color: #7f7f7f; text-decoration-color: #7f7f7f\">77</span></a>\n",
       "<span style=\"color: #7fbfbf; text-decoration-color: #7fbfbf\">                    </span>         <span style=\"font-weight: bold\">(</span><span style=\"color: #008080; text-decoration-color: #008080; font-weight: bold\">100</span><span style=\"font-weight: bold\">)</span>. Expected type <span style=\"color: #008000; text-decoration-color: #008000\">'String'</span>.                                         <span style=\"color: #7f7f7f; text-decoration-color: #7f7f7f\">               </span>\n",
       "</pre>\n"
      ],
      "text/plain": [
       "\u001b[2;36m                   \u001b[0m\u001b[2;36m \u001b[0m\u001b[1;31mERROR   \u001b[0m root - Argument \u001b[32m'after'\u001b[0m on Field \u001b[32m'stargazers'\u001b[0m has an invalid value     \u001b]8;id=237508;file://D:\\MIUN\\DT002G\\github_metric_extractor\\analysis\\git_miner.py\u001b\\\u001b[2mgit_miner.py\u001b[0m\u001b]8;;\u001b\\\u001b[2m:\u001b[0m\u001b]8;id=977020;file://D:\\MIUN\\DT002G\\github_metric_extractor\\analysis\\git_miner.py#77\u001b\\\u001b[2m77\u001b[0m\u001b]8;;\u001b\\\n",
       "\u001b[2;36m                    \u001b[0m         \u001b[1m(\u001b[0m\u001b[1;36m100\u001b[0m\u001b[1m)\u001b[0m. Expected type \u001b[32m'String'\u001b[0m.                                         \u001b[2m               \u001b[0m\n"
      ]
     },
     "metadata": {},
     "output_type": "display_data"
    },
    {
     "data": {
      "text/html": [
       "<pre style=\"white-space:pre;overflow-x:auto;line-height:normal;font-family:Menlo,'DejaVu Sans Mono',consolas,'Courier New',monospace\"><span style=\"color: #7fbfbf; text-decoration-color: #7fbfbf\">[03/12/24 19:02:37] </span><span style=\"color: #800000; text-decoration-color: #800000; font-weight: bold\">ERROR   </span> root - Argument <span style=\"color: #008000; text-decoration-color: #008000\">'after'</span> on Field <span style=\"color: #008000; text-decoration-color: #008000\">'stargazers'</span> has an invalid value     <a href=\"file://D:\\MIUN\\DT002G\\github_metric_extractor\\analysis\\git_miner.py\" target=\"_blank\"><span style=\"color: #7f7f7f; text-decoration-color: #7f7f7f\">git_miner.py</span></a><span style=\"color: #7f7f7f; text-decoration-color: #7f7f7f\">:</span><a href=\"file://D:\\MIUN\\DT002G\\github_metric_extractor\\analysis\\git_miner.py#77\" target=\"_blank\"><span style=\"color: #7f7f7f; text-decoration-color: #7f7f7f\">77</span></a>\n",
       "<span style=\"color: #7fbfbf; text-decoration-color: #7fbfbf\">                    </span>         <span style=\"font-weight: bold\">(</span><span style=\"color: #008080; text-decoration-color: #008080; font-weight: bold\">100</span><span style=\"font-weight: bold\">)</span>. Expected type <span style=\"color: #008000; text-decoration-color: #008000\">'String'</span>.                                         <span style=\"color: #7f7f7f; text-decoration-color: #7f7f7f\">               </span>\n",
       "</pre>\n"
      ],
      "text/plain": [
       "\u001b[2;36m[03/12/24 19:02:37]\u001b[0m\u001b[2;36m \u001b[0m\u001b[1;31mERROR   \u001b[0m root - Argument \u001b[32m'after'\u001b[0m on Field \u001b[32m'stargazers'\u001b[0m has an invalid value     \u001b]8;id=848876;file://D:\\MIUN\\DT002G\\github_metric_extractor\\analysis\\git_miner.py\u001b\\\u001b[2mgit_miner.py\u001b[0m\u001b]8;;\u001b\\\u001b[2m:\u001b[0m\u001b]8;id=352570;file://D:\\MIUN\\DT002G\\github_metric_extractor\\analysis\\git_miner.py#77\u001b\\\u001b[2m77\u001b[0m\u001b]8;;\u001b\\\n",
       "\u001b[2;36m                    \u001b[0m         \u001b[1m(\u001b[0m\u001b[1;36m100\u001b[0m\u001b[1m)\u001b[0m. Expected type \u001b[32m'String'\u001b[0m.                                         \u001b[2m               \u001b[0m\n"
      ]
     },
     "metadata": {},
     "output_type": "display_data"
    },
    {
     "data": {
      "text/html": [
       "<pre style=\"white-space:pre;overflow-x:auto;line-height:normal;font-family:Menlo,'DejaVu Sans Mono',consolas,'Courier New',monospace\"><span style=\"color: #7fbfbf; text-decoration-color: #7fbfbf\">                    </span><span style=\"color: #800000; text-decoration-color: #800000; font-weight: bold\">ERROR   </span> root - Argument <span style=\"color: #008000; text-decoration-color: #008000\">'after'</span> on Field <span style=\"color: #008000; text-decoration-color: #008000\">'stargazers'</span> has an invalid value     <a href=\"file://D:\\MIUN\\DT002G\\github_metric_extractor\\analysis\\git_miner.py\" target=\"_blank\"><span style=\"color: #7f7f7f; text-decoration-color: #7f7f7f\">git_miner.py</span></a><span style=\"color: #7f7f7f; text-decoration-color: #7f7f7f\">:</span><a href=\"file://D:\\MIUN\\DT002G\\github_metric_extractor\\analysis\\git_miner.py#77\" target=\"_blank\"><span style=\"color: #7f7f7f; text-decoration-color: #7f7f7f\">77</span></a>\n",
       "<span style=\"color: #7fbfbf; text-decoration-color: #7fbfbf\">                    </span>         <span style=\"font-weight: bold\">(</span><span style=\"color: #008080; text-decoration-color: #008080; font-weight: bold\">100</span><span style=\"font-weight: bold\">)</span>. Expected type <span style=\"color: #008000; text-decoration-color: #008000\">'String'</span>.                                         <span style=\"color: #7f7f7f; text-decoration-color: #7f7f7f\">               </span>\n",
       "</pre>\n"
      ],
      "text/plain": [
       "\u001b[2;36m                   \u001b[0m\u001b[2;36m \u001b[0m\u001b[1;31mERROR   \u001b[0m root - Argument \u001b[32m'after'\u001b[0m on Field \u001b[32m'stargazers'\u001b[0m has an invalid value     \u001b]8;id=795991;file://D:\\MIUN\\DT002G\\github_metric_extractor\\analysis\\git_miner.py\u001b\\\u001b[2mgit_miner.py\u001b[0m\u001b]8;;\u001b\\\u001b[2m:\u001b[0m\u001b]8;id=720377;file://D:\\MIUN\\DT002G\\github_metric_extractor\\analysis\\git_miner.py#77\u001b\\\u001b[2m77\u001b[0m\u001b]8;;\u001b\\\n",
       "\u001b[2;36m                    \u001b[0m         \u001b[1m(\u001b[0m\u001b[1;36m100\u001b[0m\u001b[1m)\u001b[0m. Expected type \u001b[32m'String'\u001b[0m.                                         \u001b[2m               \u001b[0m\n"
      ]
     },
     "metadata": {},
     "output_type": "display_data"
    },
    {
     "data": {
      "text/html": [
       "<pre style=\"white-space:pre;overflow-x:auto;line-height:normal;font-family:Menlo,'DejaVu Sans Mono',consolas,'Courier New',monospace\"><span style=\"color: #7fbfbf; text-decoration-color: #7fbfbf\">                    </span><span style=\"color: #800000; text-decoration-color: #800000; font-weight: bold\">ERROR   </span> root - Argument <span style=\"color: #008000; text-decoration-color: #008000\">'after'</span> on Field <span style=\"color: #008000; text-decoration-color: #008000\">'stargazers'</span> has an invalid value     <a href=\"file://D:\\MIUN\\DT002G\\github_metric_extractor\\analysis\\git_miner.py\" target=\"_blank\"><span style=\"color: #7f7f7f; text-decoration-color: #7f7f7f\">git_miner.py</span></a><span style=\"color: #7f7f7f; text-decoration-color: #7f7f7f\">:</span><a href=\"file://D:\\MIUN\\DT002G\\github_metric_extractor\\analysis\\git_miner.py#77\" target=\"_blank\"><span style=\"color: #7f7f7f; text-decoration-color: #7f7f7f\">77</span></a>\n",
       "<span style=\"color: #7fbfbf; text-decoration-color: #7fbfbf\">                    </span>         <span style=\"font-weight: bold\">(</span><span style=\"color: #008080; text-decoration-color: #008080; font-weight: bold\">100</span><span style=\"font-weight: bold\">)</span>. Expected type <span style=\"color: #008000; text-decoration-color: #008000\">'String'</span>.                                         <span style=\"color: #7f7f7f; text-decoration-color: #7f7f7f\">               </span>\n",
       "</pre>\n"
      ],
      "text/plain": [
       "\u001b[2;36m                   \u001b[0m\u001b[2;36m \u001b[0m\u001b[1;31mERROR   \u001b[0m root - Argument \u001b[32m'after'\u001b[0m on Field \u001b[32m'stargazers'\u001b[0m has an invalid value     \u001b]8;id=929964;file://D:\\MIUN\\DT002G\\github_metric_extractor\\analysis\\git_miner.py\u001b\\\u001b[2mgit_miner.py\u001b[0m\u001b]8;;\u001b\\\u001b[2m:\u001b[0m\u001b]8;id=604414;file://D:\\MIUN\\DT002G\\github_metric_extractor\\analysis\\git_miner.py#77\u001b\\\u001b[2m77\u001b[0m\u001b]8;;\u001b\\\n",
       "\u001b[2;36m                    \u001b[0m         \u001b[1m(\u001b[0m\u001b[1;36m100\u001b[0m\u001b[1m)\u001b[0m. Expected type \u001b[32m'String'\u001b[0m.                                         \u001b[2m               \u001b[0m\n"
      ]
     },
     "metadata": {},
     "output_type": "display_data"
    },
    {
     "data": {
      "text/html": [
       "<pre style=\"white-space:pre;overflow-x:auto;line-height:normal;font-family:Menlo,'DejaVu Sans Mono',consolas,'Courier New',monospace\"><span style=\"color: #7fbfbf; text-decoration-color: #7fbfbf\">[03/12/24 19:02:38] </span><span style=\"color: #800000; text-decoration-color: #800000; font-weight: bold\">ERROR   </span> root - Argument <span style=\"color: #008000; text-decoration-color: #008000\">'after'</span> on Field <span style=\"color: #008000; text-decoration-color: #008000\">'stargazers'</span> has an invalid value     <a href=\"file://D:\\MIUN\\DT002G\\github_metric_extractor\\analysis\\git_miner.py\" target=\"_blank\"><span style=\"color: #7f7f7f; text-decoration-color: #7f7f7f\">git_miner.py</span></a><span style=\"color: #7f7f7f; text-decoration-color: #7f7f7f\">:</span><a href=\"file://D:\\MIUN\\DT002G\\github_metric_extractor\\analysis\\git_miner.py#77\" target=\"_blank\"><span style=\"color: #7f7f7f; text-decoration-color: #7f7f7f\">77</span></a>\n",
       "<span style=\"color: #7fbfbf; text-decoration-color: #7fbfbf\">                    </span>         <span style=\"font-weight: bold\">(</span><span style=\"color: #008080; text-decoration-color: #008080; font-weight: bold\">100</span><span style=\"font-weight: bold\">)</span>. Expected type <span style=\"color: #008000; text-decoration-color: #008000\">'String'</span>.                                         <span style=\"color: #7f7f7f; text-decoration-color: #7f7f7f\">               </span>\n",
       "</pre>\n"
      ],
      "text/plain": [
       "\u001b[2;36m[03/12/24 19:02:38]\u001b[0m\u001b[2;36m \u001b[0m\u001b[1;31mERROR   \u001b[0m root - Argument \u001b[32m'after'\u001b[0m on Field \u001b[32m'stargazers'\u001b[0m has an invalid value     \u001b]8;id=387394;file://D:\\MIUN\\DT002G\\github_metric_extractor\\analysis\\git_miner.py\u001b\\\u001b[2mgit_miner.py\u001b[0m\u001b]8;;\u001b\\\u001b[2m:\u001b[0m\u001b]8;id=832427;file://D:\\MIUN\\DT002G\\github_metric_extractor\\analysis\\git_miner.py#77\u001b\\\u001b[2m77\u001b[0m\u001b]8;;\u001b\\\n",
       "\u001b[2;36m                    \u001b[0m         \u001b[1m(\u001b[0m\u001b[1;36m100\u001b[0m\u001b[1m)\u001b[0m. Expected type \u001b[32m'String'\u001b[0m.                                         \u001b[2m               \u001b[0m\n"
      ]
     },
     "metadata": {},
     "output_type": "display_data"
    },
    {
     "data": {
      "text/html": [
       "<pre style=\"white-space:pre;overflow-x:auto;line-height:normal;font-family:Menlo,'DejaVu Sans Mono',consolas,'Courier New',monospace\"><span style=\"color: #7fbfbf; text-decoration-color: #7fbfbf\">                    </span><span style=\"color: #800000; text-decoration-color: #800000; font-weight: bold\">ERROR   </span> root - Argument <span style=\"color: #008000; text-decoration-color: #008000\">'after'</span> on Field <span style=\"color: #008000; text-decoration-color: #008000\">'stargazers'</span> has an invalid value     <a href=\"file://D:\\MIUN\\DT002G\\github_metric_extractor\\analysis\\git_miner.py\" target=\"_blank\"><span style=\"color: #7f7f7f; text-decoration-color: #7f7f7f\">git_miner.py</span></a><span style=\"color: #7f7f7f; text-decoration-color: #7f7f7f\">:</span><a href=\"file://D:\\MIUN\\DT002G\\github_metric_extractor\\analysis\\git_miner.py#77\" target=\"_blank\"><span style=\"color: #7f7f7f; text-decoration-color: #7f7f7f\">77</span></a>\n",
       "<span style=\"color: #7fbfbf; text-decoration-color: #7fbfbf\">                    </span>         <span style=\"font-weight: bold\">(</span><span style=\"color: #008080; text-decoration-color: #008080; font-weight: bold\">100</span><span style=\"font-weight: bold\">)</span>. Expected type <span style=\"color: #008000; text-decoration-color: #008000\">'String'</span>.                                         <span style=\"color: #7f7f7f; text-decoration-color: #7f7f7f\">               </span>\n",
       "</pre>\n"
      ],
      "text/plain": [
       "\u001b[2;36m                   \u001b[0m\u001b[2;36m \u001b[0m\u001b[1;31mERROR   \u001b[0m root - Argument \u001b[32m'after'\u001b[0m on Field \u001b[32m'stargazers'\u001b[0m has an invalid value     \u001b]8;id=205421;file://D:\\MIUN\\DT002G\\github_metric_extractor\\analysis\\git_miner.py\u001b\\\u001b[2mgit_miner.py\u001b[0m\u001b]8;;\u001b\\\u001b[2m:\u001b[0m\u001b]8;id=436509;file://D:\\MIUN\\DT002G\\github_metric_extractor\\analysis\\git_miner.py#77\u001b\\\u001b[2m77\u001b[0m\u001b]8;;\u001b\\\n",
       "\u001b[2;36m                    \u001b[0m         \u001b[1m(\u001b[0m\u001b[1;36m100\u001b[0m\u001b[1m)\u001b[0m. Expected type \u001b[32m'String'\u001b[0m.                                         \u001b[2m               \u001b[0m\n"
      ]
     },
     "metadata": {},
     "output_type": "display_data"
    },
    {
     "data": {
      "text/html": [
       "<pre style=\"white-space:pre;overflow-x:auto;line-height:normal;font-family:Menlo,'DejaVu Sans Mono',consolas,'Courier New',monospace\"><span style=\"color: #7fbfbf; text-decoration-color: #7fbfbf\">                    </span><span style=\"color: #800000; text-decoration-color: #800000; font-weight: bold\">ERROR   </span> root - Argument <span style=\"color: #008000; text-decoration-color: #008000\">'after'</span> on Field <span style=\"color: #008000; text-decoration-color: #008000\">'stargazers'</span> has an invalid value     <a href=\"file://D:\\MIUN\\DT002G\\github_metric_extractor\\analysis\\git_miner.py\" target=\"_blank\"><span style=\"color: #7f7f7f; text-decoration-color: #7f7f7f\">git_miner.py</span></a><span style=\"color: #7f7f7f; text-decoration-color: #7f7f7f\">:</span><a href=\"file://D:\\MIUN\\DT002G\\github_metric_extractor\\analysis\\git_miner.py#77\" target=\"_blank\"><span style=\"color: #7f7f7f; text-decoration-color: #7f7f7f\">77</span></a>\n",
       "<span style=\"color: #7fbfbf; text-decoration-color: #7fbfbf\">                    </span>         <span style=\"font-weight: bold\">(</span><span style=\"color: #008080; text-decoration-color: #008080; font-weight: bold\">100</span><span style=\"font-weight: bold\">)</span>. Expected type <span style=\"color: #008000; text-decoration-color: #008000\">'String'</span>.                                         <span style=\"color: #7f7f7f; text-decoration-color: #7f7f7f\">               </span>\n",
       "</pre>\n"
      ],
      "text/plain": [
       "\u001b[2;36m                   \u001b[0m\u001b[2;36m \u001b[0m\u001b[1;31mERROR   \u001b[0m root - Argument \u001b[32m'after'\u001b[0m on Field \u001b[32m'stargazers'\u001b[0m has an invalid value     \u001b]8;id=690322;file://D:\\MIUN\\DT002G\\github_metric_extractor\\analysis\\git_miner.py\u001b\\\u001b[2mgit_miner.py\u001b[0m\u001b]8;;\u001b\\\u001b[2m:\u001b[0m\u001b]8;id=246630;file://D:\\MIUN\\DT002G\\github_metric_extractor\\analysis\\git_miner.py#77\u001b\\\u001b[2m77\u001b[0m\u001b]8;;\u001b\\\n",
       "\u001b[2;36m                    \u001b[0m         \u001b[1m(\u001b[0m\u001b[1;36m100\u001b[0m\u001b[1m)\u001b[0m. Expected type \u001b[32m'String'\u001b[0m.                                         \u001b[2m               \u001b[0m\n"
      ]
     },
     "metadata": {},
     "output_type": "display_data"
    },
    {
     "data": {
      "text/html": [
       "<pre style=\"white-space:pre;overflow-x:auto;line-height:normal;font-family:Menlo,'DejaVu Sans Mono',consolas,'Courier New',monospace\"><span style=\"color: #7fbfbf; text-decoration-color: #7fbfbf\">                    </span><span style=\"color: #800000; text-decoration-color: #800000; font-weight: bold\">ERROR   </span> root - Argument <span style=\"color: #008000; text-decoration-color: #008000\">'after'</span> on Field <span style=\"color: #008000; text-decoration-color: #008000\">'stargazers'</span> has an invalid value     <a href=\"file://D:\\MIUN\\DT002G\\github_metric_extractor\\analysis\\git_miner.py\" target=\"_blank\"><span style=\"color: #7f7f7f; text-decoration-color: #7f7f7f\">git_miner.py</span></a><span style=\"color: #7f7f7f; text-decoration-color: #7f7f7f\">:</span><a href=\"file://D:\\MIUN\\DT002G\\github_metric_extractor\\analysis\\git_miner.py#77\" target=\"_blank\"><span style=\"color: #7f7f7f; text-decoration-color: #7f7f7f\">77</span></a>\n",
       "<span style=\"color: #7fbfbf; text-decoration-color: #7fbfbf\">                    </span>         <span style=\"font-weight: bold\">(</span><span style=\"color: #008080; text-decoration-color: #008080; font-weight: bold\">100</span><span style=\"font-weight: bold\">)</span>. Expected type <span style=\"color: #008000; text-decoration-color: #008000\">'String'</span>.                                         <span style=\"color: #7f7f7f; text-decoration-color: #7f7f7f\">               </span>\n",
       "</pre>\n"
      ],
      "text/plain": [
       "\u001b[2;36m                   \u001b[0m\u001b[2;36m \u001b[0m\u001b[1;31mERROR   \u001b[0m root - Argument \u001b[32m'after'\u001b[0m on Field \u001b[32m'stargazers'\u001b[0m has an invalid value     \u001b]8;id=285168;file://D:\\MIUN\\DT002G\\github_metric_extractor\\analysis\\git_miner.py\u001b\\\u001b[2mgit_miner.py\u001b[0m\u001b]8;;\u001b\\\u001b[2m:\u001b[0m\u001b]8;id=824551;file://D:\\MIUN\\DT002G\\github_metric_extractor\\analysis\\git_miner.py#77\u001b\\\u001b[2m77\u001b[0m\u001b]8;;\u001b\\\n",
       "\u001b[2;36m                    \u001b[0m         \u001b[1m(\u001b[0m\u001b[1;36m100\u001b[0m\u001b[1m)\u001b[0m. Expected type \u001b[32m'String'\u001b[0m.                                         \u001b[2m               \u001b[0m\n"
      ]
     },
     "metadata": {},
     "output_type": "display_data"
    },
    {
     "data": {
      "text/html": [
       "<pre style=\"white-space:pre;overflow-x:auto;line-height:normal;font-family:Menlo,'DejaVu Sans Mono',consolas,'Courier New',monospace\"><span style=\"color: #7fbfbf; text-decoration-color: #7fbfbf\">[03/12/24 19:02:39] </span><span style=\"color: #800000; text-decoration-color: #800000; font-weight: bold\">ERROR   </span> root - Argument <span style=\"color: #008000; text-decoration-color: #008000\">'after'</span> on Field <span style=\"color: #008000; text-decoration-color: #008000\">'stargazers'</span> has an invalid value     <a href=\"file://D:\\MIUN\\DT002G\\github_metric_extractor\\analysis\\git_miner.py\" target=\"_blank\"><span style=\"color: #7f7f7f; text-decoration-color: #7f7f7f\">git_miner.py</span></a><span style=\"color: #7f7f7f; text-decoration-color: #7f7f7f\">:</span><a href=\"file://D:\\MIUN\\DT002G\\github_metric_extractor\\analysis\\git_miner.py#77\" target=\"_blank\"><span style=\"color: #7f7f7f; text-decoration-color: #7f7f7f\">77</span></a>\n",
       "<span style=\"color: #7fbfbf; text-decoration-color: #7fbfbf\">                    </span>         <span style=\"font-weight: bold\">(</span><span style=\"color: #008080; text-decoration-color: #008080; font-weight: bold\">100</span><span style=\"font-weight: bold\">)</span>. Expected type <span style=\"color: #008000; text-decoration-color: #008000\">'String'</span>.                                         <span style=\"color: #7f7f7f; text-decoration-color: #7f7f7f\">               </span>\n",
       "</pre>\n"
      ],
      "text/plain": [
       "\u001b[2;36m[03/12/24 19:02:39]\u001b[0m\u001b[2;36m \u001b[0m\u001b[1;31mERROR   \u001b[0m root - Argument \u001b[32m'after'\u001b[0m on Field \u001b[32m'stargazers'\u001b[0m has an invalid value     \u001b]8;id=792512;file://D:\\MIUN\\DT002G\\github_metric_extractor\\analysis\\git_miner.py\u001b\\\u001b[2mgit_miner.py\u001b[0m\u001b]8;;\u001b\\\u001b[2m:\u001b[0m\u001b]8;id=155259;file://D:\\MIUN\\DT002G\\github_metric_extractor\\analysis\\git_miner.py#77\u001b\\\u001b[2m77\u001b[0m\u001b]8;;\u001b\\\n",
       "\u001b[2;36m                    \u001b[0m         \u001b[1m(\u001b[0m\u001b[1;36m100\u001b[0m\u001b[1m)\u001b[0m. Expected type \u001b[32m'String'\u001b[0m.                                         \u001b[2m               \u001b[0m\n"
      ]
     },
     "metadata": {},
     "output_type": "display_data"
    },
    {
     "data": {
      "text/html": [
       "<pre style=\"white-space:pre;overflow-x:auto;line-height:normal;font-family:Menlo,'DejaVu Sans Mono',consolas,'Courier New',monospace\"><span style=\"color: #7fbfbf; text-decoration-color: #7fbfbf\">                    </span><span style=\"color: #800000; text-decoration-color: #800000; font-weight: bold\">ERROR   </span> root - Argument <span style=\"color: #008000; text-decoration-color: #008000\">'after'</span> on Field <span style=\"color: #008000; text-decoration-color: #008000\">'stargazers'</span> has an invalid value     <a href=\"file://D:\\MIUN\\DT002G\\github_metric_extractor\\analysis\\git_miner.py\" target=\"_blank\"><span style=\"color: #7f7f7f; text-decoration-color: #7f7f7f\">git_miner.py</span></a><span style=\"color: #7f7f7f; text-decoration-color: #7f7f7f\">:</span><a href=\"file://D:\\MIUN\\DT002G\\github_metric_extractor\\analysis\\git_miner.py#77\" target=\"_blank\"><span style=\"color: #7f7f7f; text-decoration-color: #7f7f7f\">77</span></a>\n",
       "<span style=\"color: #7fbfbf; text-decoration-color: #7fbfbf\">                    </span>         <span style=\"font-weight: bold\">(</span><span style=\"color: #008080; text-decoration-color: #008080; font-weight: bold\">100</span><span style=\"font-weight: bold\">)</span>. Expected type <span style=\"color: #008000; text-decoration-color: #008000\">'String'</span>.                                         <span style=\"color: #7f7f7f; text-decoration-color: #7f7f7f\">               </span>\n",
       "</pre>\n"
      ],
      "text/plain": [
       "\u001b[2;36m                   \u001b[0m\u001b[2;36m \u001b[0m\u001b[1;31mERROR   \u001b[0m root - Argument \u001b[32m'after'\u001b[0m on Field \u001b[32m'stargazers'\u001b[0m has an invalid value     \u001b]8;id=462706;file://D:\\MIUN\\DT002G\\github_metric_extractor\\analysis\\git_miner.py\u001b\\\u001b[2mgit_miner.py\u001b[0m\u001b]8;;\u001b\\\u001b[2m:\u001b[0m\u001b]8;id=176637;file://D:\\MIUN\\DT002G\\github_metric_extractor\\analysis\\git_miner.py#77\u001b\\\u001b[2m77\u001b[0m\u001b]8;;\u001b\\\n",
       "\u001b[2;36m                    \u001b[0m         \u001b[1m(\u001b[0m\u001b[1;36m100\u001b[0m\u001b[1m)\u001b[0m. Expected type \u001b[32m'String'\u001b[0m.                                         \u001b[2m               \u001b[0m\n"
      ]
     },
     "metadata": {},
     "output_type": "display_data"
    },
    {
     "data": {
      "text/html": [
       "<pre style=\"white-space:pre;overflow-x:auto;line-height:normal;font-family:Menlo,'DejaVu Sans Mono',consolas,'Courier New',monospace\"><span style=\"color: #7fbfbf; text-decoration-color: #7fbfbf\">                    </span><span style=\"color: #800000; text-decoration-color: #800000; font-weight: bold\">ERROR   </span> root - Argument <span style=\"color: #008000; text-decoration-color: #008000\">'after'</span> on Field <span style=\"color: #008000; text-decoration-color: #008000\">'stargazers'</span> has an invalid value     <a href=\"file://D:\\MIUN\\DT002G\\github_metric_extractor\\analysis\\git_miner.py\" target=\"_blank\"><span style=\"color: #7f7f7f; text-decoration-color: #7f7f7f\">git_miner.py</span></a><span style=\"color: #7f7f7f; text-decoration-color: #7f7f7f\">:</span><a href=\"file://D:\\MIUN\\DT002G\\github_metric_extractor\\analysis\\git_miner.py#77\" target=\"_blank\"><span style=\"color: #7f7f7f; text-decoration-color: #7f7f7f\">77</span></a>\n",
       "<span style=\"color: #7fbfbf; text-decoration-color: #7fbfbf\">                    </span>         <span style=\"font-weight: bold\">(</span><span style=\"color: #008080; text-decoration-color: #008080; font-weight: bold\">100</span><span style=\"font-weight: bold\">)</span>. Expected type <span style=\"color: #008000; text-decoration-color: #008000\">'String'</span>.                                         <span style=\"color: #7f7f7f; text-decoration-color: #7f7f7f\">               </span>\n",
       "</pre>\n"
      ],
      "text/plain": [
       "\u001b[2;36m                   \u001b[0m\u001b[2;36m \u001b[0m\u001b[1;31mERROR   \u001b[0m root - Argument \u001b[32m'after'\u001b[0m on Field \u001b[32m'stargazers'\u001b[0m has an invalid value     \u001b]8;id=292317;file://D:\\MIUN\\DT002G\\github_metric_extractor\\analysis\\git_miner.py\u001b\\\u001b[2mgit_miner.py\u001b[0m\u001b]8;;\u001b\\\u001b[2m:\u001b[0m\u001b]8;id=856740;file://D:\\MIUN\\DT002G\\github_metric_extractor\\analysis\\git_miner.py#77\u001b\\\u001b[2m77\u001b[0m\u001b]8;;\u001b\\\n",
       "\u001b[2;36m                    \u001b[0m         \u001b[1m(\u001b[0m\u001b[1;36m100\u001b[0m\u001b[1m)\u001b[0m. Expected type \u001b[32m'String'\u001b[0m.                                         \u001b[2m               \u001b[0m\n"
      ]
     },
     "metadata": {},
     "output_type": "display_data"
    },
    {
     "data": {
      "text/html": [
       "<pre style=\"white-space:pre;overflow-x:auto;line-height:normal;font-family:Menlo,'DejaVu Sans Mono',consolas,'Courier New',monospace\"><span style=\"color: #7fbfbf; text-decoration-color: #7fbfbf\">[03/12/24 19:02:40] </span><span style=\"color: #800000; text-decoration-color: #800000; font-weight: bold\">ERROR   </span> root - Argument <span style=\"color: #008000; text-decoration-color: #008000\">'after'</span> on Field <span style=\"color: #008000; text-decoration-color: #008000\">'stargazers'</span> has an invalid value     <a href=\"file://D:\\MIUN\\DT002G\\github_metric_extractor\\analysis\\git_miner.py\" target=\"_blank\"><span style=\"color: #7f7f7f; text-decoration-color: #7f7f7f\">git_miner.py</span></a><span style=\"color: #7f7f7f; text-decoration-color: #7f7f7f\">:</span><a href=\"file://D:\\MIUN\\DT002G\\github_metric_extractor\\analysis\\git_miner.py#77\" target=\"_blank\"><span style=\"color: #7f7f7f; text-decoration-color: #7f7f7f\">77</span></a>\n",
       "<span style=\"color: #7fbfbf; text-decoration-color: #7fbfbf\">                    </span>         <span style=\"font-weight: bold\">(</span><span style=\"color: #008080; text-decoration-color: #008080; font-weight: bold\">100</span><span style=\"font-weight: bold\">)</span>. Expected type <span style=\"color: #008000; text-decoration-color: #008000\">'String'</span>.                                         <span style=\"color: #7f7f7f; text-decoration-color: #7f7f7f\">               </span>\n",
       "</pre>\n"
      ],
      "text/plain": [
       "\u001b[2;36m[03/12/24 19:02:40]\u001b[0m\u001b[2;36m \u001b[0m\u001b[1;31mERROR   \u001b[0m root - Argument \u001b[32m'after'\u001b[0m on Field \u001b[32m'stargazers'\u001b[0m has an invalid value     \u001b]8;id=314129;file://D:\\MIUN\\DT002G\\github_metric_extractor\\analysis\\git_miner.py\u001b\\\u001b[2mgit_miner.py\u001b[0m\u001b]8;;\u001b\\\u001b[2m:\u001b[0m\u001b]8;id=246822;file://D:\\MIUN\\DT002G\\github_metric_extractor\\analysis\\git_miner.py#77\u001b\\\u001b[2m77\u001b[0m\u001b]8;;\u001b\\\n",
       "\u001b[2;36m                    \u001b[0m         \u001b[1m(\u001b[0m\u001b[1;36m100\u001b[0m\u001b[1m)\u001b[0m. Expected type \u001b[32m'String'\u001b[0m.                                         \u001b[2m               \u001b[0m\n"
      ]
     },
     "metadata": {},
     "output_type": "display_data"
    },
    {
     "data": {
      "text/html": [
       "<pre style=\"white-space:pre;overflow-x:auto;line-height:normal;font-family:Menlo,'DejaVu Sans Mono',consolas,'Courier New',monospace\"><span style=\"color: #7fbfbf; text-decoration-color: #7fbfbf\">                    </span><span style=\"color: #800000; text-decoration-color: #800000; font-weight: bold\">ERROR   </span> root - Argument <span style=\"color: #008000; text-decoration-color: #008000\">'after'</span> on Field <span style=\"color: #008000; text-decoration-color: #008000\">'stargazers'</span> has an invalid value     <a href=\"file://D:\\MIUN\\DT002G\\github_metric_extractor\\analysis\\git_miner.py\" target=\"_blank\"><span style=\"color: #7f7f7f; text-decoration-color: #7f7f7f\">git_miner.py</span></a><span style=\"color: #7f7f7f; text-decoration-color: #7f7f7f\">:</span><a href=\"file://D:\\MIUN\\DT002G\\github_metric_extractor\\analysis\\git_miner.py#77\" target=\"_blank\"><span style=\"color: #7f7f7f; text-decoration-color: #7f7f7f\">77</span></a>\n",
       "<span style=\"color: #7fbfbf; text-decoration-color: #7fbfbf\">                    </span>         <span style=\"font-weight: bold\">(</span><span style=\"color: #008080; text-decoration-color: #008080; font-weight: bold\">100</span><span style=\"font-weight: bold\">)</span>. Expected type <span style=\"color: #008000; text-decoration-color: #008000\">'String'</span>.                                         <span style=\"color: #7f7f7f; text-decoration-color: #7f7f7f\">               </span>\n",
       "</pre>\n"
      ],
      "text/plain": [
       "\u001b[2;36m                   \u001b[0m\u001b[2;36m \u001b[0m\u001b[1;31mERROR   \u001b[0m root - Argument \u001b[32m'after'\u001b[0m on Field \u001b[32m'stargazers'\u001b[0m has an invalid value     \u001b]8;id=18672;file://D:\\MIUN\\DT002G\\github_metric_extractor\\analysis\\git_miner.py\u001b\\\u001b[2mgit_miner.py\u001b[0m\u001b]8;;\u001b\\\u001b[2m:\u001b[0m\u001b]8;id=21287;file://D:\\MIUN\\DT002G\\github_metric_extractor\\analysis\\git_miner.py#77\u001b\\\u001b[2m77\u001b[0m\u001b]8;;\u001b\\\n",
       "\u001b[2;36m                    \u001b[0m         \u001b[1m(\u001b[0m\u001b[1;36m100\u001b[0m\u001b[1m)\u001b[0m. Expected type \u001b[32m'String'\u001b[0m.                                         \u001b[2m               \u001b[0m\n"
      ]
     },
     "metadata": {},
     "output_type": "display_data"
    },
    {
     "data": {
      "text/html": [
       "<pre style=\"white-space:pre;overflow-x:auto;line-height:normal;font-family:Menlo,'DejaVu Sans Mono',consolas,'Courier New',monospace\"><span style=\"color: #7fbfbf; text-decoration-color: #7fbfbf\">                    </span><span style=\"color: #800000; text-decoration-color: #800000; font-weight: bold\">ERROR   </span> root - Argument <span style=\"color: #008000; text-decoration-color: #008000\">'after'</span> on Field <span style=\"color: #008000; text-decoration-color: #008000\">'stargazers'</span> has an invalid value     <a href=\"file://D:\\MIUN\\DT002G\\github_metric_extractor\\analysis\\git_miner.py\" target=\"_blank\"><span style=\"color: #7f7f7f; text-decoration-color: #7f7f7f\">git_miner.py</span></a><span style=\"color: #7f7f7f; text-decoration-color: #7f7f7f\">:</span><a href=\"file://D:\\MIUN\\DT002G\\github_metric_extractor\\analysis\\git_miner.py#77\" target=\"_blank\"><span style=\"color: #7f7f7f; text-decoration-color: #7f7f7f\">77</span></a>\n",
       "<span style=\"color: #7fbfbf; text-decoration-color: #7fbfbf\">                    </span>         <span style=\"font-weight: bold\">(</span><span style=\"color: #008080; text-decoration-color: #008080; font-weight: bold\">100</span><span style=\"font-weight: bold\">)</span>. Expected type <span style=\"color: #008000; text-decoration-color: #008000\">'String'</span>.                                         <span style=\"color: #7f7f7f; text-decoration-color: #7f7f7f\">               </span>\n",
       "</pre>\n"
      ],
      "text/plain": [
       "\u001b[2;36m                   \u001b[0m\u001b[2;36m \u001b[0m\u001b[1;31mERROR   \u001b[0m root - Argument \u001b[32m'after'\u001b[0m on Field \u001b[32m'stargazers'\u001b[0m has an invalid value     \u001b]8;id=363602;file://D:\\MIUN\\DT002G\\github_metric_extractor\\analysis\\git_miner.py\u001b\\\u001b[2mgit_miner.py\u001b[0m\u001b]8;;\u001b\\\u001b[2m:\u001b[0m\u001b]8;id=63226;file://D:\\MIUN\\DT002G\\github_metric_extractor\\analysis\\git_miner.py#77\u001b\\\u001b[2m77\u001b[0m\u001b]8;;\u001b\\\n",
       "\u001b[2;36m                    \u001b[0m         \u001b[1m(\u001b[0m\u001b[1;36m100\u001b[0m\u001b[1m)\u001b[0m. Expected type \u001b[32m'String'\u001b[0m.                                         \u001b[2m               \u001b[0m\n"
      ]
     },
     "metadata": {},
     "output_type": "display_data"
    },
    {
     "data": {
      "text/html": [
       "<pre style=\"white-space:pre;overflow-x:auto;line-height:normal;font-family:Menlo,'DejaVu Sans Mono',consolas,'Courier New',monospace\"><span style=\"color: #7fbfbf; text-decoration-color: #7fbfbf\">[03/12/24 19:02:41] </span><span style=\"color: #800000; text-decoration-color: #800000; font-weight: bold\">ERROR   </span> root - Argument <span style=\"color: #008000; text-decoration-color: #008000\">'after'</span> on Field <span style=\"color: #008000; text-decoration-color: #008000\">'stargazers'</span> has an invalid value     <a href=\"file://D:\\MIUN\\DT002G\\github_metric_extractor\\analysis\\git_miner.py\" target=\"_blank\"><span style=\"color: #7f7f7f; text-decoration-color: #7f7f7f\">git_miner.py</span></a><span style=\"color: #7f7f7f; text-decoration-color: #7f7f7f\">:</span><a href=\"file://D:\\MIUN\\DT002G\\github_metric_extractor\\analysis\\git_miner.py#77\" target=\"_blank\"><span style=\"color: #7f7f7f; text-decoration-color: #7f7f7f\">77</span></a>\n",
       "<span style=\"color: #7fbfbf; text-decoration-color: #7fbfbf\">                    </span>         <span style=\"font-weight: bold\">(</span><span style=\"color: #008080; text-decoration-color: #008080; font-weight: bold\">100</span><span style=\"font-weight: bold\">)</span>. Expected type <span style=\"color: #008000; text-decoration-color: #008000\">'String'</span>.                                         <span style=\"color: #7f7f7f; text-decoration-color: #7f7f7f\">               </span>\n",
       "</pre>\n"
      ],
      "text/plain": [
       "\u001b[2;36m[03/12/24 19:02:41]\u001b[0m\u001b[2;36m \u001b[0m\u001b[1;31mERROR   \u001b[0m root - Argument \u001b[32m'after'\u001b[0m on Field \u001b[32m'stargazers'\u001b[0m has an invalid value     \u001b]8;id=673447;file://D:\\MIUN\\DT002G\\github_metric_extractor\\analysis\\git_miner.py\u001b\\\u001b[2mgit_miner.py\u001b[0m\u001b]8;;\u001b\\\u001b[2m:\u001b[0m\u001b]8;id=770592;file://D:\\MIUN\\DT002G\\github_metric_extractor\\analysis\\git_miner.py#77\u001b\\\u001b[2m77\u001b[0m\u001b]8;;\u001b\\\n",
       "\u001b[2;36m                    \u001b[0m         \u001b[1m(\u001b[0m\u001b[1;36m100\u001b[0m\u001b[1m)\u001b[0m. Expected type \u001b[32m'String'\u001b[0m.                                         \u001b[2m               \u001b[0m\n"
      ]
     },
     "metadata": {},
     "output_type": "display_data"
    },
    {
     "data": {
      "text/html": [
       "<pre style=\"white-space:pre;overflow-x:auto;line-height:normal;font-family:Menlo,'DejaVu Sans Mono',consolas,'Courier New',monospace\"><span style=\"color: #7fbfbf; text-decoration-color: #7fbfbf\">                    </span><span style=\"color: #800000; text-decoration-color: #800000; font-weight: bold\">ERROR   </span> root - Argument <span style=\"color: #008000; text-decoration-color: #008000\">'after'</span> on Field <span style=\"color: #008000; text-decoration-color: #008000\">'stargazers'</span> has an invalid value     <a href=\"file://D:\\MIUN\\DT002G\\github_metric_extractor\\analysis\\git_miner.py\" target=\"_blank\"><span style=\"color: #7f7f7f; text-decoration-color: #7f7f7f\">git_miner.py</span></a><span style=\"color: #7f7f7f; text-decoration-color: #7f7f7f\">:</span><a href=\"file://D:\\MIUN\\DT002G\\github_metric_extractor\\analysis\\git_miner.py#77\" target=\"_blank\"><span style=\"color: #7f7f7f; text-decoration-color: #7f7f7f\">77</span></a>\n",
       "<span style=\"color: #7fbfbf; text-decoration-color: #7fbfbf\">                    </span>         <span style=\"font-weight: bold\">(</span><span style=\"color: #008080; text-decoration-color: #008080; font-weight: bold\">100</span><span style=\"font-weight: bold\">)</span>. Expected type <span style=\"color: #008000; text-decoration-color: #008000\">'String'</span>.                                         <span style=\"color: #7f7f7f; text-decoration-color: #7f7f7f\">               </span>\n",
       "</pre>\n"
      ],
      "text/plain": [
       "\u001b[2;36m                   \u001b[0m\u001b[2;36m \u001b[0m\u001b[1;31mERROR   \u001b[0m root - Argument \u001b[32m'after'\u001b[0m on Field \u001b[32m'stargazers'\u001b[0m has an invalid value     \u001b]8;id=796559;file://D:\\MIUN\\DT002G\\github_metric_extractor\\analysis\\git_miner.py\u001b\\\u001b[2mgit_miner.py\u001b[0m\u001b]8;;\u001b\\\u001b[2m:\u001b[0m\u001b]8;id=277133;file://D:\\MIUN\\DT002G\\github_metric_extractor\\analysis\\git_miner.py#77\u001b\\\u001b[2m77\u001b[0m\u001b]8;;\u001b\\\n",
       "\u001b[2;36m                    \u001b[0m         \u001b[1m(\u001b[0m\u001b[1;36m100\u001b[0m\u001b[1m)\u001b[0m. Expected type \u001b[32m'String'\u001b[0m.                                         \u001b[2m               \u001b[0m\n"
      ]
     },
     "metadata": {},
     "output_type": "display_data"
    },
    {
     "data": {
      "text/html": [
       "<pre style=\"white-space:pre;overflow-x:auto;line-height:normal;font-family:Menlo,'DejaVu Sans Mono',consolas,'Courier New',monospace\"><span style=\"color: #7fbfbf; text-decoration-color: #7fbfbf\">                    </span><span style=\"color: #800000; text-decoration-color: #800000; font-weight: bold\">ERROR   </span> root - Argument <span style=\"color: #008000; text-decoration-color: #008000\">'after'</span> on Field <span style=\"color: #008000; text-decoration-color: #008000\">'stargazers'</span> has an invalid value     <a href=\"file://D:\\MIUN\\DT002G\\github_metric_extractor\\analysis\\git_miner.py\" target=\"_blank\"><span style=\"color: #7f7f7f; text-decoration-color: #7f7f7f\">git_miner.py</span></a><span style=\"color: #7f7f7f; text-decoration-color: #7f7f7f\">:</span><a href=\"file://D:\\MIUN\\DT002G\\github_metric_extractor\\analysis\\git_miner.py#77\" target=\"_blank\"><span style=\"color: #7f7f7f; text-decoration-color: #7f7f7f\">77</span></a>\n",
       "<span style=\"color: #7fbfbf; text-decoration-color: #7fbfbf\">                    </span>         <span style=\"font-weight: bold\">(</span><span style=\"color: #008080; text-decoration-color: #008080; font-weight: bold\">100</span><span style=\"font-weight: bold\">)</span>. Expected type <span style=\"color: #008000; text-decoration-color: #008000\">'String'</span>.                                         <span style=\"color: #7f7f7f; text-decoration-color: #7f7f7f\">               </span>\n",
       "</pre>\n"
      ],
      "text/plain": [
       "\u001b[2;36m                   \u001b[0m\u001b[2;36m \u001b[0m\u001b[1;31mERROR   \u001b[0m root - Argument \u001b[32m'after'\u001b[0m on Field \u001b[32m'stargazers'\u001b[0m has an invalid value     \u001b]8;id=793387;file://D:\\MIUN\\DT002G\\github_metric_extractor\\analysis\\git_miner.py\u001b\\\u001b[2mgit_miner.py\u001b[0m\u001b]8;;\u001b\\\u001b[2m:\u001b[0m\u001b]8;id=388936;file://D:\\MIUN\\DT002G\\github_metric_extractor\\analysis\\git_miner.py#77\u001b\\\u001b[2m77\u001b[0m\u001b]8;;\u001b\\\n",
       "\u001b[2;36m                    \u001b[0m         \u001b[1m(\u001b[0m\u001b[1;36m100\u001b[0m\u001b[1m)\u001b[0m. Expected type \u001b[32m'String'\u001b[0m.                                         \u001b[2m               \u001b[0m\n"
      ]
     },
     "metadata": {},
     "output_type": "display_data"
    },
    {
     "data": {
      "text/html": [
       "<pre style=\"white-space:pre;overflow-x:auto;line-height:normal;font-family:Menlo,'DejaVu Sans Mono',consolas,'Courier New',monospace\"><span style=\"color: #7fbfbf; text-decoration-color: #7fbfbf\">                    </span><span style=\"color: #800000; text-decoration-color: #800000; font-weight: bold\">ERROR   </span> root - Argument <span style=\"color: #008000; text-decoration-color: #008000\">'after'</span> on Field <span style=\"color: #008000; text-decoration-color: #008000\">'stargazers'</span> has an invalid value     <a href=\"file://D:\\MIUN\\DT002G\\github_metric_extractor\\analysis\\git_miner.py\" target=\"_blank\"><span style=\"color: #7f7f7f; text-decoration-color: #7f7f7f\">git_miner.py</span></a><span style=\"color: #7f7f7f; text-decoration-color: #7f7f7f\">:</span><a href=\"file://D:\\MIUN\\DT002G\\github_metric_extractor\\analysis\\git_miner.py#77\" target=\"_blank\"><span style=\"color: #7f7f7f; text-decoration-color: #7f7f7f\">77</span></a>\n",
       "<span style=\"color: #7fbfbf; text-decoration-color: #7fbfbf\">                    </span>         <span style=\"font-weight: bold\">(</span><span style=\"color: #008080; text-decoration-color: #008080; font-weight: bold\">100</span><span style=\"font-weight: bold\">)</span>. Expected type <span style=\"color: #008000; text-decoration-color: #008000\">'String'</span>.                                         <span style=\"color: #7f7f7f; text-decoration-color: #7f7f7f\">               </span>\n",
       "</pre>\n"
      ],
      "text/plain": [
       "\u001b[2;36m                   \u001b[0m\u001b[2;36m \u001b[0m\u001b[1;31mERROR   \u001b[0m root - Argument \u001b[32m'after'\u001b[0m on Field \u001b[32m'stargazers'\u001b[0m has an invalid value     \u001b]8;id=370149;file://D:\\MIUN\\DT002G\\github_metric_extractor\\analysis\\git_miner.py\u001b\\\u001b[2mgit_miner.py\u001b[0m\u001b]8;;\u001b\\\u001b[2m:\u001b[0m\u001b]8;id=485757;file://D:\\MIUN\\DT002G\\github_metric_extractor\\analysis\\git_miner.py#77\u001b\\\u001b[2m77\u001b[0m\u001b]8;;\u001b\\\n",
       "\u001b[2;36m                    \u001b[0m         \u001b[1m(\u001b[0m\u001b[1;36m100\u001b[0m\u001b[1m)\u001b[0m. Expected type \u001b[32m'String'\u001b[0m.                                         \u001b[2m               \u001b[0m\n"
      ]
     },
     "metadata": {},
     "output_type": "display_data"
    },
    {
     "data": {
      "text/html": [
       "<pre style=\"white-space:pre;overflow-x:auto;line-height:normal;font-family:Menlo,'DejaVu Sans Mono',consolas,'Courier New',monospace\"><span style=\"color: #7fbfbf; text-decoration-color: #7fbfbf\">[03/12/24 19:02:42] </span><span style=\"color: #800000; text-decoration-color: #800000; font-weight: bold\">ERROR   </span> root - Argument <span style=\"color: #008000; text-decoration-color: #008000\">'after'</span> on Field <span style=\"color: #008000; text-decoration-color: #008000\">'stargazers'</span> has an invalid value     <a href=\"file://D:\\MIUN\\DT002G\\github_metric_extractor\\analysis\\git_miner.py\" target=\"_blank\"><span style=\"color: #7f7f7f; text-decoration-color: #7f7f7f\">git_miner.py</span></a><span style=\"color: #7f7f7f; text-decoration-color: #7f7f7f\">:</span><a href=\"file://D:\\MIUN\\DT002G\\github_metric_extractor\\analysis\\git_miner.py#77\" target=\"_blank\"><span style=\"color: #7f7f7f; text-decoration-color: #7f7f7f\">77</span></a>\n",
       "<span style=\"color: #7fbfbf; text-decoration-color: #7fbfbf\">                    </span>         <span style=\"font-weight: bold\">(</span><span style=\"color: #008080; text-decoration-color: #008080; font-weight: bold\">100</span><span style=\"font-weight: bold\">)</span>. Expected type <span style=\"color: #008000; text-decoration-color: #008000\">'String'</span>.                                         <span style=\"color: #7f7f7f; text-decoration-color: #7f7f7f\">               </span>\n",
       "</pre>\n"
      ],
      "text/plain": [
       "\u001b[2;36m[03/12/24 19:02:42]\u001b[0m\u001b[2;36m \u001b[0m\u001b[1;31mERROR   \u001b[0m root - Argument \u001b[32m'after'\u001b[0m on Field \u001b[32m'stargazers'\u001b[0m has an invalid value     \u001b]8;id=880103;file://D:\\MIUN\\DT002G\\github_metric_extractor\\analysis\\git_miner.py\u001b\\\u001b[2mgit_miner.py\u001b[0m\u001b]8;;\u001b\\\u001b[2m:\u001b[0m\u001b]8;id=514345;file://D:\\MIUN\\DT002G\\github_metric_extractor\\analysis\\git_miner.py#77\u001b\\\u001b[2m77\u001b[0m\u001b]8;;\u001b\\\n",
       "\u001b[2;36m                    \u001b[0m         \u001b[1m(\u001b[0m\u001b[1;36m100\u001b[0m\u001b[1m)\u001b[0m. Expected type \u001b[32m'String'\u001b[0m.                                         \u001b[2m               \u001b[0m\n"
      ]
     },
     "metadata": {},
     "output_type": "display_data"
    },
    {
     "data": {
      "text/html": [
       "<pre style=\"white-space:pre;overflow-x:auto;line-height:normal;font-family:Menlo,'DejaVu Sans Mono',consolas,'Courier New',monospace\"><span style=\"color: #7fbfbf; text-decoration-color: #7fbfbf\">                    </span><span style=\"color: #800000; text-decoration-color: #800000; font-weight: bold\">ERROR   </span> root - Argument <span style=\"color: #008000; text-decoration-color: #008000\">'after'</span> on Field <span style=\"color: #008000; text-decoration-color: #008000\">'stargazers'</span> has an invalid value     <a href=\"file://D:\\MIUN\\DT002G\\github_metric_extractor\\analysis\\git_miner.py\" target=\"_blank\"><span style=\"color: #7f7f7f; text-decoration-color: #7f7f7f\">git_miner.py</span></a><span style=\"color: #7f7f7f; text-decoration-color: #7f7f7f\">:</span><a href=\"file://D:\\MIUN\\DT002G\\github_metric_extractor\\analysis\\git_miner.py#77\" target=\"_blank\"><span style=\"color: #7f7f7f; text-decoration-color: #7f7f7f\">77</span></a>\n",
       "<span style=\"color: #7fbfbf; text-decoration-color: #7fbfbf\">                    </span>         <span style=\"font-weight: bold\">(</span><span style=\"color: #008080; text-decoration-color: #008080; font-weight: bold\">100</span><span style=\"font-weight: bold\">)</span>. Expected type <span style=\"color: #008000; text-decoration-color: #008000\">'String'</span>.                                         <span style=\"color: #7f7f7f; text-decoration-color: #7f7f7f\">               </span>\n",
       "</pre>\n"
      ],
      "text/plain": [
       "\u001b[2;36m                   \u001b[0m\u001b[2;36m \u001b[0m\u001b[1;31mERROR   \u001b[0m root - Argument \u001b[32m'after'\u001b[0m on Field \u001b[32m'stargazers'\u001b[0m has an invalid value     \u001b]8;id=277669;file://D:\\MIUN\\DT002G\\github_metric_extractor\\analysis\\git_miner.py\u001b\\\u001b[2mgit_miner.py\u001b[0m\u001b]8;;\u001b\\\u001b[2m:\u001b[0m\u001b]8;id=639444;file://D:\\MIUN\\DT002G\\github_metric_extractor\\analysis\\git_miner.py#77\u001b\\\u001b[2m77\u001b[0m\u001b]8;;\u001b\\\n",
       "\u001b[2;36m                    \u001b[0m         \u001b[1m(\u001b[0m\u001b[1;36m100\u001b[0m\u001b[1m)\u001b[0m. Expected type \u001b[32m'String'\u001b[0m.                                         \u001b[2m               \u001b[0m\n"
      ]
     },
     "metadata": {},
     "output_type": "display_data"
    },
    {
     "data": {
      "text/html": [
       "<pre style=\"white-space:pre;overflow-x:auto;line-height:normal;font-family:Menlo,'DejaVu Sans Mono',consolas,'Courier New',monospace\"><span style=\"color: #7fbfbf; text-decoration-color: #7fbfbf\">                    </span><span style=\"color: #800000; text-decoration-color: #800000; font-weight: bold\">ERROR   </span> root - Argument <span style=\"color: #008000; text-decoration-color: #008000\">'after'</span> on Field <span style=\"color: #008000; text-decoration-color: #008000\">'stargazers'</span> has an invalid value     <a href=\"file://D:\\MIUN\\DT002G\\github_metric_extractor\\analysis\\git_miner.py\" target=\"_blank\"><span style=\"color: #7f7f7f; text-decoration-color: #7f7f7f\">git_miner.py</span></a><span style=\"color: #7f7f7f; text-decoration-color: #7f7f7f\">:</span><a href=\"file://D:\\MIUN\\DT002G\\github_metric_extractor\\analysis\\git_miner.py#77\" target=\"_blank\"><span style=\"color: #7f7f7f; text-decoration-color: #7f7f7f\">77</span></a>\n",
       "<span style=\"color: #7fbfbf; text-decoration-color: #7fbfbf\">                    </span>         <span style=\"font-weight: bold\">(</span><span style=\"color: #008080; text-decoration-color: #008080; font-weight: bold\">100</span><span style=\"font-weight: bold\">)</span>. Expected type <span style=\"color: #008000; text-decoration-color: #008000\">'String'</span>.                                         <span style=\"color: #7f7f7f; text-decoration-color: #7f7f7f\">               </span>\n",
       "</pre>\n"
      ],
      "text/plain": [
       "\u001b[2;36m                   \u001b[0m\u001b[2;36m \u001b[0m\u001b[1;31mERROR   \u001b[0m root - Argument \u001b[32m'after'\u001b[0m on Field \u001b[32m'stargazers'\u001b[0m has an invalid value     \u001b]8;id=696799;file://D:\\MIUN\\DT002G\\github_metric_extractor\\analysis\\git_miner.py\u001b\\\u001b[2mgit_miner.py\u001b[0m\u001b]8;;\u001b\\\u001b[2m:\u001b[0m\u001b]8;id=117537;file://D:\\MIUN\\DT002G\\github_metric_extractor\\analysis\\git_miner.py#77\u001b\\\u001b[2m77\u001b[0m\u001b]8;;\u001b\\\n",
       "\u001b[2;36m                    \u001b[0m         \u001b[1m(\u001b[0m\u001b[1;36m100\u001b[0m\u001b[1m)\u001b[0m. Expected type \u001b[32m'String'\u001b[0m.                                         \u001b[2m               \u001b[0m\n"
      ]
     },
     "metadata": {},
     "output_type": "display_data"
    },
    {
     "data": {
      "text/html": [
       "<pre style=\"white-space:pre;overflow-x:auto;line-height:normal;font-family:Menlo,'DejaVu Sans Mono',consolas,'Courier New',monospace\"><span style=\"color: #7fbfbf; text-decoration-color: #7fbfbf\">[03/12/24 19:02:43] </span><span style=\"color: #800000; text-decoration-color: #800000; font-weight: bold\">ERROR   </span> root - Argument <span style=\"color: #008000; text-decoration-color: #008000\">'after'</span> on Field <span style=\"color: #008000; text-decoration-color: #008000\">'stargazers'</span> has an invalid value     <a href=\"file://D:\\MIUN\\DT002G\\github_metric_extractor\\analysis\\git_miner.py\" target=\"_blank\"><span style=\"color: #7f7f7f; text-decoration-color: #7f7f7f\">git_miner.py</span></a><span style=\"color: #7f7f7f; text-decoration-color: #7f7f7f\">:</span><a href=\"file://D:\\MIUN\\DT002G\\github_metric_extractor\\analysis\\git_miner.py#77\" target=\"_blank\"><span style=\"color: #7f7f7f; text-decoration-color: #7f7f7f\">77</span></a>\n",
       "<span style=\"color: #7fbfbf; text-decoration-color: #7fbfbf\">                    </span>         <span style=\"font-weight: bold\">(</span><span style=\"color: #008080; text-decoration-color: #008080; font-weight: bold\">100</span><span style=\"font-weight: bold\">)</span>. Expected type <span style=\"color: #008000; text-decoration-color: #008000\">'String'</span>.                                         <span style=\"color: #7f7f7f; text-decoration-color: #7f7f7f\">               </span>\n",
       "</pre>\n"
      ],
      "text/plain": [
       "\u001b[2;36m[03/12/24 19:02:43]\u001b[0m\u001b[2;36m \u001b[0m\u001b[1;31mERROR   \u001b[0m root - Argument \u001b[32m'after'\u001b[0m on Field \u001b[32m'stargazers'\u001b[0m has an invalid value     \u001b]8;id=197845;file://D:\\MIUN\\DT002G\\github_metric_extractor\\analysis\\git_miner.py\u001b\\\u001b[2mgit_miner.py\u001b[0m\u001b]8;;\u001b\\\u001b[2m:\u001b[0m\u001b]8;id=101165;file://D:\\MIUN\\DT002G\\github_metric_extractor\\analysis\\git_miner.py#77\u001b\\\u001b[2m77\u001b[0m\u001b]8;;\u001b\\\n",
       "\u001b[2;36m                    \u001b[0m         \u001b[1m(\u001b[0m\u001b[1;36m100\u001b[0m\u001b[1m)\u001b[0m. Expected type \u001b[32m'String'\u001b[0m.                                         \u001b[2m               \u001b[0m\n"
      ]
     },
     "metadata": {},
     "output_type": "display_data"
    },
    {
     "data": {
      "text/html": [
       "<pre style=\"white-space:pre;overflow-x:auto;line-height:normal;font-family:Menlo,'DejaVu Sans Mono',consolas,'Courier New',monospace\"><span style=\"color: #7fbfbf; text-decoration-color: #7fbfbf\">                    </span><span style=\"color: #800000; text-decoration-color: #800000; font-weight: bold\">ERROR   </span> root - Argument <span style=\"color: #008000; text-decoration-color: #008000\">'after'</span> on Field <span style=\"color: #008000; text-decoration-color: #008000\">'stargazers'</span> has an invalid value     <a href=\"file://D:\\MIUN\\DT002G\\github_metric_extractor\\analysis\\git_miner.py\" target=\"_blank\"><span style=\"color: #7f7f7f; text-decoration-color: #7f7f7f\">git_miner.py</span></a><span style=\"color: #7f7f7f; text-decoration-color: #7f7f7f\">:</span><a href=\"file://D:\\MIUN\\DT002G\\github_metric_extractor\\analysis\\git_miner.py#77\" target=\"_blank\"><span style=\"color: #7f7f7f; text-decoration-color: #7f7f7f\">77</span></a>\n",
       "<span style=\"color: #7fbfbf; text-decoration-color: #7fbfbf\">                    </span>         <span style=\"font-weight: bold\">(</span><span style=\"color: #008080; text-decoration-color: #008080; font-weight: bold\">100</span><span style=\"font-weight: bold\">)</span>. Expected type <span style=\"color: #008000; text-decoration-color: #008000\">'String'</span>.                                         <span style=\"color: #7f7f7f; text-decoration-color: #7f7f7f\">               </span>\n",
       "</pre>\n"
      ],
      "text/plain": [
       "\u001b[2;36m                   \u001b[0m\u001b[2;36m \u001b[0m\u001b[1;31mERROR   \u001b[0m root - Argument \u001b[32m'after'\u001b[0m on Field \u001b[32m'stargazers'\u001b[0m has an invalid value     \u001b]8;id=526808;file://D:\\MIUN\\DT002G\\github_metric_extractor\\analysis\\git_miner.py\u001b\\\u001b[2mgit_miner.py\u001b[0m\u001b]8;;\u001b\\\u001b[2m:\u001b[0m\u001b]8;id=276463;file://D:\\MIUN\\DT002G\\github_metric_extractor\\analysis\\git_miner.py#77\u001b\\\u001b[2m77\u001b[0m\u001b]8;;\u001b\\\n",
       "\u001b[2;36m                    \u001b[0m         \u001b[1m(\u001b[0m\u001b[1;36m100\u001b[0m\u001b[1m)\u001b[0m. Expected type \u001b[32m'String'\u001b[0m.                                         \u001b[2m               \u001b[0m\n"
      ]
     },
     "metadata": {},
     "output_type": "display_data"
    },
    {
     "data": {
      "text/html": [
       "<pre style=\"white-space:pre;overflow-x:auto;line-height:normal;font-family:Menlo,'DejaVu Sans Mono',consolas,'Courier New',monospace\"><span style=\"color: #7fbfbf; text-decoration-color: #7fbfbf\">                    </span><span style=\"color: #800000; text-decoration-color: #800000; font-weight: bold\">ERROR   </span> root - Argument <span style=\"color: #008000; text-decoration-color: #008000\">'after'</span> on Field <span style=\"color: #008000; text-decoration-color: #008000\">'stargazers'</span> has an invalid value     <a href=\"file://D:\\MIUN\\DT002G\\github_metric_extractor\\analysis\\git_miner.py\" target=\"_blank\"><span style=\"color: #7f7f7f; text-decoration-color: #7f7f7f\">git_miner.py</span></a><span style=\"color: #7f7f7f; text-decoration-color: #7f7f7f\">:</span><a href=\"file://D:\\MIUN\\DT002G\\github_metric_extractor\\analysis\\git_miner.py#77\" target=\"_blank\"><span style=\"color: #7f7f7f; text-decoration-color: #7f7f7f\">77</span></a>\n",
       "<span style=\"color: #7fbfbf; text-decoration-color: #7fbfbf\">                    </span>         <span style=\"font-weight: bold\">(</span><span style=\"color: #008080; text-decoration-color: #008080; font-weight: bold\">100</span><span style=\"font-weight: bold\">)</span>. Expected type <span style=\"color: #008000; text-decoration-color: #008000\">'String'</span>.                                         <span style=\"color: #7f7f7f; text-decoration-color: #7f7f7f\">               </span>\n",
       "</pre>\n"
      ],
      "text/plain": [
       "\u001b[2;36m                   \u001b[0m\u001b[2;36m \u001b[0m\u001b[1;31mERROR   \u001b[0m root - Argument \u001b[32m'after'\u001b[0m on Field \u001b[32m'stargazers'\u001b[0m has an invalid value     \u001b]8;id=654855;file://D:\\MIUN\\DT002G\\github_metric_extractor\\analysis\\git_miner.py\u001b\\\u001b[2mgit_miner.py\u001b[0m\u001b]8;;\u001b\\\u001b[2m:\u001b[0m\u001b]8;id=780563;file://D:\\MIUN\\DT002G\\github_metric_extractor\\analysis\\git_miner.py#77\u001b\\\u001b[2m77\u001b[0m\u001b]8;;\u001b\\\n",
       "\u001b[2;36m                    \u001b[0m         \u001b[1m(\u001b[0m\u001b[1;36m100\u001b[0m\u001b[1m)\u001b[0m. Expected type \u001b[32m'String'\u001b[0m.                                         \u001b[2m               \u001b[0m\n"
      ]
     },
     "metadata": {},
     "output_type": "display_data"
    },
    {
     "data": {
      "text/html": [
       "<pre style=\"white-space:pre;overflow-x:auto;line-height:normal;font-family:Menlo,'DejaVu Sans Mono',consolas,'Courier New',monospace\"><span style=\"color: #7fbfbf; text-decoration-color: #7fbfbf\">                    </span><span style=\"color: #800000; text-decoration-color: #800000; font-weight: bold\">ERROR   </span> root - Argument <span style=\"color: #008000; text-decoration-color: #008000\">'after'</span> on Field <span style=\"color: #008000; text-decoration-color: #008000\">'stargazers'</span> has an invalid value     <a href=\"file://D:\\MIUN\\DT002G\\github_metric_extractor\\analysis\\git_miner.py\" target=\"_blank\"><span style=\"color: #7f7f7f; text-decoration-color: #7f7f7f\">git_miner.py</span></a><span style=\"color: #7f7f7f; text-decoration-color: #7f7f7f\">:</span><a href=\"file://D:\\MIUN\\DT002G\\github_metric_extractor\\analysis\\git_miner.py#77\" target=\"_blank\"><span style=\"color: #7f7f7f; text-decoration-color: #7f7f7f\">77</span></a>\n",
       "<span style=\"color: #7fbfbf; text-decoration-color: #7fbfbf\">                    </span>         <span style=\"font-weight: bold\">(</span><span style=\"color: #008080; text-decoration-color: #008080; font-weight: bold\">100</span><span style=\"font-weight: bold\">)</span>. Expected type <span style=\"color: #008000; text-decoration-color: #008000\">'String'</span>.                                         <span style=\"color: #7f7f7f; text-decoration-color: #7f7f7f\">               </span>\n",
       "</pre>\n"
      ],
      "text/plain": [
       "\u001b[2;36m                   \u001b[0m\u001b[2;36m \u001b[0m\u001b[1;31mERROR   \u001b[0m root - Argument \u001b[32m'after'\u001b[0m on Field \u001b[32m'stargazers'\u001b[0m has an invalid value     \u001b]8;id=187318;file://D:\\MIUN\\DT002G\\github_metric_extractor\\analysis\\git_miner.py\u001b\\\u001b[2mgit_miner.py\u001b[0m\u001b]8;;\u001b\\\u001b[2m:\u001b[0m\u001b]8;id=792729;file://D:\\MIUN\\DT002G\\github_metric_extractor\\analysis\\git_miner.py#77\u001b\\\u001b[2m77\u001b[0m\u001b]8;;\u001b\\\n",
       "\u001b[2;36m                    \u001b[0m         \u001b[1m(\u001b[0m\u001b[1;36m100\u001b[0m\u001b[1m)\u001b[0m. Expected type \u001b[32m'String'\u001b[0m.                                         \u001b[2m               \u001b[0m\n"
      ]
     },
     "metadata": {},
     "output_type": "display_data"
    },
    {
     "data": {
      "text/html": [
       "<pre style=\"white-space:pre;overflow-x:auto;line-height:normal;font-family:Menlo,'DejaVu Sans Mono',consolas,'Courier New',monospace\"><span style=\"color: #7fbfbf; text-decoration-color: #7fbfbf\">[03/12/24 19:02:44] </span><span style=\"color: #800000; text-decoration-color: #800000; font-weight: bold\">ERROR   </span> root - Argument <span style=\"color: #008000; text-decoration-color: #008000\">'after'</span> on Field <span style=\"color: #008000; text-decoration-color: #008000\">'stargazers'</span> has an invalid value     <a href=\"file://D:\\MIUN\\DT002G\\github_metric_extractor\\analysis\\git_miner.py\" target=\"_blank\"><span style=\"color: #7f7f7f; text-decoration-color: #7f7f7f\">git_miner.py</span></a><span style=\"color: #7f7f7f; text-decoration-color: #7f7f7f\">:</span><a href=\"file://D:\\MIUN\\DT002G\\github_metric_extractor\\analysis\\git_miner.py#77\" target=\"_blank\"><span style=\"color: #7f7f7f; text-decoration-color: #7f7f7f\">77</span></a>\n",
       "<span style=\"color: #7fbfbf; text-decoration-color: #7fbfbf\">                    </span>         <span style=\"font-weight: bold\">(</span><span style=\"color: #008080; text-decoration-color: #008080; font-weight: bold\">100</span><span style=\"font-weight: bold\">)</span>. Expected type <span style=\"color: #008000; text-decoration-color: #008000\">'String'</span>.                                         <span style=\"color: #7f7f7f; text-decoration-color: #7f7f7f\">               </span>\n",
       "</pre>\n"
      ],
      "text/plain": [
       "\u001b[2;36m[03/12/24 19:02:44]\u001b[0m\u001b[2;36m \u001b[0m\u001b[1;31mERROR   \u001b[0m root - Argument \u001b[32m'after'\u001b[0m on Field \u001b[32m'stargazers'\u001b[0m has an invalid value     \u001b]8;id=886582;file://D:\\MIUN\\DT002G\\github_metric_extractor\\analysis\\git_miner.py\u001b\\\u001b[2mgit_miner.py\u001b[0m\u001b]8;;\u001b\\\u001b[2m:\u001b[0m\u001b]8;id=889198;file://D:\\MIUN\\DT002G\\github_metric_extractor\\analysis\\git_miner.py#77\u001b\\\u001b[2m77\u001b[0m\u001b]8;;\u001b\\\n",
       "\u001b[2;36m                    \u001b[0m         \u001b[1m(\u001b[0m\u001b[1;36m100\u001b[0m\u001b[1m)\u001b[0m. Expected type \u001b[32m'String'\u001b[0m.                                         \u001b[2m               \u001b[0m\n"
      ]
     },
     "metadata": {},
     "output_type": "display_data"
    },
    {
     "data": {
      "text/html": [
       "<pre style=\"white-space:pre;overflow-x:auto;line-height:normal;font-family:Menlo,'DejaVu Sans Mono',consolas,'Courier New',monospace\"><span style=\"color: #7fbfbf; text-decoration-color: #7fbfbf\">                    </span><span style=\"color: #800000; text-decoration-color: #800000; font-weight: bold\">ERROR   </span> root - Argument <span style=\"color: #008000; text-decoration-color: #008000\">'after'</span> on Field <span style=\"color: #008000; text-decoration-color: #008000\">'stargazers'</span> has an invalid value     <a href=\"file://D:\\MIUN\\DT002G\\github_metric_extractor\\analysis\\git_miner.py\" target=\"_blank\"><span style=\"color: #7f7f7f; text-decoration-color: #7f7f7f\">git_miner.py</span></a><span style=\"color: #7f7f7f; text-decoration-color: #7f7f7f\">:</span><a href=\"file://D:\\MIUN\\DT002G\\github_metric_extractor\\analysis\\git_miner.py#77\" target=\"_blank\"><span style=\"color: #7f7f7f; text-decoration-color: #7f7f7f\">77</span></a>\n",
       "<span style=\"color: #7fbfbf; text-decoration-color: #7fbfbf\">                    </span>         <span style=\"font-weight: bold\">(</span><span style=\"color: #008080; text-decoration-color: #008080; font-weight: bold\">100</span><span style=\"font-weight: bold\">)</span>. Expected type <span style=\"color: #008000; text-decoration-color: #008000\">'String'</span>.                                         <span style=\"color: #7f7f7f; text-decoration-color: #7f7f7f\">               </span>\n",
       "</pre>\n"
      ],
      "text/plain": [
       "\u001b[2;36m                   \u001b[0m\u001b[2;36m \u001b[0m\u001b[1;31mERROR   \u001b[0m root - Argument \u001b[32m'after'\u001b[0m on Field \u001b[32m'stargazers'\u001b[0m has an invalid value     \u001b]8;id=965175;file://D:\\MIUN\\DT002G\\github_metric_extractor\\analysis\\git_miner.py\u001b\\\u001b[2mgit_miner.py\u001b[0m\u001b]8;;\u001b\\\u001b[2m:\u001b[0m\u001b]8;id=706724;file://D:\\MIUN\\DT002G\\github_metric_extractor\\analysis\\git_miner.py#77\u001b\\\u001b[2m77\u001b[0m\u001b]8;;\u001b\\\n",
       "\u001b[2;36m                    \u001b[0m         \u001b[1m(\u001b[0m\u001b[1;36m100\u001b[0m\u001b[1m)\u001b[0m. Expected type \u001b[32m'String'\u001b[0m.                                         \u001b[2m               \u001b[0m\n"
      ]
     },
     "metadata": {},
     "output_type": "display_data"
    },
    {
     "data": {
      "text/html": [
       "<pre style=\"white-space:pre;overflow-x:auto;line-height:normal;font-family:Menlo,'DejaVu Sans Mono',consolas,'Courier New',monospace\"><span style=\"color: #7fbfbf; text-decoration-color: #7fbfbf\">                    </span><span style=\"color: #800000; text-decoration-color: #800000; font-weight: bold\">ERROR   </span> root - Argument <span style=\"color: #008000; text-decoration-color: #008000\">'after'</span> on Field <span style=\"color: #008000; text-decoration-color: #008000\">'stargazers'</span> has an invalid value     <a href=\"file://D:\\MIUN\\DT002G\\github_metric_extractor\\analysis\\git_miner.py\" target=\"_blank\"><span style=\"color: #7f7f7f; text-decoration-color: #7f7f7f\">git_miner.py</span></a><span style=\"color: #7f7f7f; text-decoration-color: #7f7f7f\">:</span><a href=\"file://D:\\MIUN\\DT002G\\github_metric_extractor\\analysis\\git_miner.py#77\" target=\"_blank\"><span style=\"color: #7f7f7f; text-decoration-color: #7f7f7f\">77</span></a>\n",
       "<span style=\"color: #7fbfbf; text-decoration-color: #7fbfbf\">                    </span>         <span style=\"font-weight: bold\">(</span><span style=\"color: #008080; text-decoration-color: #008080; font-weight: bold\">100</span><span style=\"font-weight: bold\">)</span>. Expected type <span style=\"color: #008000; text-decoration-color: #008000\">'String'</span>.                                         <span style=\"color: #7f7f7f; text-decoration-color: #7f7f7f\">               </span>\n",
       "</pre>\n"
      ],
      "text/plain": [
       "\u001b[2;36m                   \u001b[0m\u001b[2;36m \u001b[0m\u001b[1;31mERROR   \u001b[0m root - Argument \u001b[32m'after'\u001b[0m on Field \u001b[32m'stargazers'\u001b[0m has an invalid value     \u001b]8;id=425186;file://D:\\MIUN\\DT002G\\github_metric_extractor\\analysis\\git_miner.py\u001b\\\u001b[2mgit_miner.py\u001b[0m\u001b]8;;\u001b\\\u001b[2m:\u001b[0m\u001b]8;id=209086;file://D:\\MIUN\\DT002G\\github_metric_extractor\\analysis\\git_miner.py#77\u001b\\\u001b[2m77\u001b[0m\u001b]8;;\u001b\\\n",
       "\u001b[2;36m                    \u001b[0m         \u001b[1m(\u001b[0m\u001b[1;36m100\u001b[0m\u001b[1m)\u001b[0m. Expected type \u001b[32m'String'\u001b[0m.                                         \u001b[2m               \u001b[0m\n"
      ]
     },
     "metadata": {},
     "output_type": "display_data"
    },
    {
     "data": {
      "text/html": [
       "<pre style=\"white-space:pre;overflow-x:auto;line-height:normal;font-family:Menlo,'DejaVu Sans Mono',consolas,'Courier New',monospace\"><span style=\"color: #7fbfbf; text-decoration-color: #7fbfbf\">                    </span><span style=\"color: #800000; text-decoration-color: #800000; font-weight: bold\">ERROR   </span> root - Argument <span style=\"color: #008000; text-decoration-color: #008000\">'after'</span> on Field <span style=\"color: #008000; text-decoration-color: #008000\">'stargazers'</span> has an invalid value     <a href=\"file://D:\\MIUN\\DT002G\\github_metric_extractor\\analysis\\git_miner.py\" target=\"_blank\"><span style=\"color: #7f7f7f; text-decoration-color: #7f7f7f\">git_miner.py</span></a><span style=\"color: #7f7f7f; text-decoration-color: #7f7f7f\">:</span><a href=\"file://D:\\MIUN\\DT002G\\github_metric_extractor\\analysis\\git_miner.py#77\" target=\"_blank\"><span style=\"color: #7f7f7f; text-decoration-color: #7f7f7f\">77</span></a>\n",
       "<span style=\"color: #7fbfbf; text-decoration-color: #7fbfbf\">                    </span>         <span style=\"font-weight: bold\">(</span><span style=\"color: #008080; text-decoration-color: #008080; font-weight: bold\">100</span><span style=\"font-weight: bold\">)</span>. Expected type <span style=\"color: #008000; text-decoration-color: #008000\">'String'</span>.                                         <span style=\"color: #7f7f7f; text-decoration-color: #7f7f7f\">               </span>\n",
       "</pre>\n"
      ],
      "text/plain": [
       "\u001b[2;36m                   \u001b[0m\u001b[2;36m \u001b[0m\u001b[1;31mERROR   \u001b[0m root - Argument \u001b[32m'after'\u001b[0m on Field \u001b[32m'stargazers'\u001b[0m has an invalid value     \u001b]8;id=289284;file://D:\\MIUN\\DT002G\\github_metric_extractor\\analysis\\git_miner.py\u001b\\\u001b[2mgit_miner.py\u001b[0m\u001b]8;;\u001b\\\u001b[2m:\u001b[0m\u001b]8;id=786317;file://D:\\MIUN\\DT002G\\github_metric_extractor\\analysis\\git_miner.py#77\u001b\\\u001b[2m77\u001b[0m\u001b]8;;\u001b\\\n",
       "\u001b[2;36m                    \u001b[0m         \u001b[1m(\u001b[0m\u001b[1;36m100\u001b[0m\u001b[1m)\u001b[0m. Expected type \u001b[32m'String'\u001b[0m.                                         \u001b[2m               \u001b[0m\n"
      ]
     },
     "metadata": {},
     "output_type": "display_data"
    },
    {
     "data": {
      "text/html": [
       "<pre style=\"white-space:pre;overflow-x:auto;line-height:normal;font-family:Menlo,'DejaVu Sans Mono',consolas,'Courier New',monospace\"><span style=\"color: #7fbfbf; text-decoration-color: #7fbfbf\">[03/12/24 19:02:45] </span><span style=\"color: #800000; text-decoration-color: #800000; font-weight: bold\">ERROR   </span> root - Argument <span style=\"color: #008000; text-decoration-color: #008000\">'after'</span> on Field <span style=\"color: #008000; text-decoration-color: #008000\">'stargazers'</span> has an invalid value     <a href=\"file://D:\\MIUN\\DT002G\\github_metric_extractor\\analysis\\git_miner.py\" target=\"_blank\"><span style=\"color: #7f7f7f; text-decoration-color: #7f7f7f\">git_miner.py</span></a><span style=\"color: #7f7f7f; text-decoration-color: #7f7f7f\">:</span><a href=\"file://D:\\MIUN\\DT002G\\github_metric_extractor\\analysis\\git_miner.py#77\" target=\"_blank\"><span style=\"color: #7f7f7f; text-decoration-color: #7f7f7f\">77</span></a>\n",
       "<span style=\"color: #7fbfbf; text-decoration-color: #7fbfbf\">                    </span>         <span style=\"font-weight: bold\">(</span><span style=\"color: #008080; text-decoration-color: #008080; font-weight: bold\">100</span><span style=\"font-weight: bold\">)</span>. Expected type <span style=\"color: #008000; text-decoration-color: #008000\">'String'</span>.                                         <span style=\"color: #7f7f7f; text-decoration-color: #7f7f7f\">               </span>\n",
       "</pre>\n"
      ],
      "text/plain": [
       "\u001b[2;36m[03/12/24 19:02:45]\u001b[0m\u001b[2;36m \u001b[0m\u001b[1;31mERROR   \u001b[0m root - Argument \u001b[32m'after'\u001b[0m on Field \u001b[32m'stargazers'\u001b[0m has an invalid value     \u001b]8;id=771775;file://D:\\MIUN\\DT002G\\github_metric_extractor\\analysis\\git_miner.py\u001b\\\u001b[2mgit_miner.py\u001b[0m\u001b]8;;\u001b\\\u001b[2m:\u001b[0m\u001b]8;id=1004;file://D:\\MIUN\\DT002G\\github_metric_extractor\\analysis\\git_miner.py#77\u001b\\\u001b[2m77\u001b[0m\u001b]8;;\u001b\\\n",
       "\u001b[2;36m                    \u001b[0m         \u001b[1m(\u001b[0m\u001b[1;36m100\u001b[0m\u001b[1m)\u001b[0m. Expected type \u001b[32m'String'\u001b[0m.                                         \u001b[2m               \u001b[0m\n"
      ]
     },
     "metadata": {},
     "output_type": "display_data"
    },
    {
     "data": {
      "text/html": [
       "<pre style=\"white-space:pre;overflow-x:auto;line-height:normal;font-family:Menlo,'DejaVu Sans Mono',consolas,'Courier New',monospace\"><span style=\"color: #7fbfbf; text-decoration-color: #7fbfbf\">                    </span><span style=\"color: #800000; text-decoration-color: #800000; font-weight: bold\">ERROR   </span> root - Argument <span style=\"color: #008000; text-decoration-color: #008000\">'after'</span> on Field <span style=\"color: #008000; text-decoration-color: #008000\">'stargazers'</span> has an invalid value     <a href=\"file://D:\\MIUN\\DT002G\\github_metric_extractor\\analysis\\git_miner.py\" target=\"_blank\"><span style=\"color: #7f7f7f; text-decoration-color: #7f7f7f\">git_miner.py</span></a><span style=\"color: #7f7f7f; text-decoration-color: #7f7f7f\">:</span><a href=\"file://D:\\MIUN\\DT002G\\github_metric_extractor\\analysis\\git_miner.py#77\" target=\"_blank\"><span style=\"color: #7f7f7f; text-decoration-color: #7f7f7f\">77</span></a>\n",
       "<span style=\"color: #7fbfbf; text-decoration-color: #7fbfbf\">                    </span>         <span style=\"font-weight: bold\">(</span><span style=\"color: #008080; text-decoration-color: #008080; font-weight: bold\">100</span><span style=\"font-weight: bold\">)</span>. Expected type <span style=\"color: #008000; text-decoration-color: #008000\">'String'</span>.                                         <span style=\"color: #7f7f7f; text-decoration-color: #7f7f7f\">               </span>\n",
       "</pre>\n"
      ],
      "text/plain": [
       "\u001b[2;36m                   \u001b[0m\u001b[2;36m \u001b[0m\u001b[1;31mERROR   \u001b[0m root - Argument \u001b[32m'after'\u001b[0m on Field \u001b[32m'stargazers'\u001b[0m has an invalid value     \u001b]8;id=58163;file://D:\\MIUN\\DT002G\\github_metric_extractor\\analysis\\git_miner.py\u001b\\\u001b[2mgit_miner.py\u001b[0m\u001b]8;;\u001b\\\u001b[2m:\u001b[0m\u001b]8;id=511687;file://D:\\MIUN\\DT002G\\github_metric_extractor\\analysis\\git_miner.py#77\u001b\\\u001b[2m77\u001b[0m\u001b]8;;\u001b\\\n",
       "\u001b[2;36m                    \u001b[0m         \u001b[1m(\u001b[0m\u001b[1;36m100\u001b[0m\u001b[1m)\u001b[0m. Expected type \u001b[32m'String'\u001b[0m.                                         \u001b[2m               \u001b[0m\n"
      ]
     },
     "metadata": {},
     "output_type": "display_data"
    },
    {
     "data": {
      "text/html": [
       "<pre style=\"white-space:pre;overflow-x:auto;line-height:normal;font-family:Menlo,'DejaVu Sans Mono',consolas,'Courier New',monospace\"><span style=\"color: #7fbfbf; text-decoration-color: #7fbfbf\">                    </span><span style=\"color: #800000; text-decoration-color: #800000; font-weight: bold\">ERROR   </span> root - Argument <span style=\"color: #008000; text-decoration-color: #008000\">'after'</span> on Field <span style=\"color: #008000; text-decoration-color: #008000\">'stargazers'</span> has an invalid value     <a href=\"file://D:\\MIUN\\DT002G\\github_metric_extractor\\analysis\\git_miner.py\" target=\"_blank\"><span style=\"color: #7f7f7f; text-decoration-color: #7f7f7f\">git_miner.py</span></a><span style=\"color: #7f7f7f; text-decoration-color: #7f7f7f\">:</span><a href=\"file://D:\\MIUN\\DT002G\\github_metric_extractor\\analysis\\git_miner.py#77\" target=\"_blank\"><span style=\"color: #7f7f7f; text-decoration-color: #7f7f7f\">77</span></a>\n",
       "<span style=\"color: #7fbfbf; text-decoration-color: #7fbfbf\">                    </span>         <span style=\"font-weight: bold\">(</span><span style=\"color: #008080; text-decoration-color: #008080; font-weight: bold\">100</span><span style=\"font-weight: bold\">)</span>. Expected type <span style=\"color: #008000; text-decoration-color: #008000\">'String'</span>.                                         <span style=\"color: #7f7f7f; text-decoration-color: #7f7f7f\">               </span>\n",
       "</pre>\n"
      ],
      "text/plain": [
       "\u001b[2;36m                   \u001b[0m\u001b[2;36m \u001b[0m\u001b[1;31mERROR   \u001b[0m root - Argument \u001b[32m'after'\u001b[0m on Field \u001b[32m'stargazers'\u001b[0m has an invalid value     \u001b]8;id=287576;file://D:\\MIUN\\DT002G\\github_metric_extractor\\analysis\\git_miner.py\u001b\\\u001b[2mgit_miner.py\u001b[0m\u001b]8;;\u001b\\\u001b[2m:\u001b[0m\u001b]8;id=780170;file://D:\\MIUN\\DT002G\\github_metric_extractor\\analysis\\git_miner.py#77\u001b\\\u001b[2m77\u001b[0m\u001b]8;;\u001b\\\n",
       "\u001b[2;36m                    \u001b[0m         \u001b[1m(\u001b[0m\u001b[1;36m100\u001b[0m\u001b[1m)\u001b[0m. Expected type \u001b[32m'String'\u001b[0m.                                         \u001b[2m               \u001b[0m\n"
      ]
     },
     "metadata": {},
     "output_type": "display_data"
    },
    {
     "data": {
      "text/html": [
       "<pre style=\"white-space:pre;overflow-x:auto;line-height:normal;font-family:Menlo,'DejaVu Sans Mono',consolas,'Courier New',monospace\"><span style=\"color: #7fbfbf; text-decoration-color: #7fbfbf\">[03/12/24 19:02:46] </span><span style=\"color: #800000; text-decoration-color: #800000; font-weight: bold\">ERROR   </span> root - Argument <span style=\"color: #008000; text-decoration-color: #008000\">'after'</span> on Field <span style=\"color: #008000; text-decoration-color: #008000\">'stargazers'</span> has an invalid value     <a href=\"file://D:\\MIUN\\DT002G\\github_metric_extractor\\analysis\\git_miner.py\" target=\"_blank\"><span style=\"color: #7f7f7f; text-decoration-color: #7f7f7f\">git_miner.py</span></a><span style=\"color: #7f7f7f; text-decoration-color: #7f7f7f\">:</span><a href=\"file://D:\\MIUN\\DT002G\\github_metric_extractor\\analysis\\git_miner.py#77\" target=\"_blank\"><span style=\"color: #7f7f7f; text-decoration-color: #7f7f7f\">77</span></a>\n",
       "<span style=\"color: #7fbfbf; text-decoration-color: #7fbfbf\">                    </span>         <span style=\"font-weight: bold\">(</span><span style=\"color: #008080; text-decoration-color: #008080; font-weight: bold\">100</span><span style=\"font-weight: bold\">)</span>. Expected type <span style=\"color: #008000; text-decoration-color: #008000\">'String'</span>.                                         <span style=\"color: #7f7f7f; text-decoration-color: #7f7f7f\">               </span>\n",
       "</pre>\n"
      ],
      "text/plain": [
       "\u001b[2;36m[03/12/24 19:02:46]\u001b[0m\u001b[2;36m \u001b[0m\u001b[1;31mERROR   \u001b[0m root - Argument \u001b[32m'after'\u001b[0m on Field \u001b[32m'stargazers'\u001b[0m has an invalid value     \u001b]8;id=454616;file://D:\\MIUN\\DT002G\\github_metric_extractor\\analysis\\git_miner.py\u001b\\\u001b[2mgit_miner.py\u001b[0m\u001b]8;;\u001b\\\u001b[2m:\u001b[0m\u001b]8;id=94850;file://D:\\MIUN\\DT002G\\github_metric_extractor\\analysis\\git_miner.py#77\u001b\\\u001b[2m77\u001b[0m\u001b]8;;\u001b\\\n",
       "\u001b[2;36m                    \u001b[0m         \u001b[1m(\u001b[0m\u001b[1;36m100\u001b[0m\u001b[1m)\u001b[0m. Expected type \u001b[32m'String'\u001b[0m.                                         \u001b[2m               \u001b[0m\n"
      ]
     },
     "metadata": {},
     "output_type": "display_data"
    },
    {
     "data": {
      "text/html": [
       "<pre style=\"white-space:pre;overflow-x:auto;line-height:normal;font-family:Menlo,'DejaVu Sans Mono',consolas,'Courier New',monospace\"><span style=\"color: #7fbfbf; text-decoration-color: #7fbfbf\">                    </span><span style=\"color: #800000; text-decoration-color: #800000; font-weight: bold\">ERROR   </span> root - Argument <span style=\"color: #008000; text-decoration-color: #008000\">'after'</span> on Field <span style=\"color: #008000; text-decoration-color: #008000\">'stargazers'</span> has an invalid value     <a href=\"file://D:\\MIUN\\DT002G\\github_metric_extractor\\analysis\\git_miner.py\" target=\"_blank\"><span style=\"color: #7f7f7f; text-decoration-color: #7f7f7f\">git_miner.py</span></a><span style=\"color: #7f7f7f; text-decoration-color: #7f7f7f\">:</span><a href=\"file://D:\\MIUN\\DT002G\\github_metric_extractor\\analysis\\git_miner.py#77\" target=\"_blank\"><span style=\"color: #7f7f7f; text-decoration-color: #7f7f7f\">77</span></a>\n",
       "<span style=\"color: #7fbfbf; text-decoration-color: #7fbfbf\">                    </span>         <span style=\"font-weight: bold\">(</span><span style=\"color: #008080; text-decoration-color: #008080; font-weight: bold\">100</span><span style=\"font-weight: bold\">)</span>. Expected type <span style=\"color: #008000; text-decoration-color: #008000\">'String'</span>.                                         <span style=\"color: #7f7f7f; text-decoration-color: #7f7f7f\">               </span>\n",
       "</pre>\n"
      ],
      "text/plain": [
       "\u001b[2;36m                   \u001b[0m\u001b[2;36m \u001b[0m\u001b[1;31mERROR   \u001b[0m root - Argument \u001b[32m'after'\u001b[0m on Field \u001b[32m'stargazers'\u001b[0m has an invalid value     \u001b]8;id=361024;file://D:\\MIUN\\DT002G\\github_metric_extractor\\analysis\\git_miner.py\u001b\\\u001b[2mgit_miner.py\u001b[0m\u001b]8;;\u001b\\\u001b[2m:\u001b[0m\u001b]8;id=445579;file://D:\\MIUN\\DT002G\\github_metric_extractor\\analysis\\git_miner.py#77\u001b\\\u001b[2m77\u001b[0m\u001b]8;;\u001b\\\n",
       "\u001b[2;36m                    \u001b[0m         \u001b[1m(\u001b[0m\u001b[1;36m100\u001b[0m\u001b[1m)\u001b[0m. Expected type \u001b[32m'String'\u001b[0m.                                         \u001b[2m               \u001b[0m\n"
      ]
     },
     "metadata": {},
     "output_type": "display_data"
    },
    {
     "data": {
      "text/html": [
       "<pre style=\"white-space:pre;overflow-x:auto;line-height:normal;font-family:Menlo,'DejaVu Sans Mono',consolas,'Courier New',monospace\"><span style=\"color: #7fbfbf; text-decoration-color: #7fbfbf\">                    </span><span style=\"color: #800000; text-decoration-color: #800000; font-weight: bold\">ERROR   </span> root - Argument <span style=\"color: #008000; text-decoration-color: #008000\">'after'</span> on Field <span style=\"color: #008000; text-decoration-color: #008000\">'stargazers'</span> has an invalid value     <a href=\"file://D:\\MIUN\\DT002G\\github_metric_extractor\\analysis\\git_miner.py\" target=\"_blank\"><span style=\"color: #7f7f7f; text-decoration-color: #7f7f7f\">git_miner.py</span></a><span style=\"color: #7f7f7f; text-decoration-color: #7f7f7f\">:</span><a href=\"file://D:\\MIUN\\DT002G\\github_metric_extractor\\analysis\\git_miner.py#77\" target=\"_blank\"><span style=\"color: #7f7f7f; text-decoration-color: #7f7f7f\">77</span></a>\n",
       "<span style=\"color: #7fbfbf; text-decoration-color: #7fbfbf\">                    </span>         <span style=\"font-weight: bold\">(</span><span style=\"color: #008080; text-decoration-color: #008080; font-weight: bold\">100</span><span style=\"font-weight: bold\">)</span>. Expected type <span style=\"color: #008000; text-decoration-color: #008000\">'String'</span>.                                         <span style=\"color: #7f7f7f; text-decoration-color: #7f7f7f\">               </span>\n",
       "</pre>\n"
      ],
      "text/plain": [
       "\u001b[2;36m                   \u001b[0m\u001b[2;36m \u001b[0m\u001b[1;31mERROR   \u001b[0m root - Argument \u001b[32m'after'\u001b[0m on Field \u001b[32m'stargazers'\u001b[0m has an invalid value     \u001b]8;id=122141;file://D:\\MIUN\\DT002G\\github_metric_extractor\\analysis\\git_miner.py\u001b\\\u001b[2mgit_miner.py\u001b[0m\u001b]8;;\u001b\\\u001b[2m:\u001b[0m\u001b]8;id=347380;file://D:\\MIUN\\DT002G\\github_metric_extractor\\analysis\\git_miner.py#77\u001b\\\u001b[2m77\u001b[0m\u001b]8;;\u001b\\\n",
       "\u001b[2;36m                    \u001b[0m         \u001b[1m(\u001b[0m\u001b[1;36m100\u001b[0m\u001b[1m)\u001b[0m. Expected type \u001b[32m'String'\u001b[0m.                                         \u001b[2m               \u001b[0m\n"
      ]
     },
     "metadata": {},
     "output_type": "display_data"
    },
    {
     "data": {
      "text/html": [
       "<pre style=\"white-space:pre;overflow-x:auto;line-height:normal;font-family:Menlo,'DejaVu Sans Mono',consolas,'Courier New',monospace\"><span style=\"color: #7fbfbf; text-decoration-color: #7fbfbf\">                    </span><span style=\"color: #800000; text-decoration-color: #800000; font-weight: bold\">ERROR   </span> root - Argument <span style=\"color: #008000; text-decoration-color: #008000\">'after'</span> on Field <span style=\"color: #008000; text-decoration-color: #008000\">'stargazers'</span> has an invalid value     <a href=\"file://D:\\MIUN\\DT002G\\github_metric_extractor\\analysis\\git_miner.py\" target=\"_blank\"><span style=\"color: #7f7f7f; text-decoration-color: #7f7f7f\">git_miner.py</span></a><span style=\"color: #7f7f7f; text-decoration-color: #7f7f7f\">:</span><a href=\"file://D:\\MIUN\\DT002G\\github_metric_extractor\\analysis\\git_miner.py#77\" target=\"_blank\"><span style=\"color: #7f7f7f; text-decoration-color: #7f7f7f\">77</span></a>\n",
       "<span style=\"color: #7fbfbf; text-decoration-color: #7fbfbf\">                    </span>         <span style=\"font-weight: bold\">(</span><span style=\"color: #008080; text-decoration-color: #008080; font-weight: bold\">100</span><span style=\"font-weight: bold\">)</span>. Expected type <span style=\"color: #008000; text-decoration-color: #008000\">'String'</span>.                                         <span style=\"color: #7f7f7f; text-decoration-color: #7f7f7f\">               </span>\n",
       "</pre>\n"
      ],
      "text/plain": [
       "\u001b[2;36m                   \u001b[0m\u001b[2;36m \u001b[0m\u001b[1;31mERROR   \u001b[0m root - Argument \u001b[32m'after'\u001b[0m on Field \u001b[32m'stargazers'\u001b[0m has an invalid value     \u001b]8;id=354710;file://D:\\MIUN\\DT002G\\github_metric_extractor\\analysis\\git_miner.py\u001b\\\u001b[2mgit_miner.py\u001b[0m\u001b]8;;\u001b\\\u001b[2m:\u001b[0m\u001b]8;id=312568;file://D:\\MIUN\\DT002G\\github_metric_extractor\\analysis\\git_miner.py#77\u001b\\\u001b[2m77\u001b[0m\u001b]8;;\u001b\\\n",
       "\u001b[2;36m                    \u001b[0m         \u001b[1m(\u001b[0m\u001b[1;36m100\u001b[0m\u001b[1m)\u001b[0m. Expected type \u001b[32m'String'\u001b[0m.                                         \u001b[2m               \u001b[0m\n"
      ]
     },
     "metadata": {},
     "output_type": "display_data"
    },
    {
     "data": {
      "text/html": [
       "<pre style=\"white-space:pre;overflow-x:auto;line-height:normal;font-family:Menlo,'DejaVu Sans Mono',consolas,'Courier New',monospace\"><span style=\"color: #7fbfbf; text-decoration-color: #7fbfbf\">[03/12/24 19:02:47] </span><span style=\"color: #800000; text-decoration-color: #800000; font-weight: bold\">ERROR   </span> root - Argument <span style=\"color: #008000; text-decoration-color: #008000\">'after'</span> on Field <span style=\"color: #008000; text-decoration-color: #008000\">'stargazers'</span> has an invalid value     <a href=\"file://D:\\MIUN\\DT002G\\github_metric_extractor\\analysis\\git_miner.py\" target=\"_blank\"><span style=\"color: #7f7f7f; text-decoration-color: #7f7f7f\">git_miner.py</span></a><span style=\"color: #7f7f7f; text-decoration-color: #7f7f7f\">:</span><a href=\"file://D:\\MIUN\\DT002G\\github_metric_extractor\\analysis\\git_miner.py#77\" target=\"_blank\"><span style=\"color: #7f7f7f; text-decoration-color: #7f7f7f\">77</span></a>\n",
       "<span style=\"color: #7fbfbf; text-decoration-color: #7fbfbf\">                    </span>         <span style=\"font-weight: bold\">(</span><span style=\"color: #008080; text-decoration-color: #008080; font-weight: bold\">100</span><span style=\"font-weight: bold\">)</span>. Expected type <span style=\"color: #008000; text-decoration-color: #008000\">'String'</span>.                                         <span style=\"color: #7f7f7f; text-decoration-color: #7f7f7f\">               </span>\n",
       "</pre>\n"
      ],
      "text/plain": [
       "\u001b[2;36m[03/12/24 19:02:47]\u001b[0m\u001b[2;36m \u001b[0m\u001b[1;31mERROR   \u001b[0m root - Argument \u001b[32m'after'\u001b[0m on Field \u001b[32m'stargazers'\u001b[0m has an invalid value     \u001b]8;id=225865;file://D:\\MIUN\\DT002G\\github_metric_extractor\\analysis\\git_miner.py\u001b\\\u001b[2mgit_miner.py\u001b[0m\u001b]8;;\u001b\\\u001b[2m:\u001b[0m\u001b]8;id=785665;file://D:\\MIUN\\DT002G\\github_metric_extractor\\analysis\\git_miner.py#77\u001b\\\u001b[2m77\u001b[0m\u001b]8;;\u001b\\\n",
       "\u001b[2;36m                    \u001b[0m         \u001b[1m(\u001b[0m\u001b[1;36m100\u001b[0m\u001b[1m)\u001b[0m. Expected type \u001b[32m'String'\u001b[0m.                                         \u001b[2m               \u001b[0m\n"
      ]
     },
     "metadata": {},
     "output_type": "display_data"
    },
    {
     "data": {
      "text/html": [
       "<pre style=\"white-space:pre;overflow-x:auto;line-height:normal;font-family:Menlo,'DejaVu Sans Mono',consolas,'Courier New',monospace\"><span style=\"color: #7fbfbf; text-decoration-color: #7fbfbf\">                    </span><span style=\"color: #800000; text-decoration-color: #800000; font-weight: bold\">ERROR   </span> root - Argument <span style=\"color: #008000; text-decoration-color: #008000\">'after'</span> on Field <span style=\"color: #008000; text-decoration-color: #008000\">'stargazers'</span> has an invalid value     <a href=\"file://D:\\MIUN\\DT002G\\github_metric_extractor\\analysis\\git_miner.py\" target=\"_blank\"><span style=\"color: #7f7f7f; text-decoration-color: #7f7f7f\">git_miner.py</span></a><span style=\"color: #7f7f7f; text-decoration-color: #7f7f7f\">:</span><a href=\"file://D:\\MIUN\\DT002G\\github_metric_extractor\\analysis\\git_miner.py#77\" target=\"_blank\"><span style=\"color: #7f7f7f; text-decoration-color: #7f7f7f\">77</span></a>\n",
       "<span style=\"color: #7fbfbf; text-decoration-color: #7fbfbf\">                    </span>         <span style=\"font-weight: bold\">(</span><span style=\"color: #008080; text-decoration-color: #008080; font-weight: bold\">100</span><span style=\"font-weight: bold\">)</span>. Expected type <span style=\"color: #008000; text-decoration-color: #008000\">'String'</span>.                                         <span style=\"color: #7f7f7f; text-decoration-color: #7f7f7f\">               </span>\n",
       "</pre>\n"
      ],
      "text/plain": [
       "\u001b[2;36m                   \u001b[0m\u001b[2;36m \u001b[0m\u001b[1;31mERROR   \u001b[0m root - Argument \u001b[32m'after'\u001b[0m on Field \u001b[32m'stargazers'\u001b[0m has an invalid value     \u001b]8;id=147107;file://D:\\MIUN\\DT002G\\github_metric_extractor\\analysis\\git_miner.py\u001b\\\u001b[2mgit_miner.py\u001b[0m\u001b]8;;\u001b\\\u001b[2m:\u001b[0m\u001b]8;id=423600;file://D:\\MIUN\\DT002G\\github_metric_extractor\\analysis\\git_miner.py#77\u001b\\\u001b[2m77\u001b[0m\u001b]8;;\u001b\\\n",
       "\u001b[2;36m                    \u001b[0m         \u001b[1m(\u001b[0m\u001b[1;36m100\u001b[0m\u001b[1m)\u001b[0m. Expected type \u001b[32m'String'\u001b[0m.                                         \u001b[2m               \u001b[0m\n"
      ]
     },
     "metadata": {},
     "output_type": "display_data"
    },
    {
     "data": {
      "text/html": [
       "<pre style=\"white-space:pre;overflow-x:auto;line-height:normal;font-family:Menlo,'DejaVu Sans Mono',consolas,'Courier New',monospace\"><span style=\"color: #7fbfbf; text-decoration-color: #7fbfbf\">                    </span><span style=\"color: #800000; text-decoration-color: #800000; font-weight: bold\">ERROR   </span> root - Argument <span style=\"color: #008000; text-decoration-color: #008000\">'after'</span> on Field <span style=\"color: #008000; text-decoration-color: #008000\">'stargazers'</span> has an invalid value     <a href=\"file://D:\\MIUN\\DT002G\\github_metric_extractor\\analysis\\git_miner.py\" target=\"_blank\"><span style=\"color: #7f7f7f; text-decoration-color: #7f7f7f\">git_miner.py</span></a><span style=\"color: #7f7f7f; text-decoration-color: #7f7f7f\">:</span><a href=\"file://D:\\MIUN\\DT002G\\github_metric_extractor\\analysis\\git_miner.py#77\" target=\"_blank\"><span style=\"color: #7f7f7f; text-decoration-color: #7f7f7f\">77</span></a>\n",
       "<span style=\"color: #7fbfbf; text-decoration-color: #7fbfbf\">                    </span>         <span style=\"font-weight: bold\">(</span><span style=\"color: #008080; text-decoration-color: #008080; font-weight: bold\">100</span><span style=\"font-weight: bold\">)</span>. Expected type <span style=\"color: #008000; text-decoration-color: #008000\">'String'</span>.                                         <span style=\"color: #7f7f7f; text-decoration-color: #7f7f7f\">               </span>\n",
       "</pre>\n"
      ],
      "text/plain": [
       "\u001b[2;36m                   \u001b[0m\u001b[2;36m \u001b[0m\u001b[1;31mERROR   \u001b[0m root - Argument \u001b[32m'after'\u001b[0m on Field \u001b[32m'stargazers'\u001b[0m has an invalid value     \u001b]8;id=160523;file://D:\\MIUN\\DT002G\\github_metric_extractor\\analysis\\git_miner.py\u001b\\\u001b[2mgit_miner.py\u001b[0m\u001b]8;;\u001b\\\u001b[2m:\u001b[0m\u001b]8;id=335387;file://D:\\MIUN\\DT002G\\github_metric_extractor\\analysis\\git_miner.py#77\u001b\\\u001b[2m77\u001b[0m\u001b]8;;\u001b\\\n",
       "\u001b[2;36m                    \u001b[0m         \u001b[1m(\u001b[0m\u001b[1;36m100\u001b[0m\u001b[1m)\u001b[0m. Expected type \u001b[32m'String'\u001b[0m.                                         \u001b[2m               \u001b[0m\n"
      ]
     },
     "metadata": {},
     "output_type": "display_data"
    },
    {
     "data": {
      "text/html": [
       "<pre style=\"white-space:pre;overflow-x:auto;line-height:normal;font-family:Menlo,'DejaVu Sans Mono',consolas,'Courier New',monospace\"><span style=\"color: #7fbfbf; text-decoration-color: #7fbfbf\">                    </span><span style=\"color: #800000; text-decoration-color: #800000; font-weight: bold\">ERROR   </span> root - Argument <span style=\"color: #008000; text-decoration-color: #008000\">'after'</span> on Field <span style=\"color: #008000; text-decoration-color: #008000\">'stargazers'</span> has an invalid value     <a href=\"file://D:\\MIUN\\DT002G\\github_metric_extractor\\analysis\\git_miner.py\" target=\"_blank\"><span style=\"color: #7f7f7f; text-decoration-color: #7f7f7f\">git_miner.py</span></a><span style=\"color: #7f7f7f; text-decoration-color: #7f7f7f\">:</span><a href=\"file://D:\\MIUN\\DT002G\\github_metric_extractor\\analysis\\git_miner.py#77\" target=\"_blank\"><span style=\"color: #7f7f7f; text-decoration-color: #7f7f7f\">77</span></a>\n",
       "<span style=\"color: #7fbfbf; text-decoration-color: #7fbfbf\">                    </span>         <span style=\"font-weight: bold\">(</span><span style=\"color: #008080; text-decoration-color: #008080; font-weight: bold\">100</span><span style=\"font-weight: bold\">)</span>. Expected type <span style=\"color: #008000; text-decoration-color: #008000\">'String'</span>.                                         <span style=\"color: #7f7f7f; text-decoration-color: #7f7f7f\">               </span>\n",
       "</pre>\n"
      ],
      "text/plain": [
       "\u001b[2;36m                   \u001b[0m\u001b[2;36m \u001b[0m\u001b[1;31mERROR   \u001b[0m root - Argument \u001b[32m'after'\u001b[0m on Field \u001b[32m'stargazers'\u001b[0m has an invalid value     \u001b]8;id=797509;file://D:\\MIUN\\DT002G\\github_metric_extractor\\analysis\\git_miner.py\u001b\\\u001b[2mgit_miner.py\u001b[0m\u001b]8;;\u001b\\\u001b[2m:\u001b[0m\u001b]8;id=302687;file://D:\\MIUN\\DT002G\\github_metric_extractor\\analysis\\git_miner.py#77\u001b\\\u001b[2m77\u001b[0m\u001b]8;;\u001b\\\n",
       "\u001b[2;36m                    \u001b[0m         \u001b[1m(\u001b[0m\u001b[1;36m100\u001b[0m\u001b[1m)\u001b[0m. Expected type \u001b[32m'String'\u001b[0m.                                         \u001b[2m               \u001b[0m\n"
      ]
     },
     "metadata": {},
     "output_type": "display_data"
    },
    {
     "data": {
      "text/html": [
       "<pre style=\"white-space:pre;overflow-x:auto;line-height:normal;font-family:Menlo,'DejaVu Sans Mono',consolas,'Courier New',monospace\"><span style=\"color: #7fbfbf; text-decoration-color: #7fbfbf\">[03/12/24 19:02:48] </span><span style=\"color: #800000; text-decoration-color: #800000; font-weight: bold\">ERROR   </span> root - Argument <span style=\"color: #008000; text-decoration-color: #008000\">'after'</span> on Field <span style=\"color: #008000; text-decoration-color: #008000\">'stargazers'</span> has an invalid value     <a href=\"file://D:\\MIUN\\DT002G\\github_metric_extractor\\analysis\\git_miner.py\" target=\"_blank\"><span style=\"color: #7f7f7f; text-decoration-color: #7f7f7f\">git_miner.py</span></a><span style=\"color: #7f7f7f; text-decoration-color: #7f7f7f\">:</span><a href=\"file://D:\\MIUN\\DT002G\\github_metric_extractor\\analysis\\git_miner.py#77\" target=\"_blank\"><span style=\"color: #7f7f7f; text-decoration-color: #7f7f7f\">77</span></a>\n",
       "<span style=\"color: #7fbfbf; text-decoration-color: #7fbfbf\">                    </span>         <span style=\"font-weight: bold\">(</span><span style=\"color: #008080; text-decoration-color: #008080; font-weight: bold\">100</span><span style=\"font-weight: bold\">)</span>. Expected type <span style=\"color: #008000; text-decoration-color: #008000\">'String'</span>.                                         <span style=\"color: #7f7f7f; text-decoration-color: #7f7f7f\">               </span>\n",
       "</pre>\n"
      ],
      "text/plain": [
       "\u001b[2;36m[03/12/24 19:02:48]\u001b[0m\u001b[2;36m \u001b[0m\u001b[1;31mERROR   \u001b[0m root - Argument \u001b[32m'after'\u001b[0m on Field \u001b[32m'stargazers'\u001b[0m has an invalid value     \u001b]8;id=29853;file://D:\\MIUN\\DT002G\\github_metric_extractor\\analysis\\git_miner.py\u001b\\\u001b[2mgit_miner.py\u001b[0m\u001b]8;;\u001b\\\u001b[2m:\u001b[0m\u001b]8;id=972386;file://D:\\MIUN\\DT002G\\github_metric_extractor\\analysis\\git_miner.py#77\u001b\\\u001b[2m77\u001b[0m\u001b]8;;\u001b\\\n",
       "\u001b[2;36m                    \u001b[0m         \u001b[1m(\u001b[0m\u001b[1;36m100\u001b[0m\u001b[1m)\u001b[0m. Expected type \u001b[32m'String'\u001b[0m.                                         \u001b[2m               \u001b[0m\n"
      ]
     },
     "metadata": {},
     "output_type": "display_data"
    },
    {
     "data": {
      "text/html": [
       "<pre style=\"white-space:pre;overflow-x:auto;line-height:normal;font-family:Menlo,'DejaVu Sans Mono',consolas,'Courier New',monospace\"><span style=\"color: #7fbfbf; text-decoration-color: #7fbfbf\">                    </span><span style=\"color: #800000; text-decoration-color: #800000; font-weight: bold\">ERROR   </span> root - Argument <span style=\"color: #008000; text-decoration-color: #008000\">'after'</span> on Field <span style=\"color: #008000; text-decoration-color: #008000\">'stargazers'</span> has an invalid value     <a href=\"file://D:\\MIUN\\DT002G\\github_metric_extractor\\analysis\\git_miner.py\" target=\"_blank\"><span style=\"color: #7f7f7f; text-decoration-color: #7f7f7f\">git_miner.py</span></a><span style=\"color: #7f7f7f; text-decoration-color: #7f7f7f\">:</span><a href=\"file://D:\\MIUN\\DT002G\\github_metric_extractor\\analysis\\git_miner.py#77\" target=\"_blank\"><span style=\"color: #7f7f7f; text-decoration-color: #7f7f7f\">77</span></a>\n",
       "<span style=\"color: #7fbfbf; text-decoration-color: #7fbfbf\">                    </span>         <span style=\"font-weight: bold\">(</span><span style=\"color: #008080; text-decoration-color: #008080; font-weight: bold\">100</span><span style=\"font-weight: bold\">)</span>. Expected type <span style=\"color: #008000; text-decoration-color: #008000\">'String'</span>.                                         <span style=\"color: #7f7f7f; text-decoration-color: #7f7f7f\">               </span>\n",
       "</pre>\n"
      ],
      "text/plain": [
       "\u001b[2;36m                   \u001b[0m\u001b[2;36m \u001b[0m\u001b[1;31mERROR   \u001b[0m root - Argument \u001b[32m'after'\u001b[0m on Field \u001b[32m'stargazers'\u001b[0m has an invalid value     \u001b]8;id=107351;file://D:\\MIUN\\DT002G\\github_metric_extractor\\analysis\\git_miner.py\u001b\\\u001b[2mgit_miner.py\u001b[0m\u001b]8;;\u001b\\\u001b[2m:\u001b[0m\u001b]8;id=998693;file://D:\\MIUN\\DT002G\\github_metric_extractor\\analysis\\git_miner.py#77\u001b\\\u001b[2m77\u001b[0m\u001b]8;;\u001b\\\n",
       "\u001b[2;36m                    \u001b[0m         \u001b[1m(\u001b[0m\u001b[1;36m100\u001b[0m\u001b[1m)\u001b[0m. Expected type \u001b[32m'String'\u001b[0m.                                         \u001b[2m               \u001b[0m\n"
      ]
     },
     "metadata": {},
     "output_type": "display_data"
    },
    {
     "data": {
      "text/html": [
       "<pre style=\"white-space:pre;overflow-x:auto;line-height:normal;font-family:Menlo,'DejaVu Sans Mono',consolas,'Courier New',monospace\"><span style=\"color: #7fbfbf; text-decoration-color: #7fbfbf\">                    </span><span style=\"color: #800000; text-decoration-color: #800000; font-weight: bold\">ERROR   </span> root - Argument <span style=\"color: #008000; text-decoration-color: #008000\">'after'</span> on Field <span style=\"color: #008000; text-decoration-color: #008000\">'stargazers'</span> has an invalid value     <a href=\"file://D:\\MIUN\\DT002G\\github_metric_extractor\\analysis\\git_miner.py\" target=\"_blank\"><span style=\"color: #7f7f7f; text-decoration-color: #7f7f7f\">git_miner.py</span></a><span style=\"color: #7f7f7f; text-decoration-color: #7f7f7f\">:</span><a href=\"file://D:\\MIUN\\DT002G\\github_metric_extractor\\analysis\\git_miner.py#77\" target=\"_blank\"><span style=\"color: #7f7f7f; text-decoration-color: #7f7f7f\">77</span></a>\n",
       "<span style=\"color: #7fbfbf; text-decoration-color: #7fbfbf\">                    </span>         <span style=\"font-weight: bold\">(</span><span style=\"color: #008080; text-decoration-color: #008080; font-weight: bold\">100</span><span style=\"font-weight: bold\">)</span>. Expected type <span style=\"color: #008000; text-decoration-color: #008000\">'String'</span>.                                         <span style=\"color: #7f7f7f; text-decoration-color: #7f7f7f\">               </span>\n",
       "</pre>\n"
      ],
      "text/plain": [
       "\u001b[2;36m                   \u001b[0m\u001b[2;36m \u001b[0m\u001b[1;31mERROR   \u001b[0m root - Argument \u001b[32m'after'\u001b[0m on Field \u001b[32m'stargazers'\u001b[0m has an invalid value     \u001b]8;id=712774;file://D:\\MIUN\\DT002G\\github_metric_extractor\\analysis\\git_miner.py\u001b\\\u001b[2mgit_miner.py\u001b[0m\u001b]8;;\u001b\\\u001b[2m:\u001b[0m\u001b]8;id=806423;file://D:\\MIUN\\DT002G\\github_metric_extractor\\analysis\\git_miner.py#77\u001b\\\u001b[2m77\u001b[0m\u001b]8;;\u001b\\\n",
       "\u001b[2;36m                    \u001b[0m         \u001b[1m(\u001b[0m\u001b[1;36m100\u001b[0m\u001b[1m)\u001b[0m. Expected type \u001b[32m'String'\u001b[0m.                                         \u001b[2m               \u001b[0m\n"
      ]
     },
     "metadata": {},
     "output_type": "display_data"
    },
    {
     "data": {
      "text/html": [
       "<pre style=\"white-space:pre;overflow-x:auto;line-height:normal;font-family:Menlo,'DejaVu Sans Mono',consolas,'Courier New',monospace\"><span style=\"color: #7fbfbf; text-decoration-color: #7fbfbf\">[03/12/24 19:02:49] </span><span style=\"color: #800000; text-decoration-color: #800000; font-weight: bold\">ERROR   </span> root - Argument <span style=\"color: #008000; text-decoration-color: #008000\">'after'</span> on Field <span style=\"color: #008000; text-decoration-color: #008000\">'stargazers'</span> has an invalid value     <a href=\"file://D:\\MIUN\\DT002G\\github_metric_extractor\\analysis\\git_miner.py\" target=\"_blank\"><span style=\"color: #7f7f7f; text-decoration-color: #7f7f7f\">git_miner.py</span></a><span style=\"color: #7f7f7f; text-decoration-color: #7f7f7f\">:</span><a href=\"file://D:\\MIUN\\DT002G\\github_metric_extractor\\analysis\\git_miner.py#77\" target=\"_blank\"><span style=\"color: #7f7f7f; text-decoration-color: #7f7f7f\">77</span></a>\n",
       "<span style=\"color: #7fbfbf; text-decoration-color: #7fbfbf\">                    </span>         <span style=\"font-weight: bold\">(</span><span style=\"color: #008080; text-decoration-color: #008080; font-weight: bold\">100</span><span style=\"font-weight: bold\">)</span>. Expected type <span style=\"color: #008000; text-decoration-color: #008000\">'String'</span>.                                         <span style=\"color: #7f7f7f; text-decoration-color: #7f7f7f\">               </span>\n",
       "</pre>\n"
      ],
      "text/plain": [
       "\u001b[2;36m[03/12/24 19:02:49]\u001b[0m\u001b[2;36m \u001b[0m\u001b[1;31mERROR   \u001b[0m root - Argument \u001b[32m'after'\u001b[0m on Field \u001b[32m'stargazers'\u001b[0m has an invalid value     \u001b]8;id=603774;file://D:\\MIUN\\DT002G\\github_metric_extractor\\analysis\\git_miner.py\u001b\\\u001b[2mgit_miner.py\u001b[0m\u001b]8;;\u001b\\\u001b[2m:\u001b[0m\u001b]8;id=449075;file://D:\\MIUN\\DT002G\\github_metric_extractor\\analysis\\git_miner.py#77\u001b\\\u001b[2m77\u001b[0m\u001b]8;;\u001b\\\n",
       "\u001b[2;36m                    \u001b[0m         \u001b[1m(\u001b[0m\u001b[1;36m100\u001b[0m\u001b[1m)\u001b[0m. Expected type \u001b[32m'String'\u001b[0m.                                         \u001b[2m               \u001b[0m\n"
      ]
     },
     "metadata": {},
     "output_type": "display_data"
    },
    {
     "data": {
      "text/html": [
       "<pre style=\"white-space:pre;overflow-x:auto;line-height:normal;font-family:Menlo,'DejaVu Sans Mono',consolas,'Courier New',monospace\"><span style=\"color: #7fbfbf; text-decoration-color: #7fbfbf\">                    </span><span style=\"color: #800000; text-decoration-color: #800000; font-weight: bold\">ERROR   </span> root - Argument <span style=\"color: #008000; text-decoration-color: #008000\">'after'</span> on Field <span style=\"color: #008000; text-decoration-color: #008000\">'stargazers'</span> has an invalid value     <a href=\"file://D:\\MIUN\\DT002G\\github_metric_extractor\\analysis\\git_miner.py\" target=\"_blank\"><span style=\"color: #7f7f7f; text-decoration-color: #7f7f7f\">git_miner.py</span></a><span style=\"color: #7f7f7f; text-decoration-color: #7f7f7f\">:</span><a href=\"file://D:\\MIUN\\DT002G\\github_metric_extractor\\analysis\\git_miner.py#77\" target=\"_blank\"><span style=\"color: #7f7f7f; text-decoration-color: #7f7f7f\">77</span></a>\n",
       "<span style=\"color: #7fbfbf; text-decoration-color: #7fbfbf\">                    </span>         <span style=\"font-weight: bold\">(</span><span style=\"color: #008080; text-decoration-color: #008080; font-weight: bold\">100</span><span style=\"font-weight: bold\">)</span>. Expected type <span style=\"color: #008000; text-decoration-color: #008000\">'String'</span>.                                         <span style=\"color: #7f7f7f; text-decoration-color: #7f7f7f\">               </span>\n",
       "</pre>\n"
      ],
      "text/plain": [
       "\u001b[2;36m                   \u001b[0m\u001b[2;36m \u001b[0m\u001b[1;31mERROR   \u001b[0m root - Argument \u001b[32m'after'\u001b[0m on Field \u001b[32m'stargazers'\u001b[0m has an invalid value     \u001b]8;id=526271;file://D:\\MIUN\\DT002G\\github_metric_extractor\\analysis\\git_miner.py\u001b\\\u001b[2mgit_miner.py\u001b[0m\u001b]8;;\u001b\\\u001b[2m:\u001b[0m\u001b]8;id=997966;file://D:\\MIUN\\DT002G\\github_metric_extractor\\analysis\\git_miner.py#77\u001b\\\u001b[2m77\u001b[0m\u001b]8;;\u001b\\\n",
       "\u001b[2;36m                    \u001b[0m         \u001b[1m(\u001b[0m\u001b[1;36m100\u001b[0m\u001b[1m)\u001b[0m. Expected type \u001b[32m'String'\u001b[0m.                                         \u001b[2m               \u001b[0m\n"
      ]
     },
     "metadata": {},
     "output_type": "display_data"
    },
    {
     "data": {
      "text/html": [
       "<pre style=\"white-space:pre;overflow-x:auto;line-height:normal;font-family:Menlo,'DejaVu Sans Mono',consolas,'Courier New',monospace\"><span style=\"color: #7fbfbf; text-decoration-color: #7fbfbf\">                    </span><span style=\"color: #800000; text-decoration-color: #800000; font-weight: bold\">ERROR   </span> root - Argument <span style=\"color: #008000; text-decoration-color: #008000\">'after'</span> on Field <span style=\"color: #008000; text-decoration-color: #008000\">'stargazers'</span> has an invalid value     <a href=\"file://D:\\MIUN\\DT002G\\github_metric_extractor\\analysis\\git_miner.py\" target=\"_blank\"><span style=\"color: #7f7f7f; text-decoration-color: #7f7f7f\">git_miner.py</span></a><span style=\"color: #7f7f7f; text-decoration-color: #7f7f7f\">:</span><a href=\"file://D:\\MIUN\\DT002G\\github_metric_extractor\\analysis\\git_miner.py#77\" target=\"_blank\"><span style=\"color: #7f7f7f; text-decoration-color: #7f7f7f\">77</span></a>\n",
       "<span style=\"color: #7fbfbf; text-decoration-color: #7fbfbf\">                    </span>         <span style=\"font-weight: bold\">(</span><span style=\"color: #008080; text-decoration-color: #008080; font-weight: bold\">100</span><span style=\"font-weight: bold\">)</span>. Expected type <span style=\"color: #008000; text-decoration-color: #008000\">'String'</span>.                                         <span style=\"color: #7f7f7f; text-decoration-color: #7f7f7f\">               </span>\n",
       "</pre>\n"
      ],
      "text/plain": [
       "\u001b[2;36m                   \u001b[0m\u001b[2;36m \u001b[0m\u001b[1;31mERROR   \u001b[0m root - Argument \u001b[32m'after'\u001b[0m on Field \u001b[32m'stargazers'\u001b[0m has an invalid value     \u001b]8;id=792369;file://D:\\MIUN\\DT002G\\github_metric_extractor\\analysis\\git_miner.py\u001b\\\u001b[2mgit_miner.py\u001b[0m\u001b]8;;\u001b\\\u001b[2m:\u001b[0m\u001b]8;id=323789;file://D:\\MIUN\\DT002G\\github_metric_extractor\\analysis\\git_miner.py#77\u001b\\\u001b[2m77\u001b[0m\u001b]8;;\u001b\\\n",
       "\u001b[2;36m                    \u001b[0m         \u001b[1m(\u001b[0m\u001b[1;36m100\u001b[0m\u001b[1m)\u001b[0m. Expected type \u001b[32m'String'\u001b[0m.                                         \u001b[2m               \u001b[0m\n"
      ]
     },
     "metadata": {},
     "output_type": "display_data"
    },
    {
     "data": {
      "text/html": [
       "<pre style=\"white-space:pre;overflow-x:auto;line-height:normal;font-family:Menlo,'DejaVu Sans Mono',consolas,'Courier New',monospace\"><span style=\"color: #7fbfbf; text-decoration-color: #7fbfbf\">                    </span><span style=\"color: #800000; text-decoration-color: #800000; font-weight: bold\">ERROR   </span> root - Argument <span style=\"color: #008000; text-decoration-color: #008000\">'after'</span> on Field <span style=\"color: #008000; text-decoration-color: #008000\">'stargazers'</span> has an invalid value     <a href=\"file://D:\\MIUN\\DT002G\\github_metric_extractor\\analysis\\git_miner.py\" target=\"_blank\"><span style=\"color: #7f7f7f; text-decoration-color: #7f7f7f\">git_miner.py</span></a><span style=\"color: #7f7f7f; text-decoration-color: #7f7f7f\">:</span><a href=\"file://D:\\MIUN\\DT002G\\github_metric_extractor\\analysis\\git_miner.py#77\" target=\"_blank\"><span style=\"color: #7f7f7f; text-decoration-color: #7f7f7f\">77</span></a>\n",
       "<span style=\"color: #7fbfbf; text-decoration-color: #7fbfbf\">                    </span>         <span style=\"font-weight: bold\">(</span><span style=\"color: #008080; text-decoration-color: #008080; font-weight: bold\">100</span><span style=\"font-weight: bold\">)</span>. Expected type <span style=\"color: #008000; text-decoration-color: #008000\">'String'</span>.                                         <span style=\"color: #7f7f7f; text-decoration-color: #7f7f7f\">               </span>\n",
       "</pre>\n"
      ],
      "text/plain": [
       "\u001b[2;36m                   \u001b[0m\u001b[2;36m \u001b[0m\u001b[1;31mERROR   \u001b[0m root - Argument \u001b[32m'after'\u001b[0m on Field \u001b[32m'stargazers'\u001b[0m has an invalid value     \u001b]8;id=246947;file://D:\\MIUN\\DT002G\\github_metric_extractor\\analysis\\git_miner.py\u001b\\\u001b[2mgit_miner.py\u001b[0m\u001b]8;;\u001b\\\u001b[2m:\u001b[0m\u001b]8;id=154957;file://D:\\MIUN\\DT002G\\github_metric_extractor\\analysis\\git_miner.py#77\u001b\\\u001b[2m77\u001b[0m\u001b]8;;\u001b\\\n",
       "\u001b[2;36m                    \u001b[0m         \u001b[1m(\u001b[0m\u001b[1;36m100\u001b[0m\u001b[1m)\u001b[0m. Expected type \u001b[32m'String'\u001b[0m.                                         \u001b[2m               \u001b[0m\n"
      ]
     },
     "metadata": {},
     "output_type": "display_data"
    },
    {
     "data": {
      "text/html": [
       "<pre style=\"white-space:pre;overflow-x:auto;line-height:normal;font-family:Menlo,'DejaVu Sans Mono',consolas,'Courier New',monospace\"><span style=\"color: #7fbfbf; text-decoration-color: #7fbfbf\">[03/12/24 19:02:50] </span><span style=\"color: #800000; text-decoration-color: #800000; font-weight: bold\">ERROR   </span> root - Argument <span style=\"color: #008000; text-decoration-color: #008000\">'after'</span> on Field <span style=\"color: #008000; text-decoration-color: #008000\">'stargazers'</span> has an invalid value     <a href=\"file://D:\\MIUN\\DT002G\\github_metric_extractor\\analysis\\git_miner.py\" target=\"_blank\"><span style=\"color: #7f7f7f; text-decoration-color: #7f7f7f\">git_miner.py</span></a><span style=\"color: #7f7f7f; text-decoration-color: #7f7f7f\">:</span><a href=\"file://D:\\MIUN\\DT002G\\github_metric_extractor\\analysis\\git_miner.py#77\" target=\"_blank\"><span style=\"color: #7f7f7f; text-decoration-color: #7f7f7f\">77</span></a>\n",
       "<span style=\"color: #7fbfbf; text-decoration-color: #7fbfbf\">                    </span>         <span style=\"font-weight: bold\">(</span><span style=\"color: #008080; text-decoration-color: #008080; font-weight: bold\">100</span><span style=\"font-weight: bold\">)</span>. Expected type <span style=\"color: #008000; text-decoration-color: #008000\">'String'</span>.                                         <span style=\"color: #7f7f7f; text-decoration-color: #7f7f7f\">               </span>\n",
       "</pre>\n"
      ],
      "text/plain": [
       "\u001b[2;36m[03/12/24 19:02:50]\u001b[0m\u001b[2;36m \u001b[0m\u001b[1;31mERROR   \u001b[0m root - Argument \u001b[32m'after'\u001b[0m on Field \u001b[32m'stargazers'\u001b[0m has an invalid value     \u001b]8;id=984513;file://D:\\MIUN\\DT002G\\github_metric_extractor\\analysis\\git_miner.py\u001b\\\u001b[2mgit_miner.py\u001b[0m\u001b]8;;\u001b\\\u001b[2m:\u001b[0m\u001b]8;id=558399;file://D:\\MIUN\\DT002G\\github_metric_extractor\\analysis\\git_miner.py#77\u001b\\\u001b[2m77\u001b[0m\u001b]8;;\u001b\\\n",
       "\u001b[2;36m                    \u001b[0m         \u001b[1m(\u001b[0m\u001b[1;36m100\u001b[0m\u001b[1m)\u001b[0m. Expected type \u001b[32m'String'\u001b[0m.                                         \u001b[2m               \u001b[0m\n"
      ]
     },
     "metadata": {},
     "output_type": "display_data"
    },
    {
     "data": {
      "text/html": [
       "<pre style=\"white-space:pre;overflow-x:auto;line-height:normal;font-family:Menlo,'DejaVu Sans Mono',consolas,'Courier New',monospace\"><span style=\"color: #7fbfbf; text-decoration-color: #7fbfbf\">                    </span><span style=\"color: #800000; text-decoration-color: #800000; font-weight: bold\">ERROR   </span> root - Argument <span style=\"color: #008000; text-decoration-color: #008000\">'after'</span> on Field <span style=\"color: #008000; text-decoration-color: #008000\">'stargazers'</span> has an invalid value     <a href=\"file://D:\\MIUN\\DT002G\\github_metric_extractor\\analysis\\git_miner.py\" target=\"_blank\"><span style=\"color: #7f7f7f; text-decoration-color: #7f7f7f\">git_miner.py</span></a><span style=\"color: #7f7f7f; text-decoration-color: #7f7f7f\">:</span><a href=\"file://D:\\MIUN\\DT002G\\github_metric_extractor\\analysis\\git_miner.py#77\" target=\"_blank\"><span style=\"color: #7f7f7f; text-decoration-color: #7f7f7f\">77</span></a>\n",
       "<span style=\"color: #7fbfbf; text-decoration-color: #7fbfbf\">                    </span>         <span style=\"font-weight: bold\">(</span><span style=\"color: #008080; text-decoration-color: #008080; font-weight: bold\">100</span><span style=\"font-weight: bold\">)</span>. Expected type <span style=\"color: #008000; text-decoration-color: #008000\">'String'</span>.                                         <span style=\"color: #7f7f7f; text-decoration-color: #7f7f7f\">               </span>\n",
       "</pre>\n"
      ],
      "text/plain": [
       "\u001b[2;36m                   \u001b[0m\u001b[2;36m \u001b[0m\u001b[1;31mERROR   \u001b[0m root - Argument \u001b[32m'after'\u001b[0m on Field \u001b[32m'stargazers'\u001b[0m has an invalid value     \u001b]8;id=867645;file://D:\\MIUN\\DT002G\\github_metric_extractor\\analysis\\git_miner.py\u001b\\\u001b[2mgit_miner.py\u001b[0m\u001b]8;;\u001b\\\u001b[2m:\u001b[0m\u001b]8;id=604986;file://D:\\MIUN\\DT002G\\github_metric_extractor\\analysis\\git_miner.py#77\u001b\\\u001b[2m77\u001b[0m\u001b]8;;\u001b\\\n",
       "\u001b[2;36m                    \u001b[0m         \u001b[1m(\u001b[0m\u001b[1;36m100\u001b[0m\u001b[1m)\u001b[0m. Expected type \u001b[32m'String'\u001b[0m.                                         \u001b[2m               \u001b[0m\n"
      ]
     },
     "metadata": {},
     "output_type": "display_data"
    },
    {
     "data": {
      "text/html": [
       "<pre style=\"white-space:pre;overflow-x:auto;line-height:normal;font-family:Menlo,'DejaVu Sans Mono',consolas,'Courier New',monospace\"><span style=\"color: #7fbfbf; text-decoration-color: #7fbfbf\">                    </span><span style=\"color: #800000; text-decoration-color: #800000; font-weight: bold\">ERROR   </span> root - Argument <span style=\"color: #008000; text-decoration-color: #008000\">'after'</span> on Field <span style=\"color: #008000; text-decoration-color: #008000\">'stargazers'</span> has an invalid value     <a href=\"file://D:\\MIUN\\DT002G\\github_metric_extractor\\analysis\\git_miner.py\" target=\"_blank\"><span style=\"color: #7f7f7f; text-decoration-color: #7f7f7f\">git_miner.py</span></a><span style=\"color: #7f7f7f; text-decoration-color: #7f7f7f\">:</span><a href=\"file://D:\\MIUN\\DT002G\\github_metric_extractor\\analysis\\git_miner.py#77\" target=\"_blank\"><span style=\"color: #7f7f7f; text-decoration-color: #7f7f7f\">77</span></a>\n",
       "<span style=\"color: #7fbfbf; text-decoration-color: #7fbfbf\">                    </span>         <span style=\"font-weight: bold\">(</span><span style=\"color: #008080; text-decoration-color: #008080; font-weight: bold\">100</span><span style=\"font-weight: bold\">)</span>. Expected type <span style=\"color: #008000; text-decoration-color: #008000\">'String'</span>.                                         <span style=\"color: #7f7f7f; text-decoration-color: #7f7f7f\">               </span>\n",
       "</pre>\n"
      ],
      "text/plain": [
       "\u001b[2;36m                   \u001b[0m\u001b[2;36m \u001b[0m\u001b[1;31mERROR   \u001b[0m root - Argument \u001b[32m'after'\u001b[0m on Field \u001b[32m'stargazers'\u001b[0m has an invalid value     \u001b]8;id=17426;file://D:\\MIUN\\DT002G\\github_metric_extractor\\analysis\\git_miner.py\u001b\\\u001b[2mgit_miner.py\u001b[0m\u001b]8;;\u001b\\\u001b[2m:\u001b[0m\u001b]8;id=135872;file://D:\\MIUN\\DT002G\\github_metric_extractor\\analysis\\git_miner.py#77\u001b\\\u001b[2m77\u001b[0m\u001b]8;;\u001b\\\n",
       "\u001b[2;36m                    \u001b[0m         \u001b[1m(\u001b[0m\u001b[1;36m100\u001b[0m\u001b[1m)\u001b[0m. Expected type \u001b[32m'String'\u001b[0m.                                         \u001b[2m               \u001b[0m\n"
      ]
     },
     "metadata": {},
     "output_type": "display_data"
    },
    {
     "data": {
      "text/html": [
       "<pre style=\"white-space:pre;overflow-x:auto;line-height:normal;font-family:Menlo,'DejaVu Sans Mono',consolas,'Courier New',monospace\"><span style=\"color: #7fbfbf; text-decoration-color: #7fbfbf\">                    </span><span style=\"color: #800000; text-decoration-color: #800000; font-weight: bold\">ERROR   </span> root - Argument <span style=\"color: #008000; text-decoration-color: #008000\">'after'</span> on Field <span style=\"color: #008000; text-decoration-color: #008000\">'stargazers'</span> has an invalid value     <a href=\"file://D:\\MIUN\\DT002G\\github_metric_extractor\\analysis\\git_miner.py\" target=\"_blank\"><span style=\"color: #7f7f7f; text-decoration-color: #7f7f7f\">git_miner.py</span></a><span style=\"color: #7f7f7f; text-decoration-color: #7f7f7f\">:</span><a href=\"file://D:\\MIUN\\DT002G\\github_metric_extractor\\analysis\\git_miner.py#77\" target=\"_blank\"><span style=\"color: #7f7f7f; text-decoration-color: #7f7f7f\">77</span></a>\n",
       "<span style=\"color: #7fbfbf; text-decoration-color: #7fbfbf\">                    </span>         <span style=\"font-weight: bold\">(</span><span style=\"color: #008080; text-decoration-color: #008080; font-weight: bold\">100</span><span style=\"font-weight: bold\">)</span>. Expected type <span style=\"color: #008000; text-decoration-color: #008000\">'String'</span>.                                         <span style=\"color: #7f7f7f; text-decoration-color: #7f7f7f\">               </span>\n",
       "</pre>\n"
      ],
      "text/plain": [
       "\u001b[2;36m                   \u001b[0m\u001b[2;36m \u001b[0m\u001b[1;31mERROR   \u001b[0m root - Argument \u001b[32m'after'\u001b[0m on Field \u001b[32m'stargazers'\u001b[0m has an invalid value     \u001b]8;id=303150;file://D:\\MIUN\\DT002G\\github_metric_extractor\\analysis\\git_miner.py\u001b\\\u001b[2mgit_miner.py\u001b[0m\u001b]8;;\u001b\\\u001b[2m:\u001b[0m\u001b]8;id=958179;file://D:\\MIUN\\DT002G\\github_metric_extractor\\analysis\\git_miner.py#77\u001b\\\u001b[2m77\u001b[0m\u001b]8;;\u001b\\\n",
       "\u001b[2;36m                    \u001b[0m         \u001b[1m(\u001b[0m\u001b[1;36m100\u001b[0m\u001b[1m)\u001b[0m. Expected type \u001b[32m'String'\u001b[0m.                                         \u001b[2m               \u001b[0m\n"
      ]
     },
     "metadata": {},
     "output_type": "display_data"
    },
    {
     "data": {
      "text/html": [
       "<pre style=\"white-space:pre;overflow-x:auto;line-height:normal;font-family:Menlo,'DejaVu Sans Mono',consolas,'Courier New',monospace\"><span style=\"color: #7fbfbf; text-decoration-color: #7fbfbf\">[03/12/24 19:02:51] </span><span style=\"color: #800000; text-decoration-color: #800000; font-weight: bold\">ERROR   </span> root - Argument <span style=\"color: #008000; text-decoration-color: #008000\">'after'</span> on Field <span style=\"color: #008000; text-decoration-color: #008000\">'stargazers'</span> has an invalid value     <a href=\"file://D:\\MIUN\\DT002G\\github_metric_extractor\\analysis\\git_miner.py\" target=\"_blank\"><span style=\"color: #7f7f7f; text-decoration-color: #7f7f7f\">git_miner.py</span></a><span style=\"color: #7f7f7f; text-decoration-color: #7f7f7f\">:</span><a href=\"file://D:\\MIUN\\DT002G\\github_metric_extractor\\analysis\\git_miner.py#77\" target=\"_blank\"><span style=\"color: #7f7f7f; text-decoration-color: #7f7f7f\">77</span></a>\n",
       "<span style=\"color: #7fbfbf; text-decoration-color: #7fbfbf\">                    </span>         <span style=\"font-weight: bold\">(</span><span style=\"color: #008080; text-decoration-color: #008080; font-weight: bold\">100</span><span style=\"font-weight: bold\">)</span>. Expected type <span style=\"color: #008000; text-decoration-color: #008000\">'String'</span>.                                         <span style=\"color: #7f7f7f; text-decoration-color: #7f7f7f\">               </span>\n",
       "</pre>\n"
      ],
      "text/plain": [
       "\u001b[2;36m[03/12/24 19:02:51]\u001b[0m\u001b[2;36m \u001b[0m\u001b[1;31mERROR   \u001b[0m root - Argument \u001b[32m'after'\u001b[0m on Field \u001b[32m'stargazers'\u001b[0m has an invalid value     \u001b]8;id=976379;file://D:\\MIUN\\DT002G\\github_metric_extractor\\analysis\\git_miner.py\u001b\\\u001b[2mgit_miner.py\u001b[0m\u001b]8;;\u001b\\\u001b[2m:\u001b[0m\u001b]8;id=433549;file://D:\\MIUN\\DT002G\\github_metric_extractor\\analysis\\git_miner.py#77\u001b\\\u001b[2m77\u001b[0m\u001b]8;;\u001b\\\n",
       "\u001b[2;36m                    \u001b[0m         \u001b[1m(\u001b[0m\u001b[1;36m100\u001b[0m\u001b[1m)\u001b[0m. Expected type \u001b[32m'String'\u001b[0m.                                         \u001b[2m               \u001b[0m\n"
      ]
     },
     "metadata": {},
     "output_type": "display_data"
    },
    {
     "data": {
      "text/html": [
       "<pre style=\"white-space:pre;overflow-x:auto;line-height:normal;font-family:Menlo,'DejaVu Sans Mono',consolas,'Courier New',monospace\"><span style=\"color: #7fbfbf; text-decoration-color: #7fbfbf\">                    </span><span style=\"color: #800000; text-decoration-color: #800000; font-weight: bold\">ERROR   </span> root - Argument <span style=\"color: #008000; text-decoration-color: #008000\">'after'</span> on Field <span style=\"color: #008000; text-decoration-color: #008000\">'stargazers'</span> has an invalid value     <a href=\"file://D:\\MIUN\\DT002G\\github_metric_extractor\\analysis\\git_miner.py\" target=\"_blank\"><span style=\"color: #7f7f7f; text-decoration-color: #7f7f7f\">git_miner.py</span></a><span style=\"color: #7f7f7f; text-decoration-color: #7f7f7f\">:</span><a href=\"file://D:\\MIUN\\DT002G\\github_metric_extractor\\analysis\\git_miner.py#77\" target=\"_blank\"><span style=\"color: #7f7f7f; text-decoration-color: #7f7f7f\">77</span></a>\n",
       "<span style=\"color: #7fbfbf; text-decoration-color: #7fbfbf\">                    </span>         <span style=\"font-weight: bold\">(</span><span style=\"color: #008080; text-decoration-color: #008080; font-weight: bold\">100</span><span style=\"font-weight: bold\">)</span>. Expected type <span style=\"color: #008000; text-decoration-color: #008000\">'String'</span>.                                         <span style=\"color: #7f7f7f; text-decoration-color: #7f7f7f\">               </span>\n",
       "</pre>\n"
      ],
      "text/plain": [
       "\u001b[2;36m                   \u001b[0m\u001b[2;36m \u001b[0m\u001b[1;31mERROR   \u001b[0m root - Argument \u001b[32m'after'\u001b[0m on Field \u001b[32m'stargazers'\u001b[0m has an invalid value     \u001b]8;id=303953;file://D:\\MIUN\\DT002G\\github_metric_extractor\\analysis\\git_miner.py\u001b\\\u001b[2mgit_miner.py\u001b[0m\u001b]8;;\u001b\\\u001b[2m:\u001b[0m\u001b]8;id=731819;file://D:\\MIUN\\DT002G\\github_metric_extractor\\analysis\\git_miner.py#77\u001b\\\u001b[2m77\u001b[0m\u001b]8;;\u001b\\\n",
       "\u001b[2;36m                    \u001b[0m         \u001b[1m(\u001b[0m\u001b[1;36m100\u001b[0m\u001b[1m)\u001b[0m. Expected type \u001b[32m'String'\u001b[0m.                                         \u001b[2m               \u001b[0m\n"
      ]
     },
     "metadata": {},
     "output_type": "display_data"
    },
    {
     "data": {
      "text/html": [
       "<pre style=\"white-space:pre;overflow-x:auto;line-height:normal;font-family:Menlo,'DejaVu Sans Mono',consolas,'Courier New',monospace\"><span style=\"color: #7fbfbf; text-decoration-color: #7fbfbf\">                    </span><span style=\"color: #800000; text-decoration-color: #800000; font-weight: bold\">ERROR   </span> root - Argument <span style=\"color: #008000; text-decoration-color: #008000\">'after'</span> on Field <span style=\"color: #008000; text-decoration-color: #008000\">'stargazers'</span> has an invalid value     <a href=\"file://D:\\MIUN\\DT002G\\github_metric_extractor\\analysis\\git_miner.py\" target=\"_blank\"><span style=\"color: #7f7f7f; text-decoration-color: #7f7f7f\">git_miner.py</span></a><span style=\"color: #7f7f7f; text-decoration-color: #7f7f7f\">:</span><a href=\"file://D:\\MIUN\\DT002G\\github_metric_extractor\\analysis\\git_miner.py#77\" target=\"_blank\"><span style=\"color: #7f7f7f; text-decoration-color: #7f7f7f\">77</span></a>\n",
       "<span style=\"color: #7fbfbf; text-decoration-color: #7fbfbf\">                    </span>         <span style=\"font-weight: bold\">(</span><span style=\"color: #008080; text-decoration-color: #008080; font-weight: bold\">100</span><span style=\"font-weight: bold\">)</span>. Expected type <span style=\"color: #008000; text-decoration-color: #008000\">'String'</span>.                                         <span style=\"color: #7f7f7f; text-decoration-color: #7f7f7f\">               </span>\n",
       "</pre>\n"
      ],
      "text/plain": [
       "\u001b[2;36m                   \u001b[0m\u001b[2;36m \u001b[0m\u001b[1;31mERROR   \u001b[0m root - Argument \u001b[32m'after'\u001b[0m on Field \u001b[32m'stargazers'\u001b[0m has an invalid value     \u001b]8;id=75145;file://D:\\MIUN\\DT002G\\github_metric_extractor\\analysis\\git_miner.py\u001b\\\u001b[2mgit_miner.py\u001b[0m\u001b]8;;\u001b\\\u001b[2m:\u001b[0m\u001b]8;id=862703;file://D:\\MIUN\\DT002G\\github_metric_extractor\\analysis\\git_miner.py#77\u001b\\\u001b[2m77\u001b[0m\u001b]8;;\u001b\\\n",
       "\u001b[2;36m                    \u001b[0m         \u001b[1m(\u001b[0m\u001b[1;36m100\u001b[0m\u001b[1m)\u001b[0m. Expected type \u001b[32m'String'\u001b[0m.                                         \u001b[2m               \u001b[0m\n"
      ]
     },
     "metadata": {},
     "output_type": "display_data"
    },
    {
     "data": {
      "text/html": [
       "<pre style=\"white-space:pre;overflow-x:auto;line-height:normal;font-family:Menlo,'DejaVu Sans Mono',consolas,'Courier New',monospace\"><span style=\"color: #7fbfbf; text-decoration-color: #7fbfbf\">[03/12/24 19:02:52] </span><span style=\"color: #800000; text-decoration-color: #800000; font-weight: bold\">ERROR   </span> root - Argument <span style=\"color: #008000; text-decoration-color: #008000\">'after'</span> on Field <span style=\"color: #008000; text-decoration-color: #008000\">'stargazers'</span> has an invalid value     <a href=\"file://D:\\MIUN\\DT002G\\github_metric_extractor\\analysis\\git_miner.py\" target=\"_blank\"><span style=\"color: #7f7f7f; text-decoration-color: #7f7f7f\">git_miner.py</span></a><span style=\"color: #7f7f7f; text-decoration-color: #7f7f7f\">:</span><a href=\"file://D:\\MIUN\\DT002G\\github_metric_extractor\\analysis\\git_miner.py#77\" target=\"_blank\"><span style=\"color: #7f7f7f; text-decoration-color: #7f7f7f\">77</span></a>\n",
       "<span style=\"color: #7fbfbf; text-decoration-color: #7fbfbf\">                    </span>         <span style=\"font-weight: bold\">(</span><span style=\"color: #008080; text-decoration-color: #008080; font-weight: bold\">100</span><span style=\"font-weight: bold\">)</span>. Expected type <span style=\"color: #008000; text-decoration-color: #008000\">'String'</span>.                                         <span style=\"color: #7f7f7f; text-decoration-color: #7f7f7f\">               </span>\n",
       "</pre>\n"
      ],
      "text/plain": [
       "\u001b[2;36m[03/12/24 19:02:52]\u001b[0m\u001b[2;36m \u001b[0m\u001b[1;31mERROR   \u001b[0m root - Argument \u001b[32m'after'\u001b[0m on Field \u001b[32m'stargazers'\u001b[0m has an invalid value     \u001b]8;id=960141;file://D:\\MIUN\\DT002G\\github_metric_extractor\\analysis\\git_miner.py\u001b\\\u001b[2mgit_miner.py\u001b[0m\u001b]8;;\u001b\\\u001b[2m:\u001b[0m\u001b]8;id=998324;file://D:\\MIUN\\DT002G\\github_metric_extractor\\analysis\\git_miner.py#77\u001b\\\u001b[2m77\u001b[0m\u001b]8;;\u001b\\\n",
       "\u001b[2;36m                    \u001b[0m         \u001b[1m(\u001b[0m\u001b[1;36m100\u001b[0m\u001b[1m)\u001b[0m. Expected type \u001b[32m'String'\u001b[0m.                                         \u001b[2m               \u001b[0m\n"
      ]
     },
     "metadata": {},
     "output_type": "display_data"
    },
    {
     "data": {
      "text/html": [
       "<pre style=\"white-space:pre;overflow-x:auto;line-height:normal;font-family:Menlo,'DejaVu Sans Mono',consolas,'Courier New',monospace\"><span style=\"color: #7fbfbf; text-decoration-color: #7fbfbf\">                    </span><span style=\"color: #800000; text-decoration-color: #800000; font-weight: bold\">ERROR   </span> root - Argument <span style=\"color: #008000; text-decoration-color: #008000\">'after'</span> on Field <span style=\"color: #008000; text-decoration-color: #008000\">'stargazers'</span> has an invalid value     <a href=\"file://D:\\MIUN\\DT002G\\github_metric_extractor\\analysis\\git_miner.py\" target=\"_blank\"><span style=\"color: #7f7f7f; text-decoration-color: #7f7f7f\">git_miner.py</span></a><span style=\"color: #7f7f7f; text-decoration-color: #7f7f7f\">:</span><a href=\"file://D:\\MIUN\\DT002G\\github_metric_extractor\\analysis\\git_miner.py#77\" target=\"_blank\"><span style=\"color: #7f7f7f; text-decoration-color: #7f7f7f\">77</span></a>\n",
       "<span style=\"color: #7fbfbf; text-decoration-color: #7fbfbf\">                    </span>         <span style=\"font-weight: bold\">(</span><span style=\"color: #008080; text-decoration-color: #008080; font-weight: bold\">100</span><span style=\"font-weight: bold\">)</span>. Expected type <span style=\"color: #008000; text-decoration-color: #008000\">'String'</span>.                                         <span style=\"color: #7f7f7f; text-decoration-color: #7f7f7f\">               </span>\n",
       "</pre>\n"
      ],
      "text/plain": [
       "\u001b[2;36m                   \u001b[0m\u001b[2;36m \u001b[0m\u001b[1;31mERROR   \u001b[0m root - Argument \u001b[32m'after'\u001b[0m on Field \u001b[32m'stargazers'\u001b[0m has an invalid value     \u001b]8;id=458222;file://D:\\MIUN\\DT002G\\github_metric_extractor\\analysis\\git_miner.py\u001b\\\u001b[2mgit_miner.py\u001b[0m\u001b]8;;\u001b\\\u001b[2m:\u001b[0m\u001b]8;id=442456;file://D:\\MIUN\\DT002G\\github_metric_extractor\\analysis\\git_miner.py#77\u001b\\\u001b[2m77\u001b[0m\u001b]8;;\u001b\\\n",
       "\u001b[2;36m                    \u001b[0m         \u001b[1m(\u001b[0m\u001b[1;36m100\u001b[0m\u001b[1m)\u001b[0m. Expected type \u001b[32m'String'\u001b[0m.                                         \u001b[2m               \u001b[0m\n"
      ]
     },
     "metadata": {},
     "output_type": "display_data"
    },
    {
     "data": {
      "text/html": [
       "<pre style=\"white-space:pre;overflow-x:auto;line-height:normal;font-family:Menlo,'DejaVu Sans Mono',consolas,'Courier New',monospace\"><span style=\"color: #7fbfbf; text-decoration-color: #7fbfbf\">                    </span><span style=\"color: #800000; text-decoration-color: #800000; font-weight: bold\">ERROR   </span> root - Argument <span style=\"color: #008000; text-decoration-color: #008000\">'after'</span> on Field <span style=\"color: #008000; text-decoration-color: #008000\">'stargazers'</span> has an invalid value     <a href=\"file://D:\\MIUN\\DT002G\\github_metric_extractor\\analysis\\git_miner.py\" target=\"_blank\"><span style=\"color: #7f7f7f; text-decoration-color: #7f7f7f\">git_miner.py</span></a><span style=\"color: #7f7f7f; text-decoration-color: #7f7f7f\">:</span><a href=\"file://D:\\MIUN\\DT002G\\github_metric_extractor\\analysis\\git_miner.py#77\" target=\"_blank\"><span style=\"color: #7f7f7f; text-decoration-color: #7f7f7f\">77</span></a>\n",
       "<span style=\"color: #7fbfbf; text-decoration-color: #7fbfbf\">                    </span>         <span style=\"font-weight: bold\">(</span><span style=\"color: #008080; text-decoration-color: #008080; font-weight: bold\">100</span><span style=\"font-weight: bold\">)</span>. Expected type <span style=\"color: #008000; text-decoration-color: #008000\">'String'</span>.                                         <span style=\"color: #7f7f7f; text-decoration-color: #7f7f7f\">               </span>\n",
       "</pre>\n"
      ],
      "text/plain": [
       "\u001b[2;36m                   \u001b[0m\u001b[2;36m \u001b[0m\u001b[1;31mERROR   \u001b[0m root - Argument \u001b[32m'after'\u001b[0m on Field \u001b[32m'stargazers'\u001b[0m has an invalid value     \u001b]8;id=299424;file://D:\\MIUN\\DT002G\\github_metric_extractor\\analysis\\git_miner.py\u001b\\\u001b[2mgit_miner.py\u001b[0m\u001b]8;;\u001b\\\u001b[2m:\u001b[0m\u001b]8;id=701457;file://D:\\MIUN\\DT002G\\github_metric_extractor\\analysis\\git_miner.py#77\u001b\\\u001b[2m77\u001b[0m\u001b]8;;\u001b\\\n",
       "\u001b[2;36m                    \u001b[0m         \u001b[1m(\u001b[0m\u001b[1;36m100\u001b[0m\u001b[1m)\u001b[0m. Expected type \u001b[32m'String'\u001b[0m.                                         \u001b[2m               \u001b[0m\n"
      ]
     },
     "metadata": {},
     "output_type": "display_data"
    },
    {
     "data": {
      "text/html": [
       "<pre style=\"white-space:pre;overflow-x:auto;line-height:normal;font-family:Menlo,'DejaVu Sans Mono',consolas,'Courier New',monospace\"><span style=\"color: #7fbfbf; text-decoration-color: #7fbfbf\">[03/12/24 19:02:53] </span><span style=\"color: #800000; text-decoration-color: #800000; font-weight: bold\">ERROR   </span> root - Argument <span style=\"color: #008000; text-decoration-color: #008000\">'after'</span> on Field <span style=\"color: #008000; text-decoration-color: #008000\">'stargazers'</span> has an invalid value     <a href=\"file://D:\\MIUN\\DT002G\\github_metric_extractor\\analysis\\git_miner.py\" target=\"_blank\"><span style=\"color: #7f7f7f; text-decoration-color: #7f7f7f\">git_miner.py</span></a><span style=\"color: #7f7f7f; text-decoration-color: #7f7f7f\">:</span><a href=\"file://D:\\MIUN\\DT002G\\github_metric_extractor\\analysis\\git_miner.py#77\" target=\"_blank\"><span style=\"color: #7f7f7f; text-decoration-color: #7f7f7f\">77</span></a>\n",
       "<span style=\"color: #7fbfbf; text-decoration-color: #7fbfbf\">                    </span>         <span style=\"font-weight: bold\">(</span><span style=\"color: #008080; text-decoration-color: #008080; font-weight: bold\">100</span><span style=\"font-weight: bold\">)</span>. Expected type <span style=\"color: #008000; text-decoration-color: #008000\">'String'</span>.                                         <span style=\"color: #7f7f7f; text-decoration-color: #7f7f7f\">               </span>\n",
       "</pre>\n"
      ],
      "text/plain": [
       "\u001b[2;36m[03/12/24 19:02:53]\u001b[0m\u001b[2;36m \u001b[0m\u001b[1;31mERROR   \u001b[0m root - Argument \u001b[32m'after'\u001b[0m on Field \u001b[32m'stargazers'\u001b[0m has an invalid value     \u001b]8;id=40553;file://D:\\MIUN\\DT002G\\github_metric_extractor\\analysis\\git_miner.py\u001b\\\u001b[2mgit_miner.py\u001b[0m\u001b]8;;\u001b\\\u001b[2m:\u001b[0m\u001b]8;id=728367;file://D:\\MIUN\\DT002G\\github_metric_extractor\\analysis\\git_miner.py#77\u001b\\\u001b[2m77\u001b[0m\u001b]8;;\u001b\\\n",
       "\u001b[2;36m                    \u001b[0m         \u001b[1m(\u001b[0m\u001b[1;36m100\u001b[0m\u001b[1m)\u001b[0m. Expected type \u001b[32m'String'\u001b[0m.                                         \u001b[2m               \u001b[0m\n"
      ]
     },
     "metadata": {},
     "output_type": "display_data"
    },
    {
     "data": {
      "text/html": [
       "<pre style=\"white-space:pre;overflow-x:auto;line-height:normal;font-family:Menlo,'DejaVu Sans Mono',consolas,'Courier New',monospace\"><span style=\"color: #7fbfbf; text-decoration-color: #7fbfbf\">                    </span><span style=\"color: #800000; text-decoration-color: #800000; font-weight: bold\">ERROR   </span> root - Argument <span style=\"color: #008000; text-decoration-color: #008000\">'after'</span> on Field <span style=\"color: #008000; text-decoration-color: #008000\">'stargazers'</span> has an invalid value     <a href=\"file://D:\\MIUN\\DT002G\\github_metric_extractor\\analysis\\git_miner.py\" target=\"_blank\"><span style=\"color: #7f7f7f; text-decoration-color: #7f7f7f\">git_miner.py</span></a><span style=\"color: #7f7f7f; text-decoration-color: #7f7f7f\">:</span><a href=\"file://D:\\MIUN\\DT002G\\github_metric_extractor\\analysis\\git_miner.py#77\" target=\"_blank\"><span style=\"color: #7f7f7f; text-decoration-color: #7f7f7f\">77</span></a>\n",
       "<span style=\"color: #7fbfbf; text-decoration-color: #7fbfbf\">                    </span>         <span style=\"font-weight: bold\">(</span><span style=\"color: #008080; text-decoration-color: #008080; font-weight: bold\">100</span><span style=\"font-weight: bold\">)</span>. Expected type <span style=\"color: #008000; text-decoration-color: #008000\">'String'</span>.                                         <span style=\"color: #7f7f7f; text-decoration-color: #7f7f7f\">               </span>\n",
       "</pre>\n"
      ],
      "text/plain": [
       "\u001b[2;36m                   \u001b[0m\u001b[2;36m \u001b[0m\u001b[1;31mERROR   \u001b[0m root - Argument \u001b[32m'after'\u001b[0m on Field \u001b[32m'stargazers'\u001b[0m has an invalid value     \u001b]8;id=355204;file://D:\\MIUN\\DT002G\\github_metric_extractor\\analysis\\git_miner.py\u001b\\\u001b[2mgit_miner.py\u001b[0m\u001b]8;;\u001b\\\u001b[2m:\u001b[0m\u001b]8;id=415444;file://D:\\MIUN\\DT002G\\github_metric_extractor\\analysis\\git_miner.py#77\u001b\\\u001b[2m77\u001b[0m\u001b]8;;\u001b\\\n",
       "\u001b[2;36m                    \u001b[0m         \u001b[1m(\u001b[0m\u001b[1;36m100\u001b[0m\u001b[1m)\u001b[0m. Expected type \u001b[32m'String'\u001b[0m.                                         \u001b[2m               \u001b[0m\n"
      ]
     },
     "metadata": {},
     "output_type": "display_data"
    },
    {
     "data": {
      "text/html": [
       "<pre style=\"white-space:pre;overflow-x:auto;line-height:normal;font-family:Menlo,'DejaVu Sans Mono',consolas,'Courier New',monospace\"><span style=\"color: #7fbfbf; text-decoration-color: #7fbfbf\">                    </span><span style=\"color: #800000; text-decoration-color: #800000; font-weight: bold\">ERROR   </span> root - Argument <span style=\"color: #008000; text-decoration-color: #008000\">'after'</span> on Field <span style=\"color: #008000; text-decoration-color: #008000\">'stargazers'</span> has an invalid value     <a href=\"file://D:\\MIUN\\DT002G\\github_metric_extractor\\analysis\\git_miner.py\" target=\"_blank\"><span style=\"color: #7f7f7f; text-decoration-color: #7f7f7f\">git_miner.py</span></a><span style=\"color: #7f7f7f; text-decoration-color: #7f7f7f\">:</span><a href=\"file://D:\\MIUN\\DT002G\\github_metric_extractor\\analysis\\git_miner.py#77\" target=\"_blank\"><span style=\"color: #7f7f7f; text-decoration-color: #7f7f7f\">77</span></a>\n",
       "<span style=\"color: #7fbfbf; text-decoration-color: #7fbfbf\">                    </span>         <span style=\"font-weight: bold\">(</span><span style=\"color: #008080; text-decoration-color: #008080; font-weight: bold\">100</span><span style=\"font-weight: bold\">)</span>. Expected type <span style=\"color: #008000; text-decoration-color: #008000\">'String'</span>.                                         <span style=\"color: #7f7f7f; text-decoration-color: #7f7f7f\">               </span>\n",
       "</pre>\n"
      ],
      "text/plain": [
       "\u001b[2;36m                   \u001b[0m\u001b[2;36m \u001b[0m\u001b[1;31mERROR   \u001b[0m root - Argument \u001b[32m'after'\u001b[0m on Field \u001b[32m'stargazers'\u001b[0m has an invalid value     \u001b]8;id=344761;file://D:\\MIUN\\DT002G\\github_metric_extractor\\analysis\\git_miner.py\u001b\\\u001b[2mgit_miner.py\u001b[0m\u001b]8;;\u001b\\\u001b[2m:\u001b[0m\u001b]8;id=691810;file://D:\\MIUN\\DT002G\\github_metric_extractor\\analysis\\git_miner.py#77\u001b\\\u001b[2m77\u001b[0m\u001b]8;;\u001b\\\n",
       "\u001b[2;36m                    \u001b[0m         \u001b[1m(\u001b[0m\u001b[1;36m100\u001b[0m\u001b[1m)\u001b[0m. Expected type \u001b[32m'String'\u001b[0m.                                         \u001b[2m               \u001b[0m\n"
      ]
     },
     "metadata": {},
     "output_type": "display_data"
    },
    {
     "data": {
      "text/html": [
       "<pre style=\"white-space:pre;overflow-x:auto;line-height:normal;font-family:Menlo,'DejaVu Sans Mono',consolas,'Courier New',monospace\"><span style=\"color: #7fbfbf; text-decoration-color: #7fbfbf\">                    </span><span style=\"color: #800000; text-decoration-color: #800000; font-weight: bold\">ERROR   </span> root - Argument <span style=\"color: #008000; text-decoration-color: #008000\">'after'</span> on Field <span style=\"color: #008000; text-decoration-color: #008000\">'stargazers'</span> has an invalid value     <a href=\"file://D:\\MIUN\\DT002G\\github_metric_extractor\\analysis\\git_miner.py\" target=\"_blank\"><span style=\"color: #7f7f7f; text-decoration-color: #7f7f7f\">git_miner.py</span></a><span style=\"color: #7f7f7f; text-decoration-color: #7f7f7f\">:</span><a href=\"file://D:\\MIUN\\DT002G\\github_metric_extractor\\analysis\\git_miner.py#77\" target=\"_blank\"><span style=\"color: #7f7f7f; text-decoration-color: #7f7f7f\">77</span></a>\n",
       "<span style=\"color: #7fbfbf; text-decoration-color: #7fbfbf\">                    </span>         <span style=\"font-weight: bold\">(</span><span style=\"color: #008080; text-decoration-color: #008080; font-weight: bold\">100</span><span style=\"font-weight: bold\">)</span>. Expected type <span style=\"color: #008000; text-decoration-color: #008000\">'String'</span>.                                         <span style=\"color: #7f7f7f; text-decoration-color: #7f7f7f\">               </span>\n",
       "</pre>\n"
      ],
      "text/plain": [
       "\u001b[2;36m                   \u001b[0m\u001b[2;36m \u001b[0m\u001b[1;31mERROR   \u001b[0m root - Argument \u001b[32m'after'\u001b[0m on Field \u001b[32m'stargazers'\u001b[0m has an invalid value     \u001b]8;id=464553;file://D:\\MIUN\\DT002G\\github_metric_extractor\\analysis\\git_miner.py\u001b\\\u001b[2mgit_miner.py\u001b[0m\u001b]8;;\u001b\\\u001b[2m:\u001b[0m\u001b]8;id=515985;file://D:\\MIUN\\DT002G\\github_metric_extractor\\analysis\\git_miner.py#77\u001b\\\u001b[2m77\u001b[0m\u001b]8;;\u001b\\\n",
       "\u001b[2;36m                    \u001b[0m         \u001b[1m(\u001b[0m\u001b[1;36m100\u001b[0m\u001b[1m)\u001b[0m. Expected type \u001b[32m'String'\u001b[0m.                                         \u001b[2m               \u001b[0m\n"
      ]
     },
     "metadata": {},
     "output_type": "display_data"
    },
    {
     "data": {
      "text/html": [
       "<pre style=\"white-space:pre;overflow-x:auto;line-height:normal;font-family:Menlo,'DejaVu Sans Mono',consolas,'Courier New',monospace\"><span style=\"color: #7fbfbf; text-decoration-color: #7fbfbf\">[03/12/24 19:02:54] </span><span style=\"color: #800000; text-decoration-color: #800000; font-weight: bold\">ERROR   </span> root - Argument <span style=\"color: #008000; text-decoration-color: #008000\">'after'</span> on Field <span style=\"color: #008000; text-decoration-color: #008000\">'stargazers'</span> has an invalid value     <a href=\"file://D:\\MIUN\\DT002G\\github_metric_extractor\\analysis\\git_miner.py\" target=\"_blank\"><span style=\"color: #7f7f7f; text-decoration-color: #7f7f7f\">git_miner.py</span></a><span style=\"color: #7f7f7f; text-decoration-color: #7f7f7f\">:</span><a href=\"file://D:\\MIUN\\DT002G\\github_metric_extractor\\analysis\\git_miner.py#77\" target=\"_blank\"><span style=\"color: #7f7f7f; text-decoration-color: #7f7f7f\">77</span></a>\n",
       "<span style=\"color: #7fbfbf; text-decoration-color: #7fbfbf\">                    </span>         <span style=\"font-weight: bold\">(</span><span style=\"color: #008080; text-decoration-color: #008080; font-weight: bold\">100</span><span style=\"font-weight: bold\">)</span>. Expected type <span style=\"color: #008000; text-decoration-color: #008000\">'String'</span>.                                         <span style=\"color: #7f7f7f; text-decoration-color: #7f7f7f\">               </span>\n",
       "</pre>\n"
      ],
      "text/plain": [
       "\u001b[2;36m[03/12/24 19:02:54]\u001b[0m\u001b[2;36m \u001b[0m\u001b[1;31mERROR   \u001b[0m root - Argument \u001b[32m'after'\u001b[0m on Field \u001b[32m'stargazers'\u001b[0m has an invalid value     \u001b]8;id=460342;file://D:\\MIUN\\DT002G\\github_metric_extractor\\analysis\\git_miner.py\u001b\\\u001b[2mgit_miner.py\u001b[0m\u001b]8;;\u001b\\\u001b[2m:\u001b[0m\u001b]8;id=522226;file://D:\\MIUN\\DT002G\\github_metric_extractor\\analysis\\git_miner.py#77\u001b\\\u001b[2m77\u001b[0m\u001b]8;;\u001b\\\n",
       "\u001b[2;36m                    \u001b[0m         \u001b[1m(\u001b[0m\u001b[1;36m100\u001b[0m\u001b[1m)\u001b[0m. Expected type \u001b[32m'String'\u001b[0m.                                         \u001b[2m               \u001b[0m\n"
      ]
     },
     "metadata": {},
     "output_type": "display_data"
    },
    {
     "data": {
      "text/html": [
       "<pre style=\"white-space:pre;overflow-x:auto;line-height:normal;font-family:Menlo,'DejaVu Sans Mono',consolas,'Courier New',monospace\"><span style=\"color: #7fbfbf; text-decoration-color: #7fbfbf\">                    </span><span style=\"color: #800000; text-decoration-color: #800000; font-weight: bold\">ERROR   </span> root - Argument <span style=\"color: #008000; text-decoration-color: #008000\">'after'</span> on Field <span style=\"color: #008000; text-decoration-color: #008000\">'stargazers'</span> has an invalid value     <a href=\"file://D:\\MIUN\\DT002G\\github_metric_extractor\\analysis\\git_miner.py\" target=\"_blank\"><span style=\"color: #7f7f7f; text-decoration-color: #7f7f7f\">git_miner.py</span></a><span style=\"color: #7f7f7f; text-decoration-color: #7f7f7f\">:</span><a href=\"file://D:\\MIUN\\DT002G\\github_metric_extractor\\analysis\\git_miner.py#77\" target=\"_blank\"><span style=\"color: #7f7f7f; text-decoration-color: #7f7f7f\">77</span></a>\n",
       "<span style=\"color: #7fbfbf; text-decoration-color: #7fbfbf\">                    </span>         <span style=\"font-weight: bold\">(</span><span style=\"color: #008080; text-decoration-color: #008080; font-weight: bold\">100</span><span style=\"font-weight: bold\">)</span>. Expected type <span style=\"color: #008000; text-decoration-color: #008000\">'String'</span>.                                         <span style=\"color: #7f7f7f; text-decoration-color: #7f7f7f\">               </span>\n",
       "</pre>\n"
      ],
      "text/plain": [
       "\u001b[2;36m                   \u001b[0m\u001b[2;36m \u001b[0m\u001b[1;31mERROR   \u001b[0m root - Argument \u001b[32m'after'\u001b[0m on Field \u001b[32m'stargazers'\u001b[0m has an invalid value     \u001b]8;id=302774;file://D:\\MIUN\\DT002G\\github_metric_extractor\\analysis\\git_miner.py\u001b\\\u001b[2mgit_miner.py\u001b[0m\u001b]8;;\u001b\\\u001b[2m:\u001b[0m\u001b]8;id=865595;file://D:\\MIUN\\DT002G\\github_metric_extractor\\analysis\\git_miner.py#77\u001b\\\u001b[2m77\u001b[0m\u001b]8;;\u001b\\\n",
       "\u001b[2;36m                    \u001b[0m         \u001b[1m(\u001b[0m\u001b[1;36m100\u001b[0m\u001b[1m)\u001b[0m. Expected type \u001b[32m'String'\u001b[0m.                                         \u001b[2m               \u001b[0m\n"
      ]
     },
     "metadata": {},
     "output_type": "display_data"
    },
    {
     "data": {
      "text/html": [
       "<pre style=\"white-space:pre;overflow-x:auto;line-height:normal;font-family:Menlo,'DejaVu Sans Mono',consolas,'Courier New',monospace\"><span style=\"color: #7fbfbf; text-decoration-color: #7fbfbf\">                    </span><span style=\"color: #800000; text-decoration-color: #800000; font-weight: bold\">ERROR   </span> root - Argument <span style=\"color: #008000; text-decoration-color: #008000\">'after'</span> on Field <span style=\"color: #008000; text-decoration-color: #008000\">'stargazers'</span> has an invalid value     <a href=\"file://D:\\MIUN\\DT002G\\github_metric_extractor\\analysis\\git_miner.py\" target=\"_blank\"><span style=\"color: #7f7f7f; text-decoration-color: #7f7f7f\">git_miner.py</span></a><span style=\"color: #7f7f7f; text-decoration-color: #7f7f7f\">:</span><a href=\"file://D:\\MIUN\\DT002G\\github_metric_extractor\\analysis\\git_miner.py#77\" target=\"_blank\"><span style=\"color: #7f7f7f; text-decoration-color: #7f7f7f\">77</span></a>\n",
       "<span style=\"color: #7fbfbf; text-decoration-color: #7fbfbf\">                    </span>         <span style=\"font-weight: bold\">(</span><span style=\"color: #008080; text-decoration-color: #008080; font-weight: bold\">100</span><span style=\"font-weight: bold\">)</span>. Expected type <span style=\"color: #008000; text-decoration-color: #008000\">'String'</span>.                                         <span style=\"color: #7f7f7f; text-decoration-color: #7f7f7f\">               </span>\n",
       "</pre>\n"
      ],
      "text/plain": [
       "\u001b[2;36m                   \u001b[0m\u001b[2;36m \u001b[0m\u001b[1;31mERROR   \u001b[0m root - Argument \u001b[32m'after'\u001b[0m on Field \u001b[32m'stargazers'\u001b[0m has an invalid value     \u001b]8;id=422205;file://D:\\MIUN\\DT002G\\github_metric_extractor\\analysis\\git_miner.py\u001b\\\u001b[2mgit_miner.py\u001b[0m\u001b]8;;\u001b\\\u001b[2m:\u001b[0m\u001b]8;id=113324;file://D:\\MIUN\\DT002G\\github_metric_extractor\\analysis\\git_miner.py#77\u001b\\\u001b[2m77\u001b[0m\u001b]8;;\u001b\\\n",
       "\u001b[2;36m                    \u001b[0m         \u001b[1m(\u001b[0m\u001b[1;36m100\u001b[0m\u001b[1m)\u001b[0m. Expected type \u001b[32m'String'\u001b[0m.                                         \u001b[2m               \u001b[0m\n"
      ]
     },
     "metadata": {},
     "output_type": "display_data"
    },
    {
     "data": {
      "text/html": [
       "<pre style=\"white-space:pre;overflow-x:auto;line-height:normal;font-family:Menlo,'DejaVu Sans Mono',consolas,'Courier New',monospace\"><span style=\"color: #7fbfbf; text-decoration-color: #7fbfbf\">[03/12/24 19:02:55] </span><span style=\"color: #800000; text-decoration-color: #800000; font-weight: bold\">ERROR   </span> root - Argument <span style=\"color: #008000; text-decoration-color: #008000\">'after'</span> on Field <span style=\"color: #008000; text-decoration-color: #008000\">'stargazers'</span> has an invalid value     <a href=\"file://D:\\MIUN\\DT002G\\github_metric_extractor\\analysis\\git_miner.py\" target=\"_blank\"><span style=\"color: #7f7f7f; text-decoration-color: #7f7f7f\">git_miner.py</span></a><span style=\"color: #7f7f7f; text-decoration-color: #7f7f7f\">:</span><a href=\"file://D:\\MIUN\\DT002G\\github_metric_extractor\\analysis\\git_miner.py#77\" target=\"_blank\"><span style=\"color: #7f7f7f; text-decoration-color: #7f7f7f\">77</span></a>\n",
       "<span style=\"color: #7fbfbf; text-decoration-color: #7fbfbf\">                    </span>         <span style=\"font-weight: bold\">(</span><span style=\"color: #008080; text-decoration-color: #008080; font-weight: bold\">100</span><span style=\"font-weight: bold\">)</span>. Expected type <span style=\"color: #008000; text-decoration-color: #008000\">'String'</span>.                                         <span style=\"color: #7f7f7f; text-decoration-color: #7f7f7f\">               </span>\n",
       "</pre>\n"
      ],
      "text/plain": [
       "\u001b[2;36m[03/12/24 19:02:55]\u001b[0m\u001b[2;36m \u001b[0m\u001b[1;31mERROR   \u001b[0m root - Argument \u001b[32m'after'\u001b[0m on Field \u001b[32m'stargazers'\u001b[0m has an invalid value     \u001b]8;id=545479;file://D:\\MIUN\\DT002G\\github_metric_extractor\\analysis\\git_miner.py\u001b\\\u001b[2mgit_miner.py\u001b[0m\u001b]8;;\u001b\\\u001b[2m:\u001b[0m\u001b]8;id=783113;file://D:\\MIUN\\DT002G\\github_metric_extractor\\analysis\\git_miner.py#77\u001b\\\u001b[2m77\u001b[0m\u001b]8;;\u001b\\\n",
       "\u001b[2;36m                    \u001b[0m         \u001b[1m(\u001b[0m\u001b[1;36m100\u001b[0m\u001b[1m)\u001b[0m. Expected type \u001b[32m'String'\u001b[0m.                                         \u001b[2m               \u001b[0m\n"
      ]
     },
     "metadata": {},
     "output_type": "display_data"
    },
    {
     "data": {
      "text/html": [
       "<pre style=\"white-space:pre;overflow-x:auto;line-height:normal;font-family:Menlo,'DejaVu Sans Mono',consolas,'Courier New',monospace\"><span style=\"color: #7fbfbf; text-decoration-color: #7fbfbf\">                    </span><span style=\"color: #800000; text-decoration-color: #800000; font-weight: bold\">ERROR   </span> root - Argument <span style=\"color: #008000; text-decoration-color: #008000\">'after'</span> on Field <span style=\"color: #008000; text-decoration-color: #008000\">'stargazers'</span> has an invalid value     <a href=\"file://D:\\MIUN\\DT002G\\github_metric_extractor\\analysis\\git_miner.py\" target=\"_blank\"><span style=\"color: #7f7f7f; text-decoration-color: #7f7f7f\">git_miner.py</span></a><span style=\"color: #7f7f7f; text-decoration-color: #7f7f7f\">:</span><a href=\"file://D:\\MIUN\\DT002G\\github_metric_extractor\\analysis\\git_miner.py#77\" target=\"_blank\"><span style=\"color: #7f7f7f; text-decoration-color: #7f7f7f\">77</span></a>\n",
       "<span style=\"color: #7fbfbf; text-decoration-color: #7fbfbf\">                    </span>         <span style=\"font-weight: bold\">(</span><span style=\"color: #008080; text-decoration-color: #008080; font-weight: bold\">100</span><span style=\"font-weight: bold\">)</span>. Expected type <span style=\"color: #008000; text-decoration-color: #008000\">'String'</span>.                                         <span style=\"color: #7f7f7f; text-decoration-color: #7f7f7f\">               </span>\n",
       "</pre>\n"
      ],
      "text/plain": [
       "\u001b[2;36m                   \u001b[0m\u001b[2;36m \u001b[0m\u001b[1;31mERROR   \u001b[0m root - Argument \u001b[32m'after'\u001b[0m on Field \u001b[32m'stargazers'\u001b[0m has an invalid value     \u001b]8;id=524512;file://D:\\MIUN\\DT002G\\github_metric_extractor\\analysis\\git_miner.py\u001b\\\u001b[2mgit_miner.py\u001b[0m\u001b]8;;\u001b\\\u001b[2m:\u001b[0m\u001b]8;id=750375;file://D:\\MIUN\\DT002G\\github_metric_extractor\\analysis\\git_miner.py#77\u001b\\\u001b[2m77\u001b[0m\u001b]8;;\u001b\\\n",
       "\u001b[2;36m                    \u001b[0m         \u001b[1m(\u001b[0m\u001b[1;36m100\u001b[0m\u001b[1m)\u001b[0m. Expected type \u001b[32m'String'\u001b[0m.                                         \u001b[2m               \u001b[0m\n"
      ]
     },
     "metadata": {},
     "output_type": "display_data"
    },
    {
     "data": {
      "text/html": [
       "<pre style=\"white-space:pre;overflow-x:auto;line-height:normal;font-family:Menlo,'DejaVu Sans Mono',consolas,'Courier New',monospace\"><span style=\"color: #7fbfbf; text-decoration-color: #7fbfbf\">                    </span><span style=\"color: #800000; text-decoration-color: #800000; font-weight: bold\">ERROR   </span> root - Argument <span style=\"color: #008000; text-decoration-color: #008000\">'after'</span> on Field <span style=\"color: #008000; text-decoration-color: #008000\">'stargazers'</span> has an invalid value     <a href=\"file://D:\\MIUN\\DT002G\\github_metric_extractor\\analysis\\git_miner.py\" target=\"_blank\"><span style=\"color: #7f7f7f; text-decoration-color: #7f7f7f\">git_miner.py</span></a><span style=\"color: #7f7f7f; text-decoration-color: #7f7f7f\">:</span><a href=\"file://D:\\MIUN\\DT002G\\github_metric_extractor\\analysis\\git_miner.py#77\" target=\"_blank\"><span style=\"color: #7f7f7f; text-decoration-color: #7f7f7f\">77</span></a>\n",
       "<span style=\"color: #7fbfbf; text-decoration-color: #7fbfbf\">                    </span>         <span style=\"font-weight: bold\">(</span><span style=\"color: #008080; text-decoration-color: #008080; font-weight: bold\">100</span><span style=\"font-weight: bold\">)</span>. Expected type <span style=\"color: #008000; text-decoration-color: #008000\">'String'</span>.                                         <span style=\"color: #7f7f7f; text-decoration-color: #7f7f7f\">               </span>\n",
       "</pre>\n"
      ],
      "text/plain": [
       "\u001b[2;36m                   \u001b[0m\u001b[2;36m \u001b[0m\u001b[1;31mERROR   \u001b[0m root - Argument \u001b[32m'after'\u001b[0m on Field \u001b[32m'stargazers'\u001b[0m has an invalid value     \u001b]8;id=694946;file://D:\\MIUN\\DT002G\\github_metric_extractor\\analysis\\git_miner.py\u001b\\\u001b[2mgit_miner.py\u001b[0m\u001b]8;;\u001b\\\u001b[2m:\u001b[0m\u001b]8;id=55976;file://D:\\MIUN\\DT002G\\github_metric_extractor\\analysis\\git_miner.py#77\u001b\\\u001b[2m77\u001b[0m\u001b]8;;\u001b\\\n",
       "\u001b[2;36m                    \u001b[0m         \u001b[1m(\u001b[0m\u001b[1;36m100\u001b[0m\u001b[1m)\u001b[0m. Expected type \u001b[32m'String'\u001b[0m.                                         \u001b[2m               \u001b[0m\n"
      ]
     },
     "metadata": {},
     "output_type": "display_data"
    },
    {
     "data": {
      "text/html": [
       "<pre style=\"white-space:pre;overflow-x:auto;line-height:normal;font-family:Menlo,'DejaVu Sans Mono',consolas,'Courier New',monospace\"><span style=\"color: #7fbfbf; text-decoration-color: #7fbfbf\">                    </span><span style=\"color: #800000; text-decoration-color: #800000; font-weight: bold\">ERROR   </span> root - Argument <span style=\"color: #008000; text-decoration-color: #008000\">'after'</span> on Field <span style=\"color: #008000; text-decoration-color: #008000\">'stargazers'</span> has an invalid value     <a href=\"file://D:\\MIUN\\DT002G\\github_metric_extractor\\analysis\\git_miner.py\" target=\"_blank\"><span style=\"color: #7f7f7f; text-decoration-color: #7f7f7f\">git_miner.py</span></a><span style=\"color: #7f7f7f; text-decoration-color: #7f7f7f\">:</span><a href=\"file://D:\\MIUN\\DT002G\\github_metric_extractor\\analysis\\git_miner.py#77\" target=\"_blank\"><span style=\"color: #7f7f7f; text-decoration-color: #7f7f7f\">77</span></a>\n",
       "<span style=\"color: #7fbfbf; text-decoration-color: #7fbfbf\">                    </span>         <span style=\"font-weight: bold\">(</span><span style=\"color: #008080; text-decoration-color: #008080; font-weight: bold\">100</span><span style=\"font-weight: bold\">)</span>. Expected type <span style=\"color: #008000; text-decoration-color: #008000\">'String'</span>.                                         <span style=\"color: #7f7f7f; text-decoration-color: #7f7f7f\">               </span>\n",
       "</pre>\n"
      ],
      "text/plain": [
       "\u001b[2;36m                   \u001b[0m\u001b[2;36m \u001b[0m\u001b[1;31mERROR   \u001b[0m root - Argument \u001b[32m'after'\u001b[0m on Field \u001b[32m'stargazers'\u001b[0m has an invalid value     \u001b]8;id=789277;file://D:\\MIUN\\DT002G\\github_metric_extractor\\analysis\\git_miner.py\u001b\\\u001b[2mgit_miner.py\u001b[0m\u001b]8;;\u001b\\\u001b[2m:\u001b[0m\u001b]8;id=822020;file://D:\\MIUN\\DT002G\\github_metric_extractor\\analysis\\git_miner.py#77\u001b\\\u001b[2m77\u001b[0m\u001b]8;;\u001b\\\n",
       "\u001b[2;36m                    \u001b[0m         \u001b[1m(\u001b[0m\u001b[1;36m100\u001b[0m\u001b[1m)\u001b[0m. Expected type \u001b[32m'String'\u001b[0m.                                         \u001b[2m               \u001b[0m\n"
      ]
     },
     "metadata": {},
     "output_type": "display_data"
    },
    {
     "data": {
      "text/html": [
       "<pre style=\"white-space:pre;overflow-x:auto;line-height:normal;font-family:Menlo,'DejaVu Sans Mono',consolas,'Courier New',monospace\"><span style=\"color: #7fbfbf; text-decoration-color: #7fbfbf\">[03/12/24 19:02:56] </span><span style=\"color: #800000; text-decoration-color: #800000; font-weight: bold\">ERROR   </span> root - Argument <span style=\"color: #008000; text-decoration-color: #008000\">'after'</span> on Field <span style=\"color: #008000; text-decoration-color: #008000\">'stargazers'</span> has an invalid value     <a href=\"file://D:\\MIUN\\DT002G\\github_metric_extractor\\analysis\\git_miner.py\" target=\"_blank\"><span style=\"color: #7f7f7f; text-decoration-color: #7f7f7f\">git_miner.py</span></a><span style=\"color: #7f7f7f; text-decoration-color: #7f7f7f\">:</span><a href=\"file://D:\\MIUN\\DT002G\\github_metric_extractor\\analysis\\git_miner.py#77\" target=\"_blank\"><span style=\"color: #7f7f7f; text-decoration-color: #7f7f7f\">77</span></a>\n",
       "<span style=\"color: #7fbfbf; text-decoration-color: #7fbfbf\">                    </span>         <span style=\"font-weight: bold\">(</span><span style=\"color: #008080; text-decoration-color: #008080; font-weight: bold\">100</span><span style=\"font-weight: bold\">)</span>. Expected type <span style=\"color: #008000; text-decoration-color: #008000\">'String'</span>.                                         <span style=\"color: #7f7f7f; text-decoration-color: #7f7f7f\">               </span>\n",
       "</pre>\n"
      ],
      "text/plain": [
       "\u001b[2;36m[03/12/24 19:02:56]\u001b[0m\u001b[2;36m \u001b[0m\u001b[1;31mERROR   \u001b[0m root - Argument \u001b[32m'after'\u001b[0m on Field \u001b[32m'stargazers'\u001b[0m has an invalid value     \u001b]8;id=984976;file://D:\\MIUN\\DT002G\\github_metric_extractor\\analysis\\git_miner.py\u001b\\\u001b[2mgit_miner.py\u001b[0m\u001b]8;;\u001b\\\u001b[2m:\u001b[0m\u001b]8;id=617119;file://D:\\MIUN\\DT002G\\github_metric_extractor\\analysis\\git_miner.py#77\u001b\\\u001b[2m77\u001b[0m\u001b]8;;\u001b\\\n",
       "\u001b[2;36m                    \u001b[0m         \u001b[1m(\u001b[0m\u001b[1;36m100\u001b[0m\u001b[1m)\u001b[0m. Expected type \u001b[32m'String'\u001b[0m.                                         \u001b[2m               \u001b[0m\n"
      ]
     },
     "metadata": {},
     "output_type": "display_data"
    },
    {
     "data": {
      "text/html": [
       "<pre style=\"white-space:pre;overflow-x:auto;line-height:normal;font-family:Menlo,'DejaVu Sans Mono',consolas,'Courier New',monospace\"></pre>\n"
      ],
      "text/plain": []
     },
     "metadata": {},
     "output_type": "display_data"
    },
    {
     "data": {
      "text/html": [
       "<pre style=\"white-space:pre;overflow-x:auto;line-height:normal;font-family:Menlo,'DejaVu Sans Mono',consolas,'Courier New',monospace\">\n",
       "</pre>\n"
      ],
      "text/plain": [
       "\n"
      ]
     },
     "metadata": {},
     "output_type": "display_data"
    }
   ],
   "source": [
    "stargazers = pyciras.run_stargazers_analysis()"
   ]
  },
  {
   "cell_type": "code",
   "execution_count": 3,
   "id": "ca790dc2-fb2f-4005-979a-111f338ad181",
   "metadata": {
    "editable": true,
    "slideshow": {
     "slide_type": ""
    },
    "tags": []
   },
   "outputs": [],
   "source": [
    "from utility import config\n",
    "import pandas as pd\n",
    "import matplotlib.pyplot as plt"
   ]
  },
  {
   "cell_type": "code",
   "execution_count": 4,
   "id": "c8d11671-b08a-4973-9d3a-b104f0778d68",
   "metadata": {
    "editable": true,
    "slideshow": {
     "slide_type": ""
    },
    "tags": []
   },
   "outputs": [],
   "source": [
    "df = pd.read_csv(\n",
    "    config.DATA_FOLDER / pyciras.data_directory / \"stargazers-over-time.csv\")"
   ]
  },
  {
   "cell_type": "code",
   "execution_count": 5,
   "id": "6bcea98b-46cf-4fe7-9eb2-0ecf4169c618",
   "metadata": {
    "editable": true,
    "slideshow": {
     "slide_type": ""
    },
    "tags": []
   },
   "outputs": [
    {
     "data": {
      "text/html": [
       "<pre style=\"white-space:pre;overflow-x:auto;line-height:normal;font-family:Menlo,'DejaVu Sans Mono',consolas,'Courier New',monospace\"><span style=\"color: #7fbfbf; text-decoration-color: #7fbfbf\">[03/12/24 19:02:57] </span><span style=\"color: #800000; text-decoration-color: #800000\">WARNING </span> matplotlib.legend - No artists with labels found to put in legend.      <a href=\"file://D:\\MIUN\\DT002G\\github_metric_extractor\\venv\\Lib\\site-packages\\matplotlib\\legend.py\" target=\"_blank\"><span style=\"color: #7f7f7f; text-decoration-color: #7f7f7f\">legend.py</span></a><span style=\"color: #7f7f7f; text-decoration-color: #7f7f7f\">:</span><a href=\"file://D:\\MIUN\\DT002G\\github_metric_extractor\\venv\\Lib\\site-packages\\matplotlib\\legend.py#1363\" target=\"_blank\"><span style=\"color: #7f7f7f; text-decoration-color: #7f7f7f\">1363</span></a>\n",
       "<span style=\"color: #7fbfbf; text-decoration-color: #7fbfbf\">                    </span>         Note that artists whose label start with an underscore are ignored when <span style=\"color: #7f7f7f; text-decoration-color: #7f7f7f\">              </span>\n",
       "<span style=\"color: #7fbfbf; text-decoration-color: #7fbfbf\">                    </span>         <span style=\"color: #800080; text-decoration-color: #800080; font-weight: bold\">legend</span><span style=\"font-weight: bold\">()</span> is called with no argument.                                    <span style=\"color: #7f7f7f; text-decoration-color: #7f7f7f\">              </span>\n",
       "</pre>\n"
      ],
      "text/plain": [
       "\u001b[2;36m[03/12/24 19:02:57]\u001b[0m\u001b[2;36m \u001b[0m\u001b[31mWARNING \u001b[0m matplotlib.legend - No artists with labels found to put in legend.      \u001b]8;id=73772;file://D:\\MIUN\\DT002G\\github_metric_extractor\\venv\\Lib\\site-packages\\matplotlib\\legend.py\u001b\\\u001b[2mlegend.py\u001b[0m\u001b]8;;\u001b\\\u001b[2m:\u001b[0m\u001b]8;id=249555;file://D:\\MIUN\\DT002G\\github_metric_extractor\\venv\\Lib\\site-packages\\matplotlib\\legend.py#1363\u001b\\\u001b[2m1363\u001b[0m\u001b]8;;\u001b\\\n",
       "\u001b[2;36m                    \u001b[0m         Note that artists whose label start with an underscore are ignored when \u001b[2m              \u001b[0m\n",
       "\u001b[2;36m                    \u001b[0m         \u001b[1;35mlegend\u001b[0m\u001b[1m(\u001b[0m\u001b[1m)\u001b[0m is called with no argument.                                    \u001b[2m              \u001b[0m\n"
      ]
     },
     "metadata": {},
     "output_type": "display_data"
    },
    {
     "data": {
      "image/png": "[encoded data removed]",
      "text/plain": [
       "<Figure size 2000x1500 with 1 Axes>"
      ]
     },
     "metadata": {},
     "output_type": "display_data"
    }
   ],
   "source": [
    "# Sorting the dataframe\n",
    "df_line = df.sort_values('DATE')\n",
    "\n",
    "# plotting\n",
    "plt.figure(figsize=(20, 15))\n",
    "for column in df_line.columns[1:]:\n",
    "    plt.plot(df_line['DATE'], df_line[column], marker='o', label=column)\n",
    "\n",
    "plt.title('Project Contributions Over Time')\n",
    "plt.xlabel('Date')\n",
    "plt.ylabel('Contributions')\n",
    "plt.legend()\n",
    "plt.grid(True)\n",
    "plt.xticks(rotation=45)\n",
    "plt.tight_layout()\n",
    "plt.show()"
   ]
  },
  {
   "cell_type": "code",
   "execution_count": 6,
   "id": "0b314c17-b3cb-4b54-bc9b-0a9713d4f4c0",
   "metadata": {
    "editable": true,
    "slideshow": {
     "slide_type": ""
    },
    "tags": []
   },
   "outputs": [
    {
     "data": {
      "text/html": [
       "<pre style=\"white-space:pre;overflow-x:auto;line-height:normal;font-family:Menlo,'DejaVu Sans Mono',consolas,'Courier New',monospace\"><span style=\"color: #800000; text-decoration-color: #800000\">╭─────────────────────────────── </span><span style=\"color: #800000; text-decoration-color: #800000; font-weight: bold\">Traceback </span><span style=\"color: #bf7f7f; text-decoration-color: #bf7f7f; font-weight: bold\">(most recent call last)</span><span style=\"color: #800000; text-decoration-color: #800000\"> ────────────────────────────────╮</span>\n",
       "<span style=\"color: #800000; text-decoration-color: #800000\">│</span> in <span style=\"color: #00ff00; text-decoration-color: #00ff00\">&lt;module&gt;</span>:<span style=\"color: #0000ff; text-decoration-color: #0000ff\">13</span>                                                                                   <span style=\"color: #800000; text-decoration-color: #800000\">│</span>\n",
       "<span style=\"color: #800000; text-decoration-color: #800000\">│</span>                                                                                                  <span style=\"color: #800000; text-decoration-color: #800000\">│</span>\n",
       "<span style=\"color: #800000; text-decoration-color: #800000\">│</span>   <span style=\"color: #7f7f7f; text-decoration-color: #7f7f7f\">10 </span>                                                                                            <span style=\"color: #800000; text-decoration-color: #800000\">│</span>\n",
       "<span style=\"color: #800000; text-decoration-color: #800000\">│</span>   <span style=\"color: #7f7f7f; text-decoration-color: #7f7f7f\">11 # Plotting</span>                                                                                  <span style=\"color: #800000; text-decoration-color: #800000\">│</span>\n",
       "<span style=\"color: #800000; text-decoration-color: #800000\">│</span>   <span style=\"color: #7f7f7f; text-decoration-color: #7f7f7f\">12 </span>plt.figure(figsize=(<span style=\"color: #0000ff; text-decoration-color: #0000ff\">15</span>, <span style=\"color: #0000ff; text-decoration-color: #0000ff\">10</span>))                                                                <span style=\"color: #800000; text-decoration-color: #800000\">│</span>\n",
       "<span style=\"color: #800000; text-decoration-color: #800000\">│</span> <span style=\"color: #800000; text-decoration-color: #800000\">❱ </span>13 max_stars_per_repo_sorted.plot(kind=<span style=\"color: #808000; text-decoration-color: #808000\">'bar'</span>)                                                  <span style=\"color: #800000; text-decoration-color: #800000\">│</span>\n",
       "<span style=\"color: #800000; text-decoration-color: #800000\">│</span>   <span style=\"color: #7f7f7f; text-decoration-color: #7f7f7f\">14 </span>plt.title(<span style=\"color: #808000; text-decoration-color: #808000\">'Maximum Stars per Repository'</span>)                                                   <span style=\"color: #800000; text-decoration-color: #800000\">│</span>\n",
       "<span style=\"color: #800000; text-decoration-color: #800000\">│</span>   <span style=\"color: #7f7f7f; text-decoration-color: #7f7f7f\">15 </span>plt.xlabel(<span style=\"color: #808000; text-decoration-color: #808000\">'Repository'</span>)                                                                    <span style=\"color: #800000; text-decoration-color: #800000\">│</span>\n",
       "<span style=\"color: #800000; text-decoration-color: #800000\">│</span>   <span style=\"color: #7f7f7f; text-decoration-color: #7f7f7f\">16 </span>plt.ylabel(<span style=\"color: #808000; text-decoration-color: #808000\">'Maximum Stars'</span>)                                                                 <span style=\"color: #800000; text-decoration-color: #800000\">│</span>\n",
       "<span style=\"color: #800000; text-decoration-color: #800000\">│</span>                                                                                                  <span style=\"color: #800000; text-decoration-color: #800000\">│</span>\n",
       "<span style=\"color: #800000; text-decoration-color: #800000\">│</span> <span style=\"color: #808000; text-decoration-color: #808000\">D:\\MIUN\\DT002G\\github_metric_extractor\\venv\\Lib\\site-packages\\pandas\\plotting\\_core.py</span>:<span style=\"color: #0000ff; text-decoration-color: #0000ff\">1030</span> in   <span style=\"color: #800000; text-decoration-color: #800000\">│</span>\n",
       "<span style=\"color: #800000; text-decoration-color: #800000\">│</span> <span style=\"color: #00ff00; text-decoration-color: #00ff00\">__call__</span>                                                                                         <span style=\"color: #800000; text-decoration-color: #800000\">│</span>\n",
       "<span style=\"color: #800000; text-decoration-color: #800000\">│</span>                                                                                                  <span style=\"color: #800000; text-decoration-color: #800000\">│</span>\n",
       "<span style=\"color: #800000; text-decoration-color: #800000\">│</span>   <span style=\"color: #7f7f7f; text-decoration-color: #7f7f7f\">1027 </span><span style=\"color: #7f7f7f; text-decoration-color: #7f7f7f\">│   │   │   │   │   </span>label_name = label_kw <span style=\"color: #ff00ff; text-decoration-color: #ff00ff\">or</span> data.columns                                 <span style=\"color: #800000; text-decoration-color: #800000\">│</span>\n",
       "<span style=\"color: #800000; text-decoration-color: #800000\">│</span>   <span style=\"color: #7f7f7f; text-decoration-color: #7f7f7f\">1028 </span><span style=\"color: #7f7f7f; text-decoration-color: #7f7f7f\">│   │   │   │   │   </span>data.columns = label_name                                             <span style=\"color: #800000; text-decoration-color: #800000\">│</span>\n",
       "<span style=\"color: #800000; text-decoration-color: #800000\">│</span>   <span style=\"color: #7f7f7f; text-decoration-color: #7f7f7f\">1029 </span><span style=\"color: #7f7f7f; text-decoration-color: #7f7f7f\">│   │   </span>                                                                                  <span style=\"color: #800000; text-decoration-color: #800000\">│</span>\n",
       "<span style=\"color: #800000; text-decoration-color: #800000\">│</span> <span style=\"color: #800000; text-decoration-color: #800000\">❱ </span>1030 <span style=\"color: #7f7f7f; text-decoration-color: #7f7f7f\">│   │   </span><span style=\"color: #0000ff; text-decoration-color: #0000ff\">return</span> plot_backend.plot(data, kind=kind, **kwargs)                               <span style=\"color: #800000; text-decoration-color: #800000\">│</span>\n",
       "<span style=\"color: #800000; text-decoration-color: #800000\">│</span>   <span style=\"color: #7f7f7f; text-decoration-color: #7f7f7f\">1031 </span><span style=\"color: #7f7f7f; text-decoration-color: #7f7f7f\">│   </span>                                                                                      <span style=\"color: #800000; text-decoration-color: #800000\">│</span>\n",
       "<span style=\"color: #800000; text-decoration-color: #800000\">│</span>   <span style=\"color: #7f7f7f; text-decoration-color: #7f7f7f\">1032 </span><span style=\"color: #7f7f7f; text-decoration-color: #7f7f7f\">│   </span><span style=\"color: #00ff00; text-decoration-color: #00ff00\">__call__</span>.<span style=\"color: #ff0000; text-decoration-color: #ff0000\">__doc__</span> = <span style=\"color: #ff0000; text-decoration-color: #ff0000\">__doc__</span>                                                            <span style=\"color: #800000; text-decoration-color: #800000\">│</span>\n",
       "<span style=\"color: #800000; text-decoration-color: #800000\">│</span>   <span style=\"color: #7f7f7f; text-decoration-color: #7f7f7f\">1033 </span>                                                                                          <span style=\"color: #800000; text-decoration-color: #800000\">│</span>\n",
       "<span style=\"color: #800000; text-decoration-color: #800000\">│</span>                                                                                                  <span style=\"color: #800000; text-decoration-color: #800000\">│</span>\n",
       "<span style=\"color: #800000; text-decoration-color: #800000\">│</span> <span style=\"color: #808000; text-decoration-color: #808000\">D:\\MIUN\\DT002G\\github_metric_extractor\\venv\\Lib\\site-packages\\pandas\\plotting\\_matplotlib\\__init</span> <span style=\"color: #800000; text-decoration-color: #800000\">│</span>\n",
       "<span style=\"color: #800000; text-decoration-color: #800000\">│</span> <span style=\"color: #808000; text-decoration-color: #808000\">__.py</span>:<span style=\"color: #0000ff; text-decoration-color: #0000ff\">71</span> in <span style=\"color: #00ff00; text-decoration-color: #00ff00\">plot</span>                                                                                 <span style=\"color: #800000; text-decoration-color: #800000\">│</span>\n",
       "<span style=\"color: #800000; text-decoration-color: #800000\">│</span>                                                                                                  <span style=\"color: #800000; text-decoration-color: #800000\">│</span>\n",
       "<span style=\"color: #800000; text-decoration-color: #800000\">│</span>   <span style=\"color: #7f7f7f; text-decoration-color: #7f7f7f\">68 </span><span style=\"color: #7f7f7f; text-decoration-color: #7f7f7f\">│   │   │   │   </span>ax = plt.gca()                                                              <span style=\"color: #800000; text-decoration-color: #800000\">│</span>\n",
       "<span style=\"color: #800000; text-decoration-color: #800000\">│</span>   <span style=\"color: #7f7f7f; text-decoration-color: #7f7f7f\">69 </span><span style=\"color: #7f7f7f; text-decoration-color: #7f7f7f\">│   │   │   </span>kwargs[<span style=\"color: #808000; text-decoration-color: #808000\">\"ax\"</span>] = <span style=\"color: #00ffff; text-decoration-color: #00ffff\">getattr</span>(ax, <span style=\"color: #808000; text-decoration-color: #808000\">\"left_ax\"</span>, ax)                                       <span style=\"color: #800000; text-decoration-color: #800000\">│</span>\n",
       "<span style=\"color: #800000; text-decoration-color: #800000\">│</span>   <span style=\"color: #7f7f7f; text-decoration-color: #7f7f7f\">70 </span><span style=\"color: #7f7f7f; text-decoration-color: #7f7f7f\">│   </span>plot_obj = PLOT_CLASSES[kind](data, **kwargs)                                           <span style=\"color: #800000; text-decoration-color: #800000\">│</span>\n",
       "<span style=\"color: #800000; text-decoration-color: #800000\">│</span> <span style=\"color: #800000; text-decoration-color: #800000\">❱ </span>71 <span style=\"color: #7f7f7f; text-decoration-color: #7f7f7f\">│   </span>plot_obj.generate()                                                                     <span style=\"color: #800000; text-decoration-color: #800000\">│</span>\n",
       "<span style=\"color: #800000; text-decoration-color: #800000\">│</span>   <span style=\"color: #7f7f7f; text-decoration-color: #7f7f7f\">72 </span><span style=\"color: #7f7f7f; text-decoration-color: #7f7f7f\">│   </span>plot_obj.draw()                                                                         <span style=\"color: #800000; text-decoration-color: #800000\">│</span>\n",
       "<span style=\"color: #800000; text-decoration-color: #800000\">│</span>   <span style=\"color: #7f7f7f; text-decoration-color: #7f7f7f\">73 </span><span style=\"color: #7f7f7f; text-decoration-color: #7f7f7f\">│   </span><span style=\"color: #0000ff; text-decoration-color: #0000ff\">return</span> plot_obj.result                                                                  <span style=\"color: #800000; text-decoration-color: #800000\">│</span>\n",
       "<span style=\"color: #800000; text-decoration-color: #800000\">│</span>   <span style=\"color: #7f7f7f; text-decoration-color: #7f7f7f\">74 </span>                                                                                            <span style=\"color: #800000; text-decoration-color: #800000\">│</span>\n",
       "<span style=\"color: #800000; text-decoration-color: #800000\">│</span>                                                                                                  <span style=\"color: #800000; text-decoration-color: #800000\">│</span>\n",
       "<span style=\"color: #800000; text-decoration-color: #800000\">│</span> <span style=\"color: #808000; text-decoration-color: #808000\">D:\\MIUN\\DT002G\\github_metric_extractor\\venv\\Lib\\site-packages\\pandas\\plotting\\_matplotlib\\core.p</span> <span style=\"color: #800000; text-decoration-color: #800000\">│</span>\n",
       "<span style=\"color: #800000; text-decoration-color: #800000\">│</span> <span style=\"color: #808000; text-decoration-color: #808000\">y</span>:<span style=\"color: #0000ff; text-decoration-color: #0000ff\">508</span> in <span style=\"color: #00ff00; text-decoration-color: #00ff00\">generate</span>                                                                                <span style=\"color: #800000; text-decoration-color: #800000\">│</span>\n",
       "<span style=\"color: #800000; text-decoration-color: #800000\">│</span>                                                                                                  <span style=\"color: #800000; text-decoration-color: #800000\">│</span>\n",
       "<span style=\"color: #800000; text-decoration-color: #800000\">│</span>   <span style=\"color: #7f7f7f; text-decoration-color: #7f7f7f\"> 505 </span><span style=\"color: #7f7f7f; text-decoration-color: #7f7f7f\">│   │   </span>                                                                                  <span style=\"color: #800000; text-decoration-color: #800000\">│</span>\n",
       "<span style=\"color: #800000; text-decoration-color: #800000\">│</span>   <span style=\"color: #7f7f7f; text-decoration-color: #7f7f7f\"> 506 </span><span style=\"color: #7f7f7f; text-decoration-color: #7f7f7f\">│   │   </span><span style=\"color: #0000ff; text-decoration-color: #0000ff\">for</span> ax <span style=\"color: #ff00ff; text-decoration-color: #ff00ff\">in</span> <span style=\"color: #00ffff; text-decoration-color: #00ffff\">self</span>.axes:                                                              <span style=\"color: #800000; text-decoration-color: #800000\">│</span>\n",
       "<span style=\"color: #800000; text-decoration-color: #800000\">│</span>   <span style=\"color: #7f7f7f; text-decoration-color: #7f7f7f\"> 507 </span><span style=\"color: #7f7f7f; text-decoration-color: #7f7f7f\">│   │   │   </span><span style=\"color: #00ffff; text-decoration-color: #00ffff\">self</span>._post_plot_logic_common(ax)                                              <span style=\"color: #800000; text-decoration-color: #800000\">│</span>\n",
       "<span style=\"color: #800000; text-decoration-color: #800000\">│</span> <span style=\"color: #800000; text-decoration-color: #800000\">❱ </span> 508 <span style=\"color: #7f7f7f; text-decoration-color: #7f7f7f\">│   │   │   </span><span style=\"color: #00ffff; text-decoration-color: #00ffff\">self</span>._post_plot_logic(ax, <span style=\"color: #00ffff; text-decoration-color: #00ffff\">self</span>.data)                                          <span style=\"color: #800000; text-decoration-color: #800000\">│</span>\n",
       "<span style=\"color: #800000; text-decoration-color: #800000\">│</span>   <span style=\"color: #7f7f7f; text-decoration-color: #7f7f7f\"> 509 </span><span style=\"color: #7f7f7f; text-decoration-color: #7f7f7f\">│   </span>                                                                                      <span style=\"color: #800000; text-decoration-color: #800000\">│</span>\n",
       "<span style=\"color: #800000; text-decoration-color: #800000\">│</span>   <span style=\"color: #7f7f7f; text-decoration-color: #7f7f7f\"> 510 </span><span style=\"color: #7f7f7f; text-decoration-color: #7f7f7f\">│   </span><span style=\"color: #ff00ff; text-decoration-color: #ff00ff; font-weight: bold\">@final</span>                                                                                <span style=\"color: #800000; text-decoration-color: #800000\">│</span>\n",
       "<span style=\"color: #800000; text-decoration-color: #800000\">│</span>   <span style=\"color: #7f7f7f; text-decoration-color: #7f7f7f\"> 511 </span><span style=\"color: #7f7f7f; text-decoration-color: #7f7f7f\">│   </span><span style=\"color: #ff00ff; text-decoration-color: #ff00ff; font-weight: bold\">@staticmethod</span>                                                                         <span style=\"color: #800000; text-decoration-color: #800000\">│</span>\n",
       "<span style=\"color: #800000; text-decoration-color: #800000\">│</span>                                                                                                  <span style=\"color: #800000; text-decoration-color: #800000\">│</span>\n",
       "<span style=\"color: #800000; text-decoration-color: #800000\">│</span> <span style=\"color: #808000; text-decoration-color: #808000\">D:\\MIUN\\DT002G\\github_metric_extractor\\venv\\Lib\\site-packages\\pandas\\plotting\\_matplotlib\\core.p</span> <span style=\"color: #800000; text-decoration-color: #800000\">│</span>\n",
       "<span style=\"color: #800000; text-decoration-color: #800000\">│</span> <span style=\"color: #808000; text-decoration-color: #808000\">y</span>:<span style=\"color: #0000ff; text-decoration-color: #0000ff\">1966</span> in <span style=\"color: #00ff00; text-decoration-color: #00ff00\">_post_plot_logic</span>                                                                       <span style=\"color: #800000; text-decoration-color: #800000\">│</span>\n",
       "<span style=\"color: #800000; text-decoration-color: #800000\">│</span>                                                                                                  <span style=\"color: #800000; text-decoration-color: #800000\">│</span>\n",
       "<span style=\"color: #800000; text-decoration-color: #800000\">│</span>   <span style=\"color: #7f7f7f; text-decoration-color: #7f7f7f\">1963 </span><span style=\"color: #7f7f7f; text-decoration-color: #7f7f7f\">│   │   </span><span style=\"color: #0000ff; text-decoration-color: #0000ff\">else</span>:                                                                             <span style=\"color: #800000; text-decoration-color: #800000\">│</span>\n",
       "<span style=\"color: #800000; text-decoration-color: #800000\">│</span>   <span style=\"color: #7f7f7f; text-decoration-color: #7f7f7f\">1964 </span><span style=\"color: #7f7f7f; text-decoration-color: #7f7f7f\">│   │   │   </span>str_index = [pprint_thing(key) <span style=\"color: #0000ff; text-decoration-color: #0000ff\">for</span> key <span style=\"color: #ff00ff; text-decoration-color: #ff00ff\">in</span> <span style=\"color: #00ffff; text-decoration-color: #00ffff\">range</span>(data.shape[<span style=\"color: #0000ff; text-decoration-color: #0000ff\">0</span>])]               <span style=\"color: #800000; text-decoration-color: #800000\">│</span>\n",
       "<span style=\"color: #800000; text-decoration-color: #800000\">│</span>   <span style=\"color: #7f7f7f; text-decoration-color: #7f7f7f\">1965 </span><span style=\"color: #7f7f7f; text-decoration-color: #7f7f7f\">│   │   </span>                                                                                  <span style=\"color: #800000; text-decoration-color: #800000\">│</span>\n",
       "<span style=\"color: #800000; text-decoration-color: #800000\">│</span> <span style=\"color: #800000; text-decoration-color: #800000\">❱ </span>1966 <span style=\"color: #7f7f7f; text-decoration-color: #7f7f7f\">│   │   </span>s_edge = <span style=\"color: #00ffff; text-decoration-color: #00ffff\">self</span>.ax_pos[<span style=\"color: #0000ff; text-decoration-color: #0000ff\">0</span>] - <span style=\"color: #0000ff; text-decoration-color: #0000ff\">0.25</span> + <span style=\"color: #00ffff; text-decoration-color: #00ffff\">self</span>.lim_offset                                  <span style=\"color: #800000; text-decoration-color: #800000\">│</span>\n",
       "<span style=\"color: #800000; text-decoration-color: #800000\">│</span>   <span style=\"color: #7f7f7f; text-decoration-color: #7f7f7f\">1967 </span><span style=\"color: #7f7f7f; text-decoration-color: #7f7f7f\">│   │   </span>e_edge = <span style=\"color: #00ffff; text-decoration-color: #00ffff\">self</span>.ax_pos[-<span style=\"color: #0000ff; text-decoration-color: #0000ff\">1</span>] + <span style=\"color: #0000ff; text-decoration-color: #0000ff\">0.25</span> + <span style=\"color: #00ffff; text-decoration-color: #00ffff\">self</span>.bar_width + <span style=\"color: #00ffff; text-decoration-color: #00ffff\">self</span>.lim_offset                <span style=\"color: #800000; text-decoration-color: #800000\">│</span>\n",
       "<span style=\"color: #800000; text-decoration-color: #800000\">│</span>   <span style=\"color: #7f7f7f; text-decoration-color: #7f7f7f\">1968 </span><span style=\"color: #7f7f7f; text-decoration-color: #7f7f7f\">│   │   </span>                                                                                  <span style=\"color: #800000; text-decoration-color: #800000\">│</span>\n",
       "<span style=\"color: #800000; text-decoration-color: #800000\">│</span>   <span style=\"color: #7f7f7f; text-decoration-color: #7f7f7f\">1969 </span><span style=\"color: #7f7f7f; text-decoration-color: #7f7f7f\">│   │   </span><span style=\"color: #00ffff; text-decoration-color: #00ffff\">self</span>._decorate_ticks(ax, <span style=\"color: #00ffff; text-decoration-color: #00ffff\">self</span>._get_index_name(), str_index, s_edge, e_edge)       <span style=\"color: #800000; text-decoration-color: #800000\">│</span>\n",
       "<span style=\"color: #800000; text-decoration-color: #800000\">╰──────────────────────────────────────────────────────────────────────────────────────────────────╯</span>\n",
       "<span style=\"color: #ff0000; text-decoration-color: #ff0000; font-weight: bold\">IndexError: </span>index <span style=\"color: #008080; text-decoration-color: #008080; font-weight: bold\">0</span> is out of bounds for axis <span style=\"color: #008080; text-decoration-color: #008080; font-weight: bold\">0</span> with size <span style=\"color: #008080; text-decoration-color: #008080; font-weight: bold\">0</span>\n",
       "</pre>\n"
      ],
      "text/plain": [
       "\u001b[31m╭─\u001b[0m\u001b[31m──────────────────────────────\u001b[0m\u001b[31m \u001b[0m\u001b[1;31mTraceback \u001b[0m\u001b[1;2;31m(most recent call last)\u001b[0m\u001b[31m \u001b[0m\u001b[31m───────────────────────────────\u001b[0m\u001b[31m─╮\u001b[0m\n",
       "\u001b[31m│\u001b[0m in \u001b[92m<module>\u001b[0m:\u001b[94m13\u001b[0m                                                                                   \u001b[31m│\u001b[0m\n",
       "\u001b[31m│\u001b[0m                                                                                                  \u001b[31m│\u001b[0m\n",
       "\u001b[31m│\u001b[0m   \u001b[2m10 \u001b[0m                                                                                            \u001b[31m│\u001b[0m\n",
       "\u001b[31m│\u001b[0m   \u001b[2m11 \u001b[0m\u001b[2m# Plotting\u001b[0m                                                                                  \u001b[31m│\u001b[0m\n",
       "\u001b[31m│\u001b[0m   \u001b[2m12 \u001b[0mplt.figure(figsize=(\u001b[94m15\u001b[0m, \u001b[94m10\u001b[0m))                                                                \u001b[31m│\u001b[0m\n",
       "\u001b[31m│\u001b[0m \u001b[31m❱ \u001b[0m13 max_stars_per_repo_sorted.plot(kind=\u001b[33m'\u001b[0m\u001b[33mbar\u001b[0m\u001b[33m'\u001b[0m)                                                  \u001b[31m│\u001b[0m\n",
       "\u001b[31m│\u001b[0m   \u001b[2m14 \u001b[0mplt.title(\u001b[33m'\u001b[0m\u001b[33mMaximum Stars per Repository\u001b[0m\u001b[33m'\u001b[0m)                                                   \u001b[31m│\u001b[0m\n",
       "\u001b[31m│\u001b[0m   \u001b[2m15 \u001b[0mplt.xlabel(\u001b[33m'\u001b[0m\u001b[33mRepository\u001b[0m\u001b[33m'\u001b[0m)                                                                    \u001b[31m│\u001b[0m\n",
       "\u001b[31m│\u001b[0m   \u001b[2m16 \u001b[0mplt.ylabel(\u001b[33m'\u001b[0m\u001b[33mMaximum Stars\u001b[0m\u001b[33m'\u001b[0m)                                                                 \u001b[31m│\u001b[0m\n",
       "\u001b[31m│\u001b[0m                                                                                                  \u001b[31m│\u001b[0m\n",
       "\u001b[31m│\u001b[0m \u001b[33mD:\\MIUN\\DT002G\\github_metric_extractor\\venv\\Lib\\site-packages\\pandas\\plotting\\_core.py\u001b[0m:\u001b[94m1030\u001b[0m in   \u001b[31m│\u001b[0m\n",
       "\u001b[31m│\u001b[0m \u001b[92m__call__\u001b[0m                                                                                         \u001b[31m│\u001b[0m\n",
       "\u001b[31m│\u001b[0m                                                                                                  \u001b[31m│\u001b[0m\n",
       "\u001b[31m│\u001b[0m   \u001b[2m1027 \u001b[0m\u001b[2m│   │   │   │   │   \u001b[0mlabel_name = label_kw \u001b[95mor\u001b[0m data.columns                                 \u001b[31m│\u001b[0m\n",
       "\u001b[31m│\u001b[0m   \u001b[2m1028 \u001b[0m\u001b[2m│   │   │   │   │   \u001b[0mdata.columns = label_name                                             \u001b[31m│\u001b[0m\n",
       "\u001b[31m│\u001b[0m   \u001b[2m1029 \u001b[0m\u001b[2m│   │   \u001b[0m                                                                                  \u001b[31m│\u001b[0m\n",
       "\u001b[31m│\u001b[0m \u001b[31m❱ \u001b[0m1030 \u001b[2m│   │   \u001b[0m\u001b[94mreturn\u001b[0m plot_backend.plot(data, kind=kind, **kwargs)                               \u001b[31m│\u001b[0m\n",
       "\u001b[31m│\u001b[0m   \u001b[2m1031 \u001b[0m\u001b[2m│   \u001b[0m                                                                                      \u001b[31m│\u001b[0m\n",
       "\u001b[31m│\u001b[0m   \u001b[2m1032 \u001b[0m\u001b[2m│   \u001b[0m\u001b[92m__call__\u001b[0m.\u001b[91m__doc__\u001b[0m = \u001b[91m__doc__\u001b[0m                                                            \u001b[31m│\u001b[0m\n",
       "\u001b[31m│\u001b[0m   \u001b[2m1033 \u001b[0m                                                                                          \u001b[31m│\u001b[0m\n",
       "\u001b[31m│\u001b[0m                                                                                                  \u001b[31m│\u001b[0m\n",
       "\u001b[31m│\u001b[0m \u001b[33mD:\\MIUN\\DT002G\\github_metric_extractor\\venv\\Lib\\site-packages\\pandas\\plotting\\_matplotlib\\__init\u001b[0m \u001b[31m│\u001b[0m\n",
       "\u001b[31m│\u001b[0m \u001b[33m__.py\u001b[0m:\u001b[94m71\u001b[0m in \u001b[92mplot\u001b[0m                                                                                 \u001b[31m│\u001b[0m\n",
       "\u001b[31m│\u001b[0m                                                                                                  \u001b[31m│\u001b[0m\n",
       "\u001b[31m│\u001b[0m   \u001b[2m68 \u001b[0m\u001b[2m│   │   │   │   \u001b[0max = plt.gca()                                                              \u001b[31m│\u001b[0m\n",
       "\u001b[31m│\u001b[0m   \u001b[2m69 \u001b[0m\u001b[2m│   │   │   \u001b[0mkwargs[\u001b[33m\"\u001b[0m\u001b[33max\u001b[0m\u001b[33m\"\u001b[0m] = \u001b[96mgetattr\u001b[0m(ax, \u001b[33m\"\u001b[0m\u001b[33mleft_ax\u001b[0m\u001b[33m\"\u001b[0m, ax)                                       \u001b[31m│\u001b[0m\n",
       "\u001b[31m│\u001b[0m   \u001b[2m70 \u001b[0m\u001b[2m│   \u001b[0mplot_obj = PLOT_CLASSES[kind](data, **kwargs)                                           \u001b[31m│\u001b[0m\n",
       "\u001b[31m│\u001b[0m \u001b[31m❱ \u001b[0m71 \u001b[2m│   \u001b[0mplot_obj.generate()                                                                     \u001b[31m│\u001b[0m\n",
       "\u001b[31m│\u001b[0m   \u001b[2m72 \u001b[0m\u001b[2m│   \u001b[0mplot_obj.draw()                                                                         \u001b[31m│\u001b[0m\n",
       "\u001b[31m│\u001b[0m   \u001b[2m73 \u001b[0m\u001b[2m│   \u001b[0m\u001b[94mreturn\u001b[0m plot_obj.result                                                                  \u001b[31m│\u001b[0m\n",
       "\u001b[31m│\u001b[0m   \u001b[2m74 \u001b[0m                                                                                            \u001b[31m│\u001b[0m\n",
       "\u001b[31m│\u001b[0m                                                                                                  \u001b[31m│\u001b[0m\n",
       "\u001b[31m│\u001b[0m \u001b[33mD:\\MIUN\\DT002G\\github_metric_extractor\\venv\\Lib\\site-packages\\pandas\\plotting\\_matplotlib\\core.p\u001b[0m \u001b[31m│\u001b[0m\n",
       "\u001b[31m│\u001b[0m \u001b[33my\u001b[0m:\u001b[94m508\u001b[0m in \u001b[92mgenerate\u001b[0m                                                                                \u001b[31m│\u001b[0m\n",
       "\u001b[31m│\u001b[0m                                                                                                  \u001b[31m│\u001b[0m\n",
       "\u001b[31m│\u001b[0m   \u001b[2m 505 \u001b[0m\u001b[2m│   │   \u001b[0m                                                                                  \u001b[31m│\u001b[0m\n",
       "\u001b[31m│\u001b[0m   \u001b[2m 506 \u001b[0m\u001b[2m│   │   \u001b[0m\u001b[94mfor\u001b[0m ax \u001b[95min\u001b[0m \u001b[96mself\u001b[0m.axes:                                                              \u001b[31m│\u001b[0m\n",
       "\u001b[31m│\u001b[0m   \u001b[2m 507 \u001b[0m\u001b[2m│   │   │   \u001b[0m\u001b[96mself\u001b[0m._post_plot_logic_common(ax)                                              \u001b[31m│\u001b[0m\n",
       "\u001b[31m│\u001b[0m \u001b[31m❱ \u001b[0m 508 \u001b[2m│   │   │   \u001b[0m\u001b[96mself\u001b[0m._post_plot_logic(ax, \u001b[96mself\u001b[0m.data)                                          \u001b[31m│\u001b[0m\n",
       "\u001b[31m│\u001b[0m   \u001b[2m 509 \u001b[0m\u001b[2m│   \u001b[0m                                                                                      \u001b[31m│\u001b[0m\n",
       "\u001b[31m│\u001b[0m   \u001b[2m 510 \u001b[0m\u001b[2m│   \u001b[0m\u001b[1;95m@final\u001b[0m                                                                                \u001b[31m│\u001b[0m\n",
       "\u001b[31m│\u001b[0m   \u001b[2m 511 \u001b[0m\u001b[2m│   \u001b[0m\u001b[1;95m@staticmethod\u001b[0m                                                                         \u001b[31m│\u001b[0m\n",
       "\u001b[31m│\u001b[0m                                                                                                  \u001b[31m│\u001b[0m\n",
       "\u001b[31m│\u001b[0m \u001b[33mD:\\MIUN\\DT002G\\github_metric_extractor\\venv\\Lib\\site-packages\\pandas\\plotting\\_matplotlib\\core.p\u001b[0m \u001b[31m│\u001b[0m\n",
       "\u001b[31m│\u001b[0m \u001b[33my\u001b[0m:\u001b[94m1966\u001b[0m in \u001b[92m_post_plot_logic\u001b[0m                                                                       \u001b[31m│\u001b[0m\n",
       "\u001b[31m│\u001b[0m                                                                                                  \u001b[31m│\u001b[0m\n",
       "\u001b[31m│\u001b[0m   \u001b[2m1963 \u001b[0m\u001b[2m│   │   \u001b[0m\u001b[94melse\u001b[0m:                                                                             \u001b[31m│\u001b[0m\n",
       "\u001b[31m│\u001b[0m   \u001b[2m1964 \u001b[0m\u001b[2m│   │   │   \u001b[0mstr_index = [pprint_thing(key) \u001b[94mfor\u001b[0m key \u001b[95min\u001b[0m \u001b[96mrange\u001b[0m(data.shape[\u001b[94m0\u001b[0m])]               \u001b[31m│\u001b[0m\n",
       "\u001b[31m│\u001b[0m   \u001b[2m1965 \u001b[0m\u001b[2m│   │   \u001b[0m                                                                                  \u001b[31m│\u001b[0m\n",
       "\u001b[31m│\u001b[0m \u001b[31m❱ \u001b[0m1966 \u001b[2m│   │   \u001b[0ms_edge = \u001b[96mself\u001b[0m.ax_pos[\u001b[94m0\u001b[0m] - \u001b[94m0.25\u001b[0m + \u001b[96mself\u001b[0m.lim_offset                                  \u001b[31m│\u001b[0m\n",
       "\u001b[31m│\u001b[0m   \u001b[2m1967 \u001b[0m\u001b[2m│   │   \u001b[0me_edge = \u001b[96mself\u001b[0m.ax_pos[-\u001b[94m1\u001b[0m] + \u001b[94m0.25\u001b[0m + \u001b[96mself\u001b[0m.bar_width + \u001b[96mself\u001b[0m.lim_offset                \u001b[31m│\u001b[0m\n",
       "\u001b[31m│\u001b[0m   \u001b[2m1968 \u001b[0m\u001b[2m│   │   \u001b[0m                                                                                  \u001b[31m│\u001b[0m\n",
       "\u001b[31m│\u001b[0m   \u001b[2m1969 \u001b[0m\u001b[2m│   │   \u001b[0m\u001b[96mself\u001b[0m._decorate_ticks(ax, \u001b[96mself\u001b[0m._get_index_name(), str_index, s_edge, e_edge)       \u001b[31m│\u001b[0m\n",
       "\u001b[31m╰──────────────────────────────────────────────────────────────────────────────────────────────────╯\u001b[0m\n",
       "\u001b[1;91mIndexError: \u001b[0mindex \u001b[1;36m0\u001b[0m is out of bounds for axis \u001b[1;36m0\u001b[0m with size \u001b[1;36m0\u001b[0m\n"
      ]
     },
     "metadata": {},
     "output_type": "display_data"
    },
    {
     "data": {
      "image/png": "[encoded data removed]",
      "text/plain": [
       "<Figure size 1500x1000 with 1 Axes>"
      ]
     },
     "metadata": {},
     "output_type": "display_data"
    }
   ],
   "source": [
    "# Create bars with max stars as h\n",
    "df_bar = df.copy()\n",
    "df_bar.drop('DATE', axis=1, inplace=True)\n",
    "\n",
    "# Find the maximum star count for each repository\n",
    "max_stars_per_repo = df_bar.max()\n",
    "\n",
    "# Sort values for better visualization\n",
    "max_stars_per_repo_sorted = max_stars_per_repo.sort_values(ascending=False)\n",
    "\n",
    "# Plotting\n",
    "plt.figure(figsize=(15, 10))\n",
    "max_stars_per_repo_sorted.plot(kind='bar')\n",
    "plt.title('Maximum Stars per Repository')\n",
    "plt.xlabel('Repository')\n",
    "plt.ylabel('Maximum Stars')\n",
    "plt.xticks(rotation=45)\n",
    "plt.tight_layout()\n",
    "\n",
    "plt.show()"
   ]
  },
  {
   "cell_type": "code",
   "execution_count": null,
   "id": "e4afe26b-5786-493b-84a0-0bba652515a5",
   "metadata": {
    "editable": true,
    "slideshow": {
     "slide_type": ""
    },
    "tags": []
   },
   "outputs": [],
   "source": []
  }
 ],
 "metadata": {
  "kernelspec": {
   "display_name": "Python 3 (ipykernel)",
   "language": "python",
   "name": "python3"
  },
  "language_info": {
   "codemirror_mode": {
    "name": "ipython",
    "version": 3
   },
   "file_extension": ".py",
   "mimetype": "text/x-python",
   "name": "python",
   "nbconvert_exporter": "python",
   "pygments_lexer": "ipython3",
   "version": "3.11.0"
  }
 },
 "nbformat": 4,
 "nbformat_minor": 5
}
