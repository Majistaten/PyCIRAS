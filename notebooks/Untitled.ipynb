{
 "cells": [
  {
   "cell_type": "code",
   "execution_count": 1,
   "id": "b8ad4b4b-5ad9-4eab-86c8-bc9b39040da4",
   "metadata": {},
   "outputs": [],
   "source": [
    "import setup_notebook_environment"
   ]
  },
  {
   "cell_type": "code",
   "execution_count": null,
   "id": "2a76c471-6e1d-4d13-90ca-fe043e2f6007",
   "metadata": {},
   "outputs": [],
   "source": [
    "import pyciras"
   ]
  },
  {
   "cell_type": "code",
   "execution_count": null,
   "id": "06e2d65c-b502-4293-98fb-acfd9701089e",
   "metadata": {},
   "outputs": [],
   "source": [
    "run_"
   ]
  },
  {
   "cell_type": "code",
   "execution_count": null,
   "id": "2f356333-2dd3-45d4-8fd1-0cbfd4eb8558",
   "metadata": {},
   "outputs": [],
   "source": []
  }
 ],
 "metadata": {
  "kernelspec": {
   "display_name": "Python 3 (ipykernel)",
   "language": "python",
   "name": "python3"
  },
  "language_info": {
   "codemirror_mode": {
    "name": "ipython",
    "version": 3
   },
   "file_extension": ".py",
   "mimetype": "text/x-python",
   "name": "python",
   "nbconvert_exporter": "python",
   "pygments_lexer": "ipython3",
   "version": "3.11.4"
  }
 },
 "nbformat": 4,
 "nbformat_minor": 5
}
