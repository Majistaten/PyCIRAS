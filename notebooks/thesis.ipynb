{
 "cells": [
  {
   "cell_type": "code",
   "execution_count": 1,
   "id": "d27e1ebe-0b0c-4a7f-8ebb-a3c7d5827d0c",
   "metadata": {},
   "outputs": [],
   "source": [
    "import setup_notebook_environment"
   ]
  },
  {
   "cell_type": "code",
   "execution_count": 2,
   "id": "3f3f2755-14c8-4fc9-a385-ca71df963fa4",
   "metadata": {},
   "outputs": [],
   "source": [
    "import pyciras"
   ]
  },
  {
   "cell_type": "markdown",
   "id": "62784e54-e212-40a9-8a1b-de40709c6861",
   "metadata": {},
   "source": [
    "#### TODO \n",
    "- speca repos som en URL lista, så man ser vilka vi skickar in härifrån notebooken\n",
    "- Kontrollera korrekta inställningar\n",
    "- Kör kloning följt av mining\n",
    "\n",
    "- Config:\n",
    "\n",
    "- Console logging: Warning\n",
    "- File logging: Debug\n",
    "- Write database: True\n",
    "- Write JSON: False\n",
    "- Write DSV: True"
   ]
  },
  {
   "cell_type": "code",
   "execution_count": null,
   "id": "ba4d7a1f-057a-40a9-86d2-ba189a95b303",
   "metadata": {},
   "outputs": [],
   "source": [
    "# run_repo_cloner(repo_urls=None,\n",
    "#                     chunk_size=100,\n",
    "#                     multiprocessing=True)\n",
    "\n",
    "# run_mining(repo_urls=None, # TODO mata in listan\n",
    "#                chunk_size=1,\n",
    "#                multiprocessing=False,\n",
    "#                persist_repos=False,\n",
    "#                stargazers=True,\n",
    "#                metadata=True,\n",
    "#                test=True,\n",
    "#                git=True,\n",
    "#                lint=True)\n"
   ]
  }
 ],
 "metadata": {
  "kernelspec": {
   "display_name": "Python 3 (ipykernel)",
   "language": "python",
   "name": "python3"
  },
  "language_info": {
   "codemirror_mode": {
    "name": "ipython",
    "version": 3
   },
   "file_extension": ".py",
   "mimetype": "text/x-python",
   "name": "python",
   "nbconvert_exporter": "python",
   "pygments_lexer": "ipython3",
   "version": "3.11.4"
  }
 },
 "nbformat": 4,
 "nbformat_minor": 5
}
