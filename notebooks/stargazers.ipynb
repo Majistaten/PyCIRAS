{
 "cells": [
  {
   "cell_type": "code",
   "execution_count": 1,
   "id": "68e84e86-2f29-40a4-b97c-0bdfb91e431a",
   "metadata": {},
   "outputs": [],
   "source": [
    "import setup_notebook_environment"
   ]
  },
  {
   "cell_type": "code",
   "execution_count": 2,
   "id": "e6b8fc60-5dbb-4fb6-9387-80a4b49b3673",
   "metadata": {},
   "outputs": [],
   "source": [
    "import pyciras"
   ]
  },
  {
   "cell_type": "code",
   "execution_count": 3,
   "id": "37a3248d-2448-4074-9989-622e4fd13697",
   "metadata": {},
   "outputs": [
    {
     "name": "stderr",
     "output_type": "stream",
     "text": [
      "Querying GraphQL API for Stargazers data: 100%|█████████████████████████████████████████████████████████████████████████| 2/2 [00:00<00:00,  2.24it/s]"
     ]
    },
    {
     "name": "stdout",
     "output_type": "stream",
     "text": [
      "2018-06-18 {'conala-corpus/conala-baseline': 2, 'sumonbis/Fairify': 0}\n",
      "2018-06-19 {'conala-corpus/conala-baseline': 7, 'sumonbis/Fairify': 0}\n",
      "2018-06-20 {'conala-corpus/conala-baseline': 11, 'sumonbis/Fairify': 0}\n",
      "2018-06-21 {'conala-corpus/conala-baseline': 12, 'sumonbis/Fairify': 0}\n",
      "2018-06-22 {'conala-corpus/conala-baseline': 14, 'sumonbis/Fairify': 0}\n",
      "2018-06-24 {'conala-corpus/conala-baseline': 15, 'sumonbis/Fairify': 0}\n",
      "2018-06-26 {'conala-corpus/conala-baseline': 16, 'sumonbis/Fairify': 0}\n",
      "2018-06-30 {'conala-corpus/conala-baseline': 17, 'sumonbis/Fairify': 0}\n",
      "2018-07-17 {'conala-corpus/conala-baseline': 18, 'sumonbis/Fairify': 0}\n",
      "2018-07-21 {'conala-corpus/conala-baseline': 20, 'sumonbis/Fairify': 0}\n",
      "2018-08-15 {'conala-corpus/conala-baseline': 21, 'sumonbis/Fairify': 0}\n",
      "2018-09-13 {'conala-corpus/conala-baseline': 22, 'sumonbis/Fairify': 0}\n",
      "2018-09-27 {'conala-corpus/conala-baseline': 23, 'sumonbis/Fairify': 0}\n",
      "2018-10-31 {'conala-corpus/conala-baseline': 24, 'sumonbis/Fairify': 0}\n",
      "2018-11-10 {'conala-corpus/conala-baseline': 25, 'sumonbis/Fairify': 0}\n",
      "2018-11-24 {'conala-corpus/conala-baseline': 26, 'sumonbis/Fairify': 0}\n",
      "2018-11-29 {'conala-corpus/conala-baseline': 27, 'sumonbis/Fairify': 0}\n",
      "2019-01-25 {'conala-corpus/conala-baseline': 28, 'sumonbis/Fairify': 0}\n",
      "2019-02-22 {'conala-corpus/conala-baseline': 29, 'sumonbis/Fairify': 0}\n",
      "2019-02-24 {'conala-corpus/conala-baseline': 30, 'sumonbis/Fairify': 0}\n",
      "2019-03-12 {'conala-corpus/conala-baseline': 31, 'sumonbis/Fairify': 0}\n",
      "2019-03-19 {'conala-corpus/conala-baseline': 32, 'sumonbis/Fairify': 0}\n",
      "2019-05-25 {'conala-corpus/conala-baseline': 33, 'sumonbis/Fairify': 0}\n",
      "2019-05-28 {'conala-corpus/conala-baseline': 34, 'sumonbis/Fairify': 0}\n",
      "2019-09-18 {'conala-corpus/conala-baseline': 35, 'sumonbis/Fairify': 0}\n",
      "2019-12-01 {'conala-corpus/conala-baseline': 36, 'sumonbis/Fairify': 0}\n",
      "2019-12-02 {'conala-corpus/conala-baseline': 37, 'sumonbis/Fairify': 0}\n",
      "2020-02-27 {'conala-corpus/conala-baseline': 38, 'sumonbis/Fairify': 0}\n",
      "2020-03-25 {'conala-corpus/conala-baseline': 39, 'sumonbis/Fairify': 0}\n",
      "2020-06-18 {'conala-corpus/conala-baseline': 40, 'sumonbis/Fairify': 0}\n",
      "2020-07-13 {'conala-corpus/conala-baseline': 41, 'sumonbis/Fairify': 0}\n",
      "2020-07-16 {'conala-corpus/conala-baseline': 42, 'sumonbis/Fairify': 0}\n",
      "2020-08-10 {'conala-corpus/conala-baseline': 43, 'sumonbis/Fairify': 0}\n",
      "2020-09-28 {'conala-corpus/conala-baseline': 44, 'sumonbis/Fairify': 0}\n",
      "2020-12-18 {'conala-corpus/conala-baseline': 45, 'sumonbis/Fairify': 0}\n",
      "2021-03-12 {'conala-corpus/conala-baseline': 46, 'sumonbis/Fairify': 0}\n",
      "2021-06-18 {'conala-corpus/conala-baseline': 47, 'sumonbis/Fairify': 0}\n",
      "2021-07-29 {'conala-corpus/conala-baseline': 48, 'sumonbis/Fairify': 0}\n",
      "2021-08-08 {'conala-corpus/conala-baseline': 49, 'sumonbis/Fairify': 0}\n",
      "2021-10-06 {'conala-corpus/conala-baseline': 50, 'sumonbis/Fairify': 0}\n",
      "2021-11-17 {'conala-corpus/conala-baseline': 51, 'sumonbis/Fairify': 0}\n",
      "2022-02-03 {'conala-corpus/conala-baseline': 52, 'sumonbis/Fairify': 0}\n",
      "2022-03-14 {'conala-corpus/conala-baseline': 53, 'sumonbis/Fairify': 0}\n",
      "2022-06-07 {'conala-corpus/conala-baseline': 54, 'sumonbis/Fairify': 0}\n",
      "2023-06-20 {'conala-corpus/conala-baseline': 55, 'sumonbis/Fairify': 0}\n",
      "2023-06-28 {'conala-corpus/conala-baseline': 57, 'sumonbis/Fairify': 0}\n",
      "2023-08-31 {'conala-corpus/conala-baseline': 58, 'sumonbis/Fairify': 0}\n",
      "2023-10-03 {'conala-corpus/conala-baseline': 59, 'sumonbis/Fairify': 0}\n",
      "2024-02-25 {'conala-corpus/conala-baseline': 60, 'sumonbis/Fairify': 0}\n",
      "2024-01-09 {'sumonbis/Fairify': 1, 'conala-corpus/conala-baseline': 59}\n"
     ]
    },
    {
     "name": "stderr",
     "output_type": "stream",
     "text": [
      "\n"
     ]
    }
   ],
   "source": [
    "pyciras.run_stargazers_analysis()"
   ]
  },
  {
   "cell_type": "code",
   "execution_count": null,
   "id": "f0824a25-3454-48bd-b84f-cf1b88cb5319",
   "metadata": {},
   "outputs": [],
   "source": []
  }
 ],
 "metadata": {
  "kernelspec": {
   "display_name": "Python 3 (ipykernel)",
   "language": "python",
   "name": "python3"
  },
  "language_info": {
   "codemirror_mode": {
    "name": "ipython",
    "version": 3
   },
   "file_extension": ".py",
   "mimetype": "text/x-python",
   "name": "python",
   "nbconvert_exporter": "python",
   "pygments_lexer": "ipython3",
   "version": "3.11.4"
  }
 },
 "nbformat": 4,
 "nbformat_minor": 5
}
