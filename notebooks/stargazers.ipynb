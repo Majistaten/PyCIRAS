{
 "cells": [
  {
   "cell_type": "code",
   "execution_count": 1,
   "id": "68e84e86-2f29-40a4-b97c-0bdfb91e431a",
   "metadata": {},
   "outputs": [],
   "source": [
    "import setup_notebook_environment"
   ]
  },
  {
   "cell_type": "code",
   "execution_count": 2,
   "id": "e6b8fc60-5dbb-4fb6-9387-80a4b49b3673",
   "metadata": {},
   "outputs": [],
   "source": [
    "import pyciras"
   ]
  },
  {
   "cell_type": "code",
   "execution_count": 3,
   "id": "37a3248d-2448-4074-9989-622e4fd13697",
   "metadata": {},
   "outputs": [
    {
     "name": "stderr",
     "output_type": "stream",
     "text": [
      "Querying GraphQL API for Stargazers data: 100%|█████████████████████████████████████████████████████████████████████████| 3/3 [00:01<00:00,  2.26it/s]\n"
     ]
    }
   ],
   "source": [
    "pyciras.run_stargazers_analysis()"
   ]
  },
  {
   "cell_type": "code",
   "execution_count": null,
   "id": "f0824a25-3454-48bd-b84f-cf1b88cb5319",
   "metadata": {},
   "outputs": [],
   "source": []
  }
 ],
 "metadata": {
  "kernelspec": {
   "display_name": "Python 3 (ipykernel)",
   "language": "python",
   "name": "python3"
  },
  "language_info": {
   "codemirror_mode": {
    "name": "ipython",
    "version": 3
   },
   "file_extension": ".py",
   "mimetype": "text/x-python",
   "name": "python",
   "nbconvert_exporter": "python",
   "pygments_lexer": "ipython3",
   "version": "3.11.4"
  }
 },
 "nbformat": 4,
 "nbformat_minor": 5
}
