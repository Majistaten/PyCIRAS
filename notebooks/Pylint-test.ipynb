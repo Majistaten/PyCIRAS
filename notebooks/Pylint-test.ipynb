{
 "cells": [
  {
   "cell_type": "markdown",
   "id": "38b343a6-08fe-4b59-a776-11b8beaa6ef9",
   "metadata": {},
   "source": [
    "# Fix dependencies before running pylint\n",
    "\"Unable to import XXX\" may provide "
   ]
  },
  {
   "cell_type": "markdown",
   "id": "0ee46c5d-feda-4882-82b4-05784213451a",
   "metadata": {},
   "source": [
    "#### How 2 get only score\n",
    "https://github.com/pylint-dev/pylint/issues/3024 "
   ]
  },
  {
   "cell_type": "code",
   "execution_count": 2,
   "id": "237c5f0e-5afd-454c-9c90-7851a776008b",
   "metadata": {},
   "outputs": [],
   "source": [
    "import subprocess"
   ]
  },
  {
   "cell_type": "markdown",
   "id": "3edeb77e-7d68-424a-83b2-bc36a8b3153a",
   "metadata": {},
   "source": [
    "### Exempel på vad pylint kan leverera med allt enabled: ger en score baserat på PEP8 compliance - nyttja detta istället för enbart documentation? Detta är kört på den dåliga koden "
   ]
  },
  {
   "cell_type": "code",
   "execution_count": 23,
   "id": "bcacdaed-3eeb-41e9-9ae9-4c761f2a5fe9",
   "metadata": {},
   "outputs": [
    {
     "name": "stdout",
     "output_type": "stream",
     "text": [
      "************* Module /home/s/Skola/exjobb/github_metric_extractor/.pylintrc\n",
      ".pylintrc:1:0: W0012: Unknown option value for '--enable', expected a valid pylint message and got 'missing-method-docstring' (unknown-option-value)\n",
      "************* Module pylint-test2\n",
      "pylint-test2.py:67:0: C0325: Unnecessary parens after 'if' keyword (superfluous-parens)\n",
      "pylint-test2.py:71:0: C0325: Unnecessary parens after 'if' keyword (superfluous-parens)\n",
      "pylint-test2.py:93:0: C0325: Unnecessary parens after 'if' keyword (superfluous-parens)\n",
      "pylint-test2.py:95:0: C0325: Unnecessary parens after 'if' keyword (superfluous-parens)\n",
      "pylint-test2.py:102:0: C0325: Unnecessary parens after 'if' keyword (superfluous-parens)\n",
      "pylint-test2.py:105:0: C0325: Unnecessary parens after 'if' keyword (superfluous-parens)\n",
      "pylint-test2.py:111:0: C0325: Unnecessary parens after 'if' keyword (superfluous-parens)\n",
      "pylint-test2.py:113:0: C0325: Unnecessary parens after 'elif' keyword (superfluous-parens)\n",
      "pylint-test2.py:115:0: C0325: Unnecessary parens after 'elif' keyword (superfluous-parens)\n",
      "pylint-test2.py:117:0: C0325: Unnecessary parens after 'elif' keyword (superfluous-parens)\n",
      "pylint-test2.py:119:0: C0325: Unnecessary parens after 'elif' keyword (superfluous-parens)\n",
      "pylint-test2.py:121:0: C0325: Unnecessary parens after 'elif' keyword (superfluous-parens)\n",
      "pylint-test2.py:168:0: C0325: Unnecessary parens after 'if' keyword (superfluous-parens)\n",
      "pylint-test2.py:181:0: C0325: Unnecessary parens after 'if' keyword (superfluous-parens)\n",
      "pylint-test2.py:183:0: C0325: Unnecessary parens after 'elif' keyword (superfluous-parens)\n",
      "pylint-test2.py:184:0: C0301: Line too long (106/100) (line-too-long)\n",
      "pylint-test2.py:187:0: C0325: Unnecessary parens after 'elif' keyword (superfluous-parens)\n",
      "pylint-test2.py:205:0: C0325: Unnecessary parens after 'if' keyword (superfluous-parens)\n",
      "pylint-test2.py:215:0: C0325: Unnecessary parens after 'if' keyword (superfluous-parens)\n",
      "pylint-test2.py:232:0: C0325: Unnecessary parens after 'if' keyword (superfluous-parens)\n",
      "pylint-test2.py:234:0: C0325: Unnecessary parens after 'if' keyword (superfluous-parens)\n",
      "pylint-test2.py:237:0: C0325: Unnecessary parens after 'if' keyword (superfluous-parens)\n",
      "pylint-test2.py:241:0: C0325: Unnecessary parens after 'if' keyword (superfluous-parens)\n",
      "pylint-test2.py:247:0: C0325: Unnecessary parens after 'if' keyword (superfluous-parens)\n",
      "pylint-test2.py:266:0: C0301: Line too long (109/100) (line-too-long)\n",
      "pylint-test2.py:269:0: C0325: Unnecessary parens after 'if' keyword (superfluous-parens)\n",
      "pylint-test2.py:308:0: C0301: Line too long (103/100) (line-too-long)\n",
      "pylint-test2.py:371:0: C0325: Unnecessary parens after 'if' keyword (superfluous-parens)\n",
      "pylint-test2.py:378:0: C0304: Final newline missing (missing-final-newline)\n",
      "pylint-test2.py:1:0: C0114: Missing module docstring (missing-module-docstring)\n",
      "pylint-test2.py:1:0: C0103: Module name \"pylint-test2\" doesn't conform to snake_case naming style (invalid-name)\n",
      "pylint-test2.py:3:0: E0401: Unable to import 'pandas' (import-error)\n",
      "pylint-test2.py:4:0: E0401: Unable to import 'astpretty' (import-error)\n",
      "pylint-test2.py:7:0: C0103: Constant name \"dict_file\" doesn't conform to UPPER_CASE naming style (invalid-name)\n",
      "pylint-test2.py:10:0: C0116: Missing function or method docstring (missing-function-docstring)\n",
      "pylint-test2.py:10:0: R0914: Too many local variables (28/15) (too-many-locals)\n",
      "pylint-test2.py:41:23: W0718: Catching too general exception Exception (broad-exception-caught)\n",
      "pylint-test2.py:60:16: C0200: Consider using enumerate instead of iterating with range and len (consider-using-enumerate)\n",
      "pylint-test2.py:21:4: R1702: Too many nested blocks (8/5) (too-many-nested-blocks)\n",
      "pylint-test2.py:83:16: C0200: Consider using enumerate instead of iterating with range and len (consider-using-enumerate)\n",
      "pylint-test2.py:21:4: R1702: Too many nested blocks (7/5) (too-many-nested-blocks)\n",
      "pylint-test2.py:10:0: R0912: Too many branches (13/12) (too-many-branches)\n",
      "pylint-test2.py:10:0: R0915: Too many statements (51/50) (too-many-statements)\n",
      "pylint-test2.py:17:4: W0612: Unused variable 'count_chk' (unused-variable)\n",
      "pylint-test2.py:21:16: W0612: Unused variable 'dirs' (unused-variable)\n",
      "pylint-test2.py:62:20: W0612: Unused variable 'outs' (unused-variable)\n",
      "pylint-test2.py:79:16: W0612: Unused variable 'chk' (unused-variable)\n",
      "pylint-test2.py:92:0: C0116: Missing function or method docstring (missing-function-docstring)\n",
      "pylint-test2.py:92:18: W0622: Redefining built-in 'dict' (redefined-builtin)\n",
      "pylint-test2.py:102:12: C1805: \"len(pipe) == 0\" can be simplified to \"not len(pipe)\", if it is strictly an int, as 0 is falsey (use-implicit-booleaness-not-comparison-to-zero)\n",
      "pylint-test2.py:110:0: C0116: Missing function or method docstring (missing-function-docstring)\n",
      "pylint-test2.py:111:4: R1705: Unnecessary \"elif\" after \"return\", remove the leading \"el\" from \"elif\" (no-else-return)\n",
      "pylint-test2.py:110:0: R0911: Too many return statements (7/6) (too-many-return-statements)\n",
      "pylint-test2.py:126:0: C0116: Missing function or method docstring (missing-function-docstring)\n",
      "pylint-test2.py:126:0: C0103: Function name \"RepresentsInt\" doesn't conform to snake_case naming style (invalid-name)\n",
      "pylint-test2.py:133:0: C0116: Missing function or method docstring (missing-function-docstring)\n",
      "pylint-test2.py:134:9: W1514: Using open without explicitly specifying an encoding (unspecified-encoding)\n",
      "pylint-test2.py:139:0: C0115: Missing class docstring (missing-class-docstring)\n",
      "pylint-test2.py:157:8: C0103: Attribute name \"isFunc\" doesn't conform to snake_case naming style (invalid-name)\n",
      "pylint-test2.py:139:0: R0902: Too many instance attributes (8/7) (too-many-instance-attributes)\n",
      "pylint-test2.py:153:4: C0116: Missing function or method docstring (missing-function-docstring)\n",
      "pylint-test2.py:153:4: C0103: Method name \"visit_ClassDef\" doesn't conform to snake_case naming style (invalid-name)\n",
      "pylint-test2.py:156:4: C0116: Missing function or method docstring (missing-function-docstring)\n",
      "pylint-test2.py:156:4: C0103: Method name \"visit_FunctionDef\" doesn't conform to snake_case naming style (invalid-name)\n",
      "pylint-test2.py:164:4: C0116: Missing function or method docstring (missing-function-docstring)\n",
      "pylint-test2.py:164:4: C0103: Method name \"visit_Assign\" doesn't conform to snake_case naming style (invalid-name)\n",
      "pylint-test2.py:180:4: C0116: Missing function or method docstring (missing-function-docstring)\n",
      "pylint-test2.py:180:4: C0103: Method name \"getSymbol\" doesn't conform to snake_case naming style (invalid-name)\n",
      "pylint-test2.py:181:8: R1705: Unnecessary \"elif\" after \"return\", remove the leading \"el\" from \"elif\" (no-else-return)\n",
      "pylint-test2.py:180:4: R1710: Either all return statements in a function should return an expression, or none of them should. (inconsistent-return-statements)\n",
      "pylint-test2.py:193:4: C0116: Missing function or method docstring (missing-function-docstring)\n",
      "pylint-test2.py:193:4: C0103: Method name \"visit_Call\" doesn't conform to snake_case naming style (invalid-name)\n",
      "pylint-test2.py:202:12: W0702: No exception type(s) specified (bare-except)\n",
      "pylint-test2.py:220:12: W0702: No exception type(s) specified (bare-except)\n",
      "pylint-test2.py:224:11: C1804: \"api != ''\" can be simplified to \"api\", if it is striclty a string, as an empty string is falsey (use-implicit-booleaness-not-comparison-to-string)\n",
      "pylint-test2.py:229:16: R1714: Consider merging these comparisons with 'in' by using 's in ('0', '8')'. Use a set instead if elements are hashable. (consider-using-in)\n",
      "pylint-test2.py:234:24: C1805: \"len(self.f_dict[self.f_name[-1]]) == 0\" can be simplified to \"not len(self.f_dict[self.f_name[-1]])\", if it is strictly an int, as 0 is falsey (use-implicit-booleaness-not-comparison-to-zero)\n",
      "pylint-test2.py:241:24: C1805: \"len(self.s_list) == 0\" can be simplified to \"not len(self.s_list)\", if it is strictly an int, as 0 is falsey (use-implicit-booleaness-not-comparison-to-zero)\n",
      "pylint-test2.py:193:4: R0912: Too many branches (14/12) (too-many-branches)\n",
      "pylint-test2.py:258:4: C0116: Missing function or method docstring (missing-function-docstring)\n",
      "pylint-test2.py:258:4: E0213: Method 'get_args' should have \"self\" as first argument (no-self-argument)\n",
      "pylint-test2.py:261:19: E1101: Instance of 'FuncLister' has no 'args' member (no-member)\n",
      "pylint-test2.py:271:18: E1101: Instance of 'FuncLister' has no 'keywords' member (no-member)\n",
      "pylint-test2.py:273:19: C0121: Comparison 'kw.arg == None' should be 'kw.arg is None' (singleton-comparison)\n",
      "pylint-test2.py:280:0: C0115: Missing class docstring (missing-class-docstring)\n",
      "pylint-test2.py:281:4: C0116: Missing function or method docstring (missing-function-docstring)\n",
      "pylint-test2.py:281:4: C0103: Method name \"visit_Attribute\" doesn't conform to snake_case naming style (invalid-name)\n",
      "pylint-test2.py:283:15: C1804: \"FuncLister.trailler == ''\" can be simplified to \"not FuncLister.trailler\", if it is striclty a string, as an empty string is falsey (use-implicit-booleaness-not-comparison-to-string)\n",
      "pylint-test2.py:288:15: C1804: \"FuncLister.trailler == ''\" can be simplified to \"not FuncLister.trailler\", if it is striclty a string, as an empty string is falsey (use-implicit-booleaness-not-comparison-to-string)\n",
      "pylint-test2.py:295:0: C0115: Missing class docstring (missing-class-docstring)\n",
      "pylint-test2.py:296:4: C0116: Missing function or method docstring (missing-function-docstring)\n",
      "pylint-test2.py:297:8: R1705: Unnecessary \"elif\" after \"return\", remove the leading \"el\" from \"elif\" (no-else-return)\n",
      "pylint-test2.py:296:4: R0911: Too many return statements (10/6) (too-many-return-statements)\n",
      "pylint-test2.py:320:4: C0116: Missing function or method docstring (missing-function-docstring)\n",
      "pylint-test2.py:326:4: C0116: Missing function or method docstring (missing-function-docstring)\n",
      "pylint-test2.py:327:8: R1705: Unnecessary \"elif\" after \"return\", remove the leading \"el\" from \"elif\" (no-else-return)\n",
      "pylint-test2.py:326:4: R0911: Too many return statements (12/6) (too-many-return-statements)\n",
      "pylint-test2.py:326:4: R1710: Either all return statements in a function should return an expression, or none of them should. (inconsistent-return-statements)\n",
      "pylint-test2.py:352:4: C0116: Missing function or method docstring (missing-function-docstring)\n",
      "pylint-test2.py:352:4: E0213: Method 'write' should have \"self\" as first argument (no-self-argument)\n",
      "pylint-test2.py:353:13: W1514: Using open without explicitly specifying an encoding (unspecified-encoding)\n",
      "pylint-test2.py:356:4: C0116: Missing function or method docstring (missing-function-docstring)\n",
      "pylint-test2.py:356:4: E0213: Method 'flush' should have \"self\" as first argument (no-self-argument)\n",
      "pylint-test2.py:357:8: R1732: Consider using 'with' for resource-allocating operations (consider-using-with)\n",
      "pylint-test2.py:357:8: W1514: Using open without explicitly specifying an encoding (unspecified-encoding)\n",
      "pylint-test2.py:359:4: C0116: Missing function or method docstring (missing-function-docstring)\n",
      "pylint-test2.py:359:4: E0213: Method 'get_stage' should have \"self\" as first argument (no-self-argument)\n",
      "pylint-test2.py:360:15: E1101: Instance of 'Utils' has no 'split' member (no-member)\n",
      "pylint-test2.py:4:0: W0611: Unused import astpretty (unused-import)\n",
      "\n",
      "------------------------------------------------------------------\n",
      "Your code has been rated at 5.07/10 (previous run: 5.07/10, +0.00)\n",
      "\n",
      "\n"
     ]
    }
   ],
   "source": [
    "print(subprocess.run([\"pylint\", \"--enable=all\", \"pylint-test2.py\"], capture_output=True, text=True).stdout)"
   ]
  },
  {
   "cell_type": "markdown",
   "id": "f107992f-51dd-4051-9aeb-66c82aa10b0e",
   "metadata": {},
   "source": [
    "### Exempel på score från Tobbes kod, bra mkt bättre än scientistkoden från artifact"
   ]
  },
  {
   "cell_type": "code",
   "execution_count": 25,
   "id": "5b6e98bf-5a34-4d7b-bfdb-043376ae99ca",
   "metadata": {},
   "outputs": [
    {
     "name": "stdout",
     "output_type": "stream",
     "text": [
      "************* Module /home/s/Skola/exjobb/github_metric_extractor/.pylintrc\n",
      ".pylintrc:1:0: W0012: Unknown option value for '--enable', expected a valid pylint message and got 'missing-method-docstring' (unknown-option-value)\n",
      "************* Module pylint-test\n",
      "pylint-test.py:43:0: C0301: Line too long (117/100) (line-too-long)\n",
      "pylint-test.py:56:0: C0301: Line too long (103/100) (line-too-long)\n",
      "pylint-test.py:79:0: C0301: Line too long (103/100) (line-too-long)\n",
      "pylint-test.py:111:0: C0301: Line too long (106/100) (line-too-long)\n",
      "pylint-test.py:112:0: C0305: Trailing newlines (trailing-newlines)\n",
      "pylint-test.py:1:0: C0114: Missing module docstring (missing-module-docstring)\n",
      "pylint-test.py:1:0: C0103: Module name \"pylint-test\" doesn't conform to snake_case naming style (invalid-name)\n",
      "pylint-test.py:10:0: C0115: Missing class docstring (missing-class-docstring)\n",
      "pylint-test.py:21:4: C0116: Missing function or method docstring (missing-function-docstring)\n",
      "pylint-test.py:51:11: W0718: Catching too general exception Exception (broad-exception-caught)\n",
      "pylint-test.py:39:12: W1201: Use lazy % formatting in logging functions (logging-not-lazy)\n",
      "pylint-test.py:43:12: W1201: Use lazy % formatting in logging functions (logging-not-lazy)\n",
      "pylint-test.py:46:8: W1201: Use lazy % formatting in logging functions (logging-not-lazy)\n",
      "pylint-test.py:52:8: W1201: Use lazy % formatting in logging functions (logging-not-lazy)\n",
      "pylint-test.py:76:13: W1514: Using open without explicitly specifying an encoding (unspecified-encoding)\n",
      "pylint-test.py:85:8: W1201: Use lazy % formatting in logging functions (logging-not-lazy)\n",
      "pylint-test.py:87:12: W1201: Use lazy % formatting in logging functions (logging-not-lazy)\n",
      "pylint-test.py:4:0: C0411: standard import \"from pathlib import Path\" should be placed before \"from git import Repo, RemoteProgress\" (wrong-import-order)\n",
      "pylint-test.py:5:0: C0411: standard import \"import logging\" should be placed before \"from git import Repo, RemoteProgress\" (wrong-import-order)\n",
      "pylint-test.py:6:0: C0411: standard import \"import re\" should be placed before \"from git import Repo, RemoteProgress\" (wrong-import-order)\n",
      "\n",
      "------------------------------------------------------------------\n",
      "Your code has been rated at 7.22/10 (previous run: 7.22/10, +0.00)\n",
      "\n",
      "\n"
     ]
    }
   ],
   "source": [
    "print(subprocess.run([\"pylint\", \"--enable=all\", \"pylint-test.py\"], capture_output=True, text=True).stdout)"
   ]
  },
  {
   "cell_type": "markdown",
   "id": "2c625b0d-e0ce-4145-8e90-a346c404ef7f",
   "metadata": {},
   "source": [
    "### Exempel på score från bra docs"
   ]
  },
  {
   "cell_type": "code",
   "execution_count": 18,
   "id": "2bbac301-d95b-418f-a1a8-bb1622fb206d",
   "metadata": {},
   "outputs": [
    {
     "name": "stdout",
     "output_type": "stream",
     "text": [
      "************* Module pylint-test\n",
      "pylint-test.py:1:0: C0114: Missing module docstring (missing-module-docstring)\n",
      "pylint-test.py:10:0: C0115: Missing class docstring (missing-class-docstring)\n",
      "pylint-test.py:21:4: C0116: Missing function or method docstring (missing-function-docstring)\n",
      "\n",
      "-----------------------------------\n",
      "Your code has been rated at 9.58/10\n",
      "\n",
      "\n"
     ]
    }
   ],
   "source": [
    "result1 = subprocess.run([\"pylint\", \"--rcfile\", \".pylintrc\", \"pylint-test.py\"], capture_output=True, text=True)\n",
    "print(result.stdout)"
   ]
  },
  {
   "cell_type": "markdown",
   "id": "47093075-515a-49ad-b2a5-5b0debecbe5f",
   "metadata": {},
   "source": [
    "### TODO - Exempel från dålig dokumentation - ta reda på varför score är hög även fast dålig docs - hur göra score baserad på endast dokumentation? Och vill vi ens göra det, eller köra på all inclusive?"
   ]
  },
  {
   "cell_type": "code",
   "execution_count": 17,
   "id": "3e96c18d-e2b8-4788-9911-69bc929f71ce",
   "metadata": {},
   "outputs": [
    {
     "name": "stdout",
     "output_type": "stream",
     "text": [
      "************* Module pylint-test2\n",
      "pylint-test2.py:1:0: C0114: Missing module docstring (missing-module-docstring)\n",
      "pylint-test2.py:10:0: C0116: Missing function or method docstring (missing-function-docstring)\n",
      "pylint-test2.py:92:0: C0116: Missing function or method docstring (missing-function-docstring)\n",
      "pylint-test2.py:110:0: C0116: Missing function or method docstring (missing-function-docstring)\n",
      "pylint-test2.py:126:0: C0116: Missing function or method docstring (missing-function-docstring)\n",
      "pylint-test2.py:133:0: C0116: Missing function or method docstring (missing-function-docstring)\n",
      "pylint-test2.py:139:0: C0115: Missing class docstring (missing-class-docstring)\n",
      "pylint-test2.py:153:4: C0116: Missing function or method docstring (missing-function-docstring)\n",
      "pylint-test2.py:156:4: C0116: Missing function or method docstring (missing-function-docstring)\n",
      "pylint-test2.py:164:4: C0116: Missing function or method docstring (missing-function-docstring)\n",
      "pylint-test2.py:180:4: C0116: Missing function or method docstring (missing-function-docstring)\n",
      "pylint-test2.py:193:4: C0116: Missing function or method docstring (missing-function-docstring)\n",
      "pylint-test2.py:258:4: C0116: Missing function or method docstring (missing-function-docstring)\n",
      "pylint-test2.py:280:0: C0115: Missing class docstring (missing-class-docstring)\n",
      "pylint-test2.py:281:4: C0116: Missing function or method docstring (missing-function-docstring)\n",
      "pylint-test2.py:295:0: C0115: Missing class docstring (missing-class-docstring)\n",
      "pylint-test2.py:296:4: C0116: Missing function or method docstring (missing-function-docstring)\n",
      "pylint-test2.py:320:4: C0116: Missing function or method docstring (missing-function-docstring)\n",
      "pylint-test2.py:326:4: C0116: Missing function or method docstring (missing-function-docstring)\n",
      "pylint-test2.py:352:4: C0116: Missing function or method docstring (missing-function-docstring)\n",
      "pylint-test2.py:356:4: C0116: Missing function or method docstring (missing-function-docstring)\n",
      "pylint-test2.py:359:4: C0116: Missing function or method docstring (missing-function-docstring)\n",
      "\n",
      "------------------------------------------------------------------\n",
      "Your code has been rated at 9.25/10 (previous run: 9.25/10, +0.00)\n",
      "\n",
      "\n"
     ]
    }
   ],
   "source": [
    "result2 = subprocess.run([\"pylint\", \"--rcfile\", \".pylintrc\", \"pylint-test2.py\"], capture_output=True, text=True)\n",
    "print(result2.stdout)"
   ]
  }
 ],
 "metadata": {
  "kernelspec": {
   "display_name": "Python 3 (ipykernel)",
   "language": "python",
   "name": "python3"
  },
  "language_info": {
   "codemirror_mode": {
    "name": "ipython",
    "version": 3
   },
   "file_extension": ".py",
   "mimetype": "text/x-python",
   "name": "python",
   "nbconvert_exporter": "python",
   "pygments_lexer": "ipython3",
   "version": "3.11.4"
  }
 },
 "nbformat": 4,
 "nbformat_minor": 5
}
