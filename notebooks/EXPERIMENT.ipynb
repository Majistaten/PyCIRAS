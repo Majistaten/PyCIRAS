{
 "cells": [
  {
   "cell_type": "markdown",
   "id": "6cbe30f4-2377-4ca8-91e7-f08cf80a9f4b",
   "metadata": {},
   "source": [
    "# EXPERIMENT"
   ]
  },
  {
   "cell_type": "markdown",
   "id": "6a65ffc3-c263-470a-911c-0ca9ce6a46d6",
   "metadata": {},
   "source": [
    "### TODO \n",
    "\n",
    "Se till att repo name är likadant i all data, format: \"owner/repo\"\n"
   ]
  },
  {
   "cell_type": "markdown",
   "id": "70d52093-1b34-4574-a22b-19c38753146b",
   "metadata": {},
   "source": [
    "Analysera varje repository var för sig:\n",
    "\n",
    "Börja vid datumet för första commit och gör en serie med rader:\n",
    "\n",
    "* Col1: Datum, Col2: Pylint global note, Col3: Unit Testing (vilken typ av värde), Col4.. : Metric X, ColN: Stargazers"
   ]
  },
  {
   "cell_type": "markdown",
   "id": "2a070b9e-e8d5-46d5-9c9b-a7c4d724baf3",
   "metadata": {},
   "source": [
    "## Analys 1 - Repos analysera för sig, med koppling mellan metrics och popularity\n",
    "\n",
    "### Pylint\n",
    "1 CSV per repo. Rad: [Datum, Global Note, Metrics...] - det borde vara bra, borde gå att joina ihop på datum från en annan CSV för t.ex stargazers\n",
    "\n",
    "### Stargazers\n",
    "1 CSV för alla repos. Rad: [Datum, (Header=Repo Cell=Stars)]. Datum flödar i Y led, en kolumn som representerar ett repo borde kunna hämtas lätt för att läggas in i analysdokument.\n",
    "\n",
    "## Analys 2 - Analysera alla repos popularitet över tid, kolla när unittesting/requirements.txt etc dyker upp - finns det samband?\n",
    "\n",
    "\"Såhär populära är repos med unittesting i snitt, såhär populära är dom utan\"\n",
    "\"Popularitet och antal commits över tid.. etc\"\n",
    "\n",
    "### Pydriller\n",
    "1 CSV för alla repos. Rad: [Repo, Metrics.. ] - metrics är inte tidsberoende data, utan genomsnitt för ett helt repo och en hel livstidscykel. Kan jämföras direkt mellan repos i formatet det ligger, vilket är bra. Lägg på stargazers JUST NU, som en kolumn, och jämför med datan.\n",
    "\n",
    "\n",
    "\n",
    "### Unittesting\n",
    "\n",
    "csv format..\n",
    "\n",
    "Analysera alla repos popularity över tid, och se om det finns ett samband att unit testing har\n",
    "börjat förekomma i många repos desto populärare de har blivit. Representera med att tidpunkterna för analysen har olika färger. Svart = ingen unit testing, Grön = använder unit testing\n",
    "\n"
   ]
  },
  {
   "cell_type": "markdown",
   "id": "1619d3a3-34ab-49fa-8f48-e04d3a793221",
   "metadata": {},
   "source": [
    "## Joina ihop data"
   ]
  },
  {
   "cell_type": "markdown",
   "id": "98dd4a52-4d8c-4338-b36e-4434cd09be78",
   "metadata": {},
   "source": [
    "Bygg en lista med Rad: [datum] som är de datum som gäller, typ slå samman datumkolumnerna från alla analyser och normalisera. \n",
    "\n",
    "Lägg på kolumner med metrics från från pylint, och andra metrics, och stargazers.\n",
    "\n",
    "Jämför direkt\n",
    "\n",
    "\n",
    "\n",
    "\n",
    "Datum: <--- commit historiken. (start, slut)\n",
    "\n",
    "Baserat på dessa datum -> hämta ut star historian\n",
    "\n",
    "Filtrera bort star history från utanför projektets lifespan -> baserat på lifespan CSV.\n",
    "\n"
   ]
  },
  {
   "cell_type": "code",
   "execution_count": 1,
   "id": "0d2384e9-fe3a-42ed-954b-a2d9f5be0d57",
   "metadata": {},
   "outputs": [],
   "source": [
    "import setup_notebook_environment"
   ]
  },
  {
   "cell_type": "code",
   "execution_count": 2,
   "id": "7590170e-14bb-491e-986a-a856fe50a1c4",
   "metadata": {},
   "outputs": [],
   "source": [
    "import pyciras"
   ]
  },
  {
   "cell_type": "markdown",
   "id": "f912151a-f685-4972-be2e-a15ada85da02",
   "metadata": {},
   "source": [
    "# TODO konstig progress bar på loading repositories? Funkar inte på parallell?"
   ]
  },
  {
   "cell_type": "code",
   "execution_count": 3,
   "id": "6e6fe069-2b82-4f15-95e5-84ddcf590e37",
   "metadata": {},
   "outputs": [
    {
     "name": "stderr",
     "output_type": "stream",
     "text": [
      "ERROR:root:Something went wrong when cloning the repository!\n",
      "Only one live display may be active at once\n"
     ]
    },
    {
     "data": {
      "text/html": [
       "<pre style=\"white-space:pre;overflow-x:auto;line-height:normal;font-family:Menlo,'DejaVu Sans Mono',consolas,'Courier New',monospace\">\n",
       "</pre>\n"
      ],
      "text/plain": [
       "\n"
      ]
     },
     "metadata": {},
     "output_type": "display_data"
    },
    {
     "name": "stderr",
     "output_type": "stream",
     "text": [
      "ERROR:root:Failed to download repository from https://github.com/githubnext/amalfi-artifact\n",
      "ERROR:root:Something went wrong when cloning the repository!\n",
      "Only one live display may be active at once\n"
     ]
    },
    {
     "data": {
      "text/html": [
       "<pre style=\"white-space:pre;overflow-x:auto;line-height:normal;font-family:Menlo,'DejaVu Sans Mono',consolas,'Courier New',monospace\">\n",
       "</pre>\n"
      ],
      "text/plain": [
       "\n"
      ]
     },
     "metadata": {},
     "output_type": "display_data"
    },
    {
     "name": "stderr",
     "output_type": "stream",
     "text": [
      "ERROR:root:Failed to download repository from https://github.com/facebookresearch/data_driven_infer\n"
     ]
    },
    {
     "data": {
      "application/vnd.jupyter.widget-view+json": {
       "model_id": "64099da6d97a4fc1b490c5b804a6052c",
       "version_major": 2,
       "version_minor": 0
      },
      "text/plain": [
       "Output()"
      ]
     },
     "metadata": {},
     "output_type": "display_data"
    },
    {
     "data": {
      "text/html": [
       "<pre style=\"white-space:pre;overflow-x:auto;line-height:normal;font-family:Menlo,'DejaVu Sans Mono',consolas,'Courier New',monospace\"></pre>\n"
      ],
      "text/plain": []
     },
     "metadata": {},
     "output_type": "display_data"
    },
    {
     "data": {
      "text/html": [
       "<pre style=\"white-space:pre;overflow-x:auto;line-height:normal;font-family:Menlo,'DejaVu Sans Mono',consolas,'Courier New',monospace\">\n",
       "</pre>\n"
      ],
      "text/plain": [
       "\n"
      ]
     },
     "metadata": {},
     "output_type": "display_data"
    },
    {
     "data": {
      "application/vnd.jupyter.widget-view+json": {
       "model_id": "5cfd4ab3d1714596bfec481ecd66204c",
       "version_major": 2,
       "version_minor": 0
      },
      "text/plain": [
       "Output()"
      ]
     },
     "metadata": {},
     "output_type": "display_data"
    },
    {
     "data": {
      "text/html": [
       "<pre style=\"white-space:pre;overflow-x:auto;line-height:normal;font-family:Menlo,'DejaVu Sans Mono',consolas,'Courier New',monospace\"></pre>\n"
      ],
      "text/plain": []
     },
     "metadata": {},
     "output_type": "display_data"
    },
    {
     "data": {
      "text/html": [
       "<pre style=\"white-space:pre;overflow-x:auto;line-height:normal;font-family:Menlo,'DejaVu Sans Mono',consolas,'Courier New',monospace\">\n",
       "</pre>\n"
      ],
      "text/plain": [
       "\n"
      ]
     },
     "metadata": {},
     "output_type": "display_data"
    },
    {
     "data": {
      "application/vnd.jupyter.widget-view+json": {
       "model_id": "554559bc6da544f09ad25e7998361961",
       "version_major": 2,
       "version_minor": 0
      },
      "text/plain": [
       "Output()"
      ]
     },
     "metadata": {},
     "output_type": "display_data"
    },
    {
     "data": {
      "text/html": [
       "<pre style=\"white-space:pre;overflow-x:auto;line-height:normal;font-family:Menlo,'DejaVu Sans Mono',consolas,'Courier New',monospace\"></pre>\n"
      ],
      "text/plain": []
     },
     "metadata": {},
     "output_type": "display_data"
    },
    {
     "data": {
      "text/html": [
       "<pre style=\"white-space:pre;overflow-x:auto;line-height:normal;font-family:Menlo,'DejaVu Sans Mono',consolas,'Courier New',monospace\">\n",
       "</pre>\n"
      ],
      "text/plain": [
       "\n"
      ]
     },
     "metadata": {},
     "output_type": "display_data"
    },
    {
     "data": {
      "application/vnd.jupyter.widget-view+json": {
       "model_id": "87bcfdf3ec7c472e9b8dc964777bb112",
       "version_major": 2,
       "version_minor": 0
      },
      "text/plain": [
       "Output()"
      ]
     },
     "metadata": {},
     "output_type": "display_data"
    },
    {
     "data": {
      "text/html": [
       "<pre style=\"white-space:pre;overflow-x:auto;line-height:normal;font-family:Menlo,'DejaVu Sans Mono',consolas,'Courier New',monospace\"></pre>\n"
      ],
      "text/plain": []
     },
     "metadata": {},
     "output_type": "display_data"
    },
    {
     "data": {
      "text/html": [
       "<pre style=\"white-space:pre;overflow-x:auto;line-height:normal;font-family:Menlo,'DejaVu Sans Mono',consolas,'Courier New',monospace\">\n",
       "</pre>\n"
      ],
      "text/plain": [
       "\n"
      ]
     },
     "metadata": {},
     "output_type": "display_data"
    },
    {
     "data": {
      "application/vnd.jupyter.widget-view+json": {
       "model_id": "62e0c88e1c734884af1aecd8983edd6c",
       "version_major": 2,
       "version_minor": 0
      },
      "text/plain": [
       "Output()"
      ]
     },
     "metadata": {},
     "output_type": "display_data"
    },
    {
     "data": {
      "text/html": [
       "<pre style=\"white-space:pre;overflow-x:auto;line-height:normal;font-family:Menlo,'DejaVu Sans Mono',consolas,'Courier New',monospace\"></pre>\n"
      ],
      "text/plain": []
     },
     "metadata": {},
     "output_type": "display_data"
    },
    {
     "data": {
      "text/html": [
       "<pre style=\"white-space:pre;overflow-x:auto;line-height:normal;font-family:Menlo,'DejaVu Sans Mono',consolas,'Courier New',monospace\">\n",
       "</pre>\n"
      ],
      "text/plain": [
       "\n"
      ]
     },
     "metadata": {},
     "output_type": "display_data"
    },
    {
     "data": {
      "application/vnd.jupyter.widget-view+json": {
       "model_id": "734ee9cf918b45beb0eb02c10fbe627e",
       "version_major": 2,
       "version_minor": 0
      },
      "text/plain": [
       "Output()"
      ]
     },
     "metadata": {},
     "output_type": "display_data"
    },
    {
     "data": {
      "text/html": [
       "<pre style=\"white-space:pre;overflow-x:auto;line-height:normal;font-family:Menlo,'DejaVu Sans Mono',consolas,'Courier New',monospace\"></pre>\n"
      ],
      "text/plain": []
     },
     "metadata": {},
     "output_type": "display_data"
    },
    {
     "data": {
      "text/html": [
       "<pre style=\"white-space:pre;overflow-x:auto;line-height:normal;font-family:Menlo,'DejaVu Sans Mono',consolas,'Courier New',monospace\">\n",
       "</pre>\n"
      ],
      "text/plain": [
       "\n"
      ]
     },
     "metadata": {},
     "output_type": "display_data"
    },
    {
     "ename": "LiveError",
     "evalue": "Only one live display may be active at once",
     "output_type": "error",
     "traceback": [
      "\u001b[0;31m---------------------------------------------------------------------------\u001b[0m",
      "\u001b[0;31mLiveError\u001b[0m                                 Traceback (most recent call last)",
      "Cell \u001b[0;32mIn[3], line 1\u001b[0m\n\u001b[0;32m----> 1\u001b[0m \u001b[43mpyciras\u001b[49m\u001b[38;5;241;43m.\u001b[39;49m\u001b[43mmain\u001b[49m\u001b[43m(\u001b[49m\u001b[43m)\u001b[49m\n",
      "File \u001b[0;32m~/Skola/exjobb/github_metric_extractor/pyciras.py:141\u001b[0m, in \u001b[0;36mmain\u001b[0;34m()\u001b[0m\n\u001b[1;32m    138\u001b[0m \u001b[38;5;28;01mdef\u001b[39;00m \u001b[38;5;21mmain\u001b[39m():\n\u001b[1;32m    139\u001b[0m \u001b[38;5;250m    \u001b[39m\u001b[38;5;124;03m\"\"\"Test script for downloading repos, extracting metrics and printing to file\"\"\"\u001b[39;00m\n\u001b[0;32m--> 141\u001b[0m     \u001b[43m_load_balancing\u001b[49m\u001b[43m(\u001b[49m\u001b[43mrepo_urls\u001b[49m\u001b[38;5;241;43m=\u001b[39;49m\u001b[43mutil\u001b[49m\u001b[38;5;241;43m.\u001b[39;49m\u001b[43mget_repository_urls_from_file\u001b[49m\u001b[43m(\u001b[49m\u001b[43mconfig\u001b[49m\u001b[38;5;241;43m.\u001b[39;49m\u001b[43mREPOSITORY_URLS\u001b[49m\u001b[43m)\u001b[49m\u001b[43m,\u001b[49m\u001b[43m \u001b[49m\u001b[43mgroup_size\u001b[49m\u001b[38;5;241;43m=\u001b[39;49m\u001b[38;5;241;43m3\u001b[39;49m\u001b[43m,\u001b[49m\n\u001b[1;32m    142\u001b[0m \u001b[43m                    \u001b[49m\u001b[43muse_subprocesses\u001b[49m\u001b[38;5;241;43m=\u001b[39;49m\u001b[38;5;28;43;01mTrue\u001b[39;49;00m\u001b[43m,\u001b[49m\u001b[43m \u001b[49m\u001b[43mremove_repos_after_completion\u001b[49m\u001b[38;5;241;43m=\u001b[39;49m\u001b[38;5;28;43;01mTrue\u001b[39;49;00m\u001b[43m)\u001b[49m\n",
      "File \u001b[0;32m~/Skola/exjobb/github_metric_extractor/pyciras.py:114\u001b[0m, in \u001b[0;36m_load_balancing\u001b[0;34m(repo_urls, group_size, use_subprocesses, remove_repos_after_completion)\u001b[0m\n\u001b[1;32m    112\u001b[0m current_group \u001b[38;5;241m=\u001b[39m repo_urls[i:i \u001b[38;5;241m+\u001b[39m group_size]\n\u001b[1;32m    113\u001b[0m \u001b[38;5;28;01mif\u001b[39;00m use_subprocesses:\n\u001b[0;32m--> 114\u001b[0m     \u001b[43m_execute_in_parallel\u001b[49m\u001b[43m(\u001b[49m\u001b[43mfunc\u001b[49m\u001b[38;5;241;43m=\u001b[39;49m\u001b[43m_process_group\u001b[49m\u001b[43m,\u001b[49m\n\u001b[1;32m    115\u001b[0m \u001b[43m                         \u001b[49m\u001b[43margs_list\u001b[49m\u001b[38;5;241;43m=\u001b[39;49m\u001b[43m[\u001b[49m\u001b[43m(\u001b[49m\u001b[43m[\u001b[49m\u001b[43mrepo\u001b[49m\u001b[43m]\u001b[49m\u001b[43m,\u001b[49m\u001b[43m \u001b[49m\u001b[43mremove_repos_after_completion\u001b[49m\u001b[43m)\u001b[49m\u001b[43m \u001b[49m\u001b[38;5;28;43;01mfor\u001b[39;49;00m\u001b[43m \u001b[49m\u001b[43mrepo\u001b[49m\u001b[43m \u001b[49m\u001b[38;5;129;43;01min\u001b[39;49;00m\u001b[43m \u001b[49m\u001b[43mcurrent_group\u001b[49m\u001b[43m]\u001b[49m\u001b[43m,\u001b[49m\n\u001b[1;32m    116\u001b[0m \u001b[43m                         \u001b[49m\u001b[43mmax_workers\u001b[49m\u001b[38;5;241;43m=\u001b[39;49m\u001b[43mgroup_size\u001b[49m\u001b[43m)\u001b[49m\n\u001b[1;32m    117\u001b[0m \u001b[38;5;28;01melse\u001b[39;00m:\n\u001b[1;32m    118\u001b[0m     _process_group(current_group, remove_repos_after_completion)\n",
      "File \u001b[0;32m~/Skola/exjobb/github_metric_extractor/pyciras.py:126\u001b[0m, in \u001b[0;36m_execute_in_parallel\u001b[0;34m(func, args_list, max_workers)\u001b[0m\n\u001b[1;32m    124\u001b[0m futures \u001b[38;5;241m=\u001b[39m [executor\u001b[38;5;241m.\u001b[39msubmit(func, \u001b[38;5;241m*\u001b[39margs) \u001b[38;5;28;01mfor\u001b[39;00m args \u001b[38;5;129;01min\u001b[39;00m args_list]\n\u001b[1;32m    125\u001b[0m \u001b[38;5;28;01mfor\u001b[39;00m future \u001b[38;5;129;01min\u001b[39;00m concurrent\u001b[38;5;241m.\u001b[39mfutures\u001b[38;5;241m.\u001b[39mas_completed(futures):\n\u001b[0;32m--> 126\u001b[0m     \u001b[43mfuture\u001b[49m\u001b[38;5;241;43m.\u001b[39;49m\u001b[43mresult\u001b[49m\u001b[43m(\u001b[49m\u001b[43m)\u001b[49m\n",
      "File \u001b[0;32m/usr/lib/python3.11/concurrent/futures/_base.py:449\u001b[0m, in \u001b[0;36mFuture.result\u001b[0;34m(self, timeout)\u001b[0m\n\u001b[1;32m    447\u001b[0m     \u001b[38;5;28;01mraise\u001b[39;00m CancelledError()\n\u001b[1;32m    448\u001b[0m \u001b[38;5;28;01melif\u001b[39;00m \u001b[38;5;28mself\u001b[39m\u001b[38;5;241m.\u001b[39m_state \u001b[38;5;241m==\u001b[39m FINISHED:\n\u001b[0;32m--> 449\u001b[0m     \u001b[38;5;28;01mreturn\u001b[39;00m \u001b[38;5;28;43mself\u001b[39;49m\u001b[38;5;241;43m.\u001b[39;49m\u001b[43m__get_result\u001b[49m\u001b[43m(\u001b[49m\u001b[43m)\u001b[49m\n\u001b[1;32m    451\u001b[0m \u001b[38;5;28mself\u001b[39m\u001b[38;5;241m.\u001b[39m_condition\u001b[38;5;241m.\u001b[39mwait(timeout)\n\u001b[1;32m    453\u001b[0m \u001b[38;5;28;01mif\u001b[39;00m \u001b[38;5;28mself\u001b[39m\u001b[38;5;241m.\u001b[39m_state \u001b[38;5;129;01min\u001b[39;00m [CANCELLED, CANCELLED_AND_NOTIFIED]:\n",
      "File \u001b[0;32m/usr/lib/python3.11/concurrent/futures/_base.py:401\u001b[0m, in \u001b[0;36mFuture.__get_result\u001b[0;34m(self)\u001b[0m\n\u001b[1;32m    399\u001b[0m \u001b[38;5;28;01mif\u001b[39;00m \u001b[38;5;28mself\u001b[39m\u001b[38;5;241m.\u001b[39m_exception:\n\u001b[1;32m    400\u001b[0m     \u001b[38;5;28;01mtry\u001b[39;00m:\n\u001b[0;32m--> 401\u001b[0m         \u001b[38;5;28;01mraise\u001b[39;00m \u001b[38;5;28mself\u001b[39m\u001b[38;5;241m.\u001b[39m_exception\n\u001b[1;32m    402\u001b[0m     \u001b[38;5;28;01mfinally\u001b[39;00m:\n\u001b[1;32m    403\u001b[0m         \u001b[38;5;66;03m# Break a reference cycle with the exception in self._exception\u001b[39;00m\n\u001b[1;32m    404\u001b[0m         \u001b[38;5;28mself\u001b[39m \u001b[38;5;241m=\u001b[39m \u001b[38;5;28;01mNone\u001b[39;00m\n",
      "File \u001b[0;32m/usr/lib/python3.11/concurrent/futures/thread.py:58\u001b[0m, in \u001b[0;36m_WorkItem.run\u001b[0;34m(self)\u001b[0m\n\u001b[1;32m     55\u001b[0m     \u001b[38;5;28;01mreturn\u001b[39;00m\n\u001b[1;32m     57\u001b[0m \u001b[38;5;28;01mtry\u001b[39;00m:\n\u001b[0;32m---> 58\u001b[0m     result \u001b[38;5;241m=\u001b[39m \u001b[38;5;28;43mself\u001b[39;49m\u001b[38;5;241;43m.\u001b[39;49m\u001b[43mfn\u001b[49m\u001b[43m(\u001b[49m\u001b[38;5;241;43m*\u001b[39;49m\u001b[38;5;28;43mself\u001b[39;49m\u001b[38;5;241;43m.\u001b[39;49m\u001b[43margs\u001b[49m\u001b[43m,\u001b[49m\u001b[43m \u001b[49m\u001b[38;5;241;43m*\u001b[39;49m\u001b[38;5;241;43m*\u001b[39;49m\u001b[38;5;28;43mself\u001b[39;49m\u001b[38;5;241;43m.\u001b[39;49m\u001b[43mkwargs\u001b[49m\u001b[43m)\u001b[49m\n\u001b[1;32m     59\u001b[0m \u001b[38;5;28;01mexcept\u001b[39;00m \u001b[38;5;167;01mBaseException\u001b[39;00m \u001b[38;5;28;01mas\u001b[39;00m exc:\n\u001b[1;32m     60\u001b[0m     \u001b[38;5;28mself\u001b[39m\u001b[38;5;241m.\u001b[39mfuture\u001b[38;5;241m.\u001b[39mset_exception(exc)\n",
      "File \u001b[0;32m~/Skola/exjobb/github_metric_extractor/pyciras.py:130\u001b[0m, in \u001b[0;36m_process_group\u001b[0;34m(current_group, remove_repo_on_complete)\u001b[0m\n\u001b[1;32m    129\u001b[0m \u001b[38;5;28;01mdef\u001b[39;00m \u001b[38;5;21m_process_group\u001b[39m(current_group: \u001b[38;5;28mlist\u001b[39m[\u001b[38;5;28mstr\u001b[39m], remove_repo_on_complete: \u001b[38;5;28mbool\u001b[39m \u001b[38;5;241m=\u001b[39m \u001b[38;5;28;01mTrue\u001b[39;00m):\n\u001b[0;32m--> 130\u001b[0m     \u001b[43mrun_code_quality_analysis\u001b[49m\u001b[43m(\u001b[49m\u001b[43mcurrent_group\u001b[49m\u001b[43m)\u001b[49m\n\u001b[1;32m    131\u001b[0m     run_pydriller_analysis(current_group)\n\u001b[1;32m    132\u001b[0m     \u001b[38;5;28;01mif\u001b[39;00m remove_repo_on_complete:\n",
      "File \u001b[0;32m~/Skola/exjobb/github_metric_extractor/pyciras.py:42\u001b[0m, in \u001b[0;36mrun_code_quality_analysis\u001b[0;34m(repo_urls)\u001b[0m\n\u001b[1;32m     38\u001b[0m repo_paths \u001b[38;5;241m=\u001b[39m repo_cloner\u001b[38;5;241m.\u001b[39mdownload_repositories(repo_urls_list\u001b[38;5;241m=\u001b[39mrepo_urls,\n\u001b[1;32m     39\u001b[0m                                                destination_folder\u001b[38;5;241m=\u001b[39mconfig\u001b[38;5;241m.\u001b[39mREPOSITORIES_FOLDER)\n\u001b[1;32m     41\u001b[0m \u001b[38;5;66;03m# gather metric data\u001b[39;00m\n\u001b[0;32m---> 42\u001b[0m repositories_with_commits \u001b[38;5;241m=\u001b[39m \u001b[43mgit_miner\u001b[49m\u001b[38;5;241;43m.\u001b[39;49m\u001b[43mget_commit_dates\u001b[49m\u001b[43m(\u001b[49m\u001b[43mrepo_paths\u001b[49m\u001b[43m,\u001b[49m\u001b[43m \u001b[49m\u001b[43mrepository_directory\u001b[49m\u001b[38;5;241;43m=\u001b[39;49m\u001b[43mconfig\u001b[49m\u001b[38;5;241;43m.\u001b[39;49m\u001b[43mREPOSITORIES_FOLDER\u001b[49m\u001b[43m)\u001b[49m\n\u001b[1;32m     43\u001b[0m pylint_data \u001b[38;5;241m=\u001b[39m code_quality\u001b[38;5;241m.\u001b[39mmine_pylint_metrics(repositories_with_commits)\n\u001b[1;32m     45\u001b[0m \u001b[38;5;66;03m# write json to file\u001b[39;00m\n",
      "File \u001b[0;32m~/Skola/exjobb/github_metric_extractor/analysis/git_miner.py:101\u001b[0m, in \u001b[0;36mget_commit_dates\u001b[0;34m(repositories, repository_directory)\u001b[0m\n\u001b[1;32m     99\u001b[0m \u001b[38;5;28;01mdef\u001b[39;00m \u001b[38;5;21mget_commit_dates\u001b[39m(repositories: \u001b[38;5;28mlist\u001b[39m[\u001b[38;5;28mstr\u001b[39m], repository_directory: Path) \u001b[38;5;241m-\u001b[39m\u001b[38;5;241m>\u001b[39m \u001b[38;5;28mdict\u001b[39m[\u001b[38;5;28mstr\u001b[39m, \u001b[38;5;28many\u001b[39m]:\n\u001b[1;32m    100\u001b[0m \u001b[38;5;250m    \u001b[39m\u001b[38;5;124;03m\"\"\"Extract commit hash and dates from a list of repositories\"\"\"\u001b[39;00m\n\u001b[0;32m--> 101\u001b[0m     repos \u001b[38;5;241m=\u001b[39m \u001b[43m_load_repositories\u001b[49m\u001b[43m(\u001b[49m\u001b[43mrepositories\u001b[49m\u001b[43m,\u001b[49m\u001b[43m \u001b[49m\u001b[43mrepository_directory\u001b[49m\u001b[43m)\u001b[49m\n\u001b[1;32m    102\u001b[0m     commit_dates \u001b[38;5;241m=\u001b[39m {}\n\u001b[1;32m    103\u001b[0m     \u001b[38;5;28;01mfor\u001b[39;00m address, repo \u001b[38;5;129;01min\u001b[39;00m repos\u001b[38;5;241m.\u001b[39mitems():\n",
      "File \u001b[0;32m~/Skola/exjobb/github_metric_extractor/analysis/git_miner.py:120\u001b[0m, in \u001b[0;36m_load_repositories\u001b[0;34m(repositories, repository_directory)\u001b[0m\n\u001b[1;32m    117\u001b[0m repository_path\u001b[38;5;241m.\u001b[39mmkdir(parents\u001b[38;5;241m=\u001b[39m\u001b[38;5;28;01mTrue\u001b[39;00m, exist_ok\u001b[38;5;241m=\u001b[39m\u001b[38;5;28;01mTrue\u001b[39;00m)\n\u001b[1;32m    118\u001b[0m logging\u001b[38;5;241m.\u001b[39mdebug(\u001b[38;5;124m'\u001b[39m\u001b[38;5;124mLoading repositories.\u001b[39m\u001b[38;5;124m'\u001b[39m)\n\u001b[0;32m--> 120\u001b[0m \u001b[38;5;28;01mreturn\u001b[39;00m \u001b[43m{\u001b[49m\n\u001b[1;32m    121\u001b[0m \u001b[43m    \u001b[49m\u001b[38;5;28;43mstr\u001b[39;49m\u001b[43m(\u001b[49m\u001b[43mrepo_url\u001b[49m\u001b[43m)\u001b[49m\u001b[43m:\u001b[49m\u001b[43m \u001b[49m\u001b[43m_load_repository\u001b[49m\u001b[43m(\u001b[49m\u001b[43mrepo_url\u001b[49m\u001b[43m,\u001b[49m\u001b[43m \u001b[49m\u001b[43mrepository_directory\u001b[49m\u001b[43m)\u001b[49m\u001b[43m \u001b[49m\u001b[38;5;28;43;01mfor\u001b[39;49;00m\u001b[43m \u001b[49m\u001b[43mrepo_url\u001b[49m\u001b[43m \u001b[49m\u001b[38;5;129;43;01min\u001b[39;49;00m\n\u001b[1;32m    122\u001b[0m \u001b[43m    \u001b[49m\u001b[43mRichIterableProgressBar\u001b[49m\u001b[43m(\u001b[49m\u001b[43mrepositories\u001b[49m\u001b[43m,\u001b[49m\n\u001b[1;32m    123\u001b[0m \u001b[43m                            \u001b[49m\u001b[43mdescription\u001b[49m\u001b[38;5;241;43m=\u001b[39;49m\u001b[38;5;124;43m\"\u001b[39;49m\u001b[38;5;124;43mLoading Repositories\u001b[39;49m\u001b[38;5;124;43m\"\u001b[39;49m\u001b[43m)\u001b[49m\u001b[43m}\u001b[49m\n",
      "File \u001b[0;32m~/Skola/exjobb/github_metric_extractor/utility/progress_bars.py:70\u001b[0m, in \u001b[0;36mRichIterableProgressBar.__iter__\u001b[0;34m(self)\u001b[0m\n\u001b[1;32m     68\u001b[0m total_steps \u001b[38;5;241m=\u001b[39m \u001b[38;5;28mlen\u001b[39m(\u001b[38;5;28mself\u001b[39m\u001b[38;5;241m.\u001b[39miterable) \u001b[38;5;28;01mif\u001b[39;00m \u001b[38;5;28mhasattr\u001b[39m(\u001b[38;5;28mself\u001b[39m\u001b[38;5;241m.\u001b[39miterable, \u001b[38;5;124m'\u001b[39m\u001b[38;5;124m__len__\u001b[39m\u001b[38;5;124m'\u001b[39m) \u001b[38;5;28;01melse\u001b[39;00m \u001b[38;5;28;01mNone\u001b[39;00m\n\u001b[1;32m     69\u001b[0m \u001b[38;5;28mself\u001b[39m\u001b[38;5;241m.\u001b[39mtask \u001b[38;5;241m=\u001b[39m \u001b[38;5;28mself\u001b[39m\u001b[38;5;241m.\u001b[39mprogress\u001b[38;5;241m.\u001b[39madd_task(\u001b[38;5;124mf\u001b[39m\u001b[38;5;124m\"\u001b[39m\u001b[38;5;124m[green]\u001b[39m\u001b[38;5;132;01m{\u001b[39;00m\u001b[38;5;28mself\u001b[39m\u001b[38;5;241m.\u001b[39mdescription\u001b[38;5;132;01m}\u001b[39;00m\u001b[38;5;124m...\u001b[39m\u001b[38;5;124m\"\u001b[39m, total\u001b[38;5;241m=\u001b[39mtotal_steps)\n\u001b[0;32m---> 70\u001b[0m \u001b[38;5;28;43mself\u001b[39;49m\u001b[38;5;241;43m.\u001b[39;49m\u001b[43mprogress\u001b[49m\u001b[38;5;241;43m.\u001b[39;49m\u001b[43mstart\u001b[49m\u001b[43m(\u001b[49m\u001b[43m)\u001b[49m\n\u001b[1;32m     71\u001b[0m \u001b[38;5;28;01mreturn\u001b[39;00m \u001b[38;5;28mself\u001b[39m\n",
      "File \u001b[0;32m~/Privat_kod/github_metric_extractor/lib/python3.11/site-packages/rich/progress.py:1159\u001b[0m, in \u001b[0;36mProgress.start\u001b[0;34m(self)\u001b[0m\n\u001b[1;32m   1157\u001b[0m \u001b[38;5;250m\u001b[39m\u001b[38;5;124;03m\"\"\"Start the progress display.\"\"\"\u001b[39;00m\n\u001b[1;32m   1158\u001b[0m \u001b[38;5;28;01mif\u001b[39;00m \u001b[38;5;129;01mnot\u001b[39;00m \u001b[38;5;28mself\u001b[39m\u001b[38;5;241m.\u001b[39mdisable:\n\u001b[0;32m-> 1159\u001b[0m     \u001b[38;5;28;43mself\u001b[39;49m\u001b[38;5;241;43m.\u001b[39;49m\u001b[43mlive\u001b[49m\u001b[38;5;241;43m.\u001b[39;49m\u001b[43mstart\u001b[49m\u001b[43m(\u001b[49m\u001b[43mrefresh\u001b[49m\u001b[38;5;241;43m=\u001b[39;49m\u001b[38;5;28;43;01mTrue\u001b[39;49;00m\u001b[43m)\u001b[49m\n",
      "File \u001b[0;32m~/Privat_kod/github_metric_extractor/lib/python3.11/site-packages/rich/live.py:113\u001b[0m, in \u001b[0;36mLive.start\u001b[0;34m(self, refresh)\u001b[0m\n\u001b[1;32m    111\u001b[0m \u001b[38;5;28;01mif\u001b[39;00m \u001b[38;5;28mself\u001b[39m\u001b[38;5;241m.\u001b[39m_started:\n\u001b[1;32m    112\u001b[0m     \u001b[38;5;28;01mreturn\u001b[39;00m\n\u001b[0;32m--> 113\u001b[0m \u001b[38;5;28;43mself\u001b[39;49m\u001b[38;5;241;43m.\u001b[39;49m\u001b[43mconsole\u001b[49m\u001b[38;5;241;43m.\u001b[39;49m\u001b[43mset_live\u001b[49m\u001b[43m(\u001b[49m\u001b[38;5;28;43mself\u001b[39;49m\u001b[43m)\u001b[49m\n\u001b[1;32m    114\u001b[0m \u001b[38;5;28mself\u001b[39m\u001b[38;5;241m.\u001b[39m_started \u001b[38;5;241m=\u001b[39m \u001b[38;5;28;01mTrue\u001b[39;00m\n\u001b[1;32m    115\u001b[0m \u001b[38;5;28;01mif\u001b[39;00m \u001b[38;5;28mself\u001b[39m\u001b[38;5;241m.\u001b[39m_screen:\n",
      "File \u001b[0;32m~/Privat_kod/github_metric_extractor/lib/python3.11/site-packages/rich/console.py:836\u001b[0m, in \u001b[0;36mConsole.set_live\u001b[0;34m(self, live)\u001b[0m\n\u001b[1;32m    834\u001b[0m \u001b[38;5;28;01mwith\u001b[39;00m \u001b[38;5;28mself\u001b[39m\u001b[38;5;241m.\u001b[39m_lock:\n\u001b[1;32m    835\u001b[0m     \u001b[38;5;28;01mif\u001b[39;00m \u001b[38;5;28mself\u001b[39m\u001b[38;5;241m.\u001b[39m_live \u001b[38;5;129;01mis\u001b[39;00m \u001b[38;5;129;01mnot\u001b[39;00m \u001b[38;5;28;01mNone\u001b[39;00m:\n\u001b[0;32m--> 836\u001b[0m         \u001b[38;5;28;01mraise\u001b[39;00m errors\u001b[38;5;241m.\u001b[39mLiveError(\u001b[38;5;124m\"\u001b[39m\u001b[38;5;124mOnly one live display may be active at once\u001b[39m\u001b[38;5;124m\"\u001b[39m)\n\u001b[1;32m    837\u001b[0m     \u001b[38;5;28mself\u001b[39m\u001b[38;5;241m.\u001b[39m_live \u001b[38;5;241m=\u001b[39m live\n",
      "\u001b[0;31mLiveError\u001b[0m: Only one live display may be active at once"
     ]
    }
   ],
   "source": [
    "pyciras.main()"
   ]
  }
 ],
 "metadata": {
  "kernelspec": {
   "display_name": "Python 3 (ipykernel)",
   "language": "python",
   "name": "python3"
  },
  "language_info": {
   "codemirror_mode": {
    "name": "ipython",
    "version": 3
   },
   "file_extension": ".py",
   "mimetype": "text/x-python",
   "name": "python",
   "nbconvert_exporter": "python",
   "pygments_lexer": "ipython3",
   "version": "3.11.4"
  }
 },
 "nbformat": 4,
 "nbformat_minor": 5
}
