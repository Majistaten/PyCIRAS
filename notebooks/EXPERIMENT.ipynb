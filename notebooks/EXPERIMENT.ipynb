{
 "cells": [
  {
   "cell_type": "markdown",
   "id": "6cbe30f4-2377-4ca8-91e7-f08cf80a9f4b",
   "metadata": {},
   "source": [
    "# EXPERIMENT"
   ]
  },
  {
   "cell_type": "markdown",
   "id": "6a65ffc3-c263-470a-911c-0ca9ce6a46d6",
   "metadata": {},
   "source": [
    "### TODO \n",
    "\n",
    "Se till att repo name är likadant i all data, format: \"owner/repo\"\n"
   ]
  },
  {
   "cell_type": "markdown",
   "id": "70d52093-1b34-4574-a22b-19c38753146b",
   "metadata": {},
   "source": [
    "Analysera varje repository var för sig:\n",
    "\n",
    "Börja vid datumet för första commit och gör en serie med rader:\n",
    "\n",
    "* Col1: Datum, Col2: Pylint global note, Col3: Unit Testing (vilken typ av värde), Col4.. : Metric X, ColN: Stargazers"
   ]
  },
  {
   "cell_type": "markdown",
   "id": "2a070b9e-e8d5-46d5-9c9b-a7c4d724baf3",
   "metadata": {},
   "source": [
    "### Pylint\n",
    "1 CSV per repo. Rad: [Datum, Global Note, Metrics...] - det borde vara bra, borde gå att joina ihop på datum från en annan CSV för t.ex stargazers\n",
    "\n",
    "### Pydriller\n",
    "1 CSV för alla repos. Rad: [Repo, Metrics.. ] - metrics är inte tidsberoende data, utan genomsnitt för ett helt repo och en hel livstidscykel. Kan jämföras direkt mellan repos i formatet det ligger, vilket är bra\n",
    "\n",
    "### Stargazers\n",
    "\n",
    "1 CSV för alla repos. Rad: [Datum, (Header=Repo Cell=Stars)]. Datum flödar i Y led, en kolumn som representerar ett repo borde kunna hämtas lätt.\n",
    "\n",
    "### Unittesting"
   ]
  },
  {
   "cell_type": "markdown",
   "id": "1619d3a3-34ab-49fa-8f48-e04d3a793221",
   "metadata": {},
   "source": [
    "## Joina ihop data"
   ]
  },
  {
   "cell_type": "markdown",
   "id": "98dd4a52-4d8c-4338-b36e-4434cd09be78",
   "metadata": {},
   "source": [
    "Bygg en lista med datum som är de datum som gäller, typ slå samman datumkolumnerna från alla analyser och normalisera. \n",
    "\n",
    "Lägg på kolumner med metrics från från pylint, och andra metrics, och stargazers.\n",
    "\n",
    "Jämför direkt"
   ]
  },
  {
   "cell_type": "code",
   "execution_count": null,
   "id": "0d2384e9-fe3a-42ed-954b-a2d9f5be0d57",
   "metadata": {},
   "outputs": [],
   "source": []
  }
 ],
 "metadata": {
  "kernelspec": {
   "display_name": "Python 3 (ipykernel)",
   "language": "python",
   "name": "python3"
  },
  "language_info": {
   "codemirror_mode": {
    "name": "ipython",
    "version": 3
   },
   "file_extension": ".py",
   "mimetype": "text/x-python",
   "name": "python",
   "nbconvert_exporter": "python",
   "pygments_lexer": "ipython3",
   "version": "3.11.4"
  }
 },
 "nbformat": 4,
 "nbformat_minor": 5
}
